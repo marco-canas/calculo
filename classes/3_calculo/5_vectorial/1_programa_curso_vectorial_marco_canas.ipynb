{
 "cells": [
  {
   "cell_type": "markdown",
   "id": "dc06dec7",
   "metadata": {
    "slideshow": {
     "slide_type": "slide"
    }
   },
   "source": [
    "<table align=\"left\">\n",
    "  <td>\n",
    "    <a href=\"https://colab.research.google.com/github/ageron/handson-ml3/blob/main/tools_numpy.ipynb\" target=\"_parent\"><img src=\"https://colab.research.google.com/assets/colab-badge.svg\" alt=\"Open In Colab\"/></a>\n",
    "  </td>\n",
    "  <td>\n",
    "    <a target=\"_blank\" href=\"https://kaggle.com/kernels/welcome?src=https://github.com/ageron/handson-ml3/blob/main/tools_numpy.ipynb\"><img src=\"https://kaggle.com/static/images/open-in-kaggle.svg\" /></a>\n",
    "  </td>\n",
    "</table>"
   ]
  },
  {
   "cell_type": "markdown",
   "id": "e0c5b198",
   "metadata": {
    "slideshow": {
     "slide_type": "slide"
    }
   },
   "source": [
    "### [Video de apoyo a la lectura interactiva y experimental de este cuaderno]()"
   ]
  },
  {
   "cell_type": "markdown",
   "id": "d7598d0a-d9b7-4ae0-b029-a0ed6ed1130b",
   "metadata": {},
   "source": [
    "\n",
    "# Principios de mi labor docente"
   ]
  },
  {
   "cell_type": "markdown",
   "id": "4f9d8cf9",
   "metadata": {
    "slideshow": {
     "slide_type": "slide"
    }
   },
   "source": [
    "## Modelo general de clase: [aula invertida](https://www3.gobiernodecanarias.org/medusa/ecoescuela/pedagotic/aprendizaje-invertido-flipped-classroom/)"
   ]
  },
  {
   "cell_type": "markdown",
   "id": "eb6ed03a",
   "metadata": {},
   "source": [
    "<img src = 'https://resources.maneuveringthemiddle.com/wp-content/uploads/2020/07/04212706/1-5.png' width = 200>  \n",
    "\n"
   ]
  },
  {
   "cell_type": "markdown",
   "id": "34319cce-a71b-4f64-aab8-b53e521efa40",
   "metadata": {},
   "source": [
    "# Metodología de enseñanza basada en problemas (ABP)\n"
   ]
  },
  {
   "cell_type": "markdown",
   "id": "c4f73d81",
   "metadata": {},
   "source": [
    "\n",
    "<img src = 'https://www.unir.net/wp-content/uploads/2020/07/aprendizaje-problemas2-1-1-1-1.jpeg' width = 200>"
   ]
  },
  {
   "cell_type": "markdown",
   "id": "841a985c-bd9b-4dd3-8e4c-893983980af2",
   "metadata": {},
   "source": [
    "# Desarrollo del pensamiento computacional con python y cuadernos Jupyter  orientado a la formación en ciencia de datos \n",
    "\n"
   ]
  },
  {
   "cell_type": "markdown",
   "id": "3d0eba94",
   "metadata": {},
   "source": [
    "\n",
    "<img src = 'https://i.ytimg.com/vi/mcG_wcR4e6M/maxresdefault.jpg' width = 200>"
   ]
  },
  {
   "cell_type": "markdown",
   "id": "65aa0404-f7ae-495e-864c-1aec01b4255e",
   "metadata": {},
   "source": [
    "# Principio de fomento a la ciencia abierta, enseñar en el acceso a los datos públicos y el uso de software de código abierto  \n"
   ]
  },
  {
   "cell_type": "markdown",
   "id": "18ae9b87",
   "metadata": {},
   "source": [
    "\n",
    "<img src = 'https://unesdoc.unesco.org/in/rest/Thumb/image?id=p%3A%3Ausmarcdef_0000379949_spa&author=UNESCO&title=Recomendaci%C3%B3n+de+la+UNESCO+sobre+la+Ciencia+Abierta&year=2021&publisher=UNESCO&TypeOfDocument=UnescoPhysicalDocument&mat=PGD&ct=true&size=512&isPhysical=1' width = 200>"
   ]
  },
  {
   "cell_type": "markdown",
   "id": "d9559f85",
   "metadata": {},
   "source": [
    "El enfoque STEAMS en educación preescolar, primaria y secundaria es una extensión del enfoque STEM (Ciencia, Tecnología, Ingeniería y Matemáticas) y su variante STEAM, que incorpora el Arte. "
   ]
  },
  {
   "cell_type": "markdown",
   "id": "72e1cfd2",
   "metadata": {},
   "source": [
    "El acrónimo STEAMS incluye:\n"
   ]
  },
  {
   "cell_type": "markdown",
   "id": "03182fd1",
   "metadata": {},
   "source": [
    "\n",
    "1. **Science (Ciencia):** Fomenta la curiosidad por el mundo natural y el desarrollo de habilidades científicas, como la observación, experimentación y análisis.\n"
   ]
  },
  {
   "cell_type": "markdown",
   "id": "1306d0fa",
   "metadata": {},
   "source": [
    "\n",
    "2. **Technology (Tecnología):** Integra herramientas tecnológicas para potenciar el aprendizaje y la resolución de problemas, promoviendo la alfabetización digital desde edades tempranas.\n"
   ]
  },
  {
   "cell_type": "markdown",
   "id": "3b1a53e8",
   "metadata": {},
   "source": [
    "\n",
    "3. **Engineering (Ingeniería):** Introduce el pensamiento lógico y la resolución de problemas estructurados, fomentando habilidades como el diseño y la construcción de soluciones.\n"
   ]
  },
  {
   "cell_type": "markdown",
   "id": "0196de87",
   "metadata": {},
   "source": [
    "\n",
    "4. **Arts (Arte):** Añade creatividad y pensamiento crítico, permitiendo a los estudiantes expresarse y explorar el aprendizaje a través de formas artísticas (plásticas, música, teatro).\n"
   ]
  },
  {
   "cell_type": "markdown",
   "id": "8bcc485a",
   "metadata": {},
   "source": [
    "\n",
    "5. **Mathematics (Matemáticas):** Refuerza las habilidades numéricas y el razonamiento lógico, fundamentales en la resolución de problemas y comprensión de conceptos abstractos.\n"
   ]
  },
  {
   "cell_type": "markdown",
   "id": "907935f4",
   "metadata": {},
   "source": [
    "\n",
    "6. **Social Sciences (Ciencias Sociales):** Incorpora la comprensión del entorno social, político, cultural y económico, promoviendo el desarrollo de la conciencia crítica sobre el mundo y su historia, además de habilidades de empatía y ciudadanía.\n"
   ]
  },
  {
   "cell_type": "markdown",
   "id": "39967d63",
   "metadata": {},
   "source": [
    "\n",
    "El enfoque STEAMS pretende desarrollar un aprendizaje **interdisciplinario** que integre estas áreas para fomentar un pensamiento más holístico y práctico. "
   ]
  },
  {
   "cell_type": "markdown",
   "id": "5145f077",
   "metadata": {},
   "source": [
    "Se busca que los estudiantes no solo aprendan conocimientos técnicos, sino también cómo aplicarlos creativa y críticamente en situaciones reales, promoviendo habilidades como el trabajo en equipo, la comunicación y la innovación. "
   ]
  },
  {
   "cell_type": "markdown",
   "id": "9d556584",
   "metadata": {},
   "source": [
    "En educación preescolar, primaria, secundaria y superior, se adapta a las diferentes etapas de desarrollo cognitivo y emocional de los estudiantes, promoviendo el aprendizaje activo y contextualizado.  \n"
   ]
  },
  {
   "cell_type": "markdown",
   "id": "0130ec1b",
   "metadata": {},
   "source": [
    "\n",
    "<img src = 'https://www.campuseducacion.com/blog/wp-content/uploads/2023/03/foto01-1.jpg' width = 200>"
   ]
  },
  {
   "cell_type": "markdown",
   "id": "9d15c10d-2c02-4158-9419-b1ed79b4c1ee",
   "metadata": {},
   "source": [
    "# Qué estamos haciendo por la internalización en esta clase y este curso  \n"
   ]
  },
  {
   "cell_type": "markdown",
   "id": "6e4feef2",
   "metadata": {},
   "source": [
    "Estas son mis acciones como docente de matemáticas en la Universidad de Antioquia con miras a la **internacionalización** de mi práctica docente y el desarrollo de competencias internacionales para mis estudiantes, ls cuales he estructurado con el siguiente enfoque:\n"
   ]
  },
  {
   "cell_type": "markdown",
   "id": "964d9de7-53ee-4255-9bcd-d8e6454f2993",
   "metadata": {},
   "source": [
    "### 1. **Visión Global en la Formación Académica**\n"
   ]
  },
  {
   "cell_type": "markdown",
   "id": "d9bdd3e2",
   "metadata": {},
   "source": [
    "   - **Competencias Internacionales**: Asegúrate de que el contenido de tus cursos fomente habilidades que sean reconocidas globalmente. "
   ]
  },
  {
   "cell_type": "markdown",
   "id": "7f1b7879",
   "metadata": {},
   "source": [
    "Al educar a los estudiantes en **Python, LaTeX, Markdown y Jupyter Notebooks** y en la **introducción a la ciencia de datos y técnicas de Machine Learning**, estás proporcionando competencias altamente demandadas en los sectores tecnológicos y académicos a nivel internacional.\n"
   ]
  },
  {
   "cell_type": "markdown",
   "id": "39b55206",
   "metadata": {},
   "source": [
    "   - **Relevancia de los Contenidos**: Destaca cómo los temas que enseñas, como el **desarrollo del pensamiento computacional** y la **ciencia de datos**, están alineados con las necesidades globales actuales en diversas industrias, desde la tecnología hasta las ciencias naturales y sociales.\n"
   ]
  },
  {
   "cell_type": "markdown",
   "id": "a054599e",
   "metadata": {},
   "source": [
    "   - **Referencias a Estándares Internacionales**: Puedes vincular tu enseñanza a estándares internacionales de competencias en programación y ciencia de datos (por ejemplo, frameworks del **IEEE, ACM**, y estándares de la **data science** o la **computación en la nube**)."
   ]
  },
  {
   "cell_type": "markdown",
   "id": "0f1d110c-3142-48fe-9e7d-5fbd9e8bb931",
   "metadata": {},
   "source": [
    "### 2. **Innovación Pedagógica con Enfoque Internacional**\n"
   ]
  },
  {
   "cell_type": "markdown",
   "id": "fae6ae34",
   "metadata": {},
   "source": [
    "   - **Aula Invertida y ABP**: Presenta cómo tu enfoque de **aula invertida** y **aprendizaje basado en problemas (ABP)** permite a los estudiantes trabajar de manera autónoma y colaborativa, lo que los prepara para escenarios laborales internacionales que requieren autoaprendizaje y habilidades de resolución de problemas en equipo.\n"
   ]
  },
  {
   "cell_type": "markdown",
   "id": "c83062d9",
   "metadata": {},
   "source": [
    "   - **Uso de Jupyter Notebooks**: El uso de **Jupyter Notebooks** en tus clases no solo facilita la **integración de código, matemáticas y texto**, sino que también es una plataforma utilizada globalmente en ambientes académicos y profesionales, lo que hace a tus estudiantes más competitivos internacionalmente."
   ]
  },
  {
   "cell_type": "markdown",
   "id": "960d52b7-03cd-4eb3-965e-5cdfeb7d9f8e",
   "metadata": {},
   "source": [
    "### 3. **Tecnología y Herramientas de Uso Global**\n"
   ]
  },
  {
   "cell_type": "markdown",
   "id": "4be7269f",
   "metadata": {},
   "source": [
    "   - **Lenguaje Python**: Python es uno de los lenguajes de programación más usados a nivel mundial, tanto en la academia como en la industria. Al formar a tus estudiantes en Python para ciencia de datos y machine learning, los preparas para operar en entornos tecnológicos globales.\n"
   ]
  },
  {
   "cell_type": "markdown",
   "id": "102655af",
   "metadata": {},
   "source": [
    "   - **Herramientas de Ciencia Abierta**: Resalta cómo herramientas como **GitHub**, **Google Colab** y otras plataformas de código abierto están alineadas con el movimiento de **ciencia abierta**, el cual es internacionalmente reconocido y permite que los estudiantes colaboren y compartan proyectos a nivel global."
   ]
  },
  {
   "cell_type": "markdown",
   "id": "3b2ffa32-7a6f-4545-ba7b-c6a69f51109f",
   "metadata": {},
   "source": [
    "### 4. **Investigación y Publicaciones Internacionales**\n"
   ]
  },
  {
   "cell_type": "markdown",
   "id": "bdbf52a5",
   "metadata": {},
   "source": [
    "   - **Promoción de la Investigación**: Detalla cómo promueves que tus estudiantes participen en proyectos de **investigación aplicada**, con posibilidad de publicación en revistas internacionales. Esto contribuye a la reputación internacional de la Universidad de Antioquia.\n"
   ]
  },
  {
   "cell_type": "markdown",
   "id": "ea01fcbc",
   "metadata": {},
   "source": [
    "   - **Colaboraciones Internacionales**: Si has colaborado con investigadores de otras instituciones o universidades en el extranjero, menciona estos proyectos y cómo han enriquecido tu enseñanza y proporcionado a los estudiantes una visión más globalizada."
   ]
  },
  {
   "cell_type": "markdown",
   "id": "5d1e396e-aece-4bf7-9421-32fa7809eaf4",
   "metadata": {},
   "source": [
    "## 5. **Uso del Inglés para la Internacionalización**\n"
   ]
  },
  {
   "cell_type": "markdown",
   "id": "29cabf26",
   "metadata": {},
   "source": [
    "   - **Comunicación Científica en Inglés**: "
   ]
  },
  {
   "cell_type": "markdown",
   "id": "8ec53ff3",
   "metadata": {},
   "source": [
    "Fomentar el aprendizaje del inglés como lengua científica es clave para que tus estudiantes puedan acceder a publicaciones internacionales, conferencias, y material académico que no está disponible en español. "
   ]
  },
  {
   "cell_type": "markdown",
   "id": "3944024d",
   "metadata": {},
   "source": [
    "Esto es esencial para que adquieran competencias que les permitan desempeñarse en cualquier contexto internacional.\n"
   ]
  },
  {
   "cell_type": "markdown",
   "id": "b831224f",
   "metadata": {},
   "source": [
    "   - **Material Bilingüe**: Al generar material educativo en Python, LaTeX y Markdown, considera ofrecer algunos de estos recursos en inglés, para que los estudiantes se familiaricen con el vocabulario técnico y científico internacional."
   ]
  },
  {
   "cell_type": "markdown",
   "id": "c6a8c3b0-426a-4692-a384-3065aea81c9a",
   "metadata": {},
   "source": [
    "### 6. **Certificaciones y Estándares Internacionales**\n"
   ]
  },
  {
   "cell_type": "markdown",
   "id": "b1f41da5",
   "metadata": {},
   "source": [
    "   - **Participación en Certificaciones Internacionales**: Impulsa que los estudiantes busquen certificaciones internacionales en Python o ciencia de datos (como las ofrecidas por **Coursera, edX,** o **Google**). "
   ]
  },
  {
   "cell_type": "markdown",
   "id": "722c83af",
   "metadata": {},
   "source": [
    "Estas certificaciones no solo validan sus competencias, sino que también incrementan el reconocimiento de la Universidad de Antioquia en el contexto internacional.\n"
   ]
  },
  {
   "cell_type": "markdown",
   "id": "7cc66317",
   "metadata": {},
   "source": [
    "   - **Alineación con Acreditaciones Internacionales**: Vincula tu trabajo docente con los estándares de acreditación y certificación que garantizan que la universidad siga siendo reconocida internacionalmente. "
   ]
  },
  {
   "cell_type": "markdown",
   "id": "f175f136",
   "metadata": {},
   "source": [
    "Puedes vincularte con organizaciones internacionales que promuevan la excelencia en la educación y tecnología, como **ABET** para la acreditación en ingeniería y ciencias computacionales."
   ]
  },
  {
   "cell_type": "markdown",
   "id": "65d3d9e1-ea84-43e0-8197-a2a9c9e21594",
   "metadata": {},
   "source": [
    "### 7. **Proyectos Abiertos y Ciencia Reproducible**\n"
   ]
  },
  {
   "cell_type": "markdown",
   "id": "f03f7b20",
   "metadata": {},
   "source": [
    "   - **GitHub y Open Science**: La utilización de **GitHub** para almacenar los proyectos y materiales de enseñanza en repositorios públicos permite que otros investigadores y educadores internacionales puedan revisar y replicar tu trabajo. Esto contribuye a la creación de una red de colaboración científica abierta.\n"
   ]
  },
  {
   "cell_type": "markdown",
   "id": "19243f99",
   "metadata": {},
   "source": [
    "   - **Transparencia y Reproducibilidad**: La ciencia de datos y machine learning están profundamente ligados a la reproducibilidad. Asegura que tus estudiantes desarrollen prácticas de transparencia y documentación en la investigación, que son pilares en la comunidad científica global.\n"
   ]
  },
  {
   "cell_type": "markdown",
   "id": "215cb551",
   "metadata": {},
   "source": [
    "\n",
    "### 8. **Participación en Redes y Conferencias Internacionales**\n",
    "   - **Presentación en Conferencias Internacionales**: Destaca cómo tu participación en conferencias internacionales (como la **ASCOLFA** o eventos sobre educación en matemáticas) contribuye al prestigio de la universidad y permite que tus prácticas sean evaluadas y reconocidas a nivel global.\n"
   ]
  },
  {
   "cell_type": "markdown",
   "id": "cdf46e29",
   "metadata": {},
   "source": [
    "   - **Promoción de Estudiantes en Eventos Internacionales**: Impulsa la participación de tus estudiantes en competiciones internacionales de programación o hackathons, como los organizados por **Google**, **ACM** o **Kaggle**. "
   ]
  },
  {
   "cell_type": "markdown",
   "id": "4695e673",
   "metadata": {},
   "source": [
    "Esto no solo desarrolla sus habilidades, sino que también visibiliza el talento de la Universidad de Antioquia a nivel global.\n",
    "\n",
    "---"
   ]
  },
  {
   "cell_type": "markdown",
   "id": "233294a4-1983-4641-a7ad-866825e02315",
   "metadata": {},
   "source": [
    "Con esta estrategia, presento mis acciones docentes en términos de competencias internacionales, innovación pedagógica, tecnología, investigación y participación en redes globales, asegurando que mi práctica esté alineada con los estándares internacionales y que tus estudiantes estén preparados para competir en contextos internacionales."
   ]
  },
  {
   "cell_type": "markdown",
   "id": "77da458b",
   "metadata": {},
   "source": [
    "### **Metodología de Enseñanza: Aprendizaje Basado en Problemas y Proyectos (ABPP)**\n"
   ]
  },
  {
   "cell_type": "markdown",
   "id": "c943d273",
   "metadata": {},
   "source": [
    "\n",
    "El **Aprendizaje Basado en Problemas y Proyectos (ABPP)** es una metodología educativa que integra los enfoques del **Aprendizaje Basado en Problemas (ABP)** y el **Aprendizaje Basado en Proyectos (PBL, por sus siglas en inglés)**. "
   ]
  },
  {
   "cell_type": "markdown",
   "id": "aaf71a84",
   "metadata": {},
   "source": [
    "Es especialmente útil para la formación de futuros docentes, ingenieros y administradores, ya que combina el desarrollo de habilidades prácticas con el pensamiento crítico y reflexivo. A continuación, se presenta una descripción adaptada a la enseñanza de las matemáticas en educación infantil, Licenciatura en Matemáticas, Ingeniería Agropecuaria y Administración de Empresas:\n",
    "\n",
    "---\n"
   ]
  },
  {
   "cell_type": "markdown",
   "id": "0eeba3f5",
   "metadata": {},
   "source": [
    "\n",
    "### **1. Fundamentos del ABPP**\n",
    "El ABPP se basa en:\n",
    "- **Resolución de Problemas Reales:** Los estudiantes analizan y resuelven problemas auténticos relacionados con su área de formación, fomentando la aplicación práctica del conocimiento.\n",
    "- **Proyectos como Herramientas Integradoras:** Los proyectos permiten desarrollar habilidades interdisciplinarias y ofrecer soluciones concretas a los problemas planteados.\n",
    "- **Aprendizaje Activo:** Los estudiantes son responsables de su aprendizaje y participan activamente en el proceso de investigación, diseño y solución.\n",
    "\n",
    "---\n"
   ]
  },
  {
   "cell_type": "markdown",
   "id": "3728d010",
   "metadata": {},
   "source": [
    "\n",
    "### **2. Aplicación del ABPP en Áreas Específicas**\n",
    "\n",
    "#### **Educación Infantil (Licenciatura en Educación Infantil)**\n",
    "- **Enfoque:** Desarrollo del pensamiento matemático en la infancia desde contextos lúdicos, familiares y culturales.\n",
    "- **Problemas típicos:** \n",
    "  - ¿Cómo enseñar los números naturales mediante actividades prácticas y juegos?\n",
    "  - ¿Qué estrategias pueden emplearse para abordar el concepto de cantidad en edades tempranas?\n",
    "- **Proyectos:** Diseño de secuencias didácticas que usen Python, Jupyter Notebooks y materiales manipulativos para enseñar matemáticas de forma interactiva.\n",
    "- **Competencias desarrolladas:** \n",
    "  - Uso de herramientas tecnológicas para diseñar actividades educativas.\n",
    "  - Comprensión del desarrollo cognitivo infantil y su relación con las matemáticas.\n"
   ]
  },
  {
   "cell_type": "markdown",
   "id": "481f614a",
   "metadata": {},
   "source": [
    "\n",
    "#### **Licenciatura en Matemáticas**\n",
    "- **Enfoque:** Resolución de problemas matemáticos aplicados y profundización teórica en áreas como análisis matemático y modelado.\n",
    "- **Problemas típicos:**\n",
    "  - ¿Cómo se pueden resolver ecuaciones diferenciales aplicadas a modelos físicos o económicos?\n",
    "  - ¿Cómo modelar fenómenos naturales mediante funciones matemáticas?\n",
    "- **Proyectos:** \n",
    "  - Desarrollo de software educativo para explorar conceptos matemáticos.\n",
    "  - Aplicación de modelado matemático para resolver problemas reales en otras disciplinas.\n",
    "- **Competencias desarrolladas:**\n",
    "  - Dominio de la matemática teórica y aplicada.\n",
    "  - Uso de tecnología para la enseñanza y la investigación.\n"
   ]
  },
  {
   "cell_type": "markdown",
   "id": "83ab236f",
   "metadata": {},
   "source": [
    "\n",
    "#### **Ingeniería Agropecuaria**\n",
    "- **Enfoque:** Modelado matemático y análisis de datos para mejorar la producción agrícola y la gestión de recursos.\n",
    "- **Problemas típicos:**\n",
    "  - ¿Cómo modelar el crecimiento de cultivos considerando variables climáticas?\n",
    "  - ¿Cómo optimizar el uso del agua en sistemas de riego mediante análisis matemático?\n",
    "- **Proyectos:** \n",
    "  - Desarrollo de modelos predictivos con Python y bibliotecas de aprendizaje automático.\n",
    "  - Implementación de proyectos que combinen matemáticas y ciencias de datos para resolver problemas agrícolas.\n"
   ]
  },
  {
   "cell_type": "markdown",
   "id": "005de39c",
   "metadata": {},
   "source": [
    "- **Competencias desarrolladas:**\n",
    "  - Integración de matemáticas con tecnologías avanzadas.\n",
    "  - Resolución de problemas agropecuarios mediante análisis y modelado.\n"
   ]
  },
  {
   "cell_type": "markdown",
   "id": "c4519bb3",
   "metadata": {},
   "source": [
    "\n",
    "#### **Administración de Empresas**\n"
   ]
  },
  {
   "cell_type": "markdown",
   "id": "11ecb142",
   "metadata": {},
   "source": [
    "- **Enfoque:** Uso de las matemáticas y la ciencia de datos para la toma de decisiones estratégicas.\n",
    "- **Problemas típicos:**\n",
    "  - ¿Cómo identificar patrones de comportamiento del consumidor usando series de tiempo?\n",
    "  - ¿Qué estrategias matemáticas pueden optimizar la asignación de recursos en una empresa?\n",
    "- **Proyectos:** \n",
    "  - Implementación de modelos de análisis financiero y simulaciones.\n",
    "  - Desarrollo de dashboards interactivos para la gestión de datos empresariales.\n"
   ]
  },
  {
   "cell_type": "markdown",
   "id": "21a3d57f",
   "metadata": {},
   "source": [
    "- **Competencias desarrolladas:**\n",
    "  - Habilidad para interpretar datos matemáticos en contextos de negocio.\n",
    "  - Capacidad para diseñar soluciones basadas en datos.\n",
    "\n",
    "---\n"
   ]
  },
  {
   "cell_type": "markdown",
   "id": "19be58d4",
   "metadata": {},
   "source": [
    "\n",
    "### **3. Beneficios del ABPP**\n",
    "- **Desarrollo de competencias clave:**\n",
    "  - Pensamiento crítico y creativo.\n",
    "  - Trabajo colaborativo.\n",
    "  - Comunicación efectiva.\n",
    "  - Uso de herramientas tecnológicas avanzadas.\n",
    "- **Adaptación al contexto laboral:** Los estudiantes aprenden a enfrentar desafíos del mundo real y a diseñar soluciones prácticas y aplicables.\n",
    "- **Flexibilidad e interdisciplinariedad:** La metodología se adapta a diversas áreas, fomentando el aprendizaje integrado.\n",
    "\n",
    "---\n"
   ]
  },
  {
   "cell_type": "markdown",
   "id": "e36034c3",
   "metadata": {},
   "source": [
    "\n",
    "### **4. Ejemplo General de Implementación**\n",
    "1. **Identificación del problema:** Se plantea un desafío concreto, como modelar el crecimiento poblacional de una comunidad rural (Ingeniería Agropecuaria) o diseñar una estrategia para enseñar fracciones a niños de 8 años (Educación Infantil).\n",
    "2. **Formación de equipos:** Los estudiantes trabajan en grupos, distribuyendo roles y tareas.\n",
    "3. **Investigación y diseño:** Los estudiantes investigan el problema, proponen soluciones y diseñan un proyecto.\n",
    "4. **Implementación:** Se desarrolla el proyecto, como una herramienta tecnológica o una propuesta pedagógica.\n",
    "5. **Evaluación:** Los estudiantes presentan sus resultados en un informe o una exposición, recibiendo retroalimentación de sus compañeros y docentes.\n",
    "\n",
    "---\n"
   ]
  },
  {
   "cell_type": "markdown",
   "id": "bedcd6fe",
   "metadata": {},
   "source": [
    "\n",
    "El ABPP es una metodología versátil que conecta el conocimiento teórico con la práctica, preparando a los estudiantes para los retos de sus profesiones en la enseñanza de la matemática, la ingeniería y la administración."
   ]
  },
  {
   "cell_type": "markdown",
   "id": "8d97dc80",
   "metadata": {
    "slideshow": {
     "slide_type": "slide"
    }
   },
   "source": [
    "## Fomento de la lectura literaria asociada a Ingeniería agropecuaria y licenciatura en Matemáticas\n",
    "\n",
    "[Aprender a obtener el sí sin ceder]()"
   ]
  },
  {
   "cell_type": "markdown",
   "id": "96775931",
   "metadata": {
    "slideshow": {
     "slide_type": "slide"
    }
   },
   "source": [
    "## Título de la clase: Programa de Curso de Cálculo Vectorial para Ingeniería Agropecuaria 2025 - 1  \n",
    "\n",
    "[]()"
   ]
  },
  {
   "cell_type": "code",
   "execution_count": 5,
   "id": "225607b3",
   "metadata": {},
   "outputs": [
    {
     "data": {
      "text/plain": [
       "'C:\\\\Users\\\\marco\\\\Documentos\\\\docencia\\\\calculo\\\\classes\\\\3_calculo\\\\5_calculo_vectorial\\\\mapa_conceptual_curso.pdf'"
      ]
     },
     "execution_count": 5,
     "metadata": {},
     "output_type": "execute_result"
    }
   ],
   "source": [
    "from graphviz import Digraph\n",
    "\n",
    "# Crear un nuevo grafo dirigido\n",
    "dot = Digraph(comment='Mapa Conceptual Curso Cálculo Vectorial', \n",
    "             graph_attr={'rankdir': 'TB', 'splines': 'ortho', 'nodesep': '0.5'},\n",
    "             node_attr={'shape': 'box', 'style': 'rounded,filled', 'fillcolor': 'lightgoldenrodyellow'},\n",
    "             edge_attr={'arrowsize': '0.7'})\n",
    "\n",
    "# Nodo principal\n",
    "main_concept = 'Cálculo Vectorial y de Varias Variables\\npara Ingeniería Agropecuaria'\n",
    "dot.node('A', main_concept, shape='doubleoctagon', fillcolor='lightblue')\n",
    "\n",
    "# Nodos principales\n",
    "nodes = {\n",
    "    'B': 'Enfoques Pedagógicos\\n(Flipped Learning, STEAMS, ABPP)',\n",
    "    'C': 'Capítulos y Contenidos',\n",
    "    'D': 'Proyectos Integradores',\n",
    "    'E': 'Recursos Tecnológicos',\n",
    "    'F': 'Evaluación',\n",
    "    'G': 'Formación Integral\\n(Ética, Estética, Lógica, Política)'\n",
    "}\n",
    "\n",
    "# Añadir nodos principales\n",
    "for key, label in nodes.items():\n",
    "    dot.node(key, label)\n",
    "\n",
    "# Conexiones principales (usando tuplas)\n",
    "dot.edges([('A', 'B'), ('A', 'C'), ('A', 'D'), \n",
    "          ('A', 'E'), ('A', 'F'), ('A', 'G')])\n",
    "\n",
    "# Subnodos y conexiones\n",
    "## Enfoques Pedagógicos (B)\n",
    "dot.node('B1', 'Aprendizaje Invertido\\n(Videos YouTube + GitHub previo a clase)')\n",
    "dot.node('B2', 'STEAMS\\n(Arte anamórfico, Hiperboloides)')\n",
    "dot.node('B3', 'ABPP\\n(Proyectos con Python y GitHub)')\n",
    "dot.edges([('B', 'B1'), ('B', 'B2'), ('B', 'B3')])\n",
    "\n",
    "## Capítulos (C)\n",
    "capitulos = {\n",
    "    'C1': '10: Cónicas/Coordenadas Polares',\n",
    "    'C2': '11: Vectores en el Espacio',\n",
    "    'C3': '12: Funciones Vectoriales',\n",
    "    'C4': '13: Funciones Multivariables',\n",
    "    'C5': '14: Integración Múltiple',\n",
    "    'C6': '15: Análisis Vectorial'\n",
    "}\n",
    "for key, label in capitulos.items():\n",
    "    dot.node(key, label)\n",
    "dot.edges([('C', 'C1'), ('C', 'C2'), ('C', 'C3'),\n",
    "          ('C', 'C4'), ('C', 'C5'), ('C', 'C6')])\n",
    "\n",
    "## Proyectos (D)\n",
    "proyectos = {\n",
    "    'D1': 'Cicloides (Cap.10)\\nModelado trayectorias siembra',\n",
    "    'D2': 'Arte Anamórfico (Cap.10)\\nVisualización geoespacial',\n",
    "    'D3': 'Flora Silvestre (Cap.13)\\nModelado 3D especies',\n",
    "    'D4': 'Hiperboloide (Cap.15)\\nDiseño estructuras'\n",
    "}\n",
    "for key, label in proyectos.items():\n",
    "    dot.node(key, label)\n",
    "dot.edges([('D', 'D1'), ('D', 'D2'), ('D', 'D3'), ('D', 'D4')])\n",
    "\n",
    "## Recursos (E)\n",
    "recursos = {\n",
    "    'E1': 'Python\\n(NumPy, SymPy, Matplotlib)',\n",
    "    'E2': 'Jupyter Notebooks\\n(Google Colab, VS Code)',\n",
    "    'E3': 'GitHub\\n(Repositorio colaborativo)',\n",
    "    'E4': 'LaTeX/Markdown\\n(Documentación científica)'\n",
    "}\n",
    "for key, label in recursos.items():\n",
    "    dot.node(key, label)\n",
    "dot.edges([('E', 'E1'), ('E', 'E2'), ('E', 'E3'), ('E', 'E4')])\n",
    "\n",
    "## Conexiones transversales (tuplas explícitas)\n",
    "transversales = [\n",
    "    ('C1', 'D1'), ('C1', 'D2'), ('C4', 'D3'), ('C6', 'D4'),\n",
    "    ('B1', 'E3'), ('B2', 'E1'), ('B3', 'E3'),\n",
    "    ('E1', 'D1'), ('E3', 'D4'), ('E4', 'F')\n",
    "]\n",
    "dot.edges(transversales)\n",
    "\n",
    "# Guardar y visualizar\n",
    "dot.render(filename='mapa_conceptual_curso',\n",
    "          format='png',\n",
    "          cleanup=True,\n",
    "          directory='C:/Users/marco/Documentos/docencia/calculo/classes/3_calculo/5_calculo_vectorial')\n",
    "\n",
    "dot.view()"
   ]
  },
  {
   "cell_type": "markdown",
   "id": "10e55ccf",
   "metadata": {},
   "source": [
    "# Estructura general para todas las clases\n",
    "\n",
    "Dame, por favor, un diseño de clase, con el enfoque: <<De aprendizaje basado en problemas y proyectos(ABPP)>> sobre:<<Tema de la clase>>, siguiendo la estructura: \n",
    "1. Título de la clase \n",
    "2. Objetivo de aprendizaje\n",
    "3. Contenido de la clase\n",
    "4. Actividades de aprendizaje\n",
    "5. Tarea o actividades de ejercitación y fijación\n",
    "6. Diseño de actividad de retroalimentación.   \n",
    "\n",
    "Pero  que este diseño sea para que el estudiante pueda aprender experimentando en cuadernos Jupyter con funciones de usuario y animaciones y visualizaciones en python. "
   ]
  },
  {
   "cell_type": "markdown",
   "id": "5c857c8d",
   "metadata": {},
   "source": [
    "# Prompt para diseño del programa del curso de cálculo vectorial    \n",
    "\n",
    "Dame la parte del programa de microcurrículo para un curso de cálculo Vectorial y de Varias Variables para Ingeniería Agropecuaria, correspondiente a: \" \"; pero teniendo en cuenta los enfoques pedagógicos de enseñanza:  \n",
    "\n",
    "1. Aprendizaje invertido o flipped learning   \n",
    "2. STEAMS  \n",
    "3. Aprendizaje Basado en Problemas y Proyectos (ABPP).    \n",
    "   \n",
    "Siendo que el contenido para esta curso es:  \n",
    "\n",
    "## DESCRIPCIÓN DE LOS CONOCIMIENTOS Y TEMAS\n",
    "\n",
    "### **CAPÍTULO 10: Cónicas, ecuaciones paramétricas y coordenadas polares**\n",
    "- 10.1 Cónicas y cálculo\n",
    "- 10.2 Curvas planas y ecuaciones paramétricas\n",
    "- Proyecto: Cicloides\n",
    "- 10.3 Ecuaciones paramétricas y cálculo\n",
    "- 10.4 Coordenadas polares y gráficas polares\n",
    "- Proyecto: Arte anamórfico\n",
    "- 10.5 Área y longitud de arco en coordenadas polares\n",
    "- 10.6 Ecuaciones polares de las cónicas y leyes de Kepler\n",
    "- Ejercicios de repaso y solución de problemas\n",
    "\n",
    "### **CAPÍTULO 11: Vectores y la geometría del espacio**\n",
    "- 11.1 Vectores en el plano\n",
    "- 11.2 Coordenadas y vectores en el espacio\n",
    "- 11.3 Producto escalar y producto vectorial\n",
    "- 11.4 Rectas y planos en el espacio\n",
    "- Proyecto: Distancias en el espacio\n",
    "- 11.5 Superficies en el espacio\n",
    "- 11.6 Coordenadas cilíndricas y esféricas\n",
    "- Ejercicios de repaso y solución de problemas\n",
    "\n",
    "### **CAPÍTULO 12: Funciones vectoriales**\n",
    "- 12.1 Definición y propiedades\n",
    "- Proyecto: \n",
    "- 12.2 Derivación e integración de funciones vectoriales\n",
    "- 12.3 Velocidad y aceleración\n",
    "- 12.4 Vectores tangentes y normales\n",
    "- 12.5 Longitud de arco y curvatura\n",
    "- Ejercicios de repaso y solución de problemas\n",
    "\n",
    "### **CAPÍTULO 13: Funciones de varias variables**\n",
    "- 13.1 Introducción\n",
    "- 13.2 Límites y continuidad\n",
    "- 13.3 Derivadas parciales\n",
    "- Proyecto: \n",
    "- 13.4 Diferenciales y regla de la cadena\n",
    "- 13.5 Derivadas direccionales y gradientes\n",
    "- 13.6 Planos tangentes y rectas normales\n",
    "- Proyecto: Flora silvestre\n",
    "- 13.7 Extremos y multiplicadores de Lagrange\n",
    "- Ejercicios de repaso y solución de problemas\n",
    "\n",
    "### **CAPÍTULO 14: Integración múltiple**\n",
    "- 14.1 Integrales iteradas y área\n",
    "- 14.2 Integrales dobles y triples\n",
    "- Proyecto: Centro de presión sobre una vela\n",
    "- 14.3 Cambio de coordenadas\n",
    "- Proyecto: Esferas deformadas\n",
    "- Ejercicios de repaso y solución de problemas\n",
    "\n",
    "### **CAPÍTULO 15: Análisis vectorial**\n",
    "- 15.1 Campos vectoriales\n",
    "- 15.2 Integrales de línea y teorema de Green\n",
    "- Proyecto: Funciones hiperbólicas y trigonométricas\n",
    "- 15.3 Superficies paramétricas e integrales de superficie\n",
    "- Proyecto: Hiperboloide de una hoja\n",
    "- 15.4 Teorema de la divergencia y teorema de Stokes\n",
    "- Ejercicios de repaso y solución de problemas\n",
    "\n",
    "Diseña ta parte del microcurrículo teniendo en cuenta los siguientes recursos: \n",
    "\n",
    "1. La red social GitHub, donde se pueden encontrar recursos código abierto relacionados con el análisis vectorial en el repositorio en línea https://github.com/marco-canas/calculo\n",
    "2. El canal en la red social YouTube, específicamente en la lista de reproducción: https://studio.youtube.com/playlist/PLbk60veMSVKvZYtaK73BV2qh8dATXKiaJ/edit para cálculo vectorial\n",
    "3. El lenguaje de programación Python y las librerías: SciPy, NumPy, Pandas, Matplotlib.pyplot, Seaborn, Plotly, Scikit-Learn, Statsmodels, y Scipy.stats, ipywidgets, matplotlib.animation, SymPy. \n",
    "4. Los cuadernos Jupyter Notebook editados a través de Google Colab, Visual Studio Code, Jupyter Anaconda. \n",
    "5. Los lenguajes de edición científica profesional Markdown y Latex. \n"
   ]
  },
  {
   "cell_type": "code",
   "execution_count": 3,
   "id": "2736a235",
   "metadata": {},
   "outputs": [],
   "source": [
    "ubicacion_formato_cursos = r\"C:/Users/marco/OneDrive - Universidad de Antioquia/Documentos/referentes/formato_curso.docx\""
   ]
  },
  {
   "cell_type": "markdown",
   "id": "836a392d",
   "metadata": {},
   "source": [
    "# PROGRAMA OFICIAL DE CURSO\n",
    "\n",
    "## UNIVERSIDAD DE ANTIOQUIA\n",
    "\n",
    "### INFORMACIÓN GENERAL\n",
    "\n",
    "- **Unidad Académica:** Facultad de Ciencias Exactas y Naturales\n",
    "- **Programa Académico:** Licenciatura en Matemáticas / Ingeniería\n",
    "- **Vigencia:** Semestre 2025-1\n",
    "- **Código del curso:** Cálculo Vectorial\n",
    "- **Tipo de curso:** Teórico-práctico\n",
    "- **Modalidad educativa:** Presencial con uso de Jupyter Notebooks y Python\n",
    "- **Número de créditos académicos:** 4\n",
    "- **Horas semanales:** 4 horas de interacción + 8 horas de trabajo independiente\n",
    "\n",
    "---\n",
    "\n",
    "## RELACIÓN CON EL PERFIL DEL PROGRAMA ACADÉMICO\n",
    "\n",
    "Este curso contribuye a la formación matemática de los estudiantes al proporcionar herramientas esenciales para modelado, visualización y análisis de problemas en varias dimensiones, con aplicaciones en ciencia de datos, física e ingeniería.\n",
    "\n",
    "---\n",
    "\n",
    "## INTENCIONALIDADES FORMATIVAS\n",
    "\n",
    "Se busca que los estudiantes:\n",
    "1. Comprendan y apliquen conceptos de cálculo en el espacio tridimensional.\n",
    "2. Utilicen Python para modelar y visualizar funciones vectoriales y campos vectoriales.\n",
    "3. Desarrollen habilidades para resolver problemas mediante el Aprendizaje Basado en Problemas y Proyectos.\n",
    "4. Implementen métodos computacionales para cálculos de derivadas, integrales y análisis vectorial en coordenadas cartesianas, cilíndricas y esféricas.\n",
    "\n",
    "---\n"
   ]
  },
  {
   "cell_type": "markdown",
   "id": "ce249fb2",
   "metadata": {},
   "source": [
    "### **3. INTENCIONALIDADES FORMATIVAS**  \n",
    "**Diseñadas bajo los enfoques pedagógicos de Aprendizaje Invertido, STEAMS y Aprendizaje Basado en Problemas y Proyectos (ABPP)**  \n",
    "\n",
    "---\n",
    "\n",
    "#### **Problemas de Formación**  \n",
    "1. **Brecha teórico-práctica:** Dificultad para aplicar conceptos abstractos del cálculo vectorial y multivariable a problemas reales de ingeniería agropecuaria (ej: modelado de cultivos, diseño de maquinaria, optimización de recursos).  \n",
    "2. **Falta de integración interdisciplinar:** Escasa conexión entre las matemáticas avanzadas, la tecnología computacional y las necesidades sostenibles del sector agropecuario.  \n",
    "3. **Resistencia al trabajo colaborativo:** Limitaciones en habilidades blandas para resolver problemas en equipos multidisciplinarios.  \n",
    "\n",
    "---\n",
    "\n",
    "#### **Propósitos de Formación**  \n",
    "1. Vincular el cálculo vectorial y multivariable con desafíos agropecuarios mediante **simulaciones numéricas (Python)** y **proyectos aplicados** (ej: modelado de cicloides para sistemas de riego, análisis de curvas de crecimiento vegetal).  \n",
    "2. Integrar el enfoque **STEAMS** (Ciencia, Tecnología, Ingeniería, Arte, Matemáticas y Sostenibilidad) en el diseño de soluciones innovadoras (ej: uso de arte anamórfico para visualizar datos geoespaciales).  \n",
    "3. Fomentar la autonomía y el pensamiento crítico mediante el **Aprendizaje Invertido**, usando recursos digitales (GitHub, YouTube) para explorar conceptos previos a las sesiones prácticas.  \n",
    "\n",
    "---\n",
    "\n",
    "#### **Competencias**  \n",
    "1. **Modelar fenómenos agropecuarios** usando ecuaciones paramétricas, coordenadas polares y funciones vectoriales, apoyado en herramientas computacionales (*NumPy, SymPy*).  \n",
    "2. **Analizar datos espaciales** (suelos, distribuciones de cultivos) mediante integrales múltiples y teoremas vectoriales (*Matplotlib, Plotly*).  \n",
    "3. **Diseñar soluciones sostenibles** aplicando multiplicadores de Lagrange para optimización de recursos (agua, fertilizantes) o el teorema de Green para flujos en sistemas de riego.  \n",
    "4. **Comunicar resultados técnicos** mediante informes científicos profesionales (*Jupyter + Markdown/LaTeX*) y visualizaciones interactivas (*Plotly, matplotlib.animation*).  \n",
    "\n",
    "---\n",
    "\n",
    "#### **Enfoques Pedagógicos Integrados**  \n",
    "| **Estrategia**                | **Implementación en el Curso**                                                                 |  \n",
    "|-------------------------------|------------------------------------------------------------------------------------------------|  \n",
    "| **Aprendizaje Invertido**      | - **Pre-clase:** Videos de la lista de YouTube + repositorio GitHub (código base para ejercicios).<br>- **En clase:** Resolución guiada de problemas complejos usando *Google Colab* y discusión de proyectos. |  \n",
    "| **ABPP (Proyectos)**           | - **Proyectos por capítulo:** Ej: \"Cicloides\" (diseño de sistemas de siembra), \"Flora silvestre\" (modelado 3D de especies usando *Matplotlib*).<br>- **Colaboración en GitHub:** Edición colaborativa de cuadernos Jupyter con retroalimentación en tiempo real. |  \n",
    "| **STEAMS**                     | - **Arte y Sostenibilidad:** Proyecto \"Arte anamórfico\" (geometría aplicada al diseño de invernaderos).<br>- **Ciencia de Datos:** Uso de *Pandas* y *SciPy* para predecir rendimientos agrícolas con integrales múltiples. |  \n",
    "\n",
    "---\n",
    "\n",
    "#### **Recursos Tecnológicos**  \n",
    "- **GitHub:** Repositorio [marco-canas/calculo](https://github.com/marco-canas/calculo) para acceder a código abierto de simulaciones vectoriales y colaborar en proyectos.  \n",
    "- **Python:** Librerías como *SymPy* (cálculo simbólico), *Matplotlib.animation* (visualización de curvas paramétricas) y *SciPy* (optimización con multiplicadores de Lagrange).  \n",
    "- **Jupyter Notebooks:** Desarrollo de informes científicos integrando ecuaciones LaTeX, gráficos interactivos (*Plotly*) y análisis en *Google Colab*.  \n",
    "- **YouTube:** Lista de reproducción con tutoriales de apoyo para flipped learning (ej: teoremas de Green y Stokes aplicados a flujos en suelos).  \n",
    "\n",
    "---\n",
    "\n",
    "#### **Evaluación de Competencias**  \n",
    "- **Rúbricas ABPP:** Evaluación de proyectos basada en:  \n",
    "  - Aplicación de conceptos matemáticos (40%).  \n",
    "  - Creatividad STEAMS (30%).  \n",
    "  - Uso de herramientas tecnológicas (20%).  \n",
    "  - Colaboración en GitHub (10%).  \n",
    "- **Portafolio Digital:** Cuadernos Jupyter + informes LaTeX que documenten el proceso de resolución de problemas agropecuarios.  \n",
    "- **Retos Flipped Learning:** Quizzes en línea (*Google Forms*) con problemas para resolver usando código Python previo a las clases prácticas.  \n",
    "\n",
    "--- \n",
    "\n",
    "**Nota:** Este diseño asegura que el estudiante no solo domine el cálculo avanzado, sino que lo aplique con herramientas modernas y una perspectiva interdisciplinaria crítica para la ingeniería agropecuaria."
   ]
  },
  {
   "cell_type": "markdown",
   "id": "1d08939c",
   "metadata": {},
   "source": [
    "### **4. APORTES DEL CURSO A LA FORMACIÓN INTEGRAL Y A LA FORMACIÓN EN INVESTIGACIÓN**  \n",
    "**Integrando enfoques pedagógicos activos (flipped learning, STEAMS y ABPP) con herramientas tecnológicas y aplicaciones agropecuarias**  \n",
    "\n",
    "---\n",
    "\n",
    "#### **Aportes a la Formación Integral**  \n",
    "| **Racionalidad**      | **Aporte desde el Curso**                                                                                                  | **Ejemplos Prácticos**                                                                                     |  \n",
    "|-----------------------|----------------------------------------------------------------------------------------------------------------------------|------------------------------------------------------------------------------------------------------------|  \n",
    "| **Ética**             | - Reflexión sobre el impacto de modelos matemáticos en la sostenibilidad agrícola (ej: optimización de recursos hídricos con multiplicadores de Lagrange).<br>- Discusión crítica sobre el uso responsable de tecnologías para el sector agropecuario. | Proyecto \"Flora silvestre\": Modelado 3D de especies endémicas para evitar su extinción, usando *Matplotlib* y *Plotly*. |  \n",
    "| **Estética**          | - Integración del arte en la visualización científica (ej: arte anamórfico aplicado a mapas topográficos).<br>- Diseño de gráficos interactivos (*Plotly*) para comunicar datos complejos de manera accesible. | Proyecto \"Arte anamórfico\": Uso de coordenadas polares para crear representaciones artísticas de datos geoespaciales. |  \n",
    "| **Lógica**            | - Desarrollo de pensamiento abstracto mediante la resolución de problemas con herramientas computacionales (*SymPy*, *SciPy*).<br>- Aplicación rigurosa de teoremas (Green, Stokes) en simulaciones agrícolas. | Análisis de flujos en sistemas de riego usando el teorema de Green en *Python*. |  \n",
    "| **Política**          | - Análisis de cómo las matemáticas influyen en políticas públicas agropecuarias (ej: distribución de cultivos mediante integrales múltiples).<br>- Debate sobre equidad en el acceso a tecnologías de modelado avanzado. | Proyecto \"Centro de presión sobre una vela\": Simulación de fuerzas para optimizar diseños de maquinaria accesible. |  \n",
    "\n",
    "---\n",
    "\n",
    "#### **Aportes a la Formación en Investigación**  \n",
    "1. **Métodos cuantitativos aplicados:**  \n",
    "   - Uso de *Python* y *Jupyter Notebooks* para simular fenómenos agropecuarios (ej: trayectorias de cicloides en sistemas de siembra automatizada).  \n",
    "   - Análisis estadístico de datos espaciales con *Pandas* y *SciPy* (ej: predicción de rendimiento de cultivos mediante regresión multivariable).  \n",
    "\n",
    "2. **Diseño experimental:**  \n",
    "   - Proyectos ABPP como \"Hiperboloide de una hoja\": Investigación de superficies paramétricas aplicadas al diseño de silos o invernaderos.  \n",
    "   - Validación de hipótesis con herramientas de código abierto (*GitHub*), replicando estudios publicados en el repositorio [marco-canas/calculo](https://github.com/marco-canas/calculo).  \n",
    "\n",
    "3. **Comunicación científica:**  \n",
    "   - Redacción de informes técnicos en *LaTeX* integrando ecuaciones, gráficos animados (*matplotlib.animation*) y análisis reproducibles.  \n",
    "   - Socialización de resultados mediante presentaciones interactivas (*Jupyter + ipywidgets*) y repositorios colaborativos en GitHub.  \n",
    "\n",
    "---\n",
    "\n",
    "#### **Vinculación con Enfoques Pedagógicos**  \n",
    "| **Enfoque**                | **Contribución a la Formación Integral y en Investigación**                                                                 |  \n",
    "|----------------------------|----------------------------------------------------------------------------------------------------------------------------|  \n",
    "| **Aprendizaje Invertido**  | - Autonomía en la búsqueda de conocimiento (videos en YouTube + repositorios GitHub).<br>- Preparación previa para debates éticos en clase sobre aplicaciones agrícolas. |  \n",
    "| **STEAMS**                 | - Integración de arte y sostenibilidad en proyectos técnicos (ej: uso de *Seaborn* para visualizar impactos ambientales).<br>- Soluciones creativas que combinan ingeniería y estética (diseño de herramientas ergonómicas con curvas paramétricas). |  \n",
    "| **ABPP**                   | - Desarrollo de habilidades investigativas mediante proyectos reales (ej: \"Distancias en el espacio\" aplicado a drones agrícolas).<br>- Colaboración interdisciplinaria usando *Google Colab* y *GitHub* para versionar avances. |  \n",
    "\n",
    "---\n",
    "\n",
    "#### **Recursos Tecnológicos como Facilitadores**  \n",
    "- **GitHub:** Espacio para publicar investigaciones en código abierto y recibir retroalimentación global.  \n",
    "- **Python:** Uso de *Scikit-Learn* para machine learning aplicado a predicciones agroclimáticas, y *Statsmodels* para análisis de tendencias.  \n",
    "- **YouTube:** Acceso a seminarios virtuales sobre ética en la modelación matemática y tutoriales de visualización científica.  \n",
    "\n",
    "---\n",
    "\n",
    "**Nota Final:** El curso no solo desarrolla competencias técnicas, sino que forma profesionales críticos, creativos y socialmente responsables, capaces de investigar problemas agropecuarios con rigurosidad científica y sensibilidad ético-estética."
   ]
  },
  {
   "cell_type": "markdown",
   "id": "c758cf0b",
   "metadata": {},
   "source": [
    "### **5. DESCRIPCIÓN DE LOS CONOCIMIENTOS Y/O SABERES**  \n",
    "**Organizados bajo los enfoques de Aprendizaje Invertido, STEAMS y ABPP**  \n",
    "\n",
    "---\n",
    "\n",
    "#### **Ejes Problémicos**  \n",
    "1. **Modelado matemático abstracto vs. aplicaciones agropecuarias:** Dificultad para trasladar conceptos teóricos del cálculo (ej: campos vectoriales, integrales múltiples) a soluciones prácticas en diseño de maquinaria, gestión de recursos o sostenibilidad ambiental.  \n",
    "2. **Integración interdisciplinar:** Desconexión entre herramientas computacionales modernas (*Python*, visualizaciones interactivas) y problemáticas reales del sector agropecuario.  \n",
    "3. **Innovación con base científica:** Limitaciones para diseñar proyectos creativos que combinen rigor matemático, tecnología y enfoque STEAMS (arte, sostenibilidad).  \n",
    "\n",
    "---\n",
    "\n",
    "#### **Saberes**  \n",
    "1. **Conceptuales:**  \n",
    "   - Ecuaciones paramétricas, coordenadas polares y su relación con trayectorias en sistemas agrícolas (ej: movimiento de maquinaria).  \n",
    "   - Teoremas fundamentales (Green, Stokes) aplicados al flujo de fluidos en riego o distribución de fertilizantes.  \n",
    "   - Optimización de recursos mediante multiplicadores de Lagrange y funciones de varias variables.  \n",
    "\n",
    "2. **Procedimentales:**  \n",
    "   - Simulación de fenómenos agropecuarios usando *Python* (*NumPy*, *SymPy*).  \n",
    "   - Creación de informes científicos con *Jupyter Notebooks* y *LaTeX*.  \n",
    "   - Colaboración en entornos digitales (*GitHub*) para resolver problemas en equipo.  \n",
    "\n",
    "3. **Actitudinales:**  \n",
    "   - Valoración del arte como herramienta de comunicación científica (ej: gráficos anamórficos).  \n",
    "   - Compromiso ético en el uso de modelos matemáticos para impactar positivamente en comunidades rurales.  \n",
    "\n",
    "---\n",
    "\n",
    "#### **Proyectos Integradores (ABPP + STEAMS)**  \n",
    "| **Proyecto**                  | **Capítulo** | **Enfoque STEAMS**                                                                 | **Herramientas/Tecnologías**                                              |  \n",
    "|-------------------------------|--------------|------------------------------------------------------------------------------------|---------------------------------------------------------------------------|  \n",
    "| **Cicloides**                 | Cap. 10      | **Ingeniería + Arte:** Diseño de trayectorias para sistemas de siembra automatizada. | *Matplotlib.animation* (simulación), GitHub (colaboración).               |  \n",
    "| **Arte anamórfico**           | Cap. 10      | **Arte + Sostenibilidad:** Representación visual de datos geoespaciales en suelos.  | *Plotly* (gráficos 3D), coordenadas polares.                              |  \n",
    "| **Distancias en el espacio**  | Cap. 11      | **Tecnología + Ingeniería:** Cálculo de distancias para drones de monitoreo agrícola. | *SciPy* (cálculos vectoriales), Google Colab (prototipado).               |  \n",
    "| **Flora silvestre**           | Cap. 13      | **Ciencia + Sostenibilidad:** Modelado 3D de especies en peligro para conservación. | *Matplotlib* (visualización), SymPy (derivadas parciales).                |  \n",
    "| **Hiperboloide de una hoja**  | Cap. 15      | **Ingeniería + Matemáticas:** Diseño de estructuras para almacenamiento agrícola.   | *Python* (superficies paramétricas), Jupyter + LaTeX (documentación).     |  \n",
    "\n",
    "---\n",
    "\n",
    "#### **Contenidos por Capítulo**  \n",
    "| **Capítulo**                         | **Temas y Saberes Clave**                                                                 | **Recursos Pedagógicos**                                                                 |  \n",
    "|---------------------------------------|------------------------------------------------------------------------------------------|-----------------------------------------------------------------------------------------|  \n",
    "| **Cap. 10: Cónicas y coordenadas polares** | - Ecuaciones paramétricas aplicadas a trayectorias de maquinaria.<br>- Leyes de Kepler para órbitas de satélites en agricultura de precisión. | - **Flipped Learning:** Videos en YouTube sobre curvas planas.<br>- **ABPP:** Proyecto \"Cicloides\" con código base en GitHub. |  \n",
    "| **Cap. 11: Vectores en el espacio**        | - Producto escalar/vectorial para cálculos de torque en herramientas agrícolas.<br>- Coordenadas esféricas en mapeo de terrenos.              | - **STEAMS:** Uso de *Plotly* para visualizar vectores 3D.<br>- **GitHub:** Repositorio con ejemplos de distancias espaciales. |  \n",
    "| **Cap. 13: Funciones multivariables**      | - Derivadas direccionales para optimizar rutas de riego.<br>- Multiplicadores de Lagrange en distribución de recursos hídricos.              | - **ABPP:** Proyecto \"Flora silvestre\" con *Pandas* para análisis de datos.<br>- **Jupyter:** Cuadernos interactivos en Google Colab. |  \n",
    "| **Cap. 15: Análisis vectorial**            | - Teorema de Green en flujos de agua subterránea.<br>- Campos vectoriales para modelar vientos en invernaderos.                               | - **STEAMS:** Arte con *matplotlib.animation* para visualizar flujos.<br>- **GitHub:** Colaboración en código del repositorio [marco-canas/calculo](https://github.com/marco-canas/calculo). |  \n",
    "\n",
    "---\n",
    "\n",
    "#### **Metodologías Activas**  \n",
    "1. **Aprendizaje Invertido:**  \n",
    "   - **Pre-clase:** Estudio autónomo de videos en YouTube (ej: teorema de Stokes) y revisión de código en GitHub.  \n",
    "   - **En clase:** Resolución de problemas agropecuarios usando *Python* (ej: cálculo de centroides con integrales múltiples).  \n",
    "\n",
    "2. **STEAMS:**  \n",
    "   - **Arte anamórfico:** Creación de proyecciones distorsionadas que revelan datos al verse desde ángulos específicos, usando ecuaciones polares.  \n",
    "   - **Sostenibilidad:** Análisis del impacto ambiental de modelos matemáticos en proyectos como \"Flora silvestre\".  \n",
    "\n",
    "3. **ABPP:**  \n",
    "   - **Colaboración en GitHub:** Edición grupal de cuadernos Jupyter para proyectos como \"Esferas deformadas\" (Cap. 14), integrando *SymPy* y *LaTeX*.  \n",
    "   - **Presentaciones interactivas:** Uso de *ipywidgets* para demostrar cómo varían las superficies paramétricas según parámetros agroclimáticos.  \n",
    "\n",
    "---\n",
    "\n",
    "**Nota:** Este diseño asegura que los contenidos no sean abordados de manera aislada, sino como herramientas para resolver problemas reales del sector agropecuario, fomentando habilidades técnicas, creativas y críticas mediante recursos tecnológicos y enfoques pedagógicos innovadores."
   ]
  },
  {
   "cell_type": "markdown",
   "id": "473aa5bc",
   "metadata": {},
   "source": []
  },
  {
   "cell_type": "markdown",
   "id": "014cff07",
   "metadata": {},
   "source": [
    "\n",
    "## DESCRIPCIÓN DE LOS CONOCIMIENTOS Y TEMAS\n",
    "\n",
    "### **CAPÍTULO 10: Cónicas, ecuaciones paramétricas y coordenadas polares**\n",
    "- 10.1 Cónicas y cálculo\n",
    "- 10.2 Curvas planas y ecuaciones paramétricas\n",
    "- Proyecto: Cicloides\n",
    "- 10.3 Ecuaciones paramétricas y cálculo\n",
    "- 10.4 Coordenadas polares y gráficas polares\n",
    "- Proyecto: Arte anamórfico\n",
    "- 10.5 Área y longitud de arco en coordenadas polares\n",
    "- 10.6 Ecuaciones polares de las cónicas y leyes de Kepler\n",
    "- Ejercicios de repaso y solución de problemas\n",
    "\n",
    "### **CAPÍTULO 11: Vectores y la geometría del espacio**\n",
    "- 11.1 Vectores en el plano\n",
    "- 11.2 Coordenadas y vectores en el espacio\n",
    "- 11.3 Producto escalar y producto vectorial\n",
    "- 11.4 Rectas y planos en el espacio\n",
    "- Proyecto: Distancias en el espacio\n",
    "- 11.5 Superficies en el espacio\n",
    "- 11.6 Coordenadas cilíndricas y esféricas\n",
    "- Ejercicios de repaso y solución de problemas\n",
    "\n",
    "### **CAPÍTULO 12: Funciones vectoriales**\n",
    "- 12.1 Definición y propiedades\n",
    "- Proyecto: Bruja de Agnesi\n",
    "- 12.2 Derivación e integración de funciones vectoriales\n",
    "- 12.3 Velocidad y aceleración\n",
    "- 12.4 Vectores tangentes y normales\n",
    "- 12.5 Longitud de arco y curvatura\n",
    "- Ejercicios de repaso y solución de problemas\n",
    "\n",
    "### **CAPÍTULO 13: Funciones de varias variables**\n",
    "- 13.1 Introducción\n",
    "- 13.2 Límites y continuidad\n",
    "- 13.3 Derivadas parciales\n",
    "- Proyecto: Franjas de Moiré\n",
    "- 13.4 Diferenciales y regla de la cadena\n",
    "- 13.5 Derivadas direccionales y gradientes\n",
    "- 13.6 Planos tangentes y rectas normales\n",
    "- Proyecto: Flora silvestre\n",
    "- 13.7 Extremos y multiplicadores de Lagrange\n",
    "- Ejercicios de repaso y solución de problemas\n",
    "\n",
    "### **CAPÍTULO 14: Integración múltiple**\n",
    "- 14.1 Integrales iteradas y área\n",
    "- 14.2 Integrales dobles y triples\n",
    "- Proyecto: Centro de presión sobre una vela\n",
    "- 14.3 Cambio de coordenadas\n",
    "- Proyecto: Esferas deformadas\n",
    "- Ejercicios de repaso y solución de problemas\n",
    "\n",
    "### **CAPÍTULO 15: Análisis vectorial**\n",
    "- 15.1 Campos vectoriales\n",
    "- 15.2 Integrales de línea y teorema de Green\n",
    "- Proyecto: Funciones hiperbólicas y trigonométricas\n",
    "- 15.3 Superficies paramétricas e integrales de superficie\n",
    "- Proyecto: Hiperboloide de una hoja\n",
    "- 15.4 Teorema de la divergencia y teorema de Stokes\n",
    "- Ejercicios de repaso y solución de problemas\n",
    "\n",
    "---\n"
   ]
  },
  {
   "cell_type": "markdown",
   "id": "e56c0ab7",
   "metadata": {},
   "source": [
    "\n",
    "## METODOLOGÍA\n",
    "\n",
    "- **Enfoque:** Aula invertida, STEAMS y Aprendizaje Basado en Problemas y Proyectos (ABP).\n",
    "- **Recursos:** Jupyter Notebooks, Python, bibliotecas de visualización 3D y cálculos simbólicos.\n",
    "- **Estrategias:** Resolución de problemas, modelado computacional, simulaciones y análisis de datos.\n",
    "- **Interacción:** Trabajo en equipos, discusiones en foros, tutorías y retroalimentación iterativa.\n",
    "\n",
    "---\n"
   ]
  },
  {
   "cell_type": "markdown",
   "id": "6b2a1495",
   "metadata": {},
   "source": [
    "\n",
    "## EVALUACIÓN\n",
    "\n",
    "| Componente | Porcentaje |\n",
    "|------------|-----------|\n",
    "| Tareas y ejercicios prácticos en Python | 20% |\n",
    "| Proyectos de modelado en Jupyter Notebooks y Videos de presentación de la narrativa | 30% |\n",
    "| Exámenes teórico-prácticos | 30% |\n",
    "| Participación en actividades y foros | 20% |\n",
    "\n",
    "---\n",
    "# Evaluación - Cálculo Vectorial  \n",
    "\n",
    "**Profesor(a):** MARCO JULIO CAÑAS CAMPILLO  \n",
    "**Semestre:** 20251  \n",
    "**Materia:** [5009344] - CÁLCULO VECTORIAL  \n",
    "**Tipo de Evaluación:** CUANTITATIVO  \n",
    "**Grupo:** 35  \n",
    "\n",
    "---\n"
   ]
  },
  {
   "cell_type": "markdown",
   "id": "49d9e1fb",
   "metadata": {},
   "source": [
    "\n",
    "### Evaluación  Discriminada en Mares \n",
    "\n",
    "| #  | %  | Descripción                                  | Eval? | Conf? |\n",
    "|----|----|----------------------------------------------|-------|-------|\n",
    "| 1  | 2  | Tarea 1 Instalación de R Studio            | NO    | NO    |\n",
    "| 2  | 2  | Tarea 2                                     | NO    | NO    |\n",
    "| 3  | 2  | Tarea 3                                     | NO    | NO    |\n",
    "| 4  | 2  | Tarea 4                                     | NO    | NO    |\n",
    "| 5  | 2  | Tarea 5                                     | NO    | NO    |\n",
    "| 6  | 2  | Tarea 6                                     | NO    | NO    |\n",
    "| 7  | 2  | Tarea 7                                     | NO    | NO    |\n",
    "| 8  | 2  | Tarea 8                                     | NO    | NO    |\n",
    "| 9  | 2  | Tarea 9                                     | NO    | NO    |\n",
    "| 10 | 2  | Tarea 10                                    | NO    | NO    |\n",
    "| 11 | 10 | Parcial 1                                   | NO    | NO    |\n",
    "| 12 | 10 | Parcial 2                                   | NO    | NO    |\n",
    "| 13 | 10 | Parcial 3                                   | NO    | NO    |\n",
    "| 14 | 10 | Proyecto de aplicación 1                   | NO    | NO    |\n",
    "| 15 | 10 | Proyecto de aplicación 2                   | NO    | NO    |\n",
    "| 16 | 10 | Proyecto de aplicación 3                   | NO    | NO    |\n",
    "| 17 | 10 | Asistencia y exposiciones en clase        | NO    | NO    |\n",
    "| 18 | 10 | Desempeño en clase con R Studio           | NO    | NO    |\n",
    "\n",
    "**Número de Evaluaciones:** 18  \n",
    "\n",
    "---\n",
    "\n",
    "**Nota:** El código de confirmación llegará al correo personal **aldevaran@gmail.com**  \n",
    "\n"
   ]
  },
  {
   "cell_type": "markdown",
   "id": "c88bc941",
   "metadata": {},
   "source": [
    "\n",
    "\n",
    "## BIBLIOGRAFÍA\n",
    "\n",
    "1. Stewart, J. (2020). *Cálculo de Varias Variables*. Cengage Learning.\n",
    "2. Strang, G. (2016). *Calculus*. MIT Press.\n",
    "3. Lang, S. (2012). *A First Course in Calculus*. Springer.\n",
    "4. Newman, D. (2021). *Mathematics for Data Science*. CRC Press.\n",
    "\n",
    "---\n",
    "\n",
    "## COMUNIDAD ACADÉMICA QUE PARTICIPÓ EN LA ELABORACIÓN\n",
    "\n",
    "- **Marco Julio** - Profesor, Facultad de Ciencias Exactas y Naturales, Universidad de Antioquia.\n",
    "- **Equipo de Investigación en Didáctica de las Matemáticas**.\n"
   ]
  },
  {
   "cell_type": "markdown",
   "id": "99642a40",
   "metadata": {},
   "source": [
    "# Prompt para convertir archivo .docx a .md \n"
   ]
  },
  {
   "cell_type": "code",
   "execution_count": 5,
   "id": "4221f987",
   "metadata": {},
   "outputs": [
    {
     "name": "stdout",
     "output_type": "stream",
     "text": [
      "Archivo convertido y guardado en: C:/Users/marco/Documentos/docencia/calculo/classes/3_calculo/5_calculo_vectorial/Programa_Calculo_Vectorial.md\n"
     ]
    },
    {
     "data": {
      "text/plain": [
       "'C:/Users/marco/Documentos/docencia/calculo/classes/3_calculo/5_calculo_vectorial/Programa_Calculo_Vectorial.md'"
      ]
     },
     "execution_count": 5,
     "metadata": {},
     "output_type": "execute_result"
    }
   ],
   "source": [
    "from docx import Document\n",
    "from markdownify import markdownify\n",
    "import os\n",
    "\n",
    "def get_text_from_docx(doc):\n",
    "    \"\"\"Extrae el texto del documento DOCX en formato HTML para mejor conversión a Markdown.\"\"\"\n",
    "    html_content = \"\"\n",
    "    \n",
    "    for para in doc.paragraphs:\n",
    "        if para.style.name.startswith(\"Heading\"):\n",
    "            nivel = int(para.style.name[-1]) if para.style.name[-1].isdigit() else 1\n",
    "            html_content += f\"<h{nivel}>{para.text}</h{nivel}>\\n\"\n",
    "        else:\n",
    "            html_content += f\"<p>{para.text}</p>\\n\"\n",
    "\n",
    "    # Manejo de tablas\n",
    "    for table in doc.tables:\n",
    "        html_content += \"<table>\\n\"\n",
    "        for row in table.rows:\n",
    "            html_content += \"  <tr>\\n\"\n",
    "            for cell in row.cells:\n",
    "                html_content += f\"    <td>{cell.text}</td>\\n\"\n",
    "            html_content += \"  </tr>\\n\"\n",
    "        html_content += \"</table>\\n\"\n",
    "\n",
    "    return html_content\n",
    "\n",
    "def convertir_docx_a_md(ubicacion_de_archivo_docx):\n",
    "    \"\"\"Convierte un archivo DOCX a Markdown y lo guarda en la misma ubicación.\"\"\"\n",
    "    \n",
    "    # Cargar el documento\n",
    "    doc = Document(ubicacion_de_archivo_docx)\n",
    "    \n",
    "    # Convertir a HTML para que markdownify lo procese mejor\n",
    "    html_content = get_text_from_docx(doc)\n",
    "    \n",
    "    # Convertir HTML a Markdown\n",
    "    texto_md = markdownify(html_content)\n",
    "    \n",
    "    # Generar la ruta del archivo .md\n",
    "    ubicacion_de_archivo_md = os.path.splitext(ubicacion_de_archivo_docx)[0] + \".md\"\n",
    "    \n",
    "    # Guardar el archivo .md\n",
    "    with open(ubicacion_de_archivo_md, \"w\", encoding=\"utf-8\") as archivo_md:\n",
    "        archivo_md.write(texto_md)\n",
    "    \n",
    "    print(f\"Archivo convertido y guardado en: {ubicacion_de_archivo_md}\")\n",
    "    \n",
    "    return ubicacion_de_archivo_md\n",
    "\n",
    "# Ejemplo de uso\n",
    "ubicacion_de_archivo_docx = r\"C:/Users/marco/Documentos/docencia/calculo/classes/3_calculo/5_calculo_vectorial/Programa_Calculo_Vectorial.docx\"\n",
    "convertir_docx_a_md(ubicacion_de_archivo_docx)\n",
    "\n",
    "    "
   ]
  },
  {
   "cell_type": "code",
   "execution_count": null,
   "id": "bb3a19c7",
   "metadata": {},
   "outputs": [],
   "source": []
  },
  {
   "cell_type": "markdown",
   "id": "239427f7",
   "metadata": {},
   "source": [
    "# ARTÍCULO 1. Definir el calendario académico para los diferentes programas de pregrado de los campus\n",
    "regionalizados, correspondiente al primer periodo académico del año 2025, así:\n",
    "* Oferta 28 de enero de 2025\n",
    "* Matrícula 30 de enero de 2025\n",
    "* Ajustes 03 al 10 de febrero de 2025\n",
    "* Inicio de clases 10 de febrero de 2025\n",
    "* Límite evaluación del 40% 06 de abril de 2025\n",
    "* Terminación de clases 08 de junio de 2025\n",
    "* Exámenes finales 09 al 15 de junio de 2025\n",
    "* Habilitación y validación 16 al 22 de junio de 2025\n",
    "* Terminación oficial 23 de junio de 2025"
   ]
  },
  {
   "cell_type": "code",
   "execution_count": null,
   "id": "ec048afb",
   "metadata": {},
   "outputs": [],
   "source": []
  },
  {
   "cell_type": "code",
   "execution_count": null,
   "id": "c804f8d3",
   "metadata": {},
   "outputs": [],
   "source": []
  },
  {
   "cell_type": "code",
   "execution_count": null,
   "id": "cc539357",
   "metadata": {},
   "outputs": [],
   "source": []
  },
  {
   "cell_type": "markdown",
   "id": "740f3401",
   "metadata": {
    "slideshow": {
     "slide_type": "slide"
    }
   },
   "source": [
    "# Componente de manejo de calculadora Casio asociado al objetivo de aprendizaje de esta clase  \n",
    "\n",
    "## Pasos para lograr el objetivo de aprendizaje con la experimentación en la calculadora Casio 991LA cw  "
   ]
  },
  {
   "cell_type": "markdown",
   "id": "8ba64aed",
   "metadata": {},
   "source": [
    "# Cursos que orienta el profesor Marco Julio Cañas Campillo en 2025  \n",
    "\n",
    "1. Práctica Pedagógica V para Licenciatura en Educación Infantil\n",
    "2. Fundamentos de Lógica para Licenciatura en Matemáticas \n",
    "3. Análisis Numérico para Licenciatura en Matemáticas. \n",
    "4. Cálculo Vectorial para Ingeniería Agropecuaria"
   ]
  },
  {
   "cell_type": "markdown",
   "id": "8d41fe58",
   "metadata": {
    "slideshow": {
     "slide_type": "slide"
    }
   },
   "source": [
    "# Horario de clases del profesor Marco\n",
    "\n",
    "* Lunes 8-12: Cálculo Vectorial\n",
    "* Martes 8-12 M: Fundamentos de Aritmética. \n",
    "* Miércoles 8 a 12 M: Fundamentos de la Lógica\n",
    "* Jueves 2 a 6 PM: Desarrollo del pensamiento matemático en la infancia. \n",
    "* Viernes 8 - 12 M: Desarrollo del pensamiento matemático en la infancia. \n",
    "* Sábados 8-12 Asesorías y espacio para retroalimentación y apoyo al trabajo independiente. "
   ]
  },
  {
   "cell_type": "markdown",
   "id": "ae114e14",
   "metadata": {
    "slideshow": {
     "slide_type": "slide"
    }
   },
   "source": [
    "# Horarios de monitoría y asesoría  \n",
    "\n",
    "Coordinador de los cursos de la Facultad de Educación para regiones:    \n",
    "\n",
    "Andrés Vélez: regioneducacion.fedu@udea.edu.co  \n",
    "Coordinador Regiones  \n",
    "Facultad de Educación  \n",
    "Universidad de Antioquia  "
   ]
  },
  {
   "cell_type": "markdown",
   "id": "b1db4b6c",
   "metadata": {
    "slideshow": {
     "slide_type": "slide"
    }
   },
   "source": [
    "## Monitor Manuel San Juan Serrano\n",
    "\n",
    "Contactar escribiendo al correo: manuel.serrano1@udea.edu.co"
   ]
  },
  {
   "cell_type": "markdown",
   "id": "39559692",
   "metadata": {
    "slideshow": {
     "slide_type": "slide"
    }
   },
   "source": [
    "Martes y jueves de 8 - 12  \n",
    "Miércoles 10 - 12 y de 2 a 4 PM  \n",
    "Sábado: 8 - 12"
   ]
  },
  {
   "cell_type": "markdown",
   "id": "10bce0d0",
   "metadata": {
    "slideshow": {
     "slide_type": "slide"
    }
   },
   "source": [
    "## Referentes "
   ]
  },
  {
   "cell_type": "markdown",
   "id": "1db3c468",
   "metadata": {
    "slideshow": {
     "slide_type": "slide"
    }
   },
   "source": [
    "* [Grajales Vanegas, L. M., Restrepo Estrada, C. E., Restrepo Ochoa, S. I., & Ruíz De Villalba, F. (2015). Matemáticas I para las ciencias económicas.](https://bibliotecadigital.udea.edu.co/handle/10495/3010)\n",
    "  \n",
    "* R. Duval y Semiosis y pensamiento humano, 2.ª ed. Cali, Colombia: Programa Editorial Universidad del Valle, 2017. [En línea]. Disponible en: https://programaeditorial.univalle.edu.co/gpd-semiosis-y-pensamiento-humano-9789587655278-63324cdb0f6b3.html\n",
    "\n",
    "* [Aylwin, C. U. (2011). Lógica, conjuntos y números. Universidad de los Andes, Consejo de Publicaciones, Colección: Ciencias Básicas, Serie: Matemáticas.](https://github.com/marco-canas/fundamentos_logica/blob/main/referentes/2_uzcategui/uscategui.pdf)\n",
    "  \n",
    "* [Chollet, F. (2021). Deep learning with Python. Simon and Schuster.](chrome-extension://efaidnbmnnnibpcajpcglclefindmkaj/https://tanthiamhuat.wordpress.com/wp-content/uploads/2018/03/deeplearningwithpython.pdf)  \n",
    "  \n",
    "* [Watson, S., Stewart, J., & Redlin, L. (2009). Precálculo. Matemáticas para el cálculo.](https://github.com/marco-canas/calculo/blob/main/referents/1_precalculo_stewart/stewart_precalculo.pdf)  \n",
    "\n",
    "* [Purcell, E. J., Varberg, D., & Rigdon, S. E. (2007). Cálculo diferencial e integral. Pearson Educación.](https://github.com/marco-canas/calculo/blob/main/referents/purcell/purcell_calculo.pdf)\n",
    "\n",
    "  \n",
    "\n",
    "* [stewart cálculo](https://udeaeduco-my.sharepoint.com/:b:/g/personal/marco_canas_udea_edu_co/EZgXZjAp8QxPqOAim2hs6LcBNPLGjSHf-xwYnUVYkwa04w?e=RZdTCy)  \n",
    "\n",
    "* [larson](https://udeaeduco-my.sharepoint.com/:b:/g/personal/marco_canas_udea_edu_co/ES71ChFeO9ZDhW3TwC5Ijk8BjxUK3Pdqz_fjHxTTFAfIAg?e=VDEjfu)\n",
    "\n",
    "\n",
    "\n",
    "* [Recomendación de la UNESCO sobre ciencia abierta](https://unesdoc.unesco.org/ark:/48223/pf0000379949_spa)\n",
    "\n",
    "* [chatGPT](https://openai.com/blog/chatgpt)  \n",
    "\n",
    "* [Géron, A. (2017). Hands-on machine learning with scikit-learn and tensorflow: Concepts. Tools, and Techniques to build intelligent systems.](chrome-extension://efaidnbmnnnibpcajpcglclefindmkaj/http://14.139.161.31/OddSem-0822-1122/Hands-On_Machine_Learning_with_Scikit-Learn-Keras-and-TensorFlow-2nd-Edition-Aurelien-Geron.pdf)   \n"
   ]
  },
  {
   "cell_type": "markdown",
   "id": "df925560",
   "metadata": {},
   "source": [
    "\n",
    "* [McKinney, W. (2012). Python for data analysis: Data wrangling with Pandas, NumPy, and IPython. \" O'Reilly Media, Inc.\".](https://wesmckinney.com/book/) "
   ]
  },
  {
   "cell_type": "markdown",
   "id": "8e65d6f9",
   "metadata": {},
   "source": [
    "# Como estudiante, encuentro que...   \n",
    "\n",
    "F: Mis Fortalezas son:     \n",
    "O: Mis Oportunidades son:    \n",
    "D: Mis Debilidades son:    \n",
    "A: Lo que Amenazas mi aprendizaje es:  "
   ]
  },
  {
   "cell_type": "markdown",
   "id": "6b9e56a8",
   "metadata": {
    "slideshow": {
     "slide_type": "slide"
    }
   },
   "source": [
    "### [Evaluamos al profesor Marco Cañas Aquí](https://forms.office.com/Pages/ResponsePage.aspx?id=IefhmYRxjkmK_7KtTlPBwkanXIs1i1FEujpsZgO6dXpUREJPV1kxUk1JV1ozTFJIQVNIQjY5WEY3US4u)"
   ]
  },
  {
   "cell_type": "markdown",
   "id": "10f43536",
   "metadata": {
    "slideshow": {
     "slide_type": "slide"
    }
   },
   "source": [
    "### Continue su aprendizaje en la siguiente clase a través del siguiente [vínculo]()"
   ]
  },
  {
   "cell_type": "markdown",
   "id": "53cc9115",
   "metadata": {
    "slideshow": {
     "slide_type": "slide"
    }
   },
   "source": [
    "## Agradecimientos  \n",
    "\n",
    "Doy gracias a Dios por la vida de mi Hijo Joseph Cañas Osorio y la madurez que ha alcanzado. Este hijo me enorgullece y me hace falta abrazarlo cada día. \n",
    "\n",
    "Y a mi esposa Yasmira Emperatriz Barboza Mogollón por su apoyo, orientación y acompañamiento. "
   ]
  }
 ],
 "metadata": {
  "celltoolbar": "Slideshow",
  "kernelspec": {
   "display_name": "Python 3",
   "language": "python",
   "name": "python3"
  },
  "language_info": {
   "codemirror_mode": {
    "name": "ipython",
    "version": 3
   },
   "file_extension": ".py",
   "mimetype": "text/x-python",
   "name": "python",
   "nbconvert_exporter": "python",
   "pygments_lexer": "ipython3",
   "version": "3.12.9"
  },
  "rise": {
   "enable_chalkboard": true,
   "theme": "sky",
   "transition": "zoom"
  }
 },
 "nbformat": 4,
 "nbformat_minor": 5
}
