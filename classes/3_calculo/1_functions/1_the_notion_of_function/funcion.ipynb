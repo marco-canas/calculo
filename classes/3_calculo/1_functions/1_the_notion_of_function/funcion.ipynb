{
 "cells": [
  {
   "cell_type": "markdown",
   "id": "dc06dec7",
   "metadata": {
    "slideshow": {
     "slide_type": "slide"
    }
   },
   "source": [
    "<table align=\"left\">\n",
    "  <td>\n",
    "    <a href=\"https://colab.research.google.com/github/marco-canas/calculo/blob/main/classes/3_calculo/1_functions/1_the_notion_of_function/funcion.ipynb\" target=\"_parent\"><img src=\"https://colab.research.google.com/assets/colab-badge.svg\" alt=\"Open In Colab\"/></a>\n",
    "  </td>\n",
    "  <td>\n",
    "    <a target=\"_blank\" href=\"https://kaggle.com/kernels/welcome?src=https://github.com/marco-canas/calculo/blob/main/classes/3_calculo/1_functions/1_the_notion_of_function/funcion.ipynb\"><img src=\"https://kaggle.com/static/images/open-in-kaggle.svg\" /></a>\n",
    "  </td>\n",
    "</table>"
   ]
  },
  {
   "cell_type": "markdown",
   "id": "e0c5b198",
   "metadata": {
    "slideshow": {
     "slide_type": "slide"
    }
   },
   "source": [
    "### [Video de apoyo a la lectura interactiva y experimental de este cuaderno]()"
   ]
  },
  {
   "cell_type": "markdown",
   "id": "41e82203",
   "metadata": {
    "slideshow": {
     "slide_type": "slide"
    }
   },
   "source": [
    "### [Vínculo al programa del curso:  ]()\n",
    "\n"
   ]
  },
  {
   "cell_type": "markdown",
   "id": "d11ab06d",
   "metadata": {
    "slideshow": {
     "slide_type": "slide"
    }
   },
   "source": [
    "Un reconocimiento a mis estudiantes que han construido conmigo este saber pedagógico:\n",
    "\n",
    "<img src = ''> \n",
    "\n"
   ]
  },
  {
   "cell_type": "markdown",
   "id": "8a74a56c-0ce6-4ad6-b985-553fd7fb68bb",
   "metadata": {},
   "source": [
    "Reconocimiento a las profesoras destacadas en enseñanza de la matemática en Colombia\n"
   ]
  },
  {
   "cell_type": "code",
   "execution_count": 1,
   "id": "7604880f",
   "metadata": {
    "slideshow": {
     "slide_type": "slide"
    }
   },
   "outputs": [
    {
     "ename": "ModuleNotFoundError",
     "evalue": "No module named 'pandas'",
     "output_type": "error",
     "traceback": [
      "\u001b[31m---------------------------------------------------------------------------\u001b[39m",
      "\u001b[31mModuleNotFoundError\u001b[39m                       Traceback (most recent call last)",
      "\u001b[36mCell\u001b[39m\u001b[36m \u001b[39m\u001b[32mIn[1]\u001b[39m\u001b[32m, line 1\u001b[39m\n\u001b[32m----> \u001b[39m\u001b[32m1\u001b[39m \u001b[38;5;28;01mimport\u001b[39;00m\u001b[38;5;250m \u001b[39m\u001b[34;01mpandas\u001b[39;00m\u001b[38;5;250m \u001b[39m\u001b[38;5;28;01mas\u001b[39;00m\u001b[38;5;250m \u001b[39m\u001b[34;01mpd\u001b[39;00m\n\u001b[32m      2\u001b[39m \u001b[38;5;28;01mimport\u001b[39;00m\u001b[38;5;250m \u001b[39m\u001b[34;01mnumpy\u001b[39;00m\u001b[38;5;250m \u001b[39m\u001b[38;5;28;01mas\u001b[39;00m\u001b[38;5;250m \u001b[39m\u001b[34;01mnp\u001b[39;00m\n\u001b[32m      4\u001b[39m \u001b[38;5;66;03m# Cargar la lista de estudiantes desde el archivo CSV\u001b[39;00m\n",
      "\u001b[31mModuleNotFoundError\u001b[39m: No module named 'pandas'"
     ]
    }
   ],
   "source": [
    "import pandas as pd\n",
    "import numpy as np\n",
    "\n",
    "# Cargar la lista de estudiantes desde el archivo CSV\n",
    "path = 'C:/Users/marco/Documentos/docencia/groups_list/ing_software_joseph.xlsx'\n",
    "df = pd.read_excel(path)\n",
    "df.head() \n"
   ]
  },
  {
   "cell_type": "markdown",
   "id": "d7598d0a-d9b7-4ae0-b029-a0ed6ed1130b",
   "metadata": {},
   "source": [
    "\n",
    "# Principios de mi labor docente"
   ]
  },
  {
   "cell_type": "markdown",
   "id": "4f9d8cf9",
   "metadata": {
    "slideshow": {
     "slide_type": "slide"
    }
   },
   "source": [
    "## Modelo general de clase: [aula invertida](https://www3.gobiernodecanarias.org/medusa/ecoescuela/pedagotic/aprendizaje-invertido-flipped-classroom/)"
   ]
  },
  {
   "cell_type": "markdown",
   "id": "eb6ed03a",
   "metadata": {},
   "source": [
    "<img src = 'https://resources.maneuveringthemiddle.com/wp-content/uploads/2020/07/04212706/1-5.png' width = 200>  \n",
    "\n"
   ]
  },
  {
   "cell_type": "markdown",
   "id": "34319cce-a71b-4f64-aab8-b53e521efa40",
   "metadata": {},
   "source": [
    "# Metodología de Aprendizaje Basado en Problemas y Proyectos (ABPP)\n"
   ]
  },
  {
   "cell_type": "markdown",
   "id": "c4f73d81",
   "metadata": {},
   "source": [
    "\n",
    "<img src = 'https://www.unir.net/wp-content/uploads/2020/07/aprendizaje-problemas2-1-1-1-1.jpeg' width = 200>"
   ]
  },
  {
   "cell_type": "markdown",
   "id": "841a985c-bd9b-4dd3-8e4c-893983980af2",
   "metadata": {},
   "source": [
    "# Desarrollo del pensamiento computacional con Lenguajes Python y R, y con archivos Markdown orientado a la formación en ciencia de datos \n",
    "\n"
   ]
  },
  {
   "cell_type": "markdown",
   "id": "3d0eba94",
   "metadata": {},
   "source": [
    "\n",
    "<img src = 'https://i.ytimg.com/vi/mcG_wcR4e6M/maxresdefault.jpg' width = 200>"
   ]
  },
  {
   "cell_type": "markdown",
   "id": "65aa0404-f7ae-495e-864c-1aec01b4255e",
   "metadata": {},
   "source": [
    "# Principio de fomento a la ciencia abierta, enseñar en el acceso a los datos públicos y el uso de software de código abierto  \n"
   ]
  },
  {
   "cell_type": "markdown",
   "id": "18ae9b87",
   "metadata": {},
   "source": [
    "\n",
    "<img src = 'https://unesdoc.unesco.org/in/rest/Thumb/image?id=p%3A%3Ausmarcdef_0000379949_spa&author=UNESCO&title=Recomendaci%C3%B3n+de+la+UNESCO+sobre+la+Ciencia+Abierta&year=2021&publisher=UNESCO&TypeOfDocument=UnescoPhysicalDocument&mat=PGD&ct=true&size=512&isPhysical=1' width = 200>"
   ]
  },
  {
   "cell_type": "markdown",
   "id": "d9559f85",
   "metadata": {},
   "source": [
    "El enfoque STEAMS en educación preescolar, primaria y secundaria es una extensión del enfoque STEM (Ciencia, Tecnología, Ingeniería y Matemáticas) y su variante STEAM, que incorpora el Arte. "
   ]
  },
  {
   "cell_type": "markdown",
   "id": "0130ec1b",
   "metadata": {},
   "source": [
    "\n",
    "<img src = 'https://www.campuseducacion.com/blog/wp-content/uploads/2023/03/foto01-1.jpg' width = 200>"
   ]
  },
  {
   "cell_type": "code",
   "execution_count": 2,
   "id": "28bae6cb",
   "metadata": {},
   "outputs": [],
   "source": [
    "def save_fig(nombre_archivo_imagen):\n",
    "    import os \n",
    "    import matplotlib.pyplot as plt\n",
    "    ubicacion_para_imagenes = r\"C:/Users/marco/Downloads\"\n",
    "    imagen_path = os.path.join(ubicacion_para_imagenes, nombre_archivo_imagen)\n",
    "    plt.savefig(imagen_path, bbox_inches='tight')"
   ]
  },
  {
   "cell_type": "markdown",
   "id": "10e55ccf",
   "metadata": {},
   "source": [
    "# Estructura general para todas las clases\n"
   ]
  },
  {
   "cell_type": "markdown",
   "id": "ddd73417",
   "metadata": {},
   "source": [
    "\n",
    "Dame, por favor, un diseño de clase, con el enfoque: \"Aula Invertida, STEAMS y de Aprendizaje Basado en Problemas y Proyectos (ABPP) y el enfoque de Teoría de Registros de Representación semiótica (TRRS) de Duval\" sobre: \"La noción de función matemática en Precálculo con enfoque hacia lenguaje Python  y lo que de funciones matemáticas se requiere en redes neuronales artificiales\", siguiendo la estructura:  \n",
    "\n",
    "1. Título de la clase   \n",
    "   \n",
    "2. Objetivo de aprendizaje que incluyan los indicadores del logro de estos objetivos. \n",
    "   \n",
    "3. Un mapa conceptual que resuma la clase elaborado en Graphviz de python con nodos y edges de diferentes formas, colores y rellenos y renderizado en la siguiente ubicación: `\"C:\\Users\\marco\\Downloads\"`.  No olvides el parámetro `view = True` para el método `render()` de Graphviz. Para este mapa controla las superposiciones de los nodos con: graph [overlap=false]; // Elimina superposiciones (puede aumentar el espacio)\n",
    "graph [overlap=\"scalexy\"]; // Escala el gráfico para evitar overlaps\n",
    "graph [overlap=\"compress\"]; // Comprime el grafo sin overlaps  \n",
    "   \n",
    "4. Elementos históricos y epistemológicos relevantes para la clase, pero narrados como una historieta al estilo de un cuentero antioqueño en Colombia. Incluye imágenes de los protagonistas históricos de esta clase.  \n",
    "   \n",
    "5. Contenido de la clase:     \n",
    "   \n",
    "     1. Enseña cómo presentar el algoritmo del trapecio de forma geométrica\n",
    "     2. Enseña cómo presentar el algoritmo del trapecio de forma verbal, es decir, en lenguaje natural. \n",
    "     3. Enseña cómo presentar el algoritmo del trapecio de forma de código python\n",
    "     4. Enseña cómo presentar el algoritmo del trapecio de forma algebraica. \n",
    "   \n",
    "     * Incluye una visualización con matplotlib y ipywidgets (interactividad con deslizadores) de python \n",
    "     * Incluye, cómo implementar la calculadora \"Casio 991LA cw\" para implementar el método numérico de integración por trapecios. \n",
    "     \n",
    "     \n",
    "6. Deducción de una función de usuario de python, que permita determinar el número de rectángulos $n$ necesarios para una precisión de la suma de con trapecios de $\\epsilon = 0.0001$ (es decir, de tres cifras de precisión).   \n",
    "   \n",
    "7. Actividades de aprendizaje: que incluya pruebas de escritorio para los algoritmos en forma verbal y seudo código, diagrama de flujo, y la implementación del algoritmo en lenguaje python.  \n",
    "   \n",
    "8. Incluye una canción o un poema que ayude a interiorizar y fijar los conceptos asociados a esta clase.   \n",
    "   \n",
    "9.  Tarea 45 ejercicios o actividades de ejercitación y fijación. \n",
    "    * 15 ejercicios conceptules \n",
    "    * 15 ejercicios de habilidades para determinar dominio, tipo de función, y gráfica de una función.\n",
    "    * 15  de aplicación\n",
    "    \n",
    "10. Evaluación incluyendo veinte proyectos, un ejemplo de quiz y un ejemplo de parcial. Incluye evaluaciones en las que los estudiantes empiecen con la descripción geométrica del algoritmo, luego la descripción verbal y secuencial del algoritmo, después la implementación en lenguaje python editado a través de la terminal powershell de su computador, y finalmente con el cálculo algebraico y numérico a mano y en su cuaderno para $n = 4$. \n",
    "    \n",
    "11. Diseño de actividad de retroalimentación.   \n",
    "    \n",
    "12. Dame un vocabulario y frases del idioma inglés asociadas a esta clase.    \n",
    "     \n",
    "13. Incluye apéndice para la clase sobre desarrollo de habilidades para trabajar en equipo y de asertividad y empatía para relacionarnos. También elementos de la inteligencia emocional para presentar pruebas sin temor y sin realizar fraude en ellas.    \n",
    "     \n",
    "14. Incluye 10 referentes en didáctica de la matemática que estén de acuerdo a la propuesta didáctica de esta clase. Adiciona a estos referentes a Raymond Duval (Representaciones y cambios de representación para la adquisición de conceptos matemáticos) y a Janete Wing (Desarrollo del pensamiento computacional). Dejame todos estos referentes ordenados de acuerdo a las normas APA. Al crear la clase, introduce las citas de estos autores en el texto de la clase.\n",
    "\n",
    "\n",
    "Pero  que este diseño sea para que el estudiante pueda aprender experimentando en cuadernos Jupyter con funciones de usuario y animaciones y visualizaciones en python.   \n",
    "\n",
    "En particular utiliza para el diseño de clase a Numpy, Pandas, SymPy, Matplotlib.pyplot, Seaborn, Plotly, ipywidgets, matplotlib.animation y Jupyter Notebook.    \n",
    "\n",
    "Cada vez que utilices `matplotlib.animacion` no olvides incluir el uso de `IPython. display` para la rederización de estas animaciones a través de Jupyter Notebook. No olvides darme los diseños de clase con las ecuaciones matemáticas delimitadas con signo de dolar $ para que VS Code si me renderize estas expresiones del lenguaje latex. Cuando vallas a utilizar ipywidgets ten en cuenta la siguiente importación inicial para garantizar que la visualización interactiva si se renderize en VS Code:   \n",
    "\n",
    "import numpy as np  \n",
    "import matplotlib.pyplot as plt  \n",
    "import ipywidgets as widgets  \n",
    "\n",
    "El vínculo a la lista de grupo es 'C:/Users/marco/Documentos/docencia/groups_list/ing_software_joseph.xlsx'\n",
    "Incluya una función de python, que toma la lista de estudiantes y cree una tabla o dataframe donde la asigne a los estudiantes sus tareas y proyectos para evaluarlos de acuerdo a su asignación individual con fecha límite el día de realización del parcial. \n"
   ]
  },
  {
   "cell_type": "code",
   "execution_count": null,
   "id": "8d8c647d",
   "metadata": {},
   "outputs": [],
   "source": [
    "# Diseño de asignación de tareas y proyectos por clase \n",
    "import pandas as pd\n",
    "\n",
    "# Datos de asignaciones (pueden estar en un CSV o JSON en el repo)\n",
    "asignaciones = {\n",
    "    \"Clase\": [\"Clase 1\", \"Clase 1\", \"Clase 2\"],\n",
    "    \"Tarea\": [\"Ejercicio de Python\", \"Análisis de datos\", \"Modelo ML\"],\n",
    "    \"Estudiante\": [\"user1\", \"user2\", \"user1\"],\n",
    "    \"Deadline\": [\"2024-08-10\", \"2024-08-12\", \"2024-08-15\"]\n",
    "}\n",
    "\n",
    "df = pd.DataFrame(asignaciones)\n",
    "\n",
    "# Función para que el estudiante consulte sus tareas\n",
    "def consultar_tareas(estudiante):\n",
    "    return df[df[\"Estudiante\"] == estudiante]\n",
    "\n",
    "# Ejemplo: El estudiante \"user1\" consulta\n",
    "print(consultar_tareas(\"user1\"))"
   ]
  },
  {
   "cell_type": "markdown",
   "id": "d401bbd4",
   "metadata": {},
   "source": [
    "# Diseño de Clase: \"La noción de función matemática en Precálculo con Python y aplicaciones en redes neuronales\"\n"
   ]
  },
  {
   "cell_type": "markdown",
   "id": "04875d85",
   "metadata": {},
   "source": [
    "\n",
    "## 1. Título de la clase\n",
    "**\"Funciones matemáticas: del trapecio a las redes neuronales - Un viaje multimodal con Python\"**\n",
    "\n",
    "## 2. Objetivos de aprendizaje\n",
    "\n",
    "**Objetivo principal:**  \n",
    "Comprender el concepto de función matemática a través de múltiples representaciones (geométrica, algebraica, verbal, computacional) aplicando el método del trapecio y relacionándolo con funciones de activación en redes neuronales.\n",
    "\n",
    "**Indicadores de logro:**\n",
    "- Transforma representaciones de funciones entre registros semióticos (Duval)\n",
    "- Implementa el método del trapecio en Python usando numpy y matplotlib\n",
    "- Relaciona funciones matemáticas con funciones de activación en redes neuronales\n",
    "- Diseña visualizaciones interactivas con ipywidgets\n",
    "- Resuelve problemas aplicados con precisión controlada\n",
    "- Trabaja colaborativamente en proyectos STEAM\n",
    "\n",
    "## 3. Mapa conceptual (Graphviz)\n",
    "\n",
    "```python\n",
    "from graphviz import Digraph\n",
    "\n",
    "# Crear el gráfico\n",
    "graph = Digraph('FuncionesMatematicas', \n",
    "                filename='C:/Users/marco/Downloads/funciones_matematicas.gv',\n",
    "                format='png',\n",
    "                engine='neato')\n",
    "\n",
    "# Configuración para evitar overlaps\n",
    "graph.attr('graph', overlap='false', splines='true', layout='neato')\n",
    "\n",
    "# Nodos principales\n",
    "graph.attr('node', shape='ellipse', style='filled', color='lightblue2')\n",
    "graph.node('Funciones', 'Funciones Matemáticas')\n",
    "graph.node('Representaciones', 'Registros de Representación')\n",
    "graph.node('Trapecio', 'Método del Trapecio')\n",
    "graph.node('Python', 'Implementación en Python')\n",
    "graph.node('Redes', 'Redes Neuronales')\n",
    "\n",
    "# Subnodos para representaciones\n",
    "graph.attr('node', shape='box', style='filled', color='coral')\n",
    "graph.node('Geometrica', 'Geométrica')\n",
    "graph.node('Algebraica', 'Algebraica')\n",
    "graph.node('Verbal', 'Verbal')\n",
    "graph.node('Codigo', 'Código Python')\n",
    "\n",
    "# Subnodos para aplicaciones\n",
    "graph.attr('node', shape='octagon', style='filled', color='darkolivegreen3')\n",
    "graph.node('Activacion', 'Funciones de Activación')\n",
    "graph.node('Perceptron', 'Perceptrón')\n",
    "graph.node('Backprop', 'Backpropagation')\n",
    "\n",
    "# Conexiones principales\n",
    "graph.edge('Funciones', 'Representaciones')\n",
    "graph.edge('Funciones', 'Trapecio')\n",
    "graph.edge('Funciones', 'Redes')\n",
    "graph.edge('Trapecio', 'Python')\n",
    "graph.edge('Redes', 'Python')\n",
    "\n",
    "# Conexiones de representaciones\n",
    "graph.edge('Representaciones', 'Geometrica')\n",
    "graph.edge('Representaciones', 'Algebraica')\n",
    "graph.edge('Representaciones', 'Verbal')\n",
    "graph.edge('Representaciones', 'Codigo')\n",
    "\n",
    "# Conexiones de redes neuronales\n",
    "graph.edge('Redes', 'Activacion')\n",
    "graph.edge('Redes', 'Perceptron')\n",
    "graph.edge('Redes', 'Backprop')\n",
    "\n",
    "# Visualizaciones interactivas\n",
    "graph.attr('node', shape='component', style='filled', color='gold')\n",
    "graph.node('Widgets', 'ipywidgets')\n",
    "graph.node('Anim', 'Animaciones')\n",
    "graph.edge('Python', 'Widgets')\n",
    "graph.edge('Python', 'Anim')\n",
    "\n",
    "# Renderizar y mostrar\n",
    "graph.render(view=True)\n",
    "```\n",
    "\n",
    "## 4. Historia epistemológica (estilo cuentero antioqueño)\n",
    "\n",
    "*\"¡Ay hombe!* Les voy a contar la historia de cómo estos locos matemáticos se la pasaron inventando cositas raras... \n",
    "\n",
    "*Imagen de Leonhard Euler con sombrero vueltiao:* Miren al señor Euler aquí, todo emperifollado, que fue el primero en decir *\"una función es como una curva que dibujas sin levantar el lápiz\"*. ¡Pero qué vaina tan sencilla pensó él! \n",
    "\n",
    "*Imagen de Fourier con ruana:* Luego llegó este otro, Fourier, diciendo *\"no, mijito, las funciones pueden tener picos y saltos\"* y se inventó sus series que ahora usamos hasta para el Spotify.\n",
    "\n",
    "*Imagen de Dirichlet con machete:* Y no contentos con eso, Dirichlet sacó el machete y dijo *\"una función es simplemente una regla que asigna valores\"* y nos dejó la definición moderna.\n",
    "\n",
    "*Imagen de Alan Turing con laptop:* Y cuando ya estábamos tranquilos, llegó este pelao Turing con sus máquinas y dijo *\"las funciones también son algoritmos\"* y nos metió en este lío de programarlas.\n",
    "\n",
    "*Imagen de una neurona artificial bailando:* Y ahora resulta que hasta las neuronas artificiales son funciones, ¡qué desorden! Pero gracias a Python, podemos jugar con todas estas ideas sin volvernos majaras.\"\n",
    "\n",
    "## 5. Contenido de la clase\n",
    "\n",
    "### 5.1 Algoritmo del trapecio - Representación geométrica\n",
    "\n",
    "```python\n",
    "import numpy as np\n",
    "import matplotlib.pyplot as plt\n",
    "from IPython.display import display, HTML\n",
    "from ipywidgets import interact\n",
    "\n",
    "def plot_trapezoid(f, a, b, n):\n",
    "    x = np.linspace(a, b, 1000)\n",
    "    x_trap = np.linspace(a, b, n+1)\n",
    "    y = f(x)\n",
    "    y_trap = f(x_trap)\n",
    "    \n",
    "    fig, ax = plt.subplots(figsize=(10,6))\n",
    "    ax.plot(x, y, 'b-', label='Función')\n",
    "    ax.plot(x_trap, y_trap, 'ro')\n",
    "    \n",
    "    for i in range(n):\n",
    "        xs = [x_trap[i], x_trap[i], x_trap[i+1], x_trap[i+1]]\n",
    "        ys = [0, y_trap[i], y_trap[i+1], 0]\n",
    "        ax.fill(xs, ys, 'g', alpha=0.3)\n",
    "    \n",
    "    ax.set_title(f'Integral por trapecios (n={n})')\n",
    "    ax.legend()\n",
    "    plt.show()\n",
    "\n",
    "def f(x):\n",
    "    return np.sin(x) + 2\n",
    "\n",
    "interact(plot_trapezoid, f=widgets.fixed(f), \n",
    "         a=widgets.FloatSlider(value=0, min=-5, max=5), \n",
    "         b=widgets.FloatSlider(value=3, min=-5, max=5), \n",
    "         n=widgets.IntSlider(value=4, min=1, max=20))\n",
    "```\n",
    "\n",
    "### 5.2 Descripción verbal del algoritmo\n",
    "\n",
    "1. **Dividir el intervalo**: Tomar el intervalo [a, b] y dividirlo en n subintervalos iguales\n",
    "2. **Calcular puntos**: Evaluar la función en los extremos de cada subintervalo\n",
    "3. **Formar trapecios**: Para cada par de puntos consecutivos, formar un trapecio\n",
    "4. **Calcular áreas**: Calcular el área de cada trapecio como (base1 + base2)*altura/2\n",
    "5. **Sumar áreas**: Sumar todas las áreas para obtener la aproximación de la integral\n",
    "\n",
    "### 5.3 Implementación en Python\n",
    "\n",
    "```python\n",
    "def trapezoidal_rule(f, a, b, n):\n",
    "    \"\"\"\n",
    "    Integración numérica por el método del trapecio\n",
    "    \n",
    "    Parámetros:\n",
    "    f : función a integrar\n",
    "    a : límite inferior\n",
    "    b : límite superior\n",
    "    n : número de trapecios\n",
    "    \n",
    "    Retorna:\n",
    "    Aproximación de la integral\n",
    "    \"\"\"\n",
    "    h = (b - a) / n\n",
    "    x = np.linspace(a, b, n+1)\n",
    "    y = f(x)\n",
    "    return h * (0.5*y[0] + 0.5*y[-1] + np.sum(y[1:-1]))\n",
    "\n",
    "# Ejemplo de uso\n",
    "result = trapezoidal_rule(lambda x: np.exp(-x**2), 0, 1, 100)\n",
    "print(f\"Aproximación de la integral: {result:.6f}\")\n",
    "```\n",
    "\n",
    "### 5.4 Formulación algebraica\n",
    "\n",
    "La regla del trapecio compuesta se expresa como:\n",
    "\n",
    "$$\\int_{a}^{b} f(x) dx \\approx \\frac{h}{2} \\left[ f(x_0) + 2 \\sum_{i=1}^{n-1} f(x_i) + f(x_n) \\right]$$\n",
    "\n",
    "donde:\n",
    "- $h = \\frac{b-a}{n}$ es el ancho de cada subintervalo\n",
    "- $x_i = a + i \\cdot h$ para $i = 0, 1, ..., n$\n",
    "\n",
    "### 5.5 Implementación en calculadora Casio 991LA X\n",
    "\n",
    "1. Ingresar a modo TABLE (MENU 7)\n",
    "2. Definir la función f(X) a integrar\n",
    "3. Configurar Start (a), End (b) y Step (h)\n",
    "4. Anotar los valores de f(X) en cada punto\n",
    "5. Aplicar manualmente la fórmula del trapecio\n",
    "\n",
    "## 6. Función para determinar n con precisión ε\n",
    "\n",
    "```python\n",
    "def find_n_for_precision(f, a, b, epsilon=0.0001, max_iter=1000):\n",
    "    \"\"\"\n",
    "    Encuentra el número de trapecios necesarios para una precisión dada\n",
    "    \n",
    "    Parámetros:\n",
    "    f : función a integrar\n",
    "    a, b : límites de integración\n",
    "    epsilon : precisión deseada\n",
    "    max_iter : máximo número de iteraciones\n",
    "    \n",
    "    Retorna:\n",
    "    n : número de trapecios requeridos\n",
    "    \"\"\"\n",
    "    n = 4\n",
    "    prev_integral = trapezoidal_rule(f, a, b, n)\n",
    "    \n",
    "    for _ in range(max_iter):\n",
    "        n *= 2\n",
    "        current_integral = trapezoidal_rule(f, a, b, n)\n",
    "        \n",
    "        if abs(current_integral - prev_integral) < epsilon:\n",
    "            return n\n",
    "        \n",
    "        prev_integral = current_integral\n",
    "    \n",
    "    return n  # Si no converge, retorna el último n probado\n",
    "\n",
    "# Ejemplo de uso\n",
    "n_required = find_n_for_precision(lambda x: np.sin(x**2), 0, 2)\n",
    "print(f\"Número de trapecios necesarios: {n_required}\")\n",
    "```\n",
    "\n",
    "## 7. Actividades de aprendizaje\n",
    "\n",
    "**Prueba de escritorio para el algoritmo verbal:**\n",
    "\n",
    "| Paso | Descripción                  | Valores (ejemplo f(x)=x², a=0, b=2, n=4) |\n",
    "|------|------------------------------|-------------------------------------------|\n",
    "| 1    | Calcular h                   | h = (2-0)/4 = 0.5                        |\n",
    "| 2    | Calcular puntos x_i          | 0, 0.5, 1, 1.5, 2                        |\n",
    "| 3    | Evaluar f(x_i)               | 0, 0.25, 1, 2.25, 4                      |\n",
    "| 4    | Aplicar fórmula del trapecio | 0.5/2 * (0 + 2*(0.25+1+2.25) + 4) = 2.75 |\n",
    "\n",
    "**Diagrama de flujo en pseudocódigo:**\n",
    "```\n",
    "INICIO\n",
    "  LEER f, a, b, n\n",
    "  h = (b - a) / n\n",
    "  suma = 0.5 * (f(a) + f(b))\n",
    "  \n",
    "  PARA i DESDE 1 HASTA n-1 HACER\n",
    "    x_i = a + i * h\n",
    "    suma = suma + f(x_i)\n",
    "  FIN PARA\n",
    "  \n",
    "  integral = h * suma\n",
    "  IMPRIMIR integral\n",
    "FIN\n",
    "```\n",
    "\n",
    "## 8. Canción para aprender funciones\n",
    "\n",
    "*(Con melodía de \"La bamba\")*\n",
    "\n",
    "```\n",
    "Para integrar con trapecios, \n",
    "necesitas una función, \n",
    "y un intervalo [a,b], \n",
    "y en n partes lo dividirás. \n",
    "\n",
    "¡Trapecios! ¡Trapecios!\n",
    "Áreas sumarás,\n",
    "la altura h calcularás,\n",
    "y el resultado obtendrás.\n",
    "\n",
    "Desde x0 hasta xn,\n",
    "puntos evaluarás,\n",
    "con la fórmula aplicarás,\n",
    "¡y la integral aproximarás!\n",
    "```\n"
   ]
  },
  {
   "cell_type": "markdown",
   "id": "7d86f1b3",
   "metadata": {},
   "source": [
    "\n",
    "## 9. Tareas (45 ejercicios)\n",
    "\n",
    "**15 conceptuales:**\n",
    "1. Defina función matemática según 3 diferentes autores\n",
    "2. Explique la diferencia entre función y relación\n",
    "3. ¿Por qué el método del trapecio es una aproximación?\n",
    "4. Relacione funciones con perceptrones simples\n",
    "5. ¿Cómo se representa una función en Python?\n",
    "\n",
    "**15 de habilidades:**\n",
    "1. Dada f(x) = 1/(x-2), determine su dominio\n",
    "2. Grafique f(x) = e^(-x) * sin(x) en [0, 4π]\n",
    "3. Clasifique las funciones: log(x), x^2, sin(x), ReLU\n",
    "4. Implemente en Python f(x) = max(0, x) (ReLU)\n",
    "5. Calcule manualmente ∫(1 a 3) x^2 dx con n=4 trapecios\n",
    "\n",
    "**15 de aplicación:**\n",
    "1. Aproxime el área bajo una campana gaussiana\n",
    "2. Calcule trabajo mecánico con fuerza variable\n",
    "3. Modele una neurona con función sigmoide\n",
    "4. Compare trapecio vs Simpson para misma función\n",
    "5. Optimice n para error < 0.0001 en ∫(0 a π) sin(x) dx\n"
   ]
  },
  {
   "cell_type": "markdown",
   "id": "9cc5c867",
   "metadata": {},
   "source": [
    "# Tarea de ejercicios conceptuales "
   ]
  },
  {
   "cell_type": "markdown",
   "id": "7bff7174",
   "metadata": {},
   "source": [
    "Si una función $f$ está dada por la fórmula $y = f(x)$, entonces $f(a)$  es la imagen de $a$ bajo la función $f$\n",
    "\n",
    "También llamamos a $f(a)$ el valor de $a$ bajo $f$. "
   ]
  },
  {
   "cell_type": "markdown",
   "id": "ed859870",
   "metadata": {},
   "source": [
    "# Tarea de ejercicios de adquisición de habilidades "
   ]
  },
  {
   "cell_type": "markdown",
   "id": "db1c3c7e",
   "metadata": {},
   "source": [
    "# Tarea de ejercicios de aplicación"
   ]
  },
  {
   "cell_type": "markdown",
   "id": "c5975f39",
   "metadata": {},
   "source": [
    "\n",
    "## 10. Evaluación\n",
    "\n",
    "**Proyectos ejemplo:**\n",
    "1. Visualizador interactivo de métodos de integración\n",
    "2. Calculadora de áreas irregulares con fotografía\n",
    "3. Simulador de red neuronal de una sola capa\n",
    "4. Comparador de funciones de activación\n",
    "5. Tutorial multimedia sobre registros de representación\n",
    "\n",
    "**Quiz ejemplo:**\n",
    "1. Dada la gráfica de f(x), dibuje 4 trapecios para aproximar ∫(1 a 5) f(x) dx\n",
    "2. Escriba el pseudocódigo del método del trapecio\n",
    "3. Convierta f(x) = 2x + 3 de representación algebraica a Python\n",
    "\n",
    "**Parcial ejemplo:**\n",
    "1. Deduzca la fórmula del error para el método del trapecio\n",
    "2. Implemente en Python una función que reciba f, a, b, ε y retorne n e integral\n",
    "3. Explique cómo se relaciona ∫f(x)dx con el aprendizaje en redes neuronales\n",
    "\n",
    "## 11. Retroalimentación\n",
    "\n",
    "**Estrategias:**\n",
    "1. **Portafolio digital:** Cada estudiante mantiene un Jupyter Notebook con sus implementaciones y reflexiones\n",
    "2. **Revisión por pares:** Intercambian códigos y mejoran implementaciones\n",
    "3. **Tutoría inversa:** Estudiantes que dominan conceptos enseñan a compañeros\n",
    "4. **Rúbricas detalladas:** Con criterios para cada representación (geométrica, verbal, etc.)\n",
    "5. **Autoevaluación:** Usando checklist de competencias adquiridas\n",
    "\n",
    "## 12. Vocabulario en inglés\n",
    "\n",
    "**Términos clave:**\n",
    "- Function: Función\n",
    "- Trapezoidal rule: Regla del trapecio\n",
    "- Numerical integration: Integración numérica\n",
    "- Semiotic representation: Representación semiótica\n",
    "- Activation function: Función de activación\n",
    "- Neural network: Red neuronal\n",
    "- Domain: Dominio\n",
    "- Range: Rango\n",
    "- Approximation: Aproximación\n",
    "- Precision: Precisión\n",
    "\n",
    "**Frases útiles:**\n",
    "- \"The function maps inputs to outputs\"\n",
    "- \"We approximate the integral using trapezoids\"\n",
    "- \"Python implements mathematical concepts as functions\"\n",
    "- \"Neural networks rely on nonlinear activation functions\"\n",
    "- \"Different representations help deepen understanding\"\n",
    "\n",
    "## 13. Apéndice: Habilidades blandas\n",
    "\n",
    "**Trabajo en equipo:**\n",
    "1. **Roles rotativos:** En proyectos, rotar roles (codificador, documentador, visualizador)\n",
    "2. **Git colaborativo:** Usar GitHub para trabajo coordinado\n",
    "3. **Rúbrica de colaboración:** Evaluar contribuciones equitativas\n",
    "\n",
    "**Inteligencia emocional:**\n",
    "1. **Taller de ansiedad matemática:** Identificar y manejar miedos\n",
    "2. **Contratos de honestidad:** Acuerdos contra el fraude\n",
    "3. **Diarios reflexivos:** Registrar procesos emocionales en el aprendizaje\n",
    "\n",
    "## 14. Referentes didácticos (APA)\n",
    "\n",
    "1. Duval, R. (2006). Un tema crucial en la educación matemática: La habilidad para cambiar el registro de representación. *La Gaceta de la RSME, 9*(1), 143-168.\n",
    "\n",
    "2. Wing, J. M. (2006). Computational thinking. *Communications of the ACM, 49*(3), 33-35.\n",
    "\n",
    "3. Artigue, M. (2002). Learning mathematics in a CAS environment: The genesis of a reflection about instrumentation and the dialectics between technical and conceptual work. *International Journal of Computers for Mathematical Learning, 7*(3), 245-274.\n",
    "\n",
    "4. Blum, W., & Niss, M. (1991). Applied mathematical problem solving, modelling, applications, and links to other subjects—State, trends and issues in mathematics instruction. *Educational studies in mathematics, 22*(1), 37-68.\n",
    "\n",
    "5. Lesh, R., & Doerr, H. M. (2003). Foundations of a models and modeling perspective on mathematics teaching, learning, and problem solving. *Beyond constructivism: Models and modeling perspectives on mathematics problem solving, learning, and teaching*, 3-33.\n",
    "\n",
    "6. Papert, S. (1980). *Mindstorms: Children, computers, and powerful ideas*. Basic Books.\n",
    "\n",
    "7. Schoenfeld, A. H. (1985). *Mathematical problem solving*. Academic Press.\n",
    "\n",
    "8. Tall, D. (2013). *How humans learn to think mathematically: Exploring the three worlds of mathematics*. Cambridge University Press.\n",
    "\n",
    "9. Vygotsky, L. S. (1978). *Mind in society: The development of higher psychological processes*. Harvard University Press.\n",
    "\n",
    "10. Zbiek, R. M., Heid, M. K., Blume, G. W., & Dick, T. P. (2007). Research on technology in mathematics education: A perspective of constructs. *Second handbook of research on mathematics teaching and learning*, 2, 116"
   ]
  },
  {
   "cell_type": "code",
   "execution_count": null,
   "id": "7bdef36e",
   "metadata": {},
   "outputs": [],
   "source": []
  },
  {
   "cell_type": "code",
   "execution_count": null,
   "id": "596bbb56",
   "metadata": {},
   "outputs": [],
   "source": []
  },
  {
   "cell_type": "markdown",
   "id": "239427f7",
   "metadata": {},
   "source": [
    "# ARTÍCULO 1. Definir el calendario académico para los diferentes programas de pregrado de los campus\n",
    "regionalizados, correspondiente al primer periodo académico del año 2025, así:\n",
    "* Oferta 28 de enero de 2025\n",
    "* Matrícula 30 de enero de 2025\n",
    "* Ajustes 03 al 10 de febrero de 2025\n",
    "* Inicio de clases 10 de febrero de 2025\n",
    "* Límite evaluación del 40% 06 de abril de 2025\n",
    "* Terminación de clases 08 de junio de 2025\n",
    "* Exámenes finales 09 al 15 de junio de 2025\n",
    "* Habilitación y validación 16 al 22 de junio de 2025\n",
    "* Terminación oficial 23 de junio de 2025"
   ]
  },
  {
   "cell_type": "code",
   "execution_count": null,
   "id": "ec048afb",
   "metadata": {},
   "outputs": [],
   "source": []
  },
  {
   "cell_type": "code",
   "execution_count": null,
   "id": "cc539357",
   "metadata": {},
   "outputs": [],
   "source": []
  },
  {
   "cell_type": "markdown",
   "id": "8ba64aed",
   "metadata": {},
   "source": [
    "# Cursos que orienta el profesor Marco Julio Cañas Campillo en 2025  \n",
    "\n",
    "1. Práctica Pedagógica V para Licenciatura en Educación Infantil\n",
    "2. Fundamentos de Lógica para Licenciatura en Matemáticas \n",
    "3. Análisis Numérico para Licenciatura en Matemáticas. \n",
    "4. Cálculo Vectorial para Ingeniería Agropecuaria"
   ]
  },
  {
   "cell_type": "markdown",
   "id": "8d41fe58",
   "metadata": {
    "slideshow": {
     "slide_type": "slide"
    }
   },
   "source": [
    "# Horario de clases del profesor Marco\n",
    "\n",
    "* Lunes 8-12: Cálculo Vectorial\n",
    "* Martes 8-12 M: Fundamentos de Aritmética. \n",
    "* Miércoles 8 a 12 M: Fundamentos de la Lógica\n",
    "* Jueves 2 a 6 PM: Desarrollo del pensamiento matemático en la infancia. \n",
    "* Viernes 8 - 12 M: Desarrollo del pensamiento matemático en la infancia. \n",
    "* Sábados 8-12 Asesorías y espacio para retroalimentación y apoyo al trabajo independiente. "
   ]
  },
  {
   "cell_type": "markdown",
   "id": "ae114e14",
   "metadata": {
    "slideshow": {
     "slide_type": "slide"
    }
   },
   "source": [
    "# Horarios de monitoría y asesoría  \n",
    "\n",
    "Coordinador de los cursos de la Facultad de Educación para regiones:    \n",
    "\n",
    "Andrés Vélez: regioneducacion.fedu@udea.edu.co  \n",
    "Coordinador Regiones  \n",
    "Facultad de Educación  \n",
    "Universidad de Antioquia  "
   ]
  },
  {
   "cell_type": "markdown",
   "id": "b1db4b6c",
   "metadata": {
    "slideshow": {
     "slide_type": "slide"
    }
   },
   "source": [
    "## Monitor Manuel San Juan Serrano\n",
    "\n",
    "Contactar escribiendo al correo: manuel.serrano1@udea.edu.co"
   ]
  },
  {
   "cell_type": "markdown",
   "id": "39559692",
   "metadata": {
    "slideshow": {
     "slide_type": "slide"
    }
   },
   "source": [
    "Martes y jueves de 8 - 12  \n",
    "Miércoles 10 - 12 y de 2 a 4 PM  \n",
    "Sábado: 8 - 12"
   ]
  },
  {
   "cell_type": "markdown",
   "id": "10bce0d0",
   "metadata": {
    "slideshow": {
     "slide_type": "slide"
    }
   },
   "source": [
    "## Referentes "
   ]
  },
  {
   "cell_type": "markdown",
   "id": "1db3c468",
   "metadata": {
    "slideshow": {
     "slide_type": "slide"
    }
   },
   "source": [
    "* [CALCULO I DE UNA VARIABLE Ron Larson-Bruce Edwards. Mc Graw Hill. 9º Edición](https://www.academia.edu/42139251/CALCULO_I_DE_UNA_VARIABLE_Ron_Larson_Bruce_Edwards_Mc_Graw_Hill_9o_Edici%C3%B3n)   \n",
    "  \n",
    "\n",
    "* [Grajales Vanegas, L. M., Restrepo Estrada, C. E., Restrepo Ochoa, S. I., & Ruíz De Villalba, F. (2015). Matemáticas I para las ciencias económicas.](https://bibliotecadigital.udea.edu.co/handle/10495/3010)\n",
    "  \n",
    "* R. Duval y Semiosis y pensamiento humano, 2.ª ed. Cali, Colombia: Programa Editorial Universidad del Valle, 2017. [En línea]. Disponible en: https://programaeditorial.univalle.edu.co/gpd-semiosis-y-pensamiento-humano-9789587655278-63324cdb0f6b3.html\n",
    "\n",
    "* [Aylwin, C. U. (2011). Lógica, conjuntos y números. Universidad de los Andes, Consejo de Publicaciones, Colección: Ciencias Básicas, Serie: Matemáticas.](chrome-extension://efaidnbmnnnibpcajpcglclefindmkaj/https://www.u-cursos.cl/ciencias/2011/1/MC110/1/material_docente/bajar?id_material=574722)\n",
    "  \n",
    "* [Chollet, F. (2021). Deep learning with Python. Simon and Schuster.](chrome-extension://efaidnbmnnnibpcajpcglclefindmkaj/https://tanthiamhuat.wordpress.com/wp-content/uploads/2018/03/deeplearningwithpython.pdf)  \n",
    "  \n",
    "* [Watson, S., Stewart, J., & Redlin, L. (2009). Precálculo. Matemáticas para el cálculo.](https://github.com/marco-canas/calculo/blob/main/referents/1_precalculo_stewart/stewart_precalculo.pdf)  \n",
    "\n",
    "* [Purcell, E. J., Varberg, D., & Rigdon, S. E. (2007). Cálculo diferencial e integral. Pearson Educación.](https://github.com/marco-canas/calculo/blob/main/referents/purcell/purcell_calculo.pdf)\n",
    "\n",
    "  \n",
    "\n",
    "* [stewart cálculo](https://udeaeduco-my.sharepoint.com/:b:/g/personal/marco_canas_udea_edu_co/EZgXZjAp8QxPqOAim2hs6LcBNPLGjSHf-xwYnUVYkwa04w?e=RZdTCy)  \n",
    "\n",
    "\n",
    "\n",
    "\n",
    "\n",
    "* [Recomendación de la UNESCO sobre ciencia abierta](https://unesdoc.unesco.org/ark:/48223/pf0000379949_spa)\n",
    "\n",
    "* [chatGPT](https://openai.com/blog/chatgpt)  \n",
    "\n",
    "* [Géron, A. (2017). Hands-on machine learning with scikit-learn and tensorflow: Concepts. Tools, and Techniques to build intelligent systems.](chrome-extension://efaidnbmnnnibpcajpcglclefindmkaj/http://14.139.161.31/OddSem-0822-1122/Hands-On_Machine_Learning_with_Scikit-Learn-Keras-and-TensorFlow-2nd-Edition-Aurelien-Geron.pdf)   \n"
   ]
  },
  {
   "cell_type": "markdown",
   "id": "df925560",
   "metadata": {},
   "source": [
    "\n",
    "* [McKinney, W. (2012). Python for data analysis: Data wrangling with Pandas, NumPy, and IPython. \" O'Reilly Media, Inc.\".](https://wesmckinney.com/book/) "
   ]
  },
  {
   "cell_type": "markdown",
   "id": "8e65d6f9",
   "metadata": {},
   "source": [
    "# Como estudiante, encuentro que...   \n",
    "\n",
    "F: Mis Fortalezas son:     \n",
    "O: Mis Oportunidades son:    \n",
    "D: Mis Debilidades son:    \n",
    "A: Lo que Amenazas mi aprendizaje es:  "
   ]
  },
  {
   "cell_type": "markdown",
   "id": "6b9e56a8",
   "metadata": {
    "slideshow": {
     "slide_type": "slide"
    }
   },
   "source": [
    "### [Evaluamos al profesor Marco Cañas Aquí](https://forms.office.com/Pages/ResponsePage.aspx?id=IefhmYRxjkmK_7KtTlPBwkanXIs1i1FEujpsZgO6dXpUREJPV1kxUk1JV1ozTFJIQVNIQjY5WEY3US4u)"
   ]
  },
  {
   "cell_type": "markdown",
   "id": "10f43536",
   "metadata": {
    "slideshow": {
     "slide_type": "slide"
    }
   },
   "source": [
    "### Continue su aprendizaje en la siguiente clase a través del siguiente [vínculo]()"
   ]
  },
  {
   "cell_type": "markdown",
   "id": "53cc9115",
   "metadata": {
    "slideshow": {
     "slide_type": "slide"
    }
   },
   "source": [
    "## Agradecimientos  \n",
    "\n",
    "Doy gracias a Dios por la vida de mi Hijo Joseph Cañas Osorio y la madurez que ha alcanzado. Este hijo me enorgullece y me hace falta abrazarlo cada día. \n",
    "\n",
    "Y a mi esposa Yasmira Emperatriz Barboza Mogollón por su apoyo, orientación y acompañamiento. "
   ]
  },
  {
   "cell_type": "markdown",
   "id": "b6ba1c23",
   "metadata": {},
   "source": [
    "# Apéndice sobre calendarios y coordinaciones \n",
    "\n",
    "A continuación le envío el horario de la asignatura Cálculo Vectorial  \n",
    "\n",
    "Días:  \n",
    "Lunes - Hora: 7:00 a 12:00M  \n",
    "Fechas:  \n",
    "Febrero: 10-17-24                                          \n",
    " Marzo: 3-10-17-31                                                  \n",
    "Abril:7-21-28                                                   \n",
    "Mayo:5-12-19  \n",
    "\n",
    "Agradezco su apoyo, y si presenta alguna dificultad puede contactarme.  \n",
    "\n",
    "Cordialmente,  \n",
    "Juan Felipe Rivera Hernández  \n",
    "Contacto: 3106314300  "
   ]
  },
  {
   "cell_type": "markdown",
   "id": "0e66cd7c",
   "metadata": {},
   "source": [
    "# Clase de análisis numérico los Martes de 8 a 12 del medio día. "
   ]
  },
  {
   "cell_type": "markdown",
   "id": "c5ff61b1",
   "metadata": {},
   "source": []
  }
 ],
 "metadata": {
  "celltoolbar": "Slideshow",
  "kernelspec": {
   "display_name": ".venv",
   "language": "python",
   "name": "python3"
  },
  "language_info": {
   "codemirror_mode": {
    "name": "ipython",
    "version": 3
   },
   "file_extension": ".py",
   "mimetype": "text/x-python",
   "name": "python",
   "nbconvert_exporter": "python",
   "pygments_lexer": "ipython3",
   "version": "3.11.9"
  },
  "rise": {
   "enable_chalkboard": true,
   "theme": "sky",
   "transition": "zoom"
  }
 },
 "nbformat": 4,
 "nbformat_minor": 5
}
