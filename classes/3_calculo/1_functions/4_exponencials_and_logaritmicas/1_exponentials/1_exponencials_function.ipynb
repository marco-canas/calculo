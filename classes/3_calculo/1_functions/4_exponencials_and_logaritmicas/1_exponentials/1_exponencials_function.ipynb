{
 "cells": [
  {
   "attachments": {},
   "cell_type": "markdown",
   "id": "dc06dec7",
   "metadata": {
    "slideshow": {
     "slide_type": "slide"
    }
   },
   "source": [
    "<table align=\"left\">\n",
    "  <td>\n",
    "    <a href=\"https://colab.research.google.com/github/marco-canas/4_didactica_aritmetica/blob/main/modelo_general_clase_aula_invertida.ipynb\" target=\"_parent\"><img src=\"https://colab.research.google.com/assets/colab-badge.svg\" alt=\"Open In Colab\"/></a>\n",
    "  </td>\n",
    "</table>"
   ]
  },
  {
   "attachments": {},
   "cell_type": "markdown",
   "id": "e0c5b198",
   "metadata": {
    "slideshow": {
     "slide_type": "slide"
    }
   },
   "source": [
    "### [Video de apoyo a la lectura interactiva y experimental de este cuaderno]()"
   ]
  },
  {
   "attachments": {},
   "cell_type": "markdown",
   "id": "41e82203",
   "metadata": {
    "slideshow": {
     "slide_type": "slide"
    }
   },
   "source": [
    "## [programas de todos los cursos de la licenciatura en matemáticas y física](https://drive.google.com/drive/folders/1dNHbB0Vd00qWRchty1TIRNQVvi7IzI21)\n",
    "## [Vínculo al programa del curso contextualizado a la metodología de ula invertida:  ](https://github.com/marco-canas/fundamentos_de_la_aritmetica/blob/main/programa_fundamentos_aritmetica_aula_invertida.docx)\n",
    "\n",
    "* Todos los profesores debemos proponer objetivos de formación\n",
    "* Propuesta de evaluación \n",
    "* Y propuesta de metodología\n",
    "* Y propuesta de bibliografía. "
   ]
  },
  {
   "attachments": {},
   "cell_type": "markdown",
   "id": "d11ab06d",
   "metadata": {
    "slideshow": {
     "slide_type": "slide"
    }
   },
   "source": [
    "Un reconocimiento a mis estudiantes que han construido conmigo este saber pedagógico:\n",
    "\n",
    "<img src = 'https://github.com/marco-canas/fundamentos_de_las_matematicas/blob/main/images/photos/estudiantes_lic_math_2023-08-01.jpeg?raw=true'> \n",
    "\n"
   ]
  },
  {
   "attachments": {},
   "cell_type": "markdown",
   "id": "5e3936d8",
   "metadata": {
    "slideshow": {
     "slide_type": "slide"
    }
   },
   "source": [
    "# Llamar a lista o tomar asistencia con python o llamar el equipo para la tarea con video y cuaderno Jupyter sobre medición indirecta de grandes alturas con imágenes"
   ]
  },
  {
   "cell_type": "code",
   "execution_count": 5,
   "id": "a359c096",
   "metadata": {
    "slideshow": {
     "slide_type": "slide"
    }
   },
   "outputs": [
    {
     "name": "stdout",
     "output_type": "stream",
     "text": [
      "Llamando a ARIAS ARRIETA FREDY...\n",
      "Nota de seguimiento registrada para ARIAS ARRIETA FREDY: 5.0\n"
     ]
    }
   ],
   "source": [
    "import pandas as pd\n",
    "import random\n",
    "\n",
    "# Cargar la lista de estudiantes desde la URL\n",
    "url = 'https://raw.githubusercontent.com/marco-canas/groups_list/main/calculo_vectorial.csv'\n",
    "estudiantes = pd.read_csv(url)\n",
    "\n",
    "# Función para llamar a un estudiante aleatoriamente y registrar su nota de seguimiento\n",
    "def llamar_estudiante():\n",
    "    estudiante_aleatorio = random.choice(estudiantes['Nombre'])\n",
    "    print(f\"Llamando a {estudiante_aleatorio}...\")\n",
    "    \n",
    "    nota_seguimiento = float(input(\"Ingrese la nota de seguimiento para el estudiante (0-5): \"))\n",
    "    \n",
    "    # Validar que la nota esté en el rango correcto (0-5)\n",
    "    if nota_seguimiento < 0 or nota_seguimiento > 5:\n",
    "        print(\"La nota debe estar en el rango de 0 a 5.\")\n",
    "        return\n",
    "    \n",
    "    # Actualizar la nota de seguimiento en el DataFrame\n",
    "    index_estudiante = estudiantes[estudiantes['Nombre'] == estudiante_aleatorio].index\n",
    "    estudiantes.at[index_estudiante, 'Seguimiento'] = nota_seguimiento\n",
    "    \n",
    "    # Guardar el DataFrame actualizado en un archivo CSV\n",
    "    estudiantes.to_csv('calificaciones_fundamentos_aritmetica.csv', index=False)\n",
    "    \n",
    "    print(f\"Nota de seguimiento registrada para {estudiante_aleatorio}: {nota_seguimiento}\")\n",
    "    \n",
    "# Llamar a la función para realizar el proceso\n",
    "llamar_estudiante()\n"
   ]
  },
  {
   "attachments": {},
   "cell_type": "markdown",
   "id": "4f9d8cf9",
   "metadata": {
    "slideshow": {
     "slide_type": "slide"
    }
   },
   "source": [
    "# Modelo general de clase: [aula invertida](https://www3.gobiernodecanarias.org/medusa/ecoescuela/pedagotic/aprendizaje-invertido-flipped-classroom/)"
   ]
  },
  {
   "attachments": {},
   "cell_type": "markdown",
   "id": "ca46c23b",
   "metadata": {
    "slideshow": {
     "slide_type": "fragment"
    }
   },
   "source": [
    "## Definición y características de este [modelo](https://udearroba.udea.edu.co/blog/aprendizaje-invertido-otras-formas-de-ensenar-y-aprender/)  \n",
    "El aprendizaje invertido es un enfoque pedagógico que posibilita trascender del modelo tradicional de enseñanza. "
   ]
  },
  {
   "attachments": {},
   "cell_type": "markdown",
   "id": "760dd3a7",
   "metadata": {},
   "source": [
    "Dicho enfoque hace uso de entornos virtuales, en los cuales el docente dispone de una serie de recursos para abordar la enseñanza de los contenidos. "
   ]
  },
  {
   "attachments": {},
   "cell_type": "markdown",
   "id": "a8272cc0",
   "metadata": {},
   "source": [
    "Uno de los recursos más utilizados es la videoclase, pues permite que los estudiantes puedan escuchar y observar al docente mientras explica una temática, así como demostraciones y procedimientos específicos. "
   ]
  },
  {
   "attachments": {},
   "cell_type": "markdown",
   "id": "a14c85ff",
   "metadata": {},
   "source": [
    "Por tanto, este recurso resulta valioso para los estudiantes, quienes podrán revisarlo en el espacio temporal que deseen y las veces que lo consideren necesario para su aprendizaje. "
   ]
  },
  {
   "attachments": {},
   "cell_type": "markdown",
   "id": "85f6596d",
   "metadata": {},
   "source": [
    "Adicionalmente, es importante que los docentes dispongan las indicaciones o instrucciones -por fuera del aula- en relación con las actividades/prácticas/ejercicios que los estudiantes deben llevar a cabo. "
   ]
  },
  {
   "attachments": {},
   "cell_type": "markdown",
   "id": "e50a6bfd",
   "metadata": {},
   "source": [
    "Por ende, se espera que los estudiantes hagan la revisión de contenidos e indicaciones de manera previa al encuentro sincrónico."
   ]
  },
  {
   "attachments": {},
   "cell_type": "markdown",
   "id": "d2b0e776",
   "metadata": {
    "slideshow": {
     "slide_type": "slide"
    }
   },
   "source": [
    "## ¿Qué es?  \n",
    "\n",
    "Flipped Learning o aprendizaje invertido es un enfoque pedagógico en el que:  \n",
    "\n",
    "* la instrucción directa se realiza fuera del aula y \n",
    "* se utiliza el tiempo de clase para llevar a cabo actividades que impliquen el desarrollo de procesos cognitivos de mayor complejidad, en las que son necesarias la ayuda y la experiencia del docente."
   ]
  },
  {
   "attachments": {},
   "cell_type": "markdown",
   "id": "5fc4f731",
   "metadata": {
    "slideshow": {
     "slide_type": "slide"
    }
   },
   "source": [
    "## ¿Para qué sirve?  \n",
    "\n",
    "Mejora el proceso de enseñanza-aprendizaje realizando,   \n",
    "\n",
    "* fuera del aula, actividades de aprendizaje sencillas (observar, memorizar, resumir, etc.) y, \n",
    "* en el aula, actividades más complejas (razonar, examinar, priorizar, argumentar, proponer, etc.) que requieren la interacción entre iguales y la ayuda del docente como facilitador."
   ]
  },
  {
   "attachments": {},
   "cell_type": "markdown",
   "id": "b42472d6",
   "metadata": {
    "slideshow": {
     "slide_type": "slide"
    }
   },
   "source": [
    "<img src = 'https://github.com/marco-canas/7_didactica_ciencia_datos/blob/main/4_images/atributos_aprendizaje_invertido.png?raw=true'>"
   ]
  },
  {
   "attachments": {},
   "cell_type": "markdown",
   "id": "8cee33b3",
   "metadata": {
    "slideshow": {
     "slide_type": "slide"
    }
   },
   "source": [
    "# Proceso Flipped Learning"
   ]
  },
  {
   "attachments": {},
   "cell_type": "markdown",
   "id": "9c61b8b5",
   "metadata": {
    "slideshow": {
     "slide_type": "slide"
    }
   },
   "source": [
    "## Fuera del Aula"
   ]
  },
  {
   "attachments": {},
   "cell_type": "markdown",
   "id": "fe20721d",
   "metadata": {
    "slideshow": {
     "slide_type": "slide"
    }
   },
   "source": [
    "### Docente:"
   ]
  },
  {
   "attachments": {},
   "cell_type": "markdown",
   "id": "5b022dc9",
   "metadata": {
    "slideshow": {
     "slide_type": "slide"
    }
   },
   "source": [
    "* Diseña y planea el proceso de enseñanza-aprendizaje del aula, integrando estrategias, modelos de enseñanza y metodologías (aprendizaje basado en proyectos, aprendizaje cooperativo y colaborativo,…).  \n",
    "\n",
    "* Diseña y planea actividades que se realizarán fuera del aula (ver vídeos, cumplimentar cuestionarios,…).  \n",
    "\n",
    "* Selecciona e integra la tecnología en actividades de aprendizaje activo.  \n",
    "\n",
    "* Diseña actividades de evaluación que promuevan el aprendizaje del alumnado."
   ]
  },
  {
   "attachments": {},
   "cell_type": "markdown",
   "id": "467fb978",
   "metadata": {
    "slideshow": {
     "slide_type": "slide"
    }
   },
   "source": [
    "### Alumnado:"
   ]
  },
  {
   "attachments": {},
   "cell_type": "markdown",
   "id": "87d6d661",
   "metadata": {
    "slideshow": {
     "slide_type": "slide"
    }
   },
   "source": [
    "* Accede, cuantas veces necesite, a las actividades facilitadas por el profesorado.\n",
    "* Realiza las actividades propuestas."
   ]
  },
  {
   "attachments": {},
   "cell_type": "markdown",
   "id": "93cd48b6",
   "metadata": {
    "slideshow": {
     "slide_type": "slide"
    }
   },
   "source": [
    "## En el Aula"
   ]
  },
  {
   "attachments": {},
   "cell_type": "markdown",
   "id": "79ea8675",
   "metadata": {
    "slideshow": {
     "slide_type": "slide"
    }
   },
   "source": [
    "### Docente:"
   ]
  },
  {
   "attachments": {},
   "cell_type": "markdown",
   "id": "d4d6f829",
   "metadata": {
    "slideshow": {
     "slide_type": "slide"
    }
   },
   "source": [
    "* Guía y facilita los procesos de aprendizaje, atendiendo a la diversidad.\n",
    "* Retroalimenta el desempeño de los equipos/grupos y del alumnado individualmente.\n",
    "* Genera espacios para la coevaluación y autoevaluación."
   ]
  },
  {
   "attachments": {},
   "cell_type": "markdown",
   "id": "7178794c",
   "metadata": {
    "slideshow": {
     "slide_type": "slide"
    }
   },
   "source": [
    "### Alumnado:"
   ]
  },
  {
   "attachments": {},
   "cell_type": "markdown",
   "id": "88d1c0f7",
   "metadata": {
    "slideshow": {
     "slide_type": "slide"
    }
   },
   "source": [
    "* Realiza las actividades (debates, exposiciones orales, informes, diario de aprendizaje, cuaderno de trabajo cooperativo,…).\n",
    "* Recibe retroalimentación inmediata del profesorado y de sus compañeros y compañeras.\n",
    "* Accede, si fuera necesario, a las actividades previas facilitadas por el profesorado."
   ]
  },
  {
   "attachments": {},
   "cell_type": "markdown",
   "id": "7dbfc4b9",
   "metadata": {
    "slideshow": {
     "slide_type": "slide"
    }
   },
   "source": [
    "## Ventajas de Flipped Learning  \n",
    "\n",
    "1. Incrementa el compromiso del alumnado porque éste se hace corresponsable de su aprendizaje y participa en él de forma activa mediante actividades de cooperación y colaboración en clase.  \n",
    "\n",
    "2. Permite que el alumnado aprenda a su propio ritmo, ya que tiene la posibilidad de acceder al material facilitado por el profesorado en cualquier momento y en cualquier lugar, todas las veces que necesite."
   ]
  },
  {
   "attachments": {},
   "cell_type": "markdown",
   "id": "8d97dc80",
   "metadata": {
    "slideshow": {
     "slide_type": "slide"
    }
   },
   "source": [
    "## Fomento de la lectura literaria asociada a Ingeniería agropecuaria y licenciatura en Matemáticas\n",
    "\n"
   ]
  },
  {
   "attachments": {},
   "cell_type": "markdown",
   "id": "bff96119",
   "metadata": {
    "slideshow": {
     "slide_type": "slide"
    }
   },
   "source": [
    "### Introducción"
   ]
  },
  {
   "attachments": {},
   "cell_type": "markdown",
   "id": "c2ca8f2e",
   "metadata": {
    "slideshow": {
     "slide_type": "slide"
    }
   },
   "source": [
    "Como estoy plenamente convencido de que forma parte intrínseca de nuestra naturaleza sentirnos satisfechos cuando damos y recibimos algo de manera compasiva o solidaria, hay dos preguntas que me han preocupado durante la mayor parte de mi vida. "
   ]
  },
  {
   "attachments": {},
   "cell_type": "markdown",
   "id": "4e4614ff",
   "metadata": {
    "slideshow": {
     "slide_type": "slide"
    }
   },
   "source": [
    "¿Qué ocurre que nos desconecta de nuestra naturaleza solidaria y nos lleva a comportarnos de manera violenta y abusiva?"
   ]
  },
  {
   "attachments": {},
   "cell_type": "markdown",
   "id": "86dee509",
   "metadata": {
    "slideshow": {
     "slide_type": "slide"
    }
   },
   "source": [
    " Y a la inversa, ¿por qué algunas personas son consecuentes con esta actitud solidaria incluso en las circunstancias más adversas?"
   ]
  },
  {
   "attachments": {},
   "cell_type": "markdown",
   "id": "b39679b3",
   "metadata": {
    "slideshow": {
     "slide_type": "slide"
    }
   },
   "source": [
    "# Los juicios moralistas"
   ]
  },
  {
   "attachments": {},
   "cell_type": "markdown",
   "id": "d4e8cd6b",
   "metadata": {
    "slideshow": {
     "slide_type": "slide"
    }
   },
   "source": [
    "Un tipo de comunicación que aliena de la vida es aquél en el que empleamos juicios moralistas que presuponen una actitud errónea o malvada por parte de aquellas personas que no actúan de acuerdo con nuestros valores. "
   ]
  },
  {
   "attachments": {},
   "cell_type": "markdown",
   "id": "c1ea3dcc",
   "metadata": {
    "slideshow": {
     "slide_type": "slide"
    }
   },
   "source": [
    "Estos juicios se reflejan en comentarios como: «Tu problema es que eres muy egoísta», «Es una perezosa», «Están llenos de prejuicios», «Esto es inapropiado». "
   ]
  },
  {
   "attachments": {},
   "cell_type": "markdown",
   "id": "b9895eef",
   "metadata": {},
   "source": [
    "Echar la culpa a alguien, insultarlo, rebajarlo, ponerle etiquetas, criticarlo, establecer comparaciones\n",
    "y emitir diagnósticos son distintas maneras de formular juicios.\n"
   ]
  },
  {
   "attachments": {},
   "cell_type": "markdown",
   "id": "777cfe78",
   "metadata": {},
   "source": [
    "El poeta sufí Rumi escribió en cierta ocasión: \n",
    "\n",
    "«Más allá de las ideas de actuar bien y actuar mal, se extiende un campo. Allí nos encontraremos»."
   ]
  },
  {
   "attachments": {},
   "cell_type": "markdown",
   "id": "1c785551",
   "metadata": {},
   "source": [
    "Sin embargo, la comunicación que nos aliena de la vida nos atrapa en un mundo de ideas preconcebidas con\n",
    "respecto a lo que está bien y lo que está mal, un mundo hecho de juicios. "
   ]
  },
  {
   "attachments": {},
   "cell_type": "markdown",
   "id": "9b963998",
   "metadata": {},
   "source": [
    "Emplea un lenguaje en\n",
    "el que abundan las palabras que establecen clasificaciones y dicotomías con respecto a las personas y a sus formas de actuar.\n"
   ]
  },
  {
   "attachments": {},
   "cell_type": "markdown",
   "id": "df877532",
   "metadata": {},
   "source": [
    "Cuando utilizamos este lenguaje juzgamos a los demás y su comportamiento y nos\n",
    "centramos en quién es bueno, malo, normal, anormal, responsable, irresponsable,\n",
    "inteligente, ignorante, etcétera.\n",
    "Ciertas formas de comunicación nos alienan de nuestro estado natural de compasión o solidaridad."
   ]
  },
  {
   "attachments": {},
   "cell_type": "markdown",
   "id": "5fc493ad",
   "metadata": {
    "slideshow": {
     "slide_type": "slide"
    }
   },
   "source": [
    "En el mundo de los juicios\n",
    "nuestra preocupación se\n",
    "centra en quién “es” qué."
   ]
  },
  {
   "attachments": {},
   "cell_type": "markdown",
   "id": "23d1cf0a",
   "metadata": {
    "slideshow": {
     "slide_type": "slide"
    }
   },
   "source": [
    "Mucho antes de llegar a la edad adulta, aprendí a comunicarme con los demás de una manera impersonal en la que no necesitaba revelar lo que me estaba pasando internamente. "
   ]
  },
  {
   "attachments": {},
   "cell_type": "markdown",
   "id": "fe92600c",
   "metadata": {
    "slideshow": {
     "slide_type": "slide"
    }
   },
   "source": [
    "Cada vez que me encontraba con personas o hechos que no me gustaban o no comprendía, mi reacción consistía en dictaminar que los equivocados eran ellos. "
   ]
  },
  {
   "attachments": {},
   "cell_type": "markdown",
   "id": "02abdd5f",
   "metadata": {
    "slideshow": {
     "slide_type": "slide"
    }
   },
   "source": [
    "Cuando mis maestros me encomendaban una tarea que yo no tenía ganas de hacer, se convertían a mis ojos en unos «pesados» o unos «imbéciles». "
   ]
  },
  {
   "attachments": {},
   "cell_type": "markdown",
   "id": "9fc2f7f6",
   "metadata": {
    "slideshow": {
     "slide_type": "slide"
    }
   },
   "source": [
    "Cuando estaba manejando y alguien me pasaba por delante, yo reaccionaba llamándolo «idiota». "
   ]
  },
  {
   "attachments": {},
   "cell_type": "markdown",
   "id": "c4231c7a",
   "metadata": {
    "slideshow": {
     "slide_type": "slide"
    }
   },
   "source": [
    "Siempre que empleamos este lenguaje, pensamos y nos comunicamos desde la perspectiva de\n",
    "que algo falla en los demás porque se comportan de una determinada manera o, a veces, de que algo falla en nosotros porque no comprendemos o no responde\u0002mos como nos gustaría. "
   ]
  },
  {
   "attachments": {},
   "cell_type": "markdown",
   "id": "16ce4f69",
   "metadata": {
    "slideshow": {
     "slide_type": "slide"
    }
   },
   "source": [
    "Centramos nuestra atención en clasificar, analizar y determinar niveles de error más que en lo que necesitamos (nosotros y los demás) y no conseguimos. "
   ]
  },
  {
   "attachments": {},
   "cell_type": "markdown",
   "id": "9715eef7",
   "metadata": {
    "slideshow": {
     "slide_type": "slide"
    }
   },
   "source": [
    "En consecuencia, si mi pareja quiere más cariño del que yo le ofrezco, es una persona «dependiente y desvalida». Pero si yo quiero más cariño que el que ella me da, es «distante e insensible». Si mi compañero de trabajo se preocupa más que yo por los detalles, es «quisquilloso y compulsivo». "
   ]
  },
  {
   "attachments": {},
   "cell_type": "markdown",
   "id": "611ca7d1",
   "metadata": {},
   "source": [
    "En cambio,si soy yo quien se preocupa más por los detalles, él es «descuidado y desorganizado».\n",
    "Creo que este tipo de análisis de otros seres humanos no es más que una trágica expresión de nuestros propios valores y necesidades. "
   ]
  },
  {
   "attachments": {},
   "cell_type": "markdown",
   "id": "324825b1",
   "metadata": {},
   "source": [
    "Trágica porque, cuando expresamos nuestros valores y necesidades de esta manera, lo único que conseguimos es potenciar una actitud defensiva y de resistencia en las mismas personas cuya conducta nos molesta. "
   ]
  },
  {
   "attachments": {},
   "cell_type": "markdown",
   "id": "d83f9a67",
   "metadata": {},
   "source": [
    "Y si aceptan actuar en consonancia con nuestra\n",
    "escala de valores porque coinciden en nuestro análisis de su ineptitud, es probable que sólo lo hagan por miedo, culpa o vergüenza.\n"
   ]
  },
  {
   "attachments": {},
   "cell_type": "markdown",
   "id": "bc35f547",
   "metadata": {},
   "source": [
    "Sin embargo, cuando los demás acceden a actuar de acuerdo con nuestros valores y necesidades, no porque lo deseen de corazón, sino porque tienen miedo o se sienten culpables o avergonzados, el precio que nos toca pagar es realmente muy alto. "
   ]
  },
  {
   "attachments": {},
   "cell_type": "markdown",
   "id": "c3cbd1bd",
   "metadata": {},
   "source": [
    "Tarde o temprano vendrán las consecuencias bajo la forma de una falta de buena voluntad por parte de aquellos que responden a nuestros deseos por coerción externa o interna. "
   ]
  },
  {
   "attachments": {},
   "cell_type": "markdown",
   "id": "392580c8",
   "metadata": {},
   "source": [
    "Por otro lado, cuando alguien hace algo por miedo, culpa o vergüenza, también paga un precio de tipo emocional, ya que abrigará un resentimiento contra nosotros al quedar rebajada su autoestima. "
   ]
  },
  {
   "attachments": {},
   "cell_type": "markdown",
   "id": "3f46db65",
   "metadata": {},
   "source": [
    "Además, cada\n",
    "vez que otras personas nos asocien con cualquiera de estos sentimientos, disminuirá la probabilidad de que en el futuro respondan de una manera solidaria a nuestras necesidades y nuestros valores"
   ]
  },
  {
   "attachments": {},
   "cell_type": "markdown",
   "id": "96775931",
   "metadata": {
    "slideshow": {
     "slide_type": "slide"
    }
   },
   "source": [
    "## Título de la clase: Exponencial Functions \n",
    "\n",
    "Página 337 de Purcell La función exponencial natural. "
   ]
  },
  {
   "attachments": {},
   "cell_type": "markdown",
   "id": "1d38dd4e",
   "metadata": {
    "slideshow": {
     "slide_type": "slide"
    }
   },
   "source": [
    "### Objetivo de aprendizaje (Enunciar, de manera corta sencilla y clara para todos los asistentes)\n",
    "\n",
    "* Que el estudiante de ingeniería agropecuaria sepa obtener las representaciones tabular y gráfica de la función exponencial\n",
    "* Y que sepa derivar e integrar esta función. "
   ]
  },
  {
   "attachments": {},
   "cell_type": "markdown",
   "id": "540f0ec1",
   "metadata": {
    "slideshow": {
     "slide_type": "slide"
    }
   },
   "source": [
    "## Cuestionario para realizar labores de memorización, observación y síntesis de la información (Además de diagnóstico)\n",
    "\n",
    "1. ¿?\n",
    "2. ¿?\n",
    "3. ¿?\n",
    "4. ¿?\n",
    "5. ¿?"
   ]
  },
  {
   "attachments": {},
   "cell_type": "markdown",
   "id": "ca7261b1",
   "metadata": {
    "slideshow": {
     "slide_type": "slide"
    }
   },
   "source": [
    "## Establecimiento de prerrequisitos conceptuales para alcanzar el objetivo de aprendizaje trazado.   \n",
    "\n",
    "(Elabore una lista de preguntas al rededor de los conceptos que consideres necesarios para empezar la clase).  \n",
    "\n",
    "1. \n",
    "2. \n",
    "3. "
   ]
  },
  {
   "attachments": {},
   "cell_type": "markdown",
   "id": "2298e976",
   "metadata": {
    "slideshow": {
     "slide_type": "slide"
    }
   },
   "source": [
    "# Para el diseño de la clase tenga en cuenta algunos problemas de aprendizaje"
   ]
  },
  {
   "cell_type": "markdown",
   "id": "523d3acf",
   "metadata": {
    "slideshow": {
     "slide_type": "slide"
    }
   },
   "source": []
  },
  {
   "cell_type": "code",
   "execution_count": null,
   "id": "9ef5df94",
   "metadata": {},
   "outputs": [],
   "source": []
  },
  {
   "attachments": {},
   "cell_type": "markdown",
   "id": "a40a4704",
   "metadata": {
    "slideshow": {
     "slide_type": "slide"
    }
   },
   "source": [
    "# Secuencia conceptual introductoria a la clase"
   ]
  },
  {
   "cell_type": "markdown",
   "id": "b5e7a83e",
   "metadata": {},
   "source": [
    "## La función exponencial natural \n",
    "\n",
    "$$ y = f(x) = e^{x} $$\n",
    "\n",
    "$e \\approx 2.7182$"
   ]
  },
  {
   "cell_type": "code",
   "execution_count": 1,
   "id": "101e20da",
   "metadata": {},
   "outputs": [
    {
     "data": {
      "text/plain": [
       "2.718281828459045"
      ]
     },
     "execution_count": 1,
     "metadata": {},
     "output_type": "execute_result"
    }
   ],
   "source": [
    "import numpy as np \n",
    "\n",
    "np.e # número de euler "
   ]
  },
  {
   "cell_type": "code",
   "execution_count": 11,
   "id": "76bac701",
   "metadata": {},
   "outputs": [
    {
     "data": {
      "image/png": "[encoded data removed]",
      "text/plain": [
       "<Figure size 640x480 with 1 Axes>"
      ]
     },
     "metadata": {},
     "output_type": "display_data"
    }
   ],
   "source": [
    "import matplotlib.pyplot as plt\n",
    "\n",
    "dominio = np.arange(-4, 3, .4)\n",
    "\n",
    "def f(x):\n",
    "    return np.exp(x)\n",
    "\n",
    "rango = f(dominio)    \n",
    "\n",
    "plt.plot(dominio, rango, color = 'red', label = r'Función exponencial natural $f(x) = e^{x}$') # grafico de la función expoencial \n",
    "\n",
    "plt.plot([0,0], [-1,np.max(rango)], color = 'blue', alpha = 0.4) # eje y\n",
    "\n",
    "plt.plot([np.min(dominio), np.max(dominio)], [0,0], color = 'blue', alpha = 0.4) # eje x \n",
    "\n",
    "plt.scatter([0], [1], color = 'green')\n",
    "\n",
    "plt.yticks(np.arange(0, np.max(rango)))\n",
    "\n",
    "plt.legend() \n",
    "\n",
    "plt.savefig('/sysroot/home/marco/Documentos/docencia/calculo/images/exponencial_function.jpg')\n",
    "\n",
    "plt.grid()\n",
    "\n"
   ]
  },
  {
   "cell_type": "code",
   "execution_count": null,
   "id": "9dd76072",
   "metadata": {},
   "outputs": [],
   "source": []
  },
  {
   "cell_type": "markdown",
   "id": "9703a86a-e537-4bc5-9542-9a732b68e260",
   "metadata": {},
   "source": [
    "### Clase: Aplicación de las Funciones Exponenciales en Ingeniería Agropecuaria"
   ]
  },
  {
   "cell_type": "markdown",
   "id": "afe17dca-a019-4858-859a-691259a6134d",
   "metadata": {},
   "source": [
    "#### Objetivo de la Clase:\n",
    "Formar a los estudiantes de Ingeniería Agropecuaria en el conocimiento y aplicación de las funciones exponenciales $f(x) = e^{x}$ y $g(x) = 2^{x}$ en problemas típicos de la ingeniería agropecuaria, utilizando elementos del cálculo diferencial, cálculo integral, y ecuaciones diferenciales ordinarias (EDO). Se emplearán herramientas de Python en Jupyter Notebooks, con el uso de `ipywidgets` para animaciones y gráficos interactivos con `plotly`, así como el manejo de tablas de datos con `pandas`.\n",
    "\n",
    "---"
   ]
  },
  {
   "cell_type": "markdown",
   "id": "1bfe3d6e-94d7-4783-a75d-20406de13190",
   "metadata": {},
   "source": [
    "### Contenidos de la Clase:\n",
    "1. **Introducción a las Funciones Exponenciales:**\n",
    "   - Definición de la función $ f(x) = e^x $ y $ g(x) = 2^x $.\n",
    "   - Propiedades básicas de las funciones exponenciales.\n",
    "   - Importancia y aplicación de las funciones exponenciales en procesos biológicos y de crecimiento en agropecuaria."
   ]
  },
  {
   "cell_type": "markdown",
   "id": "586613e2-8d6f-46e8-9551-a6f827e337f8",
   "metadata": {},
   "source": [
    "2. **Aplicación del Cálculo Diferencial:**\n",
    "   - Derivada de $f(x) = e^x$ y $g(x) = 2^x$.\n",
    "   - Aplicación de las derivadas en el modelado de tasas de crecimiento, como el crecimiento de cultivos.\n",
    "   - Ejemplo práctico: Modelar la tasa de crecimiento de una población de plantas."
   ]
  },
  {
   "cell_type": "markdown",
   "id": "48636bb1-15cb-4cdc-bcf5-511108c08b1f",
   "metadata": {},
   "source": [
    "3. **Aplicación del Cálculo Integral:**\n",
    "   - Integral de $f(x) = e^x$ y $g(x) = 2^x$.\n",
    "   - Uso de las integrales para determinar el área bajo la curva y acumulación de recursos.\n",
    "   - Ejemplo práctico: Determinar el área bajo la curva para calcular la acumulación de biomasa en un cultivo."
   ]
  },
  {
   "cell_type": "markdown",
   "id": "6fd71f2f-33fc-464c-9852-1ed0bee51df5",
   "metadata": {},
   "source": [
    "4. **Ecuaciones Diferenciales Ordinarias (EDO):**\n",
    "   - Solución de EDO que involucran funciones exponenciales.\n",
    "   - Aplicación en modelado de fenómenos como la difusión de nutrientes o el crecimiento logístico.\n",
    "   - Ejemplo práctico: Resolver una EDO para modelar la difusión de un fertilizante en el suelo."
   ]
  },
  {
   "cell_type": "markdown",
   "id": "5ebd286c-4275-4b89-a13d-900ba8409db0",
   "metadata": {},
   "source": [
    "5. **Visualización y Simulación:**\n",
    "   - Uso de `ipywidgets` para crear animaciones que muestren cómo cambian las funciones exponenciales con diferentes parámetros.\n",
    "   - Uso de `plotly` para crear gráficos interactivos de las funciones y sus aplicaciones.\n",
    "   - Uso de `pandas` para organizar y mostrar datos en tablas.\n",
    "\n",
    "---"
   ]
  },
  {
   "cell_type": "markdown",
   "id": "1ed8e79d-8dd4-45e7-b26a-ba3addb20f69",
   "metadata": {},
   "source": [
    "### Desarrollo de la Clase:\n",
    "\n",
    "#### 1. Introducción a las Funciones Exponenciales\n",
    "\n",
    "**Explicación Teórica:**\n",
    "   - Introducir las funciones exponenciales \\( f(x) = e^x \\) y \\( g(x) = 2^x \\) y sus propiedades.\n",
    "   - Explicar su relevancia en procesos agropecuarios, como el crecimiento de poblaciones o la difusión de sustancias.\n",
    "\n",
    "**Ejercicio en Jupyter Notebook:**\n",
    "   - Implementar las funciones exponenciales en Python usando `numpy`."
   ]
  },
  {
   "cell_type": "code",
   "execution_count": 8,
   "id": "e5a2f64a-f8df-43f7-8494-a9876d6b3687",
   "metadata": {},
   "outputs": [
    {
     "data": {
      "image/png": "[encoded data removed]",
      "text/plain": [
       "<Figure size 640x480 with 1 Axes>"
      ]
     },
     "metadata": {},
     "output_type": "display_data"
    }
   ],
   "source": [
    "\n",
    "import numpy as np\n",
    "import matplotlib.pyplot as plt\n",
    "\n",
    "x = np.linspace(-2, 2, 100)\n",
    "f_x = np.exp(x)\n",
    "g_x = 2**x\n",
    "\n",
    "plt.plot(x, f_x, label='$e^x$')\n",
    "plt.plot(x, g_x, label='$2^x$')\n",
    "plt.xlabel('x')\n",
    "plt.ylabel('y')\n",
    "plt.title('Funciones Exponenciales')\n",
    "plt.legend()\n",
    "plt.grid(True)\n",
    "plt.show()\n"
   ]
  },
  {
   "cell_type": "markdown",
   "id": "28777ff7-a70c-412f-8e9e-fb65ff1ca045",
   "metadata": {},
   "source": [
    "#### 2. Aplicación del Cálculo Diferencial\n",
    "\n",
    "**Explicación Teórica:**\n",
    "   - Derivadas de \\( f(x) = e^x \\) y \\( g(x) = 2^x \\).\n",
    "   - Interpretación de la derivada en el contexto del crecimiento de cultivos.\n",
    "\n",
    "**Ejercicio en Jupyter Notebook:**\n",
    "   - Calcular y graficar las derivadas utilizando `sympy` y `matplotlib`."
   ]
  },
  {
   "cell_type": "code",
   "execution_count": 10,
   "id": "39348c74-0d21-4500-a151-7af230d3c394",
   "metadata": {},
   "outputs": [
    {
     "data": {
      "text/plain": [
       "(exp(x), 2**x*log(2))"
      ]
     },
     "execution_count": 10,
     "metadata": {},
     "output_type": "execute_result"
    }
   ],
   "source": [
    "\n",
    "from sympy import symbols, diff, exp\n",
    "\n",
    "x = symbols('x')\n",
    "f_x = exp(x)\n",
    "g_x = 2**x\n",
    "\n",
    "df_x = diff(f_x, x)\n",
    "dg_x = diff(g_x, x)\n",
    "\n",
    "df_x, dg_x\n"
   ]
  },
  {
   "cell_type": "markdown",
   "id": "b79a9595-2849-45c6-bfb2-24a3e2616ae2",
   "metadata": {},
   "source": [
    "#### 3. Aplicación del Cálculo Integral\n",
    "\n",
    "**Explicación Teórica:**\n",
    "   - Integrales de $f(x) = e^x$ y $g(x) = 2^x$.\n",
    "   - Aplicación en la acumulación de recursos.\n",
    "\n",
    "**Ejercicio en Jupyter Notebook:**\n",
    "   - Calcular la integral de las funciones exponenciales utilizando `sympy`."
   ]
  },
  {
   "cell_type": "code",
   "execution_count": 11,
   "id": "94ae6165-8266-4ee7-b515-81ee775d04ca",
   "metadata": {},
   "outputs": [
    {
     "data": {
      "text/plain": [
       "(exp(x), 2**x/log(2))"
      ]
     },
     "execution_count": 11,
     "metadata": {},
     "output_type": "execute_result"
    }
   ],
   "source": [
    "\n",
    "from sympy import integrate\n",
    "x = symbols('x')\n",
    "f_x = exp(x)\n",
    "g_x = 2**x\n",
    "\n",
    "int_f_x = integrate(f_x, x)\n",
    "int_g_x = integrate(g_x, x)\n",
    "\n",
    "int_f_x, int_g_x\n"
   ]
  },
  {
   "cell_type": "markdown",
   "id": "6b47182d-44b7-4a18-9087-ee0778bd3e2b",
   "metadata": {},
   "source": [
    "#### 4. Ecuaciones Diferenciales Ordinarias\n",
    "\n",
    "**Explicación Teórica:**\n",
    "   - Cómo resolver EDOs con soluciones exponenciales.\n",
    "   - Aplicación práctica: Modelado de la difusión de nutrientes.\n",
    "\n",
    "**Ejercicio en Jupyter Notebook:**\n",
    "   - Resolver una EDO simple con `scipy`."
   ]
  },
  {
   "cell_type": "code",
   "execution_count": 12,
   "id": "87c5d0cd-f492-4968-a86d-38ab2e9c4bea",
   "metadata": {},
   "outputs": [
    {
     "data": {
      "image/png": "[encoded data removed]",
      "text/plain": [
       "<Figure size 640x480 with 1 Axes>"
      ]
     },
     "metadata": {},
     "output_type": "display_data"
    }
   ],
   "source": [
    "\n",
    "from scipy.integrate import odeint\n",
    "\n",
    "def model(y, t):\n",
    "    dydt = y\n",
    "    return dydt\n",
    "\n",
    "y0 = 1\n",
    "t = np.linspace(0, 5)\n",
    "y = odeint(model, y0, t)\n",
    "\n",
    "plt.plot(t, y)\n",
    "plt.xlabel('t')\n",
    "plt.ylabel('y(t)')\n",
    "plt.title('Solución de EDO con $e^x$')\n",
    "plt.grid(True)\n",
    "plt.show()\n"
   ]
  },
  {
   "cell_type": "markdown",
   "id": "da7aff33-5d1d-42f0-a015-3f90dea0ff86",
   "metadata": {},
   "source": [
    "#### 5. Visualización y Simulación\n",
    "\n",
    "**Ejercicio en Jupyter Notebook con `ipywidgets`:**\n",
    "   - Crear una animación que muestre el cambio de la función exponencial con diferentes bases."
   ]
  },
  {
   "cell_type": "code",
   "execution_count": 7,
   "id": "348a0842-4bf4-42bf-8f33-d34ec9aefd08",
   "metadata": {},
   "outputs": [
    {
     "data": {
      "application/vnd.jupyter.widget-view+json": {
       "model_id": "0a94fda94bf843fba5dccb65a6ec21e8",
       "version_major": 2,
       "version_minor": 0
      },
      "text/plain": [
       "interactive(children=(FloatSlider(value=2.0, description='Base:', max=5.0, min=1.0), Output()), _dom_classes=(…"
      ]
     },
     "execution_count": 7,
     "metadata": {},
     "output_type": "execute_result"
    }
   ],
   "source": [
    "import matplotlib.pyplot as plt \n",
    "import ipywidgets as widgets\n",
    "from IPython.display import display\n",
    "\n",
    "def plot_exp(base):\n",
    "    y = base**x\n",
    "    plt.axis([-2,8, -1, 50_000])\n",
    "    plt.plot(x, y, label=f'${base}^x$')\n",
    "    plt.xlabel('x')\n",
    "    plt.ylabel('y')\n",
    "    plt.title(f'Función Exponencial con base {base}')\n",
    "    plt.legend()\n",
    "    plt.grid(True)\n",
    "    plt.show()\n",
    "\n",
    "base_slider = widgets.FloatSlider(value=2, min=1, max=5, step=0.1, description='Base:')\n",
    "widgets.interactive(plot_exp, base=base_slider)\n"
   ]
  },
  {
   "cell_type": "markdown",
   "id": "d25d7485-9b98-42cc-8296-47dd0ffa471d",
   "metadata": {},
   "source": [
    "**Ejercicio en Jupyter Notebook con `plotly` y `pandas`:**\n",
    "   - Crear gráficos interactivos y tablas de datos."
   ]
  },
  {
   "cell_type": "code",
   "execution_count": 4,
   "id": "1c0a0d27-a57c-49c5-ba43-ff0547a95f72",
   "metadata": {},
   "outputs": [
    {
     "data": {
      "application/vnd.plotly.v1+json": {
       "config": {
        "plotlyServerURL": "https://plot.ly"
       },
       "data": [
        {
         "hovertemplate": "variable=e^x<br>x=%{x}<br>value=%{y}<extra></extra>",
         "legendgroup": "e^x",
         "line": {
          "color": "#636efa",
          "dash": "solid"
         },
         "marker": {
          "symbol": "circle"
         },
         "mode": "lines",
         "name": "e^x",
         "orientation": "v",
         "showlegend": true,
         "type": "scatter",
         "x": [
          -2,
          -1.9,
          -1.7999999999999998,
          -1.6999999999999997,
          -1.5999999999999996,
          -1.4999999999999996,
          -1.3999999999999995,
          -1.2999999999999994,
          -1.1999999999999993,
          -1.0999999999999992,
          -0.9999999999999991,
          -0.899999999999999,
          -0.7999999999999989,
          -0.6999999999999988,
          -0.5999999999999988,
          -0.49999999999999867,
          -0.3999999999999986,
          -0.2999999999999985,
          -0.1999999999999984,
          -0.09999999999999831,
          1.7763568394002505e-15,
          0.10000000000000187,
          0.20000000000000195,
          0.30000000000000204,
          0.40000000000000213,
          0.5000000000000022,
          0.6000000000000023,
          0.7000000000000024,
          0.8000000000000025,
          0.9000000000000026,
          1.0000000000000027,
          1.1000000000000028,
          1.2000000000000028,
          1.300000000000003,
          1.400000000000003,
          1.500000000000003,
          1.6000000000000032,
          1.7000000000000033,
          1.8000000000000034,
          1.9000000000000035,
          2.0000000000000036,
          2.100000000000003,
          2.2000000000000037,
          2.3000000000000043,
          2.400000000000004,
          2.5000000000000036,
          2.600000000000004,
          2.7000000000000046,
          2.8000000000000043,
          2.900000000000004,
          3.0000000000000044,
          3.100000000000005,
          3.2000000000000046,
          3.3000000000000043,
          3.400000000000005,
          3.5000000000000053,
          3.600000000000005,
          3.7000000000000046,
          3.800000000000005,
          3.9000000000000057,
          4.000000000000005,
          4.100000000000005,
          4.2000000000000055,
          4.300000000000006,
          4.400000000000006,
          4.500000000000005,
          4.600000000000006,
          4.700000000000006,
          4.800000000000006,
          4.900000000000006,
          5.000000000000006,
          5.100000000000007,
          5.200000000000006,
          5.300000000000006,
          5.400000000000007,
          5.500000000000007,
          5.600000000000007,
          5.700000000000006,
          5.800000000000007,
          5.9000000000000075,
          6.000000000000007,
          6.100000000000007,
          6.200000000000006,
          6.300000000000008,
          6.4000000000000075,
          6.500000000000007,
          6.6000000000000085,
          6.700000000000008,
          6.800000000000008,
          6.9000000000000075,
          7.000000000000007,
          7.1000000000000085,
          7.200000000000008,
          7.300000000000008,
          7.400000000000009,
          7.500000000000009,
          7.6000000000000085,
          7.700000000000008,
          7.800000000000008,
          7.900000000000009
         ],
         "xaxis": "x",
         "y": [
          0.1353352832366127,
          0.14956861922263506,
          0.16529888822158656,
          0.1826835240527347,
          0.20189651799465547,
          0.22313016014842993,
          0.2465969639416066,
          0.27253179303401276,
          0.3011942119122023,
          0.33287108369807983,
          0.36787944117144267,
          0.4065696597405995,
          0.44932896411722206,
          0.4965853037914101,
          0.5488116360940272,
          0.6065306597126342,
          0.6703200460356402,
          0.740818220681719,
          0.8187307530779832,
          0.9048374180359611,
          1.0000000000000018,
          1.1051709180756497,
          1.2214027581601723,
          1.3498588075760058,
          1.4918246976412735,
          1.6487212707001317,
          1.822118800390513,
          2.0137527074704815,
          2.225540928492473,
          2.459603111156956,
          2.7182818284590526,
          3.0041660239464414,
          3.320116922736557,
          3.669296667619255,
          4.055199966844687,
          4.481689070338079,
          4.953032424395131,
          5.473947391727218,
          6.049647464412966,
          6.6858944422792925,
          7.389056098930676,
          8.166169912567677,
          9.025013499434154,
          9.974182454814763,
          11.023176380641644,
          12.182493960703516,
          13.463738035001745,
          14.879731724872903,
          16.44464677109712,
          18.17414536944313,
          20.085536923187757,
          22.197951281441743,
          24.532530197109462,
          27.112638920658004,
          29.964100047397157,
          33.11545195869249,
          36.59823444367817,
          40.44730436006758,
          44.70118449330106,
          49.40244910553046,
          54.59815003314453,
          60.34028759736227,
          66.68633104092551,
          73.69979369959624,
          81.45086866496858,
          90.0171313005223,
          99.48431564193439,
          109.9471724521242,
          121.51041751873561,
          134.28977968493624,
          148.41315910257754,
          164.02190729990286,
          181.27224187515233,
          200.33680997479289,
          221.40641620418853,
          244.69193226422212,
          270.42640742615447,
          298.86740096706217,
          330.29955990965095,
          365.0374678653315,
          403.428793492738,
          445.85777008251995,
          492.7490410932594,
          544.5719101259333,
          601.8450378720866,
          665.1416330443666,
          735.0951892419791,
          812.4058251675498,
          897.8472916504247,
          992.2747156050333,
          1096.6331584284665,
          1211.967074492587,
          1339.4307643944287,
          1480.2999275845568,
          1635.9844299959416,
          1808.0424144560793,
          1998.195895104135,
          2208.3479918872267,
          2440.601977624518,
          2697.2823282685335
         ],
         "yaxis": "y"
        },
        {
         "hovertemplate": "variable=2^x<br>x=%{x}<br>value=%{y}<extra></extra>",
         "legendgroup": "2^x",
         "line": {
          "color": "#EF553B",
          "dash": "solid"
         },
         "marker": {
          "symbol": "circle"
         },
         "mode": "lines",
         "name": "2^x",
         "orientation": "v",
         "showlegend": true,
         "type": "scatter",
         "x": [
          -2,
          -1.9,
          -1.7999999999999998,
          -1.6999999999999997,
          -1.5999999999999996,
          -1.4999999999999996,
          -1.3999999999999995,
          -1.2999999999999994,
          -1.1999999999999993,
          -1.0999999999999992,
          -0.9999999999999991,
          -0.899999999999999,
          -0.7999999999999989,
          -0.6999999999999988,
          -0.5999999999999988,
          -0.49999999999999867,
          -0.3999999999999986,
          -0.2999999999999985,
          -0.1999999999999984,
          -0.09999999999999831,
          1.7763568394002505e-15,
          0.10000000000000187,
          0.20000000000000195,
          0.30000000000000204,
          0.40000000000000213,
          0.5000000000000022,
          0.6000000000000023,
          0.7000000000000024,
          0.8000000000000025,
          0.9000000000000026,
          1.0000000000000027,
          1.1000000000000028,
          1.2000000000000028,
          1.300000000000003,
          1.400000000000003,
          1.500000000000003,
          1.6000000000000032,
          1.7000000000000033,
          1.8000000000000034,
          1.9000000000000035,
          2.0000000000000036,
          2.100000000000003,
          2.2000000000000037,
          2.3000000000000043,
          2.400000000000004,
          2.5000000000000036,
          2.600000000000004,
          2.7000000000000046,
          2.8000000000000043,
          2.900000000000004,
          3.0000000000000044,
          3.100000000000005,
          3.2000000000000046,
          3.3000000000000043,
          3.400000000000005,
          3.5000000000000053,
          3.600000000000005,
          3.7000000000000046,
          3.800000000000005,
          3.9000000000000057,
          4.000000000000005,
          4.100000000000005,
          4.2000000000000055,
          4.300000000000006,
          4.400000000000006,
          4.500000000000005,
          4.600000000000006,
          4.700000000000006,
          4.800000000000006,
          4.900000000000006,
          5.000000000000006,
          5.100000000000007,
          5.200000000000006,
          5.300000000000006,
          5.400000000000007,
          5.500000000000007,
          5.600000000000007,
          5.700000000000006,
          5.800000000000007,
          5.9000000000000075,
          6.000000000000007,
          6.100000000000007,
          6.200000000000006,
          6.300000000000008,
          6.4000000000000075,
          6.500000000000007,
          6.6000000000000085,
          6.700000000000008,
          6.800000000000008,
          6.9000000000000075,
          7.000000000000007,
          7.1000000000000085,
          7.200000000000008,
          7.300000000000008,
          7.400000000000009,
          7.500000000000009,
          7.6000000000000085,
          7.700000000000008,
          7.800000000000008,
          7.900000000000009
         ],
         "xaxis": "x",
         "y": [
          0.25,
          0.2679433656340733,
          0.2871745887492588,
          0.30778610333622913,
          0.32987697769322366,
          0.3535533905932739,
          0.37892914162759966,
          0.40612619817811796,
          0.4352752816480623,
          0.466516495768404,
          0.5000000000000003,
          0.5358867312681469,
          0.5743491774985179,
          0.6155722066724586,
          0.6597539553864477,
          0.7071067811865481,
          0.7578582832551998,
          0.8122523963562364,
          0.8705505632961251,
          0.9330329915368085,
          1.0000000000000013,
          1.0717734625362945,
          1.1486983549970367,
          1.231144413344918,
          1.3195079107728962,
          1.4142135623730971,
          1.5157165665104004,
          1.6245047927124738,
          1.7411011265922514,
          1.8660659830736182,
          2.0000000000000036,
          2.1435469250725903,
          2.2973967099940746,
          2.4622888266898375,
          2.639015821545794,
          2.828427124746196,
          3.031433133020803,
          3.2490095854249494,
          3.4822022531845045,
          3.7321319661472385,
          4.00000000000001,
          4.287093850145182,
          4.594793419988152,
          4.9245776533796795,
          5.278031643091591,
          5.656854249492394,
          6.06286626604161,
          6.498019170849905,
          6.964404506369013,
          7.46426393229448,
          8.000000000000025,
          8.574187700290375,
          9.18958683997631,
          9.849155306759359,
          10.55606328618319,
          11.313708498984802,
          12.125732532083227,
          12.99603834169981,
          13.928809012738036,
          14.928527864588977,
          16.00000000000006,
          17.14837540058075,
          18.37917367995263,
          19.698310613518743,
          21.112126572366392,
          22.627416997969604,
          24.251465064166467,
          25.992076683399652,
          27.85761802547609,
          29.857055729177954,
          32.000000000000135,
          34.296750801161544,
          36.75834735990529,
          39.396621227037485,
          42.224253144732806,
          45.254833995939265,
          48.50293012833296,
          51.984153366799305,
          55.715236050952214,
          59.71411145835599,
          64.00000000000031,
          68.59350160232309,
          73.51669471981057,
          78.79324245407507,
          84.44850628946567,
          90.50966799187853,
          97.00586025666605,
          103.96830673359874,
          111.4304721019045,
          119.42822291671197,
          128.00000000000063,
          137.18700320464635,
          147.03338943962132,
          157.58648490815014,
          168.89701257893154,
          181.0193359837573,
          194.0117205133321,
          207.93661346719747,
          222.860944203809,
          238.85644583342423
         ],
         "yaxis": "y"
        }
       ],
       "layout": {
        "autosize": true,
        "legend": {
         "title": {
          "text": "variable"
         },
         "tracegroupgap": 0
        },
        "template": {
         "data": {
          "bar": [
           {
            "error_x": {
             "color": "#2a3f5f"
            },
            "error_y": {
             "color": "#2a3f5f"
            },
            "marker": {
             "line": {
              "color": "#E5ECF6",
              "width": 0.5
             },
             "pattern": {
              "fillmode": "overlay",
              "size": 10,
              "solidity": 0.2
             }
            },
            "type": "bar"
           }
          ],
          "barpolar": [
           {
            "marker": {
             "line": {
              "color": "#E5ECF6",
              "width": 0.5
             },
             "pattern": {
              "fillmode": "overlay",
              "size": 10,
              "solidity": 0.2
             }
            },
            "type": "barpolar"
           }
          ],
          "carpet": [
           {
            "aaxis": {
             "endlinecolor": "#2a3f5f",
             "gridcolor": "white",
             "linecolor": "white",
             "minorgridcolor": "white",
             "startlinecolor": "#2a3f5f"
            },
            "baxis": {
             "endlinecolor": "#2a3f5f",
             "gridcolor": "white",
             "linecolor": "white",
             "minorgridcolor": "white",
             "startlinecolor": "#2a3f5f"
            },
            "type": "carpet"
           }
          ],
          "choropleth": [
           {
            "colorbar": {
             "outlinewidth": 0,
             "ticks": ""
            },
            "type": "choropleth"
           }
          ],
          "contour": [
           {
            "colorbar": {
             "outlinewidth": 0,
             "ticks": ""
            },
            "colorscale": [
             [
              0,
              "#0d0887"
             ],
             [
              0.1111111111111111,
              "#46039f"
             ],
             [
              0.2222222222222222,
              "#7201a8"
             ],
             [
              0.3333333333333333,
              "#9c179e"
             ],
             [
              0.4444444444444444,
              "#bd3786"
             ],
             [
              0.5555555555555556,
              "#d8576b"
             ],
             [
              0.6666666666666666,
              "#ed7953"
             ],
             [
              0.7777777777777778,
              "#fb9f3a"
             ],
             [
              0.8888888888888888,
              "#fdca26"
             ],
             [
              1,
              "#f0f921"
             ]
            ],
            "type": "contour"
           }
          ],
          "contourcarpet": [
           {
            "colorbar": {
             "outlinewidth": 0,
             "ticks": ""
            },
            "type": "contourcarpet"
           }
          ],
          "heatmap": [
           {
            "colorbar": {
             "outlinewidth": 0,
             "ticks": ""
            },
            "colorscale": [
             [
              0,
              "#0d0887"
             ],
             [
              0.1111111111111111,
              "#46039f"
             ],
             [
              0.2222222222222222,
              "#7201a8"
             ],
             [
              0.3333333333333333,
              "#9c179e"
             ],
             [
              0.4444444444444444,
              "#bd3786"
             ],
             [
              0.5555555555555556,
              "#d8576b"
             ],
             [
              0.6666666666666666,
              "#ed7953"
             ],
             [
              0.7777777777777778,
              "#fb9f3a"
             ],
             [
              0.8888888888888888,
              "#fdca26"
             ],
             [
              1,
              "#f0f921"
             ]
            ],
            "type": "heatmap"
           }
          ],
          "heatmapgl": [
           {
            "colorbar": {
             "outlinewidth": 0,
             "ticks": ""
            },
            "colorscale": [
             [
              0,
              "#0d0887"
             ],
             [
              0.1111111111111111,
              "#46039f"
             ],
             [
              0.2222222222222222,
              "#7201a8"
             ],
             [
              0.3333333333333333,
              "#9c179e"
             ],
             [
              0.4444444444444444,
              "#bd3786"
             ],
             [
              0.5555555555555556,
              "#d8576b"
             ],
             [
              0.6666666666666666,
              "#ed7953"
             ],
             [
              0.7777777777777778,
              "#fb9f3a"
             ],
             [
              0.8888888888888888,
              "#fdca26"
             ],
             [
              1,
              "#f0f921"
             ]
            ],
            "type": "heatmapgl"
           }
          ],
          "histogram": [
           {
            "marker": {
             "pattern": {
              "fillmode": "overlay",
              "size": 10,
              "solidity": 0.2
             }
            },
            "type": "histogram"
           }
          ],
          "histogram2d": [
           {
            "colorbar": {
             "outlinewidth": 0,
             "ticks": ""
            },
            "colorscale": [
             [
              0,
              "#0d0887"
             ],
             [
              0.1111111111111111,
              "#46039f"
             ],
             [
              0.2222222222222222,
              "#7201a8"
             ],
             [
              0.3333333333333333,
              "#9c179e"
             ],
             [
              0.4444444444444444,
              "#bd3786"
             ],
             [
              0.5555555555555556,
              "#d8576b"
             ],
             [
              0.6666666666666666,
              "#ed7953"
             ],
             [
              0.7777777777777778,
              "#fb9f3a"
             ],
             [
              0.8888888888888888,
              "#fdca26"
             ],
             [
              1,
              "#f0f921"
             ]
            ],
            "type": "histogram2d"
           }
          ],
          "histogram2dcontour": [
           {
            "colorbar": {
             "outlinewidth": 0,
             "ticks": ""
            },
            "colorscale": [
             [
              0,
              "#0d0887"
             ],
             [
              0.1111111111111111,
              "#46039f"
             ],
             [
              0.2222222222222222,
              "#7201a8"
             ],
             [
              0.3333333333333333,
              "#9c179e"
             ],
             [
              0.4444444444444444,
              "#bd3786"
             ],
             [
              0.5555555555555556,
              "#d8576b"
             ],
             [
              0.6666666666666666,
              "#ed7953"
             ],
             [
              0.7777777777777778,
              "#fb9f3a"
             ],
             [
              0.8888888888888888,
              "#fdca26"
             ],
             [
              1,
              "#f0f921"
             ]
            ],
            "type": "histogram2dcontour"
           }
          ],
          "mesh3d": [
           {
            "colorbar": {
             "outlinewidth": 0,
             "ticks": ""
            },
            "type": "mesh3d"
           }
          ],
          "parcoords": [
           {
            "line": {
             "colorbar": {
              "outlinewidth": 0,
              "ticks": ""
             }
            },
            "type": "parcoords"
           }
          ],
          "pie": [
           {
            "automargin": true,
            "type": "pie"
           }
          ],
          "scatter": [
           {
            "fillpattern": {
             "fillmode": "overlay",
             "size": 10,
             "solidity": 0.2
            },
            "type": "scatter"
           }
          ],
          "scatter3d": [
           {
            "line": {
             "colorbar": {
              "outlinewidth": 0,
              "ticks": ""
             }
            },
            "marker": {
             "colorbar": {
              "outlinewidth": 0,
              "ticks": ""
             }
            },
            "type": "scatter3d"
           }
          ],
          "scattercarpet": [
           {
            "marker": {
             "colorbar": {
              "outlinewidth": 0,
              "ticks": ""
             }
            },
            "type": "scattercarpet"
           }
          ],
          "scattergeo": [
           {
            "marker": {
             "colorbar": {
              "outlinewidth": 0,
              "ticks": ""
             }
            },
            "type": "scattergeo"
           }
          ],
          "scattergl": [
           {
            "marker": {
             "colorbar": {
              "outlinewidth": 0,
              "ticks": ""
             }
            },
            "type": "scattergl"
           }
          ],
          "scattermapbox": [
           {
            "marker": {
             "colorbar": {
              "outlinewidth": 0,
              "ticks": ""
             }
            },
            "type": "scattermapbox"
           }
          ],
          "scatterpolar": [
           {
            "marker": {
             "colorbar": {
              "outlinewidth": 0,
              "ticks": ""
             }
            },
            "type": "scatterpolar"
           }
          ],
          "scatterpolargl": [
           {
            "marker": {
             "colorbar": {
              "outlinewidth": 0,
              "ticks": ""
             }
            },
            "type": "scatterpolargl"
           }
          ],
          "scatterternary": [
           {
            "marker": {
             "colorbar": {
              "outlinewidth": 0,
              "ticks": ""
             }
            },
            "type": "scatterternary"
           }
          ],
          "surface": [
           {
            "colorbar": {
             "outlinewidth": 0,
             "ticks": ""
            },
            "colorscale": [
             [
              0,
              "#0d0887"
             ],
             [
              0.1111111111111111,
              "#46039f"
             ],
             [
              0.2222222222222222,
              "#7201a8"
             ],
             [
              0.3333333333333333,
              "#9c179e"
             ],
             [
              0.4444444444444444,
              "#bd3786"
             ],
             [
              0.5555555555555556,
              "#d8576b"
             ],
             [
              0.6666666666666666,
              "#ed7953"
             ],
             [
              0.7777777777777778,
              "#fb9f3a"
             ],
             [
              0.8888888888888888,
              "#fdca26"
             ],
             [
              1,
              "#f0f921"
             ]
            ],
            "type": "surface"
           }
          ],
          "table": [
           {
            "cells": {
             "fill": {
              "color": "#EBF0F8"
             },
             "line": {
              "color": "white"
             }
            },
            "header": {
             "fill": {
              "color": "#C8D4E3"
             },
             "line": {
              "color": "white"
             }
            },
            "type": "table"
           }
          ]
         },
         "layout": {
          "annotationdefaults": {
           "arrowcolor": "#2a3f5f",
           "arrowhead": 0,
           "arrowwidth": 1
          },
          "autotypenumbers": "strict",
          "coloraxis": {
           "colorbar": {
            "outlinewidth": 0,
            "ticks": ""
           }
          },
          "colorscale": {
           "diverging": [
            [
             0,
             "#8e0152"
            ],
            [
             0.1,
             "#c51b7d"
            ],
            [
             0.2,
             "#de77ae"
            ],
            [
             0.3,
             "#f1b6da"
            ],
            [
             0.4,
             "#fde0ef"
            ],
            [
             0.5,
             "#f7f7f7"
            ],
            [
             0.6,
             "#e6f5d0"
            ],
            [
             0.7,
             "#b8e186"
            ],
            [
             0.8,
             "#7fbc41"
            ],
            [
             0.9,
             "#4d9221"
            ],
            [
             1,
             "#276419"
            ]
           ],
           "sequential": [
            [
             0,
             "#0d0887"
            ],
            [
             0.1111111111111111,
             "#46039f"
            ],
            [
             0.2222222222222222,
             "#7201a8"
            ],
            [
             0.3333333333333333,
             "#9c179e"
            ],
            [
             0.4444444444444444,
             "#bd3786"
            ],
            [
             0.5555555555555556,
             "#d8576b"
            ],
            [
             0.6666666666666666,
             "#ed7953"
            ],
            [
             0.7777777777777778,
             "#fb9f3a"
            ],
            [
             0.8888888888888888,
             "#fdca26"
            ],
            [
             1,
             "#f0f921"
            ]
           ],
           "sequentialminus": [
            [
             0,
             "#0d0887"
            ],
            [
             0.1111111111111111,
             "#46039f"
            ],
            [
             0.2222222222222222,
             "#7201a8"
            ],
            [
             0.3333333333333333,
             "#9c179e"
            ],
            [
             0.4444444444444444,
             "#bd3786"
            ],
            [
             0.5555555555555556,
             "#d8576b"
            ],
            [
             0.6666666666666666,
             "#ed7953"
            ],
            [
             0.7777777777777778,
             "#fb9f3a"
            ],
            [
             0.8888888888888888,
             "#fdca26"
            ],
            [
             1,
             "#f0f921"
            ]
           ]
          },
          "colorway": [
           "#636efa",
           "#EF553B",
           "#00cc96",
           "#ab63fa",
           "#FFA15A",
           "#19d3f3",
           "#FF6692",
           "#B6E880",
           "#FF97FF",
           "#FECB52"
          ],
          "font": {
           "color": "#2a3f5f"
          },
          "geo": {
           "bgcolor": "white",
           "lakecolor": "white",
           "landcolor": "#E5ECF6",
           "showlakes": true,
           "showland": true,
           "subunitcolor": "white"
          },
          "hoverlabel": {
           "align": "left"
          },
          "hovermode": "closest",
          "mapbox": {
           "style": "light"
          },
          "paper_bgcolor": "white",
          "plot_bgcolor": "#E5ECF6",
          "polar": {
           "angularaxis": {
            "gridcolor": "white",
            "linecolor": "white",
            "ticks": ""
           },
           "bgcolor": "#E5ECF6",
           "radialaxis": {
            "gridcolor": "white",
            "linecolor": "white",
            "ticks": ""
           }
          },
          "scene": {
           "xaxis": {
            "backgroundcolor": "#E5ECF6",
            "gridcolor": "white",
            "gridwidth": 2,
            "linecolor": "white",
            "showbackground": true,
            "ticks": "",
            "zerolinecolor": "white"
           },
           "yaxis": {
            "backgroundcolor": "#E5ECF6",
            "gridcolor": "white",
            "gridwidth": 2,
            "linecolor": "white",
            "showbackground": true,
            "ticks": "",
            "zerolinecolor": "white"
           },
           "zaxis": {
            "backgroundcolor": "#E5ECF6",
            "gridcolor": "white",
            "gridwidth": 2,
            "linecolor": "white",
            "showbackground": true,
            "ticks": "",
            "zerolinecolor": "white"
           }
          },
          "shapedefaults": {
           "line": {
            "color": "#2a3f5f"
           }
          },
          "ternary": {
           "aaxis": {
            "gridcolor": "white",
            "linecolor": "white",
            "ticks": ""
           },
           "baxis": {
            "gridcolor": "white",
            "linecolor": "white",
            "ticks": ""
           },
           "bgcolor": "#E5ECF6",
           "caxis": {
            "gridcolor": "white",
            "linecolor": "white",
            "ticks": ""
           }
          },
          "title": {
           "x": 0.05
          },
          "xaxis": {
           "automargin": true,
           "gridcolor": "white",
           "linecolor": "white",
           "ticks": "",
           "title": {
            "standoff": 15
           },
           "zerolinecolor": "white",
           "zerolinewidth": 2
          },
          "yaxis": {
           "automargin": true,
           "gridcolor": "white",
           "linecolor": "white",
           "ticks": "",
           "title": {
            "standoff": 15
           },
           "zerolinecolor": "white",
           "zerolinewidth": 2
          }
         }
        },
        "title": {
         "text": "Funciones Exponenciales Interactivas"
        },
        "xaxis": {
         "anchor": "y",
         "autorange": true,
         "domain": [
          0,
          1
         ],
         "range": [
          -2,
          7.900000000000009
         ],
         "title": {
          "text": "x"
         },
         "type": "linear"
        },
        "yaxis": {
         "anchor": "x",
         "autorange": true,
         "domain": [
          0,
          1
         ],
         "range": [
          -149.70616432705765,
          2847.123827878828
         ],
         "title": {
          "text": "value"
         },
         "type": "linear"
        }
       }
      },
      "image/png": "[encoded data removed]",
      "text/html": [
       "<div>                            <div id=\"88e07069-5844-4023-9991-2a03ee1df9bb\" class=\"plotly-graph-div\" style=\"height:525px; width:100%;\"></div>            <script type=\"text/javascript\">                require([\"plotly\"], function(Plotly) {                    window.PLOTLYENV=window.PLOTLYENV || {};                                    if (document.getElementById(\"88e07069-5844-4023-9991-2a03ee1df9bb\")) {                    Plotly.newPlot(                        \"88e07069-5844-4023-9991-2a03ee1df9bb\",                        [{\"hovertemplate\":\"variable=e^x\\u003cbr\\u003ex=%{x}\\u003cbr\\u003evalue=%{y}\\u003cextra\\u003e\\u003c\\u002fextra\\u003e\",\"legendgroup\":\"e^x\",\"line\":{\"color\":\"#636efa\",\"dash\":\"solid\"},\"marker\":{\"symbol\":\"circle\"},\"mode\":\"lines\",\"name\":\"e^x\",\"orientation\":\"v\",\"showlegend\":true,\"x\":[-2.0,-1.9,-1.7999999999999998,-1.6999999999999997,-1.5999999999999996,-1.4999999999999996,-1.3999999999999995,-1.2999999999999994,-1.1999999999999993,-1.0999999999999992,-0.9999999999999991,-0.899999999999999,-0.7999999999999989,-0.6999999999999988,-0.5999999999999988,-0.49999999999999867,-0.3999999999999986,-0.2999999999999985,-0.1999999999999984,-0.09999999999999831,1.7763568394002505e-15,0.10000000000000187,0.20000000000000195,0.30000000000000204,0.40000000000000213,0.5000000000000022,0.6000000000000023,0.7000000000000024,0.8000000000000025,0.9000000000000026,1.0000000000000027,1.1000000000000028,1.2000000000000028,1.300000000000003,1.400000000000003,1.500000000000003,1.6000000000000032,1.7000000000000033,1.8000000000000034,1.9000000000000035,2.0000000000000036,2.100000000000003,2.2000000000000037,2.3000000000000043,2.400000000000004,2.5000000000000036,2.600000000000004,2.7000000000000046,2.8000000000000043,2.900000000000004,3.0000000000000044,3.100000000000005,3.2000000000000046,3.3000000000000043,3.400000000000005,3.5000000000000053,3.600000000000005,3.7000000000000046,3.800000000000005,3.9000000000000057,4.000000000000005,4.100000000000005,4.2000000000000055,4.300000000000006,4.400000000000006,4.500000000000005,4.600000000000006,4.700000000000006,4.800000000000006,4.900000000000006,5.000000000000006,5.100000000000007,5.200000000000006,5.300000000000006,5.400000000000007,5.500000000000007,5.600000000000007,5.700000000000006,5.800000000000007,5.9000000000000075,6.000000000000007,6.100000000000007,6.200000000000006,6.300000000000008,6.4000000000000075,6.500000000000007,6.6000000000000085,6.700000000000008,6.800000000000008,6.9000000000000075,7.000000000000007,7.1000000000000085,7.200000000000008,7.300000000000008,7.400000000000009,7.500000000000009,7.6000000000000085,7.700000000000008,7.800000000000008,7.900000000000009],\"xaxis\":\"x\",\"y\":[0.1353352832366127,0.14956861922263506,0.16529888822158656,0.1826835240527347,0.20189651799465547,0.22313016014842993,0.2465969639416066,0.27253179303401276,0.3011942119122023,0.33287108369807983,0.36787944117144267,0.4065696597405995,0.44932896411722206,0.4965853037914101,0.5488116360940272,0.6065306597126342,0.6703200460356402,0.740818220681719,0.8187307530779832,0.9048374180359611,1.0000000000000018,1.1051709180756497,1.2214027581601723,1.3498588075760058,1.4918246976412735,1.6487212707001317,1.822118800390513,2.0137527074704815,2.225540928492473,2.459603111156956,2.7182818284590526,3.0041660239464414,3.320116922736557,3.669296667619255,4.055199966844687,4.481689070338079,4.953032424395131,5.473947391727218,6.049647464412966,6.6858944422792925,7.389056098930676,8.166169912567677,9.025013499434154,9.974182454814763,11.023176380641644,12.182493960703516,13.463738035001745,14.879731724872903,16.44464677109712,18.17414536944313,20.085536923187757,22.197951281441743,24.532530197109462,27.112638920658004,29.964100047397157,33.11545195869249,36.59823444367817,40.44730436006758,44.70118449330106,49.40244910553046,54.59815003314453,60.34028759736227,66.68633104092551,73.69979369959624,81.45086866496858,90.0171313005223,99.48431564193439,109.9471724521242,121.51041751873561,134.28977968493624,148.41315910257754,164.02190729990286,181.27224187515233,200.33680997479289,221.40641620418853,244.69193226422212,270.42640742615447,298.86740096706217,330.29955990965095,365.0374678653315,403.428793492738,445.85777008251995,492.7490410932594,544.5719101259333,601.8450378720866,665.1416330443666,735.0951892419791,812.4058251675498,897.8472916504247,992.2747156050333,1096.6331584284665,1211.967074492587,1339.4307643944287,1480.2999275845568,1635.9844299959416,1808.0424144560793,1998.195895104135,2208.3479918872267,2440.601977624518,2697.2823282685335],\"yaxis\":\"y\",\"type\":\"scatter\"},{\"hovertemplate\":\"variable=2^x\\u003cbr\\u003ex=%{x}\\u003cbr\\u003evalue=%{y}\\u003cextra\\u003e\\u003c\\u002fextra\\u003e\",\"legendgroup\":\"2^x\",\"line\":{\"color\":\"#EF553B\",\"dash\":\"solid\"},\"marker\":{\"symbol\":\"circle\"},\"mode\":\"lines\",\"name\":\"2^x\",\"orientation\":\"v\",\"showlegend\":true,\"x\":[-2.0,-1.9,-1.7999999999999998,-1.6999999999999997,-1.5999999999999996,-1.4999999999999996,-1.3999999999999995,-1.2999999999999994,-1.1999999999999993,-1.0999999999999992,-0.9999999999999991,-0.899999999999999,-0.7999999999999989,-0.6999999999999988,-0.5999999999999988,-0.49999999999999867,-0.3999999999999986,-0.2999999999999985,-0.1999999999999984,-0.09999999999999831,1.7763568394002505e-15,0.10000000000000187,0.20000000000000195,0.30000000000000204,0.40000000000000213,0.5000000000000022,0.6000000000000023,0.7000000000000024,0.8000000000000025,0.9000000000000026,1.0000000000000027,1.1000000000000028,1.2000000000000028,1.300000000000003,1.400000000000003,1.500000000000003,1.6000000000000032,1.7000000000000033,1.8000000000000034,1.9000000000000035,2.0000000000000036,2.100000000000003,2.2000000000000037,2.3000000000000043,2.400000000000004,2.5000000000000036,2.600000000000004,2.7000000000000046,2.8000000000000043,2.900000000000004,3.0000000000000044,3.100000000000005,3.2000000000000046,3.3000000000000043,3.400000000000005,3.5000000000000053,3.600000000000005,3.7000000000000046,3.800000000000005,3.9000000000000057,4.000000000000005,4.100000000000005,4.2000000000000055,4.300000000000006,4.400000000000006,4.500000000000005,4.600000000000006,4.700000000000006,4.800000000000006,4.900000000000006,5.000000000000006,5.100000000000007,5.200000000000006,5.300000000000006,5.400000000000007,5.500000000000007,5.600000000000007,5.700000000000006,5.800000000000007,5.9000000000000075,6.000000000000007,6.100000000000007,6.200000000000006,6.300000000000008,6.4000000000000075,6.500000000000007,6.6000000000000085,6.700000000000008,6.800000000000008,6.9000000000000075,7.000000000000007,7.1000000000000085,7.200000000000008,7.300000000000008,7.400000000000009,7.500000000000009,7.6000000000000085,7.700000000000008,7.800000000000008,7.900000000000009],\"xaxis\":\"x\",\"y\":[0.25,0.2679433656340733,0.2871745887492588,0.30778610333622913,0.32987697769322366,0.3535533905932739,0.37892914162759966,0.40612619817811796,0.4352752816480623,0.466516495768404,0.5000000000000003,0.5358867312681469,0.5743491774985179,0.6155722066724586,0.6597539553864477,0.7071067811865481,0.7578582832551998,0.8122523963562364,0.8705505632961251,0.9330329915368085,1.0000000000000013,1.0717734625362945,1.1486983549970367,1.231144413344918,1.3195079107728962,1.4142135623730971,1.5157165665104004,1.6245047927124738,1.7411011265922514,1.8660659830736182,2.0000000000000036,2.1435469250725903,2.2973967099940746,2.4622888266898375,2.639015821545794,2.828427124746196,3.031433133020803,3.2490095854249494,3.4822022531845045,3.7321319661472385,4.00000000000001,4.287093850145182,4.594793419988152,4.9245776533796795,5.278031643091591,5.656854249492394,6.06286626604161,6.498019170849905,6.964404506369013,7.46426393229448,8.000000000000025,8.574187700290375,9.18958683997631,9.849155306759359,10.55606328618319,11.313708498984802,12.125732532083227,12.99603834169981,13.928809012738036,14.928527864588977,16.00000000000006,17.14837540058075,18.37917367995263,19.698310613518743,21.112126572366392,22.627416997969604,24.251465064166467,25.992076683399652,27.85761802547609,29.857055729177954,32.000000000000135,34.296750801161544,36.75834735990529,39.396621227037485,42.224253144732806,45.254833995939265,48.50293012833296,51.984153366799305,55.715236050952214,59.71411145835599,64.00000000000031,68.59350160232309,73.51669471981057,78.79324245407507,84.44850628946567,90.50966799187853,97.00586025666605,103.96830673359874,111.4304721019045,119.42822291671197,128.00000000000063,137.18700320464635,147.03338943962132,157.58648490815014,168.89701257893154,181.0193359837573,194.0117205133321,207.93661346719747,222.860944203809,238.85644583342423],\"yaxis\":\"y\",\"type\":\"scatter\"}],                        {\"template\":{\"data\":{\"histogram2dcontour\":[{\"type\":\"histogram2dcontour\",\"colorbar\":{\"outlinewidth\":0,\"ticks\":\"\"},\"colorscale\":[[0.0,\"#0d0887\"],[0.1111111111111111,\"#46039f\"],[0.2222222222222222,\"#7201a8\"],[0.3333333333333333,\"#9c179e\"],[0.4444444444444444,\"#bd3786\"],[0.5555555555555556,\"#d8576b\"],[0.6666666666666666,\"#ed7953\"],[0.7777777777777778,\"#fb9f3a\"],[0.8888888888888888,\"#fdca26\"],[1.0,\"#f0f921\"]]}],\"choropleth\":[{\"type\":\"choropleth\",\"colorbar\":{\"outlinewidth\":0,\"ticks\":\"\"}}],\"histogram2d\":[{\"type\":\"histogram2d\",\"colorbar\":{\"outlinewidth\":0,\"ticks\":\"\"},\"colorscale\":[[0.0,\"#0d0887\"],[0.1111111111111111,\"#46039f\"],[0.2222222222222222,\"#7201a8\"],[0.3333333333333333,\"#9c179e\"],[0.4444444444444444,\"#bd3786\"],[0.5555555555555556,\"#d8576b\"],[0.6666666666666666,\"#ed7953\"],[0.7777777777777778,\"#fb9f3a\"],[0.8888888888888888,\"#fdca26\"],[1.0,\"#f0f921\"]]}],\"heatmap\":[{\"type\":\"heatmap\",\"colorbar\":{\"outlinewidth\":0,\"ticks\":\"\"},\"colorscale\":[[0.0,\"#0d0887\"],[0.1111111111111111,\"#46039f\"],[0.2222222222222222,\"#7201a8\"],[0.3333333333333333,\"#9c179e\"],[0.4444444444444444,\"#bd3786\"],[0.5555555555555556,\"#d8576b\"],[0.6666666666666666,\"#ed7953\"],[0.7777777777777778,\"#fb9f3a\"],[0.8888888888888888,\"#fdca26\"],[1.0,\"#f0f921\"]]}],\"heatmapgl\":[{\"type\":\"heatmapgl\",\"colorbar\":{\"outlinewidth\":0,\"ticks\":\"\"},\"colorscale\":[[0.0,\"#0d0887\"],[0.1111111111111111,\"#46039f\"],[0.2222222222222222,\"#7201a8\"],[0.3333333333333333,\"#9c179e\"],[0.4444444444444444,\"#bd3786\"],[0.5555555555555556,\"#d8576b\"],[0.6666666666666666,\"#ed7953\"],[0.7777777777777778,\"#fb9f3a\"],[0.8888888888888888,\"#fdca26\"],[1.0,\"#f0f921\"]]}],\"contourcarpet\":[{\"type\":\"contourcarpet\",\"colorbar\":{\"outlinewidth\":0,\"ticks\":\"\"}}],\"contour\":[{\"type\":\"contour\",\"colorbar\":{\"outlinewidth\":0,\"ticks\":\"\"},\"colorscale\":[[0.0,\"#0d0887\"],[0.1111111111111111,\"#46039f\"],[0.2222222222222222,\"#7201a8\"],[0.3333333333333333,\"#9c179e\"],[0.4444444444444444,\"#bd3786\"],[0.5555555555555556,\"#d8576b\"],[0.6666666666666666,\"#ed7953\"],[0.7777777777777778,\"#fb9f3a\"],[0.8888888888888888,\"#fdca26\"],[1.0,\"#f0f921\"]]}],\"surface\":[{\"type\":\"surface\",\"colorbar\":{\"outlinewidth\":0,\"ticks\":\"\"},\"colorscale\":[[0.0,\"#0d0887\"],[0.1111111111111111,\"#46039f\"],[0.2222222222222222,\"#7201a8\"],[0.3333333333333333,\"#9c179e\"],[0.4444444444444444,\"#bd3786\"],[0.5555555555555556,\"#d8576b\"],[0.6666666666666666,\"#ed7953\"],[0.7777777777777778,\"#fb9f3a\"],[0.8888888888888888,\"#fdca26\"],[1.0,\"#f0f921\"]]}],\"mesh3d\":[{\"type\":\"mesh3d\",\"colorbar\":{\"outlinewidth\":0,\"ticks\":\"\"}}],\"scatter\":[{\"fillpattern\":{\"fillmode\":\"overlay\",\"size\":10,\"solidity\":0.2},\"type\":\"scatter\"}],\"parcoords\":[{\"type\":\"parcoords\",\"line\":{\"colorbar\":{\"outlinewidth\":0,\"ticks\":\"\"}}}],\"scatterpolargl\":[{\"type\":\"scatterpolargl\",\"marker\":{\"colorbar\":{\"outlinewidth\":0,\"ticks\":\"\"}}}],\"bar\":[{\"error_x\":{\"color\":\"#2a3f5f\"},\"error_y\":{\"color\":\"#2a3f5f\"},\"marker\":{\"line\":{\"color\":\"#E5ECF6\",\"width\":0.5},\"pattern\":{\"fillmode\":\"overlay\",\"size\":10,\"solidity\":0.2}},\"type\":\"bar\"}],\"scattergeo\":[{\"type\":\"scattergeo\",\"marker\":{\"colorbar\":{\"outlinewidth\":0,\"ticks\":\"\"}}}],\"scatterpolar\":[{\"type\":\"scatterpolar\",\"marker\":{\"colorbar\":{\"outlinewidth\":0,\"ticks\":\"\"}}}],\"histogram\":[{\"marker\":{\"pattern\":{\"fillmode\":\"overlay\",\"size\":10,\"solidity\":0.2}},\"type\":\"histogram\"}],\"scattergl\":[{\"type\":\"scattergl\",\"marker\":{\"colorbar\":{\"outlinewidth\":0,\"ticks\":\"\"}}}],\"scatter3d\":[{\"type\":\"scatter3d\",\"line\":{\"colorbar\":{\"outlinewidth\":0,\"ticks\":\"\"}},\"marker\":{\"colorbar\":{\"outlinewidth\":0,\"ticks\":\"\"}}}],\"scattermapbox\":[{\"type\":\"scattermapbox\",\"marker\":{\"colorbar\":{\"outlinewidth\":0,\"ticks\":\"\"}}}],\"scatterternary\":[{\"type\":\"scatterternary\",\"marker\":{\"colorbar\":{\"outlinewidth\":0,\"ticks\":\"\"}}}],\"scattercarpet\":[{\"type\":\"scattercarpet\",\"marker\":{\"colorbar\":{\"outlinewidth\":0,\"ticks\":\"\"}}}],\"carpet\":[{\"aaxis\":{\"endlinecolor\":\"#2a3f5f\",\"gridcolor\":\"white\",\"linecolor\":\"white\",\"minorgridcolor\":\"white\",\"startlinecolor\":\"#2a3f5f\"},\"baxis\":{\"endlinecolor\":\"#2a3f5f\",\"gridcolor\":\"white\",\"linecolor\":\"white\",\"minorgridcolor\":\"white\",\"startlinecolor\":\"#2a3f5f\"},\"type\":\"carpet\"}],\"table\":[{\"cells\":{\"fill\":{\"color\":\"#EBF0F8\"},\"line\":{\"color\":\"white\"}},\"header\":{\"fill\":{\"color\":\"#C8D4E3\"},\"line\":{\"color\":\"white\"}},\"type\":\"table\"}],\"barpolar\":[{\"marker\":{\"line\":{\"color\":\"#E5ECF6\",\"width\":0.5},\"pattern\":{\"fillmode\":\"overlay\",\"size\":10,\"solidity\":0.2}},\"type\":\"barpolar\"}],\"pie\":[{\"automargin\":true,\"type\":\"pie\"}]},\"layout\":{\"autotypenumbers\":\"strict\",\"colorway\":[\"#636efa\",\"#EF553B\",\"#00cc96\",\"#ab63fa\",\"#FFA15A\",\"#19d3f3\",\"#FF6692\",\"#B6E880\",\"#FF97FF\",\"#FECB52\"],\"font\":{\"color\":\"#2a3f5f\"},\"hovermode\":\"closest\",\"hoverlabel\":{\"align\":\"left\"},\"paper_bgcolor\":\"white\",\"plot_bgcolor\":\"#E5ECF6\",\"polar\":{\"bgcolor\":\"#E5ECF6\",\"angularaxis\":{\"gridcolor\":\"white\",\"linecolor\":\"white\",\"ticks\":\"\"},\"radialaxis\":{\"gridcolor\":\"white\",\"linecolor\":\"white\",\"ticks\":\"\"}},\"ternary\":{\"bgcolor\":\"#E5ECF6\",\"aaxis\":{\"gridcolor\":\"white\",\"linecolor\":\"white\",\"ticks\":\"\"},\"baxis\":{\"gridcolor\":\"white\",\"linecolor\":\"white\",\"ticks\":\"\"},\"caxis\":{\"gridcolor\":\"white\",\"linecolor\":\"white\",\"ticks\":\"\"}},\"coloraxis\":{\"colorbar\":{\"outlinewidth\":0,\"ticks\":\"\"}},\"colorscale\":{\"sequential\":[[0.0,\"#0d0887\"],[0.1111111111111111,\"#46039f\"],[0.2222222222222222,\"#7201a8\"],[0.3333333333333333,\"#9c179e\"],[0.4444444444444444,\"#bd3786\"],[0.5555555555555556,\"#d8576b\"],[0.6666666666666666,\"#ed7953\"],[0.7777777777777778,\"#fb9f3a\"],[0.8888888888888888,\"#fdca26\"],[1.0,\"#f0f921\"]],\"sequentialminus\":[[0.0,\"#0d0887\"],[0.1111111111111111,\"#46039f\"],[0.2222222222222222,\"#7201a8\"],[0.3333333333333333,\"#9c179e\"],[0.4444444444444444,\"#bd3786\"],[0.5555555555555556,\"#d8576b\"],[0.6666666666666666,\"#ed7953\"],[0.7777777777777778,\"#fb9f3a\"],[0.8888888888888888,\"#fdca26\"],[1.0,\"#f0f921\"]],\"diverging\":[[0,\"#8e0152\"],[0.1,\"#c51b7d\"],[0.2,\"#de77ae\"],[0.3,\"#f1b6da\"],[0.4,\"#fde0ef\"],[0.5,\"#f7f7f7\"],[0.6,\"#e6f5d0\"],[0.7,\"#b8e186\"],[0.8,\"#7fbc41\"],[0.9,\"#4d9221\"],[1,\"#276419\"]]},\"xaxis\":{\"gridcolor\":\"white\",\"linecolor\":\"white\",\"ticks\":\"\",\"title\":{\"standoff\":15},\"zerolinecolor\":\"white\",\"automargin\":true,\"zerolinewidth\":2},\"yaxis\":{\"gridcolor\":\"white\",\"linecolor\":\"white\",\"ticks\":\"\",\"title\":{\"standoff\":15},\"zerolinecolor\":\"white\",\"automargin\":true,\"zerolinewidth\":2},\"scene\":{\"xaxis\":{\"backgroundcolor\":\"#E5ECF6\",\"gridcolor\":\"white\",\"linecolor\":\"white\",\"showbackground\":true,\"ticks\":\"\",\"zerolinecolor\":\"white\",\"gridwidth\":2},\"yaxis\":{\"backgroundcolor\":\"#E5ECF6\",\"gridcolor\":\"white\",\"linecolor\":\"white\",\"showbackground\":true,\"ticks\":\"\",\"zerolinecolor\":\"white\",\"gridwidth\":2},\"zaxis\":{\"backgroundcolor\":\"#E5ECF6\",\"gridcolor\":\"white\",\"linecolor\":\"white\",\"showbackground\":true,\"ticks\":\"\",\"zerolinecolor\":\"white\",\"gridwidth\":2}},\"shapedefaults\":{\"line\":{\"color\":\"#2a3f5f\"}},\"annotationdefaults\":{\"arrowcolor\":\"#2a3f5f\",\"arrowhead\":0,\"arrowwidth\":1},\"geo\":{\"bgcolor\":\"white\",\"landcolor\":\"#E5ECF6\",\"subunitcolor\":\"white\",\"showland\":true,\"showlakes\":true,\"lakecolor\":\"white\"},\"title\":{\"x\":0.05},\"mapbox\":{\"style\":\"light\"}}},\"xaxis\":{\"anchor\":\"y\",\"domain\":[0.0,1.0],\"title\":{\"text\":\"x\"}},\"yaxis\":{\"anchor\":\"x\",\"domain\":[0.0,1.0],\"title\":{\"text\":\"value\"}},\"legend\":{\"title\":{\"text\":\"variable\"},\"tracegroupgap\":0},\"title\":{\"text\":\"Funciones Exponenciales Interactivas\"}},                        {\"responsive\": true}                    ).then(function(){\n",
       "                            \n",
       "var gd = document.getElementById('88e07069-5844-4023-9991-2a03ee1df9bb');\n",
       "var x = new MutationObserver(function (mutations, observer) {{\n",
       "        var display = window.getComputedStyle(gd).display;\n",
       "        if (!display || display === 'none') {{\n",
       "            console.log([gd, 'removed!']);\n",
       "            Plotly.purge(gd);\n",
       "            observer.disconnect();\n",
       "        }}\n",
       "}});\n",
       "\n",
       "// Listen for the removal of the full notebook cells\n",
       "var notebookContainer = gd.closest('#notebook-container');\n",
       "if (notebookContainer) {{\n",
       "    x.observe(notebookContainer, {childList: true});\n",
       "}}\n",
       "\n",
       "// Listen for the clearing of the current output cell\n",
       "var outputEl = gd.closest('.output');\n",
       "if (outputEl) {{\n",
       "    x.observe(outputEl, {childList: true});\n",
       "}}\n",
       "\n",
       "                        })                };                });            </script>        </div>"
      ]
     },
     "metadata": {},
     "output_type": "display_data"
    }
   ],
   "source": [
    "import numpy as np \n",
    "import pandas as pd\n",
    "import plotly.express as px\n",
    "x = np.arange(-2,8, 0.1)\n",
    "df = pd.DataFrame({'x': x, 'e^x': np.exp(x), '2^x': 2**x})\n",
    "fig = px.line(df, x='x', y=['e^x', '2^x'], title='Funciones Exponenciales Interactivas')\n",
    "fig.show()\n"
   ]
  },
  {
   "cell_type": "markdown",
   "id": "57c220b4-5afe-48c9-8f9a-9eb1e25f86a4",
   "metadata": {},
   "source": [
    "### Tareas y Evaluación:\n",
    "- **Tarea:** Resolver problemas aplicando la función exponencial en contextos de ingeniería agropecuaria.\n",
    "- **Evaluación:** Presentar un proyecto final que incluya el uso de las funciones exponenciales \\( f(x) = e^x \\) y \\( g(x) = 2^x \\) para modelar un problema específico y presentar los resultados en un Jupyter Notebook con gráficos y animaciones."
   ]
  },
  {
   "cell_type": "markdown",
   "id": "68a650f5-ad29-4123-9c39-d194e0d7edd3",
   "metadata": {},
   "source": [
    "### Recursos Adicionales:\n",
    "- Enlaces a tutoriales sobre `ipywidgets`, `plotly`, y manejo de datos con `pandas`.\n",
    "- Ejemplos de aplicaciones reales de funciones exponenciales en agricultura y biología."
   ]
  },
  {
   "cell_type": "markdown",
   "id": "bc54220a-0f83-4763-a175-12ecd334d9b8",
   "metadata": {},
   "source": [
    "Esta clase permitirá a los estudiantes de Ingeniería Agropecuaria comprender y aplicar las funciones exponenciales en un contexto práctico, utilizando herramientas computacionales avanzadas para visualizar y analizar problemas complejos."
   ]
  },
  {
   "cell_type": "code",
   "execution_count": null,
   "id": "b1871bd5",
   "metadata": {},
   "outputs": [],
   "source": []
  },
  {
   "cell_type": "code",
   "execution_count": null,
   "id": "eff7dd6a",
   "metadata": {},
   "outputs": [],
   "source": []
  },
  {
   "cell_type": "code",
   "execution_count": null,
   "id": "8945dcf8",
   "metadata": {},
   "outputs": [],
   "source": []
  },
  {
   "attachments": {},
   "cell_type": "markdown",
   "id": "740f3401",
   "metadata": {
    "slideshow": {
     "slide_type": "slide"
    }
   },
   "source": [
    "# Componente de manejo de calculadora Casio 991 LA cw asociado al objetivo de aprendizaje de esta clase"
   ]
  },
  {
   "attachments": {},
   "cell_type": "markdown",
   "id": "8eecb2d9",
   "metadata": {
    "slideshow": {
     "slide_type": "slide"
    }
   },
   "source": [
    "## Descripción de la calculadora Casio  \n",
    "\n"
   ]
  },
  {
   "cell_type": "code",
   "execution_count": null,
   "id": "3cd72835",
   "metadata": {
    "slideshow": {
     "slide_type": "slide"
    }
   },
   "outputs": [],
   "source": []
  },
  {
   "cell_type": "code",
   "execution_count": null,
   "id": "d8a111c4",
   "metadata": {
    "slideshow": {
     "slide_type": "slide"
    }
   },
   "outputs": [],
   "source": []
  },
  {
   "attachments": {},
   "cell_type": "markdown",
   "id": "8a6f7ef9",
   "metadata": {
    "slideshow": {
     "slide_type": "slide"
    }
   },
   "source": [
    "## Tareas para realizar antes de la clase"
   ]
  },
  {
   "attachments": {},
   "cell_type": "markdown",
   "id": "90cae469",
   "metadata": {
    "slideshow": {
     "slide_type": "slide"
    }
   },
   "source": [
    "1. Ver los videos respectivos []()\n",
    "2. Memorizar las definiciones []()\n",
    "3. Sintetizar o resumir la información en mapas conceptuales. []()\n",
    "4. Tareas para incentivar el uso de la calculadora Casio Para ingenieros y licenciados. "
   ]
  },
  {
   "attachments": {},
   "cell_type": "markdown",
   "id": "fccb447c",
   "metadata": {
    "slideshow": {
     "slide_type": "slide"
    }
   },
   "source": [
    "# Tareas para realizar en clase"
   ]
  },
  {
   "attachments": {},
   "cell_type": "markdown",
   "id": "e5c48edf",
   "metadata": {
    "slideshow": {
     "slide_type": "slide"
    }
   },
   "source": [
    "* Modelación matemática \n",
    "* Trabajo en equipos"
   ]
  },
  {
   "attachments": {},
   "cell_type": "markdown",
   "id": "8b6b0112",
   "metadata": {
    "slideshow": {
     "slide_type": "slide"
    }
   },
   "source": [
    "# Tareas para realizar después de la realización de la clase"
   ]
  },
  {
   "attachments": {},
   "cell_type": "markdown",
   "id": "947460e3",
   "metadata": {
    "slideshow": {
     "slide_type": "slide"
    }
   },
   "source": [
    "* Actividades de memorización: \n",
    "  - escucha reiterada de grabaciones de formulas y resultados científicos. \n",
    "  - relectura de notas. \n",
    "  - ejercicios de mayor complejidad.\n",
    "\n",
    "\n",
    "### No olvide asignar las tareas a los estudiantes a través de Google Colab y compartiendole el cuaderno de asignación a su correo institucional con fecha de entrega. [Google Colab](https://colab.research.google.com/?hl=es)   \n",
    "  "
   ]
  },
  {
   "attachments": {},
   "cell_type": "markdown",
   "id": "d34defb9",
   "metadata": {
    "slideshow": {
     "slide_type": "slide"
    }
   },
   "source": [
    "## Asignación individual de tareas semanales "
   ]
  },
  {
   "cell_type": "code",
   "execution_count": 4,
   "id": "0406f442",
   "metadata": {
    "slideshow": {
     "slide_type": "slide"
    }
   },
   "outputs": [
    {
     "name": "stdout",
     "output_type": "stream",
     "text": [
      "Asignaciones guardadas en tarea_seccion_01_purcell.csv\n"
     ]
    },
    {
     "data": {
      "text/html": [
       "<div>\n",
       "<style scoped>\n",
       "    .dataframe tbody tr th:only-of-type {\n",
       "        vertical-align: middle;\n",
       "    }\n",
       "\n",
       "    .dataframe tbody tr th {\n",
       "        vertical-align: top;\n",
       "    }\n",
       "\n",
       "    .dataframe thead th {\n",
       "        text-align: right;\n",
       "    }\n",
       "</style>\n",
       "<table border=\"1\" class=\"dataframe\">\n",
       "  <thead>\n",
       "    <tr style=\"text-align: right;\">\n",
       "      <th></th>\n",
       "      <th>Student</th>\n",
       "      <th>Exercise 1</th>\n",
       "      <th>Exercise 2</th>\n",
       "      <th>Exercise 3</th>\n",
       "      <th>Exercise 4</th>\n",
       "      <th>Exercise 5</th>\n",
       "    </tr>\n",
       "  </thead>\n",
       "  <tbody>\n",
       "    <tr>\n",
       "      <th>0</th>\n",
       "      <td>AGUDELO MORENO RENATO DIRNEY</td>\n",
       "      <td>25</td>\n",
       "      <td>65</td>\n",
       "      <td>16</td>\n",
       "      <td>33</td>\n",
       "      <td>53</td>\n",
       "    </tr>\n",
       "    <tr>\n",
       "      <th>1</th>\n",
       "      <td>AMARIS FERNANDEZ SEBASTIAN CAMILO</td>\n",
       "      <td>3</td>\n",
       "      <td>2</td>\n",
       "      <td>47</td>\n",
       "      <td>81</td>\n",
       "      <td>45</td>\n",
       "    </tr>\n",
       "    <tr>\n",
       "      <th>2</th>\n",
       "      <td>ARENAS HERAZO GABRIEL ENRIQUE</td>\n",
       "      <td>28</td>\n",
       "      <td>70</td>\n",
       "      <td>55</td>\n",
       "      <td>63</td>\n",
       "      <td>58</td>\n",
       "    </tr>\n",
       "    <tr>\n",
       "      <th>3</th>\n",
       "      <td>AYALA MENDOZA MARISOL YACIRA</td>\n",
       "      <td>40</td>\n",
       "      <td>48</td>\n",
       "      <td>27</td>\n",
       "      <td>35</td>\n",
       "      <td>65</td>\n",
       "    </tr>\n",
       "    <tr>\n",
       "      <th>4</th>\n",
       "      <td>BERTEL RODELO MICHELL SMIT</td>\n",
       "      <td>24</td>\n",
       "      <td>7</td>\n",
       "      <td>2</td>\n",
       "      <td>69</td>\n",
       "      <td>52</td>\n",
       "    </tr>\n",
       "    <tr>\n",
       "      <th>5</th>\n",
       "      <td>BULA VERGARA MARIA PAULA</td>\n",
       "      <td>71</td>\n",
       "      <td>82</td>\n",
       "      <td>28</td>\n",
       "      <td>50</td>\n",
       "      <td>52</td>\n",
       "    </tr>\n",
       "    <tr>\n",
       "      <th>6</th>\n",
       "      <td>CANTILLO ENSUCHO DANIEL</td>\n",
       "      <td>14</td>\n",
       "      <td>1</td>\n",
       "      <td>10</td>\n",
       "      <td>72</td>\n",
       "      <td>2</td>\n",
       "    </tr>\n",
       "    <tr>\n",
       "      <th>7</th>\n",
       "      <td>CERVANTES DURAN ANGELICA</td>\n",
       "      <td>46</td>\n",
       "      <td>31</td>\n",
       "      <td>48</td>\n",
       "      <td>83</td>\n",
       "      <td>80</td>\n",
       "    </tr>\n",
       "    <tr>\n",
       "      <th>8</th>\n",
       "      <td>GALLEGO TEJADA JUAN ESTEBAN</td>\n",
       "      <td>80</td>\n",
       "      <td>38</td>\n",
       "      <td>57</td>\n",
       "      <td>74</td>\n",
       "      <td>67</td>\n",
       "    </tr>\n",
       "    <tr>\n",
       "      <th>9</th>\n",
       "      <td>GUERRA NORIEGA YONATHAN</td>\n",
       "      <td>46</td>\n",
       "      <td>81</td>\n",
       "      <td>43</td>\n",
       "      <td>37</td>\n",
       "      <td>48</td>\n",
       "    </tr>\n",
       "    <tr>\n",
       "      <th>10</th>\n",
       "      <td>HINCAPIE CASTRO JOHAN SEBASTIAN</td>\n",
       "      <td>16</td>\n",
       "      <td>69</td>\n",
       "      <td>39</td>\n",
       "      <td>32</td>\n",
       "      <td>28</td>\n",
       "    </tr>\n",
       "    <tr>\n",
       "      <th>11</th>\n",
       "      <td>HUMANEZ SANCHEZ CAMILO</td>\n",
       "      <td>33</td>\n",
       "      <td>43</td>\n",
       "      <td>41</td>\n",
       "      <td>5</td>\n",
       "      <td>66</td>\n",
       "    </tr>\n",
       "    <tr>\n",
       "      <th>12</th>\n",
       "      <td>IBA�EZ MORENO FRANCISCO LUIS</td>\n",
       "      <td>48</td>\n",
       "      <td>65</td>\n",
       "      <td>36</td>\n",
       "      <td>47</td>\n",
       "      <td>33</td>\n",
       "    </tr>\n",
       "    <tr>\n",
       "      <th>13</th>\n",
       "      <td>LONDONO CUADRADO CRISTIAN ALBERTO</td>\n",
       "      <td>15</td>\n",
       "      <td>53</td>\n",
       "      <td>52</td>\n",
       "      <td>60</td>\n",
       "      <td>37</td>\n",
       "    </tr>\n",
       "    <tr>\n",
       "      <th>14</th>\n",
       "      <td>LOZANO HOLGUIN LIZETH JOHANA</td>\n",
       "      <td>83</td>\n",
       "      <td>37</td>\n",
       "      <td>24</td>\n",
       "      <td>61</td>\n",
       "      <td>59</td>\n",
       "    </tr>\n",
       "    <tr>\n",
       "      <th>15</th>\n",
       "      <td>MASS MIRANDA RIVALDO JOSE</td>\n",
       "      <td>46</td>\n",
       "      <td>12</td>\n",
       "      <td>69</td>\n",
       "      <td>71</td>\n",
       "      <td>53</td>\n",
       "    </tr>\n",
       "    <tr>\n",
       "      <th>16</th>\n",
       "      <td>MIRANDA MARTINEZ CARLOS ANDRES</td>\n",
       "      <td>33</td>\n",
       "      <td>82</td>\n",
       "      <td>65</td>\n",
       "      <td>63</td>\n",
       "      <td>68</td>\n",
       "    </tr>\n",
       "    <tr>\n",
       "      <th>17</th>\n",
       "      <td>MONTERROSA SOTO ABRIL</td>\n",
       "      <td>83</td>\n",
       "      <td>9</td>\n",
       "      <td>67</td>\n",
       "      <td>27</td>\n",
       "      <td>30</td>\n",
       "    </tr>\n",
       "    <tr>\n",
       "      <th>18</th>\n",
       "      <td>NORIEGA JIMENEZ GABRIELA</td>\n",
       "      <td>81</td>\n",
       "      <td>58</td>\n",
       "      <td>36</td>\n",
       "      <td>31</td>\n",
       "      <td>39</td>\n",
       "    </tr>\n",
       "    <tr>\n",
       "      <th>19</th>\n",
       "      <td>PEREZ REYES IVAN DARIO</td>\n",
       "      <td>36</td>\n",
       "      <td>65</td>\n",
       "      <td>32</td>\n",
       "      <td>13</td>\n",
       "      <td>46</td>\n",
       "    </tr>\n",
       "    <tr>\n",
       "      <th>20</th>\n",
       "      <td>PEREZ THERAN ERLINDA</td>\n",
       "      <td>81</td>\n",
       "      <td>30</td>\n",
       "      <td>72</td>\n",
       "      <td>64</td>\n",
       "      <td>56</td>\n",
       "    </tr>\n",
       "    <tr>\n",
       "      <th>21</th>\n",
       "      <td>PINEDA ROMERO YOSMERI</td>\n",
       "      <td>64</td>\n",
       "      <td>67</td>\n",
       "      <td>54</td>\n",
       "      <td>48</td>\n",
       "      <td>50</td>\n",
       "    </tr>\n",
       "    <tr>\n",
       "      <th>22</th>\n",
       "      <td>QUINONEZ CERVANTES MARIANA</td>\n",
       "      <td>23</td>\n",
       "      <td>49</td>\n",
       "      <td>60</td>\n",
       "      <td>12</td>\n",
       "      <td>73</td>\n",
       "    </tr>\n",
       "    <tr>\n",
       "      <th>23</th>\n",
       "      <td>QUIROZ DURAN JUAN MANUEL</td>\n",
       "      <td>75</td>\n",
       "      <td>79</td>\n",
       "      <td>66</td>\n",
       "      <td>29</td>\n",
       "      <td>56</td>\n",
       "    </tr>\n",
       "    <tr>\n",
       "      <th>24</th>\n",
       "      <td>RAMOS PEREZ YANINE</td>\n",
       "      <td>64</td>\n",
       "      <td>5</td>\n",
       "      <td>75</td>\n",
       "      <td>27</td>\n",
       "      <td>1</td>\n",
       "    </tr>\n",
       "    <tr>\n",
       "      <th>25</th>\n",
       "      <td>RIVAS HOYOS ESTEFANIA</td>\n",
       "      <td>24</td>\n",
       "      <td>35</td>\n",
       "      <td>79</td>\n",
       "      <td>33</td>\n",
       "      <td>7</td>\n",
       "    </tr>\n",
       "    <tr>\n",
       "      <th>26</th>\n",
       "      <td>ROSILLO TEJADA VANESA</td>\n",
       "      <td>3</td>\n",
       "      <td>74</td>\n",
       "      <td>47</td>\n",
       "      <td>13</td>\n",
       "      <td>79</td>\n",
       "    </tr>\n",
       "    <tr>\n",
       "      <th>27</th>\n",
       "      <td>SANCHEZ PADILLA SILVESTRE</td>\n",
       "      <td>20</td>\n",
       "      <td>50</td>\n",
       "      <td>52</td>\n",
       "      <td>48</td>\n",
       "      <td>1</td>\n",
       "    </tr>\n",
       "    <tr>\n",
       "      <th>28</th>\n",
       "      <td>SILVA ROYERO MAILY CRISTINA</td>\n",
       "      <td>59</td>\n",
       "      <td>56</td>\n",
       "      <td>70</td>\n",
       "      <td>4</td>\n",
       "      <td>62</td>\n",
       "    </tr>\n",
       "    <tr>\n",
       "      <th>29</th>\n",
       "      <td>USUGA GEORGE JHON ESTIVEN</td>\n",
       "      <td>18</td>\n",
       "      <td>49</td>\n",
       "      <td>70</td>\n",
       "      <td>8</td>\n",
       "      <td>78</td>\n",
       "    </tr>\n",
       "    <tr>\n",
       "      <th>30</th>\n",
       "      <td>JUAN FELIPE HERNANDEZ ARDILA</td>\n",
       "      <td>67</td>\n",
       "      <td>45</td>\n",
       "      <td>15</td>\n",
       "      <td>6</td>\n",
       "      <td>33</td>\n",
       "    </tr>\n",
       "  </tbody>\n",
       "</table>\n",
       "</div>"
      ],
      "text/plain": [
       "                              Student  Exercise 1  Exercise 2  Exercise 3  \\\n",
       "0        AGUDELO MORENO RENATO DIRNEY          25          65          16   \n",
       "1   AMARIS FERNANDEZ SEBASTIAN CAMILO           3           2          47   \n",
       "2       ARENAS HERAZO GABRIEL ENRIQUE          28          70          55   \n",
       "3        AYALA MENDOZA MARISOL YACIRA          40          48          27   \n",
       "4          BERTEL RODELO MICHELL SMIT          24           7           2   \n",
       "5            BULA VERGARA MARIA PAULA          71          82          28   \n",
       "6             CANTILLO ENSUCHO DANIEL          14           1          10   \n",
       "7            CERVANTES DURAN ANGELICA          46          31          48   \n",
       "8         GALLEGO TEJADA JUAN ESTEBAN          80          38          57   \n",
       "9             GUERRA NORIEGA YONATHAN          46          81          43   \n",
       "10    HINCAPIE CASTRO JOHAN SEBASTIAN          16          69          39   \n",
       "11             HUMANEZ SANCHEZ CAMILO          33          43          41   \n",
       "12       IBA�EZ MORENO FRANCISCO LUIS          48          65          36   \n",
       "13  LONDONO CUADRADO CRISTIAN ALBERTO          15          53          52   \n",
       "14       LOZANO HOLGUIN LIZETH JOHANA          83          37          24   \n",
       "15          MASS MIRANDA RIVALDO JOSE          46          12          69   \n",
       "16     MIRANDA MARTINEZ CARLOS ANDRES          33          82          65   \n",
       "17              MONTERROSA SOTO ABRIL          83           9          67   \n",
       "18           NORIEGA JIMENEZ GABRIELA          81          58          36   \n",
       "19             PEREZ REYES IVAN DARIO          36          65          32   \n",
       "20               PEREZ THERAN ERLINDA          81          30          72   \n",
       "21              PINEDA ROMERO YOSMERI          64          67          54   \n",
       "22         QUINONEZ CERVANTES MARIANA          23          49          60   \n",
       "23           QUIROZ DURAN JUAN MANUEL          75          79          66   \n",
       "24                 RAMOS PEREZ YANINE          64           5          75   \n",
       "25              RIVAS HOYOS ESTEFANIA          24          35          79   \n",
       "26              ROSILLO TEJADA VANESA           3          74          47   \n",
       "27          SANCHEZ PADILLA SILVESTRE          20          50          52   \n",
       "28        SILVA ROYERO MAILY CRISTINA          59          56          70   \n",
       "29          USUGA GEORGE JHON ESTIVEN          18          49          70   \n",
       "30       JUAN FELIPE HERNANDEZ ARDILA          67          45          15   \n",
       "\n",
       "    Exercise 4  Exercise 5  \n",
       "0           33          53  \n",
       "1           81          45  \n",
       "2           63          58  \n",
       "3           35          65  \n",
       "4           69          52  \n",
       "5           50          52  \n",
       "6           72           2  \n",
       "7           83          80  \n",
       "8           74          67  \n",
       "9           37          48  \n",
       "10          32          28  \n",
       "11           5          66  \n",
       "12          47          33  \n",
       "13          60          37  \n",
       "14          61          59  \n",
       "15          71          53  \n",
       "16          63          68  \n",
       "17          27          30  \n",
       "18          31          39  \n",
       "19          13          46  \n",
       "20          64          56  \n",
       "21          48          50  \n",
       "22          12          73  \n",
       "23          29          56  \n",
       "24          27           1  \n",
       "25          33           7  \n",
       "26          13          79  \n",
       "27          48           1  \n",
       "28           4          62  \n",
       "29           8          78  \n",
       "30           6          33  "
      ]
     },
     "execution_count": 4,
     "metadata": {},
     "output_type": "execute_result"
    }
   ],
   "source": [
    "# asignación de tres ejercicio del taller para quiz\n",
    "\n",
    "import pandas as pd\n",
    "import numpy as np\n",
    "import random\n",
    "import requests\n",
    "\n",
    "# Descargar la lista de estudiantes y ejercicios\n",
    "students_url = \"https://raw.githubusercontent.com/marco-canas/groups_list/main/calculo_diferencial.csv\"\n",
    "exercises = list(range(1, 84))  # Lista de ejercicios del 1 al 83\n",
    "\n",
    "# Cargar la lista de estudiantes\n",
    "students_data = pd.read_csv(students_url)\n",
    "\n",
    "# Crear una lista para almacenar las asignaciones\n",
    "assignments = []\n",
    "\n",
    "# Asignar ejercicios aleatorios a cada estudiante\n",
    "for index, student in students_data.iterrows():\n",
    "    random_exercises = random.sample(exercises, 5)  # Seleccionar 5 ejercicios aleatorios sin repetición\n",
    "    assignments.append([students_data[\"Nombre\"][index], *random_exercises])  # Agregar asignación a la lista\n",
    "\n",
    "# Crear un DataFrame con las asignaciones\n",
    "columns = [\"Student\", \"Exercise 1\", \"Exercise 2\", \"Exercise 3\", \"Exercise 4\", \"Exercise 5\"]\n",
    "assignment_df = pd.DataFrame(assignments, columns=columns)\n",
    "\n",
    "# Guardar el DataFrame en un archivo CSV\n",
    "assignment_csv = \"tarea_seccion_01_purcell.csv\"\n",
    "assignment_df.to_csv(assignment_csv, index=False)\n",
    "\n",
    "print(\"Asignaciones guardadas en\", assignment_csv)\n",
    "assignment_df"
   ]
  },
  {
   "attachments": {},
   "cell_type": "markdown",
   "id": "8d41fe58",
   "metadata": {
    "slideshow": {
     "slide_type": "slide"
    }
   },
   "source": [
    "# Horario de clases del profesor Marco\n",
    "\n",
    "* Martes y jueves de 10 a 12: Fundamentos de las matemáticas\n",
    "* Martes y jueves de 2 a 4 PM: Fundamentos de la aritmética\n",
    "\n",
    "* Didáctica de la aritmética: Miércoles de 8 - 12\n",
    "\n"
   ]
  },
  {
   "attachments": {},
   "cell_type": "markdown",
   "id": "ae114e14",
   "metadata": {
    "slideshow": {
     "slide_type": "slide"
    }
   },
   "source": [
    "# Horarios de monitoría y asesoría"
   ]
  },
  {
   "attachments": {},
   "cell_type": "markdown",
   "id": "b1db4b6c",
   "metadata": {
    "slideshow": {
     "slide_type": "slide"
    }
   },
   "source": [
    "## Monitor Manuel"
   ]
  },
  {
   "attachments": {},
   "cell_type": "markdown",
   "id": "39559692",
   "metadata": {
    "slideshow": {
     "slide_type": "slide"
    }
   },
   "source": [
    "Martes y jueves de 8 - 12  \n",
    "Miércoles 10 - 12 y de 2 a 4 PM  \n",
    "Sábado: 8 - 12"
   ]
  },
  {
   "attachments": {},
   "cell_type": "markdown",
   "id": "4537ef79",
   "metadata": {
    "slideshow": {
     "slide_type": "slide"
    }
   },
   "source": [
    "## Monitor Giovanny Reales"
   ]
  },
  {
   "attachments": {},
   "cell_type": "markdown",
   "id": "a54d2914",
   "metadata": {
    "slideshow": {
     "slide_type": "slide"
    }
   },
   "source": [
    "* Lunes a viernes de 6pm a 8pm\n",
    "* Miércoles de 1 pm a 8pm"
   ]
  },
  {
   "attachments": {},
   "cell_type": "markdown",
   "id": "935a5567",
   "metadata": {
    "slideshow": {
     "slide_type": "slide"
    }
   },
   "source": [
    "## Dificultades de aprendizaje detectados durante la clase"
   ]
  },
  {
   "attachments": {},
   "cell_type": "markdown",
   "id": "3bd7500d",
   "metadata": {
    "slideshow": {
     "slide_type": "slide"
    }
   },
   "source": []
  },
  {
   "attachments": {},
   "cell_type": "markdown",
   "id": "fb9402bb",
   "metadata": {
    "slideshow": {
     "slide_type": "slide"
    }
   },
   "source": [
    "## Estrategias propuestas para la solución de las dificultades de aprendizaje detectadas"
   ]
  },
  {
   "attachments": {},
   "cell_type": "markdown",
   "id": "d437294b",
   "metadata": {
    "slideshow": {
     "slide_type": "slide"
    }
   },
   "source": []
  },
  {
   "attachments": {},
   "cell_type": "markdown",
   "id": "d11570a2",
   "metadata": {
    "slideshow": {
     "slide_type": "slide"
    }
   },
   "source": []
  },
  {
   "attachments": {},
   "cell_type": "markdown",
   "id": "319f2ffa",
   "metadata": {
    "slideshow": {
     "slide_type": "slide"
    }
   },
   "source": [
    "## Grabaciones en audio para fomentar la capacidad de memorizar enunciados de teoremas y resultados científicos y la capacidad de parafrasear estos resultados. Y así desarrollar memoria muscular para los comandos comunes. \n",
    "Se dispondrá de un lugar en Vocaroo para albergar archivos de audio de fomento a la memorización, enunciación y parafraseo de los resultados científicos, propiedades, reglas, etc. \n",
    "\n",
    "[Vocaroo](https://vocaroo.com/)\n",
    "\n"
   ]
  },
  {
   "attachments": {},
   "cell_type": "markdown",
   "id": "564fa59d",
   "metadata": {
    "slideshow": {
     "slide_type": "slide"
    }
   },
   "source": [
    "### Comparta sus cuadernos y videos, evidencias de su aprendizaje [aquí](https://forms.office.com/Pages/ResponsePage.aspx?id=IefhmYRxjkmK_7KtTlPBwkanXIs1i1FEujpsZgO6dXpUMEMwTEZVMzEwVVBPTElWNVg5OVEyWUhMUy4u)"
   ]
  },
  {
   "attachments": {},
   "cell_type": "markdown",
   "id": "1a1a3e41",
   "metadata": {
    "slideshow": {
     "slide_type": "slide"
    }
   },
   "source": []
  },
  {
   "attachments": {},
   "cell_type": "markdown",
   "id": "44be6d93",
   "metadata": {
    "slideshow": {
     "slide_type": "slide"
    }
   },
   "source": [
    "# Vocabulary "
   ]
  },
  {
   "attachments": {},
   "cell_type": "markdown",
   "id": "35e2484a",
   "metadata": {
    "slideshow": {
     "slide_type": "slide"
    }
   },
   "source": [
    "1. \n",
    "2.  \n",
    "3.  \n",
    "4.  \n",
    "5.  "
   ]
  },
  {
   "attachments": {},
   "cell_type": "markdown",
   "id": "ee46cb9a",
   "metadata": {
    "slideshow": {
     "slide_type": "slide"
    }
   },
   "source": [
    "## Mapa conceptual que vincula los conceptos asoaciados al objetivo de aprendizaje"
   ]
  },
  {
   "attachments": {},
   "cell_type": "markdown",
   "id": "a6b7a17d",
   "metadata": {
    "slideshow": {
     "slide_type": "slide"
    }
   },
   "source": []
  },
  {
   "attachments": {},
   "cell_type": "markdown",
   "id": "0266e3c5",
   "metadata": {
    "slideshow": {
     "slide_type": "slide"
    }
   },
   "source": [
    "## Quiz de 20 minutos para ejercitación y adquisición de habilidades "
   ]
  },
  {
   "cell_type": "code",
   "execution_count": 3,
   "id": "3a1b127f",
   "metadata": {
    "slideshow": {
     "slide_type": "slide"
    }
   },
   "outputs": [
    {
     "name": "stdout",
     "output_type": "stream",
     "text": [
      "Asignaciones guardadas en tarea_seccion_01_purcell.csv\n"
     ]
    },
    {
     "data": {
      "text/html": [
       "<div>\n",
       "<style scoped>\n",
       "    .dataframe tbody tr th:only-of-type {\n",
       "        vertical-align: middle;\n",
       "    }\n",
       "\n",
       "    .dataframe tbody tr th {\n",
       "        vertical-align: top;\n",
       "    }\n",
       "\n",
       "    .dataframe thead th {\n",
       "        text-align: right;\n",
       "    }\n",
       "</style>\n",
       "<table border=\"1\" class=\"dataframe\">\n",
       "  <thead>\n",
       "    <tr style=\"text-align: right;\">\n",
       "      <th></th>\n",
       "      <th>Student</th>\n",
       "      <th>Exercise 1</th>\n",
       "      <th>Exercise 2</th>\n",
       "      <th>Exercise 3</th>\n",
       "    </tr>\n",
       "  </thead>\n",
       "  <tbody>\n",
       "    <tr>\n",
       "      <th>0</th>\n",
       "      <td>AGUDELO MORENO RENATO DIRNEY</td>\n",
       "      <td>83</td>\n",
       "      <td>40</td>\n",
       "      <td>33</td>\n",
       "    </tr>\n",
       "    <tr>\n",
       "      <th>1</th>\n",
       "      <td>AMARIS FERNANDEZ SEBASTIAN CAMILO</td>\n",
       "      <td>31</td>\n",
       "      <td>10</td>\n",
       "      <td>46</td>\n",
       "    </tr>\n",
       "    <tr>\n",
       "      <th>2</th>\n",
       "      <td>ARENAS HERAZO GABRIEL ENRIQUE</td>\n",
       "      <td>8</td>\n",
       "      <td>75</td>\n",
       "      <td>23</td>\n",
       "    </tr>\n",
       "    <tr>\n",
       "      <th>3</th>\n",
       "      <td>AYALA MENDOZA MARISOL YACIRA</td>\n",
       "      <td>10</td>\n",
       "      <td>5</td>\n",
       "      <td>62</td>\n",
       "    </tr>\n",
       "    <tr>\n",
       "      <th>4</th>\n",
       "      <td>BERTEL RODELO MICHELL SMIT</td>\n",
       "      <td>63</td>\n",
       "      <td>43</td>\n",
       "      <td>22</td>\n",
       "    </tr>\n",
       "    <tr>\n",
       "      <th>5</th>\n",
       "      <td>BULA VERGARA MARIA PAULA</td>\n",
       "      <td>41</td>\n",
       "      <td>13</td>\n",
       "      <td>63</td>\n",
       "    </tr>\n",
       "    <tr>\n",
       "      <th>6</th>\n",
       "      <td>CANTILLO ENSUCHO DANIEL</td>\n",
       "      <td>9</td>\n",
       "      <td>40</td>\n",
       "      <td>70</td>\n",
       "    </tr>\n",
       "    <tr>\n",
       "      <th>7</th>\n",
       "      <td>CERVANTES DURAN ANGELICA</td>\n",
       "      <td>1</td>\n",
       "      <td>47</td>\n",
       "      <td>35</td>\n",
       "    </tr>\n",
       "    <tr>\n",
       "      <th>8</th>\n",
       "      <td>GALLEGO TEJADA JUAN ESTEBAN</td>\n",
       "      <td>8</td>\n",
       "      <td>18</td>\n",
       "      <td>30</td>\n",
       "    </tr>\n",
       "    <tr>\n",
       "      <th>9</th>\n",
       "      <td>GUERRA NORIEGA YONATHAN</td>\n",
       "      <td>3</td>\n",
       "      <td>72</td>\n",
       "      <td>31</td>\n",
       "    </tr>\n",
       "    <tr>\n",
       "      <th>10</th>\n",
       "      <td>HINCAPIE CASTRO JOHAN SEBASTIAN</td>\n",
       "      <td>8</td>\n",
       "      <td>13</td>\n",
       "      <td>56</td>\n",
       "    </tr>\n",
       "    <tr>\n",
       "      <th>11</th>\n",
       "      <td>HUMANEZ SANCHEZ CAMILO</td>\n",
       "      <td>31</td>\n",
       "      <td>8</td>\n",
       "      <td>74</td>\n",
       "    </tr>\n",
       "    <tr>\n",
       "      <th>12</th>\n",
       "      <td>IBA�EZ MORENO FRANCISCO LUIS</td>\n",
       "      <td>6</td>\n",
       "      <td>82</td>\n",
       "      <td>78</td>\n",
       "    </tr>\n",
       "    <tr>\n",
       "      <th>13</th>\n",
       "      <td>LONDONO CUADRADO CRISTIAN ALBERTO</td>\n",
       "      <td>80</td>\n",
       "      <td>45</td>\n",
       "      <td>8</td>\n",
       "    </tr>\n",
       "    <tr>\n",
       "      <th>14</th>\n",
       "      <td>LOZANO HOLGUIN LIZETH JOHANA</td>\n",
       "      <td>25</td>\n",
       "      <td>69</td>\n",
       "      <td>18</td>\n",
       "    </tr>\n",
       "    <tr>\n",
       "      <th>15</th>\n",
       "      <td>MASS MIRANDA RIVALDO JOSE</td>\n",
       "      <td>72</td>\n",
       "      <td>52</td>\n",
       "      <td>23</td>\n",
       "    </tr>\n",
       "    <tr>\n",
       "      <th>16</th>\n",
       "      <td>MIRANDA MARTINEZ CARLOS ANDRES</td>\n",
       "      <td>78</td>\n",
       "      <td>48</td>\n",
       "      <td>82</td>\n",
       "    </tr>\n",
       "    <tr>\n",
       "      <th>17</th>\n",
       "      <td>MONTERROSA SOTO ABRIL</td>\n",
       "      <td>27</td>\n",
       "      <td>21</td>\n",
       "      <td>58</td>\n",
       "    </tr>\n",
       "    <tr>\n",
       "      <th>18</th>\n",
       "      <td>NORIEGA JIMENEZ GABRIELA</td>\n",
       "      <td>61</td>\n",
       "      <td>20</td>\n",
       "      <td>8</td>\n",
       "    </tr>\n",
       "    <tr>\n",
       "      <th>19</th>\n",
       "      <td>PEREZ REYES IVAN DARIO</td>\n",
       "      <td>31</td>\n",
       "      <td>70</td>\n",
       "      <td>4</td>\n",
       "    </tr>\n",
       "    <tr>\n",
       "      <th>20</th>\n",
       "      <td>PEREZ THERAN ERLINDA</td>\n",
       "      <td>74</td>\n",
       "      <td>83</td>\n",
       "      <td>12</td>\n",
       "    </tr>\n",
       "    <tr>\n",
       "      <th>21</th>\n",
       "      <td>PINEDA ROMERO YOSMERI</td>\n",
       "      <td>64</td>\n",
       "      <td>40</td>\n",
       "      <td>83</td>\n",
       "    </tr>\n",
       "    <tr>\n",
       "      <th>22</th>\n",
       "      <td>QUINONEZ CERVANTES MARIANA</td>\n",
       "      <td>36</td>\n",
       "      <td>23</td>\n",
       "      <td>19</td>\n",
       "    </tr>\n",
       "    <tr>\n",
       "      <th>23</th>\n",
       "      <td>QUIROZ DURAN JUAN MANUEL</td>\n",
       "      <td>25</td>\n",
       "      <td>65</td>\n",
       "      <td>7</td>\n",
       "    </tr>\n",
       "    <tr>\n",
       "      <th>24</th>\n",
       "      <td>RAMOS PEREZ YANINE</td>\n",
       "      <td>17</td>\n",
       "      <td>54</td>\n",
       "      <td>56</td>\n",
       "    </tr>\n",
       "    <tr>\n",
       "      <th>25</th>\n",
       "      <td>RIVAS HOYOS ESTEFANIA</td>\n",
       "      <td>7</td>\n",
       "      <td>63</td>\n",
       "      <td>24</td>\n",
       "    </tr>\n",
       "    <tr>\n",
       "      <th>26</th>\n",
       "      <td>ROSILLO TEJADA VANESA</td>\n",
       "      <td>4</td>\n",
       "      <td>75</td>\n",
       "      <td>82</td>\n",
       "    </tr>\n",
       "    <tr>\n",
       "      <th>27</th>\n",
       "      <td>SANCHEZ PADILLA SILVESTRE</td>\n",
       "      <td>19</td>\n",
       "      <td>21</td>\n",
       "      <td>7</td>\n",
       "    </tr>\n",
       "    <tr>\n",
       "      <th>28</th>\n",
       "      <td>SILVA ROYERO MAILY CRISTINA</td>\n",
       "      <td>82</td>\n",
       "      <td>63</td>\n",
       "      <td>61</td>\n",
       "    </tr>\n",
       "    <tr>\n",
       "      <th>29</th>\n",
       "      <td>USUGA GEORGE JHON ESTIVEN</td>\n",
       "      <td>9</td>\n",
       "      <td>27</td>\n",
       "      <td>58</td>\n",
       "    </tr>\n",
       "    <tr>\n",
       "      <th>30</th>\n",
       "      <td>JUAN FELIPE HERNANDEZ ARDILA</td>\n",
       "      <td>29</td>\n",
       "      <td>44</td>\n",
       "      <td>14</td>\n",
       "    </tr>\n",
       "  </tbody>\n",
       "</table>\n",
       "</div>"
      ],
      "text/plain": [
       "                              Student  Exercise 1  Exercise 2  Exercise 3\n",
       "0        AGUDELO MORENO RENATO DIRNEY          83          40          33\n",
       "1   AMARIS FERNANDEZ SEBASTIAN CAMILO          31          10          46\n",
       "2       ARENAS HERAZO GABRIEL ENRIQUE           8          75          23\n",
       "3        AYALA MENDOZA MARISOL YACIRA          10           5          62\n",
       "4          BERTEL RODELO MICHELL SMIT          63          43          22\n",
       "5            BULA VERGARA MARIA PAULA          41          13          63\n",
       "6             CANTILLO ENSUCHO DANIEL           9          40          70\n",
       "7            CERVANTES DURAN ANGELICA           1          47          35\n",
       "8         GALLEGO TEJADA JUAN ESTEBAN           8          18          30\n",
       "9             GUERRA NORIEGA YONATHAN           3          72          31\n",
       "10    HINCAPIE CASTRO JOHAN SEBASTIAN           8          13          56\n",
       "11             HUMANEZ SANCHEZ CAMILO          31           8          74\n",
       "12       IBA�EZ MORENO FRANCISCO LUIS           6          82          78\n",
       "13  LONDONO CUADRADO CRISTIAN ALBERTO          80          45           8\n",
       "14       LOZANO HOLGUIN LIZETH JOHANA          25          69          18\n",
       "15          MASS MIRANDA RIVALDO JOSE          72          52          23\n",
       "16     MIRANDA MARTINEZ CARLOS ANDRES          78          48          82\n",
       "17              MONTERROSA SOTO ABRIL          27          21          58\n",
       "18           NORIEGA JIMENEZ GABRIELA          61          20           8\n",
       "19             PEREZ REYES IVAN DARIO          31          70           4\n",
       "20               PEREZ THERAN ERLINDA          74          83          12\n",
       "21              PINEDA ROMERO YOSMERI          64          40          83\n",
       "22         QUINONEZ CERVANTES MARIANA          36          23          19\n",
       "23           QUIROZ DURAN JUAN MANUEL          25          65           7\n",
       "24                 RAMOS PEREZ YANINE          17          54          56\n",
       "25              RIVAS HOYOS ESTEFANIA           7          63          24\n",
       "26              ROSILLO TEJADA VANESA           4          75          82\n",
       "27          SANCHEZ PADILLA SILVESTRE          19          21           7\n",
       "28        SILVA ROYERO MAILY CRISTINA          82          63          61\n",
       "29          USUGA GEORGE JHON ESTIVEN           9          27          58\n",
       "30       JUAN FELIPE HERNANDEZ ARDILA          29          44          14"
      ]
     },
     "execution_count": 3,
     "metadata": {},
     "output_type": "execute_result"
    }
   ],
   "source": [
    "# asignación de tres ejercicio del taller para quiz\n",
    "\n",
    "import pandas as pd\n",
    "import numpy as np\n",
    "import random\n",
    "import requests\n",
    "\n",
    "# Descargar la lista de estudiantes y ejercicios\n",
    "students_url = \"https://raw.githubusercontent.com/marco-canas/groups_list/main/calculo_diferencial.csv\"\n",
    "exercises = list(range(1, 84))  # Lista de ejercicios del 1 al 83\n",
    "\n",
    "# Cargar la lista de estudiantes\n",
    "students_data = pd.read_csv(students_url)\n",
    "\n",
    "# Crear una lista para almacenar las asignaciones\n",
    "assignments = []\n",
    "\n",
    "# Asignar ejercicios aleatorios a cada estudiante\n",
    "for index, student in students_data.iterrows():\n",
    "    random_exercises = random.sample(exercises, 3)  # Seleccionar 5 ejercicios aleatorios sin repetición\n",
    "    assignments.append([students_data[\"Nombre\"][index], *random_exercises])  # Agregar asignación a la lista\n",
    "\n",
    "# Crear un DataFrame con las asignaciones\n",
    "columns = [\"Student\", \"Exercise 1\", \"Exercise 2\", \"Exercise 3\"]\n",
    "assignment_df = pd.DataFrame(assignments, columns=columns)\n",
    "\n",
    "# Guardar el DataFrame en un archivo CSV\n",
    "assignment_csv = \"tarea_seccion_01_purcell.csv\"\n",
    "assignment_df.to_csv(assignment_csv, index=False)\n",
    "\n",
    "print(\"Asignaciones guardadas en\", assignment_csv)\n",
    "assignment_df"
   ]
  },
  {
   "cell_type": "markdown",
   "id": "72b0df44",
   "metadata": {},
   "source": [
    "# La DOFA del Grupo y el profesor Marco\n"
   ]
  },
  {
   "cell_type": "markdown",
   "id": "360b5519",
   "metadata": {},
   "source": [
    "* D:\n",
    "* O:\n",
    "* F:\n",
    "* A: "
   ]
  },
  {
   "cell_type": "markdown",
   "id": "80a5ea9d",
   "metadata": {},
   "source": [
    "# ¿Cómo te sentiste en este clase?\n",
    "\n",
    "Este es un servicio de enseñanza y aprendizaje. Dios te bendiga. "
   ]
  },
  {
   "attachments": {},
   "cell_type": "markdown",
   "id": "10bce0d0",
   "metadata": {
    "slideshow": {
     "slide_type": "slide"
    }
   },
   "source": [
    "## Referentes "
   ]
  },
  {
   "attachments": {},
   "cell_type": "markdown",
   "id": "1db3c468",
   "metadata": {
    "slideshow": {
     "slide_type": "slide"
    }
   },
   "source": [
    "* [stewart precálculo](https://udeaeduco-my.sharepoint.com/:b:/g/personal/marco_canas_udea_edu_co/ERHIq62I6qFNrmxy6LZb8ZMBci7kUsyNME1nIh9yCBMJ_w?e=0zMSla)  \n",
    "\n",
    "* [stewart cálculo](https://udeaeduco-my.sharepoint.com/:b:/g/personal/marco_canas_udea_edu_co/EZgXZjAp8QxPqOAim2hs6LcBNPLGjSHf-xwYnUVYkwa04w?e=RZdTCy)  \n",
    "\n",
    "* [larson](https://udeaeduco-my.sharepoint.com/:b:/g/personal/marco_canas_udea_edu_co/ES71ChFeO9ZDhW3TwC5Ijk8BjxUK3Pdqz_fjHxTTFAfIAg?e=VDEjfu)\n",
    "\n",
    "* [uzcategui](https://udeaeduco-my.sharepoint.com/:b:/g/personal/marco_canas_udea_edu_co/ETDikm-lVl1Or8XoEo9oyh0BEti9Zs8le-f0D-dBdtZmbA?e=bBsoyQ)\n",
    "\n",
    "* [Cálculo de Purcell](https://udeaeduco-my.sharepoint.com/:b:/g/personal/marco_canas_udea_edu_co/ES60UB4h-QFFqqRQUFmkpWcBIgoLBJeqTfZjNajWNWSeJA?e=9NxjKJ)\n",
    "\n",
    "* [Recomendación de la UNESCO sobre ciencia abierta](https://unesdoc.unesco.org/ark:/48223/pf0000379949_spa)\n",
    "\n",
    "* [Fórmulas más comunes en latex](https://wiki.geogebra.org/es/C%C3%B3digo_LaTeX_para_las_f%C3%B3rmulas_m%C3%A1s_comunes) \n",
    "\n",
    "* [chatGPT](https://openai.com/blog/chatgpt)  \n",
    "\n",
    "* Géron, A. (2017). Hands-on machine learning with scikit-learn and tensorflow: Concepts. Tools, and Techniques to build intelligent systems.[Geron, Aurelien. Hands on Machine Learning](https://udeaeduco-my.sharepoint.com/:b:/g/personal/marco_canas_udea_edu_co/Ecet27yjQzZIlT1Y_Bc2erkBUhbeYuIe6HG8i1FYZRlZww?e=dlvZ4v)  \n",
    "\n",
    "* McKinney, W. (2012). Python for data analysis: Data wrangling with Pandas, NumPy, and IPython. \" O'Reilly Media, Inc.\".[Wes Mackinney. ](https://udeaeduco-my.sharepoint.com/:b:/g/personal/marco_canas_udea_edu_co/EVbi5JIeBl9ErbiUnZfGe8YBhNTnZ8sxTK5hjIOPK4UpGw?e=fFclah)"
   ]
  },
  {
   "attachments": {},
   "cell_type": "markdown",
   "id": "6b9e56a8",
   "metadata": {
    "slideshow": {
     "slide_type": "slide"
    }
   },
   "source": [
    "### [Evaluamos al profesor Marco Cañas Aquí](https://forms.office.com/Pages/ResponsePage.aspx?id=IefhmYRxjkmK_7KtTlPBwkanXIs1i1FEujpsZgO6dXpUREJPV1kxUk1JV1ozTFJIQVNIQjY5WEY3US4u)"
   ]
  },
  {
   "attachments": {},
   "cell_type": "markdown",
   "id": "071afa04",
   "metadata": {
    "slideshow": {
     "slide_type": "slide"
    }
   },
   "source": [
    "## [Evaluación luego de alcanzar estos objetivos de aprendizaje]()"
   ]
  },
  {
   "attachments": {},
   "cell_type": "markdown",
   "id": "10f43536",
   "metadata": {
    "slideshow": {
     "slide_type": "slide"
    }
   },
   "source": [
    "### Continue su aprendizaje en la siguiente clase a través del siguiente [vínculo]()"
   ]
  },
  {
   "attachments": {},
   "cell_type": "markdown",
   "id": "af751e30",
   "metadata": {
    "slideshow": {
     "slide_type": "slide"
    }
   },
   "source": [
    "# Conjeturas pedagógicas fruto de la aplicación del modelo de aprendizaje invertido y del enfoque hacia la ciencia de datos con python\n",
    "\n",
    "1. Todo cálculo o resultado debe ser interpretado en una línea markdown del cuaderno Jupyter, inmediatamente después de la enunciación del resultado y después de la presentación de una tabla o gráfico bidimensional, de tal menera que el estudiante explicite la comprensión verbal del resultado y las inferencias o estrategias que este resultado le sugieren.  \n",
    "\n",
    "2. Debo colocar las conjeturas pedagógicas, que el uso en el aula de [ChatGPT](https://openai.com/blog/chatgpt/) traiga para la enseñanza y el aprendizaje de las matemáticas. \n",
    "\n",
    "3. Promover ciencia abierta en clase de matemáticas puede ser pidiendo a los estudiantes, tomar nota en clase pero en cuadernos Jupyter y entregar siempre al final de cada clase su cuaderno con todas las notas y experimentaciones de clase replicadas. "
   ]
  },
  {
   "attachments": {},
   "cell_type": "markdown",
   "id": "53cc9115",
   "metadata": {
    "slideshow": {
     "slide_type": "slide"
    }
   },
   "source": [
    "## Agradecimientos  \n",
    "\n",
    "Doy gracias a Dios por la vida de mi Hijo Joseph Cañas Osorio y la madurez que ha alcanzado.\n",
    "\n",
    "Y a mi esposa Yasmira por su apoyo, orientación y acompañamiento. "
   ]
  },
  {
   "cell_type": "code",
   "execution_count": null,
   "id": "62b356f5",
   "metadata": {},
   "outputs": [],
   "source": []
  }
 ],
 "metadata": {
  "celltoolbar": "Slideshow",
  "kernelspec": {
   "display_name": "Python 3 (ipykernel)",
   "language": "python",
   "name": "python3"
  },
  "language_info": {
   "codemirror_mode": {
    "name": "ipython",
    "version": 3
   },
   "file_extension": ".py",
   "mimetype": "text/x-python",
   "name": "python",
   "nbconvert_exporter": "python",
   "pygments_lexer": "ipython3",
   "version": "3.10.12"
  },
  "rise": {
   "enable_chalkboard": true,
   "theme": "sky",
   "transition": "zoom"
  }
 },
 "nbformat": 4,
 "nbformat_minor": 5
}
