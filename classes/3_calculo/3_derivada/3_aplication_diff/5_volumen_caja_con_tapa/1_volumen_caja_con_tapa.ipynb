{
 "cells": [
  {
   "cell_type": "markdown",
   "id": "7e1bd9b3",
   "metadata": {
    "slideshow": {
     "slide_type": "slide"
    }
   },
   "source": [
    "<table align=\"left\">\n",
    "  <td>\n",
    "    <a href=\"https://colab.research.google.com/github/marco-canas/calculo/blob/main/classes/3_differentiation/3_aplication_diff/14_volumen_caja_con_tapa/1_volumen_caja_con_tapa.ipynb\" target=\"_parent\"><img src=\"https://colab.research.google.com/assets/colab-badge.svg\" alt=\"Open In Colab\"/></a>\n",
    "  </td>\n",
    "</table>"
   ]
  },
  {
   "cell_type": "markdown",
   "id": "0f6c74d8",
   "metadata": {
    "slideshow": {
     "slide_type": "slide"
    }
   },
   "source": [
    "## [Video de apoyo a la lectura interactiva y experimental de este cuaderno](https://www.youtube.com/watch?v=2n4ENaqnw4A)\n",
    "## [Segundo video de apoyo](https://www.youtube.com/watch?v=6RIw3Rvxamw)"
   ]
  },
  {
   "cell_type": "markdown",
   "id": "2d22e389",
   "metadata": {
    "slideshow": {
     "slide_type": "slide"
    }
   },
   "source": [
    "## [Vínculo al programa del curso para Cálculo diferencial de Ingeniería agropecuaria](https://github.com/marco-canas/calculo/blob/main/3_programa_calculo_ingenieria_agropecuaria.docx)"
   ]
  },
  {
   "cell_type": "markdown",
   "id": "516c1f84",
   "metadata": {
    "slideshow": {
     "slide_type": "slide"
    }
   },
   "source": [
    "Mis estudiantes son la razón de mi actividad docente:\n",
    "\n",
    "<img src = 'https://github.com/marco-canas/algebra_y_trigonometria/blob/main/images/funciones_python_con_celular_2.jpg?raw=true'>"
   ]
  },
  {
   "cell_type": "markdown",
   "id": "253babac",
   "metadata": {
    "slideshow": {
     "slide_type": "slide"
    }
   },
   "source": [
    "### Modelo pedagógico de la clase: [Aula invertida](https://www3.gobiernodecanarias.org/medusa/ecoescuela/pedagotic/aprendizaje-invertido-flipped-classroom/)  \n",
    "\n",
    "#### ¿Para qué sirve?\n",
    "\n",
    "Mejora el proceso de enseñanza-aprendizaje realizando,   \n",
    "\n",
    "* fuera del aula, actividades de aprendizaje sencillas (observar, memorizar, resumir, etc.) y, \n",
    "* en el aula, actividades más complejas (razonar, examinar, experimentar, priorizar, argumentar, proponer, etc.) que requieren la interacción entre iguales y la ayuda del docente como facilitador."
   ]
  },
  {
   "cell_type": "code",
   "execution_count": 3,
   "id": "e0e6dd72",
   "metadata": {
    "slideshow": {
     "slide_type": "slide"
    }
   },
   "outputs": [
    {
     "name": "stdout",
     "output_type": "stream",
     "text": [
      "Estudiante seleccionado: AYALA MENDOZA MARISOL YACIRA\n"
     ]
    },
    {
     "ename": "ValueError",
     "evalue": "invalid literal for int() with base 10: ''",
     "output_type": "error",
     "traceback": [
      "\u001b[0;31m---------------------------------------------------------------------------\u001b[0m",
      "\u001b[0;31mValueError\u001b[0m                                Traceback (most recent call last)",
      "\u001b[1;32m/home/marco/Documentos/docencia/calculo/classes/3_differentiation/3_aplication_diff/5_volumen_caja_con_tapa/1_volumen_caja_con_tapa.ipynb Cell 6\u001b[0m line \u001b[0;36m5\n\u001b[1;32m     <a href='vscode-notebook-cell:/home/marco/Documentos/docencia/calculo/classes/3_differentiation/3_aplication_diff/5_volumen_caja_con_tapa/1_volumen_caja_con_tapa.ipynb#W5sZmlsZQ%3D%3D?line=47'>48</a>\u001b[0m     \u001b[39mprint\u001b[39m(\u001b[39m\"\u001b[39m\u001b[39mArchivo calculo_diferencial_con_notas.csv actualizado exitosamente.\u001b[39m\u001b[39m\"\u001b[39m)\n\u001b[1;32m     <a href='vscode-notebook-cell:/home/marco/Documentos/docencia/calculo/classes/3_differentiation/3_aplication_diff/5_volumen_caja_con_tapa/1_volumen_caja_con_tapa.ipynb#W5sZmlsZQ%3D%3D?line=49'>50</a>\u001b[0m \u001b[39mif\u001b[39;00m \u001b[39m__name__\u001b[39m \u001b[39m==\u001b[39m \u001b[39m\"\u001b[39m\u001b[39m__main__\u001b[39m\u001b[39m\"\u001b[39m:\n\u001b[0;32m---> <a href='vscode-notebook-cell:/home/marco/Documentos/docencia/calculo/classes/3_differentiation/3_aplication_diff/5_volumen_caja_con_tapa/1_volumen_caja_con_tapa.ipynb#W5sZmlsZQ%3D%3D?line=50'>51</a>\u001b[0m     main()\n",
      "\u001b[1;32m/home/marco/Documentos/docencia/calculo/classes/3_differentiation/3_aplication_diff/5_volumen_caja_con_tapa/1_volumen_caja_con_tapa.ipynb Cell 6\u001b[0m line \u001b[0;36m4\n\u001b[1;32m     <a href='vscode-notebook-cell:/home/marco/Documentos/docencia/calculo/classes/3_differentiation/3_aplication_diff/5_volumen_caja_con_tapa/1_volumen_caja_con_tapa.ipynb#W5sZmlsZQ%3D%3D?line=36'>37</a>\u001b[0m \u001b[39mprint\u001b[39m(\u001b[39mf\u001b[39m\u001b[39m\"\u001b[39m\u001b[39mEstudiante seleccionado: \u001b[39m\u001b[39m{\u001b[39;00mnombre_estudiante\u001b[39m}\u001b[39;00m\u001b[39m\"\u001b[39m)\n\u001b[1;32m     <a href='vscode-notebook-cell:/home/marco/Documentos/docencia/calculo/classes/3_differentiation/3_aplication_diff/5_volumen_caja_con_tapa/1_volumen_caja_con_tapa.ipynb#W5sZmlsZQ%3D%3D?line=38'>39</a>\u001b[0m \u001b[39m# Solicitar la nota de participación al usuario\u001b[39;00m\n\u001b[0;32m---> <a href='vscode-notebook-cell:/home/marco/Documentos/docencia/calculo/classes/3_differentiation/3_aplication_diff/5_volumen_caja_con_tapa/1_volumen_caja_con_tapa.ipynb#W5sZmlsZQ%3D%3D?line=39'>40</a>\u001b[0m nota_participacion \u001b[39m=\u001b[39m \u001b[39mint\u001b[39;49m(\u001b[39minput\u001b[39;49m(\u001b[39m\"\u001b[39;49m\u001b[39mIngrese la nota de participación para el estudiante (entre 1 y 100): \u001b[39;49m\u001b[39m\"\u001b[39;49m))\n\u001b[1;32m     <a href='vscode-notebook-cell:/home/marco/Documentos/docencia/calculo/classes/3_differentiation/3_aplication_diff/5_volumen_caja_con_tapa/1_volumen_caja_con_tapa.ipynb#W5sZmlsZQ%3D%3D?line=41'>42</a>\u001b[0m \u001b[39m# Agregar la nota de participación al DataFrame\u001b[39;00m\n\u001b[1;32m     <a href='vscode-notebook-cell:/home/marco/Documentos/docencia/calculo/classes/3_differentiation/3_aplication_diff/5_volumen_caja_con_tapa/1_volumen_caja_con_tapa.ipynb#W5sZmlsZQ%3D%3D?line=42'>43</a>\u001b[0m df\u001b[39m.\u001b[39mloc[df[\u001b[39m'\u001b[39m\u001b[39mNombre\u001b[39m\u001b[39m'\u001b[39m] \u001b[39m==\u001b[39m nombre_estudiante, \u001b[39m'\u001b[39m\u001b[39mseguimiento\u001b[39m\u001b[39m'\u001b[39m] \u001b[39m=\u001b[39m nota_participacion\n",
      "\u001b[0;31mValueError\u001b[0m: invalid literal for int() with base 10: ''"
     ]
    }
   ],
   "source": [
    "import pandas as pd\n",
    "import random\n",
    "\n",
    "def generar_notas_seguimiento(numero_estudiantes):\n",
    "    \"\"\"Genera una lista de notas de seguimiento aleatorias para cada estudiante.\"\"\"\n",
    "    return [random.randint(1, 100) for _ in range(numero_estudiantes)]\n",
    "\n",
    "def crear_columnas_vacias(df, atributos):\n",
    "    \"\"\"Crea columnas con atributos solicitados y establece NaN como valor.\"\"\"\n",
    "    for atributo in atributos:\n",
    "        df[atributo] = pd.NA\n",
    "    return df\n",
    "\n",
    "def main():\n",
    "    # URL del archivo .csv con los estudiantes\n",
    "    url = 'https://raw.githubusercontent.com/marco-canas/groups_list/main/calculo_diferencial.csv'\n",
    "\n",
    "    # Leer el archivo .csv y almacenar los datos en un DataFrame\n",
    "    df = pd.read_csv(url)\n",
    "\n",
    "    # Generar una nota de seguimiento aleatoria para cada estudiante\n",
    "    df['seguimiento'] = generar_notas_seguimiento(len(df))\n",
    "\n",
    "    # Crear las columnas con los atributos solicitados y establecerlas en NaN (vacío)\n",
    "    atributos = ['parcial 1', 'parcial 2', 'parcial 3', 'quiz 1', 'quiz 2', 'autoevaluacion', 'video_aplicaciones_para_aprender_calculo']\n",
    "    df = crear_columnas_vacias(df, atributos)\n",
    "\n",
    "    # Guardar el DataFrame con los atributos actualizados en un nuevo archivo .csv\n",
    "    df.to_csv('calculo_diferencial_con_notas.csv', index=False)\n",
    "\n",
    "    # Seleccionar un estudiante aleatoriamente\n",
    "    estudiante_aleatorio = df.sample(1)\n",
    "\n",
    "    # Obtener el nombre del estudiante\n",
    "    nombre_estudiante = estudiante_aleatorio['Nombre'].values[0]\n",
    "    \n",
    "    print(f\"Estudiante seleccionado: {nombre_estudiante}\")\n",
    "\n",
    "    # Solicitar la nota de participación al usuario\n",
    "    nota_participacion = int(input(\"Ingrese la nota de participación para el estudiante (entre 1 y 100): \"))\n",
    "\n",
    "    # Agregar la nota de participación al DataFrame\n",
    "    df.loc[df['Nombre'] == nombre_estudiante, 'seguimiento'] = nota_participacion\n",
    "\n",
    "    # Guardar los cambios en el archivo .csv\n",
    "    df.to_csv('calculo_diferencial_con_notas.csv', index=False)\n",
    "\n",
    "    print(\"Archivo calculo_diferencial_con_notas.csv actualizado exitosamente.\")\n",
    "\n",
    "if __name__ == \"__main__\":\n",
    "    main()\n"
   ]
  },
  {
   "cell_type": "code",
   "execution_count": 2,
   "id": "81f556f6",
   "metadata": {
    "slideshow": {
     "slide_type": "slide"
    }
   },
   "outputs": [
    {
     "name": "stdout",
     "output_type": "stream",
     "text": [
      "Llamando a PEREZ THERAN ERLINDA...\n"
     ]
    }
   ],
   "source": [
    "import pandas as pd\n",
    "import random\n",
    "\n",
    "# Cargar la lista de estudiantes desde la URL\n",
    "url = 'https://raw.githubusercontent.com/marco-canas/groups_list/main/calculo_diferencial.csv'\n",
    "estudiantes = pd.read_csv(url)\n",
    "\n",
    "# Función para llamar a un estudiante aleatoriamente y registrar su nota de seguimiento\n",
    "def llamar_estudiante():\n",
    "    estudiante_aleatorio = random.choice(estudiantes['Nombre'])\n",
    "    print(f\"Llamando a {estudiante_aleatorio}...\")\n",
    "    \n",
    "    \n",
    "# Llamar a la función para realizar el proceso\n",
    "llamar_estudiante()"
   ]
  },
  {
   "cell_type": "markdown",
   "metadata": {},
   "source": [
    "# Problema número 43 del Purcell sobre Máximización de volumen de una caja con tapa"
   ]
  },
  {
   "cell_type": "markdown",
   "metadata": {},
   "source": [
    "Con una hoja rectangular de cartón, que mide 22 por 28 centímetros, se confeccionará una caja con tapa.   \n",
    "\n",
    "Esto se realiza cortando las regiones sombreadas de la figura 29 y luego doblando por las líneas discontinuas.   \n",
    "\n",
    "¿Cuáles son las dimensiones $x$, $y$ y $z$ que maximizan el volumen?"
   ]
  },
  {
   "cell_type": "markdown",
   "metadata": {},
   "source": [
    "<img src =\"https://github.com/marco-canas/calculo/blob/main/images/3_derivada/aplicaciones_derivada/fig_29_maximizacion_volumen_caja_con_tapa.png?raw=true\">"
   ]
  },
  {
   "cell_type": "markdown",
   "metadata": {},
   "source": [
    "## Solución\n",
    "\n",
    "### Metodología:\n",
    "\n",
    "1. Construye una función objetivo como función de una sola variable independiente. \n",
    "2. Determina el dominio de esta función\n",
    "3. Construye una representación tabular de la función. \n",
    "4. Construir una suposición, conjetura o hipótesis de optimización. \n",
    "5. Grafica la función con matplotlib o plotly para corroborar o desechar su conjetura. \n",
    "6. Resuelve la ecuación $v'(x) = 0$, para encontrar la altura adecuada para que el volumen se haga máximo. \n",
    "7. Toma la decisión de cómo debe ser construida la caja para que tenga el mayor volumen. "
   ]
  },
  {
   "cell_type": "markdown",
   "metadata": {},
   "source": [
    "## Define las variables\n",
    "\n",
    "$x$: altura de la caja.  \n",
    "$y$: largo de la caja.  \n",
    "$z$: ancho de la caja. "
   ]
  },
  {
   "cell_type": "markdown",
   "metadata": {},
   "source": [
    "$$ v = xyz \\quad \\text{ecuación objetivo} $$  "
   ]
  },
  {
   "cell_type": "markdown",
   "metadata": {},
   "source": [
    "$$ 28 = 2x + 2y  \\to 14 = x + y \\to y = 14 - x, \\to x \\leq 14$$\n",
    "\n",
    "$$ 22 = 2x + z  \\to z = 22 - 2x   \\to x \\leq 11$$"
   ]
  },
  {
   "cell_type": "markdown",
   "metadata": {},
   "source": [
    "De donde el dominio de la función es $[0,11]$"
   ]
  },
  {
   "cell_type": "code",
   "execution_count": 1,
   "metadata": {},
   "outputs": [],
   "source": [
    "def volumen_como_función_solo_de_la_altura(altura):\n",
    "    return altura*(14-altura)*(22-2*altura)"
   ]
  },
  {
   "cell_type": "markdown",
   "metadata": {},
   "source": [
    "$$ 0 \\leq altura \\leq 11 $$"
   ]
  },
  {
   "cell_type": "code",
   "execution_count": 7,
   "metadata": {},
   "outputs": [
    {
     "data": {
      "text/plain": [
       "560"
      ]
     },
     "execution_count": 7,
     "metadata": {},
     "output_type": "execute_result"
    }
   ],
   "source": [
    "volumen_como_función_solo_de_la_altura(altura = 4)"
   ]
  },
  {
   "cell_type": "markdown",
   "metadata": {},
   "source": [
    "# Suposición\n",
    "\n",
    "La altura parece que debe ser de 4 centímetros para quue el volumen sea de 560 centímetros cúbicos. "
   ]
  },
  {
   "cell_type": "markdown",
   "metadata": {},
   "source": [
    "# Elaboración de la tabla\n",
    "\n"
   ]
  },
  {
   "cell_type": "code",
   "execution_count": 8,
   "metadata": {},
   "outputs": [
    {
     "data": {
      "text/html": [
       "<div>\n",
       "<style scoped>\n",
       "    .dataframe tbody tr th:only-of-type {\n",
       "        vertical-align: middle;\n",
       "    }\n",
       "\n",
       "    .dataframe tbody tr th {\n",
       "        vertical-align: top;\n",
       "    }\n",
       "\n",
       "    .dataframe thead th {\n",
       "        text-align: right;\n",
       "    }\n",
       "</style>\n",
       "<table border=\"1\" class=\"dataframe\">\n",
       "  <thead>\n",
       "    <tr style=\"text-align: right;\">\n",
       "      <th></th>\n",
       "      <th>alturas</th>\n",
       "      <th>volúmenes</th>\n",
       "    </tr>\n",
       "  </thead>\n",
       "  <tbody>\n",
       "    <tr>\n",
       "      <th>0</th>\n",
       "      <td>0</td>\n",
       "      <td>0</td>\n",
       "    </tr>\n",
       "    <tr>\n",
       "      <th>1</th>\n",
       "      <td>1</td>\n",
       "      <td>260</td>\n",
       "    </tr>\n",
       "    <tr>\n",
       "      <th>2</th>\n",
       "      <td>2</td>\n",
       "      <td>432</td>\n",
       "    </tr>\n",
       "    <tr>\n",
       "      <th>3</th>\n",
       "      <td>3</td>\n",
       "      <td>528</td>\n",
       "    </tr>\n",
       "    <tr>\n",
       "      <th>4</th>\n",
       "      <td>4</td>\n",
       "      <td>560</td>\n",
       "    </tr>\n",
       "    <tr>\n",
       "      <th>5</th>\n",
       "      <td>5</td>\n",
       "      <td>540</td>\n",
       "    </tr>\n",
       "    <tr>\n",
       "      <th>6</th>\n",
       "      <td>6</td>\n",
       "      <td>480</td>\n",
       "    </tr>\n",
       "    <tr>\n",
       "      <th>7</th>\n",
       "      <td>7</td>\n",
       "      <td>392</td>\n",
       "    </tr>\n",
       "    <tr>\n",
       "      <th>8</th>\n",
       "      <td>8</td>\n",
       "      <td>288</td>\n",
       "    </tr>\n",
       "    <tr>\n",
       "      <th>9</th>\n",
       "      <td>9</td>\n",
       "      <td>180</td>\n",
       "    </tr>\n",
       "    <tr>\n",
       "      <th>10</th>\n",
       "      <td>10</td>\n",
       "      <td>80</td>\n",
       "    </tr>\n",
       "    <tr>\n",
       "      <th>11</th>\n",
       "      <td>11</td>\n",
       "      <td>0</td>\n",
       "    </tr>\n",
       "  </tbody>\n",
       "</table>\n",
       "</div>"
      ],
      "text/plain": [
       "    alturas  volúmenes\n",
       "0         0          0\n",
       "1         1        260\n",
       "2         2        432\n",
       "3         3        528\n",
       "4         4        560\n",
       "5         5        540\n",
       "6         6        480\n",
       "7         7        392\n",
       "8         8        288\n",
       "9         9        180\n",
       "10       10         80\n",
       "11       11          0"
      ]
     },
     "execution_count": 8,
     "metadata": {},
     "output_type": "execute_result"
    }
   ],
   "source": [
    "import pandas as pd  # \n",
    "import numpy as np \n",
    "\n",
    "alturas = np.array([0, 1, 2 , 3,  4, 5, 6, 7, 8, 9, 10, 11])\n",
    "volumenes = volumen_como_función_solo_de_la_altura(alturas)\n",
    "\n",
    "tabla = pd.DataFrame({'alturas':alturas, 'volúmenes': volumenes})\n",
    "\n",
    "tabla "
   ]
  },
  {
   "cell_type": "markdown",
   "metadata": {},
   "source": [
    "La representación tabular de la función de volumen de la caja nos confirma que el volumen se hace máximo si la altura de la caja es de 4 centímetros. "
   ]
  },
  {
   "cell_type": "code",
   "execution_count": 12,
   "metadata": {},
   "outputs": [
    {
     "data": {
      "image/png": "[encoded data removed]",
      "text/plain": [
       "<Figure size 640x480 with 1 Axes>"
      ]
     },
     "metadata": {},
     "output_type": "display_data"
    }
   ],
   "source": [
    "import numpy as np  # numpy es para vectores y matrices y funciones matemáticas \n",
    "import matplotlib.pyplot as plt  # para graficar \n",
    "\n",
    "alturas = np.array([0, 1, 2 , 3,  4, 5, 6, 7, 8, 9, 10, 11])\n",
    "volumenes = volumen_como_función_solo_de_la_altura(alturas)\n",
    "\n",
    "plt.plot(alturas, volumenes, label = 'Volumen de la caja')\n",
    "\n",
    "plt.title('')\n",
    "plt.xlabel('')\n",
    "plt.ylabel('')\n",
    "plt.legend()\n",
    "\n",
    "plt.savefig('volumen_caja_con_tapa.png')\n",
    "\n",
    "plt.grid()"
   ]
  },
  {
   "cell_type": "markdown",
   "metadata": {},
   "source": [
    "Efectivamente, la representación gráfica de la función de volumen, nos reafirma que la altura que hace que el volumen de la caja sea máximo es $4$ centímetros. "
   ]
  },
  {
   "cell_type": "code",
   "execution_count": 14,
   "metadata": {},
   "outputs": [
    {
     "data": {
      "text/plain": [
       "(4.07761822173210, 12.5890484449346)"
      ]
     },
     "execution_count": 14,
     "metadata": {},
     "output_type": "execute_result"
    }
   ],
   "source": [
    "from sympy import * \n",
    "\n",
    "altura, volumen = var('altura, volumen')\n",
    "\n",
    "volumen = altura*(14-altura)*(22-2*altura)  # el volumen como variable de python en términos de la altura. \n",
    "\n",
    "derivada = diff(volumen, altura)\n",
    "\n",
    "igualar_a_cero = Eq(derivada, 0) # utiliza la función Equation() de sympy para crear ecuaciones \n",
    "\n",
    "solve(igualar_a_cero, altura)[0].evalf(), solve(igualar_a_cero, altura)[1].evalf()\n",
    "\n"
   ]
  },
  {
   "cell_type": "markdown",
   "metadata": {},
   "source": [
    "# Conclusión o decisión\n",
    "\n",
    "Construyan la caja con una altura de $4.07$ centímetros, porque así, obtendremos una caja que le quepa el mayor número flores. \n",
    "\n",
    "Las tres dimensiones son: \n",
    "\n",
    "* altura = \n",
    "* largo = \n",
    "* ancho = \n",
    "* \n",
    "\n"
   ]
  },
  {
   "cell_type": "code",
   "execution_count": null,
   "metadata": {},
   "outputs": [],
   "source": []
  },
  {
   "cell_type": "markdown",
   "id": "20b24d19",
   "metadata": {
    "slideshow": {
     "slide_type": "slide"
    }
   },
   "source": [
    "# Differenciation Class "
   ]
  },
  {
   "cell_type": "markdown",
   "id": "72013bf1",
   "metadata": {
    "slideshow": {
     "slide_type": "slide"
    }
   },
   "source": [
    "### Objetivo de aprendizaje  \n",
    "\n",
    "1. Comprender que la derivada de una función es una función que describe la velocidad o tasa de cambio instantánea en cada punto  del dominio de $f$ donde esta es derivable. \n",
    "\n",
    "2. Aprender las funciones básicas y a derivarlas haciendo uso de las reglas de derivación. "
   ]
  },
  {
   "cell_type": "markdown",
   "id": "27781bf3",
   "metadata": {
    "slideshow": {
     "slide_type": "slide"
    }
   },
   "source": [
    "Página 112 del [purcell]([Cálculo purcell](https://udeaeduco-my.sharepoint.com/:b:/g/personal/marco_canas_udea_edu_co/ES60UB4h-QFFqqRQUFmkpWcBIgoLBJeqTfZjNajWNWSeJA?e=SO4M1M))  \n",
    "\n",
    "\n",
    "# Sección 2.1 Dos problemas con el mismo tema  "
   ]
  },
  {
   "cell_type": "markdown",
   "id": "bd761089",
   "metadata": {
    "slideshow": {
     "slide_type": "slide"
    }
   },
   "source": [
    "Nuestro primer problema es muy antiguo; se remonta a la época del gran científico griego Arquímedes (287-212 A. C.). "
   ]
  },
  {
   "cell_type": "markdown",
   "id": "8e48043d",
   "metadata": {
    "slideshow": {
     "slide_type": "slide"
    }
   },
   "source": [
    "Nos referimos al problema de la pendiente de la recta tangente. "
   ]
  },
  {
   "cell_type": "markdown",
   "id": "51c5bd8b",
   "metadata": {
    "slideshow": {
     "slide_type": "slide"
    }
   },
   "source": [
    "Nuestro segundo problema es más reciente. Surgió con los intentos de Kepler (1571-1630), Galileo (1564-1642), Newton (1642-1727) y otros para describir la velocidad de un cuerpo en movimiento. "
   ]
  },
  {
   "cell_type": "markdown",
   "id": "6a379a4c",
   "metadata": {
    "slideshow": {
     "slide_type": "slide"
    }
   },
   "source": [
    "Es el problema de la velocidad instantánea."
   ]
  },
  {
   "cell_type": "markdown",
   "id": "6b81f89b",
   "metadata": {
    "slideshow": {
     "slide_type": "slide"
    }
   },
   "source": [
    "Los dos problemas, uno geométrico y el otro mecánico, parecen no estar muy relacionados. "
   ]
  },
  {
   "cell_type": "markdown",
   "id": "db3f0ea7",
   "metadata": {
    "slideshow": {
     "slide_type": "slide"
    }
   },
   "source": [
    "En este caso, las apariencias engañan. Los dos problemas son gemelos idénticos."
   ]
  },
  {
   "cell_type": "markdown",
   "id": "6110ec3b",
   "metadata": {
    "slideshow": {
     "slide_type": "slide"
    }
   },
   "source": [
    "La recta tangente La noción de Euclides de una tangente, como una recta que toca a una curva en un solo punto es totalmente correcta para circunferencias (véase la figura 1); pero completamente insatisfactoria para otras curvas (véase la figura 2). "
   ]
  },
  {
   "cell_type": "markdown",
   "id": "305b7d47",
   "metadata": {
    "slideshow": {
     "slide_type": "slide"
    }
   },
   "source": [
    "La idea de una tangente, en $P$ a una curva como la recta que mejor se aproxima a la curva cerca de $P$ es bastante mejor, pero aún muy vaga para la precisión matemática. "
   ]
  },
  {
   "cell_type": "markdown",
   "id": "5fdc7d4d",
   "metadata": {
    "slideshow": {
     "slide_type": "slide"
    }
   },
   "source": [
    "El concepto de límite proporciona una manera de obtener una mejor descripción."
   ]
  },
  {
   "cell_type": "markdown",
   "id": "bf72b07f",
   "metadata": {
    "slideshow": {
     "slide_type": "slide"
    }
   },
   "source": [
    "Sea $P$ un punto en una curva y sea $Q$ un punto móvil cercano a $P$ en esa curva."
   ]
  },
  {
   "cell_type": "markdown",
   "id": "908121fc",
   "metadata": {
    "slideshow": {
     "slide_type": "slide"
    }
   },
   "source": [
    "Considere la recta que pasa por P y Q, llamada recta secante. La recta tangente en P es la posición límite (si ésta existe) de la recta secante cuando Q se mueve hacia P a lo largo de la curva (véase la figura 3).\n",
    "Suponga que la curva es la gráfica de la ecuación Entonces, P tiene\n",
    "coordenadas un punto cercano Q tiene coordenadas y la\n",
    "recta secante de P y Q tiene pendiente dada por (véase la figura 4)"
   ]
  },
  {
   "cell_type": "markdown",
   "id": "0057c756",
   "metadata": {
    "slideshow": {
     "slide_type": "slide"
    }
   },
   "source": [
    "$$ m_{sec} = \\frac{f(c+h) - f(c)}{h} $$"
   ]
  },
  {
   "cell_type": "markdown",
   "id": "991bebfe",
   "metadata": {
    "slideshow": {
     "slide_type": "slide"
    }
   },
   "source": [
    "# Animación de aproximación de la pendiente de la tangente a través de las pendientes de secantes"
   ]
  },
  {
   "cell_type": "code",
   "execution_count": 5,
   "id": "f57090f3",
   "metadata": {
    "slideshow": {
     "slide_type": "slide"
    }
   },
   "outputs": [
    {
     "data": {
      "application/vnd.jupyter.widget-view+json": {
       "model_id": "fd90882f129b4dd1b5f4bb263745d7a9",
       "version_major": 2,
       "version_minor": 0
      },
      "text/plain": [
       "interactive(children=(FloatSlider(value=1.0, description='h', max=1.0), Output()), _dom_classes=('widget-inter…"
      ]
     },
     "metadata": {},
     "output_type": "display_data"
    }
   ],
   "source": [
    "import numpy as np\n",
    "import matplotlib.pyplot as plt\n",
    "\n",
    "from ipywidgets import interact\n",
    "import sympy as sp\n",
    "\n",
    "def f(x):\n",
    "    return (x - 1) ** 2 + 1\n",
    "\n",
    "c = 2\n",
    "punto_tangencia = (c, f(c))\n",
    "\n",
    "def trazar_secantes_y_tangente(h=1):\n",
    "    # Dominio de la función original para graficarla\n",
    "    dominio_f = np.linspace(-1, 5)\n",
    "    rango_f = f(dominio_f)\n",
    "    \n",
    "    # Calcular la derivada de la función cuadrática f(x)\n",
    "    x = sp.Symbol('x')\n",
    "    f_prime = sp.diff(f(x), x)\n",
    "    \n",
    "    # Calcular la pendiente de la recta tangente en el punto (c, f(c))\n",
    "    pendiente_tangente = f_prime.subs(x, c)\n",
    "    \n",
    "    # Definir la ecuación de la recta tangente usando la pendiente y el punto de tangencia\n",
    "    def recta_tangente(x):\n",
    "        return pendiente_tangente * (x - c) + f(c)\n",
    "    \n",
    "    # Dominio de la recta tangente para graficarla\n",
    "    dominio_tangente = np.linspace(c - 1, 5)\n",
    "    rango_tangente = recta_tangente(dominio_tangente)\n",
    "    \n",
    "    # Graficar la función cuadrática y la recta tangente\n",
    "    plt.plot(dominio_f, rango_f, label='Función cuadrática')\n",
    "    plt.plot(dominio_tangente, rango_tangente, label='Recta tangente', color='red')\n",
    "    plt.scatter([punto_tangencia[0]], [punto_tangencia[1]], color='red')\n",
    "    plt.text(x=c - 1, y=f(c) + 1, s=r'$(c,f(c))$')\n",
    "    plt.grid(alpha=0.4)\n",
    "    plt.title(r'La función cuadrática $y = f(x) = (x-1)^{2} + 1$ y su recta tangente')\n",
    "    plt.legend()\n",
    "    plt.ylim(0, 8)  # Ajustar el rango del eje y para una mejor visualización\n",
    "\n",
    "interact(trazar_secantes_y_tangente, h=(0, 1, 0.1))\n",
    "\n",
    "plt.show()\n"
   ]
  },
  {
   "cell_type": "markdown",
   "id": "162e5dc3",
   "metadata": {
    "slideshow": {
     "slide_type": "slide"
    }
   },
   "source": [
    "## Interpretaciones de esta animación"
   ]
  },
  {
   "cell_type": "markdown",
   "id": "cd04b8d9",
   "metadata": {
    "slideshow": {
     "slide_type": "slide"
    }
   },
   "source": [
    "1.  La pendiente de la curva en un punto, es la pendiente de la recta tangente a la curva en ese preciso punto. \n",
    "2.  \n",
    "3.  \n",
    "4. \n",
    "5.  \n",
    "6.  \n",
    "7.  "
   ]
  },
  {
   "cell_type": "markdown",
   "id": "0d56707e",
   "metadata": {
    "slideshow": {
     "slide_type": "slide"
    }
   },
   "source": [
    "## Mapa conceptual de la clase"
   ]
  },
  {
   "cell_type": "markdown",
   "id": "f00feaef",
   "metadata": {
    "slideshow": {
     "slide_type": "slide"
    }
   },
   "source": [
    "<img src = 'https://github.com/marco-canas/2_calculo_I/blob/main/classes/7_class_april_14_differentiation/concepto%20de%20derivada%20-%20%C2%BFCu%C3%A1l%20es%20la%20velocidad%20de%20cambio%20en%20un%20punto%20de%20una%20funci%C3%B3n.jpg?raw=true'>"
   ]
  },
  {
   "cell_type": "markdown",
   "id": "e69c68be",
   "metadata": {
    "slideshow": {
     "slide_type": "slide"
    }
   },
   "source": [
    "# Prerrequisitos conceptuales  \n",
    "\n",
    "1. La [función seno](https://es.symbolab.com/solver/step-by-step/%5Csin%5Cleft(x%5Cright)?or=input) \n",
    "\n",
    "2. Lista de funciones\n",
    "\n",
    "3. Cual es la más simple de las racionales\n",
    "\n",
    "4. cómo graficar por lo menos 10 polinomicas de manera animada con geogebra\n",
    "\n"
   ]
  },
  {
   "cell_type": "markdown",
   "id": "02ae9635",
   "metadata": {
    "slideshow": {
     "slide_type": "slide"
    }
   },
   "source": [
    "## Gráfico de la función seno \n",
    "\n"
   ]
  },
  {
   "cell_type": "markdown",
   "id": "97cfd900",
   "metadata": {
    "slideshow": {
     "slide_type": "slide"
    }
   },
   "source": [
    "# Tareas para realizar en clase"
   ]
  },
  {
   "cell_type": "markdown",
   "id": "d3f62b7c",
   "metadata": {
    "slideshow": {
     "slide_type": "slide"
    }
   },
   "source": [
    "Ejercicio 119 de la página 117 del  [Cálculo purcell](https://udeaeduco-my.sharepoint.com/:b:/g/personal/marco_canas_udea_edu_co/ES60UB4h-QFFqqRQUFmkpWcBIgoLBJeqTfZjNajWNWSeJA?e=SO4M1M).  \n"
   ]
  },
  {
   "cell_type": "markdown",
   "id": "66c197e1",
   "metadata": {
    "slideshow": {
     "slide_type": "slide"
    }
   },
   "source": [
    "|nombre de la función|fórmula|derivada|  \n",
    "|--------------------|-------|--------|  \n",
    "|función constante|f(x) = 600|f'(x) = 0|\n",
    "|función identidad|f(x) = x||\n",
    "|función seno|f(x) = sin(x)||\n",
    "|funcion raiz|f(x) = sqrt(x)||\n",
    "||||\n",
    "||||\n",
    "||||\n",
    "||||\n",
    "||||\n",
    "||||\n",
    "||||\n",
    "||||\n",
    "||||\n",
    "||||\n",
    "||||\n",
    "||||\n",
    "||||\n",
    "||||\n",
    "|||| "
   ]
  },
  {
   "cell_type": "markdown",
   "id": "1d794427",
   "metadata": {
    "slideshow": {
     "slide_type": "slide"
    }
   },
   "source": [
    "# Tareas para realizar fuera de clase"
   ]
  },
  {
   "cell_type": "markdown",
   "id": "d65d473e",
   "metadata": {
    "slideshow": {
     "slide_type": "slide"
    }
   },
   "source": [
    "1. Leer desde la página 112 na 119 del Purcell Sobre la primera sección sobre la derivada de una función. \n",
    "2. Realice una síntesis de del tema anterior. \n",
    "3. Emule los ejemplos que el autor presenta\n",
    "4. Trate de realizar los ejercicios propuestos por el autor en esta sección. (señale los ejercicios en los que encuentre dificultal para ayudarle en clase). \n",
    "5. Hacer por lo menos 30 ejercicios sobre aplicación de las [reglas de derivación](https://udeaeduco-my.sharepoint.com/:b:/g/personal/marco_canas_udea_edu_co/ES60UB4h-QFFqqRQUFmkpWcBIgoLBJeqTfZjNajWNWSeJA?e=klbAif) y busque esos ejercicios de entrenamiento en la página  y sección 2.3 del Purcell. \n",
    "marco.canas@udea.edu.co\n",
    "\n",
    "6. Hacer por lo menos 10 ejercicios de determinación del dominio de una función. "
   ]
  },
  {
   "cell_type": "markdown",
   "id": "d74c9eb1",
   "metadata": {},
   "source": [
    "De la página 132 del precálcilo de stewart estudiar por lo menos 10 ejercicios de aplicación"
   ]
  },
  {
   "cell_type": "markdown",
   "id": "be5e748c",
   "metadata": {
    "slideshow": {
     "slide_type": "slide"
    }
   },
   "source": [
    "## Cuestionario para memorizar"
   ]
  },
  {
   "cell_type": "markdown",
   "id": "bd73de84",
   "metadata": {
    "slideshow": {
     "slide_type": "slide"
    }
   },
   "source": [
    "1. ¿Qué es Velocidad, desde el punto de vista físico?\n",
    "2. ¿Qué es una recta?\n",
    "3. ¿Qué es una recta secante?\n",
    "4. ¿Qué es una recta tangente?\n",
    "5. ¿Qué es pendiente de una recta?"
   ]
  },
  {
   "cell_type": "markdown",
   "id": "0141de19",
   "metadata": {
    "slideshow": {
     "slide_type": "slide"
    }
   },
   "source": [
    "## Grabaciones en audio para fomentar la capacidad de memorizar enunciados de teoremas y resultados científicos y la capacidad de parafrasear estos resultados. Y así desarrollar memoria muscular para los comandos comunes. \n",
    "Se dispondrá de un lugar en Vocaroo para albergar archivos de audio de fomento a la memorización, enunciación y parafraseo de los resultados científicos, propiedades, reglas, etc. \n",
    "\n",
    "[Vocaroo](https://vocaroo.com/)\n",
    "\n",
    "[Derivada de una suma](https://voca.ro/17FmbXdTXDWh)\n",
    "\n",
    "[Definición de derivada](https://voca.ro/1mqcwTmwEQ7y)\n",
    "\n",
    "[La derivada de la función cuadrática](https://voca.ro/1lWJGwhQdQRg)  \n",
    "\n",
    "[el cuadrado de una suma](https://voca.ro/1oBfeYRQ6smg)"
   ]
  },
  {
   "cell_type": "markdown",
   "id": "4c444ecf",
   "metadata": {
    "slideshow": {
     "slide_type": "slide"
    }
   },
   "source": [
    "# Vocabulary"
   ]
  },
  {
   "cell_type": "markdown",
   "id": "b34e49fe",
   "metadata": {
    "slideshow": {
     "slide_type": "slide"
    }
   },
   "source": [
    "1. size: Tamaño.\n",
    "2. interact: \n",
    "3. space: espacio\n",
    "4. plot\n",
    "5. scatter\n",
    "6. text: texto verbal"
   ]
  },
  {
   "cell_type": "markdown",
   "id": "d278c79b",
   "metadata": {
    "slideshow": {
     "slide_type": "slide"
    }
   },
   "source": [
    "## Referentes\n",
    "\n",
    "* [Precálculo de Stewart](https://udeaeduco-my.sharepoint.com/:b:/g/personal/marco_canas_udea_edu_co/ERHIq62I6qFNrmxy6LZb8ZMBci7kUsyNME1nIh9yCBMJ_w?e=cOQjzv)\n",
    "* [Cálculo Stewart](https://udeaeduco-my.sharepoint.com/:b:/g/personal/marco_canas_udea_edu_co/EZgXZjAp8QxPqOAim2hs6LcBNPLGjSHf-xwYnUVYkwa04w?e=k1HOhB)\n",
    "\n",
    "* [Cálculo purcell](https://udeaeduco-my.sharepoint.com/:b:/g/personal/marco_canas_udea_edu_co/ES60UB4h-QFFqqRQUFmkpWcBIgoLBJeqTfZjNajWNWSeJA?e=SO4M1M). Página 112 todo sobre derivadas. \n",
    "\n",
    "* La función plt.text(): https://matplotlib.org/stable/api/_as_gen/matplotlib.pyplot.text.html  \n",
    "\n",
    "* [Cálculo para ciencia de datos de Geron](https://github.com/ageron/handson-ml3/blob/main/math_differential_calculus.ipynb)"
   ]
  },
  {
   "cell_type": "markdown",
   "id": "896bf645",
   "metadata": {
    "slideshow": {
     "slide_type": "slide"
    }
   },
   "source": [
    "### [Evaluamos al profesor Marco Cañas Aquí](https://forms.office.com/Pages/ResponsePage.aspx?id=IefhmYRxjkmK_7KtTlPBwkanXIs1i1FEujpsZgO6dXpUREJPV1kxUk1JV1ozTFJIQVNIQjY5WEY3US4u)"
   ]
  },
  {
   "cell_type": "markdown",
   "id": "ef4f9f85",
   "metadata": {
    "slideshow": {
     "slide_type": "slide"
    }
   },
   "source": [
    "### Continue su aprendizaje en la siguiente clase a través del siguiente [vínculo](https://github.com/marco-canas/2_calculo_I/blob/main/classes/8_class_april_21_derivada_2/8_class_april_21_derivada_parte_2.ipynb)"
   ]
  },
  {
   "cell_type": "markdown",
   "id": "b705ffa5",
   "metadata": {},
   "source": [
    "# Conjeturas pedagógicas fruto de la aplicación del modelo de aprendizaje invertido y del enfoque hacia la ciencia de datos con python\n",
    "\n",
    "1. Todo cálculo o resultado debe ser interpretado en una línea markdown en la línea del cuaderno Jupyter, inmediatamente después de la enunciación del resultado y después de la presentación de una tabla o gráfico bidimensional, de tal menera que el estudiante explicite la comprensión verbal del resultado y las inferencias o estrategias que este resultado le sugieren.   \n",
    "\n",
    "\n",
    "### Agradecimientos  \n",
    "\n",
    "Doy gracias a Dios por la vida de mi Hijo Joseph Cañas Osorio y la madurez que ha alcanzado. "
   ]
  },
  {
   "cell_type": "code",
   "execution_count": null,
   "id": "e0420687",
   "metadata": {},
   "outputs": [],
   "source": []
  }
 ],
 "metadata": {
  "celltoolbar": "Slideshow",
  "kernelspec": {
   "display_name": "Python 3 (ipykernel)",
   "language": "python",
   "name": "python3"
  },
  "language_info": {
   "codemirror_mode": {
    "name": "ipython",
    "version": 3
   },
   "file_extension": ".py",
   "mimetype": "text/x-python",
   "name": "python",
   "nbconvert_exporter": "python",
   "pygments_lexer": "ipython3",
   "version": "3.10.12"
  },
  "rise": {
   "enable_chalkboard": true,
   "theme": "sky",
   "transition": "zoom"
  }
 },
 "nbformat": 4,
 "nbformat_minor": 5
}
