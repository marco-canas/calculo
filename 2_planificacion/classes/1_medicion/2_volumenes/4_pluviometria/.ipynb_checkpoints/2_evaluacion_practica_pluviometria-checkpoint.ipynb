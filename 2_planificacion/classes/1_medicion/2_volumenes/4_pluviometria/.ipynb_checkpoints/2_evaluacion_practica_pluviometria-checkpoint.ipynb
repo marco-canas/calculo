{
 "cells": [
  {
   "cell_type": "markdown",
   "id": "dc06dec7",
   "metadata": {
    "slideshow": {
     "slide_type": "slide"
    }
   },
   "source": [
    "<table align=\"left\">\n",
    "  <td>\n",
    "    <a href=\"https://colab.research.google.com/github/marco-canas/calculo/blob/main/classes/1_medicion/2_volumenes/4_pluviometria/2_evaluacion_practica_pluviometria.ipynb\" target=\"_parent\"><img src=\"https://colab.research.google.com/assets/colab-badge.svg\" alt=\"Open In Colab\"/></a>\n",
    "  </td>\n",
    "  <td>\n",
    "    <a target=\"_blank\" href=\"https://kaggle.com/kernels/welcome?src=https://github.com/marco-canas/calculo/blob/main/classes/1_medicion/2_volumenes/4_pluviometria/2_evaluacion_practica_pluviometria.ipynb\"><img src=\"https://kaggle.com/static/images/open-in-kaggle.svg\" /></a>\n",
    "  </td>\n",
    "</table>"
   ]
  },
  {
   "cell_type": "markdown",
   "id": "e0c5b198",
   "metadata": {
    "slideshow": {
     "slide_type": "slide"
    }
   },
   "source": [
    "### [Video de apoyo a la lectura interactiva y experimental de este cuaderno]()"
   ]
  },
  {
   "cell_type": "markdown",
   "id": "41e82203",
   "metadata": {
    "slideshow": {
     "slide_type": "slide"
    }
   },
   "source": [
    "## [Vínculo al programa del curso:  ]()"
   ]
  },
  {
   "cell_type": "markdown",
   "id": "ca46c23b",
   "metadata": {
    "slideshow": {
     "slide_type": "slide"
    }
   },
   "source": [
    "# Modelo general de clase: [aula invertida](https://www3.gobiernodecanarias.org/medusa/ecoescuela/pedagotic/aprendizaje-invertido-flipped-classroom/)\n"
   ]
  },
  {
   "cell_type": "markdown",
   "id": "7f9be90f",
   "metadata": {
    "slideshow": {
     "slide_type": "slide"
    }
   },
   "source": [
    "# Fomento de la lectura literaria asociada a Ingeniería agropecuaria y licenciatura en Matemáticas y administración de empresas\n",
    "\n",
    "[Hábitos atómicos](https://github.com/marco-canas/habitos_atomicos/blob/main/13_como_dejar_de_postergar_usando_la_regla_de_los_dos_minutos/1_13_como_dejar_de_postergar_usando_la_regla_de_los_dos_minutos.ipynb)"
   ]
  },
  {
   "cell_type": "markdown",
   "id": "96775931",
   "metadata": {
    "slideshow": {
     "slide_type": "slide"
    }
   },
   "source": [
    "# Título de la clase: Retroalimentación sobre la práctica sobre pluviometría\n",
    "\n"
   ]
  },
  {
   "cell_type": "markdown",
   "id": "1d38dd4e",
   "metadata": {
    "slideshow": {
     "slide_type": "slide"
    }
   },
   "source": [
    "### Objetivo de aprendizaje (Enunciar, de manera corta sencilla y clara para todos los asistentes)\n",
    "\n",
    "* [Hipervínculo para el cuaderno de enseñanza]()\n",
    "1. Evaluar las tareas realizadas de manera manúscrita\n",
    "2. Evaluar las tareas realizadas en los cuadernos Jupyter. (Solo realizar la tercera parte de las tareas asignadas de manera manuscrita)\n",
    "3. Evaluar con un quiz escrito\n",
    "4. Evaluar con un parcial escrito.\n",
    "5. Evaluar la capacidad de describir un problema y su solución de manera oral. "
   ]
  },
  {
   "cell_type": "markdown",
   "id": "ca7261b1",
   "metadata": {
    "slideshow": {
     "slide_type": "slide"
    }
   },
   "source": [
    "## Establecimiento de prerrequisitos conceptuales para alcanzar el objetivo de aprendizaje trazado.   \n",
    "\n",
    "(Elabore una lista de preguntas al rededor de los conceptos que consideres necesarios para empezar la clase).  \n",
    "\n",
    "1. \n",
    "2. \n",
    "3. "
   ]
  },
  {
   "cell_type": "markdown",
   "id": "2298e976",
   "metadata": {
    "slideshow": {
     "slide_type": "slide"
    }
   },
   "source": [
    "# Para el diseño de la clase tenga en cuenta algunos problemas de aprendizaje"
   ]
  },
  {
   "cell_type": "markdown",
   "id": "2d46be3a",
   "metadata": {},
   "source": [
    "# Diseño de evaluación oral de si se alcanzaron los objetivos de aprendizaje planteados\n",
    "\n",
    "* Describa verbalmente el objetivo de aprendizaje y evidencie de forma oral si lo logró o no. "
   ]
  },
  {
   "cell_type": "markdown",
   "id": "4566108f",
   "metadata": {},
   "source": [
    "## Cuestionario para realizar labores de memorización, observación y síntesis de la información (Además de diagnóstico)\n",
    "\n",
    "Aquí tienes un cuestionario diseñado para profundizar en estos tres temas, que son clave para comprender tanto la construcción y uso de pluviómetros caseros como el análisis y visualización de datos de precipitación utilizando Python y Jupyter Notebooks.\n",
    "\n",
    "---\n",
    "\n",
    "### 1. **Cuestionario sobre la Construcción de Pluviómetros Caseros**\n",
    "\n",
    "**a)** ¿Qué materiales se requieren para construir un pluviómetro casero? Explica por qué cada uno es importante para el funcionamiento del dispositivo.\n",
    "\n",
    "**b)** Describe el proceso paso a paso para construir un pluviómetro casero y señala los posibles errores comunes que se deben evitar durante la construcción.\n",
    "\n",
    "**c)** ¿Cómo se deben marcar las escalas en el pluviómetro casero? Explica cómo podrías calibrar el pluviómetro para medir correctamente la cantidad de lluvia en milímetros.\n",
    "\n",
    "**d)** ¿Cuál es el propósito de un pluviómetro casero en el estudio de la precipitación? Explica cómo su construcción y uso pueden ayudar a comprender patrones locales de precipitación.\n",
    "\n",
    "**e)** ¿Qué limitaciones podrían tener los pluviómetros caseros en comparación con los instrumentos profesionales para la medición de la lluvia?\n",
    "\n",
    "---\n"
   ]
  },
  {
   "cell_type": "markdown",
   "id": "78ff7119",
   "metadata": {},
   "source": [
    "\n",
    "### 2. **Cuestionario sobre la Definición de Precipitación**\n",
    "\n",
    "**a)** ¿Cómo se define la precipitación en términos de volumen de agua y área de la superficie donde cae? Explica la relación matemática que permite calcular la precipitación a partir de estas variables.\n",
    "\n",
    "**b)** ¿Por qué se utiliza la altura en milímetros como medida de precipitación? Describe la equivalencia entre la altura del nivel de agua en un pluviómetro y la precipitación en litros por metro cuadrado.\n"
   ]
  },
  {
   "cell_type": "markdown",
   "id": "39e298ac",
   "metadata": {},
   "source": [
    "\n",
    "**c)** ¿Cómo se interpreta una medición de 10 mm en el pluviómetro? Explica cuántos litros de agua por metro cuadrado representa esta medición.\n",
    "\n",
    "**d)** Supón que tienes un área de 2 metros cuadrados y cae una precipitación de 5 mm. ¿Cuántos litros de agua habrían caído sobre esta área? Muestra el cálculo.\n",
    "\n",
    "**e)** ¿Por qué es importante conocer la cantidad de precipitación en una región? Da ejemplos de cómo esta información puede ser útil para la agricultura, la planificación urbana y la gestión de recursos hídricos.\n",
    "\n",
    "---\n"
   ]
  },
  {
   "cell_type": "markdown",
   "id": "3e4217ad",
   "metadata": {},
   "source": [
    "\n",
    "### 3. **Cuestionario sobre la Aplicación de Python y Jupyter Notebooks para la Obtención y Visualización de Datos de Precipitación**\n",
    "\n",
    "**a)** ¿Qué beneficios ofrece el uso de Python y Jupyter Notebooks para la obtención y análisis de datos meteorológicos de precipitación?\n",
    "\n",
    "**b)** Describe el proceso básico para obtener datos de precipitación del IDEAM utilizando Python. ¿Qué tipo de librerías podrías utilizar para acceder y procesar estos datos?\n",
    "\n",
    "**c)** ¿Cómo se podrían visualizar los datos de precipitación en un Jupyter Notebook? Menciona algunas librerías de Python útiles para crear gráficos de precipitación y da ejemplos de visualizaciones adecuadas.\n"
   ]
  },
  {
   "cell_type": "markdown",
   "id": "36ffc8fa",
   "metadata": {},
   "source": [
    "\n",
    "**d)** Explica cómo puedes convertir los datos de precipitación de milímetros a litros por metro cuadrado utilizando Python. Proporciona un ejemplo de código que realice esta conversión para una lista de valores de precipitación en milímetros.\n",
    "\n",
    "**e)** ¿Cómo puedes analizar tendencias de precipitación a lo largo del tiempo usando Python? Describe un ejemplo de cómo podrías calcular la precipitación mensual promedio a partir de datos diarios.\n",
    "\n",
    "**f)** Imagina que tienes datos históricos de precipitación para una región y necesitas predecir futuros patrones de precipitación. ¿Qué técnicas o modelos podrías aplicar en Python para este propósito? Explica brevemente.\n",
    "\n",
    "**g)** ¿Por qué es importante el acceso a datos meteorológicos abiertos como los del IDEAM? Reflexiona sobre cómo la transparencia de estos datos impacta en la investigación y en la toma de decisiones.\n",
    "\n",
    "---\n"
   ]
  },
  {
   "cell_type": "markdown",
   "id": "f1681534",
   "metadata": {},
   "source": [
    "\n",
    "Este cuestionario busca afianzar los conocimientos sobre la construcción de pluviómetros, la comprensión de la precipitación y su medición, y las habilidades prácticas para manejar y analizar datos de precipitación utilizando Python y Jupyter Notebooks."
   ]
  },
  {
   "cell_type": "markdown",
   "id": "7ee3abc5",
   "metadata": {},
   "source": [
    "# Vocabulary \n",
    "\n",
    "1. length: longitud\n",
    "2. width: ancho. \n",
    "\n",
    "[length, width](https://voca.ro/1of14ffdXnZI)"
   ]
  },
  {
   "cell_type": "markdown",
   "id": "12c73bab",
   "metadata": {},
   "source": []
  },
  {
   "cell_type": "code",
   "execution_count": null,
   "id": "eb5dcfbd",
   "metadata": {},
   "outputs": [],
   "source": []
  },
  {
   "cell_type": "markdown",
   "id": "fb9402bb",
   "metadata": {
    "slideshow": {
     "slide_type": "slide"
    }
   },
   "source": [
    "## Estrategias propuestas para la solución de las dificultades de aprendizaje detectadas"
   ]
  },
  {
   "cell_type": "markdown",
   "id": "80963962",
   "metadata": {},
   "source": [
    "# Apoyar a mis estudiantes de manera gradual en el uso de lenguajes y jupyter Notebook's "
   ]
  },
  {
   "cell_type": "markdown",
   "id": "02f19c86",
   "metadata": {},
   "source": [
    "Ser empático y compasivo al implementar herramientas como LaTeX, Python y Jupyter en el aprendizaje de cálculo, especialmente con temas como la integral definida, requiere entender y conectar con las preocupaciones y resistencias de tus estudiantes. "
   ]
  },
  {
   "cell_type": "markdown",
   "id": "946e3daf",
   "metadata": {},
   "source": [
    "Estas son algunas estrategias para liderar pedagógicamente y motivarlos de manera efectiva:\n"
   ]
  },
  {
   "cell_type": "markdown",
   "id": "f27acefb",
   "metadata": {},
   "source": [
    "\n",
    "1. **Escuchar sus inquietudes**: Dedica tiempo a entender las razones detrás de sus dificultades. Pregúntales directamente sobre los desafíos específicos que encuentran al usar LaTeX, Python y Jupyter. Esta información te ayudará a ajustar tu enfoque pedagógico y a ofrecer apoyo en los puntos exactos que les resultan más complejos.\n"
   ]
  },
  {
   "cell_type": "markdown",
   "id": "aa660695",
   "metadata": {},
   "source": [
    "\n",
    "2. **Fomentar un ambiente de aprendizaje seguro y colaborativo**: Crea un ambiente donde los estudiantes sientan que pueden cometer errores sin ser juzgados. Ofrece talleres o sesiones grupales en las que todos practiquen juntos, favoreciendo la colaboración y el aprendizaje entre pares. Esta práctica puede reducir la ansiedad y ayudar a construir confianza en el uso de las herramientas tecnológicas.\n"
   ]
  },
  {
   "cell_type": "markdown",
   "id": "b3c66417",
   "metadata": {},
   "source": [
    "\n",
    "3. **Dividir la transición en etapas**: Introduce LaTeX, Python y Jupyter de forma gradual, iniciando con pequeñas tareas o aplicaciones sencillas que les permitan familiarizarse con el entorno sin sentirse abrumados. Por ejemplo, podrían comenzar con anotaciones en LaTeX para crear documentos de teoría básica o usar Python en Jupyter para resolver problemas numéricos sencillos.\n"
   ]
  },
  {
   "cell_type": "markdown",
   "id": "2a961ebd",
   "metadata": {},
   "source": [
    "\n",
    "4. **Conectar la teoría con la práctica aplicada**: Demuestra cómo el uso de estas herramientas en cálculo facilita la resolución de problemas aplicados en áreas como la ingeniería, economía y otras ciencias. Proyectos o problemas que involucren el cálculo de áreas, volúmenes o probabilidades pueden hacer que perciban estas herramientas como recursos prácticos y útiles en su futura vida profesional.\n"
   ]
  },
  {
   "cell_type": "markdown",
   "id": "c29e3739",
   "metadata": {},
   "source": [
    "\n",
    "5. **Ejemplos reales y visualización**: Muestra ejemplos de profesionales que usan estas herramientas para resolver problemas complejos y visualiza en clase cómo Python en Jupyter facilita el cálculo y la representación gráfica de integrales definidas. Herramientas como `matplotlib` y `sympy` permiten ver el impacto de sus cálculos de manera gráfica, lo cual puede motivar a estudiantes visuales y ayudarles a comprender el beneficio de integrar tecnología en el aprendizaje.\n"
   ]
  },
  {
   "cell_type": "markdown",
   "id": "7bcfa59b",
   "metadata": {},
   "source": [
    "\n",
    "6. **Establecer metas alcanzables**: Divide el aprendizaje en metas específicas y alcanzables, para que puedan experimentar pequeñas victorias en su progreso. Por ejemplo, al aprender a calcular áreas bajo curvas con integrales definidas, puedes enfocarte en que entiendan primero cómo Python ayuda en el cálculo básico y luego pasar al uso de gráficos para mostrar la integral.\n"
   ]
  },
  {
   "cell_type": "markdown",
   "id": "2582b4e9",
   "metadata": {},
   "source": [
    "\n",
    "7. **Reconocimiento y retroalimentación positiva**: Asegúrate de reconocer los avances y esfuerzos individuales, por pequeños que sean. Esto fomenta un sentido de logro y refuerza su motivación. Además, elogia no solo el resultado final, sino el proceso, el esfuerzo y la disposición a aprender algo nuevo.\n"
   ]
  },
  {
   "cell_type": "markdown",
   "id": "b0941335",
   "metadata": {},
   "source": [
    "\n",
    "8. **Demostrar apertura y paciencia**: Liderar un cambio en métodos de aprendizaje exige apertura. Hazles saber que, si bien consideras esencial el uso de estas herramientas, también estás dispuesto a ayudarlos y ajustar el ritmo en función de sus necesidades.\n"
   ]
  },
  {
   "cell_type": "markdown",
   "id": "5e76cf46",
   "metadata": {},
   "source": [
    "\n",
    "9. **Incorporar una metodología de aprendizaje activo**: Anímalos a construir conocimientos activamente, resolviendo problemas y aplicando las herramientas a contextos reales. Una opción es el aprendizaje basado en proyectos (ABP), donde los estudiantes puedan trabajar en problemas reales que demuestren el valor de LaTeX, Python y Jupyter en aplicaciones concretas, como calcular la probabilidad acumulativa en problemas estadísticos o modelar el área de regiones específicas.\n"
   ]
  },
  {
   "cell_type": "markdown",
   "id": "d86b9314",
   "metadata": {},
   "source": [
    "\n",
    "10. **Evaluar y ajustar**: Implementa evaluaciones continuas sobre la utilidad y dificultad de las herramientas. Pide su retroalimentación periódicamente para adaptar las actividades y ajustar el nivel de desafío en el aprendizaje.\n"
   ]
  },
  {
   "cell_type": "markdown",
   "id": "00ca820b",
   "metadata": {},
   "source": [
    "\n",
    "Estas estrategias pueden ayudarte a liderar el cambio de una manera que respete el ritmo de tus estudiantes, a la vez que promueve su desarrollo en el uso de herramientas que les serán valiosas en su formación y en su futura carrera profesional."
   ]
  },
  {
   "cell_type": "markdown",
   "id": "c6236d5d",
   "metadata": {},
   "source": [
    "# FODA del grupo y del profesor  \n",
    "\n",
    "* F: Fortalezas\n",
    "* O: Oportunidades\n",
    "* D: Dificultades\n",
    "* A: Amenazas."
   ]
  },
  {
   "cell_type": "markdown",
   "id": "b48f9542",
   "metadata": {},
   "source": [
    "## ¿Cómo se sintió en este espacio de enseñanza y aprendizaje?\n",
    "\n",
    "!Dios te bendiga¡"
   ]
  },
  {
   "cell_type": "markdown",
   "id": "10bce0d0",
   "metadata": {
    "slideshow": {
     "slide_type": "slide"
    }
   },
   "source": [
    "## Referentes "
   ]
  },
  {
   "cell_type": "markdown",
   "id": "1db3c468",
   "metadata": {
    "slideshow": {
     "slide_type": "slide"
    }
   },
   "source": [
    "* [stewart precálculo](https://www.academia.edu/15069632/Libro_Pre_Calculo_James_Stewar)  \n",
    "\n",
    "* [stewart cálculo](https://udeaeduco-my.sharepoint.com/:b:/g/personal/marco_canas_udea_edu_co/EZgXZjAp8QxPqOAim2hs6LcBNPLGjSHf-xwYnUVYkwa04w?e=RZdTCy)  \n",
    "\n",
    "* [larson](https://udeaeduco-my.sharepoint.com/:b:/g/personal/marco_canas_udea_edu_co/ES71ChFeO9ZDhW3TwC5Ijk8BjxUK3Pdqz_fjHxTTFAfIAg?e=VDEjfu)\n",
    "\n",
    "\n",
    "* [Recomendación de la UNESCO sobre ciencia abierta](https://unesdoc.unesco.org/ark:/48223/pf0000379949_spa)  \n",
    "\n",
    "* [chatGPT](https://openai.com/blog/chatgpt)  \n",
    "\n",
    "* Géron, A. (2017). Hands-on machine learning with scikit-learn and tensorflow: Concepts. Tools, and Techniques to build intelligent systems.[Geron, Aurelien. Hands on Machine Learning](https://udeaeduco-my.sharepoint.com/:b:/g/personal/marco_canas_udea_edu_co/Ecet27yjQzZIlT1Y_Bc2erkBUhbeYuIe6HG8i1FYZRlZww?e=dlvZ4v)  \n",
    "\n",
    "* McKinney, W. (2012). Python for data analysis: Data wrangling with Pandas, NumPy, and IPython. \" O'Reilly Media, Inc.\".[Wes Mackinney. ](https://udeaeduco-my.sharepoint.com/:b:/g/personal/marco_canas_udea_edu_co/EVbi5JIeBl9ErbiUnZfGe8YBhNTnZ8sxTK5hjIOPK4UpGw?e=fFclah)"
   ]
  },
  {
   "cell_type": "markdown",
   "id": "6b9e56a8",
   "metadata": {
    "slideshow": {
     "slide_type": "slide"
    }
   },
   "source": [
    "### [Evaluamos al profesor Marco Cañas Aquí](https://forms.office.com/Pages/ResponsePage.aspx?id=IefhmYRxjkmK_7KtTlPBwkanXIs1i1FEujpsZgO6dXpUREJPV1kxUk1JV1ozTFJIQVNIQjY5WEY3US4u)"
   ]
  },
  {
   "cell_type": "markdown",
   "id": "10f43536",
   "metadata": {
    "slideshow": {
     "slide_type": "slide"
    }
   },
   "source": [
    "### Continue su aprendizaje en la siguiente clase a través del siguiente [vínculo]()"
   ]
  }
 ],
 "metadata": {
  "celltoolbar": "Slideshow",
  "kernelspec": {
   "display_name": "Python 3 (ipykernel)",
   "language": "python",
   "name": "python3"
  },
  "language_info": {
   "codemirror_mode": {
    "name": "ipython",
    "version": 3
   },
   "file_extension": ".py",
   "mimetype": "text/x-python",
   "name": "python",
   "nbconvert_exporter": "python",
   "pygments_lexer": "ipython3",
   "version": "3.10.12"
  },
  "rise": {
   "enable_chalkboard": true,
   "theme": "sky",
   "transition": "zoom"
  }
 },
 "nbformat": 4,
 "nbformat_minor": 5
}
