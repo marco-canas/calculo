{
 "cells": [
  {
   "cell_type": "markdown",
   "id": "dc06dec7",
   "metadata": {
    "slideshow": {
     "slide_type": "slide"
    }
   },
   "source": [
    "<table align=\"left\">\n",
    "  <td>\n",
    "    <a href=\"https://colab.research.google.com/github/marco-canas/calculo/blob/main/classes/1_medicion/2_volumenes/4_pluviometria/2_evaluacion_practica_pluviometria.ipynb\" target=\"_parent\"><img src=\"https://colab.research.google.com/assets/colab-badge.svg\" alt=\"Open In Colab\"/></a>\n",
    "  </td>\n",
    "  <td>\n",
    "    <a target=\"_blank\" href=\"https://kaggle.com/kernels/welcome?src=https://github.com/marco-canas/calculo/blob/main/classes/1_medicion/2_volumenes/4_pluviometria/2_evaluacion_practica_pluviometria.ipynb\"><img src=\"https://kaggle.com/static/images/open-in-kaggle.svg\" /></a>\n",
    "  </td>\n",
    "</table>"
   ]
  },
  {
   "cell_type": "markdown",
   "id": "e0c5b198",
   "metadata": {
    "slideshow": {
     "slide_type": "slide"
    }
   },
   "source": [
    "### [Video de apoyo a la lectura interactiva y experimental de este cuaderno]()"
   ]
  },
  {
   "cell_type": "markdown",
   "id": "41e82203",
   "metadata": {
    "slideshow": {
     "slide_type": "slide"
    }
   },
   "source": [
    "## [Vínculo al programa del curso:  ]()"
   ]
  },
  {
   "cell_type": "markdown",
   "id": "ca46c23b",
   "metadata": {
    "slideshow": {
     "slide_type": "slide"
    }
   },
   "source": [
    "# Modelo general de clase: [aula invertida](https://www3.gobiernodecanarias.org/medusa/ecoescuela/pedagotic/aprendizaje-invertido-flipped-classroom/)\n"
   ]
  },
  {
   "cell_type": "markdown",
   "id": "7f9be90f",
   "metadata": {
    "slideshow": {
     "slide_type": "slide"
    }
   },
   "source": [
    "# Fomento de la lectura literaria asociada a Ingeniería agropecuaria y licenciatura en Matemáticas y administración de empresas\n",
    "\n",
    "[Hábitos atómicos](https://github.com/marco-canas/habitos_atomicos/blob/main/13_como_dejar_de_postergar_usando_la_regla_de_los_dos_minutos/1_13_como_dejar_de_postergar_usando_la_regla_de_los_dos_minutos.ipynb)"
   ]
  },
  {
   "cell_type": "markdown",
   "id": "96775931",
   "metadata": {
    "slideshow": {
     "slide_type": "slide"
    }
   },
   "source": [
    "# Título de la clase: Retroalimentación sobre la práctica sobre pluviometría\n",
    "\n"
   ]
  },
  {
   "cell_type": "markdown",
   "id": "1d38dd4e",
   "metadata": {
    "slideshow": {
     "slide_type": "slide"
    }
   },
   "source": [
    "### Objetivo de aprendizaje (Enunciar, de manera corta sencilla y clara para todos los asistentes)\n"
   ]
  },
  {
   "cell_type": "markdown",
   "id": "ca7261b1",
   "metadata": {
    "slideshow": {
     "slide_type": "slide"
    }
   },
   "source": [
    "## Establecimiento de prerrequisitos conceptuales para alcanzar el objetivo de aprendizaje trazado.   \n",
    "\n",
    "(Elabore una lista de preguntas al rededor de los conceptos que consideres necesarios para empezar la clase).  \n",
    "\n",
    "1. \n",
    "2. \n",
    "3. "
   ]
  },
  {
   "cell_type": "markdown",
   "id": "2298e976",
   "metadata": {
    "slideshow": {
     "slide_type": "slide"
    }
   },
   "source": [
    "# Para el diseño de la clase tenga en cuenta algunos problemas de aprendizaje"
   ]
  },
  {
   "cell_type": "markdown",
   "id": "2d46be3a",
   "metadata": {},
   "source": [
    "# Diseño de evaluación oral de si se alcanzaron los objetivos de aprendizaje planteados\n",
    "\n",
    "* Describa verbalmente el objetivo de aprendizaje y evidencie de forma oral si lo logró o no. "
   ]
  },
  {
   "cell_type": "markdown",
   "id": "4566108f",
   "metadata": {},
   "source": [
    "## Cuestionario para realizar labores de memorización, observación y síntesis de la información (Además de diagnóstico)\n",
    "\n",
    "Aquí tienes un cuestionario diseñado para profundizar en estos tres temas, que son clave para comprender tanto la construcción y uso de pluviómetros caseros como el análisis y visualización de datos de precipitación utilizando Python y Jupyter Notebooks.\n",
    "\n",
    "---\n",
    "\n",
    "### 1. **Cuestionario sobre la Construcción de Pluviómetros Caseros**\n",
    "\n",
    "**a)** ¿Qué materiales se requieren para construir un pluviómetro casero? Explica por qué cada uno es importante para el funcionamiento del dispositivo.\n",
    "\n",
    "**b)** Describe el proceso paso a paso para construir un pluviómetro casero y señala los posibles errores comunes que se deben evitar durante la construcción.\n",
    "\n",
    "**c)** ¿Cómo se deben marcar las escalas en el pluviómetro casero? Explica cómo podrías calibrar el pluviómetro para medir correctamente la cantidad de lluvia en milímetros.\n",
    "\n",
    "**d)** ¿Cuál es el propósito de un pluviómetro casero en el estudio de la precipitación? Explica cómo su construcción y uso pueden ayudar a comprender patrones locales de precipitación.\n",
    "\n",
    "**e)** ¿Qué limitaciones podrían tener los pluviómetros caseros en comparación con los instrumentos profesionales para la medición de la lluvia?\n",
    "\n",
    "---\n"
   ]
  },
  {
   "cell_type": "markdown",
   "id": "78ff7119",
   "metadata": {},
   "source": [
    "\n",
    "### 2. **Cuestionario sobre la Definición de Precipitación**\n",
    "\n",
    "**a)** ¿Cómo se define la precipitación en términos de volumen de agua y área de la superficie donde cae? Explica la relación matemática que permite calcular la precipitación a partir de estas variables.\n",
    "\n",
    "**b)** ¿Por qué se utiliza la altura en milímetros como medida de precipitación? Describe la equivalencia entre la altura del nivel de agua en un pluviómetro y la precipitación en litros por metro cuadrado.\n"
   ]
  },
  {
   "cell_type": "markdown",
   "id": "39e298ac",
   "metadata": {},
   "source": [
    "\n",
    "**c)** ¿Cómo se interpreta una medición de 10 mm en el pluviómetro? Explica cuántos litros de agua por metro cuadrado representa esta medición.\n",
    "\n",
    "**d)** Supón que tienes un área de 2 metros cuadrados y cae una precipitación de 5 mm. ¿Cuántos litros de agua habrían caído sobre esta área? Muestra el cálculo.\n",
    "\n",
    "**e)** ¿Por qué es importante conocer la cantidad de precipitación en una región? Da ejemplos de cómo esta información puede ser útil para la agricultura, la planificación urbana y la gestión de recursos hídricos.\n",
    "\n",
    "---\n"
   ]
  },
  {
   "cell_type": "markdown",
   "id": "3e4217ad",
   "metadata": {},
   "source": [
    "\n",
    "### 3. **Cuestionario sobre la Aplicación de Python y Jupyter Notebooks para la Obtención y Visualización de Datos de Precipitación**\n",
    "\n",
    "**a)** ¿Qué beneficios ofrece el uso de Python y Jupyter Notebooks para la obtención y análisis de datos meteorológicos de precipitación?\n",
    "\n",
    "**b)** Describe el proceso básico para obtener datos de precipitación del IDEAM utilizando Python. ¿Qué tipo de librerías podrías utilizar para acceder y procesar estos datos?\n",
    "\n",
    "**c)** ¿Cómo se podrían visualizar los datos de precipitación en un Jupyter Notebook? Menciona algunas librerías de Python útiles para crear gráficos de precipitación y da ejemplos de visualizaciones adecuadas.\n"
   ]
  },
  {
   "cell_type": "markdown",
   "id": "36ffc8fa",
   "metadata": {},
   "source": [
    "\n",
    "**d)** Explica cómo puedes convertir los datos de precipitación de milímetros a litros por metro cuadrado utilizando Python. Proporciona un ejemplo de código que realice esta conversión para una lista de valores de precipitación en milímetros.\n",
    "\n",
    "**e)** ¿Cómo puedes analizar tendencias de precipitación a lo largo del tiempo usando Python? Describe un ejemplo de cómo podrías calcular la precipitación mensual promedio a partir de datos diarios.\n",
    "\n",
    "**f)** Imagina que tienes datos históricos de precipitación para una región y necesitas predecir futuros patrones de precipitación. ¿Qué técnicas o modelos podrías aplicar en Python para este propósito? Explica brevemente.\n",
    "\n",
    "**g)** ¿Por qué es importante el acceso a datos meteorológicos abiertos como los del IDEAM? Reflexiona sobre cómo la transparencia de estos datos impacta en la investigación y en la toma de decisiones.\n",
    "\n",
    "---\n"
   ]
  },
  {
   "cell_type": "markdown",
   "id": "f1681534",
   "metadata": {},
   "source": [
    "\n",
    "Este cuestionario busca afianzar los conocimientos sobre la construcción de pluviómetros, la comprensión de la precipitación y su medición, y las habilidades prácticas para manejar y analizar datos de precipitación utilizando Python y Jupyter Notebooks."
   ]
  },
  {
   "cell_type": "markdown",
   "id": "7ee3abc5",
   "metadata": {},
   "source": [
    "# Vocabulary \n",
    "\n",
    "1. length: longitud\n",
    "2. width: ancho. \n",
    "\n",
    "[length, width](https://voca.ro/1of14ffdXnZI)"
   ]
  },
  {
   "cell_type": "markdown",
   "id": "12c73bab",
   "metadata": {},
   "source": []
  },
  {
   "cell_type": "code",
   "execution_count": null,
   "id": "eb5dcfbd",
   "metadata": {},
   "outputs": [],
   "source": []
  },
  {
   "cell_type": "markdown",
   "id": "fb9402bb",
   "metadata": {
    "slideshow": {
     "slide_type": "slide"
    }
   },
   "source": [
    "## Estrategias propuestas para la solución de las dificultades de aprendizaje detectadas"
   ]
  },
  {
   "cell_type": "markdown",
   "id": "80963962",
   "metadata": {},
   "source": [
    "# Apoyar a mis estudiantes de manera gradual en el uso de lenguajes y jupyter Notebook's "
   ]
  },
  {
   "cell_type": "markdown",
   "id": "02f19c86",
   "metadata": {},
   "source": [
    "Ser empático y compasivo al implementar herramientas como LaTeX, Python y Jupyter en el aprendizaje de cálculo, especialmente con temas como la integral definida, requiere entender y conectar con las preocupaciones y resistencias de tus estudiantes. "
   ]
  },
  {
   "cell_type": "markdown",
   "id": "946e3daf",
   "metadata": {},
   "source": [
    "Estas son algunas estrategias para liderar pedagógicamente y motivarlos de manera efectiva:\n"
   ]
  },
  {
   "cell_type": "markdown",
   "id": "f27acefb",
   "metadata": {},
   "source": [
    "\n",
    "1. **Escuchar sus inquietudes**: Dedica tiempo a entender las razones detrás de sus dificultades. Pregúntales directamente sobre los desafíos específicos que encuentran al usar LaTeX, Python y Jupyter. Esta información te ayudará a ajustar tu enfoque pedagógico y a ofrecer apoyo en los puntos exactos que les resultan más complejos.\n"
   ]
  },
  {
   "cell_type": "markdown",
   "id": "aa660695",
   "metadata": {},
   "source": [
    "\n",
    "2. **Fomentar un ambiente de aprendizaje seguro y colaborativo**: Crea un ambiente donde los estudiantes sientan que pueden cometer errores sin ser juzgados. Ofrece talleres o sesiones grupales en las que todos practiquen juntos, favoreciendo la colaboración y el aprendizaje entre pares. Esta práctica puede reducir la ansiedad y ayudar a construir confianza en el uso de las herramientas tecnológicas.\n"
   ]
  },
  {
   "cell_type": "markdown",
   "id": "b3c66417",
   "metadata": {},
   "source": [
    "\n",
    "3. **Dividir la transición en etapas**: Introduce LaTeX, Python y Jupyter de forma gradual, iniciando con pequeñas tareas o aplicaciones sencillas que les permitan familiarizarse con el entorno sin sentirse abrumados. Por ejemplo, podrían comenzar con anotaciones en LaTeX para crear documentos de teoría básica o usar Python en Jupyter para resolver problemas numéricos sencillos.\n"
   ]
  },
  {
   "cell_type": "markdown",
   "id": "2a961ebd",
   "metadata": {},
   "source": [
    "\n",
    "4. **Conectar la teoría con la práctica aplicada**: Demuestra cómo el uso de estas herramientas en cálculo facilita la resolución de problemas aplicados en áreas como la ingeniería, economía y otras ciencias. Proyectos o problemas que involucren el cálculo de áreas, volúmenes o probabilidades pueden hacer que perciban estas herramientas como recursos prácticos y útiles en su futura vida profesional.\n"
   ]
  },
  {
   "cell_type": "markdown",
   "id": "c29e3739",
   "metadata": {},
   "source": [
    "\n",
    "5. **Ejemplos reales y visualización**: Muestra ejemplos de profesionales que usan estas herramientas para resolver problemas complejos y visualiza en clase cómo Python en Jupyter facilita el cálculo y la representación gráfica de integrales definidas. Herramientas como `matplotlib` y `sympy` permiten ver el impacto de sus cálculos de manera gráfica, lo cual puede motivar a estudiantes visuales y ayudarles a comprender el beneficio de integrar tecnología en el aprendizaje.\n"
   ]
  },
  {
   "cell_type": "markdown",
   "id": "7bcfa59b",
   "metadata": {},
   "source": [
    "\n",
    "6. **Establecer metas alcanzables**: Divide el aprendizaje en metas específicas y alcanzables, para que puedan experimentar pequeñas victorias en su progreso. Por ejemplo, al aprender a calcular áreas bajo curvas con integrales definidas, puedes enfocarte en que entiendan primero cómo Python ayuda en el cálculo básico y luego pasar al uso de gráficos para mostrar la integral.\n"
   ]
  },
  {
   "cell_type": "markdown",
   "id": "2582b4e9",
   "metadata": {},
   "source": [
    "\n",
    "7. **Reconocimiento y retroalimentación positiva**: Asegúrate de reconocer los avances y esfuerzos individuales, por pequeños que sean. Esto fomenta un sentido de logro y refuerza su motivación. Además, elogia no solo el resultado final, sino el proceso, el esfuerzo y la disposición a aprender algo nuevo.\n"
   ]
  },
  {
   "cell_type": "markdown",
   "id": "b0941335",
   "metadata": {},
   "source": [
    "\n",
    "8. **Demostrar apertura y paciencia**: Liderar un cambio en métodos de aprendizaje exige apertura. Hazles saber que, si bien consideras esencial el uso de estas herramientas, también estás dispuesto a ayudarlos y ajustar el ritmo en función de sus necesidades.\n"
   ]
  },
  {
   "cell_type": "markdown",
   "id": "5e76cf46",
   "metadata": {},
   "source": [
    "\n",
    "9. **Incorporar una metodología de aprendizaje activo**: Anímalos a construir conocimientos activamente, resolviendo problemas y aplicando las herramientas a contextos reales. Una opción es el aprendizaje basado en proyectos (ABP), donde los estudiantes puedan trabajar en problemas reales que demuestren el valor de LaTeX, Python y Jupyter en aplicaciones concretas, como calcular la probabilidad acumulativa en problemas estadísticos o modelar el área de regiones específicas.\n"
   ]
  },
  {
   "cell_type": "markdown",
   "id": "d86b9314",
   "metadata": {},
   "source": [
    "\n",
    "10. **Evaluar y ajustar**: Implementa evaluaciones continuas sobre la utilidad y dificultad de las herramientas. Pide su retroalimentación periódicamente para adaptar las actividades y ajustar el nivel de desafío en el aprendizaje.\n"
   ]
  },
  {
   "cell_type": "markdown",
   "id": "00ca820b",
   "metadata": {},
   "source": [
    "\n",
    "Estas estrategias pueden ayudarte a liderar el cambio de una manera que respete el ritmo de tus estudiantes, a la vez que promueve su desarrollo en el uso de herramientas que les serán valiosas en su formación y en su futura carrera profesional."
   ]
  },
  {
   "cell_type": "markdown",
   "id": "2a4d8242",
   "metadata": {},
   "source": [
    "Para ayudar a tus estudiantes a aprender a describir y realizar cálculos matemáticos en un cuaderno Jupyter, puedes construir un video educativo estructurado que combine elementos teóricos, prácticos y visuales. Aquí te doy recomendaciones para crear un video efectivo que explique cómo traducir la precipitación en milímetros en Caucasia, Antioquia, a litros por hectárea:\n",
    "\n",
    "---\n"
   ]
  },
  {
   "cell_type": "markdown",
   "id": "f54a0db5",
   "metadata": {},
   "source": [
    "\n",
    "### **Estructura del video**\n",
    "1. **Introducción (30-60 segundos):**\n",
    "   - Presenta el objetivo del video: aprender a realizar cálculos matemáticos y documentarlos en un cuaderno Jupyter.\n"
   ]
  },
  {
   "cell_type": "markdown",
   "id": "e43bac78",
   "metadata": {},
   "source": [
    "   - Explica brevemente el contexto: la relación entre milímetros de precipitación y litros por hectárea, relevante para estudios agropecuarios o climáticos.\n"
   ]
  },
  {
   "cell_type": "markdown",
   "id": "1c5f9d92",
   "metadata": {},
   "source": [
    "<img src = 'https://experimentoscaseros.xyz/img/experimentos/pluviometro-casero-ninos.jpg'>"
   ]
  },
  {
   "cell_type": "markdown",
   "id": "26e7c901",
   "metadata": {},
   "source": [
    "\n",
    "2. **Preparación del entorno (1-2 minutos):**\n",
    "   - Muestra cómo abrir un cuaderno Jupyter utilizando JupyterLab, Anaconda, o Google Colab.\n",
    "   - Explica qué son las celdas de código y las celdas de texto en un cuaderno Jupyter.\n"
   ]
  },
  {
   "cell_type": "markdown",
   "id": "aa238075",
   "metadata": {},
   "source": [
    "¿Cómo traducimos la medidad del pluviómetro a una medidad en litros por hectárea?"
   ]
  },
  {
   "cell_type": "code",
   "execution_count": 1,
   "id": "c20ee62b",
   "metadata": {},
   "outputs": [
    {
     "data": {
      "text/plain": [
       "0.02"
      ]
     },
     "execution_count": 1,
     "metadata": {},
     "output_type": "execute_result"
    }
   ],
   "source": [
    "20/1000"
   ]
  },
  {
   "cell_type": "markdown",
   "id": "7bf2c2f4",
   "metadata": {},
   "source": [
    "La altura en metros del cilindro de agua en el pluviómetro es de 20mm = 0.02 metros"
   ]
  },
  {
   "cell_type": "markdown",
   "id": "6dd52dbb",
   "metadata": {},
   "source": [
    "\n",
    "3. **Planteamiento del problema (2-3 minutos):**\n",
    "   - Describe la fórmula para convertir milímetros de precipitación en litros por hectárea:\n",
    "     $$\n",
    "     \\text{Litros por hectárea} = \\text{milímetros de precipitación} \\times 10,000\n",
    "     $$\n",
    "     Explica que 1 mm de lluvia sobre 1 m² equivale a 1 litro y que una hectárea tiene 10,000 m².\n"
   ]
  },
  {
   "cell_type": "markdown",
   "id": "f129abc9",
   "metadata": {},
   "source": [
    "Consideremos un pluviómetro de 10 cm de diámetro y 20 cm de altura. Donde el después de una lluvia, se ha llenado una altura de un milímetro. \n",
    "\n",
    "La altura del agua en el tubo de 10 cm de diámetro es de 1 mm. \n"
   ]
  },
  {
   "cell_type": "code",
   "execution_count": 3,
   "id": "b3efa97e",
   "metadata": {},
   "outputs": [
    {
     "data": {
      "text/plain": [
       "0.001"
      ]
     },
     "execution_count": 3,
     "metadata": {},
     "output_type": "execute_result"
    }
   ],
   "source": [
    "1/1000"
   ]
  },
  {
   "cell_type": "markdown",
   "id": "0a0917ac",
   "metadata": {},
   "source": [
    "$1$ milímetro es igual a $0.001$ metros. \n",
    "\n",
    "Como la columna de agua es de 5 centímetros de radio, entonces $5$ centímetros son iguales a $0.05$ metros de radio"
   ]
  },
  {
   "cell_type": "code",
   "execution_count": null,
   "id": "caf6f4f9",
   "metadata": {},
   "outputs": [],
   "source": [
    "altura_en_milimetros = 1"
   ]
  },
  {
   "cell_type": "code",
   "execution_count": 15,
   "id": "536fec1d",
   "metadata": {},
   "outputs": [],
   "source": [
    "altura_en_metros = 1/1000"
   ]
  },
  {
   "cell_type": "code",
   "execution_count": 16,
   "id": "b11e1859",
   "metadata": {},
   "outputs": [
    {
     "data": {
      "text/plain": [
       "np.float64(0.0079)"
      ]
     },
     "execution_count": 16,
     "metadata": {},
     "output_type": "execute_result"
    }
   ],
   "source": [
    "import numpy as np \n",
    "\n",
    "area_de_la_base = np.round(np.pi*(0.05)**2, 4)\n",
    "area_de_la_base"
   ]
  },
  {
   "cell_type": "code",
   "execution_count": 17,
   "id": "6c25e698",
   "metadata": {},
   "outputs": [
    {
     "data": {
      "text/plain": [
       "np.float64(8e-06)"
      ]
     },
     "execution_count": 17,
     "metadata": {},
     "output_type": "execute_result"
    }
   ],
   "source": [
    "volumen_columna_agua_en_metros_cubicos = round(area_de_la_base*altura_en_metros, 6)\n",
    "volumen_columna_agua_en_metros_cubicos"
   ]
  },
  {
   "cell_type": "markdown",
   "id": "00d0133a",
   "metadata": {},
   "source": [
    "el volumen en metros cuadrados de una columena de 1 milímetro de altura es de 0.000395 metros cúbicos. \n",
    "\n"
   ]
  },
  {
   "cell_type": "markdown",
   "id": "63da87ac",
   "metadata": {},
   "source": [
    "Pasemos ahora, el volumen a litros"
   ]
  },
  {
   "cell_type": "code",
   "execution_count": 18,
   "id": "9a88c93f",
   "metadata": {},
   "outputs": [
    {
     "data": {
      "text/plain": [
       "np.float64(0.008)"
      ]
     },
     "execution_count": 18,
     "metadata": {},
     "output_type": "execute_result"
    }
   ],
   "source": [
    "volumen_columna_agua_en_litros = volumen_columna_agua_en_metros_cubicos*1000\n",
    "volumen_columna_agua_en_litros "
   ]
  },
  {
   "cell_type": "code",
   "execution_count": 20,
   "id": "229cbd78",
   "metadata": {},
   "outputs": [
    {
     "data": {
      "text/plain": [
       "np.float64(1.01)"
      ]
     },
     "execution_count": 20,
     "metadata": {},
     "output_type": "execute_result"
    }
   ],
   "source": [
    "precipitación_en_litros_por_metro_cuadrado = round(volumen_columna_agua_en_litros/area_de_la_base, 2) \n",
    "precipitación_en_litros_por_metro_cuadrado "
   ]
  },
  {
   "cell_type": "code",
   "execution_count": 24,
   "id": "d0e1fcbe",
   "metadata": {},
   "outputs": [],
   "source": [
    "def convertir_altuara_en_ploviometro_a_litros_por_metro_cuadrado(altura_en_milimetros):\n",
    "    altura_en_metros = altura_en_milimetros/1000\n",
    "    radio_base_del_pluviometro_en_cm = 5\n",
    "    area_base_en_metros_cuadrados = (radio_base_del_pluviometro_en_cm/100)**2*np.pi\n",
    "    volumen_columna_agua_en_metros_cubicos = area_base_en_metros_cuadrados*altura_en_metros\n",
    "    volumen_columna_agua_en_litros = volumen_columna_agua_en_metros_cubicos*1000\n",
    "    precipitación_en_litros_por_metro_cuadrado = volumen_columna_agua_en_litros/area_base_en_metros_cuadrados\n",
    "    return print('La precipitación en litros por metro cuadrado es', precipitación_en_litros_por_metro_cuadrado)"
   ]
  },
  {
   "cell_type": "code",
   "execution_count": 25,
   "id": "45b69898",
   "metadata": {},
   "outputs": [
    {
     "name": "stdout",
     "output_type": "stream",
     "text": [
      "La precipitación en litros por metro cuadrado es 1.0\n"
     ]
    }
   ],
   "source": [
    "convertir_altuara_en_ploviometro_a_litros_por_metro_cuadrado(1)"
   ]
  },
  {
   "cell_type": "markdown",
   "id": "eb7817c6",
   "metadata": {},
   "source": [
    "Conclusión, un milímetro de altura en el pluviómetro equivale a 1 litros por metro cuadrado de precipitación. Es decir, a una igualdad numérica entre la altura de la columnna de agua y su equivalente en litros por metro cuadrado. "
   ]
  },
  {
   "cell_type": "markdown",
   "id": "f19027c9",
   "metadata": {},
   "source": [
    "   - Escribe esta explicación en una celda Markdown usando LaTeX para mostrar la fórmula de manera clara.\n"
   ]
  },
  {
   "cell_type": "markdown",
   "id": "733e5205",
   "metadata": {},
   "source": [
    "\n",
    "4. **Implementación del cálculo en Python (3-5 minutos):**\n",
    "   - Escribe código paso a paso en una celda de código:\n",
    "     ```python\n",
    "     # Milímetros de precipitación en Caucasia\n",
    "     precipitacion_mm = 50  # Ejemplo: 50 mm de precipitación\n",
    "\n",
    "     # Conversión a litros por hectárea\n",
    "     litros_por_hectarea = precipitacion_mm * 10000\n",
    "\n",
    "     # Resultado\n",
    "     print(f\"La precipitación de {precipitacion_mm} mm equivale a {litros_por_hectarea} litros por hectárea.\")\n",
    "     ```\n",
    "   - Muestra cómo ejecutar la celda y explica el resultado obtenido.\n",
    "\n",
    "5. **Visualización de datos (2-3 minutos):**\n",
    "   - Usa una biblioteca como Matplotlib para graficar la relación entre milímetros de precipitación y litros por hectárea:\n",
    "     ```python\n",
    "     import matplotlib.pyplot as plt\n",
    "\n",
    "     # Datos simulados\n",
    "     precipitacion = [10, 20, 30, 40, 50, 60]  # Milímetros\n",
    "     litros = [p * 10000 for p in precipitacion]\n",
    "\n",
    "     # Crear el gráfico\n",
    "     plt.plot(precipitacion, litros, marker='o', label=\"Relación mm -> L/ha\")\n",
    "     plt.xlabel(\"Milímetros de precipitación\")\n",
    "     plt.ylabel(\"Litros por hectárea\")\n",
    "     plt.title(\"Conversión de Precipitación a Litros por Hectárea\")\n",
    "     plt.legend()\n",
    "     plt.grid(True)\n",
    "     plt.show()\n",
    "     ```\n",
    "\n",
    "6. **Documentación y buenas prácticas (2-3 minutos):**\n",
    "   - Muestra cómo usar comentarios en el código para explicar cada paso.\n",
    "   - Explica cómo estructurar el cuaderno con encabezados y celdas Markdown:\n",
    "     - Introducción.\n",
    "     - Fórmula matemática.\n",
    "     - Implementación en Python.\n",
    "     - Visualización de datos.\n",
    "   - Destaca la importancia de mantener el cuaderno legible para que otros puedan entenderlo.\n",
    "\n",
    "7. **Conclusión (30-60 segundos):**\n",
    "   - Resume lo aprendido: traducir medidas de precipitación a litros por hectárea, documentarlo adecuadamente y visualizar los resultados.\n",
    "   - Invita a los estudiantes a practicar usando datos reales o simulados.\n",
    "\n",
    "---\n",
    "\n",
    "### **Consejos para el video**\n",
    "- **Duración:** Mantén el video entre 10 y 15 minutos para que sea claro y conciso.\n",
    "- **Visuales atractivos:** Usa colores en el código (Jupyter lo hace automáticamente) y gráficos claros con etiquetas.\n",
    "- **Enfoque pedagógico:** Habla con calma, explica cada paso y repite las ideas clave.\n",
    "- **Interactividad:** Invita a los estudiantes a pausar el video y reproducir los pasos en su propio cuaderno.\n",
    "\n",
    "---\n",
    "\n",
    "### **Material adicional para acompañar el video**\n",
    "- Proporciona el cuaderno Jupyter usado en el video como un archivo descargable en GitHub.\n",
    "- Incluye un conjunto de ejercicios para practicar, como calcular la conversión para otros valores de precipitación o graficar con datos históricos.\n",
    "\n",
    "¿Te ayudo a estructurar el cuaderno o a elaborar el guion narrativo del video? 😊"
   ]
  },
  {
   "cell_type": "code",
   "execution_count": 26,
   "id": "b2326fa0",
   "metadata": {},
   "outputs": [],
   "source": [
    "def convertir_a_litros_por_hectarea(precipitacion_litros_m2):\n",
    "    \"\"\"\n",
    "    Convierte una medida de precipitación de litros por metro cuadrado (mm) a litros por hectárea.\n",
    "\n",
    "    Parámetros:\n",
    "    - precipitacion_litros_m2 (float): Precipitación en litros por metro cuadrado (mm).\n",
    "\n",
    "    Retorno:\n",
    "    - float: Precipitación convertida a litros por hectárea.\n",
    "    \"\"\"\n",
    "    # 1 hectárea = 10,000 m²\n",
    "    hectarea_m2 = 10000\n",
    "    return precipitacion_litros_m2 * hectarea_m2\n"
   ]
  },
  {
   "cell_type": "code",
   "execution_count": 28,
   "id": "33213476",
   "metadata": {},
   "outputs": [
    {
     "name": "stdout",
     "output_type": "stream",
     "text": [
      "1 mm de precipitación equivale a 10000 litros por hectárea.\n",
      "      Que a su vez equivalen a 10.0 metros cúbicos por hectárea\n"
     ]
    }
   ],
   "source": [
    "\n",
    "# Ejemplo de uso\n",
    "precipitacion_mm = 1  # 1 mm de precipitación\n",
    "litros_por_hectarea = convertir_a_litros_por_hectarea(precipitacion_mm)\n",
    "metros_cubicos_por_hectarea = litros_por_hectarea/1000\n",
    "print(f\"\"\"{precipitacion_mm} mm de precipitación equivale a {litros_por_hectarea} litros por hectárea.\n",
    "      Que a su vez equivalen a {metros_cubicos_por_hectarea} metros cúbicos por hectárea\"\"\")\n"
   ]
  },
  {
   "cell_type": "markdown",
   "id": "c6236d5d",
   "metadata": {},
   "source": [
    "# FODA del grupo y del profesor  \n",
    "\n",
    "* F: Fortalezas\n",
    "* O: Oportunidades\n",
    "* D: Dificultades\n",
    "* A: Amenazas."
   ]
  },
  {
   "cell_type": "markdown",
   "id": "b48f9542",
   "metadata": {},
   "source": [
    "## ¿Cómo se sintió en este espacio de enseñanza y aprendizaje?\n",
    "\n",
    "!Dios te bendiga¡"
   ]
  },
  {
   "cell_type": "markdown",
   "id": "10bce0d0",
   "metadata": {
    "slideshow": {
     "slide_type": "slide"
    }
   },
   "source": [
    "## Referentes "
   ]
  },
  {
   "cell_type": "markdown",
   "id": "1db3c468",
   "metadata": {
    "slideshow": {
     "slide_type": "slide"
    }
   },
   "source": [
    "* [stewart precálculo](https://www.academia.edu/15069632/Libro_Pre_Calculo_James_Stewar)  \n",
    "\n",
    "* [stewart cálculo](https://udeaeduco-my.sharepoint.com/:b:/g/personal/marco_canas_udea_edu_co/EZgXZjAp8QxPqOAim2hs6LcBNPLGjSHf-xwYnUVYkwa04w?e=RZdTCy)  \n",
    "\n",
    "* [larson](https://udeaeduco-my.sharepoint.com/:b:/g/personal/marco_canas_udea_edu_co/ES71ChFeO9ZDhW3TwC5Ijk8BjxUK3Pdqz_fjHxTTFAfIAg?e=VDEjfu)\n",
    "\n",
    "\n",
    "* [Recomendación de la UNESCO sobre ciencia abierta](https://unesdoc.unesco.org/ark:/48223/pf0000379949_spa)  \n",
    "\n",
    "* [chatGPT](https://openai.com/blog/chatgpt)  \n",
    "\n",
    "* Géron, A. (2017). Hands-on machine learning with scikit-learn and tensorflow: Concepts. Tools, and Techniques to build intelligent systems.[Geron, Aurelien. Hands on Machine Learning](https://udeaeduco-my.sharepoint.com/:b:/g/personal/marco_canas_udea_edu_co/Ecet27yjQzZIlT1Y_Bc2erkBUhbeYuIe6HG8i1FYZRlZww?e=dlvZ4v)  \n",
    "\n",
    "* McKinney, W. (2012). Python for data analysis: Data wrangling with Pandas, NumPy, and IPython. \" O'Reilly Media, Inc.\".[Wes Mackinney. ](https://udeaeduco-my.sharepoint.com/:b:/g/personal/marco_canas_udea_edu_co/EVbi5JIeBl9ErbiUnZfGe8YBhNTnZ8sxTK5hjIOPK4UpGw?e=fFclah)"
   ]
  },
  {
   "cell_type": "markdown",
   "id": "6b9e56a8",
   "metadata": {
    "slideshow": {
     "slide_type": "slide"
    }
   },
   "source": [
    "### [Evaluamos al profesor Marco Cañas Aquí](https://forms.office.com/Pages/ResponsePage.aspx?id=IefhmYRxjkmK_7KtTlPBwkanXIs1i1FEujpsZgO6dXpUREJPV1kxUk1JV1ozTFJIQVNIQjY5WEY3US4u)"
   ]
  },
  {
   "cell_type": "markdown",
   "id": "10f43536",
   "metadata": {
    "slideshow": {
     "slide_type": "slide"
    }
   },
   "source": [
    "### Continue su aprendizaje en la siguiente clase a través del siguiente [vínculo]()"
   ]
  }
 ],
 "metadata": {
  "celltoolbar": "Slideshow",
  "kernelspec": {
   "display_name": "Python 3",
   "language": "python",
   "name": "python3"
  },
  "language_info": {
   "codemirror_mode": {
    "name": "ipython",
    "version": 3
   },
   "file_extension": ".py",
   "mimetype": "text/x-python",
   "name": "python",
   "nbconvert_exporter": "python",
   "pygments_lexer": "ipython3",
   "version": "3.12.8"
  },
  "rise": {
   "enable_chalkboard": true,
   "theme": "sky",
   "transition": "zoom"
  }
 },
 "nbformat": 4,
 "nbformat_minor": 5
}
