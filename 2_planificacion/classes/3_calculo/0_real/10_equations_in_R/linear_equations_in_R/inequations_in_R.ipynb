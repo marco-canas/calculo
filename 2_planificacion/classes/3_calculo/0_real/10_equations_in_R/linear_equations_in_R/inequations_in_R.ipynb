{
 "cells": [
  {
   "cell_type": "markdown",
   "metadata": {},
   "source": []
  },
  {
   "cell_type": "markdown",
   "metadata": {},
   "source": [
    "### [Video de apoyo a la lectura interactiva y experimental de este cuaderno](https://www.youtube.com/watch?v=jcpPOqtVjA4)"
   ]
  },
  {
   "cell_type": "markdown",
   "metadata": {},
   "source": [
    "77. La fórmula \n",
    "    $$ \\frac{1}{R}  = \\frac{1}{R_{1}} + \\frac{1}{R_{2}} + \\frac{1}{R_{3}}$$\n",
    "proporciona la resistencia total $R$ en un circuito eléctrico debida a tres resistencias,$R_{1}$, $R_{2}$ y $R_{3}$, conectadas en paralelo. Si $ 10 \\leq R_{1} \\leq  20, 20 \\leq R_{2} \\leq 30$  y $30 \\leq R_{3} \\leq 40,$ determine el rango de valores de $R$."
   ]
  },
  {
   "cell_type": "markdown",
   "metadata": {},
   "source": [
    "## Solución\n",
    "\n",
    "Aplicaremos que las desigualdades del mismo sentido, se pueden sumar lado a lado. \n",
    "\n",
    "$$ 10 \\leq R_{1} \\leq  20 \\qquad ⇒ \\qquad \\frac{1}{20} \\leq  \\frac{1}{R_{1}} \\leq \\frac{1}{10} $$\n",
    "$$ 20 \\leq R_{2} \\leq  30 \\qquad ⇒ \\qquad \\frac{1}{30} \\leq  \\frac{1}{R_{2}} \\leq \\frac{1}{20} $$\n",
    "$$ 30 \\leq R_{3} \\leq  40 \\qquad ⇒ \\qquad \\frac{1}{40} \\leq  \\frac{1}{R_{3}} \\leq \\frac{1}{30} $$\n"
   ]
  },
  {
   "cell_type": "markdown",
   "metadata": {},
   "source": [
    "$$ ⇒ \\qquad \\frac{1}{20}+ \\frac{1}{30} + \\frac{1}{40} \\leq  \\frac{1}{R_{1}} + \\frac{1}{R_{2}} + \\frac{1}{R_{3}} \\leq \\frac{1}{10} + \\frac{1}{20} + \\frac{1}{30} $$"
   ]
  },
  {
   "cell_type": "markdown",
   "metadata": {},
   "source": [
    "$$ ⇒ \\qquad \\frac{1}{20}+ \\frac{1}{30} + \\frac{1}{40} \\leq  \\frac{1}{R} \\leq \\frac{1}{10} + \\frac{1}{20} + \\frac{1}{30} $$"
   ]
  },
  {
   "cell_type": "markdown",
   "metadata": {},
   "source": [
    "$$ \\frac{1}{ \\frac{1}{10} + \\frac{1}{20} + \\frac{1}{30}} \\leq  R \\leq \\frac{1}{ \\frac{1}{20}+ \\frac{1}{30} + \\frac{1}{40}  }$$"
   ]
  },
  {
   "cell_type": "code",
   "execution_count": 1,
   "metadata": {},
   "outputs": [
    {
     "data": {
      "text/plain": [
       "5.454545454545454"
      ]
     },
     "execution_count": 1,
     "metadata": {},
     "output_type": "execute_result"
    }
   ],
   "source": [
    "1/(1/10+1/20+1/30)"
   ]
  },
  {
   "cell_type": "code",
   "execution_count": 2,
   "metadata": {},
   "outputs": [
    {
     "data": {
      "text/plain": [
       "9.23076923076923"
      ]
     },
     "execution_count": 2,
     "metadata": {},
     "output_type": "execute_result"
    }
   ],
   "source": [
    "1/(1/20+1/30+1/40)"
   ]
  },
  {
   "cell_type": "markdown",
   "metadata": {},
   "source": [
    "Por lo tanto, la resistencia total está entre \n",
    "\n",
    "\n",
    "$$ 5.\\overline{45}\\leq R \\leq 9.\\overline{230769} $$"
   ]
  },
  {
   "cell_type": "markdown",
   "metadata": {},
   "source": [
    "## Voocabulary\n",
    "\n",
    "* low or equal: menor o igual\n",
    "* "
   ]
  },
  {
   "cell_type": "markdown",
   "metadata": {},
   "source": []
  }
 ],
 "metadata": {
  "kernelspec": {
   "display_name": ".venv",
   "language": "python",
   "name": "python3"
  },
  "language_info": {
   "codemirror_mode": {
    "name": "ipython",
    "version": 3
   },
   "file_extension": ".py",
   "mimetype": "text/x-python",
   "name": "python",
   "nbconvert_exporter": "python",
   "pygments_lexer": "ipython3",
   "version": "3.10.12"
  },
  "orig_nbformat": 4
 },
 "nbformat": 4,
 "nbformat_minor": 2
}
