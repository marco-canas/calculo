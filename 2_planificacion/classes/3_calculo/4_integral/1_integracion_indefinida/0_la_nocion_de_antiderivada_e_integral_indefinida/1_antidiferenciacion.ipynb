{
 "cells": [
  {
   "attachments": {},
   "cell_type": "markdown",
   "id": "dc06dec7",
   "metadata": {
    "slideshow": {
     "slide_type": "slide"
    }
   },
   "source": [
    "<table align=\"left\">\n",
    "  <td>\n",
    "    <a href=\"https://colab.research.google.com/github/marco-canas/calculo/blob/main/classes/3_calculo_for_eng_didactica_administracion/4_integration/1_antidiferenciacion/1_antidiferenciacion.ipynb\" target=\"_parent\"><img src=\"https://colab.research.google.com/assets/colab-badge.svg\" alt=\"Open In Colab\"/></a>\n",
    "  </td>\n",
    "</table>"
   ]
  },
  {
   "cell_type": "markdown",
   "id": "8bc14792",
   "metadata": {},
   "source": [
    "![Estamos a su servicio](https://github.com/marco-canas/calculo/blob/main/images/student_images/calculo_integral_2024-02-08.jpeg?raw=true)"
   ]
  },
  {
   "cell_type": "markdown",
   "id": "85f20507",
   "metadata": {},
   "source": [
    "Estos estudiantes son la razón de mi servicio docente:\n",
    "\n",
    "<img src = 'https://github.com/marco-canas/calculo/blob/main/images/student_images/emotiva_20230616.jpg?raw=true'>"
   ]
  },
  {
   "attachments": {},
   "cell_type": "markdown",
   "id": "e0c5b198",
   "metadata": {
    "slideshow": {
     "slide_type": "slide"
    }
   },
   "source": [
    "## [Video de apoyo a la lectura interactiva y experimental de este cuaderno](https://www.youtube.com/watch?v=36vinwhMu-0)"
   ]
  },
  {
   "attachments": {},
   "cell_type": "markdown",
   "id": "41e82203",
   "metadata": {
    "slideshow": {
     "slide_type": "slide"
    }
   },
   "source": [
    "## [Vínculo al programa del curso:  ](https://github.com/marco-canas/calculo/blob/main/programa_calculo_Integral_ingenieria_agropecuaria.docx)\n",
    "\n"
   ]
  },
  {
   "attachments": {},
   "cell_type": "markdown",
   "id": "d11ab06d",
   "metadata": {
    "slideshow": {
     "slide_type": "slide"
    }
   },
   "source": [
    "Un reconocimiento a mis estudiantes que han construido conmigo este saber pedagógico:\n",
    "\n",
    "<img src = ''> \n",
    "\n"
   ]
  },
  {
   "attachments": {},
   "cell_type": "markdown",
   "id": "5e3936d8",
   "metadata": {
    "slideshow": {
     "slide_type": "slide"
    }
   },
   "source": [
    "# Llamar a lista o tomar asistencia con python o llamar el equipo para la tarea con video y cuaderno Jupyter sobre medición indirecta de grandes alturas con imágenes"
   ]
  },
  {
   "cell_type": "code",
   "execution_count": 2,
   "id": "7604880f",
   "metadata": {
    "slideshow": {
     "slide_type": "slide"
    }
   },
   "outputs": [
    {
     "name": "stdout",
     "output_type": "stream",
     "text": [
      "Llamando a CERVANTES DURAN ANGELICA...\n"
     ]
    }
   ],
   "source": [
    "import pandas as pd  # inportando la librería util para el procesamiento de datos. \n",
    "import random\n",
    "\n",
    "# Cargar la lista de estudiantes desde la URL\n",
    "url = 'https://raw.githubusercontent.com/marco-canas/groups_list/main/calculo_integral.csv'\n",
    "estudiantes = pd.read_csv(url)\n",
    "\n",
    "# Función para llamar a un estudiante aleatoriamente y registrar su nota de seguimiento\n",
    "def llamar_estudiante():\n",
    "    estudiante_aleatorio = random.choice(estudiantes['Nombre'])\n",
    "    print(f\"Llamando a {estudiante_aleatorio}...\")\n",
    "    \n",
    "    \n",
    "# Llamar a la función para realizar el proceso\n",
    "llamar_estudiante()\n"
   ]
  },
  {
   "attachments": {},
   "cell_type": "markdown",
   "id": "ca46c23b",
   "metadata": {
    "slideshow": {
     "slide_type": "slide"
    }
   },
   "source": [
    "# Modelo general de clase: [aula invertida](https://www3.gobiernodecanarias.org/medusa/ecoescuela/pedagotic/aprendizaje-invertido-flipped-classroom/)\n"
   ]
  },
  {
   "attachments": {},
   "cell_type": "markdown",
   "id": "79c35435",
   "metadata": {
    "slideshow": {
     "slide_type": "slide"
    }
   },
   "source": [
    "## Fomento de la lectura literaria asociada a Ingeniería agropecuaria y licenciatura en Matemáticas\n",
    "\n",
    "\n",
    "[MARSHALL ROSENBERG](https://udeaeduco-my.sharepoint.com/:b:/g/personal/marco_canas_udea_edu_co/Efb_5fC50D5JnA4BzTKzgsIB9UeMjgs1kCU-sROZDlWTGw?e=gjRMdZ)\n"
   ]
  },
  {
   "cell_type": "markdown",
   "id": "6eadac9a",
   "metadata": {},
   "source": [
    "\n",
    "### Introducción\n"
   ]
  },
  {
   "cell_type": "markdown",
   "id": "e70fc1d8",
   "metadata": {},
   "source": [
    "Como estoy plenamente convencido de que forma parte intrínseca de nuestra naturaleza sentirnos satisfechos cuando damos y recibimos algo de manera compasiva o solidaria, hay dos preguntas que me han preocupado durante la mayor parte de mi vida. "
   ]
  },
  {
   "cell_type": "markdown",
   "id": "24fb4a12",
   "metadata": {},
   "source": [
    "¿Qué ocurre que nos desconecta de nuestra naturaleza solidaria\n",
    "y nos lleva a comportarnos de manera violenta y abusiva? Y a la inversa, ¿por qué\n",
    "algunas personas son consecuentes con esta actitud solidaria incluso en las circunstancias más adversas?\n",
    "Mi preocupación por estas preguntas se remonta a mi infancia, al verano de\n",
    "1943, cuando mi familia se mudó a Detroit (Michigan). Dos semanas después de\n",
    "haber llegado, un incidente en un parque público desencadenó un enfrentamiento racial. Durante los días que siguieron al hecho fueron asesinadas más de cuarenta personas. El barrio donde vivíamos estaba situado en el centro mismo del estallido de violencia, lo cual nos obligó a permanecer tres días encerrados en nuestra casa.\n"
   ]
  },
  {
   "cell_type": "markdown",
   "id": "5954faf5",
   "metadata": {},
   "source": [
    "Cuando terminaron los disturbios y empezaron las clases, descubrí que un apellido puede ser tan peligroso como el color de la piel. El primer día, cuando el maestro pronunció mi nombre, dos chicos me miraron fijamente y murmuraron entre dientes: «¿Eres un kike?», dijeron. No conocía la palabra ni sabía que algunas personas la usan de manera despectiva para referirse a los judíos. A la salida de clase, los dos chicos me estaban esperando y, de un empujón, me derribaron al suelo y me dieron una paliza.\n"
   ]
  },
  {
   "cell_type": "markdown",
   "id": "f1f654c1",
   "metadata": {},
   "source": [
    "Desde aquel verano del año 1943, he estado analizando las dos preguntas que a lo largo de este libro, como en toda su obra sobre comunicación no violenta, Marshall Rosenberg utiliza con frecuencia el término \"compasión\". Lo hace apelando al profundo impulso de humanidad\n",
    "común que existe en los seres humanos cuando nos comunicamos sin violencia. Este significado se\n",
    "diferencia del uso habitual en castellano que asocia la compasión con la conmiseración y la lástima\n",
    "frente al sufrimiento de los demás. (N. de la T.)\n"
   ]
  },
  {
   "attachments": {},
   "cell_type": "markdown",
   "id": "96775931",
   "metadata": {
    "slideshow": {
     "slide_type": "slide"
    }
   },
   "source": [
    "## Título de la clase: Antidiferenciación o integración indefinida\n",
    "\n"
   ]
  },
  {
   "attachments": {},
   "cell_type": "markdown",
   "id": "1d38dd4e",
   "metadata": {
    "slideshow": {
     "slide_type": "slide"
    }
   },
   "source": [
    "### Objetivo de aprendizaje (Enunciar, de manera corta sencilla y clara para todos los asistentes)\n",
    "\n",
    "**Objetivos:**\n",
    "1. Comprender el concepto de antidiferenciación en el contexto del cálculo integral.\n",
    "2. Familiarizarse con la sintaxis y funcionalidades de la librería Sympy en Python para realizar cálculos simbólicos de integración indefinida.\n",
    "3. Aplicar Sympy para realizar operaciones de antidiferenciación y resolver problemas de cálculo integral.\n"
   ]
  },
  {
   "attachments": {},
   "cell_type": "markdown",
   "id": "540f0ec1",
   "metadata": {
    "slideshow": {
     "slide_type": "slide"
    }
   },
   "source": [
    "## Cuestionario para realizar labores de memorización, observación y síntesis de la información (Además de diagnóstico)\n",
    "\n",
    "Aquí tienes un cuestionario para evaluar los presaberes de los estudiantes en relación con los objetivos de aprendizaje establecidos:\n",
    "\n",
    "**Cuestionario sobre Antidiferenciación y Sympy en Python**\n",
    "\n",
    "**Instrucciones:** Responde las siguientes preguntas seleccionando la opción que consideres correcta. No hay penalización por respuestas incorrectas. \n",
    "\n",
    "1. ¿Cuál es el concepto de antidiferenciación en el contexto del cálculo integral?\n",
    "   a) El proceso de encontrar la derivada de una función.\n",
    "   b) El proceso de encontrar una función cuya derivada sea una función dada.\n",
    "   c) El proceso de calcular el área bajo una curva.\n",
    "   d) Ninguna de las anteriores.\n",
    "\n",
    "   **Respuesta correcta:** b) El proceso de encontrar una función cuya derivada sea una función dada.\n",
    "\n",
    "2. ¿Qué es Sympy?\n",
    "   a) Una librería de Python para realizar cálculos numéricos.\n",
    "   b) Una librería de Python para realizar cálculos simbólicos.\n",
    "   c) Una función de Python para realizar gráficos de funciones matemáticas.\n",
    "   d) Ninguna de las anteriores.\n",
    "\n",
    "   **Respuesta correcta:** b) Una librería de Python para realizar cálculos simbólicos.\n",
    "\n",
    "3. ¿Cuál es el propósito principal de la librería Sympy en Python?\n",
    "   a) Realizar cálculos simbólicos, incluida la integración indefinida.\n",
    "   b) Realizar cálculos numéricos, como sumas y productos.\n",
    "   c) Realizar operaciones de entrada y salida de datos en Python.\n",
    "   d) Ninguna de las anteriores.\n",
    "\n",
    "   **Respuesta correcta:** a) Realizar cálculos simbólicos, incluida la integración indefinida.\n",
    "\n",
    "4. ¿Cuál es la sintaxis correcta en Sympy para definir una variable simbólica?\n",
    "   a) `x = Symbol('x')`\n",
    "   b) `x = sympy.var('x')`\n",
    "   c) `x = sym.Symbol('x')`\n",
    "   d) `x = sympy.symbol('x')`\n",
    "\n",
    "   **Respuesta correcta:** a) `x = Symbol('x')`\n",
    "\n",
    "5. ¿Qué función de Sympy se utiliza para realizar la integración indefinida?\n",
    "   a) `sympy.integrate()`\n",
    "   b) `sympy.derivative()`\n",
    "   c) `sympy.integral()`\n",
    "   d) `sympy.antiderivative()`\n",
    "\n",
    "   **Respuesta correcta:** c) `sympy.integral()`\n",
    "\n",
    "6. ¿Cuál es la diferencia entre la integración definida e indefinida?\n",
    "   a) La integración definida tiene límites de integración, mientras que la integración indefinida no los tiene.\n",
    "   b) La integración indefinida tiene límites de integración, mientras que la integración definida no los tiene.\n",
    "   c) La integración definida se realiza numéricamente, mientras que la integración indefinida se realiza simbólicamente.\n",
    "   d) No hay diferencia entre la integración definida e indefinida.\n",
    "\n",
    "   **Respuesta correcta:** a) La integración definida tiene límites de integración, mientras que la integración indefinida no los tiene.\n",
    "\n",
    "7. ¿Cuál es el símbolo utilizado para representar la integral indefinida?\n",
    "   a) ∫\n",
    "   b) ∑\n",
    "   c) ∂\n",
    "   d) ∆\n",
    "\n",
    "   **Respuesta correcta:** a) ∫\n",
    "\n",
    "8. ¿Qué significa el término \"constante de integración\" en el contexto de la antidiferenciación?\n",
    "   a) Es una constante que se agrega al resultado de una integral definida.\n",
    "   b) Es una constante que se agrega al resultado de una integral indefinida.\n",
    "   c) Es una constante que se multiplica por el resultado de una integral definida.\n",
    "   d) Es una constante que se multiplica por el resultado de una integral indefinida.\n",
    "\n",
    "   **Respuesta correcta:** b) Es una constante que se agrega al resultado de una integral indefinida.\n",
    "\n",
    "Estas preguntas deberían ayudarte a evaluar los conocimientos previos de tus estudiantes en relación con los objetivos de aprendizaje establecidos para la clase de Antidiferenciación utilizando Sympy en Python."
   ]
  },
  {
   "attachments": {},
   "cell_type": "markdown",
   "id": "ca7261b1",
   "metadata": {
    "slideshow": {
     "slide_type": "slide"
    }
   },
   "source": [
    "## Establecimiento de prerrequisitos conceptuales para alcanzar el objetivo de aprendizaje trazado.   \n",
    "\n",
    "(Elabore una lista de preguntas al rededor de los conceptos que consideres necesarios para empezar la clase).  \n",
    "\n",
    "Aquí tienes una lista de prerrequisitos conceptuales que los estudiantes deben tener antes de tomar la clase sobre Antidiferenciación con Sympy en Python:\n",
    "\n",
    "1. **Conocimiento básico de cálculo diferencial:** Los estudiantes deben comprender los conceptos fundamentales del cálculo diferencial, incluyendo la derivación de funciones, reglas de derivación (como la regla del producto, regla del cociente y regla de la cadena), así como la interpretación geométrica de la derivada.\n",
    "\n",
    "2. **Entendimiento de funciones:** Deben estar familiarizados con el concepto de función matemática, su definición, dominio, rango y cómo evaluar funciones en distintos puntos.\n",
    "\n",
    "3. **Comprensión de límites:** Los estudiantes deben comprender el concepto de límite y su relación con la derivada. Deben entender cómo determinar límites y su importancia en el cálculo.\n",
    "\n",
    "4. **Integración definida:** Deben tener conocimientos básicos sobre la integración definida y su interpretación geométrica como el cálculo del área bajo una curva. Deben entender cómo calcular integrales definidas utilizando sumas de Riemann y cómo los límites de integración afectan al resultado.\n"
   ]
  },
  {
   "cell_type": "markdown",
   "id": "6af9c454",
   "metadata": {},
   "source": [
    "\n",
    "5. **Álgebra elemental:** Los estudiantes deben estar cómodos con operaciones algebraicas básicas, como la simplificación de expresiones algebraicas, factorización, resolución de ecuaciones y manipulación de exponentes y radicales.\n",
    "\n",
    "6. **Conocimientos básicos de Python:** Aunque no es estrictamente necesario, tener conocimientos básicos de programación en Python sería útil, especialmente en relación con la sintaxis y el uso de funciones en Python.\n",
    "\n",
    "7. **Interés en aprender Sympy:** Los estudiantes deben estar motivados para aprender una nueva herramienta computacional como Sympy para realizar cálculos simbólicos y entender su utilidad en el contexto del cálculo integral.\n",
    "\n",
    "Estos prerrequisitos conceptuales proporcionan una base sólida para que los estudiantes comprendan los conceptos y técnicas que se enseñarán en la clase sobre Antidiferenciación con Sympy en Python."
   ]
  },
  {
   "attachments": {},
   "cell_type": "markdown",
   "id": "2298e976",
   "metadata": {
    "slideshow": {
     "slide_type": "slide"
    }
   },
   "source": [
    "# Para el diseño de la clase tenga en cuenta algunos problemas de aprendizaje"
   ]
  },
  {
   "cell_type": "markdown",
   "id": "523d3acf",
   "metadata": {
    "slideshow": {
     "slide_type": "slide"
    }
   },
   "source": [
    "Aquí tienes una lista de problemas de aprendizaje para abordar la estructura conceptual de la clase sobre Antidiferenciación con Sympy en Python, junto con sugerencias de solución:\n",
    "\n",
    "1. **Problema: Concepto de Antidiferenciación**\n",
    "   - Descripción: Pregunta sobre el concepto de antidiferenciación y su relación con el cálculo integral.\n",
    "   - Sugerencia de solución: Proporciona ejemplos de funciones y pide a los estudiantes que encuentren las funciones originales a partir de sus derivadas conocidas.\n",
    "\n",
    "2. **Problema: Uso de Sympy para Antidiferenciación**\n",
    "   - Descripción: Pregunta sobre cómo utilizar Sympy para realizar operaciones de antidiferenciación.\n",
    "   - Sugerencia de solución: Proporciona a los estudiantes funciones derivadas y pídeles que utilicen Sympy para encontrar las funciones originales. Guíalos a través del proceso paso a paso.\n",
    "\n",
    "3. **Problema: Aplicaciones de la Antidiferenciación**\n",
    "   - Descripción: Proporciona problemas de aplicación que requieran el uso de la antidiferenciación para resolver situaciones del mundo real.\n",
    "   - Sugerencia de solución: Proporciona problemas de optimización, tales como encontrar áreas bajo curvas, calcular volúmenes de sólidos de revolución, o determinar la tasa de cambio de una función.\n",
    "\n",
    "4. **Problema: Integración Definida vs. Indefinida**\n",
    "   - Descripción: Pregunta sobre las diferencias entre la integración definida e indefinida.\n",
    "   - Sugerencia de solución: Pide a los estudiantes que expliquen la diferencia entre ambos tipos de integración y proporciona ejemplos de cada uno para su comparación.\n",
    "\n",
    "5. **Problema: Sintaxis de Sympy**\n",
    "   - Descripción: Pregunta sobre la sintaxis correcta para utilizar Sympy en Python.\n",
    "   - Sugerencia de solución: Proporciona código en Python con errores de sintaxis y pide a los estudiantes que los corrijan, o pide que escriban expresiones simbólicas en Sympy para realizar cálculos específicos.\n",
    "\n",
    "6. **Problema: Interpretación Geométrica de la Antidiferenciación**\n",
    "   - Descripción: Pregunta sobre cómo interpretar geométricamente el resultado de una antidiferenciación.\n",
    "   - Sugerencia de solución: Proporciona gráficos de funciones y pide a los estudiantes que expliquen el significado de la función original y su derivada en términos de la gráfica.\n",
    "\n",
    "7. **Problema: Constante de Integración**\n",
    "   - Descripción: Pregunta sobre el papel de la constante de integración en la antidiferenciación.\n",
    "   - Sugerencia de solución: Proporciona ejemplos de funciones con constantes de integración y pide a los estudiantes que expliquen su significado y cómo determinarlas.\n",
    "\n",
    "8. **Problema: Aplicaciones Prácticas de Sympy en Python**\n",
    "   - Descripción: Pregunta sobre cómo Sympy puede ser utilizado para resolver problemas más complejos de cálculo integral.\n",
    "   - Sugerencia de solución: Proporciona problemas desafiantes que requieran el uso de Sympy para resolver y anima a los estudiantes a experimentar con diferentes funciones y métodos disponibles en la librería.\n",
    "\n",
    "Estos problemas de aprendizaje ayudarán a los estudiantes a consolidar su comprensión de los conceptos fundamentales y a desarrollar sus habilidades en el uso de Sympy para la antidiferenciación en Python."
   ]
  },
  {
   "cell_type": "markdown",
   "id": "5ca72c5b",
   "metadata": {},
   "source": [
    "# Vocabulario en inglés asociado a la clase\n",
    "\n",
    "* deprecation warning: Advertencia de desuso. \n",
    "* Successfully installed: instalado exitosamente. \n",
    "* Module: Módulo\n",
    "* Found: hallar\n",
    "* Module not found error: Error de módulo no encontrado. \n",
    "* "
   ]
  },
  {
   "attachments": {},
   "cell_type": "markdown",
   "id": "a40a4704",
   "metadata": {
    "slideshow": {
     "slide_type": "slide"
    }
   },
   "source": [
    "## Secuencia conceptual introductoria a la clase"
   ]
  },
  {
   "cell_type": "code",
   "execution_count": 10,
   "id": "77899730",
   "metadata": {},
   "outputs": [
    {
     "data": {
      "image/png": "[encoded data removed]",
      "text/plain": [
       "<Figure size 1200x800 with 1 Axes>"
      ]
     },
     "metadata": {},
     "output_type": "display_data"
    }
   ],
   "source": [
    "# Mapa conceptual \n",
    "\n",
    "# Mapa conceptual de la clase\n",
    "import networkx as nx \n",
    "import matplotlib.pyplot as plt \n",
    "\n",
    "plt.figure(figsize = (12, 8))\n",
    "G = nx.DiGraph()\n",
    "\n",
    "# Agregar lísta de conceptos\n",
    "c1 = 'Antidiferenciación'\n",
    "c2 = 'Derivación'\n",
    "\n",
    "\n",
    "lista_conceptos = [c1, c2]\n",
    "\n",
    "G.add_nodes_from(lista_conceptos)\n",
    "\n",
    "# Agregar las flechas de vinculación de conceptos\n",
    "\n",
    "pares_conceptos_vinculados = [(c1, c2), \\\n",
    "                              ('','')]\n",
    "\n",
    "G.add_edges_from(pares_conceptos_vinculados)\n",
    "\n",
    "pos = nx.spring_layout(G, seed = 513)\n",
    "\n",
    "nx.draw(G, pos, with_labels = True, node_size = 12_000 )\n",
    "\n",
    "plt.savefig('.jpg')"
   ]
  },
  {
   "attachments": {},
   "cell_type": "markdown",
   "id": "12cb2994",
   "metadata": {
    "slideshow": {
     "slide_type": "slide"
    }
   },
   "source": [
    "Hola Chat GPT: dame el diseño de un seminario para la enseñanza del concepto de antidiferenciación en cálculo integral, donde se utilice a python, y en particular a sympy como metodología y recurso de enseñanza"
   ]
  },
  {
   "cell_type": "markdown",
   "id": "baa9d9ae",
   "metadata": {},
   "source": [
    "# Estructura del seminario de enseñanza del concepto de antidiferenciación\n",
    "\n",
    "¡Claro! A continuación, te proporciono un diseño general para un seminario sobre el concepto de antidiferenciación en cálculo integral utilizando Python y la librería Sympy como metodología y recurso de enseñanza.\n"
   ]
  },
  {
   "cell_type": "markdown",
   "id": "1392b521",
   "metadata": {},
   "source": [
    "\n",
    "# **Título del Seminario:** Introducción a la Antidiferenciación con Python y Sympy.\n"
   ]
  },
  {
   "cell_type": "markdown",
   "id": "cd8478fd",
   "metadata": {},
   "source": [
    "\n",
    "**Duración:** 2-3 horas.\n",
    "\n",
    "**Objetivos:**\n",
    "1. Comprender el concepto de antidiferenciación en el contexto del cálculo integral.\n",
    "2. Familiarizarse con la sintaxis y funcionalidades de la librería Sympy en Python para realizar cálculos simbólicos.\n",
    "3. Aplicar Sympy para realizar operaciones de antidiferenciación y resolver problemas de cálculo integral.\n"
   ]
  },
  {
   "cell_type": "markdown",
   "id": "b03342ec",
   "metadata": {},
   "source": [
    "\n",
    "**Estructura del Seminario:**\n",
    "\n",
    "1. **Introducción (15 minutos)**\n",
    "   - Presentación del seminario y los objetivos que se buscarán alcanzar.\n",
    "   - Explicación del concepto de cálculo integral y su relación con la antidiferenciación.\n",
    "   - Breve [presentación de la librería Sympy](https://docs.sympy.org/latest/tutorials/intro-tutorial/index.html#intro-tutorial) y sus ventajas para realizar cálculos simbólicos.\n"
   ]
  },
  {
   "cell_type": "markdown",
   "id": "ba43c5c9",
   "metadata": {},
   "source": [
    "\n",
    "2. **Sintaxis básica de Sympy (30 minutos)**\n",
    "   - Instalación de Sympy y configuración del entorno.\n",
    "   - Creación y manipulación de símbolos y expresiones matemáticas en Sympy.\n",
    "   - Uso de funciones y operaciones básicas en Sympy para cálculos simbólicos.\n",
    "\n",
    "3. **Antidiferenciación simple (45 minutos)**\n",
    "   - Explicación de la función `integrate` de Sympy para realizar antidiferenciación.\n",
    "   - Ejemplos de antidiferenciación de funciones polinómicas y trigonométricas simples.\n",
    "   - Resolución de ejercicios prácticos de antidiferenciación.\n",
    "\n",
    "4. **Antidiferenciación avanzada (45 minutos)**\n",
    "   - Aplicación de la regla de sustitución para resolver integrales más complejas.\n",
    "   - Uso de Sympy para evaluar integrales definidas.\n",
    "   - Resolución de problemas prácticos utilizando la integral indefinida y definida.\n",
    "\n",
    "5. **Aplicaciones en problemas del mundo real (15 minutos)**\n",
    "   - Ejemplos de cómo la antidiferenciación se aplica en situaciones prácticas.\n",
    "   - Casos de uso en ciencias, ingeniería, economía y otras áreas.\n",
    "\n",
    "6. **Conclusiones y cierre (10 minutos)**\n",
    "   - Recapitulación de los conceptos clave aprendidos en el seminario.\n",
    "   - Invitación a explorar más sobre Sympy y el cálculo integral en Python.\n",
    "   - Espacio para preguntas y respuestas.\n"
   ]
  },
  {
   "cell_type": "markdown",
   "id": "150fd8e2",
   "metadata": {},
   "source": [
    "\n",
    "**Recursos necesarios:**\n",
    "- Proyector o pantalla para mostrar la presentación.\n",
    "- Computadoras con Python y Sympy instalados para los participantes (idealmente, ya configuradas con el entorno).\n",
    "- Material de apoyo, como ejercicios y ejemplos prácticos impresos o en formato digital.\n"
   ]
  },
  {
   "cell_type": "markdown",
   "id": "45c713d0",
   "metadata": {},
   "source": [
    "\n",
    "**Observaciones:**\n",
    "- Se sugiere que los participantes tengan conocimientos previos de cálculo diferencial básico.\n",
    "- El enfoque práctico con ejemplos y ejercicios permitirá a los participantes adquirir confianza en el uso de Sympy y la resolución de problemas de cálculo integral.\n"
   ]
  },
  {
   "cell_type": "markdown",
   "id": "e2296d40",
   "metadata": {},
   "source": [
    "\n",
    "Este diseño de seminario tiene como objetivo proporcionar una introducción práctica al concepto de antidiferenciación y permitir a los participantes utilizar Python y Sympy como herramientas para comprender y resolver problemas de cálculo integral. Puedes adaptar y modificar el contenido según las necesidades y conocimientos de la audiencia. ¡Espero que sea útil para tu taller sobre este tema!"
   ]
  },
  {
   "cell_type": "markdown",
   "id": "79943cea",
   "metadata": {},
   "source": [
    "# Desarrollo de este seminario"
   ]
  },
  {
   "cell_type": "markdown",
   "id": "37777335",
   "metadata": {},
   "source": [
    "[Página 197 del Purcell (Tema de antidiferenciación)](https://github.com/marco-canas/calculo/blob/main/referents/purcell/purcell_calculo.pdf) "
   ]
  },
  {
   "cell_type": "markdown",
   "id": "a8e51544",
   "metadata": {},
   "source": [
    "# La primera regla de integración que vemos"
   ]
  },
  {
   "cell_type": "code",
   "execution_count": 2,
   "id": "3d5700fd",
   "metadata": {},
   "outputs": [
    {
     "name": "stdout",
     "output_type": "stream",
     "text": [
      "x\n",
      "x**2/2\n",
      "x**3/3\n",
      "x**4/4\n",
      "x**5/5\n",
      "Piecewise((x**(n + 1)/(n + 1), Ne(n, -1)), (log(x), True))\n"
     ]
    }
   ],
   "source": [
    "from sympy import * \n",
    "\n",
    "x, n = var('x, n')\n",
    "\n",
    "lista_de_potencias_de_x = [1, x, x**2, x**3, x**4, x**n]\n",
    "\n",
    "for potencia in lista_de_potencias_de_x:\n",
    "    print(integrate(potencia, x))"
   ]
  },
  {
   "cell_type": "code",
   "execution_count": null,
   "id": "cb79fd50",
   "metadata": {},
   "outputs": [],
   "source": []
  },
  {
   "cell_type": "markdown",
   "id": "2094ad4f",
   "metadata": {},
   "source": [
    "# [Ejemplo de integración con simbolab](https://www.youtube.com/watch?v=tmCq-TpqMjg)"
   ]
  },
  {
   "cell_type": "code",
   "execution_count": null,
   "id": "24dc3e3e",
   "metadata": {},
   "outputs": [],
   "source": []
  },
  {
   "cell_type": "code",
   "execution_count": null,
   "id": "6051886b",
   "metadata": {},
   "outputs": [],
   "source": []
  },
  {
   "attachments": {},
   "cell_type": "markdown",
   "id": "1ccfb67e",
   "metadata": {
    "slideshow": {
     "slide_type": "slide"
    }
   },
   "source": [
    "# Visualizaciones tabulares y gráficas"
   ]
  },
  {
   "attachments": {},
   "cell_type": "markdown",
   "id": "0631fb05",
   "metadata": {
    "slideshow": {
     "slide_type": "slide"
    }
   },
   "source": [
    "## Visualización gráfica con plotly"
   ]
  },
  {
   "cell_type": "code",
   "execution_count": 3,
   "id": "d1bff0f9",
   "metadata": {
    "slideshow": {
     "slide_type": "slide"
    }
   },
   "outputs": [],
   "source": []
  },
  {
   "cell_type": "code",
   "execution_count": 4,
   "id": "6009af5a",
   "metadata": {
    "slideshow": {
     "slide_type": "slide"
    }
   },
   "outputs": [
    {
     "data": {
      "application/vnd.plotly.v1+json": {
       "config": {
        "plotlyServerURL": "https://plot.ly"
       },
       "data": [
        {
         "hovertemplate": "abscisas=%{x}<br>ordenadas=%{y}<extra></extra>",
         "legendgroup": "",
         "marker": {
          "color": "#636efa",
          "symbol": "circle"
         },
         "mode": "markers",
         "name": "",
         "orientation": "v",
         "showlegend": false,
         "type": "scatter",
         "x": [
          1,
          2,
          3
         ],
         "xaxis": "x",
         "y": [
          1,
          2,
          3
         ],
         "yaxis": "y"
        }
       ],
       "layout": {
        "legend": {
         "tracegroupgap": 0
        },
        "template": {
         "data": {
          "bar": [
           {
            "error_x": {
             "color": "#2a3f5f"
            },
            "error_y": {
             "color": "#2a3f5f"
            },
            "marker": {
             "line": {
              "color": "#E5ECF6",
              "width": 0.5
             },
             "pattern": {
              "fillmode": "overlay",
              "size": 10,
              "solidity": 0.2
             }
            },
            "type": "bar"
           }
          ],
          "barpolar": [
           {
            "marker": {
             "line": {
              "color": "#E5ECF6",
              "width": 0.5
             },
             "pattern": {
              "fillmode": "overlay",
              "size": 10,
              "solidity": 0.2
             }
            },
            "type": "barpolar"
           }
          ],
          "carpet": [
           {
            "aaxis": {
             "endlinecolor": "#2a3f5f",
             "gridcolor": "white",
             "linecolor": "white",
             "minorgridcolor": "white",
             "startlinecolor": "#2a3f5f"
            },
            "baxis": {
             "endlinecolor": "#2a3f5f",
             "gridcolor": "white",
             "linecolor": "white",
             "minorgridcolor": "white",
             "startlinecolor": "#2a3f5f"
            },
            "type": "carpet"
           }
          ],
          "choropleth": [
           {
            "colorbar": {
             "outlinewidth": 0,
             "ticks": ""
            },
            "type": "choropleth"
           }
          ],
          "contour": [
           {
            "colorbar": {
             "outlinewidth": 0,
             "ticks": ""
            },
            "colorscale": [
             [
              0,
              "#0d0887"
             ],
             [
              0.1111111111111111,
              "#46039f"
             ],
             [
              0.2222222222222222,
              "#7201a8"
             ],
             [
              0.3333333333333333,
              "#9c179e"
             ],
             [
              0.4444444444444444,
              "#bd3786"
             ],
             [
              0.5555555555555556,
              "#d8576b"
             ],
             [
              0.6666666666666666,
              "#ed7953"
             ],
             [
              0.7777777777777778,
              "#fb9f3a"
             ],
             [
              0.8888888888888888,
              "#fdca26"
             ],
             [
              1,
              "#f0f921"
             ]
            ],
            "type": "contour"
           }
          ],
          "contourcarpet": [
           {
            "colorbar": {
             "outlinewidth": 0,
             "ticks": ""
            },
            "type": "contourcarpet"
           }
          ],
          "heatmap": [
           {
            "colorbar": {
             "outlinewidth": 0,
             "ticks": ""
            },
            "colorscale": [
             [
              0,
              "#0d0887"
             ],
             [
              0.1111111111111111,
              "#46039f"
             ],
             [
              0.2222222222222222,
              "#7201a8"
             ],
             [
              0.3333333333333333,
              "#9c179e"
             ],
             [
              0.4444444444444444,
              "#bd3786"
             ],
             [
              0.5555555555555556,
              "#d8576b"
             ],
             [
              0.6666666666666666,
              "#ed7953"
             ],
             [
              0.7777777777777778,
              "#fb9f3a"
             ],
             [
              0.8888888888888888,
              "#fdca26"
             ],
             [
              1,
              "#f0f921"
             ]
            ],
            "type": "heatmap"
           }
          ],
          "heatmapgl": [
           {
            "colorbar": {
             "outlinewidth": 0,
             "ticks": ""
            },
            "colorscale": [
             [
              0,
              "#0d0887"
             ],
             [
              0.1111111111111111,
              "#46039f"
             ],
             [
              0.2222222222222222,
              "#7201a8"
             ],
             [
              0.3333333333333333,
              "#9c179e"
             ],
             [
              0.4444444444444444,
              "#bd3786"
             ],
             [
              0.5555555555555556,
              "#d8576b"
             ],
             [
              0.6666666666666666,
              "#ed7953"
             ],
             [
              0.7777777777777778,
              "#fb9f3a"
             ],
             [
              0.8888888888888888,
              "#fdca26"
             ],
             [
              1,
              "#f0f921"
             ]
            ],
            "type": "heatmapgl"
           }
          ],
          "histogram": [
           {
            "marker": {
             "pattern": {
              "fillmode": "overlay",
              "size": 10,
              "solidity": 0.2
             }
            },
            "type": "histogram"
           }
          ],
          "histogram2d": [
           {
            "colorbar": {
             "outlinewidth": 0,
             "ticks": ""
            },
            "colorscale": [
             [
              0,
              "#0d0887"
             ],
             [
              0.1111111111111111,
              "#46039f"
             ],
             [
              0.2222222222222222,
              "#7201a8"
             ],
             [
              0.3333333333333333,
              "#9c179e"
             ],
             [
              0.4444444444444444,
              "#bd3786"
             ],
             [
              0.5555555555555556,
              "#d8576b"
             ],
             [
              0.6666666666666666,
              "#ed7953"
             ],
             [
              0.7777777777777778,
              "#fb9f3a"
             ],
             [
              0.8888888888888888,
              "#fdca26"
             ],
             [
              1,
              "#f0f921"
             ]
            ],
            "type": "histogram2d"
           }
          ],
          "histogram2dcontour": [
           {
            "colorbar": {
             "outlinewidth": 0,
             "ticks": ""
            },
            "colorscale": [
             [
              0,
              "#0d0887"
             ],
             [
              0.1111111111111111,
              "#46039f"
             ],
             [
              0.2222222222222222,
              "#7201a8"
             ],
             [
              0.3333333333333333,
              "#9c179e"
             ],
             [
              0.4444444444444444,
              "#bd3786"
             ],
             [
              0.5555555555555556,
              "#d8576b"
             ],
             [
              0.6666666666666666,
              "#ed7953"
             ],
             [
              0.7777777777777778,
              "#fb9f3a"
             ],
             [
              0.8888888888888888,
              "#fdca26"
             ],
             [
              1,
              "#f0f921"
             ]
            ],
            "type": "histogram2dcontour"
           }
          ],
          "mesh3d": [
           {
            "colorbar": {
             "outlinewidth": 0,
             "ticks": ""
            },
            "type": "mesh3d"
           }
          ],
          "parcoords": [
           {
            "line": {
             "colorbar": {
              "outlinewidth": 0,
              "ticks": ""
             }
            },
            "type": "parcoords"
           }
          ],
          "pie": [
           {
            "automargin": true,
            "type": "pie"
           }
          ],
          "scatter": [
           {
            "fillpattern": {
             "fillmode": "overlay",
             "size": 10,
             "solidity": 0.2
            },
            "type": "scatter"
           }
          ],
          "scatter3d": [
           {
            "line": {
             "colorbar": {
              "outlinewidth": 0,
              "ticks": ""
             }
            },
            "marker": {
             "colorbar": {
              "outlinewidth": 0,
              "ticks": ""
             }
            },
            "type": "scatter3d"
           }
          ],
          "scattercarpet": [
           {
            "marker": {
             "colorbar": {
              "outlinewidth": 0,
              "ticks": ""
             }
            },
            "type": "scattercarpet"
           }
          ],
          "scattergeo": [
           {
            "marker": {
             "colorbar": {
              "outlinewidth": 0,
              "ticks": ""
             }
            },
            "type": "scattergeo"
           }
          ],
          "scattergl": [
           {
            "marker": {
             "colorbar": {
              "outlinewidth": 0,
              "ticks": ""
             }
            },
            "type": "scattergl"
           }
          ],
          "scattermapbox": [
           {
            "marker": {
             "colorbar": {
              "outlinewidth": 0,
              "ticks": ""
             }
            },
            "type": "scattermapbox"
           }
          ],
          "scatterpolar": [
           {
            "marker": {
             "colorbar": {
              "outlinewidth": 0,
              "ticks": ""
             }
            },
            "type": "scatterpolar"
           }
          ],
          "scatterpolargl": [
           {
            "marker": {
             "colorbar": {
              "outlinewidth": 0,
              "ticks": ""
             }
            },
            "type": "scatterpolargl"
           }
          ],
          "scatterternary": [
           {
            "marker": {
             "colorbar": {
              "outlinewidth": 0,
              "ticks": ""
             }
            },
            "type": "scatterternary"
           }
          ],
          "surface": [
           {
            "colorbar": {
             "outlinewidth": 0,
             "ticks": ""
            },
            "colorscale": [
             [
              0,
              "#0d0887"
             ],
             [
              0.1111111111111111,
              "#46039f"
             ],
             [
              0.2222222222222222,
              "#7201a8"
             ],
             [
              0.3333333333333333,
              "#9c179e"
             ],
             [
              0.4444444444444444,
              "#bd3786"
             ],
             [
              0.5555555555555556,
              "#d8576b"
             ],
             [
              0.6666666666666666,
              "#ed7953"
             ],
             [
              0.7777777777777778,
              "#fb9f3a"
             ],
             [
              0.8888888888888888,
              "#fdca26"
             ],
             [
              1,
              "#f0f921"
             ]
            ],
            "type": "surface"
           }
          ],
          "table": [
           {
            "cells": {
             "fill": {
              "color": "#EBF0F8"
             },
             "line": {
              "color": "white"
             }
            },
            "header": {
             "fill": {
              "color": "#C8D4E3"
             },
             "line": {
              "color": "white"
             }
            },
            "type": "table"
           }
          ]
         },
         "layout": {
          "annotationdefaults": {
           "arrowcolor": "#2a3f5f",
           "arrowhead": 0,
           "arrowwidth": 1
          },
          "autotypenumbers": "strict",
          "coloraxis": {
           "colorbar": {
            "outlinewidth": 0,
            "ticks": ""
           }
          },
          "colorscale": {
           "diverging": [
            [
             0,
             "#8e0152"
            ],
            [
             0.1,
             "#c51b7d"
            ],
            [
             0.2,
             "#de77ae"
            ],
            [
             0.3,
             "#f1b6da"
            ],
            [
             0.4,
             "#fde0ef"
            ],
            [
             0.5,
             "#f7f7f7"
            ],
            [
             0.6,
             "#e6f5d0"
            ],
            [
             0.7,
             "#b8e186"
            ],
            [
             0.8,
             "#7fbc41"
            ],
            [
             0.9,
             "#4d9221"
            ],
            [
             1,
             "#276419"
            ]
           ],
           "sequential": [
            [
             0,
             "#0d0887"
            ],
            [
             0.1111111111111111,
             "#46039f"
            ],
            [
             0.2222222222222222,
             "#7201a8"
            ],
            [
             0.3333333333333333,
             "#9c179e"
            ],
            [
             0.4444444444444444,
             "#bd3786"
            ],
            [
             0.5555555555555556,
             "#d8576b"
            ],
            [
             0.6666666666666666,
             "#ed7953"
            ],
            [
             0.7777777777777778,
             "#fb9f3a"
            ],
            [
             0.8888888888888888,
             "#fdca26"
            ],
            [
             1,
             "#f0f921"
            ]
           ],
           "sequentialminus": [
            [
             0,
             "#0d0887"
            ],
            [
             0.1111111111111111,
             "#46039f"
            ],
            [
             0.2222222222222222,
             "#7201a8"
            ],
            [
             0.3333333333333333,
             "#9c179e"
            ],
            [
             0.4444444444444444,
             "#bd3786"
            ],
            [
             0.5555555555555556,
             "#d8576b"
            ],
            [
             0.6666666666666666,
             "#ed7953"
            ],
            [
             0.7777777777777778,
             "#fb9f3a"
            ],
            [
             0.8888888888888888,
             "#fdca26"
            ],
            [
             1,
             "#f0f921"
            ]
           ]
          },
          "colorway": [
           "#636efa",
           "#EF553B",
           "#00cc96",
           "#ab63fa",
           "#FFA15A",
           "#19d3f3",
           "#FF6692",
           "#B6E880",
           "#FF97FF",
           "#FECB52"
          ],
          "font": {
           "color": "#2a3f5f"
          },
          "geo": {
           "bgcolor": "white",
           "lakecolor": "white",
           "landcolor": "#E5ECF6",
           "showlakes": true,
           "showland": true,
           "subunitcolor": "white"
          },
          "hoverlabel": {
           "align": "left"
          },
          "hovermode": "closest",
          "mapbox": {
           "style": "light"
          },
          "paper_bgcolor": "white",
          "plot_bgcolor": "#E5ECF6",
          "polar": {
           "angularaxis": {
            "gridcolor": "white",
            "linecolor": "white",
            "ticks": ""
           },
           "bgcolor": "#E5ECF6",
           "radialaxis": {
            "gridcolor": "white",
            "linecolor": "white",
            "ticks": ""
           }
          },
          "scene": {
           "xaxis": {
            "backgroundcolor": "#E5ECF6",
            "gridcolor": "white",
            "gridwidth": 2,
            "linecolor": "white",
            "showbackground": true,
            "ticks": "",
            "zerolinecolor": "white"
           },
           "yaxis": {
            "backgroundcolor": "#E5ECF6",
            "gridcolor": "white",
            "gridwidth": 2,
            "linecolor": "white",
            "showbackground": true,
            "ticks": "",
            "zerolinecolor": "white"
           },
           "zaxis": {
            "backgroundcolor": "#E5ECF6",
            "gridcolor": "white",
            "gridwidth": 2,
            "linecolor": "white",
            "showbackground": true,
            "ticks": "",
            "zerolinecolor": "white"
           }
          },
          "shapedefaults": {
           "line": {
            "color": "#2a3f5f"
           }
          },
          "ternary": {
           "aaxis": {
            "gridcolor": "white",
            "linecolor": "white",
            "ticks": ""
           },
           "baxis": {
            "gridcolor": "white",
            "linecolor": "white",
            "ticks": ""
           },
           "bgcolor": "#E5ECF6",
           "caxis": {
            "gridcolor": "white",
            "linecolor": "white",
            "ticks": ""
           }
          },
          "title": {
           "x": 0.05
          },
          "xaxis": {
           "automargin": true,
           "gridcolor": "white",
           "linecolor": "white",
           "ticks": "",
           "title": {
            "standoff": 15
           },
           "zerolinecolor": "white",
           "zerolinewidth": 2
          },
          "yaxis": {
           "automargin": true,
           "gridcolor": "white",
           "linecolor": "white",
           "ticks": "",
           "title": {
            "standoff": 15
           },
           "zerolinecolor": "white",
           "zerolinewidth": 2
          }
         }
        },
        "title": {
         "text": "Relación entre $x$ y $y$"
        },
        "xaxis": {
         "anchor": "y",
         "domain": [
          0,
          1
         ],
         "title": {
          "text": "abscisas"
         }
        },
        "yaxis": {
         "anchor": "x",
         "domain": [
          0,
          1
         ],
         "title": {
          "text": "ordenadas"
         }
        }
       }
      }
     },
     "metadata": {},
     "output_type": "display_data"
    }
   ],
   "source": [
    "import pandas as pd \n",
    "import plotly.express as px\n",
    "X = [1, 2, 3]\n",
    "Y = [1,2,3]\n",
    "tabla = pd.DataFrame({'abscisas':X, 'ordenadas':Y})\n",
    "\n",
    "#fig = px.line(tabla,x = tabla.keys()[0], y = tabla.keys()[1], title=r'Relación entre $x$ y $y$')\n",
    "\n",
    "fig = px.scatter(tabla,x = tabla.keys()[0], y = tabla.keys()[1], title=r'Relación entre $x$ y $y$')\n",
    "\n",
    "fig.show()\n",
    "\n",
    "#fig.write_html('relacion_entre_x_e_y.html', auto_open=True)"
   ]
  },
  {
   "attachments": {},
   "cell_type": "markdown",
   "id": "aac04d00",
   "metadata": {
    "slideshow": {
     "slide_type": "slide"
    }
   },
   "source": [
    "<img src = ''>"
   ]
  },
  {
   "attachments": {},
   "cell_type": "markdown",
   "id": "740f3401",
   "metadata": {
    "slideshow": {
     "slide_type": "slide"
    }
   },
   "source": [
    "# Componente de manejo de calculadora Casio 570 asociado al objetivo de aprendizaje de esta clase\n",
    "\n",
    "## [Veremos como realizar la representación tabular de una función con la calculadora Casio 570](https://studio.youtube.com/video/mQtj6Szvhuc/edit)\n",
    "\n"
   ]
  },
  {
   "cell_type": "code",
   "execution_count": null,
   "id": "3cd72835",
   "metadata": {
    "slideshow": {
     "slide_type": "slide"
    }
   },
   "outputs": [],
   "source": []
  },
  {
   "cell_type": "code",
   "execution_count": null,
   "id": "d8a111c4",
   "metadata": {
    "slideshow": {
     "slide_type": "slide"
    }
   },
   "outputs": [],
   "source": []
  },
  {
   "attachments": {},
   "cell_type": "markdown",
   "id": "8a6f7ef9",
   "metadata": {
    "slideshow": {
     "slide_type": "slide"
    }
   },
   "source": [
    "## Tareas para realizar antes de la clase"
   ]
  },
  {
   "attachments": {},
   "cell_type": "markdown",
   "id": "90cae469",
   "metadata": {
    "slideshow": {
     "slide_type": "slide"
    }
   },
   "source": [
    "1. Ver los videos respectivos []()\n",
    "2. Memorizar las definiciones []()\n",
    "3. Sintetizar o resumir la información en mapas conceptuales. []()\n",
    "4. Tareas para incentivar el uso de la calculadora Casio Para ingenieros y licenciados. "
   ]
  },
  {
   "attachments": {},
   "cell_type": "markdown",
   "id": "fccb447c",
   "metadata": {
    "slideshow": {
     "slide_type": "slide"
    }
   },
   "source": [
    "# Tareas para realizar en clase"
   ]
  },
  {
   "attachments": {},
   "cell_type": "markdown",
   "id": "e5c48edf",
   "metadata": {
    "slideshow": {
     "slide_type": "slide"
    }
   },
   "source": [
    "* Modelación matemática \n",
    "* Trabajo en equipos"
   ]
  },
  {
   "attachments": {},
   "cell_type": "markdown",
   "id": "8b6b0112",
   "metadata": {
    "slideshow": {
     "slide_type": "slide"
    }
   },
   "source": [
    "# Tareas para realizar después de la realización de la clase"
   ]
  },
  {
   "attachments": {},
   "cell_type": "markdown",
   "id": "947460e3",
   "metadata": {
    "slideshow": {
     "slide_type": "slide"
    }
   },
   "source": [
    "* Actividades de memorización: \n",
    "  - escucha reiterada de grabaciones de formulas y resultados científicos. \n",
    "  - relectura de notas. \n",
    "  - ejercicios de mayor complejidad.\n",
    "\n",
    "\n",
    "### No olvide asignar las tareas a los estudiantes a través de Google Colab y compartiendole el cuaderno de asignación a su correo institucional con fecha de entrega. [Google Colab](https://colab.research.google.com/?hl=es)   \n",
    "  "
   ]
  },
  {
   "attachments": {},
   "cell_type": "markdown",
   "id": "d34defb9",
   "metadata": {
    "slideshow": {
     "slide_type": "slide"
    }
   },
   "source": [
    "## Asignación individual de tareas semanales "
   ]
  },
  {
   "attachments": {},
   "cell_type": "markdown",
   "id": "0406f442",
   "metadata": {
    "slideshow": {
     "slide_type": "slide"
    }
   },
   "source": [
    "### Tare del 8 de febrero sobre caida de un cuerpo\n",
    "\n",
    "26. ¿Desde qué altura, por arriba de la Tierra, debe dejarse caer una pelota para que llegue al suelo a una velocidad de -136 pies por segundo?"
   ]
  },
  {
   "cell_type": "markdown",
   "id": "8fa385d8",
   "metadata": {},
   "source": [
    "#### Solución dada por chat GPT\n",
    "\n",
    "Para resolver este problema utilizando cálculo diferencial, primero necesitamos entender que la velocidad final de la pelota cuando toca el suelo es -136 pies por segundo. Esta velocidad es la velocidad final de la pelota, pero inicialmente la velocidad es cero cuando se suelta la pelota desde cierta altura. Utilizaremos las ecuaciones de movimiento para encontrar la altura desde la cual se debe soltar la pelota.\n",
    "\n",
    "Las ecuaciones de movimiento son:\n",
    "\n",
    "1. **Velocidad final**: \\( v_f = v_i + at \\)\n",
    "2. **Distancia**: \\( d = v_i t + \\frac{1}{2} a t^2 \\)\n",
    "\n",
    "Donde:\n",
    "- \\( v_f \\) es la velocidad final (-136 pies por segundo).\n",
    "- \\( v_i \\) es la velocidad inicial (0 pies por segundo, ya que se suelta desde el reposo).\n",
    "- \\( a \\) es la aceleración debido a la gravedad (-32 pies por segundo al cuadrado).\n",
    "- \\( t \\) es el tiempo que tarda la pelota en caer.\n",
    "- \\( d \\) es la distancia que cae la pelota (la altura desde la que se deja caer).\n",
    "\n",
    "Para resolver este problema utilizando Sympy en Python, primero definiremos las variables simbólicas necesarias y luego resolveremos la ecuación de la velocidad final para encontrar el tiempo que tarda la pelota en caer. Luego, utilizaremos este tiempo en la ecuación de la distancia para encontrar la altura desde la cual se deja caer la pelota.\n",
    "\n",
    "Aquí está el procedimiento paso a paso:\n",
    "\n",
    "1. Importa la librería Sympy en Python.\n",
    "2. Define las variables simbólicas y establece la aceleración debido a la gravedad.\n",
    "3. Resuelve la ecuación de la velocidad final para encontrar el tiempo \\( t \\) que tarda la pelota en caer.\n",
    "4. Utiliza el tiempo \\( t \\) encontrado en la ecuación de la distancia para encontrar la altura \\( d \\) desde la cual se debe dejar caer la pelota.\n",
    "\n",
    "Ahora, vamos a implementar esto en Python utilizando Sympy:\n",
    "\n",
    "```python\n",
    "import sympy as sp\n",
    "\n",
    "# Paso 2: Define las variables simbólicas y establece la aceleración debido a la gravedad\n",
    "t = sp.Symbol('t', positive=True)  # Tiempo\n",
    "a = -32  # Aceleración debido a la gravedad (en pies por segundo al cuadrado)\n",
    "\n",
    "# Paso 3: Resuelve la ecuación de la velocidad final para encontrar el tiempo t\n",
    "v_f = -136  # Velocidad final (en pies por segundo)\n",
    "v_i = 0     # Velocidad inicial (en pies por segundo)\n",
    "eq_velocity = sp.Eq(v_f, v_i + a * t)  # Ecuación de la velocidad final\n",
    "time_solution = sp.solve(eq_velocity, t)[0]  # Resuelve la ecuación para t\n",
    "\n",
    "# Paso 4: Utiliza el tiempo t encontrado en la ecuación de la distancia para encontrar la altura d\n",
    "distance_eq = v_i * time_solution + (1/2) * a * time_solution**2  # Ecuación de la distancia\n",
    "height_solution = distance_eq.subs(t, time_solution)  # Encuentra la altura substituyendo t en la ecuación de la distancia\n",
    "\n",
    "# Imprime la altura desde la cual se debe dejar caer la pelota\n",
    "print(\"La pelota debe ser soltada desde una altura de aproximadamente\", height_solution, \"pies sobre el suelo.\")\n",
    "```\n",
    "\n",
    "Esto imprimirá la altura desde la cual se debe dejar caer la pelota para que llegue al suelo con una velocidad de -136 pies por segundo."
   ]
  },
  {
   "attachments": {},
   "cell_type": "markdown",
   "id": "ae114e14",
   "metadata": {
    "slideshow": {
     "slide_type": "slide"
    }
   },
   "source": [
    "# Horarios de monitoría y asesoría"
   ]
  },
  {
   "attachments": {},
   "cell_type": "markdown",
   "id": "b1db4b6c",
   "metadata": {
    "slideshow": {
     "slide_type": "slide"
    }
   },
   "source": [
    "## Monitor Manuel SERRANO LÓPEZ\n",
    "\n",
    "email: manuel.serrano1@udea.edu.co"
   ]
  },
  {
   "attachments": {},
   "cell_type": "markdown",
   "id": "39559692",
   "metadata": {
    "slideshow": {
     "slide_type": "slide"
    }
   },
   "source": [
    "### Horario del monitor Manuel de Licenciatura en matemáticas  \n",
    "\n",
    "* Mi horario de asesorías para este semestre es de lunes a jueves horario 8-12\n",
    "* Y bueno, se puede negociar el viernes virtual  de 10-4  o presencial dependiendo la disponibilidad, es decir que si me indican desde días antes que necesitan asesorías yo veo si puedo sacar tiempo ese día para que sea presencial  porque en esos días estaré haciendo un curso virtual pero que no son todos los viernes, entonces por eso."
   ]
  },
  {
   "attachments": {},
   "cell_type": "markdown",
   "id": "4537ef79",
   "metadata": {
    "slideshow": {
     "slide_type": "slide"
    }
   },
   "source": [
    "## Monitor Giovanny Reales"
   ]
  },
  {
   "attachments": {},
   "cell_type": "markdown",
   "id": "a54d2914",
   "metadata": {
    "slideshow": {
     "slide_type": "slide"
    }
   },
   "source": [
    "Está en práctica profesional. \n",
    "\n"
   ]
  },
  {
   "attachments": {},
   "cell_type": "markdown",
   "id": "935a5567",
   "metadata": {
    "slideshow": {
     "slide_type": "slide"
    }
   },
   "source": [
    "## Dificultades de aprendizaje detectados durante la clase"
   ]
  },
  {
   "attachments": {},
   "cell_type": "markdown",
   "id": "3bd7500d",
   "metadata": {
    "slideshow": {
     "slide_type": "slide"
    }
   },
   "source": []
  },
  {
   "attachments": {},
   "cell_type": "markdown",
   "id": "fb9402bb",
   "metadata": {
    "slideshow": {
     "slide_type": "slide"
    }
   },
   "source": [
    "## Estrategias propuestas para la solución de las dificultades de aprendizaje detectadas"
   ]
  },
  {
   "attachments": {},
   "cell_type": "markdown",
   "id": "d437294b",
   "metadata": {
    "slideshow": {
     "slide_type": "slide"
    }
   },
   "source": []
  },
  {
   "attachments": {},
   "cell_type": "markdown",
   "id": "d11570a2",
   "metadata": {
    "slideshow": {
     "slide_type": "slide"
    }
   },
   "source": []
  },
  {
   "attachments": {},
   "cell_type": "markdown",
   "id": "236b43fc",
   "metadata": {
    "slideshow": {
     "slide_type": "slide"
    }
   },
   "source": [
    "## Grabaciones en audio para fomentar la capacidad de memorizar enunciados de teoremas y resultados científicos y la capacidad de parafrasear estos resultados. Y así desarrollar memoria muscular para los comandos comunes. "
   ]
  },
  {
   "attachments": {},
   "cell_type": "markdown",
   "id": "319f2ffa",
   "metadata": {
    "slideshow": {
     "slide_type": "slide"
    }
   },
   "source": [
    "Se dispondrá de un lugar en Vocaroo para albergar archivos de audio de fomento a la memorización, enunciación y parafraseo de los resultados científicos, propiedades, reglas, etc. \n",
    "\n",
    "[Vocaroo](https://vocaroo.com/)\n",
    "\n"
   ]
  },
  {
   "attachments": {},
   "cell_type": "markdown",
   "id": "564fa59d",
   "metadata": {
    "slideshow": {
     "slide_type": "slide"
    }
   },
   "source": [
    "### Comparta sus cuadernos y videos, evidencias de su aprendizaje [aquí](https://forms.office.com/Pages/ResponsePage.aspx?id=IefhmYRxjkmK_7KtTlPBwkanXIs1i1FEujpsZgO6dXpUMEMwTEZVMzEwVVBPTElWNVg5OVEyWUhMUy4u)"
   ]
  },
  {
   "attachments": {},
   "cell_type": "markdown",
   "id": "1a1a3e41",
   "metadata": {
    "slideshow": {
     "slide_type": "slide"
    }
   },
   "source": []
  },
  {
   "attachments": {},
   "cell_type": "markdown",
   "id": "44be6d93",
   "metadata": {
    "slideshow": {
     "slide_type": "slide"
    }
   },
   "source": [
    "# Vocabulary "
   ]
  },
  {
   "attachments": {},
   "cell_type": "markdown",
   "id": "35e2484a",
   "metadata": {
    "slideshow": {
     "slide_type": "slide"
    }
   },
   "source": [
    "1. weekly on wednesday: semanalmente los miércoles.\n",
    "2.  \n",
    "3.  \n",
    "4.  \n",
    "5.  "
   ]
  },
  {
   "attachments": {},
   "cell_type": "markdown",
   "id": "10bce0d0",
   "metadata": {
    "slideshow": {
     "slide_type": "slide"
    }
   },
   "source": [
    "## Referentes "
   ]
  },
  {
   "attachments": {},
   "cell_type": "markdown",
   "id": "1db3c468",
   "metadata": {
    "slideshow": {
     "slide_type": "slide"
    }
   },
   "source": [
    "* [stewart precálculo](https://udeaeduco-my.sharepoint.com/:b:/g/personal/marco_canas_udea_edu_co/ERHIq62I6qFNrmxy6LZb8ZMBci7kUsyNME1nIh9yCBMJ_w?e=0zMSla)  \n",
    "\n",
    "* [stewart cálculo](https://udeaeduco-my.sharepoint.com/:b:/g/personal/marco_canas_udea_edu_co/EZgXZjAp8QxPqOAim2hs6LcBNPLGjSHf-xwYnUVYkwa04w?e=RZdTCy)  \n",
    "\n",
    "* [larson](https://udeaeduco-my.sharepoint.com/:b:/g/personal/marco_canas_udea_edu_co/ES71ChFeO9ZDhW3TwC5Ijk8BjxUK3Pdqz_fjHxTTFAfIAg?e=VDEjfu)\n",
    "\n",
    "* [uzcategui](https://udeaeduco-my.sharepoint.com/:b:/g/personal/marco_canas_udea_edu_co/ETDikm-lVl1Or8XoEo9oyh0BEti9Zs8le-f0D-dBdtZmbA?e=bBsoyQ)\n",
    "\n",
    "* [Cálculo de Purcell](https://udeaeduco-my.sharepoint.com/:b:/g/personal/marco_canas_udea_edu_co/ES60UB4h-QFFqqRQUFmkpWcBIgoLBJeqTfZjNajWNWSeJA?e=9NxjKJ)\n",
    "\n",
    "* [Recomendación de la UNESCO sobre ciencia abierta](https://unesdoc.unesco.org/ark:/48223/pf0000379949_spa)\n",
    "\n",
    "* [Geron, Aurelien. Hands on Machine Learning](https://udeaeduco-my.sharepoint.com/:b:/g/personal/marco_canas_udea_edu_co/Ecet27yjQzZIlT1Y_Bc2erkBUhbeYuIe6HG8i1FYZRlZww?e=gaOjqk)\n",
    "\n",
    "* [McKinney, West. Python for data Analysis.](https://udeaeduco-my.sharepoint.com/:b:/g/personal/marco_canas_udea_edu_co/EVbi5JIeBl9ErbiUnZfGe8YBhNTnZ8sxTK5hjIOPK4UpGw?e=tfkShe)\n",
    "\n",
    "* [ChatGPT](https://openai.com/blog/chatgpt/) \n",
    "\n",
    "* [Fórmulas más comunes en latex](https://wiki.geogebra.org/es/C%C3%B3digo_LaTeX_para_las_f%C3%B3rmulas_m%C3%A1s_comunes) "
   ]
  },
  {
   "attachments": {},
   "cell_type": "markdown",
   "id": "6b9e56a8",
   "metadata": {
    "slideshow": {
     "slide_type": "slide"
    }
   },
   "source": [
    "### [Evaluamos al profesor Marco Cañas Aquí](https://forms.office.com/Pages/ResponsePage.aspx?id=IefhmYRxjkmK_7KtTlPBwkanXIs1i1FEujpsZgO6dXpUREJPV1kxUk1JV1ozTFJIQVNIQjY5WEY3US4u)"
   ]
  },
  {
   "attachments": {},
   "cell_type": "markdown",
   "id": "071afa04",
   "metadata": {
    "slideshow": {
     "slide_type": "slide"
    }
   },
   "source": [
    "## [Evaluación luego de alcanzar estos objetivos de aprendizaje]()"
   ]
  },
  {
   "attachments": {},
   "cell_type": "markdown",
   "id": "10f43536",
   "metadata": {
    "slideshow": {
     "slide_type": "slide"
    }
   },
   "source": [
    "### Continue su aprendizaje en la siguiente clase a través del siguiente [vínculo]()"
   ]
  },
  {
   "attachments": {},
   "cell_type": "markdown",
   "id": "af751e30",
   "metadata": {
    "slideshow": {
     "slide_type": "slide"
    }
   },
   "source": [
    "# Conjeturas pedagógicas fruto de la aplicación del modelo de aprendizaje invertido y del enfoque hacia la ciencia de datos con python\n",
    "\n",
    "1. Todo cálculo o resultado debe ser interpretado en una línea markdown del cuaderno Jupyter, inmediatamente después de la enunciación del resultado y después de la presentación de una tabla o gráfico bidimensional, de tal menera que el estudiante explicite la comprensión verbal del resultado y las inferencias o estrategias que este resultado le sugieren.  \n",
    "\n",
    "2. Debo colocar las conjeturas pedagógicas, que el uso en el aula de [ChatGPT](https://openai.com/blog/chatgpt/) traiga para la enseñanza y el aprendizaje de las matemáticas. \n",
    "\n",
    "3. Promover ciencia abierta en clase de matemáticas puede ser pidiendo a los estudiantes, tomar nota en clase pero en cuadernos Jupyter y entregar siempre al final de cada clase su cuaderno con todas las notas y experimentaciones de clase replicadas. "
   ]
  },
  {
   "attachments": {},
   "cell_type": "markdown",
   "id": "53cc9115",
   "metadata": {
    "slideshow": {
     "slide_type": "slide"
    }
   },
   "source": [
    "## Agradecimientos  \n",
    "\n",
    "Doy gracias a Dios por la vida de mi Hijo Joseph Cañas Osorio y la madurez que ha alcanzado.\n",
    "\n",
    "Y a mi esposa Yasmira por su apoyo, orientación y acompañamiento. "
   ]
  }
 ],
 "metadata": {
  "celltoolbar": "Slideshow",
  "kernelspec": {
   "display_name": "Python 3 (ipykernel)",
   "language": "python",
   "name": "python3"
  },
  "language_info": {
   "codemirror_mode": {
    "name": "ipython",
    "version": 3
   },
   "file_extension": ".py",
   "mimetype": "text/x-python",
   "name": "python",
   "nbconvert_exporter": "python",
   "pygments_lexer": "ipython3",
   "version": "3.10.12"
  },
  "rise": {
   "enable_chalkboard": true,
   "theme": "sky",
   "transition": "zoom"
  }
 },
 "nbformat": 4,
 "nbformat_minor": 5
}
