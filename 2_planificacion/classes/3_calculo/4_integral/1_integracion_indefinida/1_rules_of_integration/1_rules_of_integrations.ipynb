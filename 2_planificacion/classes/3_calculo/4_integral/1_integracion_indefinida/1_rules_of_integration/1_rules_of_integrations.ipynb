{
 "cells": [
  {
   "cell_type": "markdown",
   "id": "dc06dec7",
   "metadata": {
    "slideshow": {
     "slide_type": "slide"
    }
   },
   "source": [
    "<table align=\"left\">\n",
    "  <td>\n",
    "    <a href=\"https://colab.research.google.com/github/marco-canas/calculo/blob/main/classes/3_calculo_for_eng_licenciatura_administracion/4_integration/1_antidiferenciacion/1_rules_of_integration/1_rules_of_integrations.ipynb\" target=\"_parent\"><img src=\"https://colab.research.google.com/assets/colab-badge.svg\" alt=\"Open In Colab\"/></a>\n",
    "  </td>\n",
    "</table>"
   ]
  },
  {
   "cell_type": "markdown",
   "id": "e0c5b198",
   "metadata": {
    "slideshow": {
     "slide_type": "slide"
    }
   },
   "source": [
    "## [Video de apoyo a la lectura interactiva y experimental de este cuaderno](https://www.youtube.com/watch?v=JTk_iIC_j9I)"
   ]
  },
  {
   "cell_type": "markdown",
   "id": "41e82203",
   "metadata": {
    "slideshow": {
     "slide_type": "slide"
    }
   },
   "source": [
    "## [Vínculo al programa del curso de cálculo integral para ingeniería Agropecuaria:  ](https://github.com/marco-canas/calculo/blob/main/2_programa_calculo_Integral_ingenieria_agropecuaria.docx)"
   ]
  },
  {
   "cell_type": "markdown",
   "id": "ca46c23b",
   "metadata": {
    "slideshow": {
     "slide_type": "slide"
    }
   },
   "source": [
    "# Modelo general de clase: [aula invertida](https://www3.gobiernodecanarias.org/medusa/ecoescuela/pedagotic/aprendizaje-invertido-flipped-classroom/)\n"
   ]
  },
  {
   "cell_type": "markdown",
   "id": "7f9be90f",
   "metadata": {
    "slideshow": {
     "slide_type": "slide"
    }
   },
   "source": [
    "# Fomento de la lectura literaria asociada a Ingeniería agropecuaria y licenciatura en Matemáticas"
   ]
  },
  {
   "cell_type": "markdown",
   "id": "3d50b884",
   "metadata": {},
   "source": [
    "[El costo del analfabetismo emocional](https://github.com/marco-canas/inteligencia_emocional/blob/main/15_el_costo_del_analfabetismo_emocional/1_15_el_costo_del_analfabetismo_emocional.ipynb)"
   ]
  },
  {
   "cell_type": "markdown",
   "id": "96775931",
   "metadata": {
    "slideshow": {
     "slide_type": "slide"
    }
   },
   "source": [
    "# Título de la clase: Rules of integration\n",
    "\n"
   ]
  },
  {
   "cell_type": "markdown",
   "id": "1d38dd4e",
   "metadata": {
    "slideshow": {
     "slide_type": "slide"
    }
   },
   "source": [
    "### Objetivo de aprendizaje (Enunciar, de manera corta sencilla y clara para todos los asistentes)\n",
    "\n",
    "* Identificar las reglas de integración indefinida básicas para aplicaciones en ingeniería Agropecuaria  \n",
    "* Tener las habilidades para integrar e interpretar las integrales indefinidas que realice. "
   ]
  },
  {
   "cell_type": "markdown",
   "metadata": {},
   "source": [
    "# Llamada aleatoria para los estudiantes a participar para ser evaluados de manera oral\n",
    "\n"
   ]
  },
  {
   "cell_type": "code",
   "execution_count": null,
   "metadata": {},
   "outputs": [],
   "source": [
    "import pandas as pd\n",
    "import random\n",
    "\n",
    "# Cargar la lista de estudiantes desde la URL\n",
    "url = 'https://raw.githubusercontent.com/marco-canas/groups_list/main/calculo_integral.csv'\n",
    "estudiantes = pd.read_csv(url)\n",
    "\n",
    "# Función para llamar a un estudiante aleatoriamente y registrar su nota de seguimiento\n",
    "def llamar_estudiante():\n",
    "    estudiante_aleatorio = random.choice(estudiantes['Nombre'])\n",
    "    print(f\"Llamando a {estudiante_aleatorio}...\")\n",
    "    \n",
    "    \n",
    "# Llamar a la función para realizar el proceso\n",
    "llamar_estudiante()\n"
   ]
  },
  {
   "cell_type": "markdown",
   "id": "ecf6932b",
   "metadata": {},
   "source": [
    "# Cuestionario de presaberes asociado al objetivo de aprendizaje\n"
   ]
  },
  {
   "cell_type": "markdown",
   "id": "885109b0",
   "metadata": {},
   "source": [
    "\n",
    "Aquí tienes un cuestionario de diagnóstico para evaluar los presaberes necesarios para el objetivo de aprendizaje \"Identificar las reglas de integración indefinida básicas para aplicaciones en ingeniería Agropecuaria y aprender a utilizarlas con fluidez\":\n"
   ]
  },
  {
   "cell_type": "markdown",
   "id": "3479a097",
   "metadata": {},
   "source": [
    "\n",
    "**1. ¿Cuál es el concepto de integral indefinida y cómo se relaciona con la integral definida?**\n",
    "   Respuesta: La integral indefinida representa una familia de funciones primitivas de una función dada, mientras que la integral definida calcula el área bajo una curva entre dos puntos específicos.\n"
   ]
  },
  {
   "cell_type": "markdown",
   "id": "e1d23745",
   "metadata": {},
   "source": [
    "\n",
    "**2. ¿Qué es una regla de integración básica y cuáles son algunas de las reglas fundamentales que has aprendido hasta ahora?**\n",
    "   Respuesta: Una regla de integración básica es una fórmula que se utiliza para calcular la integral de una función. Algunas reglas fundamentales incluyen la regla de potencias, la regla de la suma, la regla del producto y la regla del cociente.\n"
   ]
  },
  {
   "cell_type": "markdown",
   "id": "4c6c26d2",
   "metadata": {},
   "source": [
    "\n",
    "**3. ¿Cuál es la diferencia entre una integral definida y una integral indefinida?**\n",
    "   Respuesta: Una integral definida tiene límites de integración específicos y calcula el área bajo una curva entre esos límites, mientras que una integral indefinida no tiene límites y representa una función primitiva de otra función.\n",
    "\n",
    "**4. ¿Cómo se calcula la integral de una función polinómica?**\n",
    "   Respuesta: Se utiliza la regla de potencias, donde se suma 1 al exponente y se divide el coeficiente del término por el nuevo exponente.\n"
   ]
  },
  {
   "cell_type": "markdown",
   "id": "40f4790d",
   "metadata": {},
   "source": [
    "\n",
    "**5. ¿Puedes mencionar una aplicación específica de las integrales en la ingeniería agropecuaria?**\n",
    "   Respuesta: Una aplicación específica podría ser calcular el área bajo una curva de crecimiento de cultivos para determinar el rendimiento de la cosecha.\n"
   ]
  },
  {
   "cell_type": "markdown",
   "id": "94b994bc",
   "metadata": {},
   "source": [
    "\n",
    "**6. ¿Cómo se utiliza la integral para calcular el volumen de un tanque de almacenamiento para líquidos en la agricultura?**\n",
    "   Respuesta: Se puede calcular sumando las áreas de secciones transversales infinitesimales de líquido dentro del tanque a lo largo de su altura.\n"
   ]
  },
  {
   "cell_type": "markdown",
   "id": "81e912f7",
   "metadata": {},
   "source": [
    "\n",
    "**7. ¿Qué importancia tiene la fluidez en la aplicación de reglas de integración en la ingeniería agropecuaria?**\n",
    "   Respuesta: La fluidez en el uso de las reglas de integración es crucial para resolver problemas rápidamente y con precisión, lo que permite a los ingenieros agropecuarios tomar decisiones informadas y eficientes en el diseño y gestión de sistemas agrícolas.\n"
   ]
  },
  {
   "cell_type": "markdown",
   "id": "a8873336",
   "metadata": {},
   "source": [
    "\n",
    "**8. ¿Cuál es la diferencia entre la integración numérica y la integración simbólica?**\n",
    "   Respuesta: La integración numérica utiliza métodos de aproximación para calcular el valor numérico de una integral, mientras que la integración simbólica encuentra una expresión algebraica para la integral.\n",
    "\n",
    "Estas preguntas permitirán evaluar los conocimientos previos de los estudiantes y determinar las áreas en las que pueden necesitar refuerzo antes de abordar el objetivo de aprendizaje específico."
   ]
  },
  {
   "cell_type": "markdown",
   "id": "e182df08",
   "metadata": {},
   "source": [
    "# Prerequisitos conceptuales para alcanzar el objetivo de aprendizaje propuesto.   \n"
   ]
  },
  {
   "cell_type": "markdown",
   "id": "2417822e",
   "metadata": {},
   "source": [
    " \n",
    "\n",
    "\n",
    "1. **Conceptos básicos de álgebra:** Los estudiantes deben tener un sólido entendimiento de álgebra elemental, incluyendo manipulación de expresiones algebraicas, factorización, propiedades de exponentes y logaritmos.\n"
   ]
  },
  {
   "cell_type": "markdown",
   "id": "13a64ff1",
   "metadata": {},
   "source": [
    "\n",
    "2. **Funciones trigonométricas:** Conocimiento de las funciones trigonométricas básicas (seno, coseno, tangente) y sus propiedades, así como la capacidad para trabajar con identidades trigonométricas.\n",
    "\n",
    "3. **Funciones exponenciales y logarítmicas:** Comprender las propiedades de las funciones exponenciales y logarítmicas, así como la capacidad para resolver ecuaciones exponenciales y logarítmicas.\n"
   ]
  },
  {
   "cell_type": "markdown",
   "id": "a673c51d",
   "metadata": {},
   "source": [
    "\n",
    "4. **Concepto de límites:** Entender el concepto de límite y su relación con la continuidad y la derivación de funciones.\n",
    "\n",
    "5. **Derivadas:** Conocimiento de las reglas de derivación básicas y la capacidad para calcular la derivada de funciones polinómicas, trigonométricas, exponenciales y logarítmicas.\n",
    "\n",
    "6. **Conceptos de área y volumen:** Familiaridad con el cálculo de áreas bajo curvas y volúmenes de sólidos mediante métodos de sumas de Riemann y el teorema de Pappus-Guldin.\n",
    "\n",
    "7. **Integración definida:** Comprender el concepto de integral definida como una suma infinitesimal de áreas y la relación entre la integral definida y la integral indefinida.\n",
    "\n",
    "8. **Notación matemática:** Capacidad para interpretar y manipular símbolos y expresiones matemáticas de manera precisa y coherente, incluyendo la notación de integración y las reglas de la derivada.\n",
    "\n",
    "9. **Aplicaciones en ingeniería agropecuaria:** Tener una comprensión básica de los conceptos y aplicaciones de la ingeniería agropecuaria, incluyendo el cálculo de áreas de terreno, volúmenes de tanques y canales, tasas de crecimiento y decaimiento en poblaciones agrícolas, entre otros.\n",
    "\n",
    "Estos prerrequisitos conceptuales proporcionan la base necesaria para abordar el estudio de las reglas de integración indefinida y su aplicación en contextos específicos de ingeniería agropecuaria dentro de un curso de cálculo."
   ]
  },
  {
   "cell_type": "markdown",
   "id": "2298e976",
   "metadata": {
    "slideshow": {
     "slide_type": "slide"
    }
   },
   "source": [
    "# Para el diseño de la clase tenga en cuenta algunos problemas de aprendizaje"
   ]
  },
  {
   "cell_type": "markdown",
   "id": "092c4c5f",
   "metadata": {},
   "source": [
    "\n",
    "**1. Falta de comprensión de los conceptos básicos:** Los estudiantes pueden tener dificultades para comprender conceptos fundamentales como la diferencia entre integral indefinida y definida, las reglas de integración básicas y su aplicación en ingeniería agropecuaria.\n",
    "\n",
    "   *Estrategias de solución:* Proporcionar una revisión detallada de los conceptos básicos antes de abordar la integración indefinida. Utilizar ejemplos concretos relacionados con la ingeniería agropecuaria para hacer los conceptos más tangibles y significativos para los estudiantes.\n"
   ]
  },
  {
   "cell_type": "markdown",
   "id": "9bf1f9b9",
   "metadata": {},
   "source": [
    "\n",
    "**2. Dificultad para recordar reglas de integración:** Los estudiantes pueden luchar por recordar las diversas reglas de integración, especialmente cuando se enfrentan a problemas complejos que requieren la aplicación de múltiples reglas.\n",
    "\n",
    "   *Estrategias de solución:* Fomentar la práctica regular mediante la resolución de una variedad de problemas de integración. Proporcionar hojas de trucos o tarjetas de referencia rápida que resuman las reglas de integración básicas para que los estudiantes las consulten cuando sea necesario.\n"
   ]
  },
  {
   "cell_type": "markdown",
   "id": "64596460",
   "metadata": {},
   "source": [
    "\n",
    "**3. Falta de contextualización:** Los estudiantes pueden tener dificultades para comprender cómo se aplican las reglas de integración en situaciones específicas de ingeniería agropecuaria, lo que dificulta su capacidad para relacionar los conceptos con aplicaciones prácticas.\n",
    "\n",
    "   *Estrategias de solución:* Incorporar ejemplos y problemas prácticos relacionados con la ingeniería agropecuaria en el material de enseñanza. Realizar estudios de casos o proyectos que requieran a los estudiantes aplicar las reglas de integración para resolver problemas reales en el campo de la ingeniería agropecuaria.\n"
   ]
  },
  {
   "cell_type": "markdown",
   "id": "e487ad26",
   "metadata": {},
   "source": [
    "\n",
    "**4. Temor a cometer errores:** Los estudiantes pueden sentirse intimidados por la posibilidad de cometer errores al aplicar las reglas de integración, lo que puede afectar su confianza y disposición para practicar y participar en clase.\n",
    "\n",
    "   *Estrategias de solución:* Fomentar un ambiente de aprendizaje positivo y de apoyo donde se anime a los estudiantes a cometer errores como parte del proceso de aprendizaje. Proporcionar retroalimentación constructiva y oportunidades para corregir errores a medida que los estudiantes practican y refinan sus habilidades de integración.\n",
    "\n",
    "**5. Dificultades con la fluidez en la aplicación:** Los estudiantes pueden tener dificultades para aplicar las reglas de integración de manera rápida y eficiente, lo que puede limitar su capacidad para resolver problemas de manera oportuna.\n",
    "\n",
    "   *Estrategias de solución:* Fomentar la práctica regular y la resolución de problemas cronometrados para mejorar la fluidez en la aplicación de las reglas de integración. Proporcionar oportunidades para trabajar en colaboración con compañeros de clase o mediante actividades de tutoría para reforzar las habilidades y compartir estrategias eficaces."
   ]
  },
  {
   "cell_type": "markdown",
   "metadata": {},
   "source": [
    "# Secuencia conceptual para la clase\n",
    "\n"
   ]
  },
  {
   "cell_type": "markdown",
   "id": "5994bd8d",
   "metadata": {},
   "source": [
    "# 3.8 Antiderivadas según Purcell\n",
    "\n",
    "Página 197 del PDF (En Purcell la página del texto coincide con la página del PDF)\n",
    "\n"
   ]
  },
  {
   "cell_type": "code",
   "execution_count": null,
   "id": "53943523",
   "metadata": {},
   "outputs": [
    {
     "data": {
      "text/plain": [
       "'/home/marco/Documentos/docencia/calculo/images/4_integral/1_aplicaciones_integral_indefinida/Mapa_Conceptual_Integral_indefinida.pdf'"
      ]
     },
     "execution_count": 13,
     "metadata": {},
     "output_type": "execute_result"
    },
    {
     "name": "stderr",
     "output_type": "stream",
     "text": [
      "/snap/core20/current/lib/x86_64-linux-gnu/libstdc++.so.6: version `GLIBCXX_3.4.29' not found (required by /lib/x86_64-linux-gnu/libproxy.so.1)\n",
      "Failed to load module: /home/marco/snap/code/common/.cache/gio-modules/libgiolibproxy.so\n",
      "\n",
      "(process:35171): Gtk-WARNING **: 17:08:00.519: Locale not supported by C library.\n",
      "\tUsing the fallback 'C' locale.\n",
      "/home/marco/snap/code/common/.cache/gio-modules/libgiolibproxy.so: cannot open shared object file: Permission denied\n",
      "Failed to load module: /home/marco/snap/code/common/.cache/gio-modules/libgiolibproxy.so\n",
      "\n",
      "(evince:35171): Gtk-WARNING **: 17:08:00.559: Theme parsing error: gtk-keys.css:1:0: Failed to import: Error opening file /snap/code/153/usr/share/themes/Default/gtk-3.0/gtk-keys.css: Permission denied\n",
      "Gtk-Message: 17:08:00.559: Failed to load module \"canberra-gtk-module\"\n",
      "Gtk-Message: 17:08:00.562: Failed to load module \"canberra-gtk-module\"\n",
      "/home/marco/snap/code/common/.cache/gio-modules/libdconfsettings.so: cannot open shared object file: Permission denied\n",
      "Failed to load module: /home/marco/snap/code/common/.cache/gio-modules/libdconfsettings.so\n",
      "\n",
      "(evince:35171): Gtk-WARNING **: 17:08:00.722: Could not load a pixbuf from icon theme.\n",
      "This may indicate that pixbuf loaders or the mime database could not be found.\n"
     ]
    }
   ],
   "source": [
    "from graphviz import Digraph\n",
    "\n",
    "# Crear un nuevo grafo dirigido\n",
    "dot = Digraph()\n",
    "\n",
    "# Añadir nodos y relaciones al grafo\n",
    "dot.node('A', 'Antiderivada')\n",
    "dot.node('B', 'Derivada')\n",
    "dot.node('C', 'Integración Indefinida')\n",
    "dot.node('D', 'La primitiva de una derivada')\n",
    "dot.node('E', 'Constante de integración')\n",
    "dot.node('F', 'Antiderivación')\n",
    "dot.node('G', 'Primitiva')\n",
    "dot.node('H', '')\n",
    "dot.node('I', '')\n",
    "dot.node('J', '')\n",
    "\n",
    "dot.edges(['AB'])\n",
    "dot.edges(['BC'])\n",
    "dot.edges(['CD'])\n",
    "dot.edges(['DJ'])\n",
    "dot.edges(['EF'])\n",
    "dot.edges(['FG'])\n",
    "dot.edges(['GH'])\n",
    "dot.edges(['HI'])\n",
    "dot.edges(['IJ'])\n",
    "\n",
    "# Guardar el grafo como un archivo de imagen\n",
    "dot.render('Mapa_Conceptual_Integral_indefinida', format='png', cleanup=True, \\\n",
    "           directory='/home/marco/Documentos/docencia/calculo/images/4_integral/1_aplicaciones_integral_indefinida/')\n",
    "\n",
    "dot.view()"
   ]
  },
  {
   "cell_type": "markdown",
   "id": "f0ba1294",
   "metadata": {},
   "source": [
    "# 3.8 Antiderivadas    \n",
    "\n",
    "\n",
    "Página 197 del Purcel: Cálculo diferencial e integral. \n",
    "\n"
   ]
  },
  {
   "cell_type": "markdown",
   "id": "5fc44086",
   "metadata": {},
   "source": [
    "\n",
    "La mayoría de las operaciones matemáticas con que trabajamos vienen en pares de inversas: \n",
    "* suma y resta, \n",
    "* multiplicación y división, y \n",
    "* exponenciación y extracción de raíces.\n"
   ]
  },
  {
   "cell_type": "markdown",
   "id": "14fbe9a6",
   "metadata": {},
   "source": [
    "En cada caso, la segunda operación deshace la primera y viceversa. "
   ]
  },
  {
   "cell_type": "markdown",
   "id": "cacfa0ae",
   "metadata": {},
   "source": [
    "Una razón para nuestro interés en las operaciones inversas es su utilidad en la resolución de ecuaciones. "
   ]
  },
  {
   "cell_type": "markdown",
   "id": "9557d8c7",
   "metadata": {},
   "source": [
    "Por ejemplo, la resolución de $x^{3} = 8$ implica el uso de extraer raíces. "
   ]
  },
  {
   "cell_type": "markdown",
   "id": "51b85acb",
   "metadata": {},
   "source": [
    "En este capítulo y en el anterior hemos estudiado derivación. Si queremos resolver ecuaciones que incluyan derivadas necesitaremos su inversa, denominada *antiderivación* o *integración indefinida* o *antidiferenciación*."
   ]
  },
  {
   "cell_type": "markdown",
   "id": "3867e456",
   "metadata": {},
   "source": [
    "## Definición  \n",
    "\n",
    "Llamamos a $F$ una antiderivada de $f$ en el intervalo $I$ si $D_{x}F(x) = f(x)$ en $I$; esto es, si $F'(x) = f(x)$ para toda $x$ en $I$."
   ]
  },
  {
   "cell_type": "markdown",
   "id": "28262a2b",
   "metadata": {},
   "source": [
    "En nuestra definición utilizamos una antiderivada, en lugar de la antiderivada.\n",
    "Pronto verá por qué.\n"
   ]
  },
  {
   "cell_type": "markdown",
   "id": "3fad0fb3",
   "metadata": {},
   "source": [
    "\n",
    "## EJEMPLO 1   \n",
    "\n",
    "Encuentre una antiderivada de la función $f(x) = 2x$ en $(-\\infty, \\infty)$.\n",
    "\n"
   ]
  },
  {
   "cell_type": "markdown",
   "id": "5f49afa6",
   "metadata": {},
   "source": [
    "### SOLUCIÓN   \n"
   ]
  },
  {
   "cell_type": "markdown",
   "id": "dd8e98fe",
   "metadata": {},
   "source": [
    "\n",
    "Buscamos una función $F$ que satisfaga $F'(x) = 2x$ para toda $x$ real. De nuestra experiencia con derivación, sabemos que $F(x) = x^{2}$ es una de tales funciones. \n",
    "\n",
    "\n"
   ]
  },
  {
   "cell_type": "markdown",
   "id": "fa2ff527",
   "metadata": {},
   "source": [
    "Un momento de reflexión sugerirá otras soluciones para el ejemplo 1. "
   ]
  },
  {
   "cell_type": "markdown",
   "id": "99f45dfd",
   "metadata": {},
   "source": [
    "La función $F(x) = x^{2} + 4$ también satisface $F'(x) = 2x$; también es una antiderivada de $f(x) = 2x$.\n"
   ]
  },
  {
   "cell_type": "markdown",
   "id": "8f47aa1c",
   "metadata": {},
   "source": [
    "De hecho, $F(x) = x^{2} + C$, donde $C$ es cualquier constante, es una antiderivada de $2x$ en $(-\\infty, +\\infty)$ (véase la figura 1).\n"
   ]
  },
  {
   "cell_type": "markdown",
   "id": "746d6f5c",
   "metadata": {},
   "source": [
    "Ahora planteamos una pregunta importante. ¿Toda antiderivada de $f(x) = 2x$ es de la forma $F(x) = x^{2} + C$?   \n",
    "La respuesta es sí.   \n",
    "\n",
    "Esto se deduce del teorema 3.6B, el cual establece que si dos funciones tienen la misma derivada, deben diferir en una constante.  \n",
    "\n",
    "Ésta es nuestra conclusión: si una función $f$ tiene una antiderivada, tendrá una familia de ellas, y cada miembro de esta familia puede obtenerse de uno de ellos mediante la suma de una constante adecuada. A esta familia de funciones le llamamos la antiderivada general de $f$. Después de acostumbrarnos a esta noción, con frecuencia omitiremos el adjetivo general."
   ]
  },
  {
   "cell_type": "markdown",
   "id": "0279cfb4",
   "metadata": {},
   "source": [
    "# Visualización animada de algunas antiderivadas de $f(x) = 2x$"
   ]
  },
  {
   "cell_type": "code",
   "execution_count": 25,
   "id": "0cd582d9",
   "metadata": {},
   "outputs": [
    {
     "data": {
      "application/vnd.jupyter.widget-view+json": {
       "model_id": "99620b4818114de4bb9e986f83b712d9",
       "version_major": 2,
       "version_minor": 0
      },
      "text/plain": [
       "interactive(children=(IntSlider(value=0, description='C', max=4, min=-6), Output()), _dom_classes=('widget-int…"
      ]
     },
     "metadata": {},
     "output_type": "display_data"
    },
    {
     "data": {
      "text/plain": [
       "<function __main__.trazar_antiderivada(C=0)>"
      ]
     },
     "execution_count": 25,
     "metadata": {},
     "output_type": "execute_result"
    }
   ],
   "source": [
    "import numpy as np \n",
    "import matplotlib.pyplot as plt # para hacer gráfiicos de líneas\n",
    "from ipywidgets import interact  # para animar el C y así mostrar una antiderivada para cada valor de C\n",
    "from sympy import * \n",
    "\n",
    "\n",
    "\n",
    "def F(x):  # función x2 como función de python\n",
    "    return x**2\n",
    "\n",
    "def f(x):\n",
    "    return 2*x\n",
    "a1 = -6\n",
    "an = 4\n",
    "def trazar_antiderivada(C = 0):\n",
    "    d = 0.3\n",
    "    dominio = np.arange(-4,4+d, d)  # progresiones aritméticas para el dominio de la función \n",
    "    rango = F(dominio) + C\n",
    "    plt.title('Algunas antiderivadas $F$ de $f(x) = 2x$')\n",
    "    plt.plot([a1, an], [0, 0], 'g--', alpha = 0.4)\n",
    "    plt.plot(dominio, rango, label = 'Antiderivada')  # hacer gráficos de líneas \n",
    "    plt.plot(dominio, f(dominio), 'r--', label = '$f(x) = 2x$')\n",
    "    plt.axis([-4,4,-8, 16]) # fijar el rectángulo de visualización \n",
    "    plt.grid(alpha = 0.4) # darle cuadricula a gráfico \n",
    "    plt.legend()\n",
    "    plt.show()\n",
    "\n",
    "interact(trazar_antiderivada, C = (a1,4))    "
   ]
  },
  {
   "cell_type": "markdown",
   "id": "b35770aa",
   "metadata": {},
   "source": [
    "## Interpretaciones de la animación\n",
    "\n",
    "* Las antiderivas de la función $f(x) = 2x$, son todas parábolas en donde cualquiera de ellas, se obtiene de las otras desplazandolas verticalmente \n",
    "* La animación muestra que pueden haber varias antiderivas para una misma función derivada. "
   ]
  },
  {
   "cell_type": "code",
   "execution_count": null,
   "id": "4b33dcd2",
   "metadata": {},
   "outputs": [],
   "source": []
  },
  {
   "cell_type": "code",
   "execution_count": null,
   "id": "9358c7d7",
   "metadata": {},
   "outputs": [],
   "source": []
  },
  {
   "cell_type": "markdown",
   "id": "f21d1859",
   "metadata": {},
   "source": [
    "# Lista de reglas de integración identificadas para aplicación en Ingeniería\n",
    "\n",
    "1. Reglas de linealidad \n",
    "\n",
    "$$ \\int f+g = \\int f + \\int g $$\n",
    "\n",
    "$$ \\int kf = k \\int f $$\n",
    "\n",
    "2. Integral de una función constante: \n",
    "\n",
    "$$ \\int k = kx + C $$\n",
    "\n",
    "3. Regla de la potencia para integrales: \n",
    "\n",
    "$$ \\int x^{n} = \\frac{x^{n+1}}{n+1} + C \\quad n \\neq -1$$\n",
    "\n",
    "$$ \\int x^{-1} = \\int \\frac{1}{x} = \\ln x + C$$"
   ]
  },
  {
   "cell_type": "markdown",
   "id": "5736b7ca",
   "metadata": {},
   "source": [
    "Estas son las aplicaciones que hemos identificado que se requieren más en aplicaciones de lanzamiento vertical y caída libre. "
   ]
  },
  {
   "cell_type": "markdown",
   "id": "f0764142",
   "metadata": {},
   "source": [
    "# Las aplicaciones de la función logaritmica a ingeniería agropecuaria"
   ]
  },
  {
   "cell_type": "markdown",
   "metadata": {},
   "source": [
    "<img src = \"https://www.adama.com/colombia/sites/adama_colombia/files/2021-09/Foto%20Arroz_Home.jpg\">"
   ]
  },
  {
   "cell_type": "markdown",
   "metadata": {},
   "source": [
    "# Aplicaciones a ingeniería agropecuaria de la función logarítica\n",
    "\n",
    "La función logarítmica tiene diversas aplicaciones en ingeniería agropecuaria. A continuación, se presentan algunas áreas donde se utiliza:\n"
   ]
  },
  {
   "cell_type": "markdown",
   "id": "df9e16c4",
   "metadata": {},
   "source": [
    "\n",
    "1. **Modelado de Crecimiento de Cultivos:**\n",
    "   - Los modelos de crecimiento de cultivos a menudo incorporan funciones logarítmicas para describir la relación entre el tiempo y el crecimiento de las plantas. Estos modelos son esenciales para prever el rendimiento de los cultivos, la maduración de los frutos y la necesidad de prácticas agronómicas.\n"
   ]
  },
  {
   "cell_type": "markdown",
   "id": "e99a3e74",
   "metadata": {},
   "source": [
    "\n",
    "2. **Análisis de Datos de Producción:**\n",
    "   - En el análisis de datos agrícolas, se utilizan funciones logarítmicas para modelar y entender las relaciones entre variables, como la cantidad de fertilizantes utilizados y el rendimiento del cultivo. Esto puede ayudar a optimizar las prácticas agrícolas para mejorar la eficiencia y la productividad.\n"
   ]
  },
  {
   "cell_type": "markdown",
   "id": "cc3ab721",
   "metadata": {},
   "source": [
    "\n",
    "3. **Manejo del Agua:**\n",
    "   - En la gestión del agua en la agricultura, las funciones logarítmicas se pueden emplear para modelar la relación entre la cantidad de agua aplicada y su absorción por las plantas. Esto es crucial para el riego eficiente y la conservación del agua.\n"
   ]
  },
  {
   "cell_type": "markdown",
   "metadata": {},
   "source": [
    "\n",
    "4. **Estimación de Rendimiento:**\n",
    "   - Las funciones logarítmicas también pueden utilizarse para estimar el rendimiento de los cultivos en función de factores como la cantidad de luz solar, la temperatura y la humedad del suelo. Estos modelos ayudan a los agricultores a tomar decisiones informadas sobre la gestión de sus cultivos.\n"
   ]
  },
  {
   "cell_type": "markdown",
   "id": "5e996e37",
   "metadata": {},
   "source": [
    "\n",
    "5. **Diseño de Experimentos:**\n",
    "   - En el diseño experimental, las funciones logarítmicas pueden ser útiles para modelar la respuesta de los cultivos a diferentes condiciones ambientales o tratamientos. Esto es esencial para realizar experimentos eficientes y obtener resultados significativos.\n",
    "\n",
    "6. **Análisis de Suelos:**\n",
    "   - En la ingeniería agropecuaria, la calidad del suelo es crucial. Las funciones logarítmicas pueden utilizarse para modelar la relación entre la cantidad de nutrientes aplicados al suelo y la absorción por las plantas, lo que ayuda en la gestión adecuada de los nutrientes del suelo.\n",
    "\n",
    "7. **Optimización de Recursos:**\n",
    "   - La optimización de recursos, como la cantidad de insumos agrícolas utilizados, puede beneficiarse del uso de funciones logarítmicas para modelar las respuestas de los cultivos. Esto ayuda a minimizar costos y reducir el impacto ambiental.\n",
    "\n",
    "En resumen, la función logarítmica se utiliza en ingeniería agropecuaria para modelar y entender relaciones complejas entre variables, lo que facilita la toma de decisiones informadas y la optimización de prácticas agrícolas."
   ]
  },
  {
   "cell_type": "code",
   "execution_count": 21,
   "metadata": {},
   "outputs": [
    {
     "data": {
      "application/vnd.plotly.v1+json": {
       "config": {
        "plotlyServerURL": "https://plot.ly"
       },
       "data": [
        {
         "mode": "lines",
         "name": "Logaritmo",
         "type": "scatter",
         "x": [
          0.1,
          0.14949494949494951,
          0.198989898989899,
          0.2484848484848485,
          0.297979797979798,
          0.3474747474747475,
          0.396969696969697,
          0.44646464646464656,
          0.49595959595959604,
          0.5454545454545455,
          0.594949494949495,
          0.6444444444444445,
          0.693939393939394,
          0.7434343434343434,
          0.792929292929293,
          0.8424242424242425,
          0.891919191919192,
          0.9414141414141415,
          0.990909090909091,
          1.0404040404040407,
          1.0898989898989901,
          1.1393939393939396,
          1.188888888888889,
          1.2383838383838386,
          1.287878787878788,
          1.3373737373737375,
          1.386868686868687,
          1.4363636363636367,
          1.4858585858585862,
          1.5353535353535357,
          1.5848484848484852,
          1.6343434343434347,
          1.6838383838383841,
          1.7333333333333336,
          1.782828282828283,
          1.8323232323232326,
          1.881818181818182,
          1.9313131313131315,
          1.9808080808080812,
          2.0303030303030307,
          2.07979797979798,
          2.1292929292929297,
          2.178787878787879,
          2.2282828282828286,
          2.277777777777778,
          2.3272727272727276,
          2.376767676767677,
          2.4262626262626266,
          2.475757575757576,
          2.5252525252525255,
          2.574747474747475,
          2.6242424242424245,
          2.673737373737374,
          2.7232323232323234,
          2.7727272727272734,
          2.822222222222223,
          2.8717171717171723,
          2.921212121212122,
          2.9707070707070713,
          3.0202020202020208,
          3.0696969696969703,
          3.1191919191919197,
          3.168686868686869,
          3.2181818181818187,
          3.267676767676768,
          3.3171717171717177,
          3.366666666666667,
          3.4161616161616166,
          3.465656565656566,
          3.5151515151515156,
          3.564646464646465,
          3.6141414141414145,
          3.663636363636364,
          3.7131313131313135,
          3.762626262626263,
          3.812121212121213,
          3.8616161616161624,
          3.911111111111112,
          3.9606060606060614,
          4.01010101010101,
          4.05959595959596,
          4.109090909090909,
          4.158585858585859,
          4.208080808080808,
          4.257575757575758,
          4.307070707070707,
          4.356565656565657,
          4.406060606060606,
          4.455555555555556,
          4.505050505050505,
          4.554545454545455,
          4.604040404040404,
          4.653535353535354,
          4.703030303030303,
          4.752525252525253,
          4.802020202020202,
          4.851515151515152,
          4.901010101010101,
          4.9505050505050505,
          5
         ],
         "y": [
          -2.3025850929940455,
          -1.9004926693645203,
          -1.614501214390647,
          -1.3923734071962728,
          -1.2107295867888157,
          -1.0570632857552371,
          -0.9238953312593744,
          -0.8063950610509373,
          -0.7012608153341149,
          -0.6061358035703154,
          -0.5192787594770488,
          -0.43936665978384565,
          -0.36537065090628623,
          -0.29647482439975936,
          -0.23202122534622704,
          -0.17147154076988874,
          -0.1143797425246755,
          -0.060372128443044355,
          -0.009132483563272474,
          0.03960913809504609,
          0.08608502212949927,
          0.1304964889293688,
          0.17301916413164128,
          0.21380717336752125,
          0.25299651446389104,
          0.29070779336831803,
          0.32704846263933557,
          0.3621146672345508,
          0.39599277747280215,
          0.42876067071168666,
          0.4604888096043972,
          0.4912411544898016,
          0.5210759396221586,
          0.5500463369192722,
          0.5782010262387617,
          0.6055846875464465,
          0.632238427472953,
          0.6582001504827111,
          0.6835048830677108,
          0.708185057924486,
          0.732270763899154,
          0.7557899665326175,
          0.778768703260521,
          0.8012312566848123,
          0.8232003088081432,
          0.8446970786871464,
          0.865741445598727,
          0.8863520595112934,
          0.9065464403994771,
          0.9263410677276566,
          0.9457514612474799,
          0.9647922541019093,
          0.9834772590984657,
          1.001819528903562,
          1.0198314108149957,
          1.0375245966882718,
          1.0549101685223643,
          1.0719986401500199,
          1.0887999954253595,
          1.1053237232560966,
          1.1215788497881576,
          1.1375739680160313,
          1.1533172650620427,
          1.1688165473413583,
          1.1840792638063655,
          1.1991125274436834,
          1.2139231351791042,
          1.22851758632989,
          1.2429020997298141,
          1.2570826296398845,
          1.2710648805466345,
          1.284854320940029,
          1.2984561961542669,
          1.3118755403469422,
          1.3251171876850243,
          1.3381857827998602,
          1.3510857905677773,
          1.3638215052678322,
          1.3763970591636963,
          1.3888164305526005,
          1.4010834513205657,
          1.413201814039815,
          1.4251750786412691,
          1.4370066786922817,
          1.4486999273073202,
          1.460258022717045,
          1.4716840535192075,
          1.4829810036329387,
          1.494151756976304,
          1.5051991018854742,
          1.5161257352924487,
          1.526934266676994,
          1.5376272218072813,
          1.548207046282638,
          1.5586761088908445,
          1.5690367047915037,
          1.5792910585361888,
          1.5894413269353052,
          1.599489601780912,
          1.6094379124341003
         ]
        }
       ],
       "layout": {
        "template": {
         "data": {
          "bar": [
           {
            "error_x": {
             "color": "#f2f5fa"
            },
            "error_y": {
             "color": "#f2f5fa"
            },
            "marker": {
             "line": {
              "color": "rgb(17,17,17)",
              "width": 0.5
             },
             "pattern": {
              "fillmode": "overlay",
              "size": 10,
              "solidity": 0.2
             }
            },
            "type": "bar"
           }
          ],
          "barpolar": [
           {
            "marker": {
             "line": {
              "color": "rgb(17,17,17)",
              "width": 0.5
             },
             "pattern": {
              "fillmode": "overlay",
              "size": 10,
              "solidity": 0.2
             }
            },
            "type": "barpolar"
           }
          ],
          "carpet": [
           {
            "aaxis": {
             "endlinecolor": "#A2B1C6",
             "gridcolor": "#506784",
             "linecolor": "#506784",
             "minorgridcolor": "#506784",
             "startlinecolor": "#A2B1C6"
            },
            "baxis": {
             "endlinecolor": "#A2B1C6",
             "gridcolor": "#506784",
             "linecolor": "#506784",
             "minorgridcolor": "#506784",
             "startlinecolor": "#A2B1C6"
            },
            "type": "carpet"
           }
          ],
          "choropleth": [
           {
            "colorbar": {
             "outlinewidth": 0,
             "ticks": ""
            },
            "type": "choropleth"
           }
          ],
          "contour": [
           {
            "colorbar": {
             "outlinewidth": 0,
             "ticks": ""
            },
            "colorscale": [
             [
              0,
              "#0d0887"
             ],
             [
              0.1111111111111111,
              "#46039f"
             ],
             [
              0.2222222222222222,
              "#7201a8"
             ],
             [
              0.3333333333333333,
              "#9c179e"
             ],
             [
              0.4444444444444444,
              "#bd3786"
             ],
             [
              0.5555555555555556,
              "#d8576b"
             ],
             [
              0.6666666666666666,
              "#ed7953"
             ],
             [
              0.7777777777777778,
              "#fb9f3a"
             ],
             [
              0.8888888888888888,
              "#fdca26"
             ],
             [
              1,
              "#f0f921"
             ]
            ],
            "type": "contour"
           }
          ],
          "contourcarpet": [
           {
            "colorbar": {
             "outlinewidth": 0,
             "ticks": ""
            },
            "type": "contourcarpet"
           }
          ],
          "heatmap": [
           {
            "colorbar": {
             "outlinewidth": 0,
             "ticks": ""
            },
            "colorscale": [
             [
              0,
              "#0d0887"
             ],
             [
              0.1111111111111111,
              "#46039f"
             ],
             [
              0.2222222222222222,
              "#7201a8"
             ],
             [
              0.3333333333333333,
              "#9c179e"
             ],
             [
              0.4444444444444444,
              "#bd3786"
             ],
             [
              0.5555555555555556,
              "#d8576b"
             ],
             [
              0.6666666666666666,
              "#ed7953"
             ],
             [
              0.7777777777777778,
              "#fb9f3a"
             ],
             [
              0.8888888888888888,
              "#fdca26"
             ],
             [
              1,
              "#f0f921"
             ]
            ],
            "type": "heatmap"
           }
          ],
          "heatmapgl": [
           {
            "colorbar": {
             "outlinewidth": 0,
             "ticks": ""
            },
            "colorscale": [
             [
              0,
              "#0d0887"
             ],
             [
              0.1111111111111111,
              "#46039f"
             ],
             [
              0.2222222222222222,
              "#7201a8"
             ],
             [
              0.3333333333333333,
              "#9c179e"
             ],
             [
              0.4444444444444444,
              "#bd3786"
             ],
             [
              0.5555555555555556,
              "#d8576b"
             ],
             [
              0.6666666666666666,
              "#ed7953"
             ],
             [
              0.7777777777777778,
              "#fb9f3a"
             ],
             [
              0.8888888888888888,
              "#fdca26"
             ],
             [
              1,
              "#f0f921"
             ]
            ],
            "type": "heatmapgl"
           }
          ],
          "histogram": [
           {
            "marker": {
             "pattern": {
              "fillmode": "overlay",
              "size": 10,
              "solidity": 0.2
             }
            },
            "type": "histogram"
           }
          ],
          "histogram2d": [
           {
            "colorbar": {
             "outlinewidth": 0,
             "ticks": ""
            },
            "colorscale": [
             [
              0,
              "#0d0887"
             ],
             [
              0.1111111111111111,
              "#46039f"
             ],
             [
              0.2222222222222222,
              "#7201a8"
             ],
             [
              0.3333333333333333,
              "#9c179e"
             ],
             [
              0.4444444444444444,
              "#bd3786"
             ],
             [
              0.5555555555555556,
              "#d8576b"
             ],
             [
              0.6666666666666666,
              "#ed7953"
             ],
             [
              0.7777777777777778,
              "#fb9f3a"
             ],
             [
              0.8888888888888888,
              "#fdca26"
             ],
             [
              1,
              "#f0f921"
             ]
            ],
            "type": "histogram2d"
           }
          ],
          "histogram2dcontour": [
           {
            "colorbar": {
             "outlinewidth": 0,
             "ticks": ""
            },
            "colorscale": [
             [
              0,
              "#0d0887"
             ],
             [
              0.1111111111111111,
              "#46039f"
             ],
             [
              0.2222222222222222,
              "#7201a8"
             ],
             [
              0.3333333333333333,
              "#9c179e"
             ],
             [
              0.4444444444444444,
              "#bd3786"
             ],
             [
              0.5555555555555556,
              "#d8576b"
             ],
             [
              0.6666666666666666,
              "#ed7953"
             ],
             [
              0.7777777777777778,
              "#fb9f3a"
             ],
             [
              0.8888888888888888,
              "#fdca26"
             ],
             [
              1,
              "#f0f921"
             ]
            ],
            "type": "histogram2dcontour"
           }
          ],
          "mesh3d": [
           {
            "colorbar": {
             "outlinewidth": 0,
             "ticks": ""
            },
            "type": "mesh3d"
           }
          ],
          "parcoords": [
           {
            "line": {
             "colorbar": {
              "outlinewidth": 0,
              "ticks": ""
             }
            },
            "type": "parcoords"
           }
          ],
          "pie": [
           {
            "automargin": true,
            "type": "pie"
           }
          ],
          "scatter": [
           {
            "marker": {
             "line": {
              "color": "#283442"
             }
            },
            "type": "scatter"
           }
          ],
          "scatter3d": [
           {
            "line": {
             "colorbar": {
              "outlinewidth": 0,
              "ticks": ""
             }
            },
            "marker": {
             "colorbar": {
              "outlinewidth": 0,
              "ticks": ""
             }
            },
            "type": "scatter3d"
           }
          ],
          "scattercarpet": [
           {
            "marker": {
             "colorbar": {
              "outlinewidth": 0,
              "ticks": ""
             }
            },
            "type": "scattercarpet"
           }
          ],
          "scattergeo": [
           {
            "marker": {
             "colorbar": {
              "outlinewidth": 0,
              "ticks": ""
             }
            },
            "type": "scattergeo"
           }
          ],
          "scattergl": [
           {
            "marker": {
             "line": {
              "color": "#283442"
             }
            },
            "type": "scattergl"
           }
          ],
          "scattermapbox": [
           {
            "marker": {
             "colorbar": {
              "outlinewidth": 0,
              "ticks": ""
             }
            },
            "type": "scattermapbox"
           }
          ],
          "scatterpolar": [
           {
            "marker": {
             "colorbar": {
              "outlinewidth": 0,
              "ticks": ""
             }
            },
            "type": "scatterpolar"
           }
          ],
          "scatterpolargl": [
           {
            "marker": {
             "colorbar": {
              "outlinewidth": 0,
              "ticks": ""
             }
            },
            "type": "scatterpolargl"
           }
          ],
          "scatterternary": [
           {
            "marker": {
             "colorbar": {
              "outlinewidth": 0,
              "ticks": ""
             }
            },
            "type": "scatterternary"
           }
          ],
          "surface": [
           {
            "colorbar": {
             "outlinewidth": 0,
             "ticks": ""
            },
            "colorscale": [
             [
              0,
              "#0d0887"
             ],
             [
              0.1111111111111111,
              "#46039f"
             ],
             [
              0.2222222222222222,
              "#7201a8"
             ],
             [
              0.3333333333333333,
              "#9c179e"
             ],
             [
              0.4444444444444444,
              "#bd3786"
             ],
             [
              0.5555555555555556,
              "#d8576b"
             ],
             [
              0.6666666666666666,
              "#ed7953"
             ],
             [
              0.7777777777777778,
              "#fb9f3a"
             ],
             [
              0.8888888888888888,
              "#fdca26"
             ],
             [
              1,
              "#f0f921"
             ]
            ],
            "type": "surface"
           }
          ],
          "table": [
           {
            "cells": {
             "fill": {
              "color": "#506784"
             },
             "line": {
              "color": "rgb(17,17,17)"
             }
            },
            "header": {
             "fill": {
              "color": "#2a3f5f"
             },
             "line": {
              "color": "rgb(17,17,17)"
             }
            },
            "type": "table"
           }
          ]
         },
         "layout": {
          "annotationdefaults": {
           "arrowcolor": "#f2f5fa",
           "arrowhead": 0,
           "arrowwidth": 1
          },
          "autotypenumbers": "strict",
          "coloraxis": {
           "colorbar": {
            "outlinewidth": 0,
            "ticks": ""
           }
          },
          "colorscale": {
           "diverging": [
            [
             0,
             "#8e0152"
            ],
            [
             0.1,
             "#c51b7d"
            ],
            [
             0.2,
             "#de77ae"
            ],
            [
             0.3,
             "#f1b6da"
            ],
            [
             0.4,
             "#fde0ef"
            ],
            [
             0.5,
             "#f7f7f7"
            ],
            [
             0.6,
             "#e6f5d0"
            ],
            [
             0.7,
             "#b8e186"
            ],
            [
             0.8,
             "#7fbc41"
            ],
            [
             0.9,
             "#4d9221"
            ],
            [
             1,
             "#276419"
            ]
           ],
           "sequential": [
            [
             0,
             "#0d0887"
            ],
            [
             0.1111111111111111,
             "#46039f"
            ],
            [
             0.2222222222222222,
             "#7201a8"
            ],
            [
             0.3333333333333333,
             "#9c179e"
            ],
            [
             0.4444444444444444,
             "#bd3786"
            ],
            [
             0.5555555555555556,
             "#d8576b"
            ],
            [
             0.6666666666666666,
             "#ed7953"
            ],
            [
             0.7777777777777778,
             "#fb9f3a"
            ],
            [
             0.8888888888888888,
             "#fdca26"
            ],
            [
             1,
             "#f0f921"
            ]
           ],
           "sequentialminus": [
            [
             0,
             "#0d0887"
            ],
            [
             0.1111111111111111,
             "#46039f"
            ],
            [
             0.2222222222222222,
             "#7201a8"
            ],
            [
             0.3333333333333333,
             "#9c179e"
            ],
            [
             0.4444444444444444,
             "#bd3786"
            ],
            [
             0.5555555555555556,
             "#d8576b"
            ],
            [
             0.6666666666666666,
             "#ed7953"
            ],
            [
             0.7777777777777778,
             "#fb9f3a"
            ],
            [
             0.8888888888888888,
             "#fdca26"
            ],
            [
             1,
             "#f0f921"
            ]
           ]
          },
          "colorway": [
           "#636efa",
           "#EF553B",
           "#00cc96",
           "#ab63fa",
           "#FFA15A",
           "#19d3f3",
           "#FF6692",
           "#B6E880",
           "#FF97FF",
           "#FECB52"
          ],
          "font": {
           "color": "#f2f5fa"
          },
          "geo": {
           "bgcolor": "rgb(17,17,17)",
           "lakecolor": "rgb(17,17,17)",
           "landcolor": "rgb(17,17,17)",
           "showlakes": true,
           "showland": true,
           "subunitcolor": "#506784"
          },
          "hoverlabel": {
           "align": "left"
          },
          "hovermode": "closest",
          "mapbox": {
           "style": "dark"
          },
          "paper_bgcolor": "rgb(17,17,17)",
          "plot_bgcolor": "rgb(17,17,17)",
          "polar": {
           "angularaxis": {
            "gridcolor": "#506784",
            "linecolor": "#506784",
            "ticks": ""
           },
           "bgcolor": "rgb(17,17,17)",
           "radialaxis": {
            "gridcolor": "#506784",
            "linecolor": "#506784",
            "ticks": ""
           }
          },
          "scene": {
           "xaxis": {
            "backgroundcolor": "rgb(17,17,17)",
            "gridcolor": "#506784",
            "gridwidth": 2,
            "linecolor": "#506784",
            "showbackground": true,
            "ticks": "",
            "zerolinecolor": "#C8D4E3"
           },
           "yaxis": {
            "backgroundcolor": "rgb(17,17,17)",
            "gridcolor": "#506784",
            "gridwidth": 2,
            "linecolor": "#506784",
            "showbackground": true,
            "ticks": "",
            "zerolinecolor": "#C8D4E3"
           },
           "zaxis": {
            "backgroundcolor": "rgb(17,17,17)",
            "gridcolor": "#506784",
            "gridwidth": 2,
            "linecolor": "#506784",
            "showbackground": true,
            "ticks": "",
            "zerolinecolor": "#C8D4E3"
           }
          },
          "shapedefaults": {
           "line": {
            "color": "#f2f5fa"
           }
          },
          "sliderdefaults": {
           "bgcolor": "#C8D4E3",
           "bordercolor": "rgb(17,17,17)",
           "borderwidth": 1,
           "tickwidth": 0
          },
          "ternary": {
           "aaxis": {
            "gridcolor": "#506784",
            "linecolor": "#506784",
            "ticks": ""
           },
           "baxis": {
            "gridcolor": "#506784",
            "linecolor": "#506784",
            "ticks": ""
           },
           "bgcolor": "rgb(17,17,17)",
           "caxis": {
            "gridcolor": "#506784",
            "linecolor": "#506784",
            "ticks": ""
           }
          },
          "title": {
           "x": 0.05
          },
          "updatemenudefaults": {
           "bgcolor": "#506784",
           "borderwidth": 0
          },
          "xaxis": {
           "automargin": true,
           "gridcolor": "#283442",
           "linecolor": "#506784",
           "ticks": "",
           "title": {
            "standoff": 15
           },
           "zerolinecolor": "#283442",
           "zerolinewidth": 2
          },
          "yaxis": {
           "automargin": true,
           "gridcolor": "#283442",
           "linecolor": "#506784",
           "ticks": "",
           "title": {
            "standoff": 15
           },
           "zerolinecolor": "#283442",
           "zerolinewidth": 2
          }
         }
        },
        "title": {
         "text": "Gráfico de la Función Logarítmica"
        },
        "xaxis": {
         "title": {
          "text": "X"
         }
        },
        "yaxis": {
         "title": {
          "text": "log(X)"
         }
        }
       }
      }
     },
     "metadata": {},
     "output_type": "display_data"
    }
   ],
   "source": [
    "import plotly.graph_objects as go\n",
    "import numpy as np\n",
    "\n",
    "# Definir la función logarítmica\n",
    "def log_function(x):\n",
    "    return np.log(x)\n",
    "\n",
    "# Generar datos para el gráfico\n",
    "x_values = np.linspace(0.1, 5, 100)  # Evitar el logaritmo de 0\n",
    "y_values = log_function(x_values)\n",
    "\n",
    "# Crear el gráfico\n",
    "fig = go.Figure()\n",
    "\n",
    "# Agregar la curva de la función logarítmica\n",
    "fig.add_trace(go.Scatter(x=x_values, y=y_values, mode='lines', name='Logaritmo'))\n",
    "\n",
    "# Configurar el diseño del gráfico\n",
    "fig.update_layout(\n",
    "    title='Gráfico de la Función Logarítmica',\n",
    "    xaxis=dict(title='X'),\n",
    "    yaxis=dict(title='log(X)'),\n",
    "    template='plotly_dark'  # Puedes cambiar el tema según tus preferencias\n",
    ")\n",
    "\n",
    "# Mostrar el gráfico\n",
    "fig.show()\n"
   ]
  },
  {
   "cell_type": "markdown",
   "id": "a6719306",
   "metadata": {},
   "source": [
    "# Interpretaciones del gráfico de la función logaritmica con plotly\n",
    "\n",
    "* La función logaritmica, es una función creciente. "
   ]
  },
  {
   "cell_type": "code",
   "execution_count": null,
   "id": "3b788bca",
   "metadata": {
    "slideshow": {
     "slide_type": "slide"
    }
   },
   "outputs": [],
   "source": []
  },
  {
   "cell_type": "markdown",
   "id": "aac04d00",
   "metadata": {
    "slideshow": {
     "slide_type": "slide"
    }
   },
   "source": [
    "<img src = ''>"
   ]
  },
  {
   "cell_type": "markdown",
   "id": "8a6f7ef9",
   "metadata": {
    "slideshow": {
     "slide_type": "slide"
    }
   },
   "source": [
    "## Tareas para realizar antes de la clase"
   ]
  },
  {
   "cell_type": "markdown",
   "id": "90cae469",
   "metadata": {
    "slideshow": {
     "slide_type": "slide"
    }
   },
   "source": [
    "1. Ver los videos respectivos [definición de antiderivada](https://www.youtube.com/watch?v=A3U5j2lIMW4)\n",
    "2. Memorizar las definiciones []()\n",
    "3. Sintetizar o resumir la información en mapas conceptuales. []()\n",
    "4. Leer los ejemplos del texto y repricar o reproducir los procedimientos. "
   ]
  },
  {
   "cell_type": "code",
   "execution_count": 22,
   "id": "6ec363d8",
   "metadata": {},
   "outputs": [
    {
     "name": "stdout",
     "output_type": "stream",
     "text": [
      "Asignaciones guardadas en tarea3.8Calculo diferencial e integral de Purcell\n"
     ]
    },
    {
     "data": {
      "text/html": [
       "<div>\n",
       "<style scoped>\n",
       "    .dataframe tbody tr th:only-of-type {\n",
       "        vertical-align: middle;\n",
       "    }\n",
       "\n",
       "    .dataframe tbody tr th {\n",
       "        vertical-align: top;\n",
       "    }\n",
       "\n",
       "    .dataframe thead th {\n",
       "        text-align: right;\n",
       "    }\n",
       "</style>\n",
       "<table border=\"1\" class=\"dataframe\">\n",
       "  <thead>\n",
       "    <tr style=\"text-align: right;\">\n",
       "      <th></th>\n",
       "      <th>Student</th>\n",
       "      <th>Exam1</th>\n",
       "    </tr>\n",
       "  </thead>\n",
       "  <tbody>\n",
       "    <tr>\n",
       "      <th>0</th>\n",
       "      <td>AGUDELO MORENO RENATO DIRNEY</td>\n",
       "      <td>5</td>\n",
       "    </tr>\n",
       "    <tr>\n",
       "      <th>1</th>\n",
       "      <td>AMARIS FERNANDEZ SEBASTIAN CAMILO</td>\n",
       "      <td>4</td>\n",
       "    </tr>\n",
       "    <tr>\n",
       "      <th>2</th>\n",
       "      <td>ARENAS HERAZO GABRIEL ENRIQUE</td>\n",
       "      <td>5</td>\n",
       "    </tr>\n",
       "    <tr>\n",
       "      <th>3</th>\n",
       "      <td>AYALA MENDOZA MARISOL YACIRA</td>\n",
       "      <td>5</td>\n",
       "    </tr>\n",
       "    <tr>\n",
       "      <th>4</th>\n",
       "      <td>BERTEL RODELO MICHELL SMIT</td>\n",
       "      <td>4</td>\n",
       "    </tr>\n",
       "    <tr>\n",
       "      <th>5</th>\n",
       "      <td>BULA VERGARA MARIA PAULA</td>\n",
       "      <td>1</td>\n",
       "    </tr>\n",
       "    <tr>\n",
       "      <th>6</th>\n",
       "      <td>CANTILLO ENSUCHO DANIEL</td>\n",
       "      <td>3</td>\n",
       "    </tr>\n",
       "    <tr>\n",
       "      <th>7</th>\n",
       "      <td>CERVANTES DURAN ANGELICA</td>\n",
       "      <td>1</td>\n",
       "    </tr>\n",
       "    <tr>\n",
       "      <th>8</th>\n",
       "      <td>GALLEGO TEJADA JUAN ESTEBAN</td>\n",
       "      <td>2</td>\n",
       "    </tr>\n",
       "    <tr>\n",
       "      <th>9</th>\n",
       "      <td>GUERRA NORIEGA YONATHAN</td>\n",
       "      <td>1</td>\n",
       "    </tr>\n",
       "    <tr>\n",
       "      <th>10</th>\n",
       "      <td>HINCAPIE CASTRO JOHAN SEBASTIAN</td>\n",
       "      <td>2</td>\n",
       "    </tr>\n",
       "    <tr>\n",
       "      <th>11</th>\n",
       "      <td>HUMANEZ SANCHEZ CAMILO</td>\n",
       "      <td>5</td>\n",
       "    </tr>\n",
       "    <tr>\n",
       "      <th>12</th>\n",
       "      <td>IBAnEZ MORENO FRANCISCO LUIS</td>\n",
       "      <td>4</td>\n",
       "    </tr>\n",
       "    <tr>\n",
       "      <th>13</th>\n",
       "      <td>LONDONO CUADRADO CRISTIAN ALBERTO</td>\n",
       "      <td>3</td>\n",
       "    </tr>\n",
       "    <tr>\n",
       "      <th>14</th>\n",
       "      <td>LOZANO HOLGUIN LIZETH JOHANA</td>\n",
       "      <td>3</td>\n",
       "    </tr>\n",
       "    <tr>\n",
       "      <th>15</th>\n",
       "      <td>MASS MIRANDA RIVALDO JOSE</td>\n",
       "      <td>4</td>\n",
       "    </tr>\n",
       "    <tr>\n",
       "      <th>16</th>\n",
       "      <td>MIRANDA MARTINEZ CARLOS ANDRES</td>\n",
       "      <td>1</td>\n",
       "    </tr>\n",
       "    <tr>\n",
       "      <th>17</th>\n",
       "      <td>MONTERROSA SOTO ABRIL</td>\n",
       "      <td>4</td>\n",
       "    </tr>\n",
       "    <tr>\n",
       "      <th>18</th>\n",
       "      <td>NORIEGA JIMENEZ GABRIELA</td>\n",
       "      <td>3</td>\n",
       "    </tr>\n",
       "    <tr>\n",
       "      <th>19</th>\n",
       "      <td>PEREZ REYES IVAN DARIO</td>\n",
       "      <td>2</td>\n",
       "    </tr>\n",
       "    <tr>\n",
       "      <th>20</th>\n",
       "      <td>PEREZ THERAN ERLINDA</td>\n",
       "      <td>4</td>\n",
       "    </tr>\n",
       "    <tr>\n",
       "      <th>21</th>\n",
       "      <td>PINEDA ROMERO YOSMERI</td>\n",
       "      <td>5</td>\n",
       "    </tr>\n",
       "    <tr>\n",
       "      <th>22</th>\n",
       "      <td>QUINONEZ CERVANTES MARIANA</td>\n",
       "      <td>1</td>\n",
       "    </tr>\n",
       "    <tr>\n",
       "      <th>23</th>\n",
       "      <td>QUIROZ DURAN JUAN MANUEL</td>\n",
       "      <td>2</td>\n",
       "    </tr>\n",
       "    <tr>\n",
       "      <th>24</th>\n",
       "      <td>RAMOS PEREZ YANINE</td>\n",
       "      <td>1</td>\n",
       "    </tr>\n",
       "    <tr>\n",
       "      <th>25</th>\n",
       "      <td>RIVAS HOYOS ESTEFANIA</td>\n",
       "      <td>2</td>\n",
       "    </tr>\n",
       "    <tr>\n",
       "      <th>26</th>\n",
       "      <td>ROSILLO TEJADA VANESA</td>\n",
       "      <td>2</td>\n",
       "    </tr>\n",
       "    <tr>\n",
       "      <th>27</th>\n",
       "      <td>SANCHEZ PADILLA SILVESTRE</td>\n",
       "      <td>3</td>\n",
       "    </tr>\n",
       "    <tr>\n",
       "      <th>28</th>\n",
       "      <td>SILVA ROYERO MAILY CRISTINA</td>\n",
       "      <td>2</td>\n",
       "    </tr>\n",
       "    <tr>\n",
       "      <th>29</th>\n",
       "      <td>USUGA GEORGE JHON ESTIVEN</td>\n",
       "      <td>1</td>\n",
       "    </tr>\n",
       "    <tr>\n",
       "      <th>30</th>\n",
       "      <td>Profe marco</td>\n",
       "      <td>5</td>\n",
       "    </tr>\n",
       "    <tr>\n",
       "      <th>31</th>\n",
       "      <td>NaN</td>\n",
       "      <td>4</td>\n",
       "    </tr>\n",
       "  </tbody>\n",
       "</table>\n",
       "</div>"
      ],
      "text/plain": [
       "                              Student  Exam1\n",
       "0        AGUDELO MORENO RENATO DIRNEY      5\n",
       "1   AMARIS FERNANDEZ SEBASTIAN CAMILO      4\n",
       "2       ARENAS HERAZO GABRIEL ENRIQUE      5\n",
       "3        AYALA MENDOZA MARISOL YACIRA      5\n",
       "4          BERTEL RODELO MICHELL SMIT      4\n",
       "5            BULA VERGARA MARIA PAULA      1\n",
       "6             CANTILLO ENSUCHO DANIEL      3\n",
       "7            CERVANTES DURAN ANGELICA      1\n",
       "8         GALLEGO TEJADA JUAN ESTEBAN      2\n",
       "9             GUERRA NORIEGA YONATHAN      1\n",
       "10    HINCAPIE CASTRO JOHAN SEBASTIAN      2\n",
       "11             HUMANEZ SANCHEZ CAMILO      5\n",
       "12       IBAnEZ MORENO FRANCISCO LUIS      4\n",
       "13  LONDONO CUADRADO CRISTIAN ALBERTO      3\n",
       "14       LOZANO HOLGUIN LIZETH JOHANA      3\n",
       "15          MASS MIRANDA RIVALDO JOSE      4\n",
       "16     MIRANDA MARTINEZ CARLOS ANDRES      1\n",
       "17              MONTERROSA SOTO ABRIL      4\n",
       "18           NORIEGA JIMENEZ GABRIELA      3\n",
       "19             PEREZ REYES IVAN DARIO      2\n",
       "20               PEREZ THERAN ERLINDA      4\n",
       "21              PINEDA ROMERO YOSMERI      5\n",
       "22         QUINONEZ CERVANTES MARIANA      1\n",
       "23           QUIROZ DURAN JUAN MANUEL      2\n",
       "24                 RAMOS PEREZ YANINE      1\n",
       "25              RIVAS HOYOS ESTEFANIA      2\n",
       "26              ROSILLO TEJADA VANESA      2\n",
       "27          SANCHEZ PADILLA SILVESTRE      3\n",
       "28        SILVA ROYERO MAILY CRISTINA      2\n",
       "29          USUGA GEORGE JHON ESTIVEN      1\n",
       "30                        Profe marco      5\n",
       "31                                NaN      4"
      ]
     },
     "execution_count": 22,
     "metadata": {},
     "output_type": "execute_result"
    }
   ],
   "source": [
    "# asignación de tres ejercicio del taller para quiz\n",
    "\n",
    "import pandas as pd\n",
    "import numpy as np\n",
    "import random\n",
    "import requests\n",
    "np.random.seed(42)\n",
    "\n",
    "texto_guia = 'Calculo diferencial e integral de Purcell'\n",
    "página_pdf = 202\n",
    "seccion_libro= '3.8'\n",
    "num_ejercicios_del_taller = 6\n",
    "numero_ejerccios_a_asignar = 1\n",
    "\n",
    "\n",
    "# Descargar la lista de  estudiantes y ejercicios\n",
    "students_url = \"https://raw.githubusercontent.com/marco-canas/groups_list/main/calculo_integral.csv\"\n",
    "exercises = list(range(1, num_ejercicios_del_taller))  # Lista de ejercicios del 1 al 83\n",
    "\n",
    "# Cargar la lista de estudiantes\n",
    "students_data = pd.read_csv(students_url)\n",
    "\n",
    "# Crear una lista para almacenar las asignaciones\n",
    "assignments = []\n",
    "\n",
    "# Asignar ejercicios aleatorios a cada estudiante\n",
    "for index, student in students_data.iterrows():\n",
    "    random_exercises = random.sample(exercises, numero_ejerccios_a_asignar)  # Seleccionar 5 ejercicios aleatorios sin repetición\n",
    "    assignments.append([students_data[\"Nombre\"][index], *random_exercises])  # Agregar asignación a la lista\n",
    "\n",
    "# Crear un DataFrame con las asignaciones  \n",
    "lista_ejercicios_asignados = ['Exam' + str(i+1) for i in range(numero_ejerccios_a_asignar)]    \n",
    "columns = [\"Student\"] + lista_ejercicios_asignados\n",
    "            \n",
    "assignment_df = pd.DataFrame(assignments, columns=columns)\n",
    "\n",
    "# Guardar el DataFrame en un archivo CSV\n",
    "assignment_csv = \"tarea\" + seccion_libro + texto_guia\n",
    "assignment_df.to_csv(assignment_csv, index=False)\n",
    "\n",
    "print(\"Asignaciones guardadas en\", assignment_csv)\n",
    "assignment_df"
   ]
  },
  {
   "cell_type": "markdown",
   "id": "fccb447c",
   "metadata": {
    "slideshow": {
     "slide_type": "slide"
    }
   },
   "source": [
    "# Tareas para realizar en clase"
   ]
  },
  {
   "cell_type": "markdown",
   "id": "e5c48edf",
   "metadata": {
    "slideshow": {
     "slide_type": "slide"
    }
   },
   "source": [
    "* Modelación matemática \n",
    "* Trabajo en equipos"
   ]
  },
  {
   "cell_type": "code",
   "execution_count": 23,
   "id": "33949e3f",
   "metadata": {},
   "outputs": [
    {
     "name": "stdout",
     "output_type": "stream",
     "text": [
      "Asignaciones guardadas en tarea3.8Calculo diferencial e integral de Purcell\n"
     ]
    },
    {
     "data": {
      "text/html": [
       "<div>\n",
       "<style scoped>\n",
       "    .dataframe tbody tr th:only-of-type {\n",
       "        vertical-align: middle;\n",
       "    }\n",
       "\n",
       "    .dataframe tbody tr th {\n",
       "        vertical-align: top;\n",
       "    }\n",
       "\n",
       "    .dataframe thead th {\n",
       "        text-align: right;\n",
       "    }\n",
       "</style>\n",
       "<table border=\"1\" class=\"dataframe\">\n",
       "  <thead>\n",
       "    <tr style=\"text-align: right;\">\n",
       "      <th></th>\n",
       "      <th>Student</th>\n",
       "      <th>exercise1</th>\n",
       "      <th>exercise2</th>\n",
       "      <th>exercise3</th>\n",
       "    </tr>\n",
       "  </thead>\n",
       "  <tbody>\n",
       "    <tr>\n",
       "      <th>0</th>\n",
       "      <td>AGUDELO MORENO RENATO DIRNEY</td>\n",
       "      <td>22</td>\n",
       "      <td>19</td>\n",
       "      <td>26</td>\n",
       "    </tr>\n",
       "    <tr>\n",
       "      <th>1</th>\n",
       "      <td>AMARIS FERNANDEZ SEBASTIAN CAMILO</td>\n",
       "      <td>52</td>\n",
       "      <td>48</td>\n",
       "      <td>8</td>\n",
       "    </tr>\n",
       "    <tr>\n",
       "      <th>2</th>\n",
       "      <td>ARENAS HERAZO GABRIEL ENRIQUE</td>\n",
       "      <td>19</td>\n",
       "      <td>23</td>\n",
       "      <td>29</td>\n",
       "    </tr>\n",
       "    <tr>\n",
       "      <th>3</th>\n",
       "      <td>AYALA MENDOZA MARISOL YACIRA</td>\n",
       "      <td>40</td>\n",
       "      <td>15</td>\n",
       "      <td>10</td>\n",
       "    </tr>\n",
       "    <tr>\n",
       "      <th>4</th>\n",
       "      <td>BERTEL RODELO MICHELL SMIT</td>\n",
       "      <td>36</td>\n",
       "      <td>35</td>\n",
       "      <td>37</td>\n",
       "    </tr>\n",
       "    <tr>\n",
       "      <th>5</th>\n",
       "      <td>BULA VERGARA MARIA PAULA</td>\n",
       "      <td>34</td>\n",
       "      <td>39</td>\n",
       "      <td>16</td>\n",
       "    </tr>\n",
       "    <tr>\n",
       "      <th>6</th>\n",
       "      <td>CANTILLO ENSUCHO DANIEL</td>\n",
       "      <td>32</td>\n",
       "      <td>41</td>\n",
       "      <td>43</td>\n",
       "    </tr>\n",
       "    <tr>\n",
       "      <th>7</th>\n",
       "      <td>CERVANTES DURAN ANGELICA</td>\n",
       "      <td>8</td>\n",
       "      <td>2</td>\n",
       "      <td>5</td>\n",
       "    </tr>\n",
       "    <tr>\n",
       "      <th>8</th>\n",
       "      <td>GALLEGO TEJADA JUAN ESTEBAN</td>\n",
       "      <td>41</td>\n",
       "      <td>44</td>\n",
       "      <td>18</td>\n",
       "    </tr>\n",
       "    <tr>\n",
       "      <th>9</th>\n",
       "      <td>GUERRA NORIEGA YONATHAN</td>\n",
       "      <td>36</td>\n",
       "      <td>21</td>\n",
       "      <td>41</td>\n",
       "    </tr>\n",
       "    <tr>\n",
       "      <th>10</th>\n",
       "      <td>HINCAPIE CASTRO JOHAN SEBASTIAN</td>\n",
       "      <td>45</td>\n",
       "      <td>6</td>\n",
       "      <td>49</td>\n",
       "    </tr>\n",
       "    <tr>\n",
       "      <th>11</th>\n",
       "      <td>HUMANEZ SANCHEZ CAMILO</td>\n",
       "      <td>47</td>\n",
       "      <td>20</td>\n",
       "      <td>31</td>\n",
       "    </tr>\n",
       "    <tr>\n",
       "      <th>12</th>\n",
       "      <td>IBAnEZ MORENO FRANCISCO LUIS</td>\n",
       "      <td>23</td>\n",
       "      <td>10</td>\n",
       "      <td>4</td>\n",
       "    </tr>\n",
       "    <tr>\n",
       "      <th>13</th>\n",
       "      <td>LONDONO CUADRADO CRISTIAN ALBERTO</td>\n",
       "      <td>4</td>\n",
       "      <td>40</td>\n",
       "      <td>14</td>\n",
       "    </tr>\n",
       "    <tr>\n",
       "      <th>14</th>\n",
       "      <td>LOZANO HOLGUIN LIZETH JOHANA</td>\n",
       "      <td>47</td>\n",
       "      <td>36</td>\n",
       "      <td>11</td>\n",
       "    </tr>\n",
       "    <tr>\n",
       "      <th>15</th>\n",
       "      <td>MASS MIRANDA RIVALDO JOSE</td>\n",
       "      <td>24</td>\n",
       "      <td>30</td>\n",
       "      <td>9</td>\n",
       "    </tr>\n",
       "    <tr>\n",
       "      <th>16</th>\n",
       "      <td>MIRANDA MARTINEZ CARLOS ANDRES</td>\n",
       "      <td>26</td>\n",
       "      <td>48</td>\n",
       "      <td>9</td>\n",
       "    </tr>\n",
       "    <tr>\n",
       "      <th>17</th>\n",
       "      <td>MONTERROSA SOTO ABRIL</td>\n",
       "      <td>6</td>\n",
       "      <td>52</td>\n",
       "      <td>32</td>\n",
       "    </tr>\n",
       "    <tr>\n",
       "      <th>18</th>\n",
       "      <td>NORIEGA JIMENEZ GABRIELA</td>\n",
       "      <td>39</td>\n",
       "      <td>11</td>\n",
       "      <td>27</td>\n",
       "    </tr>\n",
       "    <tr>\n",
       "      <th>19</th>\n",
       "      <td>PEREZ REYES IVAN DARIO</td>\n",
       "      <td>27</td>\n",
       "      <td>23</td>\n",
       "      <td>21</td>\n",
       "    </tr>\n",
       "    <tr>\n",
       "      <th>20</th>\n",
       "      <td>PEREZ THERAN ERLINDA</td>\n",
       "      <td>12</td>\n",
       "      <td>26</td>\n",
       "      <td>13</td>\n",
       "    </tr>\n",
       "    <tr>\n",
       "      <th>21</th>\n",
       "      <td>PINEDA ROMERO YOSMERI</td>\n",
       "      <td>16</td>\n",
       "      <td>53</td>\n",
       "      <td>31</td>\n",
       "    </tr>\n",
       "    <tr>\n",
       "      <th>22</th>\n",
       "      <td>QUINONEZ CERVANTES MARIANA</td>\n",
       "      <td>3</td>\n",
       "      <td>19</td>\n",
       "      <td>1</td>\n",
       "    </tr>\n",
       "    <tr>\n",
       "      <th>23</th>\n",
       "      <td>QUIROZ DURAN JUAN MANUEL</td>\n",
       "      <td>2</td>\n",
       "      <td>29</td>\n",
       "      <td>20</td>\n",
       "    </tr>\n",
       "    <tr>\n",
       "      <th>24</th>\n",
       "      <td>RAMOS PEREZ YANINE</td>\n",
       "      <td>20</td>\n",
       "      <td>43</td>\n",
       "      <td>37</td>\n",
       "    </tr>\n",
       "    <tr>\n",
       "      <th>25</th>\n",
       "      <td>RIVAS HOYOS ESTEFANIA</td>\n",
       "      <td>45</td>\n",
       "      <td>21</td>\n",
       "      <td>9</td>\n",
       "    </tr>\n",
       "    <tr>\n",
       "      <th>26</th>\n",
       "      <td>ROSILLO TEJADA VANESA</td>\n",
       "      <td>19</td>\n",
       "      <td>32</td>\n",
       "      <td>16</td>\n",
       "    </tr>\n",
       "    <tr>\n",
       "      <th>27</th>\n",
       "      <td>SANCHEZ PADILLA SILVESTRE</td>\n",
       "      <td>17</td>\n",
       "      <td>36</td>\n",
       "      <td>8</td>\n",
       "    </tr>\n",
       "    <tr>\n",
       "      <th>28</th>\n",
       "      <td>SILVA ROYERO MAILY CRISTINA</td>\n",
       "      <td>34</td>\n",
       "      <td>24</td>\n",
       "      <td>48</td>\n",
       "    </tr>\n",
       "    <tr>\n",
       "      <th>29</th>\n",
       "      <td>USUGA GEORGE JHON ESTIVEN</td>\n",
       "      <td>32</td>\n",
       "      <td>42</td>\n",
       "      <td>22</td>\n",
       "    </tr>\n",
       "    <tr>\n",
       "      <th>30</th>\n",
       "      <td>Profe marco</td>\n",
       "      <td>32</td>\n",
       "      <td>22</td>\n",
       "      <td>51</td>\n",
       "    </tr>\n",
       "    <tr>\n",
       "      <th>31</th>\n",
       "      <td>NaN</td>\n",
       "      <td>50</td>\n",
       "      <td>35</td>\n",
       "      <td>33</td>\n",
       "    </tr>\n",
       "  </tbody>\n",
       "</table>\n",
       "</div>"
      ],
      "text/plain": [
       "                              Student  exercise1  exercise2  exercise3\n",
       "0        AGUDELO MORENO RENATO DIRNEY         22         19         26\n",
       "1   AMARIS FERNANDEZ SEBASTIAN CAMILO         52         48          8\n",
       "2       ARENAS HERAZO GABRIEL ENRIQUE         19         23         29\n",
       "3        AYALA MENDOZA MARISOL YACIRA         40         15         10\n",
       "4          BERTEL RODELO MICHELL SMIT         36         35         37\n",
       "5            BULA VERGARA MARIA PAULA         34         39         16\n",
       "6             CANTILLO ENSUCHO DANIEL         32         41         43\n",
       "7            CERVANTES DURAN ANGELICA          8          2          5\n",
       "8         GALLEGO TEJADA JUAN ESTEBAN         41         44         18\n",
       "9             GUERRA NORIEGA YONATHAN         36         21         41\n",
       "10    HINCAPIE CASTRO JOHAN SEBASTIAN         45          6         49\n",
       "11             HUMANEZ SANCHEZ CAMILO         47         20         31\n",
       "12       IBAnEZ MORENO FRANCISCO LUIS         23         10          4\n",
       "13  LONDONO CUADRADO CRISTIAN ALBERTO          4         40         14\n",
       "14       LOZANO HOLGUIN LIZETH JOHANA         47         36         11\n",
       "15          MASS MIRANDA RIVALDO JOSE         24         30          9\n",
       "16     MIRANDA MARTINEZ CARLOS ANDRES         26         48          9\n",
       "17              MONTERROSA SOTO ABRIL          6         52         32\n",
       "18           NORIEGA JIMENEZ GABRIELA         39         11         27\n",
       "19             PEREZ REYES IVAN DARIO         27         23         21\n",
       "20               PEREZ THERAN ERLINDA         12         26         13\n",
       "21              PINEDA ROMERO YOSMERI         16         53         31\n",
       "22         QUINONEZ CERVANTES MARIANA          3         19          1\n",
       "23           QUIROZ DURAN JUAN MANUEL          2         29         20\n",
       "24                 RAMOS PEREZ YANINE         20         43         37\n",
       "25              RIVAS HOYOS ESTEFANIA         45         21          9\n",
       "26              ROSILLO TEJADA VANESA         19         32         16\n",
       "27          SANCHEZ PADILLA SILVESTRE         17         36          8\n",
       "28        SILVA ROYERO MAILY CRISTINA         34         24         48\n",
       "29          USUGA GEORGE JHON ESTIVEN         32         42         22\n",
       "30                        Profe marco         32         22         51\n",
       "31                                NaN         50         35         33"
      ]
     },
     "execution_count": 23,
     "metadata": {},
     "output_type": "execute_result"
    }
   ],
   "source": [
    "# asignación de tres ejercicio del taller para quiz\n",
    "\n",
    "import pandas as pd\n",
    "import numpy as np\n",
    "import random\n",
    "import requests\n",
    "np.random.seed(42)\n",
    "\n",
    "texto_guia = 'Calculo diferencial e integral de Purcell'\n",
    "página_pdf = 202\n",
    "seccion_libro= '3.8'\n",
    "num_ejercicios_del_taller = 54\n",
    "numero_ejerccios_a_asignar = 3\n",
    "\n",
    "\n",
    "# Descargar la lista de  estudiantes y ejercicios\n",
    "students_url = \"https://raw.githubusercontent.com/marco-canas/groups_list/main/calculo_integral.csv\"\n",
    "exercises = list(range(1, num_ejercicios_del_taller))  # Lista de ejercicios del 1 al 83\n",
    "\n",
    "# Cargar la lista de estudiantes\n",
    "students_data = pd.read_csv(students_url)\n",
    "\n",
    "# Crear una lista para almacenar las asignaciones\n",
    "assignments = []\n",
    "\n",
    "# Asignar ejercicios aleatorios a cada estudiante\n",
    "for index, student in students_data.iterrows():\n",
    "    random_exercises = random.sample(exercises, numero_ejerccios_a_asignar)  # Seleccionar 5 ejercicios aleatorios sin repetición\n",
    "    assignments.append([students_data[\"Nombre\"][index], *random_exercises])  # Agregar asignación a la lista\n",
    "\n",
    "# Crear un DataFrame con las asignaciones  \n",
    "lista_ejercicios_asignados = ['exercise' + str(i+1) for i in range(numero_ejerccios_a_asignar)]    \n",
    "columns = [\"Student\"] + lista_ejercicios_asignados\n",
    "            \n",
    "assignment_df = pd.DataFrame(assignments, columns=columns)\n",
    "\n",
    "# Guardar el DataFrame en un archivo CSV\n",
    "assignment_csv = \"tarea\" + seccion_libro + texto_guia\n",
    "assignment_df.to_csv(assignment_csv, index=False)\n",
    "\n",
    "print(\"Asignaciones guardadas en\", assignment_csv)\n",
    "assignment_df"
   ]
  },
  {
   "cell_type": "markdown",
   "id": "8b6b0112",
   "metadata": {
    "slideshow": {
     "slide_type": "slide"
    }
   },
   "source": [
    "# Tareas para realizar después de la realización de la clase"
   ]
  },
  {
   "cell_type": "markdown",
   "id": "947460e3",
   "metadata": {
    "slideshow": {
     "slide_type": "slide"
    }
   },
   "source": [
    "* Actividades de memorización: \n",
    "  - escucha reiterada de grabaciones de formulas y resultados científicos. \n",
    "  - relectura de notas. \n",
    "  - ejercicios de mayor complejidad. \n",
    "  "
   ]
  },
  {
   "cell_type": "code",
   "execution_count": 24,
   "id": "a304b218",
   "metadata": {},
   "outputs": [
    {
     "name": "stdout",
     "output_type": "stream",
     "text": [
      "Asignaciones guardadas en tarea3.8Calculo diferencial e integral de Purcell\n"
     ]
    },
    {
     "data": {
      "text/html": [
       "<div>\n",
       "<style scoped>\n",
       "    .dataframe tbody tr th:only-of-type {\n",
       "        vertical-align: middle;\n",
       "    }\n",
       "\n",
       "    .dataframe tbody tr th {\n",
       "        vertical-align: top;\n",
       "    }\n",
       "\n",
       "    .dataframe thead th {\n",
       "        text-align: right;\n",
       "    }\n",
       "</style>\n",
       "<table border=\"1\" class=\"dataframe\">\n",
       "  <thead>\n",
       "    <tr style=\"text-align: right;\">\n",
       "      <th></th>\n",
       "      <th>Student</th>\n",
       "      <th>exercise1</th>\n",
       "      <th>exercise2</th>\n",
       "      <th>exercise3</th>\n",
       "      <th>exercise4</th>\n",
       "      <th>exercise5</th>\n",
       "      <th>exercise6</th>\n",
       "      <th>exercise7</th>\n",
       "      <th>exercise8</th>\n",
       "      <th>exercise9</th>\n",
       "      <th>exercise10</th>\n",
       "    </tr>\n",
       "  </thead>\n",
       "  <tbody>\n",
       "    <tr>\n",
       "      <th>0</th>\n",
       "      <td>AGUDELO MORENO RENATO DIRNEY</td>\n",
       "      <td>44</td>\n",
       "      <td>3</td>\n",
       "      <td>27</td>\n",
       "      <td>8</td>\n",
       "      <td>52</td>\n",
       "      <td>29</td>\n",
       "      <td>13</td>\n",
       "      <td>35</td>\n",
       "      <td>11</td>\n",
       "      <td>17</td>\n",
       "    </tr>\n",
       "    <tr>\n",
       "      <th>1</th>\n",
       "      <td>AMARIS FERNANDEZ SEBASTIAN CAMILO</td>\n",
       "      <td>7</td>\n",
       "      <td>10</td>\n",
       "      <td>34</td>\n",
       "      <td>3</td>\n",
       "      <td>17</td>\n",
       "      <td>19</td>\n",
       "      <td>24</td>\n",
       "      <td>28</td>\n",
       "      <td>29</td>\n",
       "      <td>30</td>\n",
       "    </tr>\n",
       "    <tr>\n",
       "      <th>2</th>\n",
       "      <td>ARENAS HERAZO GABRIEL ENRIQUE</td>\n",
       "      <td>35</td>\n",
       "      <td>52</td>\n",
       "      <td>9</td>\n",
       "      <td>17</td>\n",
       "      <td>5</td>\n",
       "      <td>28</td>\n",
       "      <td>22</td>\n",
       "      <td>20</td>\n",
       "      <td>6</td>\n",
       "      <td>8</td>\n",
       "    </tr>\n",
       "    <tr>\n",
       "      <th>3</th>\n",
       "      <td>AYALA MENDOZA MARISOL YACIRA</td>\n",
       "      <td>7</td>\n",
       "      <td>40</td>\n",
       "      <td>5</td>\n",
       "      <td>16</td>\n",
       "      <td>42</td>\n",
       "      <td>35</td>\n",
       "      <td>37</td>\n",
       "      <td>8</td>\n",
       "      <td>22</td>\n",
       "      <td>13</td>\n",
       "    </tr>\n",
       "    <tr>\n",
       "      <th>4</th>\n",
       "      <td>BERTEL RODELO MICHELL SMIT</td>\n",
       "      <td>40</td>\n",
       "      <td>5</td>\n",
       "      <td>29</td>\n",
       "      <td>21</td>\n",
       "      <td>11</td>\n",
       "      <td>27</td>\n",
       "      <td>1</td>\n",
       "      <td>45</td>\n",
       "      <td>13</td>\n",
       "      <td>26</td>\n",
       "    </tr>\n",
       "    <tr>\n",
       "      <th>5</th>\n",
       "      <td>BULA VERGARA MARIA PAULA</td>\n",
       "      <td>22</td>\n",
       "      <td>43</td>\n",
       "      <td>34</td>\n",
       "      <td>9</td>\n",
       "      <td>50</td>\n",
       "      <td>36</td>\n",
       "      <td>16</td>\n",
       "      <td>21</td>\n",
       "      <td>12</td>\n",
       "      <td>32</td>\n",
       "    </tr>\n",
       "    <tr>\n",
       "      <th>6</th>\n",
       "      <td>CANTILLO ENSUCHO DANIEL</td>\n",
       "      <td>27</td>\n",
       "      <td>4</td>\n",
       "      <td>29</td>\n",
       "      <td>23</td>\n",
       "      <td>45</td>\n",
       "      <td>47</td>\n",
       "      <td>41</td>\n",
       "      <td>33</td>\n",
       "      <td>49</td>\n",
       "      <td>12</td>\n",
       "    </tr>\n",
       "    <tr>\n",
       "      <th>7</th>\n",
       "      <td>CERVANTES DURAN ANGELICA</td>\n",
       "      <td>48</td>\n",
       "      <td>18</td>\n",
       "      <td>44</td>\n",
       "      <td>31</td>\n",
       "      <td>25</td>\n",
       "      <td>47</td>\n",
       "      <td>15</td>\n",
       "      <td>26</td>\n",
       "      <td>51</td>\n",
       "      <td>3</td>\n",
       "    </tr>\n",
       "    <tr>\n",
       "      <th>8</th>\n",
       "      <td>GALLEGO TEJADA JUAN ESTEBAN</td>\n",
       "      <td>39</td>\n",
       "      <td>53</td>\n",
       "      <td>17</td>\n",
       "      <td>6</td>\n",
       "      <td>30</td>\n",
       "      <td>10</td>\n",
       "      <td>38</td>\n",
       "      <td>29</td>\n",
       "      <td>12</td>\n",
       "      <td>8</td>\n",
       "    </tr>\n",
       "    <tr>\n",
       "      <th>9</th>\n",
       "      <td>GUERRA NORIEGA YONATHAN</td>\n",
       "      <td>9</td>\n",
       "      <td>20</td>\n",
       "      <td>18</td>\n",
       "      <td>52</td>\n",
       "      <td>31</td>\n",
       "      <td>51</td>\n",
       "      <td>13</td>\n",
       "      <td>32</td>\n",
       "      <td>4</td>\n",
       "      <td>48</td>\n",
       "    </tr>\n",
       "    <tr>\n",
       "      <th>10</th>\n",
       "      <td>HINCAPIE CASTRO JOHAN SEBASTIAN</td>\n",
       "      <td>25</td>\n",
       "      <td>47</td>\n",
       "      <td>34</td>\n",
       "      <td>2</td>\n",
       "      <td>24</td>\n",
       "      <td>43</td>\n",
       "      <td>10</td>\n",
       "      <td>45</td>\n",
       "      <td>41</td>\n",
       "      <td>19</td>\n",
       "    </tr>\n",
       "    <tr>\n",
       "      <th>11</th>\n",
       "      <td>HUMANEZ SANCHEZ CAMILO</td>\n",
       "      <td>52</td>\n",
       "      <td>27</td>\n",
       "      <td>24</td>\n",
       "      <td>21</td>\n",
       "      <td>36</td>\n",
       "      <td>47</td>\n",
       "      <td>40</td>\n",
       "      <td>20</td>\n",
       "      <td>22</td>\n",
       "      <td>19</td>\n",
       "    </tr>\n",
       "    <tr>\n",
       "      <th>12</th>\n",
       "      <td>IBAnEZ MORENO FRANCISCO LUIS</td>\n",
       "      <td>35</td>\n",
       "      <td>30</td>\n",
       "      <td>32</td>\n",
       "      <td>16</td>\n",
       "      <td>7</td>\n",
       "      <td>3</td>\n",
       "      <td>10</td>\n",
       "      <td>18</td>\n",
       "      <td>28</td>\n",
       "      <td>51</td>\n",
       "    </tr>\n",
       "    <tr>\n",
       "      <th>13</th>\n",
       "      <td>LONDONO CUADRADO CRISTIAN ALBERTO</td>\n",
       "      <td>19</td>\n",
       "      <td>16</td>\n",
       "      <td>32</td>\n",
       "      <td>42</td>\n",
       "      <td>44</td>\n",
       "      <td>12</td>\n",
       "      <td>20</td>\n",
       "      <td>27</td>\n",
       "      <td>36</td>\n",
       "      <td>2</td>\n",
       "    </tr>\n",
       "    <tr>\n",
       "      <th>14</th>\n",
       "      <td>LOZANO HOLGUIN LIZETH JOHANA</td>\n",
       "      <td>13</td>\n",
       "      <td>24</td>\n",
       "      <td>12</td>\n",
       "      <td>49</td>\n",
       "      <td>42</td>\n",
       "      <td>39</td>\n",
       "      <td>3</td>\n",
       "      <td>22</td>\n",
       "      <td>20</td>\n",
       "      <td>38</td>\n",
       "    </tr>\n",
       "    <tr>\n",
       "      <th>15</th>\n",
       "      <td>MASS MIRANDA RIVALDO JOSE</td>\n",
       "      <td>49</td>\n",
       "      <td>24</td>\n",
       "      <td>21</td>\n",
       "      <td>9</td>\n",
       "      <td>46</td>\n",
       "      <td>17</td>\n",
       "      <td>20</td>\n",
       "      <td>44</td>\n",
       "      <td>7</td>\n",
       "      <td>32</td>\n",
       "    </tr>\n",
       "    <tr>\n",
       "      <th>16</th>\n",
       "      <td>MIRANDA MARTINEZ CARLOS ANDRES</td>\n",
       "      <td>25</td>\n",
       "      <td>51</td>\n",
       "      <td>31</td>\n",
       "      <td>2</td>\n",
       "      <td>21</td>\n",
       "      <td>4</td>\n",
       "      <td>53</td>\n",
       "      <td>33</td>\n",
       "      <td>8</td>\n",
       "      <td>19</td>\n",
       "    </tr>\n",
       "    <tr>\n",
       "      <th>17</th>\n",
       "      <td>MONTERROSA SOTO ABRIL</td>\n",
       "      <td>5</td>\n",
       "      <td>49</td>\n",
       "      <td>14</td>\n",
       "      <td>44</td>\n",
       "      <td>45</td>\n",
       "      <td>34</td>\n",
       "      <td>21</td>\n",
       "      <td>1</td>\n",
       "      <td>33</td>\n",
       "      <td>31</td>\n",
       "    </tr>\n",
       "    <tr>\n",
       "      <th>18</th>\n",
       "      <td>NORIEGA JIMENEZ GABRIELA</td>\n",
       "      <td>13</td>\n",
       "      <td>19</td>\n",
       "      <td>21</td>\n",
       "      <td>35</td>\n",
       "      <td>29</td>\n",
       "      <td>27</td>\n",
       "      <td>48</td>\n",
       "      <td>15</td>\n",
       "      <td>32</td>\n",
       "      <td>46</td>\n",
       "    </tr>\n",
       "    <tr>\n",
       "      <th>19</th>\n",
       "      <td>PEREZ REYES IVAN DARIO</td>\n",
       "      <td>24</td>\n",
       "      <td>50</td>\n",
       "      <td>52</td>\n",
       "      <td>5</td>\n",
       "      <td>38</td>\n",
       "      <td>19</td>\n",
       "      <td>6</td>\n",
       "      <td>29</td>\n",
       "      <td>9</td>\n",
       "      <td>30</td>\n",
       "    </tr>\n",
       "    <tr>\n",
       "      <th>20</th>\n",
       "      <td>PEREZ THERAN ERLINDA</td>\n",
       "      <td>38</td>\n",
       "      <td>18</td>\n",
       "      <td>12</td>\n",
       "      <td>27</td>\n",
       "      <td>49</td>\n",
       "      <td>3</td>\n",
       "      <td>39</td>\n",
       "      <td>25</td>\n",
       "      <td>17</td>\n",
       "      <td>28</td>\n",
       "    </tr>\n",
       "    <tr>\n",
       "      <th>21</th>\n",
       "      <td>PINEDA ROMERO YOSMERI</td>\n",
       "      <td>10</td>\n",
       "      <td>43</td>\n",
       "      <td>31</td>\n",
       "      <td>22</td>\n",
       "      <td>8</td>\n",
       "      <td>26</td>\n",
       "      <td>41</td>\n",
       "      <td>12</td>\n",
       "      <td>3</td>\n",
       "      <td>42</td>\n",
       "    </tr>\n",
       "    <tr>\n",
       "      <th>22</th>\n",
       "      <td>QUINONEZ CERVANTES MARIANA</td>\n",
       "      <td>14</td>\n",
       "      <td>24</td>\n",
       "      <td>7</td>\n",
       "      <td>32</td>\n",
       "      <td>50</td>\n",
       "      <td>16</td>\n",
       "      <td>13</td>\n",
       "      <td>1</td>\n",
       "      <td>8</td>\n",
       "      <td>22</td>\n",
       "    </tr>\n",
       "    <tr>\n",
       "      <th>23</th>\n",
       "      <td>QUIROZ DURAN JUAN MANUEL</td>\n",
       "      <td>38</td>\n",
       "      <td>50</td>\n",
       "      <td>4</td>\n",
       "      <td>39</td>\n",
       "      <td>31</td>\n",
       "      <td>14</td>\n",
       "      <td>29</td>\n",
       "      <td>24</td>\n",
       "      <td>46</td>\n",
       "      <td>23</td>\n",
       "    </tr>\n",
       "    <tr>\n",
       "      <th>24</th>\n",
       "      <td>RAMOS PEREZ YANINE</td>\n",
       "      <td>20</td>\n",
       "      <td>8</td>\n",
       "      <td>19</td>\n",
       "      <td>14</td>\n",
       "      <td>4</td>\n",
       "      <td>51</td>\n",
       "      <td>40</td>\n",
       "      <td>50</td>\n",
       "      <td>32</td>\n",
       "      <td>21</td>\n",
       "    </tr>\n",
       "    <tr>\n",
       "      <th>25</th>\n",
       "      <td>RIVAS HOYOS ESTEFANIA</td>\n",
       "      <td>19</td>\n",
       "      <td>27</td>\n",
       "      <td>35</td>\n",
       "      <td>15</td>\n",
       "      <td>13</td>\n",
       "      <td>16</td>\n",
       "      <td>23</td>\n",
       "      <td>50</td>\n",
       "      <td>42</td>\n",
       "      <td>24</td>\n",
       "    </tr>\n",
       "    <tr>\n",
       "      <th>26</th>\n",
       "      <td>ROSILLO TEJADA VANESA</td>\n",
       "      <td>48</td>\n",
       "      <td>23</td>\n",
       "      <td>2</td>\n",
       "      <td>42</td>\n",
       "      <td>29</td>\n",
       "      <td>1</td>\n",
       "      <td>22</td>\n",
       "      <td>51</td>\n",
       "      <td>53</td>\n",
       "      <td>38</td>\n",
       "    </tr>\n",
       "    <tr>\n",
       "      <th>27</th>\n",
       "      <td>SANCHEZ PADILLA SILVESTRE</td>\n",
       "      <td>1</td>\n",
       "      <td>23</td>\n",
       "      <td>22</td>\n",
       "      <td>32</td>\n",
       "      <td>9</td>\n",
       "      <td>40</td>\n",
       "      <td>16</td>\n",
       "      <td>36</td>\n",
       "      <td>13</td>\n",
       "      <td>19</td>\n",
       "    </tr>\n",
       "    <tr>\n",
       "      <th>28</th>\n",
       "      <td>SILVA ROYERO MAILY CRISTINA</td>\n",
       "      <td>1</td>\n",
       "      <td>35</td>\n",
       "      <td>27</td>\n",
       "      <td>43</td>\n",
       "      <td>30</td>\n",
       "      <td>6</td>\n",
       "      <td>31</td>\n",
       "      <td>12</td>\n",
       "      <td>21</td>\n",
       "      <td>51</td>\n",
       "    </tr>\n",
       "    <tr>\n",
       "      <th>29</th>\n",
       "      <td>USUGA GEORGE JHON ESTIVEN</td>\n",
       "      <td>24</td>\n",
       "      <td>46</td>\n",
       "      <td>26</td>\n",
       "      <td>32</td>\n",
       "      <td>38</td>\n",
       "      <td>12</td>\n",
       "      <td>5</td>\n",
       "      <td>34</td>\n",
       "      <td>4</td>\n",
       "      <td>45</td>\n",
       "    </tr>\n",
       "    <tr>\n",
       "      <th>30</th>\n",
       "      <td>Profe marco</td>\n",
       "      <td>13</td>\n",
       "      <td>4</td>\n",
       "      <td>51</td>\n",
       "      <td>6</td>\n",
       "      <td>26</td>\n",
       "      <td>18</td>\n",
       "      <td>47</td>\n",
       "      <td>37</td>\n",
       "      <td>5</td>\n",
       "      <td>10</td>\n",
       "    </tr>\n",
       "    <tr>\n",
       "      <th>31</th>\n",
       "      <td>NaN</td>\n",
       "      <td>44</td>\n",
       "      <td>4</td>\n",
       "      <td>27</td>\n",
       "      <td>6</td>\n",
       "      <td>36</td>\n",
       "      <td>17</td>\n",
       "      <td>32</td>\n",
       "      <td>40</td>\n",
       "      <td>22</td>\n",
       "      <td>33</td>\n",
       "    </tr>\n",
       "  </tbody>\n",
       "</table>\n",
       "</div>"
      ],
      "text/plain": [
       "                              Student  exercise1  exercise2  exercise3  \\\n",
       "0        AGUDELO MORENO RENATO DIRNEY         44          3         27   \n",
       "1   AMARIS FERNANDEZ SEBASTIAN CAMILO          7         10         34   \n",
       "2       ARENAS HERAZO GABRIEL ENRIQUE         35         52          9   \n",
       "3        AYALA MENDOZA MARISOL YACIRA          7         40          5   \n",
       "4          BERTEL RODELO MICHELL SMIT         40          5         29   \n",
       "5            BULA VERGARA MARIA PAULA         22         43         34   \n",
       "6             CANTILLO ENSUCHO DANIEL         27          4         29   \n",
       "7            CERVANTES DURAN ANGELICA         48         18         44   \n",
       "8         GALLEGO TEJADA JUAN ESTEBAN         39         53         17   \n",
       "9             GUERRA NORIEGA YONATHAN          9         20         18   \n",
       "10    HINCAPIE CASTRO JOHAN SEBASTIAN         25         47         34   \n",
       "11             HUMANEZ SANCHEZ CAMILO         52         27         24   \n",
       "12       IBAnEZ MORENO FRANCISCO LUIS         35         30         32   \n",
       "13  LONDONO CUADRADO CRISTIAN ALBERTO         19         16         32   \n",
       "14       LOZANO HOLGUIN LIZETH JOHANA         13         24         12   \n",
       "15          MASS MIRANDA RIVALDO JOSE         49         24         21   \n",
       "16     MIRANDA MARTINEZ CARLOS ANDRES         25         51         31   \n",
       "17              MONTERROSA SOTO ABRIL          5         49         14   \n",
       "18           NORIEGA JIMENEZ GABRIELA         13         19         21   \n",
       "19             PEREZ REYES IVAN DARIO         24         50         52   \n",
       "20               PEREZ THERAN ERLINDA         38         18         12   \n",
       "21              PINEDA ROMERO YOSMERI         10         43         31   \n",
       "22         QUINONEZ CERVANTES MARIANA         14         24          7   \n",
       "23           QUIROZ DURAN JUAN MANUEL         38         50          4   \n",
       "24                 RAMOS PEREZ YANINE         20          8         19   \n",
       "25              RIVAS HOYOS ESTEFANIA         19         27         35   \n",
       "26              ROSILLO TEJADA VANESA         48         23          2   \n",
       "27          SANCHEZ PADILLA SILVESTRE          1         23         22   \n",
       "28        SILVA ROYERO MAILY CRISTINA          1         35         27   \n",
       "29          USUGA GEORGE JHON ESTIVEN         24         46         26   \n",
       "30                        Profe marco         13          4         51   \n",
       "31                                NaN         44          4         27   \n",
       "\n",
       "    exercise4  exercise5  exercise6  exercise7  exercise8  exercise9  \\\n",
       "0           8         52         29         13         35         11   \n",
       "1           3         17         19         24         28         29   \n",
       "2          17          5         28         22         20          6   \n",
       "3          16         42         35         37          8         22   \n",
       "4          21         11         27          1         45         13   \n",
       "5           9         50         36         16         21         12   \n",
       "6          23         45         47         41         33         49   \n",
       "7          31         25         47         15         26         51   \n",
       "8           6         30         10         38         29         12   \n",
       "9          52         31         51         13         32          4   \n",
       "10          2         24         43         10         45         41   \n",
       "11         21         36         47         40         20         22   \n",
       "12         16          7          3         10         18         28   \n",
       "13         42         44         12         20         27         36   \n",
       "14         49         42         39          3         22         20   \n",
       "15          9         46         17         20         44          7   \n",
       "16          2         21          4         53         33          8   \n",
       "17         44         45         34         21          1         33   \n",
       "18         35         29         27         48         15         32   \n",
       "19          5         38         19          6         29          9   \n",
       "20         27         49          3         39         25         17   \n",
       "21         22          8         26         41         12          3   \n",
       "22         32         50         16         13          1          8   \n",
       "23         39         31         14         29         24         46   \n",
       "24         14          4         51         40         50         32   \n",
       "25         15         13         16         23         50         42   \n",
       "26         42         29          1         22         51         53   \n",
       "27         32          9         40         16         36         13   \n",
       "28         43         30          6         31         12         21   \n",
       "29         32         38         12          5         34          4   \n",
       "30          6         26         18         47         37          5   \n",
       "31          6         36         17         32         40         22   \n",
       "\n",
       "    exercise10  \n",
       "0           17  \n",
       "1           30  \n",
       "2            8  \n",
       "3           13  \n",
       "4           26  \n",
       "5           32  \n",
       "6           12  \n",
       "7            3  \n",
       "8            8  \n",
       "9           48  \n",
       "10          19  \n",
       "11          19  \n",
       "12          51  \n",
       "13           2  \n",
       "14          38  \n",
       "15          32  \n",
       "16          19  \n",
       "17          31  \n",
       "18          46  \n",
       "19          30  \n",
       "20          28  \n",
       "21          42  \n",
       "22          22  \n",
       "23          23  \n",
       "24          21  \n",
       "25          24  \n",
       "26          38  \n",
       "27          19  \n",
       "28          51  \n",
       "29          45  \n",
       "30          10  \n",
       "31          33  "
      ]
     },
     "execution_count": 24,
     "metadata": {},
     "output_type": "execute_result"
    }
   ],
   "source": [
    "# asignación de tres ejercicio del taller para quiz\n",
    "\n",
    "import pandas as pd\n",
    "import numpy as np\n",
    "import random\n",
    "import requests\n",
    "np.random.seed(42)\n",
    "\n",
    "texto_guia = 'Calculo diferencial e integral de Purcell'\n",
    "página_pdf = 202\n",
    "seccion_libro= '3.8'\n",
    "num_ejercicios_del_taller = 54\n",
    "numero_ejerccios_a_asignar = 10\n",
    "\n",
    "\n",
    "# Descargar la lista de  estudiantes y ejercicios\n",
    "students_url = \"https://raw.githubusercontent.com/marco-canas/groups_list/main/calculo_integral.csv\"\n",
    "exercises = list(range(1, num_ejercicios_del_taller))  # Lista de ejercicios del 1 al 83\n",
    "\n",
    "# Cargar la lista de estudiantes\n",
    "students_data = pd.read_csv(students_url)\n",
    "\n",
    "# Crear una lista para almacenar las asignaciones\n",
    "assignments = []\n",
    "\n",
    "# Asignar ejercicios aleatorios a cada estudiante\n",
    "for index, student in students_data.iterrows():\n",
    "    random_exercises = random.sample(exercises, numero_ejerccios_a_asignar)  # Seleccionar 5 ejercicios aleatorios sin repetición\n",
    "    assignments.append([students_data[\"Nombre\"][index], *random_exercises])  # Agregar asignación a la lista\n",
    "\n",
    "# Crear un DataFrame con las asignaciones  \n",
    "lista_ejercicios_asignados = ['exercise' + str(i+1) for i in range(numero_ejerccios_a_asignar)]    \n",
    "columns = [\"Student\"] + lista_ejercicios_asignados\n",
    "            \n",
    "assignment_df = pd.DataFrame(assignments, columns=columns)\n",
    "\n",
    "# Guardar el DataFrame en un archivo CSV\n",
    "assignment_csv = \"tarea\" + seccion_libro + texto_guia\n",
    "assignment_df.to_csv(assignment_csv, index=False)\n",
    "\n",
    "print(\"Asignaciones guardadas en\", assignment_csv)\n",
    "assignment_df"
   ]
  },
  {
   "cell_type": "markdown",
   "id": "236b43fc",
   "metadata": {
    "slideshow": {
     "slide_type": "slide"
    }
   },
   "source": [
    "## Grabaciones en audio para fomentar la capacidad de memorizar enunciados de teoremas y resultados científicos y la capacidad de parafrasear estos resultados. "
   ]
  },
  {
   "cell_type": "markdown",
   "id": "319f2ffa",
   "metadata": {
    "slideshow": {
     "slide_type": "slide"
    }
   },
   "source": [
    "Se dispondrá de un lugar en el drive asociuado al correo institucional de la Universidad Nacional del Profesor Marso para albergar los archivosd de audio de fomento a la memoirización, enunciación y parafraseo de los resultados científicos, prtopiedades, reglas, etc. \n",
    "\n",
    "* Vocaroo"
   ]
  },
  {
   "cell_type": "markdown",
   "id": "564fa59d",
   "metadata": {
    "slideshow": {
     "slide_type": "slide"
    }
   },
   "source": [
    "### Comparta sus cuadernos y videos, evidencias de su aprendizaje [aquí](https://forms.office.com/Pages/ResponsePage.aspx?id=IefhmYRxjkmK_7KtTlPBwkanXIs1i1FEujpsZgO6dXpUMEMwTEZVMzEwVVBPTElWNVg5OVEyWUhMUy4u)"
   ]
  },
  {
   "cell_type": "markdown",
   "id": "44be6d93",
   "metadata": {
    "slideshow": {
     "slide_type": "slide"
    }
   },
   "source": [
    "# Vocabulary "
   ]
  },
  {
   "cell_type": "markdown",
   "id": "99b8dfed",
   "metadata": {
    "slideshow": {
     "slide_type": "slide"
    }
   },
   "source": []
  },
  {
   "cell_type": "markdown",
   "id": "c6236d5d",
   "metadata": {},
   "source": [
    "# FODA del grupo y del profesor  \n",
    "\n",
    "* F: Fortalezas\n",
    "* O: Oportunidades\n",
    "* D: Dificultades\n",
    "* A: Amenazas."
   ]
  },
  {
   "cell_type": "markdown",
   "id": "b48f9542",
   "metadata": {},
   "source": [
    "## ¿Cómo se sintió en este espacio de enseñanza y aprendizaje?\n",
    "\n",
    "!Dios te bendiga¡"
   ]
  },
  {
   "cell_type": "markdown",
   "id": "10bce0d0",
   "metadata": {
    "slideshow": {
     "slide_type": "slide"
    }
   },
   "source": [
    "## Referentes "
   ]
  },
  {
   "cell_type": "markdown",
   "id": "1db3c468",
   "metadata": {
    "slideshow": {
     "slide_type": "slide"
    }
   },
   "source": [
    "* [Varberg, P., & Rigdon, R. P. V. (2000). Cálculo diferencial e integral.\n",
    "](https://github.com/marco-canas/calculo/blob/main/referents/purcell/purcell_calculo.pdf)\n",
    "* [stewart precálculo](https://udeaeduco-my.sharepoint.com/:b:/g/personal/marco_canas_udea_edu_co/ERHIq62I6qFNrmxy6LZb8ZMBci7kUsyNME1nIh9yCBMJ_w?e=0zMSla)  \n",
    "\n",
    "* [stewart cálculo](https://udeaeduco-my.sharepoint.com/:b:/g/personal/marco_canas_udea_edu_co/EZgXZjAp8QxPqOAim2hs6LcBNPLGjSHf-xwYnUVYkwa04w?e=RZdTCy)  \n",
    "\n",
    "* [larson](https://udeaeduco-my.sharepoint.com/:b:/g/personal/marco_canas_udea_edu_co/ES71ChFeO9ZDhW3TwC5Ijk8BjxUK3Pdqz_fjHxTTFAfIAg?e=VDEjfu)\n",
    "\n",
    "* [uzcategui](https://udeaeduco-my.sharepoint.com/:b:/g/personal/marco_canas_udea_edu_co/ETDikm-lVl1Or8XoEo9oyh0BEti9Zs8le-f0D-dBdtZmbA?e=bBsoyQ)\n",
    "\n",
    "* [Recomendación de la UNESCO sobre ciencia abierta](https://unesdoc.unesco.org/ark:/48223/pf0000379949_spa)  \n",
    "\n",
    "* [chatGPT](https://openai.com/blog/chatgpt)  \n",
    "\n",
    "* Géron, A. (2017). Hands-on machine learning with scikit-learn and tensorflow: Concepts. Tools, and Techniques to build intelligent systems.[Geron, Aurelien. Hands on Machine Learning](https://udeaeduco-my.sharepoint.com/:b:/g/personal/marco_canas_udea_edu_co/Ecet27yjQzZIlT1Y_Bc2erkBUhbeYuIe6HG8i1FYZRlZww?e=dlvZ4v)  \n",
    "\n",
    "* McKinney, W. (2012). Python for data analysis: Data wrangling with Pandas, NumPy, and IPython. \" O'Reilly Media, Inc.\".[Wes Mackinney. ](https://udeaeduco-my.sharepoint.com/:b:/g/personal/marco_canas_udea_edu_co/EVbi5JIeBl9ErbiUnZfGe8YBhNTnZ8sxTK5hjIOPK4UpGw?e=fFclah)"
   ]
  },
  {
   "cell_type": "markdown",
   "id": "6b9e56a8",
   "metadata": {
    "slideshow": {
     "slide_type": "slide"
    }
   },
   "source": [
    "### [Evaluamos al profesor Marco Cañas Aquí](https://forms.office.com/Pages/ResponsePage.aspx?id=IefhmYRxjkmK_7KtTlPBwkanXIs1i1FEujpsZgO6dXpUREJPV1kxUk1JV1ozTFJIQVNIQjY5WEY3US4u)"
   ]
  },
  {
   "cell_type": "markdown",
   "id": "071afa04",
   "metadata": {
    "slideshow": {
     "slide_type": "slide"
    }
   },
   "source": [
    "## [Evaluación luego de alcanzar estos objetivos de aprendizaje]()"
   ]
  },
  {
   "cell_type": "markdown",
   "id": "10f43536",
   "metadata": {
    "slideshow": {
     "slide_type": "slide"
    }
   },
   "source": [
    "### Continue su aprendizaje en la siguiente clase a través del siguiente [vínculo](https://github.com/marco-canas/calculo/blob/main/classes/3_calculo_for_eng_licenciatura_administracion/4_integration/1_antidiferenciacion/1_rules_of_integration/2_evaluacion_quiz_parcial_rules_of_integrations.ipynb)"
   ]
  },
  {
   "cell_type": "markdown",
   "id": "af751e30",
   "metadata": {
    "slideshow": {
     "slide_type": "slide"
    }
   },
   "source": [
    "# Conjeturas pedagógicas fruto de la aplicación del modelo de aprendizaje invertido y del enfoque hacia la ciencia de datos con python\n",
    "\n",
    "1. Todo cálculo o resultado debe ser interpretado en una línea markdown del cuaderno Jupyter, inmediatamente después de la enunciación del resultado y después de la presentación de una tabla o gráfico bidimensional, de tal menera que el estudiante explicite la comprensión verbal del resultado y las inferencias o estrategias que este resultado le sugieren.   "
   ]
  }
 ],
 "metadata": {
  "celltoolbar": "Slideshow",
  "kernelspec": {
   "display_name": "Python 3 (ipykernel)",
   "language": "python",
   "name": "python3"
  },
  "language_info": {
   "codemirror_mode": {
    "name": "ipython",
    "version": 3
   },
   "file_extension": ".py",
   "mimetype": "text/x-python",
   "name": "python",
   "nbconvert_exporter": "python",
   "pygments_lexer": "ipython3",
   "version": "3.10.12"
  },
  "rise": {
   "enable_chalkboard": true,
   "theme": "sky",
   "transition": "zoom"
  }
 },
 "nbformat": 4,
 "nbformat_minor": 5
}
