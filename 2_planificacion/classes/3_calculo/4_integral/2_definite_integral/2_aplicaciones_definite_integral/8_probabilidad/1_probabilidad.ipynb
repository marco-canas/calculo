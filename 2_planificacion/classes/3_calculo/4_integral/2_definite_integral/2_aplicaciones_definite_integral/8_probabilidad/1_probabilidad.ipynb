{
 "cells": [
  {
   "cell_type": "markdown",
   "id": "dc06dec7",
   "metadata": {
    "slideshow": {
     "slide_type": "slide"
    }
   },
   "source": [
    "<table align=\"left\">\n",
    "  <td>\n",
    "    <a href=\"https://colab.research.google.com/github/ageron/handson-ml3/blob/main/tools_numpy.ipynb\" target=\"_parent\"><img src=\"https://colab.research.google.com/assets/colab-badge.svg\" alt=\"Open In Colab\"/></a>\n",
    "  </td>\n",
    "  <td>\n",
    "    <a target=\"_blank\" href=\"https://kaggle.com/kernels/welcome?src=https://github.com/ageron/handson-ml3/blob/main/tools_numpy.ipynb\"><img src=\"https://kaggle.com/static/images/open-in-kaggle.svg\" /></a>\n",
    "  </td>\n",
    "</table>"
   ]
  },
  {
   "cell_type": "markdown",
   "id": "e0c5b198",
   "metadata": {
    "slideshow": {
     "slide_type": "slide"
    }
   },
   "source": [
    "### [Video de apoyo a la lectura interactiva y experimental de este cuaderno]()"
   ]
  },
  {
   "cell_type": "markdown",
   "id": "41e82203",
   "metadata": {
    "slideshow": {
     "slide_type": "slide"
    }
   },
   "source": [
    "### [Vínculo al programa del curso:  ]()\n",
    "\n"
   ]
  },
  {
   "cell_type": "code",
   "execution_count": 6,
   "id": "7604880f",
   "metadata": {
    "slideshow": {
     "slide_type": "slide"
    }
   },
   "outputs": [
    {
     "name": "stdout",
     "output_type": "stream",
     "text": [
      "Llamando a MASS MIRANDA RIVALDO JOSE...\n",
      "Actualizado: MASS MIRANDA RIVALDO JOSE ahora tiene 0.3 en la columna 'Parcial'.\n",
      "Llamando a SILVA ROYERO MAILY CRISTINA...\n",
      "Actualizado: SILVA ROYERO MAILY CRISTINA ahora tiene 0.3 en la columna 'Parcial'.\n",
      "Llamando a RAMOS PEREZ YANINE...\n",
      "Actualizado: RAMOS PEREZ YANINE ahora tiene 0.3 en la columna 'Parcial'.\n",
      "Llamando a BERTEL RODELO MICHELL SMIT...\n",
      "Actualizado: BERTEL RODELO MICHELL SMIT ahora tiene 0.3 en la columna 'Parcial'.\n",
      "Llamando a BULA VERGARA MARIA PAULA...\n",
      "Actualizado: BULA VERGARA MARIA PAULA ahora tiene 0.3 en la columna 'Parcial'.\n",
      "Llamando a RIVAS HOYOS ESTEFANIA...\n",
      "Actualizado: RIVAS HOYOS ESTEFANIA ahora tiene 0.3 en la columna 'Parcial'.\n",
      "Llamando a MIRANDA MARTINEZ CARLOS ANDRES...\n",
      "Actualizado: MIRANDA MARTINEZ CARLOS ANDRES ahora tiene 0.3 en la columna 'Parcial'.\n",
      "Llamando a CERVANTES DURAN ANGELICA...\n",
      "Actualizado: CERVANTES DURAN ANGELICA ahora tiene 0.3 en la columna 'Parcial'.\n",
      "Llamando a ARENAS HERAZO GABRIEL ENRIQUE...\n",
      "Actualizado: ARENAS HERAZO GABRIEL ENRIQUE ahora tiene 0.3 en la columna 'Parcial'.\n",
      "Llamando a HUMANEZ SANCHEZ CAMILO...\n",
      "Actualizado: HUMANEZ SANCHEZ CAMILO ahora tiene 0.3 en la columna 'Parcial'.\n",
      "Llamando a GUERRA NORIEGA YONATHAN...\n",
      "Actualizado: GUERRA NORIEGA YONATHAN ahora tiene 0.3 en la columna 'Parcial'.\n",
      "Llamando a MONTERROSA SOTO ABRIL...\n",
      "Actualizado: MONTERROSA SOTO ABRIL ahora tiene 0.3 en la columna 'Parcial'.\n",
      "Llamando a USUGA GEORGE JHON ESTIVEN...\n",
      "Actualizado: USUGA GEORGE JHON ESTIVEN ahora tiene 0.3 en la columna 'Parcial'.\n",
      "Llamando a AMARIS FERNANDEZ SEBASTIAN CAMILO...\n",
      "Actualizado: AMARIS FERNANDEZ SEBASTIAN CAMILO ahora tiene 0.3 en la columna 'Parcial'.\n",
      "Llamando a CANTILLO ENSUCHO DANIEL...\n",
      "Actualizado: CANTILLO ENSUCHO DANIEL ahora tiene 0.3 en la columna 'Parcial'.\n",
      "Llamando a HINCAPIE CASTRO JOHAN SEBASTIAN...\n",
      "Actualizado: HINCAPIE CASTRO JOHAN SEBASTIAN ahora tiene 0.3 en la columna 'Parcial'.\n",
      "Llamando a PINEDA ROMERO YOSMERI...\n",
      "Actualizado: PINEDA ROMERO YOSMERI ahora tiene 0.3 en la columna 'Parcial'.\n",
      "Llamando a IBAÑEZ MORENO FRANCISCO LUIS...\n",
      "Actualizado: IBAÑEZ MORENO FRANCISCO LUIS ahora tiene 0.3 en la columna 'Parcial'.\n",
      "Llamando a PEREZ THERAN ERLINDA...\n",
      "Actualizado: PEREZ THERAN ERLINDA ahora tiene 0.3 en la columna 'Parcial'.\n",
      "Llamando a PEREZ REYES IVAN DARIO...\n",
      "Actualizado: PEREZ REYES IVAN DARIO ahora tiene 0.3 en la columna 'Parcial'.\n",
      "Llamando a QUINONEZ CERVANTES MARIANA...\n",
      "Actualizado: QUINONEZ CERVANTES MARIANA ahora tiene 0.3 en la columna 'Parcial'.\n",
      "Llamando a SANCHEZ PADILLA SILVESTRE...\n",
      "Actualizado: SANCHEZ PADILLA SILVESTRE ahora tiene 0.3 en la columna 'Parcial'.\n",
      "Llamando a ROSILLO TEJADA VANESA...\n",
      "Actualizado: ROSILLO TEJADA VANESA ahora tiene 0.3 en la columna 'Parcial'.\n",
      "Llamando a NORIEGA JIMENEZ GABRIELA...\n",
      "Actualizado: NORIEGA JIMENEZ GABRIELA ahora tiene 0.3 en la columna 'Parcial'.\n",
      "Llamando a AYALA MENDOZA MARISOL YACIRA...\n",
      "Actualizado: AYALA MENDOZA MARISOL YACIRA ahora tiene 0.3 en la columna 'Parcial'.\n",
      "Cambios guardados en el archivo CSV.\n"
     ]
    }
   ],
   "source": [
    "import pandas as pd\n",
    "import numpy as np\n",
    "\n",
    "# Cargar la lista de estudiantes desde el archivo CSV\n",
    "path = 'C:/Users/marco/Documentos/docencia/groups_list/calculo_vectorial.csv'\n",
    "estudiantes = pd.read_csv(path, encoding='ISO-8859-1', sep = ';')\n",
    "estudiantes['Parcial'] = estudiantes['Parcial'].astype(float)  # Asegurar que la columna 'Parcial' es float\n",
    "\n",
    "# Convertir la columna 'Nombre' a una lista de Python\n",
    "lista_estudiantes = estudiantes['Nombre'].tolist()\n",
    "\n",
    "# Función para llamar a un estudiante aleatoriamente y registrar su nota de seguimiento\n",
    "def asistencia():\n",
    "    global lista_estudiantes\n",
    "    if lista_estudiantes:\n",
    "        estudiante_aleatorio = np.random.choice(lista_estudiantes)\n",
    "        print(f\"Llamando a {estudiante_aleatorio}...\")\n",
    "        asistencia = input(f\"¿Asistió {estudiante_aleatorio}? (s/n): \").strip().lower()\n",
    "        \n",
    "        # Validación de entrada\n",
    "        if asistencia == 's':\n",
    "            # Obtener el índice del estudiante en el DataFrame\n",
    "            indice = estudiantes[estudiantes['Nombre'] == estudiante_aleatorio].index[0]\n",
    "            # Incrementar su valor en la columna 'Parcial'\n",
    "            estudiantes.at[indice, 'Parcial'] += 0.3\n",
    "            print(f\"Actualizado: {estudiante_aleatorio} ahora tiene {estudiantes.at[indice, 'Parcial']} en la columna 'Parcial'.\")\n",
    "        \n",
    "        elif asistencia != 'n':\n",
    "            print(\"Entrada inválida. Por favor, introduce 's' para sí o 'n' para no.\")\n",
    "            return  # Volver a preguntar para el mismo estudiante si la entrada es inválida\n",
    "        \n",
    "        # Remover al estudiante de la lista para no llamarlo de nuevo\n",
    "        lista_estudiantes.remove(estudiante_aleatorio)\n",
    "    else:\n",
    "        print(\"Se han llamado a todos los estudiantes del grupo completo.\")\n",
    "\n",
    "# Función para guardar cambios al final de la sesión\n",
    "def guardar_cambios():\n",
    "    estudiantes.to_csv(path, index=False)\n",
    "    print(\"Cambios guardados en el archivo CSV.\")\n",
    "\n",
    "# Ejemplo de uso\n",
    "while lista_estudiantes:\n",
    "    asistencia()\n",
    "\n",
    "# Guardar los cambios una vez que todos los estudiantes hayan sido llamados\n",
    "guardar_cambios()\n",
    "\n"
   ]
  },
  {
   "cell_type": "markdown",
   "id": "d7598d0a-d9b7-4ae0-b029-a0ed6ed1130b",
   "metadata": {},
   "source": [
    "\n",
    "# Principios de mi labor docente"
   ]
  },
  {
   "cell_type": "markdown",
   "id": "4f9d8cf9",
   "metadata": {
    "slideshow": {
     "slide_type": "slide"
    }
   },
   "source": [
    "## Modelo general de clase: [aula invertida](https://www3.gobiernodecanarias.org/medusa/ecoescuela/pedagotic/aprendizaje-invertido-flipped-classroom/)"
   ]
  },
  {
   "cell_type": "markdown",
   "id": "eb6ed03a",
   "metadata": {},
   "source": [
    "<img src = 'https://resources.maneuveringthemiddle.com/wp-content/uploads/2020/07/04212706/1-5.png' width = 400>  \n",
    "\n"
   ]
  },
  {
   "cell_type": "markdown",
   "id": "34319cce-a71b-4f64-aab8-b53e521efa40",
   "metadata": {},
   "source": [
    "# Metodología de enseñanza basada en problemas (ABP)\n"
   ]
  },
  {
   "cell_type": "markdown",
   "id": "c4f73d81",
   "metadata": {},
   "source": [
    "\n",
    "<img src = 'https://www.unir.net/wp-content/uploads/2020/07/aprendizaje-problemas2-1-1-1-1.jpeg' width = 300>"
   ]
  },
  {
   "cell_type": "markdown",
   "id": "841a985c-bd9b-4dd3-8e4c-893983980af2",
   "metadata": {},
   "source": [
    "# Desarrollo del pensamiento computacional con python y cuadernos Jupyter  orientado a la formación en ciencia de datos \n",
    "\n"
   ]
  },
  {
   "cell_type": "markdown",
   "id": "3d0eba94",
   "metadata": {},
   "source": [
    "\n",
    "<img src = 'https://i.ytimg.com/vi/mcG_wcR4e6M/maxresdefault.jpg' width = 400>"
   ]
  },
  {
   "cell_type": "markdown",
   "id": "65aa0404-f7ae-495e-864c-1aec01b4255e",
   "metadata": {},
   "source": [
    "# Principio de fomento a la ciencia abierta, enseñar en el acceso a los datos públicos y el uso de software de código abierto  \n"
   ]
  },
  {
   "cell_type": "markdown",
   "id": "18ae9b87",
   "metadata": {},
   "source": [
    "\n",
    "<img src = 'https://unesdoc.unesco.org/in/rest/Thumb/image?id=p%3A%3Ausmarcdef_0000379949_spa&author=UNESCO&title=Recomendaci%C3%B3n+de+la+UNESCO+sobre+la+Ciencia+Abierta&year=2021&publisher=UNESCO&TypeOfDocument=UnescoPhysicalDocument&mat=PGD&ct=true&size=512&isPhysical=1' width = 200>"
   ]
  },
  {
   "cell_type": "markdown",
   "id": "d9559f85",
   "metadata": {},
   "source": [
    "El enfoque STEAMS en educación preescolar, primaria y secundaria es una extensión del enfoque STEM (Ciencia, Tecnología, Ingeniería y Matemáticas) y su variante STEAM, que incorpora el Arte. "
   ]
  },
  {
   "cell_type": "markdown",
   "id": "72e1cfd2",
   "metadata": {},
   "source": [
    "El acrónimo STEAMS incluye:\n"
   ]
  },
  {
   "cell_type": "markdown",
   "id": "03182fd1",
   "metadata": {},
   "source": [
    "\n",
    "1. **Science (Ciencia):** Fomenta la curiosidad por el mundo natural y el desarrollo de habilidades científicas, como la observación, experimentación y análisis.\n"
   ]
  },
  {
   "cell_type": "markdown",
   "id": "1306d0fa",
   "metadata": {},
   "source": [
    "\n",
    "2. **Technology (Tecnología):** Integra herramientas tecnológicas para potenciar el aprendizaje y la resolución de problemas, promoviendo la alfabetización digital desde edades tempranas.\n"
   ]
  },
  {
   "cell_type": "markdown",
   "id": "3b1a53e8",
   "metadata": {},
   "source": [
    "\n",
    "3. **Engineering (Ingeniería):** Introduce el pensamiento lógico y la resolución de problemas estructurados, fomentando habilidades como el diseño y la construcción de soluciones.\n"
   ]
  },
  {
   "cell_type": "markdown",
   "id": "0196de87",
   "metadata": {},
   "source": [
    "\n",
    "4. **Arts (Arte):** Añade creatividad y pensamiento crítico, permitiendo a los estudiantes expresarse y explorar el aprendizaje a través de formas artísticas (plásticas, música, teatro).\n"
   ]
  },
  {
   "cell_type": "markdown",
   "id": "8bcc485a",
   "metadata": {},
   "source": [
    "\n",
    "5. **Mathematics (Matemáticas):** Refuerza las habilidades numéricas y el razonamiento lógico, fundamentales en la resolución de problemas y comprensión de conceptos abstractos.\n"
   ]
  },
  {
   "cell_type": "markdown",
   "id": "907935f4",
   "metadata": {},
   "source": [
    "\n",
    "6. **Social Sciences (Ciencias Sociales):** Incorpora la comprensión del entorno social, político, cultural y económico, promoviendo el desarrollo de la conciencia crítica sobre el mundo y su historia, además de habilidades de empatía y ciudadanía.\n"
   ]
  },
  {
   "cell_type": "markdown",
   "id": "39967d63",
   "metadata": {},
   "source": [
    "\n",
    "El enfoque STEAMS pretende desarrollar un aprendizaje **interdisciplinario** que integre estas áreas para fomentar un pensamiento más holístico y práctico. "
   ]
  },
  {
   "cell_type": "markdown",
   "id": "5145f077",
   "metadata": {},
   "source": [
    "Se busca que los estudiantes no solo aprendan conocimientos técnicos, sino también cómo aplicarlos creativa y críticamente en situaciones reales, promoviendo habilidades como el trabajo en equipo, la comunicación y la innovación. "
   ]
  },
  {
   "cell_type": "markdown",
   "id": "9d556584",
   "metadata": {},
   "source": [
    "En educación preescolar, primaria, secundaria y superior, se adapta a las diferentes etapas de desarrollo cognitivo y emocional de los estudiantes, promoviendo el aprendizaje activo y contextualizado.  \n"
   ]
  },
  {
   "cell_type": "markdown",
   "id": "0130ec1b",
   "metadata": {},
   "source": [
    "\n",
    "<img src = 'https://www.campuseducacion.com/blog/wp-content/uploads/2023/03/foto01-1.jpg' width = 400>"
   ]
  },
  {
   "cell_type": "markdown",
   "id": "9d15c10d-2c02-4158-9419-b1ed79b4c1ee",
   "metadata": {},
   "source": [
    "# Qué estamos haciendo por la internalización en esta clase y este curso  \n"
   ]
  },
  {
   "cell_type": "markdown",
   "id": "6e4feef2",
   "metadata": {},
   "source": [
    "\n",
    "Para presentar tus acciones como docente de matemáticas en la Universidad de Antioquia con miras a la **internacionalización** de tu práctica docente y el desarrollo de competencias internacionales en tus estudiantes, te sugiero estructurar tu enfoque en los siguientes aspectos clave:"
   ]
  },
  {
   "cell_type": "markdown",
   "id": "964d9de7-53ee-4255-9bcd-d8e6454f2993",
   "metadata": {},
   "source": [
    "### 1. **Visión Global en la Formación Académica**\n"
   ]
  },
  {
   "cell_type": "markdown",
   "id": "d9bdd3e2",
   "metadata": {},
   "source": [
    "   - **Competencias Internacionales**: Asegúrate de que el contenido de tus cursos fomente habilidades que sean reconocidas globalmente. Al educar a los estudiantes en **Python, LaTeX, Markdown y Jupyter Notebooks** y en la **introducción a la ciencia de datos y técnicas de Machine Learning**, estás proporcionando competencias altamente demandadas en los sectores tecnológicos y académicos a nivel internacional.\n"
   ]
  },
  {
   "cell_type": "markdown",
   "id": "39b55206",
   "metadata": {},
   "source": [
    "   - **Relevancia de los Contenidos**: Destaca cómo los temas que enseñas, como el **desarrollo del pensamiento computacional** y la **ciencia de datos**, están alineados con las necesidades globales actuales en diversas industrias, desde la tecnología hasta las ciencias naturales y sociales.\n"
   ]
  },
  {
   "cell_type": "markdown",
   "id": "a054599e",
   "metadata": {},
   "source": [
    "   - **Referencias a Estándares Internacionales**: Puedes vincular tu enseñanza a estándares internacionales de competencias en programación y ciencia de datos (por ejemplo, frameworks del **IEEE, ACM**, y estándares de la **data science** o la **computación en la nube**)."
   ]
  },
  {
   "cell_type": "markdown",
   "id": "0f1d110c-3142-48fe-9e7d-5fbd9e8bb931",
   "metadata": {},
   "source": [
    "### 2. **Innovación Pedagógica con Enfoque Internacional**\n"
   ]
  },
  {
   "cell_type": "markdown",
   "id": "fae6ae34",
   "metadata": {},
   "source": [
    "   - **Aula Invertida y ABP**: Presenta cómo tu enfoque de **aula invertida** y **aprendizaje basado en problemas (ABP)** permite a los estudiantes trabajar de manera autónoma y colaborativa, lo que los prepara para escenarios laborales internacionales que requieren autoaprendizaje y habilidades de resolución de problemas en equipo.\n"
   ]
  },
  {
   "cell_type": "markdown",
   "id": "c83062d9",
   "metadata": {},
   "source": [
    "   - **Uso de Jupyter Notebooks**: El uso de **Jupyter Notebooks** en tus clases no solo facilita la **integración de código, matemáticas y texto**, sino que también es una plataforma utilizada globalmente en ambientes académicos y profesionales, lo que hace a tus estudiantes más competitivos internacionalmente."
   ]
  },
  {
   "cell_type": "markdown",
   "id": "960d52b7-03cd-4eb3-965e-5cdfeb7d9f8e",
   "metadata": {},
   "source": [
    "### 3. **Tecnología y Herramientas de Uso Global**\n"
   ]
  },
  {
   "cell_type": "markdown",
   "id": "4be7269f",
   "metadata": {},
   "source": [
    "   - **Lenguaje Python**: Python es uno de los lenguajes de programación más usados a nivel mundial, tanto en la academia como en la industria. Al formar a tus estudiantes en Python para ciencia de datos y machine learning, los preparas para operar en entornos tecnológicos globales.\n"
   ]
  },
  {
   "cell_type": "markdown",
   "id": "102655af",
   "metadata": {},
   "source": [
    "   - **Herramientas de Ciencia Abierta**: Resalta cómo herramientas como **GitHub**, **Google Colab** y otras plataformas de código abierto están alineadas con el movimiento de **ciencia abierta**, el cual es internacionalmente reconocido y permite que los estudiantes colaboren y compartan proyectos a nivel global."
   ]
  },
  {
   "cell_type": "markdown",
   "id": "3b2ffa32-7a6f-4545-ba7b-c6a69f51109f",
   "metadata": {},
   "source": [
    "### 4. **Investigación y Publicaciones Internacionales**\n"
   ]
  },
  {
   "cell_type": "markdown",
   "id": "bdbf52a5",
   "metadata": {},
   "source": [
    "   - **Promoción de la Investigación**: Detalla cómo promueves que tus estudiantes participen en proyectos de **investigación aplicada**, con posibilidad de publicación en revistas internacionales. Esto contribuye a la reputación internacional de la Universidad de Antioquia.\n"
   ]
  },
  {
   "cell_type": "markdown",
   "id": "ea01fcbc",
   "metadata": {},
   "source": [
    "   - **Colaboraciones Internacionales**: Si has colaborado con investigadores de otras instituciones o universidades en el extranjero, menciona estos proyectos y cómo han enriquecido tu enseñanza y proporcionado a los estudiantes una visión más globalizada."
   ]
  },
  {
   "cell_type": "markdown",
   "id": "5d1e396e-aece-4bf7-9421-32fa7809eaf4",
   "metadata": {},
   "source": [
    "### 5. **Uso del Inglés para la Internacionalización**\n",
    "   - **Comunicación Científica en Inglés**: Fomentar el aprendizaje del inglés como lengua científica es clave para que tus estudiantes puedan acceder a publicaciones internacionales, conferencias, y material académico que no está disponible en español. Esto es esencial para que adquieran competencias que les permitan desempeñarse en cualquier contexto internacional.\n",
    "   - **Material Bilingüe**: Al generar material educativo en Python, LaTeX y Markdown, considera ofrecer algunos de estos recursos en inglés, para que los estudiantes se familiaricen con el vocabulario técnico y científico internacional."
   ]
  },
  {
   "cell_type": "markdown",
   "id": "c6a8c3b0-426a-4692-a384-3065aea81c9a",
   "metadata": {},
   "source": [
    "### 6. **Certificaciones y Estándares Internacionales**\n"
   ]
  },
  {
   "cell_type": "markdown",
   "id": "b1f41da5",
   "metadata": {},
   "source": [
    "   - **Participación en Certificaciones Internacionales**: Impulsa que los estudiantes busquen certificaciones internacionales en Python o ciencia de datos (como las ofrecidas por **Coursera, edX,** o **Google**). Estas certificaciones no solo validan sus competencias, sino que también incrementan el reconocimiento de la Universidad de Antioquia en el contexto internacional.\n",
    "   - **Alineación con Acreditaciones Internacionales**: Vincula tu trabajo docente con los estándares de acreditación y certificación que garantizan que la universidad siga siendo reconocida internacionalmente. Puedes vincularte con organizaciones internacionales que promuevan la excelencia en la educación y tecnología, como **ABET** para la acreditación en ingeniería y ciencias computacionales."
   ]
  },
  {
   "cell_type": "markdown",
   "id": "65d3d9e1-ea84-43e0-8197-a2a9c9e21594",
   "metadata": {},
   "source": [
    "### 7. **Proyectos Abiertos y Ciencia Reproducible**\n",
    "   - **GitHub y Open Science**: La utilización de **GitHub** para almacenar los proyectos y materiales de enseñanza en repositorios públicos permite que otros investigadores y educadores internacionales puedan revisar y replicar tu trabajo. Esto contribuye a la creación de una red de colaboración científica abierta.\n",
    "   - **Transparencia y Reproducibilidad**: La ciencia de datos y machine learning están profundamente ligados a la reproducibilidad. Asegura que tus estudiantes desarrollen prácticas de transparencia y documentación en la investigación, que son pilares en la comunidad científica global.\n"
   ]
  },
  {
   "cell_type": "markdown",
   "id": "215cb551",
   "metadata": {},
   "source": [
    "\n",
    "### 8. **Participación en Redes y Conferencias Internacionales**\n",
    "   - **Presentación en Conferencias Internacionales**: Destaca cómo tu participación en conferencias internacionales (como la **ASCOLFA** o eventos sobre educación en matemáticas) contribuye al prestigio de la universidad y permite que tus prácticas sean evaluadas y reconocidas a nivel global.\n"
   ]
  },
  {
   "cell_type": "markdown",
   "id": "cdf46e29",
   "metadata": {},
   "source": [
    "   - **Promoción de Estudiantes en Eventos Internacionales**: Impulsa la participación de tus estudiantes en competiciones internacionales de programación o hackathons, como los organizados por **Google**, **ACM** o **Kaggle**. Esto no solo desarrolla sus habilidades, sino que también visibiliza el talento de la Universidad de Antioquia a nivel global.\n",
    "\n",
    "---"
   ]
  },
  {
   "cell_type": "markdown",
   "id": "8d97dc80",
   "metadata": {
    "slideshow": {
     "slide_type": "slide"
    }
   },
   "source": [
    "## Fomento de la lectura literaria asociada a Ingeniería agropecuaria y licenciatura en Matemáticas\n",
    "\n",
    "[Aprender a obtener el sí sin ceder]()"
   ]
  },
  {
   "cell_type": "markdown",
   "id": "96775931",
   "metadata": {
    "slideshow": {
     "slide_type": "slide"
    }
   },
   "source": [
    "## Título de la clase: Aplicación de la integral definida al cálculo de probabilidades y esperanzas.   \n",
    "\n",
    "[]()"
   ]
  },
  {
   "cell_type": "markdown",
   "id": "1d38dd4e",
   "metadata": {
    "slideshow": {
     "slide_type": "slide"
    }
   },
   "source": [
    "### Objetivo de aprendizaje \n",
    "\n",
    "1. Que el ingeniero agropecuario sepa aplicar los conceptos de Función de Distribución de Probabilidad y de Función de Distribución Acumulada.  \n"
   ]
  },
  {
   "cell_type": "markdown",
   "id": "540f0ec1",
   "metadata": {
    "slideshow": {
     "slide_type": "slide"
    }
   },
   "source": [
    "## Cuestionario para realizar labores de memorización, observación y síntesis de la información (Además de diagnóstico)  \n",
    "\n",
    "1. ¿Qué es una pdf y una cdf? en scipy.stats \n",
    "2. ¿Cómo?\n",
    "3. ¿Dónde?\n",
    "4. ¿Cuándo?\n",
    "5. ¿Por qué? "
   ]
  },
  {
   "cell_type": "markdown",
   "id": "8e457ea2",
   "metadata": {},
   "source": [
    "# Definiciones y Resultados científicos a comprender y memorizar \n",
    "\n",
    "[Primera grabación en Vocaroo]()"
   ]
  },
  {
   "cell_type": "markdown",
   "id": "ca7261b1",
   "metadata": {
    "slideshow": {
     "slide_type": "slide"
    }
   },
   "source": [
    "## Establecimiento de prerrequisitos conceptuales para alcanzar el objetivo de aprendizaje trazado.   \n",
    "\n",
    "(Elabore una lista de preguntas al rededor de los conceptos que consideres necesarios para empezar la clase).  \n",
    "\n",
    "1. \n",
    "2. \n",
    "3. "
   ]
  },
  {
   "cell_type": "markdown",
   "id": "2298e976",
   "metadata": {
    "slideshow": {
     "slide_type": "slide"
    }
   },
   "source": [
    "# Para el diseño de la clase tenga en cuenta algunos problemas de aprendizaje"
   ]
  },
  {
   "cell_type": "markdown",
   "id": "523d3acf",
   "metadata": {
    "slideshow": {
     "slide_type": "slide"
    }
   },
   "source": []
  },
  {
   "cell_type": "markdown",
   "id": "8853d874",
   "metadata": {},
   "source": [
    "## El componente histórico y epistemológico"
   ]
  },
  {
   "cell_type": "markdown",
   "id": "e3ffa494",
   "metadata": {},
   "source": [
    "# Vocabulary   \n",
    "\n",
    "1. \n",
    "2.  \n",
    "3.  \n",
    "4.  \n",
    "5.  "
   ]
  },
  {
   "cell_type": "code",
   "execution_count": 4,
   "id": "6ff395c3",
   "metadata": {},
   "outputs": [],
   "source": [
    "# Traducción del inglés al español con python\n",
    "\n",
    "def traducir(texto):\n",
    "    from googletrans import Translator\n",
    "\n",
    "    translator = Translator() # instancia la clase \n",
    "\n",
    "    # Traducir al español\n",
    "    translation = translator.translate(texto, src='en', dest='es')\n",
    "    return translation.text"
   ]
  },
  {
   "cell_type": "code",
   "execution_count": 5,
   "id": "b583f414-ac87-4912-8a86-b338234d83d7",
   "metadata": {},
   "outputs": [
    {
     "data": {
      "text/plain": [
       "'Hola'"
      ]
     },
     "execution_count": 5,
     "metadata": {},
     "output_type": "execute_result"
    }
   ],
   "source": [
    "traducir('Hi')"
   ]
  },
  {
   "cell_type": "code",
   "execution_count": null,
   "id": "bc0addfe",
   "metadata": {},
   "outputs": [
    {
     "data": {
      "text/plain": [
       "'/home/marco/Documentos/docencia/calculo/images/0_reales/ .pdf'"
      ]
     },
     "execution_count": 1,
     "metadata": {},
     "output_type": "execute_result"
    }
   ],
   "source": [
    "# mapa conceptual para cada clase  \n",
    "from graphviz import Digraph\n",
    "\n",
    "# Crear un nuevo grafo dirigido\n",
    "dot = Digraph()\n",
    "\n",
    "# Añadir nodos y relaciones al grafo\n",
    "main_concept = ' '\n",
    "dot.node('A', main_concept)\n",
    "dot.node('B', '')\n",
    "dot.node('C', '')\n",
    "dot.node('D', '')\n",
    "\n",
    "dot.edges(['AB'])\n",
    "\n",
    "\n",
    "# Guardar el grafo como un archivo de imagen\n",
    "dot.render(filename=main_concept, format='png', cleanup=True, \\\n",
    "           directory='C:/Users/marco/Documentos/docencia/')\n",
    "\n",
    "dot.view()\n"
   ]
  },
  {
   "cell_type": "markdown",
   "id": "10e55ccf",
   "metadata": {},
   "source": [
    "# Estructura general para todas las clases\n",
    "\n",
    "Dame, por favor, un diseño de clase sobre:  Aplicación de la integral definida para el cálculo de probabilidades en Ingeniería agropecuaria usando Python y datos del IDEAM en Colombia; \n",
    "siguiendo la siguiente estructura: \n",
    "1. Título de la clase \n",
    "2. Objetivo de aprendizaje\n",
    "3. Contenido de la clase\n",
    "4. Actividades de aprendizaje\n",
    "5. Tarea o actividades de ejercitación y fijación\n",
    "6. Diseño de actividad de retroalimentación. "
   ]
  },
  {
   "cell_type": "markdown",
   "id": "239427f7",
   "metadata": {},
   "source": [
    "# Diseño de la clase  \n",
    "\n",
    "### **Diseño de clase: Aplicación de la integral definida para el cálculo de probabilidades en Ingeniería agropecuaria usando Python y datos del IDEAM en Colombia**\n",
    "\n",
    "---\n"
   ]
  },
  {
   "cell_type": "markdown",
   "id": "73126e94",
   "metadata": {},
   "source": [
    "\n",
    "### **1. Título de la clase**\n",
    "**Cálculo de probabilidades aplicadas a eventos agroclimáticos mediante la integral definida con Python y datos del IDEAM.**\n",
    "\n",
    "---\n",
    "\n",
    "### **2. Objetivo de aprendizaje**\n",
    "Los estudiantes comprenderán cómo utilizar la integral definida para calcular probabilidades relacionadas con eventos agroclimáticos, empleando distribuciones de probabilidad, datos reales del IDEAM y herramientas computacionales en Python.\n",
    "\n",
    "---\n"
   ]
  },
  {
   "cell_type": "markdown",
   "id": "6903fa86",
   "metadata": {},
   "source": [
    "\n",
    "### **3. Contenido de la clase**\n",
    "1. **Introducción teórica:**\n",
    "   - Definición de integral definida.\n",
    "   - Distribuciones de probabilidad aplicadas a datos climáticos (e.g., Normal, Exponencial).\n",
    "   - Relación entre la integral definida y el cálculo de probabilidades.\n",
    "2. **Contexto aplicado:**\n",
    "   - Importancia de la predicción climática en la Ingeniería agropecuaria.\n",
    "   - Descripción de los datos meteorológicos del IDEAM: precipitación, temperatura, humedad.\n",
    "3. **Implementación en Python:**\n",
    "   - Uso de bibliotecas como `numpy`, `scipy.stats`, y `matplotlib`.\n",
    "   - Ejemplo práctico: cálculo de la probabilidad de un evento de alta precipitación (>50 mm).\n",
    "\n",
    "---\n"
   ]
  },
  {
   "cell_type": "markdown",
   "id": "9ffbd84b",
   "metadata": {},
   "source": [
    "\n",
    "### **4. Actividades de aprendizaje**\n",
    "1. **Exploración de datos:**\n",
    "   - Los estudiantes cargarán y explorarán un conjunto de datos proporcionado por el IDEAM en formato CSV (temperatura y precipitación).\n",
    "   - Identificarán variables clave, como rangos de precipitación y temperaturas extremas.\n",
    "   - Uso de gráficos para visualizar la distribución de las variables (e.g., histogramas y curvas de densidad).\n",
    "   \n",
    "   Código base:\n"
   ]
  },
  {
   "cell_type": "code",
   "execution_count": 12,
   "id": "da06986d",
   "metadata": {},
   "outputs": [
    {
     "name": "stderr",
     "output_type": "stream",
     "text": [
      "C:\\Users\\marco\\AppData\\Local\\Temp\\ipykernel_19764\\1862630612.py:5: DtypeWarning: Columns (0) have mixed types. Specify dtype option on import or set low_memory=False.\n",
      "  datos = pd.read_csv('C:/Users/marco/Documentos/docencia/ideam_precipitacion_caucasia/Precipitacion_ultimo_año_2024_nov15_4.csv')\n"
     ]
    },
    {
     "data": {
      "image/png": "[encoded data removed]",
      "text/plain": [
       "<Figure size 640x480 with 1 Axes>"
      ]
     },
     "metadata": {},
     "output_type": "display_data"
    }
   ],
   "source": [
    "import pandas as pd\n",
    "import matplotlib.pyplot as plt\n",
    "\n",
    "# Cargar datos\n",
    "datos = pd.read_csv('C:/Users/marco/Documentos/docencia/ideam_precipitacion_caucasia/Precipitacion_ultimo_año_2024_nov15_4.csv')\n",
    "plt.hist(datos['ValorObservado'], bins=20, density=True, alpha=0.6, color='g')\n",
    "plt.title('Distribución de Precipitación')\n",
    "plt.xlabel('Precipitación (mm)')\n",
    "plt.ylabel('Densidad')\n",
    "plt.show()\n",
    "\n"
   ]
  },
  {
   "cell_type": "markdown",
   "id": "a7ff7284",
   "metadata": {},
   "source": [
    "2. **Cálculo de probabilidades:**\n",
    "   - Usar Python para integrar distribuciones conocidas (e.g., Normal o Exponencial) y calcular probabilidades de eventos como:\n",
    "     - La probabilidad de días con precipitación mayor a 50 mm.\n",
    "     - La probabilidad de temperaturas dentro de un rango óptimo para cultivos específicos.\n",
    "\n",
    "   Ejemplo:\n"
   ]
  },
  {
   "cell_type": "code",
   "execution_count": 19,
   "id": "dcd4e4b1",
   "metadata": {},
   "outputs": [
    {
     "name": "stdout",
     "output_type": "stream",
     "text": [
      "Probabilidad de precipitación > 1 mm: 13.13%\n"
     ]
    }
   ],
   "source": [
    "from scipy.stats import norm\n",
    "\n",
    "# Parámetros de la distribución\n",
    "media = datos['ValorObservado'].mean()\n",
    "desviacion = datos['ValorObservado'].std()\n",
    "medida_precipitacion = 1\n",
    "# Cálculo de probabilidad: P(X > 50)\n",
    "probabilidad = 1 - norm.cdf(medida_precipitacion, loc=media, scale=desviacion)\n",
    "print(f\"Probabilidad de precipitación > {medida_precipitacion} mm: {probabilidad:.2%}\")\n",
    "\n"
   ]
  },
  {
   "cell_type": "markdown",
   "id": "d0e9527b",
   "metadata": {},
   "source": [
    "\n",
    "---\n",
    "\n",
    "### **5. Tarea o actividades de ejercitación y fijación**\n",
    "1. **Ejercicios de aplicación:**\n",
    "   - Calcular la probabilidad de días con temperaturas entre 18°C y 25°C.\n",
    "   - Estimar el porcentaje de días con precipitación menor a 10 mm.\n",
    "2. **Desafíos:**\n",
    "   - Ajustar un modelo de distribución a los datos observados y justificar su elección.\n",
    "   - Crear un gráfico de probabilidad acumulada de precipitación.\n",
    "3. **Entrega:** Subir los análisis y gráficos a un repositorio de GitHub, acompañado de una explicación de los resultados obtenidos.\n",
    "\n",
    "---\n",
    "\n",
    "### **6. Diseño de actividad de retroalimentación**\n",
    "**Actividad grupal: Presentación y discusión de resultados**\n",
    "1. Cada grupo presentará:\n",
    "   - Su modelo de distribución seleccionado.\n",
    "   - Los cálculos de probabilidad realizados y su interpretación en el contexto agropecuario.\n",
    "   - Gráficos generados para visualizar los datos y probabilidades.\n",
    "2. **Retroalimentación del docente y compañeros:**\n",
    "   - El docente evaluará la coherencia de los análisis y brindará comentarios para mejorar el entendimiento.\n",
    "   - Los estudiantes responderán preguntas de sus compañeros y justificarán su enfoque.\n",
    "3. **Cierre:**\n",
    "   - Se presentará una solución general al problema, usando los datos de toda la clase para construir un análisis colectivo.\n",
    "\n",
    "---\n",
    "\n",
    "### **Recursos necesarios**\n",
    "- Jupyter Notebooks para la programación en Python.\n",
    "- Conjunto de datos del IDEAM en formato CSV.\n",
    "- Acceso a bibliotecas como `numpy`, `scipy`, `pandas`, y `matplotlib`.\n",
    "\n",
    "---\n",
    "\n",
    "¿Te gustaría ejemplos más detallados para los ejercicios o un conjunto de datos ficticio para practicar? "
   ]
  },
  {
   "cell_type": "markdown",
   "id": "3cb3b04f",
   "metadata": {},
   "source": [
    "[Video de apoyo a la lectura del diseño de la clase](https://www.youtube.com/watch?v=KGZySXeAkkw)"
   ]
  },
  {
   "cell_type": "markdown",
   "id": "ec048afb",
   "metadata": {},
   "source": [
    "# Implementación de la clase  \n"
   ]
  },
  {
   "cell_type": "markdown",
   "id": "ef99ddd7",
   "metadata": {},
   "source": [
    "\n",
    "## Aplicación de la integral definida para el cálculo de probabilidades en Ingeniería agropecuaria usando Python y datos del IDEAM en Colombia\n"
   ]
  },
  {
   "cell_type": "markdown",
   "id": "e9dfc236",
   "metadata": {},
   "source": [
    "\n",
    "---\n",
    "\n",
    "### **1. Título de la clase**\n",
    "**Cálculo de probabilidades aplicadas a eventos agroclimáticos mediante la integral definida con Python y datos del IDEAM.**\n"
   ]
  },
  {
   "cell_type": "markdown",
   "id": "3c19fb7b",
   "metadata": {},
   "source": [
    "\n",
    "---\n",
    "\n",
    "### **2. Objetivo de aprendizaje**\n",
    "Los estudiantes comprenderán cómo utilizar la integral definida para calcular probabilidades relacionadas con eventos agroclimáticos, empleando distribuciones de probabilidad, datos reales del IDEAM y herramientas computacionales en Python.\n",
    "\n",
    "---\n"
   ]
  },
  {
   "cell_type": "markdown",
   "id": "09c88079",
   "metadata": {},
   "source": [
    "\n",
    "### **3. Contenido de la clase**\n",
    "1. **Introducción teórica:**\n",
    "   - Definición de integral definida.\n",
    "   - Distribuciones de probabilidad aplicadas a datos climáticos (e.g., Normal, Exponencial).\n",
    "   - Relación entre la integral definida y el cálculo de probabilidades.\n"
   ]
  },
  {
   "cell_type": "markdown",
   "id": "28b3072e",
   "metadata": {},
   "source": [
    "### **3. Contenido de la clase**\n",
    "\n",
    "#### **1. Introducción teórica**\n",
    "##### **Definición de integral definida**\n"
   ]
  },
  {
   "cell_type": "markdown",
   "id": "1f4aa798",
   "metadata": {},
   "source": [
    "La integral definida es una herramienta fundamental en el cálculo que permite medir el área bajo una curva en un intervalo específico $[a, b]$."
   ]
  },
  {
   "cell_type": "markdown",
   "id": "d9dbfa5a",
   "metadata": {},
   "source": [
    " Matemáticamente, se expresa como:\n",
    "\n",
    "$$\n",
    "\\int_a^b f(x) \\, dx\n",
    "$$\n",
    "\n",
    "Donde:\n",
    "- $f(x)$ es una función continua en el intervalo $[a, b]$,\n",
    "- $a$ y $b$ son los límites de integración.\n"
   ]
  },
  {
   "cell_type": "markdown",
   "id": "ff1a72b4",
   "metadata": {},
   "source": [
    "\n",
    "En términos prácticos, la integral definida no solo calcula áreas geométricas, sino también acumula valores que representan cantidades físicas, probabilidades o tasas de cambio.\n"
   ]
  },
  {
   "cell_type": "markdown",
   "id": "381e60f5",
   "metadata": {},
   "source": [
    "\n",
    "##### **Distribuciones de probabilidad aplicadas a datos climáticos**\n",
    "En el contexto de datos meteorológicos, las distribuciones de probabilidad permiten modelar fenómenos aleatorios como temperaturas, precipitaciones y vientos. Algunas distribuciones comunes son:\n"
   ]
  },
  {
   "cell_type": "markdown",
   "id": "bf7d7693",
   "metadata": {},
   "source": [
    "\n",
    "- **Distribución Normal (Gaussiana)**: \n",
    "   - Ideal para variables continuas como temperaturas promedio.\n",
    "   - Función de densidad: \n",
    "     $$\n",
    "     f(x) = \\frac{1}{\\sqrt{2\\pi\\sigma^2}} e^{-\\frac{(x-\\mu)^2}{2\\sigma^2}}\n",
    "     $$\n",
    "   - Parámetros: \n",
    "     - $\\mu$: media,\n",
    "     - $\\sigma$: desviación estándar.\n"
   ]
  },
  {
   "cell_type": "code",
   "execution_count": 23,
   "id": "87eda67a",
   "metadata": {},
   "outputs": [
    {
     "data": {
      "application/vnd.plotly.v1+json": {
       "config": {
        "plotlyServerURL": "https://plot.ly"
       },
       "data": [
        {
         "mode": "lines",
         "name": "Densidad Normal",
         "type": "scatter",
         "x": [
          10,
          10.080160320641282,
          10.160320641282565,
          10.240480961923847,
          10.32064128256513,
          10.400801603206412,
          10.480961923847696,
          10.561122244488978,
          10.641282565130261,
          10.721442885771543,
          10.801603206412825,
          10.881763527054108,
          10.96192384769539,
          11.042084168336673,
          11.122244488977955,
          11.202404809619239,
          11.28256513026052,
          11.362725450901804,
          11.442885771543086,
          11.52304609218437,
          11.603206412825651,
          11.683366733466933,
          11.763527054108216,
          11.843687374749498,
          11.923847695390782,
          12.004008016032063,
          12.084168336673347,
          12.164328657314629,
          12.244488977955912,
          12.324649298597194,
          12.404809619238478,
          12.48496993987976,
          12.565130260521041,
          12.645290581162325,
          12.725450901803608,
          12.80561122244489,
          12.885771543086172,
          12.965931863727455,
          13.046092184368737,
          13.12625250501002,
          13.206412825651302,
          13.286573146292586,
          13.366733466933868,
          13.44689378757515,
          13.527054108216433,
          13.607214428857716,
          13.687374749498998,
          13.76753507014028,
          13.847695390781563,
          13.927855711422845,
          14.008016032064127,
          14.08817635270541,
          14.168336673346694,
          14.248496993987976,
          14.328657314629258,
          14.408817635270541,
          14.488977955911825,
          14.569138276553106,
          14.649298597194388,
          14.729458917835672,
          14.809619238476953,
          14.889779559118235,
          14.969939879759519,
          15.050100200400802,
          15.130260521042084,
          15.210420841683366,
          15.29058116232465,
          15.370741482965933,
          15.450901803607215,
          15.531062124248496,
          15.61122244488978,
          15.691382765531062,
          15.771543086172343,
          15.851703406813627,
          15.93186372745491,
          16.012024048096194,
          16.092184368737474,
          16.172344689378757,
          16.25250501002004,
          16.33266533066132,
          16.412825651302605,
          16.492985971943888,
          16.57314629258517,
          16.65330661322645,
          16.733466933867735,
          16.81362725450902,
          16.8937875751503,
          16.973947895791582,
          17.054108216432866,
          17.13426853707415,
          17.214428857715433,
          17.294589178356713,
          17.374749498997996,
          17.454909819639276,
          17.53507014028056,
          17.615230460921843,
          17.695390781563127,
          17.77555110220441,
          17.85571142284569,
          17.935871743486974,
          18.016032064128254,
          18.096192384769537,
          18.17635270541082,
          18.256513026052104,
          18.336673346693388,
          18.41683366733467,
          18.49699398797595,
          18.57715430861723,
          18.657314629258515,
          18.7374749498998,
          18.817635270541082,
          18.897795591182366,
          18.97795591182365,
          19.05811623246493,
          19.138276553106213,
          19.218436873747493,
          19.298597194388776,
          19.37875751503006,
          19.458917835671343,
          19.539078156312627,
          19.619238476953907,
          19.69939879759519,
          19.77955911823647,
          19.859719438877754,
          19.939879759519037,
          20.02004008016032,
          20.100200400801604,
          20.180360721442888,
          20.260521042084168,
          20.340681362725448,
          20.42084168336673,
          20.501002004008015,
          20.5811623246493,
          20.661322645290582,
          20.741482965931866,
          20.821643286573146,
          20.90180360721443,
          20.98196392785571,
          21.062124248496993,
          21.142284569138276,
          21.22244488977956,
          21.302605210420843,
          21.382765531062123,
          21.462925851703407,
          21.543086172344687,
          21.62324649298597,
          21.703406813627254,
          21.783567134268537,
          21.86372745490982,
          21.943887775551104,
          22.024048096192384,
          22.104208416833664,
          22.184368737474948,
          22.26452905811623,
          22.344689378757515,
          22.4248496993988,
          22.505010020040082,
          22.585170340681362,
          22.665330661322646,
          22.745490981963925,
          22.82565130260521,
          22.905811623246493,
          22.985971943887776,
          23.06613226452906,
          23.14629258517034,
          23.226452905811623,
          23.306613226452903,
          23.386773547094187,
          23.46693386773547,
          23.547094188376754,
          23.627254509018037,
          23.707414829659317,
          23.7875751503006,
          23.86773547094188,
          23.947895791583164,
          24.028056112224448,
          24.10821643286573,
          24.188376753507015,
          24.2685370741483,
          24.34869739478958,
          24.428857715430862,
          24.509018036072142,
          24.589178356713425,
          24.66933867735471,
          24.749498997995993,
          24.829659318637276,
          24.909819639278556,
          24.98997995991984,
          25.07014028056112,
          25.150300601202403,
          25.230460921843687,
          25.31062124248497,
          25.390781563126254,
          25.470941883767534,
          25.551102204408817,
          25.631262525050097,
          25.71142284569138,
          25.791583166332664,
          25.871743486973948,
          25.95190380761523,
          26.03206412825651,
          26.112224448897795,
          26.19238476953908,
          26.27254509018036,
          26.352705410821642,
          26.432865731462925,
          26.51302605210421,
          26.59318637274549,
          26.673346693386772,
          26.753507014028056,
          26.83366733466934,
          26.91382765531062,
          26.993987975951903,
          27.074148296593187,
          27.154308617234467,
          27.23446893787575,
          27.314629258517034,
          27.394789579158317,
          27.474949899799597,
          27.55511022044088,
          27.635270541082164,
          27.715430861723448,
          27.795591182364728,
          27.87575150300601,
          27.955911823647295,
          28.036072144288575,
          28.11623246492986,
          28.196392785571142,
          28.276553106212425,
          28.356713426853705,
          28.43687374749499,
          28.517034068136272,
          28.597194388777556,
          28.677354709418836,
          28.75751503006012,
          28.837675350701403,
          28.917835671342683,
          28.997995991983966,
          29.07815631262525,
          29.158316633266534,
          29.238476953907814,
          29.318637274549097,
          29.39879759519038,
          29.478957915831664,
          29.559118236472944,
          29.639278557114228,
          29.71943887775551,
          29.79959919839679,
          29.879759519038075,
          29.95991983967936,
          30.04008016032064,
          30.12024048096192,
          30.200400801603205,
          30.28056112224449,
          30.360721442885772,
          30.440881763527052,
          30.521042084168336,
          30.60120240480962,
          30.6813627254509,
          30.761523046092183,
          30.841683366733466,
          30.92184368737475,
          31.00200400801603,
          31.082164328657313,
          31.162324649298597,
          31.24248496993988,
          31.32264529058116,
          31.402805611222444,
          31.482965931863728,
          31.563126252505008,
          31.64328657314629,
          31.723446893787575,
          31.803607214428858,
          31.883767535070138,
          31.96392785571142,
          32.0440881763527,
          32.124248496993985,
          32.20440881763527,
          32.28456913827655,
          32.364729458917836,
          32.44488977955912,
          32.5250501002004,
          32.605210420841686,
          32.68537074148297,
          32.765531062124246,
          32.84569138276553,
          32.92585170340681,
          33.0060120240481,
          33.08617234468937,
          33.16633266533066,
          33.24649298597194,
          33.326653306613224,
          33.40681362725451,
          33.48697394789579,
          33.567134268537075,
          33.64729458917836,
          33.72745490981964,
          33.807615230460925,
          33.88777555110221,
          33.967935871743485,
          34.04809619238477,
          34.12825651302605,
          34.20841683366733,
          34.28857715430861,
          34.368737474949896,
          34.44889779559118,
          34.52905811623246,
          34.609218436873746,
          34.68937875751503,
          34.76953907815631,
          34.8496993987976,
          34.92985971943888,
          35.010020040080164,
          35.09018036072144,
          35.170340681362724,
          35.25050100200401,
          35.33066132264529,
          35.41082164328657,
          35.49098196392785,
          35.571142284569135,
          35.65130260521042,
          35.7314629258517,
          35.811623246492985,
          35.89178356713427,
          35.97194388777555,
          36.052104208416836,
          36.13226452905812,
          36.2124248496994,
          36.29258517034068,
          36.37274549098196,
          36.452905811623246,
          36.53306613226452,
          36.613226452905806,
          36.69338677354709,
          36.77354709418837,
          36.85370741482966,
          36.93386773547094,
          37.014028056112224,
          37.09418837675351,
          37.17434869739479,
          37.254509018036075,
          37.33466933867736,
          37.414829659318634,
          37.49498997995992,
          37.5751503006012,
          37.655310621242485,
          37.73547094188376,
          37.815631262525045,
          37.89579158316633,
          37.97595190380761,
          38.056112224448896,
          38.13627254509018,
          38.21643286573146,
          38.296593186372746,
          38.37675350701403,
          38.45691382765531,
          38.5370741482966,
          38.61723446893787,
          38.69739478957916,
          38.77755511022044,
          38.857715430861724,
          38.937875751503,
          39.018036072144284,
          39.09819639278557,
          39.17835671342685,
          39.258517034068134,
          39.33867735470942,
          39.4188376753507,
          39.498997995991985,
          39.57915831663327,
          39.65931863727455,
          39.739478957915836,
          39.81963927855711,
          39.899799599198396,
          39.97995991983968,
          40.060120240480956,
          40.14028056112224,
          40.22044088176352,
          40.300601202404806,
          40.38076152304609,
          40.46092184368737,
          40.54108216432866,
          40.62124248496994,
          40.701402805611224,
          40.78156312625251,
          40.86172344689379,
          40.94188376753507,
          41.02204408817635,
          41.102204408817634,
          41.18236472945892,
          41.262525050100194,
          41.34268537074148,
          41.42284569138276,
          41.503006012024045,
          41.58316633266533,
          41.66332665330661,
          41.743486973947896,
          41.82364729458918,
          41.90380761523046,
          41.983967935871746,
          42.06412825651302,
          42.144288577154306,
          42.22444889779559,
          42.30460921843687,
          42.38476953907816,
          42.46492985971944,
          42.54509018036072,
          42.625250501002,
          42.705410821643284,
          42.78557114228457,
          42.86573146292585,
          42.945891783567134,
          43.02605210420842,
          43.1062124248497,
          43.18637274549098,
          43.26653306613226,
          43.346693386773545,
          43.42685370741483,
          43.50701402805611,
          43.587174348697395,
          43.66733466933868,
          43.747494989979955,
          43.82765531062124,
          43.90781563126252,
          43.987975951903806,
          44.06813627254509,
          44.14829659318637,
          44.22845691382766,
          44.30861723446893,
          44.38877755511022,
          44.4689378757515,
          44.549098196392784,
          44.62925851703407,
          44.70941883767535,
          44.789579158316634,
          44.86973947895792,
          44.949899799599194,
          45.03006012024048,
          45.11022044088176,
          45.190380761523045,
          45.27054108216433,
          45.35070140280561,
          45.430861723446895,
          45.51102204408817,
          45.591182364729455,
          45.67134268537074,
          45.75150300601202,
          45.831663326653306,
          45.91182364729459,
          45.99198396793587,
          46.07214428857715,
          46.15230460921843,
          46.23246492985972,
          46.312625250501,
          46.392785571142284,
          46.47294589178357,
          46.55310621242485,
          46.633266533066134,
          46.71342685370741,
          46.793587174348694,
          46.87374749498998,
          46.95390781563126,
          47.034068136272545,
          47.11422845691383,
          47.19438877755511,
          47.27454909819639,
          47.35470941883767,
          47.434869739478955,
          47.51503006012024,
          47.59519038076152,
          47.675350701402806,
          47.75551102204409,
          47.835671342685366,
          47.91583166332665,
          47.99599198396793,
          48.07615230460922,
          48.1563126252505,
          48.236472945891784,
          48.31663326653307,
          48.39679358717435,
          48.47695390781563,
          48.55711422845691,
          48.637274549098194,
          48.71743486973948,
          48.79759519038076,
          48.877755511022045,
          48.95791583166333,
          49.038076152304605,
          49.11823647294589,
          49.19839679358717,
          49.278557114228455,
          49.35871743486974,
          49.43887775551102,
          49.519038076152306,
          49.59919839679358,
          49.679358717434866,
          49.75951903807615,
          49.83967935871743,
          49.91983967935872,
          50
         ],
         "y": [
          0.00002676604515297707,
          0.000028535069948209446,
          0.000030413195331414453,
          0.00003240660499860232,
          0.00003452179700334539,
          0.00003676559746330287,
          0.0000391451747280101,
          0.000041668054015483196,
          0.0000443421325248182,
          0.00004717569503154154,
          0.00005017742997200992,
          0.00005335644602265621,
          0.00005672228917932874,
          0.00006028496034138143,
          0.0000640549334045262,
          0.00006804317386577609,
          0.00007226115794305991,
          0.00007672089221130225,
          0.00008143493375591315,
          0.00008641641084373472,
          0.0000916790441105305,
          0.00009723716826309731,
          0.00010310575429299923,
          0.00010930043219779943,
          0.00011583751420447113,
          0.00012273401848841725,
          0.00013000769338021643,
          0.00013767704205083382,
          0.00014576134766460297,
          0.0001542806989877754,
          0.00016325601643887765,
          0.00017270907856548252,
          0.00018266254893031244,
          0.0001931400033878429,
          0.00020416595773074694,
          0.00021576589568366098,
          0.00022796629721980413,
          0.00024079466717398334,
          0.00025427956412347314,
          0.0002684506295061392,
          0.00028333861694300634,
          0.00029897542173026685,
          0.0003153941104634322,
          0.0003326289507540431,
          0.00035071544099696657,
          0.00036969034014392056,
          0.0003895916974364216,
          0.00041045888204886997,
          0.0004323326125899895,
          0.00045525498640829114,
          0.0004792695086447013,
          0.0005044211209728906,
          0.0005307562299652826,
          0.0005583227350201227,
          0.0005871700557823998,
          0.000617349158988823,
          0.0006489125846644958,
          0.0006819144715963734,
          0.0007164105820060621,
          0.0007524583253420258,
          0.0007901167811088063,
          0.0008294467206484997,
          0.0008705106277873148,
          0.0009133727182578301,
          0.0009580989578053326,
          0.0010047570788844725,
          0.001053416595850496,
          0.0011041488185473246,
          0.0011570268641929989,
          0.0012121256674612545,
          0.001269521988656448,
          0.0013292944198776571,
          0.0013915233890664565,
          0.0014562911618318038,
          0.0015236818409444857,
          0.0015937813633928783,
          0.001666677494891121,
          0.001742459821730564,
          0.0018212197398650226,
          0.0019030504411206531,
          0.0019880468964214213,
          0.002076305835921672,
          0.00216792572593828,
          0.0022630067425757016,
          0.002361650741938766,
          0.0024639612268295102,
          0.0025700433098264186,
          0.002680003672646503,
          0.002793950521693198,
          0.0029119935396959167,
          0.0030342438333501964,
          0.00316081387687083,
          0.003291817451374202,
          0.0034273695800101193,
          0.0035675864587680147,
          0.0037125853828870307,
          0.003862484668804876,
          0.0040174035715856374,
          0.004177462197772765,
          0.004342781413619598,
          0.004513482748656257,
          0.004689688294558894,
          0.004871520599294246,
          0.0050591025565203205,
          0.005252557290231776,
          0.005452008034646926,
          0.00565757800934193,
          0.00586939028964662,
          0.006087567672325552,
          0.0063122325365776,
          0.006543506700397122,
          0.006781511272349802,
          0.0070263664988267005,
          0.007278191606850631,
          0.007537104642519907,
          0.007803222305185351,
          0.008076659777468104,
          0.008357530551236728,
          0.008645946249674243,
          0.008942016445576946,
          0.009245848476039136,
          0.00955754725368961,
          0.009877215074657717,
          0.010204951423459233,
          0.010540852775003603,
          0.010885012393937186,
          0.01123752013154811,
          0.011598462220470954,
          0.01196792106744106,
          0.012345975044359966,
          0.012732698277944961,
          0.013128160438247079,
          0.013532426526333135,
          0.013945556661437857,
          0.014367605867902984,
          0.014798623862230229,
          0.015238654840585043,
          0.015687737267096994,
          0.01614590366331243,
          0.01661318039916257,
          0.017089587485819097,
          0.017575138370816087,
          0.01806983973582444,
          0.01857369129747104,
          0.019086685611600412,
          0.019608807881382195,
          0.02014003576967099,
          0.020680339216029877,
          0.021229680258830676,
          0.021788012862846724,
          0.022355282752754602,
          0.022931427252962145,
          0.023516375134178938,
          0.024110046467144614,
          0.02471235248392791,
          0.025323195447205914,
          0.025942468527929075,
          0.026570055691772478,
          0.027205831594767766,
          0.027849661488502694,
          0.028501401135268365,
          0.029160896733523713,
          0.029827984854038266,
          0.03050249238706235,
          0.031184236500862283,
          0.031873024611945286,
          0.03256865436728451,
          0.033270913638840695,
          0.03397958053065975,
          0.03469442339881036,
          0.03541520088440699,
          0.03614166195994546,
          0.03687354598915937,
          0.03761058280058429,
          0.038352492774997075,
          0.03909898694687438,
          0.03984976711999313,
          0.04060452599727151,
          0.04136294732492569,
          0.0421247060509927,
          0.04288946849824495,
          0.043656892551495616,
          0.04442662785926935,
          0.04519831604978429,
          0.04597159096116635,
          0.046746078885788064,
          0.04752139882859761,
          0.048297162779275725,
          0.04907297599802973,
          0.04984843731480767,
          0.05062313944168526,
          0.05139666929815285,
          0.05216860834899997,
          0.05293853295446877,
          0.05370601473231965,
          0.05447062093142527,
          0.05523191481648363,
          0.05598945606341303,
          0.05674280116496781,
          0.057491503846087616,
          0.05823511548846887,
          0.058973185563824033,
          0.05970526207527006,
          0.06043089200626723,
          0.06114962177650694,
          0.06186099770412748,
          0.06256456647361808,
          0.063259875608753,
          0.0639464739498809,
          0.06462391213487866,
          0.06529174308306533,
          0.06594952248135784,
          0.06659680927193867,
          0.06723316614069566,
          0.06785816000568465,
          0.06847136250485868,
          0.06907235048230079,
          0.06966070647219387,
          0.0702360191797572,
          0.07079788395837879,
          0.07134590328217158,
          0.07187968721318519,
          0.07239885386250645,
          0.07290302984448829,
          0.07339185072335211,
          0.07386496145141824,
          0.07432201679822772,
          0.07476268176983057,
          0.07518663201752875,
          0.07559355423537653,
          0.07598314654575697,
          0.07635511887237022,
          0.0767091932999899,
          0.07704510442036244,
          0.07736259966364736,
          0.0776614396148192,
          0.0779413983144763,
          0.07820226354352783,
          0.07844383709125623,
          0.07866593500628216,
          0.07886838782998627,
          0.07905104081197384,
          0.0792137541071982,
          0.07935640295439203,
          0.07947887783548736,
          0.07958108461573941,
          0.07966294466430313,
          0.07972439495504624,
          0.07976538814741808,
          0.07978589264722862,
          0.07978589264722862,
          0.07976538814741808,
          0.07972439495504624,
          0.07966294466430313,
          0.07958108461573941,
          0.07947887783548736,
          0.07935640295439203,
          0.0792137541071982,
          0.07905104081197385,
          0.07886838782998629,
          0.07866593500628216,
          0.07844383709125623,
          0.07820226354352784,
          0.07794139831447632,
          0.0776614396148192,
          0.07736259966364736,
          0.07704510442036246,
          0.0767091932999899,
          0.07635511887237022,
          0.07598314654575698,
          0.07559355423537654,
          0.07518663201752875,
          0.07476268176983057,
          0.07432201679822775,
          0.07386496145141826,
          0.07339185072335212,
          0.07290302984448832,
          0.07239885386250648,
          0.07187968721318519,
          0.07134590328217158,
          0.07079788395837879,
          0.0702360191797572,
          0.06966070647219384,
          0.06907235048230076,
          0.0684713625048587,
          0.06785816000568468,
          0.06723316614069566,
          0.06659680927193867,
          0.0659495224813579,
          0.06529174308306537,
          0.06462391213487867,
          0.06394647394988093,
          0.06325987560875304,
          0.06256456647361808,
          0.06186099770412748,
          0.06114962177650694,
          0.06043089200626723,
          0.05970526207527003,
          0.058973185563824,
          0.05823511548846891,
          0.057491503846087616,
          0.05674280116496781,
          0.055989456063413094,
          0.05523191481648369,
          0.05447062093142534,
          0.053706014732319694,
          0.05293853295446881,
          0.05216860834899997,
          0.05139666929815285,
          0.05062313944168526,
          0.04984843731480767,
          0.04907297599802973,
          0.04829716277927569,
          0.047521398828597655,
          0.046746078885788064,
          0.04597159096116635,
          0.04519831604978429,
          0.044426627859269416,
          0.043656892551495685,
          0.04288946849824499,
          0.042124706050992736,
          0.04136294732492569,
          0.04060452599727151,
          0.03984976711999313,
          0.03909898694687438,
          0.038352492774997075,
          0.03761058280058429,
          0.036873545989159345,
          0.0361416619599455,
          0.03541520088440699,
          0.03469442339881036,
          0.03397958053065981,
          0.03327091363884076,
          0.032568654367284566,
          0.03187302461194532,
          0.031184236500862314,
          0.03050249238706235,
          0.029827984854038266,
          0.029160896733523713,
          0.028501401135268365,
          0.027849661488502694,
          0.027205831594767735,
          0.026570055691772506,
          0.025942468527929075,
          0.025323195447205914,
          0.02471235248392791,
          0.02411004646714467,
          0.023516375134178986,
          0.022931427252962194,
          0.022355282752754634,
          0.021788012862846724,
          0.021229680258830676,
          0.020680339216029877,
          0.02014003576967099,
          0.019608807881382195,
          0.019086685611600412,
          0.018573691297471016,
          0.01806983973582446,
          0.017575138370816087,
          0.017089587485819097,
          0.01661318039916257,
          0.01614590366331247,
          0.015687737267097032,
          0.015238654840585068,
          0.01479862386223025,
          0.014367605867902984,
          0.013945556661437857,
          0.013532426526333135,
          0.013128160438247079,
          0.012732698277944961,
          0.012345975044359966,
          0.01196792106744104,
          0.011598462220470954,
          0.01123752013154811,
          0.010885012393937186,
          0.010540852775003632,
          0.01020495142345926,
          0.009877215074657749,
          0.009557547253689623,
          0.009245848476039148,
          0.008942016445576946,
          0.008645946249674243,
          0.008357530551236728,
          0.008076659777468104,
          0.007803222305185351,
          0.007537104642519898,
          0.007278191606850641,
          0.0070263664988267005,
          0.006781511272349802,
          0.006543506700397122,
          0.006312232536577618,
          0.0060875676723255705,
          0.005869390289646636,
          0.00565757800934194,
          0.005452008034646926,
          0.005252557290231776,
          0.0050591025565203205,
          0.004871520599294246,
          0.004689688294558894,
          0.004513482748656257,
          0.004342781413619606,
          0.004177462197772773,
          0.0040174035715856374,
          0.003862484668804876,
          0.0037125853828870307,
          0.0035675864587680147,
          0.0034273695800101306,
          0.0032918174513742082,
          0.0031608138768708344,
          0.0030342438333501964,
          0.0029119935396959167,
          0.002793950521693198,
          0.002680003672646503,
          0.0025700433098264186,
          0.002463961226829515,
          0.0023616507419387703,
          0.0022630067425757064,
          0.00216792572593828,
          0.002076305835921672,
          0.0019880468964214213,
          0.0019030504411206531,
          0.0018212197398650265,
          0.001742459821730568,
          0.0016666774948911253,
          0.0015937813633928783,
          0.0015236818409444857,
          0.0014562911618318038,
          0.0013915233890664565,
          0.0013292944198776608,
          0.0012695219886564503,
          0.0012121256674612556,
          0.001157026864193,
          0.0011041488185473246,
          0.001053416595850496,
          0.0010047570788844725,
          0.0009580989578053317,
          0.0009133727182578326,
          0.0008705106277873163,
          0.000829446720648502,
          0.0007901167811088077,
          0.0007524583253420258,
          0.0007164105820060621,
          0.0006819144715963721,
          0.000648912584664497,
          0.0006173491589888246,
          0.0005871700557824013,
          0.0005583227350201231,
          0.0005307562299652826,
          0.0005044211209728906,
          0.0004792695086447013,
          0.0004552549864082932,
          0.0004323326125899906,
          0.00041045888204887106,
          0.0003895916974364216,
          0.00036969034014392056,
          0.00035071544099696657,
          0.0003326289507540431,
          0.0003153941104634322,
          0.00029897542173026767,
          0.0002833386169430069,
          0.0002684506295061392,
          0.00025427956412347314,
          0.00024079466717398334,
          0.00022796629721980413,
          0.00021576589568366098,
          0.0002041659577307475,
          0.0001931400033878436,
          0.00018266254893031277,
          0.00017270907856548252,
          0.00016325601643887765,
          0.0001542806989877754,
          0.00014576134766460297,
          0.00013767704205083442,
          0.00013000769338021676,
          0.0001227340184884175,
          0.00011583751420447113,
          0.00010930043219779943,
          0.00010310575429299923,
          0.00009723716826309731,
          0.0000916790441105305,
          0.00008641641084373496,
          0.00008143493375591335,
          0.00007672089221130225,
          0.00007226115794305991,
          0.00006804317386577609,
          0.0000640549334045262,
          0.00006028496034138143,
          0.000056722289179329086,
          0.000053356446022656406,
          0.00005017742997201,
          0.00004717569503154154,
          0.0000443421325248182,
          0.000041668054015483196,
          0.0000391451747280101,
          0.000036765597463303066,
          0.00003452179700334545,
          0.00003240660499860244,
          0.000030413195331414453,
          0.000028535069948209446,
          0.00002676604515297707
         ]
        }
       ],
       "layout": {
        "template": {
         "data": {
          "bar": [
           {
            "error_x": {
             "color": "#2a3f5f"
            },
            "error_y": {
             "color": "#2a3f5f"
            },
            "marker": {
             "line": {
              "color": "white",
              "width": 0.5
             },
             "pattern": {
              "fillmode": "overlay",
              "size": 10,
              "solidity": 0.2
             }
            },
            "type": "bar"
           }
          ],
          "barpolar": [
           {
            "marker": {
             "line": {
              "color": "white",
              "width": 0.5
             },
             "pattern": {
              "fillmode": "overlay",
              "size": 10,
              "solidity": 0.2
             }
            },
            "type": "barpolar"
           }
          ],
          "carpet": [
           {
            "aaxis": {
             "endlinecolor": "#2a3f5f",
             "gridcolor": "#C8D4E3",
             "linecolor": "#C8D4E3",
             "minorgridcolor": "#C8D4E3",
             "startlinecolor": "#2a3f5f"
            },
            "baxis": {
             "endlinecolor": "#2a3f5f",
             "gridcolor": "#C8D4E3",
             "linecolor": "#C8D4E3",
             "minorgridcolor": "#C8D4E3",
             "startlinecolor": "#2a3f5f"
            },
            "type": "carpet"
           }
          ],
          "choropleth": [
           {
            "colorbar": {
             "outlinewidth": 0,
             "ticks": ""
            },
            "type": "choropleth"
           }
          ],
          "contour": [
           {
            "colorbar": {
             "outlinewidth": 0,
             "ticks": ""
            },
            "colorscale": [
             [
              0,
              "#0d0887"
             ],
             [
              0.1111111111111111,
              "#46039f"
             ],
             [
              0.2222222222222222,
              "#7201a8"
             ],
             [
              0.3333333333333333,
              "#9c179e"
             ],
             [
              0.4444444444444444,
              "#bd3786"
             ],
             [
              0.5555555555555556,
              "#d8576b"
             ],
             [
              0.6666666666666666,
              "#ed7953"
             ],
             [
              0.7777777777777778,
              "#fb9f3a"
             ],
             [
              0.8888888888888888,
              "#fdca26"
             ],
             [
              1,
              "#f0f921"
             ]
            ],
            "type": "contour"
           }
          ],
          "contourcarpet": [
           {
            "colorbar": {
             "outlinewidth": 0,
             "ticks": ""
            },
            "type": "contourcarpet"
           }
          ],
          "heatmap": [
           {
            "colorbar": {
             "outlinewidth": 0,
             "ticks": ""
            },
            "colorscale": [
             [
              0,
              "#0d0887"
             ],
             [
              0.1111111111111111,
              "#46039f"
             ],
             [
              0.2222222222222222,
              "#7201a8"
             ],
             [
              0.3333333333333333,
              "#9c179e"
             ],
             [
              0.4444444444444444,
              "#bd3786"
             ],
             [
              0.5555555555555556,
              "#d8576b"
             ],
             [
              0.6666666666666666,
              "#ed7953"
             ],
             [
              0.7777777777777778,
              "#fb9f3a"
             ],
             [
              0.8888888888888888,
              "#fdca26"
             ],
             [
              1,
              "#f0f921"
             ]
            ],
            "type": "heatmap"
           }
          ],
          "heatmapgl": [
           {
            "colorbar": {
             "outlinewidth": 0,
             "ticks": ""
            },
            "colorscale": [
             [
              0,
              "#0d0887"
             ],
             [
              0.1111111111111111,
              "#46039f"
             ],
             [
              0.2222222222222222,
              "#7201a8"
             ],
             [
              0.3333333333333333,
              "#9c179e"
             ],
             [
              0.4444444444444444,
              "#bd3786"
             ],
             [
              0.5555555555555556,
              "#d8576b"
             ],
             [
              0.6666666666666666,
              "#ed7953"
             ],
             [
              0.7777777777777778,
              "#fb9f3a"
             ],
             [
              0.8888888888888888,
              "#fdca26"
             ],
             [
              1,
              "#f0f921"
             ]
            ],
            "type": "heatmapgl"
           }
          ],
          "histogram": [
           {
            "marker": {
             "pattern": {
              "fillmode": "overlay",
              "size": 10,
              "solidity": 0.2
             }
            },
            "type": "histogram"
           }
          ],
          "histogram2d": [
           {
            "colorbar": {
             "outlinewidth": 0,
             "ticks": ""
            },
            "colorscale": [
             [
              0,
              "#0d0887"
             ],
             [
              0.1111111111111111,
              "#46039f"
             ],
             [
              0.2222222222222222,
              "#7201a8"
             ],
             [
              0.3333333333333333,
              "#9c179e"
             ],
             [
              0.4444444444444444,
              "#bd3786"
             ],
             [
              0.5555555555555556,
              "#d8576b"
             ],
             [
              0.6666666666666666,
              "#ed7953"
             ],
             [
              0.7777777777777778,
              "#fb9f3a"
             ],
             [
              0.8888888888888888,
              "#fdca26"
             ],
             [
              1,
              "#f0f921"
             ]
            ],
            "type": "histogram2d"
           }
          ],
          "histogram2dcontour": [
           {
            "colorbar": {
             "outlinewidth": 0,
             "ticks": ""
            },
            "colorscale": [
             [
              0,
              "#0d0887"
             ],
             [
              0.1111111111111111,
              "#46039f"
             ],
             [
              0.2222222222222222,
              "#7201a8"
             ],
             [
              0.3333333333333333,
              "#9c179e"
             ],
             [
              0.4444444444444444,
              "#bd3786"
             ],
             [
              0.5555555555555556,
              "#d8576b"
             ],
             [
              0.6666666666666666,
              "#ed7953"
             ],
             [
              0.7777777777777778,
              "#fb9f3a"
             ],
             [
              0.8888888888888888,
              "#fdca26"
             ],
             [
              1,
              "#f0f921"
             ]
            ],
            "type": "histogram2dcontour"
           }
          ],
          "mesh3d": [
           {
            "colorbar": {
             "outlinewidth": 0,
             "ticks": ""
            },
            "type": "mesh3d"
           }
          ],
          "parcoords": [
           {
            "line": {
             "colorbar": {
              "outlinewidth": 0,
              "ticks": ""
             }
            },
            "type": "parcoords"
           }
          ],
          "pie": [
           {
            "automargin": true,
            "type": "pie"
           }
          ],
          "scatter": [
           {
            "fillpattern": {
             "fillmode": "overlay",
             "size": 10,
             "solidity": 0.2
            },
            "type": "scatter"
           }
          ],
          "scatter3d": [
           {
            "line": {
             "colorbar": {
              "outlinewidth": 0,
              "ticks": ""
             }
            },
            "marker": {
             "colorbar": {
              "outlinewidth": 0,
              "ticks": ""
             }
            },
            "type": "scatter3d"
           }
          ],
          "scattercarpet": [
           {
            "marker": {
             "colorbar": {
              "outlinewidth": 0,
              "ticks": ""
             }
            },
            "type": "scattercarpet"
           }
          ],
          "scattergeo": [
           {
            "marker": {
             "colorbar": {
              "outlinewidth": 0,
              "ticks": ""
             }
            },
            "type": "scattergeo"
           }
          ],
          "scattergl": [
           {
            "marker": {
             "colorbar": {
              "outlinewidth": 0,
              "ticks": ""
             }
            },
            "type": "scattergl"
           }
          ],
          "scattermapbox": [
           {
            "marker": {
             "colorbar": {
              "outlinewidth": 0,
              "ticks": ""
             }
            },
            "type": "scattermapbox"
           }
          ],
          "scatterpolar": [
           {
            "marker": {
             "colorbar": {
              "outlinewidth": 0,
              "ticks": ""
             }
            },
            "type": "scatterpolar"
           }
          ],
          "scatterpolargl": [
           {
            "marker": {
             "colorbar": {
              "outlinewidth": 0,
              "ticks": ""
             }
            },
            "type": "scatterpolargl"
           }
          ],
          "scatterternary": [
           {
            "marker": {
             "colorbar": {
              "outlinewidth": 0,
              "ticks": ""
             }
            },
            "type": "scatterternary"
           }
          ],
          "surface": [
           {
            "colorbar": {
             "outlinewidth": 0,
             "ticks": ""
            },
            "colorscale": [
             [
              0,
              "#0d0887"
             ],
             [
              0.1111111111111111,
              "#46039f"
             ],
             [
              0.2222222222222222,
              "#7201a8"
             ],
             [
              0.3333333333333333,
              "#9c179e"
             ],
             [
              0.4444444444444444,
              "#bd3786"
             ],
             [
              0.5555555555555556,
              "#d8576b"
             ],
             [
              0.6666666666666666,
              "#ed7953"
             ],
             [
              0.7777777777777778,
              "#fb9f3a"
             ],
             [
              0.8888888888888888,
              "#fdca26"
             ],
             [
              1,
              "#f0f921"
             ]
            ],
            "type": "surface"
           }
          ],
          "table": [
           {
            "cells": {
             "fill": {
              "color": "#EBF0F8"
             },
             "line": {
              "color": "white"
             }
            },
            "header": {
             "fill": {
              "color": "#C8D4E3"
             },
             "line": {
              "color": "white"
             }
            },
            "type": "table"
           }
          ]
         },
         "layout": {
          "annotationdefaults": {
           "arrowcolor": "#2a3f5f",
           "arrowhead": 0,
           "arrowwidth": 1
          },
          "autotypenumbers": "strict",
          "coloraxis": {
           "colorbar": {
            "outlinewidth": 0,
            "ticks": ""
           }
          },
          "colorscale": {
           "diverging": [
            [
             0,
             "#8e0152"
            ],
            [
             0.1,
             "#c51b7d"
            ],
            [
             0.2,
             "#de77ae"
            ],
            [
             0.3,
             "#f1b6da"
            ],
            [
             0.4,
             "#fde0ef"
            ],
            [
             0.5,
             "#f7f7f7"
            ],
            [
             0.6,
             "#e6f5d0"
            ],
            [
             0.7,
             "#b8e186"
            ],
            [
             0.8,
             "#7fbc41"
            ],
            [
             0.9,
             "#4d9221"
            ],
            [
             1,
             "#276419"
            ]
           ],
           "sequential": [
            [
             0,
             "#0d0887"
            ],
            [
             0.1111111111111111,
             "#46039f"
            ],
            [
             0.2222222222222222,
             "#7201a8"
            ],
            [
             0.3333333333333333,
             "#9c179e"
            ],
            [
             0.4444444444444444,
             "#bd3786"
            ],
            [
             0.5555555555555556,
             "#d8576b"
            ],
            [
             0.6666666666666666,
             "#ed7953"
            ],
            [
             0.7777777777777778,
             "#fb9f3a"
            ],
            [
             0.8888888888888888,
             "#fdca26"
            ],
            [
             1,
             "#f0f921"
            ]
           ],
           "sequentialminus": [
            [
             0,
             "#0d0887"
            ],
            [
             0.1111111111111111,
             "#46039f"
            ],
            [
             0.2222222222222222,
             "#7201a8"
            ],
            [
             0.3333333333333333,
             "#9c179e"
            ],
            [
             0.4444444444444444,
             "#bd3786"
            ],
            [
             0.5555555555555556,
             "#d8576b"
            ],
            [
             0.6666666666666666,
             "#ed7953"
            ],
            [
             0.7777777777777778,
             "#fb9f3a"
            ],
            [
             0.8888888888888888,
             "#fdca26"
            ],
            [
             1,
             "#f0f921"
            ]
           ]
          },
          "colorway": [
           "#636efa",
           "#EF553B",
           "#00cc96",
           "#ab63fa",
           "#FFA15A",
           "#19d3f3",
           "#FF6692",
           "#B6E880",
           "#FF97FF",
           "#FECB52"
          ],
          "font": {
           "color": "#2a3f5f"
          },
          "geo": {
           "bgcolor": "white",
           "lakecolor": "white",
           "landcolor": "white",
           "showlakes": true,
           "showland": true,
           "subunitcolor": "#C8D4E3"
          },
          "hoverlabel": {
           "align": "left"
          },
          "hovermode": "closest",
          "mapbox": {
           "style": "light"
          },
          "paper_bgcolor": "white",
          "plot_bgcolor": "white",
          "polar": {
           "angularaxis": {
            "gridcolor": "#EBF0F8",
            "linecolor": "#EBF0F8",
            "ticks": ""
           },
           "bgcolor": "white",
           "radialaxis": {
            "gridcolor": "#EBF0F8",
            "linecolor": "#EBF0F8",
            "ticks": ""
           }
          },
          "scene": {
           "xaxis": {
            "backgroundcolor": "white",
            "gridcolor": "#DFE8F3",
            "gridwidth": 2,
            "linecolor": "#EBF0F8",
            "showbackground": true,
            "ticks": "",
            "zerolinecolor": "#EBF0F8"
           },
           "yaxis": {
            "backgroundcolor": "white",
            "gridcolor": "#DFE8F3",
            "gridwidth": 2,
            "linecolor": "#EBF0F8",
            "showbackground": true,
            "ticks": "",
            "zerolinecolor": "#EBF0F8"
           },
           "zaxis": {
            "backgroundcolor": "white",
            "gridcolor": "#DFE8F3",
            "gridwidth": 2,
            "linecolor": "#EBF0F8",
            "showbackground": true,
            "ticks": "",
            "zerolinecolor": "#EBF0F8"
           }
          },
          "shapedefaults": {
           "line": {
            "color": "#2a3f5f"
           }
          },
          "ternary": {
           "aaxis": {
            "gridcolor": "#DFE8F3",
            "linecolor": "#A2B1C6",
            "ticks": ""
           },
           "baxis": {
            "gridcolor": "#DFE8F3",
            "linecolor": "#A2B1C6",
            "ticks": ""
           },
           "bgcolor": "white",
           "caxis": {
            "gridcolor": "#DFE8F3",
            "linecolor": "#A2B1C6",
            "ticks": ""
           }
          },
          "title": {
           "x": 0.05
          },
          "xaxis": {
           "automargin": true,
           "gridcolor": "#EBF0F8",
           "linecolor": "#EBF0F8",
           "ticks": "",
           "title": {
            "standoff": 15
           },
           "zerolinecolor": "#EBF0F8",
           "zerolinewidth": 2
          },
          "yaxis": {
           "automargin": true,
           "gridcolor": "#EBF0F8",
           "linecolor": "#EBF0F8",
           "ticks": "",
           "title": {
            "standoff": 15
           },
           "zerolinecolor": "#EBF0F8",
           "zerolinewidth": 2
          }
         }
        },
        "title": {
         "text": "Función de Densidad de la Distribución Normal"
        },
        "xaxis": {
         "title": {
          "text": "x (e.g., Temperatura en °C)"
         }
        },
        "yaxis": {
         "title": {
          "text": "f(x)"
         }
        }
       }
      }
     },
     "metadata": {},
     "output_type": "display_data"
    }
   ],
   "source": [
    "import numpy as np\n",
    "import plotly.graph_objects as go\n",
    "\n",
    "# Parámetros de la distribución\n",
    "mu = 30  # Media (ejemplo: temperatura promedio en °C)\n",
    "sigma = 5  # Desviación estándar\n",
    "\n",
    "# Rango de valores para x\n",
    "x = np.linspace(mu - 4 * sigma, mu + 4 * sigma, 500)\n",
    "\n",
    "# Función de densidad de la distribución normal\n",
    "f_x = (1 / (np.sqrt(2 * np.pi * sigma**2))) * np.exp(-((x - mu)**2) / (2 * sigma**2))\n",
    "\n",
    "# Crear el gráfico con Plotly\n",
    "fig = go.Figure()\n",
    "\n",
    "# Agregar la curva de densidad\n",
    "fig.add_trace(go.Scatter(x=x, y=f_x, mode='lines', name='Densidad Normal'))\n",
    "\n",
    "# Personalizar el diseño del gráfico\n",
    "fig.update_layout(\n",
    "    title='Función de Densidad de la Distribución Normal',\n",
    "    xaxis_title='x (e.g., Temperatura en °C)',\n",
    "    yaxis_title='f(x)',\n",
    "    template='plotly_white'\n",
    ")\n",
    "\n",
    "# Mostrar el gráfico\n",
    "fig.show()\n"
   ]
  },
  {
   "cell_type": "markdown",
   "id": "af669b4a",
   "metadata": {},
   "source": [
    "\n",
    "- **Distribución Exponencial**:\n",
    "   - Útil para modelar tiempos entre eventos independientes, como lluvias.\n",
    "   - Función de densidad:\n",
    "     $$\n",
    "     f(x) = \\lambda e^{-\\lambda x}, \\, x \\geq 0\n",
    "     $$\n",
    "   - Parámetro: $\\lambda$ (tasa de ocurrencia).\n",
    "\n",
    "Estas distribuciones se adaptan a los datos climáticos utilizando técnicas de ajuste basadas en datos históricos.\n"
   ]
  },
  {
   "cell_type": "code",
   "execution_count": 24,
   "id": "456e36fe",
   "metadata": {},
   "outputs": [
    {
     "data": {
      "application/vnd.plotly.v1+json": {
       "config": {
        "plotlyServerURL": "https://plot.ly"
       },
       "data": [
        {
         "mode": "lines",
         "name": "Densidad Exponencial",
         "type": "scatter",
         "x": [
          0,
          0.04008016032064128,
          0.08016032064128256,
          0.12024048096192384,
          0.16032064128256512,
          0.2004008016032064,
          0.24048096192384769,
          0.280561122244489,
          0.32064128256513025,
          0.3607214428857715,
          0.4008016032064128,
          0.4408817635270541,
          0.48096192384769537,
          0.5210420841683366,
          0.561122244488978,
          0.6012024048096192,
          0.6412825651302605,
          0.6813627254509018,
          0.721442885771543,
          0.7615230460921844,
          0.8016032064128256,
          0.8416833667334669,
          0.8817635270541082,
          0.9218436873747494,
          0.9619238476953907,
          1.002004008016032,
          1.0420841683366733,
          1.0821643286573146,
          1.122244488977956,
          1.1623246492985972,
          1.2024048096192383,
          1.2424849699398797,
          1.282565130260521,
          1.3226452905811623,
          1.3627254509018036,
          1.4028056112224447,
          1.442885771543086,
          1.4829659318637274,
          1.5230460921843687,
          1.56312625250501,
          1.6032064128256511,
          1.6432865731462925,
          1.6833667334669338,
          1.723446893787575,
          1.7635270541082164,
          1.8036072144288577,
          1.8436873747494988,
          1.8837675350701402,
          1.9238476953907815,
          1.9639278557114228,
          2.004008016032064,
          2.0440881763527052,
          2.0841683366733466,
          2.124248496993988,
          2.164328657314629,
          2.2044088176352705,
          2.244488977955912,
          2.284569138276553,
          2.3246492985971945,
          2.3647294589178354,
          2.4048096192384767,
          2.444889779559118,
          2.4849699398797593,
          2.5250501002004007,
          2.565130260521042,
          2.6052104208416833,
          2.6452905811623246,
          2.685370741482966,
          2.7254509018036073,
          2.7655310621242486,
          2.8056112224448895,
          2.845691382765531,
          2.885771543086172,
          2.9258517034068134,
          2.9659318637274548,
          3.006012024048096,
          3.0460921843687374,
          3.0861723446893787,
          3.12625250501002,
          3.1663326653306614,
          3.2064128256513023,
          3.2464929859719436,
          3.286573146292585,
          3.3266533066132262,
          3.3667334669338675,
          3.406813627254509,
          3.44689378757515,
          3.4869739478957915,
          3.527054108216433,
          3.567134268537074,
          3.6072144288577155,
          3.6472945891783564,
          3.6873747494989977,
          3.727454909819639,
          3.7675350701402803,
          3.8076152304609217,
          3.847695390781563,
          3.8877755511022043,
          3.9278557114228456,
          3.967935871743487,
          4.008016032064128,
          4.04809619238477,
          4.0881763527054105,
          4.128256513026052,
          4.168336673346693,
          4.208416833667335,
          4.248496993987976,
          4.288577154308617,
          4.328657314629258,
          4.368737474949899,
          4.408817635270541,
          4.448897795591182,
          4.488977955911824,
          4.529058116232465,
          4.569138276553106,
          4.609218436873747,
          4.649298597194389,
          4.68937875751503,
          4.729458917835671,
          4.7695390781563125,
          4.809619238476953,
          4.849699398797595,
          4.889779559118236,
          4.929859719438878,
          4.969939879759519,
          5.01002004008016,
          5.050100200400801,
          5.090180360721443,
          5.130260521042084,
          5.170340681362725,
          5.210420841683367,
          5.2505010020040075,
          5.290581162324649,
          5.33066132264529,
          5.370741482965932,
          5.410821643286573,
          5.4509018036072145,
          5.490981963927855,
          5.531062124248497,
          5.571142284569138,
          5.611222444889779,
          5.651302605210421,
          5.691382765531062,
          5.731462925851703,
          5.771543086172344,
          5.811623246492986,
          5.851703406813627,
          5.891783567134269,
          5.9318637274549095,
          5.971943887775551,
          6.012024048096192,
          6.052104208416833,
          6.092184368737475,
          6.132264529058116,
          6.1723446893787575,
          6.212424849699398,
          6.25250501002004,
          6.292585170340681,
          6.332665330661323,
          6.372745490981964,
          6.4128256513026045,
          6.452905811623246,
          6.492985971943887,
          6.533066132264529,
          6.57314629258517,
          6.613226452905812,
          6.6533066132264524,
          6.693386773547094,
          6.733466933867735,
          6.773547094188377,
          6.813627254509018,
          6.853707414829659,
          6.8937875751503,
          6.933867735470941,
          6.973947895791583,
          7.014028056112224,
          7.054108216432866,
          7.0941883767535066,
          7.134268537074148,
          7.174348697394789,
          7.214428857715431,
          7.254509018036072,
          7.294589178356713,
          7.3346693386773545,
          7.374749498997995,
          7.414829659318637,
          7.454909819639278,
          7.49498997995992,
          7.535070140280561,
          7.575150300601202,
          7.615230460921843,
          7.655310621242485,
          7.695390781563126,
          7.735470941883767,
          7.775551102204409,
          7.8156312625250495,
          7.855711422845691,
          7.895791583166332,
          7.935871743486974,
          7.975951903807615,
          8.016032064128256,
          8.056112224448897,
          8.09619238476954,
          8.13627254509018,
          8.176352705410821,
          8.216432865731463,
          8.256513026052104,
          8.296593186372744,
          8.336673346693386,
          8.376753507014028,
          8.41683366733467,
          8.45691382765531,
          8.496993987975952,
          8.537074148296593,
          8.577154308617233,
          8.617234468937875,
          8.657314629258517,
          8.697394789579159,
          8.737474949899799,
          8.77755511022044,
          8.817635270541082,
          8.857715430861724,
          8.897795591182364,
          8.937875751503006,
          8.977955911823647,
          9.018036072144287,
          9.05811623246493,
          9.098196392785571,
          9.138276553106213,
          9.178356713426853,
          9.218436873747494,
          9.258517034068136,
          9.298597194388778,
          9.338677354709418,
          9.37875751503006,
          9.418837675350701,
          9.458917835671341,
          9.498997995991983,
          9.539078156312625,
          9.579158316633267,
          9.619238476953907,
          9.659318637274549,
          9.69939879759519,
          9.739478957915832,
          9.779559118236472,
          9.819639278557114,
          9.859719438877756,
          9.899799599198396,
          9.939879759519037,
          9.97995991983968,
          10.02004008016032,
          10.06012024048096,
          10.100200400801603,
          10.140280561122244,
          10.180360721442886,
          10.220440881763526,
          10.260521042084168,
          10.30060120240481,
          10.34068136272545,
          10.380761523046091,
          10.420841683366733,
          10.460921843687375,
          10.501002004008015,
          10.541082164328657,
          10.581162324649299,
          10.62124248496994,
          10.66132264529058,
          10.701402805611222,
          10.741482965931864,
          10.781563126252504,
          10.821643286573146,
          10.861723446893787,
          10.901803607214429,
          10.941883767535069,
          10.98196392785571,
          11.022044088176353,
          11.062124248496994,
          11.102204408817634,
          11.142284569138276,
          11.182364729458918,
          11.222444889779558,
          11.2625250501002,
          11.302605210420841,
          11.342685370741483,
          11.382765531062123,
          11.422845691382765,
          11.462925851703407,
          11.503006012024048,
          11.543086172344688,
          11.58316633266533,
          11.623246492985972,
          11.663326653306612,
          11.703406813627254,
          11.743486973947896,
          11.783567134268537,
          11.823647294589177,
          11.863727454909819,
          11.90380761523046,
          11.943887775551103,
          11.983967935871743,
          12.024048096192384,
          12.064128256513026,
          12.104208416833666,
          12.144288577154308,
          12.18436873747495,
          12.224448897795591,
          12.264529058116231,
          12.304609218436873,
          12.344689378757515,
          12.384769539078157,
          12.424849699398797,
          12.464929859719438,
          12.50501002004008,
          12.54509018036072,
          12.585170340681362,
          12.625250501002004,
          12.665330661322646,
          12.705410821643286,
          12.745490981963927,
          12.785571142284569,
          12.825651302605209,
          12.86573146292585,
          12.905811623246493,
          12.945891783567134,
          12.985971943887774,
          13.026052104208416,
          13.066132264529058,
          13.1062124248497,
          13.14629258517034,
          13.186372745490981,
          13.226452905811623,
          13.266533066132263,
          13.306613226452905,
          13.346693386773547,
          13.386773547094188,
          13.426853707414828,
          13.46693386773547,
          13.507014028056112,
          13.547094188376754,
          13.587174348697394,
          13.627254509018035,
          13.667334669338677,
          13.707414829659317,
          13.747494989979959,
          13.7875751503006,
          13.827655310621243,
          13.867735470941883,
          13.907815631262524,
          13.947895791583166,
          13.987975951903808,
          14.028056112224448,
          14.06813627254509,
          14.108216432865731,
          14.148296593186371,
          14.188376753507013,
          14.228456913827655,
          14.268537074148297,
          14.308617234468937,
          14.348697394789578,
          14.38877755511022,
          14.428857715430862,
          14.468937875751502,
          14.509018036072144,
          14.549098196392785,
          14.589178356713425,
          14.629258517034067,
          14.669338677354709,
          14.70941883767535,
          14.74949899799599,
          14.789579158316633,
          14.829659318637274,
          14.869739478957916,
          14.909819639278556,
          14.949899799599198,
          14.98997995991984,
          15.03006012024048,
          15.070140280561121,
          15.110220440881763,
          15.150300601202405,
          15.190380761523045,
          15.230460921843687,
          15.270541082164328,
          15.31062124248497,
          15.35070140280561,
          15.390781563126252,
          15.430861723446894,
          15.470941883767534,
          15.511022044088175,
          15.551102204408817,
          15.591182364729459,
          15.631262525050099,
          15.67134268537074,
          15.711422845691382,
          15.751503006012024,
          15.791583166332664,
          15.831663326653306,
          15.871743486973948,
          15.911823647294588,
          15.95190380761523,
          15.991983967935871,
          16.03206412825651,
          16.072144288577153,
          16.112224448897795,
          16.152304609218437,
          16.19238476953908,
          16.23246492985972,
          16.27254509018036,
          16.312625250501,
          16.352705410821642,
          16.392785571142284,
          16.432865731462925,
          16.472945891783567,
          16.51302605210421,
          16.55310621242485,
          16.59318637274549,
          16.63326653306613,
          16.673346693386772,
          16.713426853707414,
          16.753507014028056,
          16.793587174348698,
          16.83366733466934,
          16.873747494989978,
          16.91382765531062,
          16.95390781563126,
          16.993987975951903,
          17.034068136272545,
          17.074148296593187,
          17.11422845691383,
          17.154308617234467,
          17.19438877755511,
          17.23446893787575,
          17.274549098196392,
          17.314629258517034,
          17.354709418837675,
          17.394789579158317,
          17.43486973947896,
          17.474949899799597,
          17.51503006012024,
          17.55511022044088,
          17.595190380761522,
          17.635270541082164,
          17.675350701402806,
          17.715430861723448,
          17.755511022044086,
          17.795591182364728,
          17.83567134268537,
          17.87575150300601,
          17.915831663326653,
          17.955911823647295,
          17.995991983967937,
          18.036072144288575,
          18.076152304609217,
          18.11623246492986,
          18.1563126252505,
          18.196392785571142,
          18.236472945891784,
          18.276553106212425,
          18.316633266533067,
          18.356713426853705,
          18.396793587174347,
          18.43687374749499,
          18.47695390781563,
          18.517034068136272,
          18.557114228456914,
          18.597194388777556,
          18.637274549098194,
          18.677354709418836,
          18.717434869739478,
          18.75751503006012,
          18.79759519038076,
          18.837675350701403,
          18.877755511022045,
          18.917835671342683,
          18.957915831663325,
          18.997995991983966,
          19.03807615230461,
          19.07815631262525,
          19.118236472945892,
          19.158316633266534,
          19.198396793587175,
          19.238476953907814,
          19.278557114228455,
          19.318637274549097,
          19.35871743486974,
          19.39879759519038,
          19.438877755511022,
          19.478957915831664,
          19.519038076152302,
          19.559118236472944,
          19.599198396793586,
          19.639278557114228,
          19.67935871743487,
          19.71943887775551,
          19.759519038076153,
          19.79959919839679,
          19.839679358717433,
          19.879759519038075,
          19.919839679358716,
          19.95991983967936,
          20
         ],
         "y": [
          0.2,
          0.1984032021290547,
          0.19681915307531272,
          0.19524775105235315,
          0.19368889508641685,
          0.19214248500991818,
          0.1906084214550083,
          0.18908660584719028,
          0.18757694039898498,
          0.18607932810364733,
          0.18459367272893315,
          0.1831198788109155,
          0.18165785164785034,
          0.1802074972940914,
          0.1787687225540535,
          0.1773414349762239,
          0.1759255428472218,
          0.1745209551859051,
          0.17312758173752416,
          0.17174533296792222,
          0.17037412005778238,
          0.16901385489692014,
          0.16766445007862185,
          0.1663258188940281,
          0.164997875326562,
          0.16368053404640226,
          0.16237371040499982,
          0.16107732042963885,
          0.15979128081804075,
          0.15851550893301142,
          0.1572499227971312,
          0.15599444108748736,
          0.15474898313044835,
          0.1535134688964801,
          0.1522878189950035,
          0.15107195466929285,
          0.14986579779141548,
          0.14866927085721124,
          0.14748229698131232,
          0.1463047998922029,
          0.1451367039273182,
          0.1439779340281824,
          0.14282841573558588,
          0.1416880751848005,
          0.1405568391008334,
          0.13943463479371832,
          0.13832139015384512,
          0.13721703364732585,
          0.13612149431139847,
          0.1350347017498668,
          0.1339565861285772,
          0.13288707817093112,
          0.1318261091534337,
          0.13077361090127768,
          0.12972951578396275,
          0.1286937567109498,
          0.1276662671273498,
          0.12664698100964736,
          0.1256358328614581,
          0.12463275770932003,
          0.12363769109851862,
          0.12265056908894507,
          0.1216713282509878,
          0.1206999056614565,
          0.11973623889953894,
          0.11878026604279002,
          0.11783192566315281,
          0.11689115682301128,
          0.1159578990712747,
          0.1150320924394932,
          0.11411367743800437,
          0.11320259505211067,
          0.11229878673828719,
          0.11140219442042001,
          0.1105127604860742,
          0.10963042778279196,
          0.10875513961442003,
          0.10788683973746671,
          0.1070254723574877,
          0.10617098212550094,
          0.10532331413443011,
          0.10448241391557629,
          0.10364822743511821,
          0.10282070109063997,
          0.10199978170768678,
          0.10118541653634819,
          0.10037755324786841,
          0.09957613993128395,
          0.09878112509008782,
          0.09799245763892066,
          0.09721008690028804,
          0.0964339626013041,
          0.09566403487046121,
          0.09490025423442526,
          0.09414257161485677,
          0.09339093832525719,
          0.09264530606784041,
          0.0919056269304294,
          0.0911718533833774,
          0.09044393827651381,
          0.08972183483611461,
          0.08900549666189653,
          0.08829487772403583,
          0.08758993236021023,
          0.08689061527266512,
          0.08619688152530251,
          0.08550868654079388,
          0.08482598609771554,
          0.0841487363277072,
          0.0834768937126531,
          0.08281041508188565,
          0.08214925760941139,
          0.08149337881115917,
          0.08084273654225019,
          0.0801972889942899,
          0.07955699469268157,
          0.07892181249396117,
          0.07829170158315367,
          0.07766662147115036,
          0.0770465319921071,
          0.07643139330086354,
          0.07582116587038253,
          0.07521581048921044,
          0.07461528825895745,
          0.07401956059179811,
          0.07342858920799165,
          0.07284233613342249,
          0.07226076369715982,
          0.0716838345290373,
          0.0711115115572515,
          0.07054375800597988,
          0.06998053739301774,
          0.06942181352743386,
          0.06886755050724501,
          0.06831771271710908,
          0.06777226482603642,
          0.06723117178511966,
          0.06669439882528147,
          0.06616191145504054,
          0.06563367545829514,
          0.06510965689212454,
          0.06458982208460792,
          0.06407413763266073,
          0.06356257039988829,
          0.06305508751445653,
          0.06255165636697976,
          0.06205224460842529,
          0.06155682014803474,
          0.06106535115126202,
          0.060577806037727715,
          0.06009415347918981,
          0.059614362397530665,
          0.05913840196275996,
          0.058666241591033765,
          0.058197850942689124,
          0.057733199920294756,
          0.05727225866671681,
          0.056814997563200624,
          0.0563613872274672,
          0.0559113985118255,
          0.05546500250129921,
          0.05502217051176897,
          0.054582874088129056,
          0.054147085002459065,
          0.05371477525220996,
          0.05328591705840479,
          0.05286048286385364,
          0.052438445331382935,
          0.05201977734207877,
          0.05160445199354437,
          0.05119244259817142,
          0.05078372268142517,
          0.05037826598014329,
          0.04997604644084825,
          0.0495770382180732,
          0.04918121567270124,
          0.048788553370317886,
          0.04839902607957677,
          0.048012608770578294,
          0.04762927661326135,
          0.04724900497580775,
          0.046871769423059484,
          0.046497545714948595,
          0.04612630980493953,
          0.04575803783848408,
          0.045392706151488445,
          0.045030291268792745,
          0.044670769902662465,
          0.04431411895129218,
          0.04396031549732097,
          0.04360933680635995,
          0.04326116032553128,
          0.04291576368201913,
          0.042573124681631935,
          0.04223322130737635,
          0.041896031718042445,
          0.041561534246800313,
          0.04122970739980776,
          0.040900529854829205,
          0.04057398045986558,
          0.04025003823179514,
          0.03992868235502514,
          0.03960989218015437,
          0.039293647222646166,
          0.03897992716151218,
          0.038668711838006645,
          0.038359981254331016,
          0.038053715572348934,
          0.03774989511231151,
          0.03744850035159277,
          0.03714951192343518,
          0.0368529106157052,
          0.036558677369658725,
          0.03626679327871648,
          0.03597723958724915,
          0.03568999768937211,
          0.03540504912774995,
          0.03512237559241042,
          0.03484195891956792,
          0.03456378109045627,
          0.034287824230170974,
          0.03401407060652054,
          0.03374250262888718,
          0.03347310284709631,
          0.033205853950295426,
          0.03294073876584168,
          0.03267774025819836,
          0.03241684152784039,
          0.032158025810168266,
          0.03190127647443086,
          0.031646577022656816,
          0.03139391108859439,
          0.031143262436659824,
          0.030894614960894087,
          0.030647952683927927,
          0.030403259755955286,
          0.030160520453714763,
          0.029919719179479293,
          0.029680840460053922,
          0.029443868945781517,
          0.029208789409556443,
          0.028975586745846094,
          0.028744245969720302,
          0.028514752215888412,
          0.028287090737744103,
          0.028061246906417776,
          0.027837206209836575,
          0.02761495425179193,
          0.02739447675101436,
          0.02717575954025596,
          0.026958788565379938,
          0.026743549884457637,
          0.02653002966687253,
          0.026318214192431633,
          0.026108089850483848,
          0.025899643139045355,
          0.025692860663932,
          0.025487729137898686,
          0.025284235379785566,
          0.02508236631367096,
          0.024882108968031256,
          0.024683450474907342,
          0.024486378069077774,
          0.02429087908723845,
          0.02409694096718899,
          0.02390455124702547,
          0.023713697564339716,
          0.023524367655424823,
          0.02333654935448724,
          0.023150230592864966,
          0.022965399398252068,
          0.02278204389392938,
          0.02260015229800134,
          0.0224197129226389,
          0.022240714173328527,
          0.022063144548127158,
          0.02188699263692312,
          0.021712247120702948,
          0.021538896770824066,
          0.021366930448293256,
          0.021196337103050897,
          0.021027105773260946,
          0.020859225584606525,
          0.020692685749591187,
          0.020527475566845754,
          0.020363584420440648,
          0.020201001779203778,
          0.020039717196043805,
          0.01987972030727886,
          0.019721000831970606,
          0.019563548571263602,
          0.019407353407729967,
          0.019252405304719226,
          0.019098694305713468,
          0.018946210533687478,
          0.018794944190474117,
          0.018644885556134687,
          0.018496024988334414,
          0.018348352921722797,
          0.018201859867319006,
          0.0180565364119021,
          0.01791237321740624,
          0.01776936102032059,
          0.017627490631094055,
          0.017486752933544857,
          0.017347138884274704,
          0.0172086395120877,
          0.01707124591741386,
          0.01693494927173731,
          0.016799740817028924,
          0.016665611865183613,
          0.016532553797461973,
          0.016400558063936595,
          0.01626961618294256,
          0.016139719740532462,
          0.016010860389935773,
          0.015883029851022513,
          0.015756219909771156,
          0.015630422417740812,
          0.015505629291547685,
          0.01538183251234564,
          0.015259024125310886,
          0.01513719623913089,
          0.015016341025497258,
          0.01489645071860275,
          0.01477751761464222,
          0.014659534071317632,
          0.014542492507346978,
          0.014426385401977136,
          0.014311205294500568,
          0.01419694478377597,
          0.014083596527752665,
          0.013971153242998824,
          0.013859607704233468,
          0.013748952743862184,
          0.01363918125151655,
          0.013530286173597259,
          0.013422260512820855,
          0.013315097327770128,
          0.013208789732448066,
          0.013103330895835378,
          0.012998714041451571,
          0.012894932446919489,
          0.012791979443533366,
          0.012689848415830316,
          0.012588532801165234,
          0.012488026089289105,
          0.012388321821930675,
          0.012289413592381455,
          0.01219129504508405,
          0.01209395987522377,
          0.011997401828323494,
          0.011901614699841783,
          0.011806592334774196,
          0.011712328627257759,
          0.011618817520178674,
          0.011526053004783057,
          0.011434029120290862,
          0.011342739953512822,
          0.011252179638470547,
          0.011162342356019527,
          0.01107322233347526,
          0.01098481384424227,
          0.010897111207446186,
          0.01081010878756867,
          0.010723800994085287,
          0.010638182281106301,
          0.010553247147020307,
          0.010468990134140705,
          0.010385405828354989,
          0.010302488858776883,
          0.010220233897401221,
          0.01013863565876156,
          0.010057688899590557,
          0.009977388418483071,
          0.009897729055561936,
          0.009818705692146363,
          0.009740313250423073,
          0.009662546693119991,
          0.009585401023182578,
          0.009508871283452703,
          0.009432952556350153,
          0.009357639963556609,
          0.009282928665702213,
          0.009208813862054561,
          0.00913529079021026,
          0.009062354725788892,
          0.008990000982129437,
          0.008918224909989135,
          0.008847021897244726,
          0.008776387368596093,
          0.008706316785272266,
          0.008636805644739775,
          0.008567849480413331,
          0.008499443861368812,
          0.00843158439205855,
          0.008364266712028876,
          0.008297486495639944,
          0.008231239451787768,
          0.00816552132362849,
          0.00810032788830485,
          0.008035654956674828,
          0.007971498373042481,
          0.007907854014890891,
          0.00784471779261727,
          0.00778208564927018,
          0.007719953560288842,
          0.007658317533244513,
          0.007597173607583974,
          0.007536517854375011,
          0.0074763463760539745,
          0.007416655306175313,
          0.007357440809163132,
          0.007298699080064744,
          0.0072404263443061586,
          0.007182618857449537,
          0.007125272904952603,
          0.007068384801929936,
          0.007011950892916218,
          0.0069559675516313105,
          0.006900431180747263,
          0.0068453382116571565,
          0.006790685104245783,
          0.006736468346662187,
          0.006682684455093984,
          0.006629329973543515,
          0.006576401473605774,
          0.006523895554248098,
          0.0064718088415916366,
          0.006420137988694544,
          0.006368879675336932,
          0.006318030607807508,
          0.0062675875186919364,
          0.006217547166662882,
          0.006167906336271735,
          0.006118661837741991,
          0.006069810506764291,
          0.006021349204293078,
          0.005973274816344912,
          0.005925584253798358,
          0.005878274452195497,
          0.0058313423715450055,
          0.0057847849961268245,
          0.005738599334298372,
          0.005692782418302291,
          0.005647331304075791,
          0.005602243071061436,
          0.005557514822019492,
          0.0055131436828417535,
          0.005469126802366865,
          0.005425461352197123,
          0.005382144526516702,
          0.005339173541911391,
          0.005296545637189733,
          0.005254258073205587,
          0.005212308132682128,
          0.00517069312003724,
          0.005129410361210303,
          0.005088457203490381,
          0.0050478310153457325,
          0.005007529186254751,
          0.004967549126538212,
          0.0049278882671928495,
          0.004888544059726301,
          0.0048495139759933345,
          0.004810795508033408,
          0.004772386167909504,
          0.004734283487548271,
          0.004696485018581426,
          0.004658988332188439,
          0.004621791018940452,
          0.00458489068864546,
          0.004548284970194732,
          0.004511971511410436,
          0.004475947978894506,
          0.0044402120578787025,
          0.004404761452075869,
          0.004369593883532386,
          0.004334707092481785,
          0.004300098837199554,
          0.004265766893859082,
          0.004231709056388767,
          0.00419792313633026,
          0.004164406962697839,
          0.004131158381838909,
          0.004098175257295617,
          0.004065455469667566,
          0.004032996916475628,
          0.0040007975120268414,
          0.003968855187280402,
          0.003937167889714706,
          0.0039057335831954518,
          0.0038745502478448202,
          0.0038436158799116747,
          0.003812928491642805,
          0.0037824861111551943,
          0.0037522867823093307,
          0.0037223285645834915,
          0.003692609532949063,
          0.003663127777746836
         ]
        }
       ],
       "layout": {
        "template": {
         "data": {
          "bar": [
           {
            "error_x": {
             "color": "#2a3f5f"
            },
            "error_y": {
             "color": "#2a3f5f"
            },
            "marker": {
             "line": {
              "color": "white",
              "width": 0.5
             },
             "pattern": {
              "fillmode": "overlay",
              "size": 10,
              "solidity": 0.2
             }
            },
            "type": "bar"
           }
          ],
          "barpolar": [
           {
            "marker": {
             "line": {
              "color": "white",
              "width": 0.5
             },
             "pattern": {
              "fillmode": "overlay",
              "size": 10,
              "solidity": 0.2
             }
            },
            "type": "barpolar"
           }
          ],
          "carpet": [
           {
            "aaxis": {
             "endlinecolor": "#2a3f5f",
             "gridcolor": "#C8D4E3",
             "linecolor": "#C8D4E3",
             "minorgridcolor": "#C8D4E3",
             "startlinecolor": "#2a3f5f"
            },
            "baxis": {
             "endlinecolor": "#2a3f5f",
             "gridcolor": "#C8D4E3",
             "linecolor": "#C8D4E3",
             "minorgridcolor": "#C8D4E3",
             "startlinecolor": "#2a3f5f"
            },
            "type": "carpet"
           }
          ],
          "choropleth": [
           {
            "colorbar": {
             "outlinewidth": 0,
             "ticks": ""
            },
            "type": "choropleth"
           }
          ],
          "contour": [
           {
            "colorbar": {
             "outlinewidth": 0,
             "ticks": ""
            },
            "colorscale": [
             [
              0,
              "#0d0887"
             ],
             [
              0.1111111111111111,
              "#46039f"
             ],
             [
              0.2222222222222222,
              "#7201a8"
             ],
             [
              0.3333333333333333,
              "#9c179e"
             ],
             [
              0.4444444444444444,
              "#bd3786"
             ],
             [
              0.5555555555555556,
              "#d8576b"
             ],
             [
              0.6666666666666666,
              "#ed7953"
             ],
             [
              0.7777777777777778,
              "#fb9f3a"
             ],
             [
              0.8888888888888888,
              "#fdca26"
             ],
             [
              1,
              "#f0f921"
             ]
            ],
            "type": "contour"
           }
          ],
          "contourcarpet": [
           {
            "colorbar": {
             "outlinewidth": 0,
             "ticks": ""
            },
            "type": "contourcarpet"
           }
          ],
          "heatmap": [
           {
            "colorbar": {
             "outlinewidth": 0,
             "ticks": ""
            },
            "colorscale": [
             [
              0,
              "#0d0887"
             ],
             [
              0.1111111111111111,
              "#46039f"
             ],
             [
              0.2222222222222222,
              "#7201a8"
             ],
             [
              0.3333333333333333,
              "#9c179e"
             ],
             [
              0.4444444444444444,
              "#bd3786"
             ],
             [
              0.5555555555555556,
              "#d8576b"
             ],
             [
              0.6666666666666666,
              "#ed7953"
             ],
             [
              0.7777777777777778,
              "#fb9f3a"
             ],
             [
              0.8888888888888888,
              "#fdca26"
             ],
             [
              1,
              "#f0f921"
             ]
            ],
            "type": "heatmap"
           }
          ],
          "heatmapgl": [
           {
            "colorbar": {
             "outlinewidth": 0,
             "ticks": ""
            },
            "colorscale": [
             [
              0,
              "#0d0887"
             ],
             [
              0.1111111111111111,
              "#46039f"
             ],
             [
              0.2222222222222222,
              "#7201a8"
             ],
             [
              0.3333333333333333,
              "#9c179e"
             ],
             [
              0.4444444444444444,
              "#bd3786"
             ],
             [
              0.5555555555555556,
              "#d8576b"
             ],
             [
              0.6666666666666666,
              "#ed7953"
             ],
             [
              0.7777777777777778,
              "#fb9f3a"
             ],
             [
              0.8888888888888888,
              "#fdca26"
             ],
             [
              1,
              "#f0f921"
             ]
            ],
            "type": "heatmapgl"
           }
          ],
          "histogram": [
           {
            "marker": {
             "pattern": {
              "fillmode": "overlay",
              "size": 10,
              "solidity": 0.2
             }
            },
            "type": "histogram"
           }
          ],
          "histogram2d": [
           {
            "colorbar": {
             "outlinewidth": 0,
             "ticks": ""
            },
            "colorscale": [
             [
              0,
              "#0d0887"
             ],
             [
              0.1111111111111111,
              "#46039f"
             ],
             [
              0.2222222222222222,
              "#7201a8"
             ],
             [
              0.3333333333333333,
              "#9c179e"
             ],
             [
              0.4444444444444444,
              "#bd3786"
             ],
             [
              0.5555555555555556,
              "#d8576b"
             ],
             [
              0.6666666666666666,
              "#ed7953"
             ],
             [
              0.7777777777777778,
              "#fb9f3a"
             ],
             [
              0.8888888888888888,
              "#fdca26"
             ],
             [
              1,
              "#f0f921"
             ]
            ],
            "type": "histogram2d"
           }
          ],
          "histogram2dcontour": [
           {
            "colorbar": {
             "outlinewidth": 0,
             "ticks": ""
            },
            "colorscale": [
             [
              0,
              "#0d0887"
             ],
             [
              0.1111111111111111,
              "#46039f"
             ],
             [
              0.2222222222222222,
              "#7201a8"
             ],
             [
              0.3333333333333333,
              "#9c179e"
             ],
             [
              0.4444444444444444,
              "#bd3786"
             ],
             [
              0.5555555555555556,
              "#d8576b"
             ],
             [
              0.6666666666666666,
              "#ed7953"
             ],
             [
              0.7777777777777778,
              "#fb9f3a"
             ],
             [
              0.8888888888888888,
              "#fdca26"
             ],
             [
              1,
              "#f0f921"
             ]
            ],
            "type": "histogram2dcontour"
           }
          ],
          "mesh3d": [
           {
            "colorbar": {
             "outlinewidth": 0,
             "ticks": ""
            },
            "type": "mesh3d"
           }
          ],
          "parcoords": [
           {
            "line": {
             "colorbar": {
              "outlinewidth": 0,
              "ticks": ""
             }
            },
            "type": "parcoords"
           }
          ],
          "pie": [
           {
            "automargin": true,
            "type": "pie"
           }
          ],
          "scatter": [
           {
            "fillpattern": {
             "fillmode": "overlay",
             "size": 10,
             "solidity": 0.2
            },
            "type": "scatter"
           }
          ],
          "scatter3d": [
           {
            "line": {
             "colorbar": {
              "outlinewidth": 0,
              "ticks": ""
             }
            },
            "marker": {
             "colorbar": {
              "outlinewidth": 0,
              "ticks": ""
             }
            },
            "type": "scatter3d"
           }
          ],
          "scattercarpet": [
           {
            "marker": {
             "colorbar": {
              "outlinewidth": 0,
              "ticks": ""
             }
            },
            "type": "scattercarpet"
           }
          ],
          "scattergeo": [
           {
            "marker": {
             "colorbar": {
              "outlinewidth": 0,
              "ticks": ""
             }
            },
            "type": "scattergeo"
           }
          ],
          "scattergl": [
           {
            "marker": {
             "colorbar": {
              "outlinewidth": 0,
              "ticks": ""
             }
            },
            "type": "scattergl"
           }
          ],
          "scattermapbox": [
           {
            "marker": {
             "colorbar": {
              "outlinewidth": 0,
              "ticks": ""
             }
            },
            "type": "scattermapbox"
           }
          ],
          "scatterpolar": [
           {
            "marker": {
             "colorbar": {
              "outlinewidth": 0,
              "ticks": ""
             }
            },
            "type": "scatterpolar"
           }
          ],
          "scatterpolargl": [
           {
            "marker": {
             "colorbar": {
              "outlinewidth": 0,
              "ticks": ""
             }
            },
            "type": "scatterpolargl"
           }
          ],
          "scatterternary": [
           {
            "marker": {
             "colorbar": {
              "outlinewidth": 0,
              "ticks": ""
             }
            },
            "type": "scatterternary"
           }
          ],
          "surface": [
           {
            "colorbar": {
             "outlinewidth": 0,
             "ticks": ""
            },
            "colorscale": [
             [
              0,
              "#0d0887"
             ],
             [
              0.1111111111111111,
              "#46039f"
             ],
             [
              0.2222222222222222,
              "#7201a8"
             ],
             [
              0.3333333333333333,
              "#9c179e"
             ],
             [
              0.4444444444444444,
              "#bd3786"
             ],
             [
              0.5555555555555556,
              "#d8576b"
             ],
             [
              0.6666666666666666,
              "#ed7953"
             ],
             [
              0.7777777777777778,
              "#fb9f3a"
             ],
             [
              0.8888888888888888,
              "#fdca26"
             ],
             [
              1,
              "#f0f921"
             ]
            ],
            "type": "surface"
           }
          ],
          "table": [
           {
            "cells": {
             "fill": {
              "color": "#EBF0F8"
             },
             "line": {
              "color": "white"
             }
            },
            "header": {
             "fill": {
              "color": "#C8D4E3"
             },
             "line": {
              "color": "white"
             }
            },
            "type": "table"
           }
          ]
         },
         "layout": {
          "annotationdefaults": {
           "arrowcolor": "#2a3f5f",
           "arrowhead": 0,
           "arrowwidth": 1
          },
          "autotypenumbers": "strict",
          "coloraxis": {
           "colorbar": {
            "outlinewidth": 0,
            "ticks": ""
           }
          },
          "colorscale": {
           "diverging": [
            [
             0,
             "#8e0152"
            ],
            [
             0.1,
             "#c51b7d"
            ],
            [
             0.2,
             "#de77ae"
            ],
            [
             0.3,
             "#f1b6da"
            ],
            [
             0.4,
             "#fde0ef"
            ],
            [
             0.5,
             "#f7f7f7"
            ],
            [
             0.6,
             "#e6f5d0"
            ],
            [
             0.7,
             "#b8e186"
            ],
            [
             0.8,
             "#7fbc41"
            ],
            [
             0.9,
             "#4d9221"
            ],
            [
             1,
             "#276419"
            ]
           ],
           "sequential": [
            [
             0,
             "#0d0887"
            ],
            [
             0.1111111111111111,
             "#46039f"
            ],
            [
             0.2222222222222222,
             "#7201a8"
            ],
            [
             0.3333333333333333,
             "#9c179e"
            ],
            [
             0.4444444444444444,
             "#bd3786"
            ],
            [
             0.5555555555555556,
             "#d8576b"
            ],
            [
             0.6666666666666666,
             "#ed7953"
            ],
            [
             0.7777777777777778,
             "#fb9f3a"
            ],
            [
             0.8888888888888888,
             "#fdca26"
            ],
            [
             1,
             "#f0f921"
            ]
           ],
           "sequentialminus": [
            [
             0,
             "#0d0887"
            ],
            [
             0.1111111111111111,
             "#46039f"
            ],
            [
             0.2222222222222222,
             "#7201a8"
            ],
            [
             0.3333333333333333,
             "#9c179e"
            ],
            [
             0.4444444444444444,
             "#bd3786"
            ],
            [
             0.5555555555555556,
             "#d8576b"
            ],
            [
             0.6666666666666666,
             "#ed7953"
            ],
            [
             0.7777777777777778,
             "#fb9f3a"
            ],
            [
             0.8888888888888888,
             "#fdca26"
            ],
            [
             1,
             "#f0f921"
            ]
           ]
          },
          "colorway": [
           "#636efa",
           "#EF553B",
           "#00cc96",
           "#ab63fa",
           "#FFA15A",
           "#19d3f3",
           "#FF6692",
           "#B6E880",
           "#FF97FF",
           "#FECB52"
          ],
          "font": {
           "color": "#2a3f5f"
          },
          "geo": {
           "bgcolor": "white",
           "lakecolor": "white",
           "landcolor": "white",
           "showlakes": true,
           "showland": true,
           "subunitcolor": "#C8D4E3"
          },
          "hoverlabel": {
           "align": "left"
          },
          "hovermode": "closest",
          "mapbox": {
           "style": "light"
          },
          "paper_bgcolor": "white",
          "plot_bgcolor": "white",
          "polar": {
           "angularaxis": {
            "gridcolor": "#EBF0F8",
            "linecolor": "#EBF0F8",
            "ticks": ""
           },
           "bgcolor": "white",
           "radialaxis": {
            "gridcolor": "#EBF0F8",
            "linecolor": "#EBF0F8",
            "ticks": ""
           }
          },
          "scene": {
           "xaxis": {
            "backgroundcolor": "white",
            "gridcolor": "#DFE8F3",
            "gridwidth": 2,
            "linecolor": "#EBF0F8",
            "showbackground": true,
            "ticks": "",
            "zerolinecolor": "#EBF0F8"
           },
           "yaxis": {
            "backgroundcolor": "white",
            "gridcolor": "#DFE8F3",
            "gridwidth": 2,
            "linecolor": "#EBF0F8",
            "showbackground": true,
            "ticks": "",
            "zerolinecolor": "#EBF0F8"
           },
           "zaxis": {
            "backgroundcolor": "white",
            "gridcolor": "#DFE8F3",
            "gridwidth": 2,
            "linecolor": "#EBF0F8",
            "showbackground": true,
            "ticks": "",
            "zerolinecolor": "#EBF0F8"
           }
          },
          "shapedefaults": {
           "line": {
            "color": "#2a3f5f"
           }
          },
          "ternary": {
           "aaxis": {
            "gridcolor": "#DFE8F3",
            "linecolor": "#A2B1C6",
            "ticks": ""
           },
           "baxis": {
            "gridcolor": "#DFE8F3",
            "linecolor": "#A2B1C6",
            "ticks": ""
           },
           "bgcolor": "white",
           "caxis": {
            "gridcolor": "#DFE8F3",
            "linecolor": "#A2B1C6",
            "ticks": ""
           }
          },
          "title": {
           "x": 0.05
          },
          "xaxis": {
           "automargin": true,
           "gridcolor": "#EBF0F8",
           "linecolor": "#EBF0F8",
           "ticks": "",
           "title": {
            "standoff": 15
           },
           "zerolinecolor": "#EBF0F8",
           "zerolinewidth": 2
          },
          "yaxis": {
           "automargin": true,
           "gridcolor": "#EBF0F8",
           "linecolor": "#EBF0F8",
           "ticks": "",
           "title": {
            "standoff": 15
           },
           "zerolinecolor": "#EBF0F8",
           "zerolinewidth": 2
          }
         }
        },
        "title": {
         "text": "Función de Densidad de la Distribución Exponencial"
        },
        "xaxis": {
         "title": {
          "text": "Tiempo entre lluvias (horas)"
         }
        },
        "yaxis": {
         "title": {
          "text": "f(x)"
         }
        }
       }
      }
     },
     "metadata": {},
     "output_type": "display_data"
    }
   ],
   "source": [
    "import numpy as np\n",
    "import plotly.graph_objects as go\n",
    "\n",
    "# Parámetro de la distribución (tasa de ocurrencia)\n",
    "lambd = 0.2  # Ejemplo: tasa de lluvias significativas por hora\n",
    "\n",
    "# Rango de valores para x (tiempo entre eventos)\n",
    "x = np.linspace(0, 20, 500)\n",
    "\n",
    "# Función de densidad de la distribución exponencial\n",
    "f_x = lambd * np.exp(-lambd * x)\n",
    "\n",
    "# Crear el gráfico con Plotly\n",
    "fig = go.Figure()\n",
    "\n",
    "# Agregar la curva de densidad\n",
    "fig.add_trace(go.Scatter(x=x, y=f_x, mode='lines', name='Densidad Exponencial'))\n",
    "\n",
    "# Personalizar el diseño del gráfico\n",
    "fig.update_layout(\n",
    "    title='Función de Densidad de la Distribución Exponencial',\n",
    "    xaxis_title='Tiempo entre lluvias (horas)',\n",
    "    yaxis_title='f(x)',\n",
    "    template='plotly_white'\n",
    ")\n",
    "\n",
    "# Mostrar el gráfico\n",
    "fig.show()\n"
   ]
  },
  {
   "cell_type": "markdown",
   "id": "ea66de0c",
   "metadata": {},
   "source": [
    "\n",
    "##### **Relación entre la integral definida y el cálculo de probabilidades**\n",
    "La integral definida es clave para calcular probabilidades en variables continuas. Si $X$ es una variable aleatoria continua con función de densidad $f(x)$, la probabilidad de que $X$ esté en un intervalo $[a, b]$ es:\n",
    "\n",
    "$$\n",
    "P(a \\leq X \\leq b) = \\int_a^b f(x) \\, dx\n",
    "$$\n"
   ]
  },
  {
   "cell_type": "markdown",
   "id": "a129e9a4",
   "metadata": {},
   "source": [
    "\n",
    "## Ejemplo aplicado:\n",
    "- Calcular la probabilidad de que la temperatura en Caucasia esté entre 30°C y 35°C, utilizando una distribución normal ajustada a datos históricos del IDEAM.\n",
    "\n",
    "Este enfoque combina la teoría matemática con aplicaciones prácticas en el análisis de datos meteorológicos."
   ]
  },
  {
   "cell_type": "markdown",
   "id": "72b6dcab",
   "metadata": {},
   "source": [
    "Aquí tienes el desarrollo del ejemplo utilizando datos artificiales de temperatura para calcular la probabilidad de que la temperatura en Caucasia esté entre $30^\\circ C$ y $35^\\circ C$, asumiendo que los datos históricos siguen una distribución normal ajustada.\n",
    "\n",
    "---\n"
   ]
  },
  {
   "cell_type": "markdown",
   "id": "3a77d47f",
   "metadata": {},
   "source": [
    "\n",
    "### **Desarrollo:**\n",
    "\n",
    "#### 1. **Supuestos y Datos Artificiales:**\n",
    "- Se asume que las temperaturas diarias máximas en Caucasia tienen una distribución normal con:\n",
    "  - **Media ($\\mu$)**: $32^\\circ C$.\n",
    "  - **Desviación estándar ($\\sigma$)**: $3^\\circ C$.\n"
   ]
  },
  {
   "cell_type": "markdown",
   "id": "8ef3fa6c",
   "metadata": {},
   "source": [
    "\n",
    "#### 2. **Cálculo de Probabilidades:**\n",
    "La probabilidad buscada es $P(30 \\leq X \\leq 35)$, donde $X$ representa la temperatura máxima diaria.\n",
    "\n",
    "La probabilidad en una distribución normal se calcula como:\n",
    "$$\n",
    "P(a \\leq X \\leq b) = \\Phi\\left(\\frac{b - \\mu}{\\sigma}\\right) - \\Phi\\left(\\frac{a - \\mu}{\\sigma}\\right)\n",
    "$$\n",
    "donde $\\Phi$ es la función de distribución acumulativa (CDF) de la distribución normal estándar.\n",
    "\n",
    "---\n"
   ]
  },
  {
   "cell_type": "markdown",
   "id": "64fee100",
   "metadata": {},
   "source": [
    "\n",
    "### **Código Python:**\n"
   ]
  },
  {
   "cell_type": "code",
   "execution_count": 25,
   "id": "8b0be2ee",
   "metadata": {},
   "outputs": [
    {
     "name": "stdout",
     "output_type": "stream",
     "text": [
      "La probabilidad de que la temperatura esté entre 30°C y 35°C es: 0.5889\n"
     ]
    }
   ],
   "source": [
    "import numpy as np\n",
    "from scipy.stats import norm\n",
    "\n",
    "# Parámetros de la distribución normal\n",
    "mu = 32  # Media\n",
    "sigma = 3  # Desviación estándar\n",
    "\n",
    "# Límites de interés\n",
    "a = 30  # Límite inferior\n",
    "b = 35  # Límite superior\n",
    "\n",
    "# Calcular las probabilidades acumuladas\n",
    "p_a = norm.cdf(a, loc=mu, scale=sigma)  # P(X <= a)\n",
    "p_b = norm.cdf(b, loc=mu, scale=sigma)  # P(X <= b)\n",
    "\n",
    "# Probabilidad entre a y b\n",
    "probabilidad = p_b - p_a\n",
    "\n",
    "# Resultados\n",
    "print(f\"La probabilidad de que la temperatura esté entre {a}°C y {b}°C es: {probabilidad:.4f}\")\n",
    "\n"
   ]
  },
  {
   "cell_type": "markdown",
   "id": "5d235340",
   "metadata": {},
   "source": [
    "\n",
    "---\n",
    "\n",
    "### **Gráfico para Visualización:**\n"
   ]
  },
  {
   "cell_type": "code",
   "execution_count": 26,
   "id": "77df657e",
   "metadata": {},
   "outputs": [
    {
     "data": {
      "application/vnd.plotly.v1+json": {
       "config": {
        "plotlyServerURL": "https://plot.ly"
       },
       "data": [
        {
         "mode": "lines",
         "name": "Distribución Normal",
         "type": "scatter",
         "x": [
          20,
          20.04809619238477,
          20.096192384769537,
          20.14428857715431,
          20.19238476953908,
          20.240480961923847,
          20.288577154308616,
          20.336673346693388,
          20.384769539078157,
          20.432865731462925,
          20.480961923847694,
          20.529058116232466,
          20.577154308617235,
          20.625250501002004,
          20.673346693386772,
          20.721442885771545,
          20.769539078156313,
          20.817635270541082,
          20.86573146292585,
          20.91382765531062,
          20.96192384769539,
          21.01002004008016,
          21.05811623246493,
          21.106212424849698,
          21.15430861723447,
          21.20240480961924,
          21.250501002004007,
          21.298597194388776,
          21.34669338677355,
          21.394789579158317,
          21.442885771543086,
          21.490981963927855,
          21.539078156312627,
          21.587174348697395,
          21.635270541082164,
          21.683366733466933,
          21.7314629258517,
          21.779559118236474,
          21.827655310621243,
          21.87575150300601,
          21.92384769539078,
          21.971943887775552,
          22.02004008016032,
          22.06813627254509,
          22.11623246492986,
          22.16432865731463,
          22.2124248496994,
          22.260521042084168,
          22.308617234468937,
          22.35671342685371,
          22.404809619238478,
          22.452905811623246,
          22.501002004008015,
          22.549098196392784,
          22.597194388777556,
          22.645290581162325,
          22.693386773547093,
          22.741482965931866,
          22.789579158316634,
          22.837675350701403,
          22.88577154308617,
          22.93386773547094,
          22.981963927855713,
          23.03006012024048,
          23.07815631262525,
          23.12625250501002,
          23.17434869739479,
          23.22244488977956,
          23.27054108216433,
          23.318637274549097,
          23.366733466933866,
          23.414829659318638,
          23.462925851703407,
          23.511022044088175,
          23.559118236472948,
          23.607214428857716,
          23.655310621242485,
          23.703406813627254,
          23.751503006012022,
          23.799599198396795,
          23.847695390781563,
          23.895791583166332,
          23.9438877755511,
          23.991983967935873,
          24.04008016032064,
          24.08817635270541,
          24.13627254509018,
          24.184368737474948,
          24.23246492985972,
          24.28056112224449,
          24.328657314629258,
          24.37675350701403,
          24.4248496993988,
          24.472945891783567,
          24.521042084168336,
          24.569138276553105,
          24.617234468937877,
          24.665330661322646,
          24.713426853707414,
          24.761523046092186,
          24.809619238476955,
          24.857715430861724,
          24.905811623246493,
          24.95390781563126,
          25.00200400801603,
          25.050100200400802,
          25.09819639278557,
          25.14629258517034,
          25.194388777555112,
          25.24248496993988,
          25.29058116232465,
          25.338677354709418,
          25.386773547094187,
          25.43486973947896,
          25.482965931863728,
          25.531062124248496,
          25.57915831663327,
          25.627254509018037,
          25.675350701402806,
          25.723446893787575,
          25.771543086172343,
          25.819639278557112,
          25.867735470941884,
          25.915831663326653,
          25.96392785571142,
          26.012024048096194,
          26.060120240480963,
          26.10821643286573,
          26.1563126252505,
          26.20440881763527,
          26.25250501002004,
          26.30060120240481,
          26.34869739478958,
          26.39679358717435,
          26.44488977955912,
          26.492985971943888,
          26.541082164328657,
          26.589178356713425,
          26.637274549098194,
          26.685370741482966,
          26.733466933867735,
          26.781563126252504,
          26.829659318637276,
          26.877755511022045,
          26.925851703406813,
          26.973947895791582,
          27.02204408817635,
          27.070140280561123,
          27.118236472945892,
          27.16633266533066,
          27.214428857715433,
          27.2625250501002,
          27.31062124248497,
          27.35871743486974,
          27.406813627254508,
          27.45490981963928,
          27.50300601202405,
          27.551102204408817,
          27.599198396793586,
          27.647294589178358,
          27.695390781563127,
          27.743486973947896,
          27.791583166332664,
          27.839679358717433,
          27.887775551102205,
          27.935871743486974,
          27.983967935871743,
          28.032064128256515,
          28.080160320641284,
          28.128256513026052,
          28.17635270541082,
          28.22444889779559,
          28.27254509018036,
          28.32064128256513,
          28.3687374749499,
          28.41683366733467,
          28.46492985971944,
          28.51302605210421,
          28.561122244488978,
          28.609218436873746,
          28.657314629258515,
          28.705410821643287,
          28.753507014028056,
          28.801603206412825,
          28.849699398797597,
          28.897795591182366,
          28.945891783567134,
          28.993987975951903,
          29.04208416833667,
          29.09018036072144,
          29.138276553106213,
          29.18637274549098,
          29.234468937875754,
          29.282565130260522,
          29.33066132264529,
          29.37875751503006,
          29.42685370741483,
          29.474949899799597,
          29.52304609218437,
          29.571142284569138,
          29.61923847695391,
          29.66733466933868,
          29.715430861723448,
          29.763527054108216,
          29.811623246492985,
          29.859719438877754,
          29.907815631262523,
          29.955911823647295,
          30.004008016032063,
          30.052104208416836,
          30.100200400801604,
          30.148296593186373,
          30.196392785571142,
          30.24448897795591,
          30.29258517034068,
          30.34068136272545,
          30.38877755511022,
          30.436873747494992,
          30.48496993987976,
          30.53306613226453,
          30.5811623246493,
          30.629258517034067,
          30.677354709418836,
          30.725450901803605,
          30.773547094188377,
          30.821643286573146,
          30.869739478957918,
          30.917835671342687,
          30.965931863727455,
          31.014028056112224,
          31.062124248496993,
          31.11022044088176,
          31.158316633266534,
          31.206412825651302,
          31.254509018036075,
          31.302605210420843,
          31.350701402805612,
          31.39879759519038,
          31.44689378757515,
          31.494989979959918,
          31.543086172344687,
          31.59118236472946,
          31.639278557114228,
          31.687374749499,
          31.73547094188377,
          31.783567134268537,
          31.831663326653306,
          31.879759519038075,
          31.927855711422843,
          31.975951903807616,
          32.02404809619239,
          32.07214428857716,
          32.120240480961925,
          32.168336673346694,
          32.21643286573146,
          32.26452905811623,
          32.312625250501,
          32.36072144288577,
          32.40881763527054,
          32.45691382765531,
          32.50501002004008,
          32.55310621242485,
          32.60120240480962,
          32.64929859719439,
          32.69739478957916,
          32.745490981963925,
          32.7935871743487,
          32.84168336673346,
          32.88977955911824,
          32.93787575150301,
          32.985971943887776,
          33.034068136272545,
          33.08216432865731,
          33.13026052104208,
          33.17835671342685,
          33.22645290581163,
          33.27454909819639,
          33.322645290581164,
          33.37074148296593,
          33.4188376753507,
          33.46693386773547,
          33.51503006012024,
          33.56312625250501,
          33.611222444889776,
          33.65931863727455,
          33.70741482965932,
          33.75551102204409,
          33.80360721442886,
          33.85170340681363,
          33.899799599198396,
          33.947895791583164,
          33.99599198396794,
          34.0440881763527,
          34.09218436873748,
          34.140280561122246,
          34.188376753507015,
          34.236472945891784,
          34.28456913827655,
          34.33266533066132,
          34.38076152304609,
          34.428857715430865,
          34.47695390781563,
          34.5250501002004,
          34.57314629258517,
          34.62124248496994,
          34.66933867735471,
          34.71743486973948,
          34.765531062124246,
          34.813627254509015,
          34.86172344689379,
          34.90981963927856,
          34.95791583166333,
          35.0060120240481,
          35.054108216432866,
          35.102204408817634,
          35.1503006012024,
          35.19839679358717,
          35.24649298597194,
          35.294589178356716,
          35.342685370741485,
          35.390781563126254,
          35.43887775551102,
          35.48697394789579,
          35.53507014028056,
          35.58316633266533,
          35.631262525050104,
          35.679358717434866,
          35.72745490981964,
          35.77555110220441,
          35.82364729458918,
          35.87174348697395,
          35.91983967935872,
          35.967935871743485,
          36.016032064128254,
          36.06412825651303,
          36.11222444889779,
          36.16032064128257,
          36.208416833667336,
          36.256513026052104,
          36.30460921843687,
          36.35270541082164,
          36.40080160320642,
          36.44889779559118,
          36.496993987975955,
          36.54509018036072,
          36.59318637274549,
          36.64128256513026,
          36.68937875751503,
          36.7374749498998,
          36.78557114228457,
          36.83366733466934,
          36.881763527054105,
          36.92985971943888,
          36.97795591182364,
          37.02605210420842,
          37.07414829659319,
          37.122244488977955,
          37.170340681362724,
          37.21843687374749,
          37.26653306613227,
          37.31462925851703,
          37.362725450901806,
          37.410821643286575,
          37.45891783567134,
          37.50701402805611,
          37.55511022044088,
          37.60320641282565,
          37.65130260521042,
          37.699398797595194,
          37.747494989979955,
          37.79559118236473,
          37.8436873747495,
          37.89178356713427,
          37.93987975951904,
          37.987975951903806,
          38.03607214428858,
          38.08416833667334,
          38.13226452905812,
          38.18036072144288,
          38.22845691382766,
          38.276553106212425,
          38.324649298597194,
          38.37274549098196,
          38.42084168336673,
          38.46893787575151,
          38.51703406813627,
          38.565130260521045,
          38.613226452905806,
          38.66132264529058,
          38.70941883767535,
          38.75751503006012,
          38.80561122244489,
          38.85370741482966,
          38.90180360721443,
          38.949899799599194,
          38.99799599198397,
          39.04609218436874,
          39.09418837675351,
          39.142284569138276,
          39.190380761523045,
          39.23847695390782,
          39.28657314629258,
          39.33466933867736,
          39.38276553106212,
          39.430861723446895,
          39.478957915831664,
          39.52705410821643,
          39.5751503006012,
          39.62324649298597,
          39.671342685370746,
          39.71943887775551,
          39.76753507014028,
          39.815631262525045,
          39.86372745490982,
          39.91182364729459,
          39.95991983967936,
          40.00801603206413,
          40.056112224448896,
          40.10420841683367,
          40.15230460921843,
          40.20040080160321,
          40.24849699398797,
          40.296593186372746,
          40.344689378757515,
          40.392785571142284,
          40.44088176352705,
          40.48897795591182,
          40.5370741482966,
          40.58517034068136,
          40.633266533066134,
          40.6813627254509,
          40.72945891783567,
          40.77755511022044,
          40.82565130260521,
          40.873747494989985,
          40.921843687374746,
          40.96993987975952,
          41.018036072144284,
          41.06613226452906,
          41.11422845691383,
          41.1623246492986,
          41.210420841683366,
          41.258517034068134,
          41.30661322645291,
          41.35470941883767,
          41.40280561122245,
          41.45090180360721,
          41.498997995991985,
          41.547094188376754,
          41.59519038076152,
          41.64328657314629,
          41.69138276553106,
          41.739478957915836,
          41.7875751503006,
          41.83567134268537,
          41.88376753507014,
          41.93186372745491,
          41.97995991983968,
          42.02805611222445,
          42.07615230460922,
          42.124248496993985,
          42.17234468937876,
          42.22044088176352,
          42.2685370741483,
          42.31663326653307,
          42.364729458917836,
          42.412825651302605,
          42.46092184368737,
          42.50901803607215,
          42.55711422845691,
          42.605210420841686,
          42.65330661322645,
          42.701402805611224,
          42.74949899799599,
          42.79759519038076,
          42.84569138276553,
          42.8937875751503,
          42.941883767535074,
          42.989979959919836,
          43.03807615230461,
          43.08617234468937,
          43.13426853707415,
          43.18236472945892,
          43.23046092184369,
          43.278557114228455,
          43.326653306613224,
          43.374749498998,
          43.42284569138276,
          43.47094188376754,
          43.519038076152306,
          43.567134268537075,
          43.61523046092184,
          43.66332665330661,
          43.71142284569139,
          43.75951903807615,
          43.807615230460925,
          43.85571142284569,
          43.90380761523046,
          43.95190380761523,
          44
         ],
         "y": [
          0.00004461007525496179,
          0.0000475584499136823,
          0.000050688658885690575,
          0.00005401100833100401,
          0.00005753632833890894,
          0.0000612759957721715,
          0.00006524195788001685,
          0.00006944675669247219,
          0.00007390355420803034,
          0.00007862615838590243,
          0.00008362904995334979,
          0.0000889274100377606,
          0.0000945371486322149,
          0.00010047493390230248,
          0.00010675822234087703,
          0.0001134052897762938,
          0.00012043526323843318,
          0.00012786815368550354,
          0.00013572488959318846,
          0.00014402735140622416,
          0.00015279840685088447,
          0.0001620619471051622,
          0.00017184292382166528,
          0.0001821673869963319,
          0.00019306252367411856,
          0.00020455669748069546,
          0.00021667948896702738,
          0.00022946173675138975,
          0.00024293557944100568,
          0.00025713449831295926,
          0.0002720933607314628,
          0.00028784846427580346,
          0.00030443758155052156,
          0.00032190000564640513,
          0.0003402765962179116,
          0.000359609826139435,
          0.0003799438286996729,
          0.00040132444528997226,
          0.00042379927353912195,
          0.00044741771584356425,
          0.0004722310282383427,
          0.0004982923695504453,
          0.000525656850772388,
          0.0005543815845900719,
          0.0005845257349949429,
          0.0006161505669065344,
          0.0006493194957273694,
          0.0006840981367481166,
          0.0007205543543166481,
          0.0007587583106804867,
          0.0007987825144078377,
          0.0008407018682881519,
          0.0008845937166088027,
          0.0009305378917002036,
          0.0009786167596373349,
          0.0010289152649813717,
          0.0010815209744408237,
          0.0011365241193272899,
          0.0011940176366767722,
          0.0012540972089033753,
          0.0013168613018480094,
          0.0013824112010808332,
          0.0014508510463121938,
          0.001522287863763052,
          0.0015968315963422197,
          0.001674595131474121,
          0.0017556943264174967,
          0.001840248030912208,
          0.00192837810698833,
          0.002020209445768756,
          0.0021158699810940765,
          0.0022154906997960975,
          0.0023192056484440944,
          0.0024271519363863376,
          0.002539469734907482,
          0.0026563022723214633,
          0.002777795824818538,
          0.0029040997028842736,
          0.0030353662331083654,
          0.003171750735201096,
          0.003313411494035702,
          0.0034605097265361187,
          0.0036132095432304615,
          0.003771677904292845,
          0.003936084569897945,
          0.004106602044715851,
          0.004283405516377365,
          0.004466672787744167,
          0.004656584202821998,
          0.00485332256615986,
          0.005057073055583653,
          0.005268023128118061,
          0.005486362418957007,
          0.005712282633350208,
          0.005945977431280025,
          0.006187642304811711,
          0.006437474448008127,
          0.0066956726193093926,
          0.006962436996287939,
          0.007237969022699345,
          0.007522471247760444,
          0.007816147157598168,
          0.008119200998823744,
          0.008431837594200528,
          0.00875426215038628,
          0.009086680057744875,
          0.00942929668223655,
          0.009782317149411036,
          0.010145946120542605,
          0.01052038756096268,
          0.010905844500661871,
          0.011302518787249654,
          0.011710610831377815,
          0.012130319344751068,
          0.012561841070866518,
          0.013005370508642254,
          0.013461099629113524,
          0.013929217585394569,
          0.01440991041612374,
          0.014903360742628225,
          0.015409747460065222,
          0.01592924542281599,
          0.016462025124429562,
          0.017008252372432055,
          0.01756808795833933,
          0.018141687323228663,
          0.01872920021924685,
          0.019330770367451577,
          0.019946535112401752,
          0.02057662507393328,
          0.021221163796574963,
          0.02188026739707848,
          0.02255404421055521,
          0.023242594435729787,
          0.02394600977983831,
          0.024664373103717066,
          0.025397758067641732,
          0.026146228778494984,
          0.026909839438854027,
          0.0276886339986043,
          0.02848264580969848,
          0.02929189728469345,
          0.030116399559707446,
          0.03095615216245175,
          0.03181114268600071,
          0.03268134646897033,
          0.033566726282784974,
          0.034467232026716484,
          0.03538280043138445,
          0.03631335477141118,
          0.03725880458792439,
          0.03821904542160364,
          0.03919395855696492,
          0.04018341077857437,
          0.04118725413987984,
          0.04220532574534321,
          0.04323744754654844,
          0.044283426152954136,
          0.045343052657946255,
          0.04641610248083789,
          0.04750233522544731,
          0.048601494555872864,
          0.04971330809006375,
          0.05083748731177052,
          0.051973727501437174,
          0.05312170768657548,
          0.05428109061214088,
          0.05545152273140124,
          0.056632634217766285,
          0.057824038998017295,
          0.05902533480734496,
          0.060236103266575754,
          0.061455909981932254,
          0.06268430466764054,
          0.06392082129166181,
          0.06516497824479071,
          0.06641627853332192,
          0.06767420999545253,
          0.06893824554154279,
          0.07020784341832116,
          0.07148244749707487,
          0.07276148758582608,
          0.07404437976544895,
          0.07533052674964047,
          0.07661931826861061,
          0.07791013147631344,
          0.07920233138099605,
          0.08049527129879284,
          0.08178829333004956,
          0.08308072885801275,
          0.08437189906947545,
          0.0856611154969214,
          0.08694768058166667,
          0.08823088825744803,
          0.08951002455386613,
          0.09078436821904218,
          0.09205319136080607,
          0.09331576010568836,
          0.09457133527494638,
          0.09581917307681269,
          0.0970585258141149,
          0.09828864260637347,
          0.09950877012545013,
          0.10071815334377876,
          0.10191603629417824,
          0.10310166284021244,
          0.10427427745603007,
          0.10543312601458839,
          0.10657745658313483,
          0.1077065202247978,
          0.10881957180510893,
          0.1099158708022631,
          0.11099468211989781,
          0.11205527690115942,
          0.11309693334280775,
          0.11411893750809786,
          0.11512058413716798,
          0.1161011774536565,
          0.1170600319662621,
          0.11799647326396469,
          0.11890983880361931,
          0.11979947868864198,
          0.12066475643751078,
          0.12150504974081379,
          0.12231975120558686,
          0.1231082690856971,
          0.12387002799704627,
          0.12460446961638431,
          0.12531105336254791,
          0.1259892570589609,
          0.1266385775762616,
          0.12725853145395036,
          0.1278486554999832,
          0.12840850736727075,
          0.12893766610607899,
          0.12943573269136535,
          0.12990233052412722,
          0.13033710590587974,
          0.13073972848542706,
          0.13110989167713694,
          0.13144731304997712,
          0.1317517346866231,
          0.13202292351199701,
          0.1322606715906534,
          0.13246479639247896,
          0.1326351410262324,
          0.13277157444050522,
          0.13287399159174376,
          0.13294231357903016,
          0.13297648774538104,
          0.13297648774538104,
          0.13294231357903016,
          0.13287399159174376,
          0.13277157444050522,
          0.1326351410262324,
          0.13246479639247896,
          0.1322606715906534,
          0.13202292351199704,
          0.1317517346866231,
          0.13144731304997712,
          0.13110989167713694,
          0.13073972848542706,
          0.13033710590587974,
          0.12990233052412722,
          0.12943573269136535,
          0.12893766610607899,
          0.12840850736727072,
          0.12784865549998323,
          0.12725853145395036,
          0.1266385775762616,
          0.1259892570589609,
          0.12531105336254791,
          0.12460446961638431,
          0.12387002799704627,
          0.12310826908569715,
          0.1223197512055868,
          0.12150504974081393,
          0.12066475643751078,
          0.11979947868864198,
          0.11890983880361931,
          0.11799647326396469,
          0.1170600319662621,
          0.1161011774536565,
          0.11512058413716807,
          0.11411893750809776,
          0.11309693334280775,
          0.11205527690115942,
          0.11099468211989781,
          0.1099158708022631,
          0.10881957180510893,
          0.1077065202247978,
          0.10657745658313474,
          0.10543312601458847,
          0.10427427745603007,
          0.10310166284021244,
          0.10191603629417824,
          0.10071815334377876,
          0.09950877012545013,
          0.09828864260637347,
          0.0970585258141149,
          0.09581917307681259,
          0.09457133527494649,
          0.09331576010568836,
          0.09205319136080607,
          0.09078436821904218,
          0.08951002455386613,
          0.08823088825744803,
          0.08694768058166667,
          0.0856611154969215,
          0.08437189906947538,
          0.08308072885801275,
          0.08178829333004956,
          0.08049527129879284,
          0.07920233138099605,
          0.07791013147631344,
          0.07661931826861061,
          0.0753305267496406,
          0.07404437976544904,
          0.072761487585826,
          0.07148244749707487,
          0.07020784341832116,
          0.06893824554154279,
          0.06767420999545253,
          0.06641627853332192,
          0.06516497824479071,
          0.06392082129166171,
          0.06268430466764062,
          0.061455909981932254,
          0.060236103266575754,
          0.05902533480734496,
          0.057824038998017295,
          0.056632634217766285,
          0.05545152273140124,
          0.05428109061214095,
          0.053121707686575405,
          0.05197372750143727,
          0.05083748731177052,
          0.04971330809006375,
          0.048601494555872864,
          0.04750233522544731,
          0.04641610248083789,
          0.045343052657946165,
          0.0442834261529542,
          0.04323744754654837,
          0.042205325745343296,
          0.04118725413987984,
          0.04018341077857437,
          0.03919395855696492,
          0.03821904542160364,
          0.03725880458792439,
          0.03631335477141111,
          0.035382800431384524,
          0.03446723202671641,
          0.0335667262827851,
          0.03268134646897033,
          0.03181114268600071,
          0.03095615216245175,
          0.030116399559707446,
          0.029291897284693506,
          0.028482645809698424,
          0.027688633998604356,
          0.026909839438854027,
          0.026146228778494984,
          0.025397758067641732,
          0.024664373103717066,
          0.02394600977983831,
          0.023242594435729787,
          0.022554044210555273,
          0.02188026739707842,
          0.021221163796575016,
          0.02057662507393328,
          0.019946535112401752,
          0.019330770367451577,
          0.01872920021924685,
          0.018141687323228663,
          0.01756808795833929,
          0.0170082523724321,
          0.016462025124429517,
          0.01592924542281607,
          0.015409747460065222,
          0.014903360742628225,
          0.01440991041612374,
          0.013929217585394569,
          0.013461099629113524,
          0.01300537050864223,
          0.012561841070866555,
          0.012130319344751032,
          0.011710610831377873,
          0.011302518787249654,
          0.010905844500661871,
          0.01052038756096268,
          0.010145946120542605,
          0.009782317149411067,
          0.009429296682236523,
          0.009086680057744894,
          0.00875426215038628,
          0.008431837594200528,
          0.008119200998823744,
          0.007816147157598168,
          0.007522471247760444,
          0.0072379690226993055,
          0.006962436996287964,
          0.006695672619309372,
          0.00643747444800815,
          0.006187642304811711,
          0.005945977431280025,
          0.005712282633350208,
          0.005486362418957007,
          0.005268023128118061,
          0.005057073055583637,
          0.00485332256615987,
          0.004656584202821987,
          0.0044666727877441985,
          0.004283405516377365,
          0.004106602044715851,
          0.003936084569897945,
          0.003771677904292845,
          0.003613209543230474,
          0.003460509726536106,
          0.0033134114940357143,
          0.003171750735201085,
          0.003035366233108383,
          0.0029040997028842736,
          0.002777795824818538,
          0.0026563022723214633,
          0.002539469734907482,
          0.002427151936386344,
          0.0023192056484440888,
          0.0022154906997961053,
          0.0021158699810940765,
          0.002020209445768756,
          0.00192837810698833,
          0.001840248030912208,
          0.0017556943264174967,
          0.0016745951314741153,
          0.0015968315963422266,
          0.001522287863763045,
          0.0014508510463121977,
          0.0013824112010808332,
          0.0013168613018480094,
          0.0012540972089033753,
          0.0011940176366767722,
          0.0011365241193272899,
          0.0010815209744408207,
          0.0010289152649813765,
          0.0009786167596373314,
          0.0009305378917002103,
          0.0008845937166088027,
          0.0008407018682881519,
          0.0007987825144078377,
          0.0007587583106804867,
          0.0007205543543166511,
          0.0006840981367481135,
          0.0006493194957273711,
          0.0006161505669065327,
          0.0005845257349949429,
          0.0005543815845900719,
          0.000525656850772388,
          0.0004982923695504453,
          0.00047223102823834486,
          0.0004474177158435662,
          0.00042379927353912005,
          0.00040132444528997443,
          0.0003799438286996729,
          0.000359609826139435,
          0.0003402765962179116,
          0.00032190000564640513,
          0.00030443758155052156,
          0.00028784846427580194,
          0.0002720933607314635,
          0.00025713449831295834,
          0.0002429355794410067,
          0.00022946173675138975,
          0.00021667948896702738,
          0.00020455669748069546,
          0.00019306252367411856,
          0.0001821673869963327,
          0.0001718429238216645,
          0.00016206194710516306,
          0.0001527984068508838,
          0.00014402735140622532,
          0.00013572488959318846,
          0.00012786815368550354,
          0.00012043526323843318,
          0.0001134052897762938,
          0.00010675822234087741,
          0.00010047493390230213,
          0.00009453714863221541,
          0.00008892741003776013,
          0.00008362904995334979,
          0.00007862615838590243,
          0.00007390355420803034,
          0.00006944675669247219,
          0.0000652419578800165,
          0.00006127599577217178,
          0.00005753632833890868,
          0.00005401100833100421,
          0.000050688658885690575,
          0.0000475584499136823,
          0.00004461007525496179
         ]
        },
        {
         "fill": "toself",
         "fillcolor": "rgba(0, 100, 200, 0.4)",
         "line": {
          "width": 0.5
         },
         "mode": "lines",
         "name": "Área entre 30°C y 35°C",
         "type": "scatter",
         "x": [
          30,
          30,
          30.01002004008016,
          30.02004008016032,
          30.03006012024048,
          30.04008016032064,
          30.050100200400802,
          30.060120240480963,
          30.070140280561123,
          30.080160320641284,
          30.090180360721444,
          30.100200400801604,
          30.110220440881765,
          30.120240480961925,
          30.130260521042086,
          30.140280561122246,
          30.150300601202403,
          30.160320641282564,
          30.170340681362724,
          30.180360721442884,
          30.190380761523045,
          30.200400801603205,
          30.210420841683366,
          30.220440881763526,
          30.230460921843687,
          30.240480961923847,
          30.250501002004007,
          30.260521042084168,
          30.27054108216433,
          30.28056112224449,
          30.29058116232465,
          30.30060120240481,
          30.31062124248497,
          30.32064128256513,
          30.33066132264529,
          30.34068136272545,
          30.350701402805612,
          30.360721442885772,
          30.370741482965933,
          30.380761523046093,
          30.390781563126254,
          30.400801603206414,
          30.410821643286575,
          30.420841683366735,
          30.430861723446895,
          30.440881763527052,
          30.450901803607213,
          30.460921843687373,
          30.470941883767534,
          30.480961923847694,
          30.490981963927855,
          30.501002004008015,
          30.511022044088175,
          30.521042084168336,
          30.531062124248496,
          30.541082164328657,
          30.551102204408817,
          30.561122244488978,
          30.571142284569138,
          30.5811623246493,
          30.59118236472946,
          30.60120240480962,
          30.61122244488978,
          30.62124248496994,
          30.6312625250501,
          30.64128256513026,
          30.65130260521042,
          30.661322645290582,
          30.671342685370742,
          30.681362725450903,
          30.691382765531063,
          30.701402805611224,
          30.711422845691384,
          30.721442885771545,
          30.7314629258517,
          30.741482965931862,
          30.751503006012022,
          30.761523046092183,
          30.771543086172343,
          30.781563126252504,
          30.791583166332664,
          30.801603206412825,
          30.811623246492985,
          30.821643286573146,
          30.831663326653306,
          30.841683366733466,
          30.851703406813627,
          30.861723446893787,
          30.871743486973948,
          30.881763527054108,
          30.89178356713427,
          30.90180360721443,
          30.91182364729459,
          30.92184368737475,
          30.93186372745491,
          30.94188376753507,
          30.95190380761523,
          30.96192384769539,
          30.971943887775552,
          30.981963927855713,
          30.991983967935873,
          31.002004008016034,
          31.012024048096194,
          31.02204408817635,
          31.032064128256515,
          31.04208416833667,
          31.052104208416832,
          31.062124248496993,
          31.072144288577153,
          31.082164328657313,
          31.092184368737474,
          31.102204408817634,
          31.112224448897795,
          31.122244488977955,
          31.132264529058116,
          31.142284569138276,
          31.152304609218437,
          31.162324649298597,
          31.172344689378757,
          31.182364729458918,
          31.19238476953908,
          31.20240480961924,
          31.2124248496994,
          31.22244488977956,
          31.23246492985972,
          31.24248496993988,
          31.25250501002004,
          31.2625250501002,
          31.272545090180362,
          31.282565130260522,
          31.292585170340683,
          31.302605210420843,
          31.312625250501,
          31.322645290581164,
          31.33266533066132,
          31.34268537074148,
          31.352705410821642,
          31.362725450901802,
          31.372745490981963,
          31.382765531062123,
          31.392785571142284,
          31.402805611222444,
          31.412825651302605,
          31.422845691382765,
          31.432865731462925,
          31.442885771543086,
          31.452905811623246,
          31.462925851703407,
          31.472945891783567,
          31.482965931863728,
          31.492985971943888,
          31.50300601202405,
          31.51302605210421,
          31.52304609218437,
          31.53306613226453,
          31.54308617234469,
          31.55310621242485,
          31.56312625250501,
          31.57314629258517,
          31.583166332665332,
          31.593186372745492,
          31.60320641282565,
          31.613226452905813,
          31.62324649298597,
          31.63326653306613,
          31.64328657314629,
          31.65330661322645,
          31.663326653306612,
          31.673346693386772,
          31.683366733466933,
          31.693386773547093,
          31.703406813627254,
          31.713426853707414,
          31.723446893787575,
          31.733466933867735,
          31.743486973947896,
          31.753507014028056,
          31.763527054108216,
          31.773547094188377,
          31.783567134268537,
          31.793587174348698,
          31.803607214428858,
          31.81362725450902,
          31.82364729458918,
          31.83366733466934,
          31.8436873747495,
          31.85370741482966,
          31.86372745490982,
          31.87374749498998,
          31.88376753507014,
          31.893787575150302,
          31.903807615230463,
          31.91382765531062,
          31.92384769539078,
          31.93386773547094,
          31.9438877755511,
          31.95390781563126,
          31.96392785571142,
          31.973947895791582,
          31.983967935871743,
          31.993987975951903,
          32.00400801603207,
          32.014028056112224,
          32.02404809619239,
          32.034068136272545,
          32.0440881763527,
          32.054108216432866,
          32.06412825651303,
          32.07414829659319,
          32.08416833667334,
          32.09418837675351,
          32.104208416833664,
          32.11422845691383,
          32.124248496993985,
          32.13426853707415,
          32.144288577154306,
          32.15430861723447,
          32.16432865731463,
          32.17434869739479,
          32.18436873747495,
          32.19438877755511,
          32.20440881763527,
          32.21442885771543,
          32.22444889779559,
          32.234468937875754,
          32.24448897795591,
          32.254509018036075,
          32.26452905811623,
          32.274549098196395,
          32.28456913827655,
          32.294589178356716,
          32.30460921843687,
          32.31462925851704,
          32.324649298597194,
          32.33466933867736,
          32.344689378757515,
          32.35470941883767,
          32.364729458917836,
          32.37474949899799,
          32.38476953907816,
          32.394789579158314,
          32.40480961923848,
          32.414829659318634,
          32.4248496993988,
          32.434869739478955,
          32.44488977955912,
          32.454909819639276,
          32.46492985971944,
          32.4749498997996,
          32.48496993987976,
          32.49498997995992,
          32.50501002004008,
          32.51503006012024,
          32.5250501002004,
          32.53507014028056,
          32.545090180360724,
          32.55511022044088,
          32.565130260521045,
          32.5751503006012,
          32.585170340681366,
          32.59519038076152,
          32.605210420841686,
          32.61523046092184,
          32.625250501002,
          32.635270541082164,
          32.64529058116233,
          32.655310621242485,
          32.66533066132264,
          32.675350701402806,
          32.68537074148296,
          32.69539078156313,
          32.705410821643284,
          32.71543086172345,
          32.725450901803605,
          32.73547094188377,
          32.745490981963925,
          32.75551102204409,
          32.765531062124246,
          32.77555110220441,
          32.78557114228457,
          32.79559118236473,
          32.80561122244489,
          32.81563126252505,
          32.82565130260521,
          32.83567134268537,
          32.84569138276553,
          32.855711422845694,
          32.86573146292585,
          32.875751503006015,
          32.88577154308617,
          32.895791583166336,
          32.90581162324649,
          32.91583166332666,
          32.92585170340681,
          32.93587174348697,
          32.945891783567134,
          32.95591182364729,
          32.965931863727455,
          32.97595190380761,
          32.985971943887776,
          32.99599198396793,
          33.0060120240481,
          33.016032064128254,
          33.02605210420842,
          33.036072144288575,
          33.04609218436874,
          33.056112224448896,
          33.06613226452906,
          33.07615230460922,
          33.08617234468938,
          33.09619238476954,
          33.1062124248497,
          33.11623246492986,
          33.12625250501002,
          33.13627254509018,
          33.14629258517034,
          33.1563126252505,
          33.166332665330664,
          33.17635270541082,
          33.186372745490985,
          33.19639278557114,
          33.2064128256513,
          33.21643286573146,
          33.22645290581163,
          33.236472945891784,
          33.24649298597194,
          33.256513026052104,
          33.26653306613226,
          33.276553106212425,
          33.28657314629258,
          33.296593186372746,
          33.3066132264529,
          33.31663326653307,
          33.326653306613224,
          33.33667334669339,
          33.346693386773545,
          33.35671342685371,
          33.366733466933866,
          33.37675350701403,
          33.38677354709419,
          33.39679358717435,
          33.40681362725451,
          33.41683366733467,
          33.42685370741483,
          33.43687374749499,
          33.44689378757515,
          33.45691382765531,
          33.46693386773547,
          33.476953907815634,
          33.48697394789579,
          33.496993987975955,
          33.50701402805611,
          33.51703406813627,
          33.52705410821643,
          33.53707414829659,
          33.547094188376754,
          33.55711422845691,
          33.567134268537075,
          33.57715430861723,
          33.587174348697395,
          33.59719438877755,
          33.607214428857716,
          33.61723446893787,
          33.62725450901804,
          33.637274549098194,
          33.64729458917836,
          33.657314629258515,
          33.66733466933868,
          33.677354709418836,
          33.687374749499,
          33.69739478957916,
          33.70741482965932,
          33.71743486973948,
          33.72745490981964,
          33.7374749498998,
          33.74749498997996,
          33.75751503006012,
          33.76753507014028,
          33.77755511022044,
          33.787575150300604,
          33.79759519038076,
          33.807615230460925,
          33.81763527054108,
          33.82765531062124,
          33.8376753507014,
          33.84769539078156,
          33.857715430861724,
          33.86773547094188,
          33.877755511022045,
          33.8877755511022,
          33.897795591182366,
          33.90781563126252,
          33.91783567134269,
          33.92785571142284,
          33.93787575150301,
          33.947895791583164,
          33.95791583166333,
          33.967935871743485,
          33.97795591182365,
          33.987975951903806,
          33.99799599198397,
          34.00801603206413,
          34.01803607214429,
          34.02805611222445,
          34.03807615230461,
          34.04809619238477,
          34.05811623246493,
          34.06813627254509,
          34.078156312625254,
          34.08817635270541,
          34.09819639278557,
          34.10821643286573,
          34.118236472945895,
          34.12825651302605,
          34.13827655310621,
          34.14829659318637,
          34.15831663326653,
          34.168336673346694,
          34.17835671342685,
          34.188376753507015,
          34.19839679358717,
          34.208416833667336,
          34.21843687374749,
          34.22845691382766,
          34.23847695390781,
          34.24849699398798,
          34.258517034068134,
          34.2685370741483,
          34.278557114228455,
          34.28857715430862,
          34.298597194388776,
          34.30861723446894,
          34.3186372745491,
          34.32865731462926,
          34.33867735470942,
          34.34869739478958,
          34.35871743486974,
          34.368737474949896,
          34.37875751503006,
          34.388777555110224,
          34.39879759519038,
          34.40881763527054,
          34.4188376753507,
          34.428857715430865,
          34.43887775551102,
          34.44889779559118,
          34.45891783567134,
          34.4689378757515,
          34.478957915831664,
          34.48897795591182,
          34.498997995991985,
          34.50901803607214,
          34.519038076152306,
          34.52905811623246,
          34.53907815631263,
          34.549098196392784,
          34.55911823647295,
          34.569138276553105,
          34.57915831663327,
          34.589178356713425,
          34.59919839679359,
          34.609218436873746,
          34.61923847695391,
          34.62925851703407,
          34.63927855711423,
          34.64929859719439,
          34.65931863727455,
          34.66933867735471,
          34.679358717434866,
          34.68937875751503,
          34.699398797595194,
          34.70941883767535,
          34.71943887775551,
          34.72945891783567,
          34.73947895791583,
          34.74949899799599,
          34.75951903807615,
          34.76953907815631,
          34.77955911823647,
          34.789579158316634,
          34.79959919839679,
          34.809619238476955,
          34.81963927855711,
          34.829659318637276,
          34.83967935871743,
          34.8496993987976,
          34.859719438877754,
          34.86973947895792,
          34.879759519038075,
          34.88977955911824,
          34.899799599198396,
          34.90981963927856,
          34.91983967935872,
          34.92985971943888,
          34.93987975951904,
          34.949899799599194,
          34.95991983967936,
          34.96993987975952,
          34.97995991983968,
          34.989979959919836,
          35,
          35
         ],
         "y": [
          0,
          0.10648266850745075,
          0.10671943976934135,
          0.10695554433833453,
          0.10719097546583212,
          0.10742572641090616,
          0.1076597904406168,
          0.10789316083033046,
          0.10812583086403847,
          0.10835779383467574,
          0.10858904304443961,
          0.10881957180510893,
          0.10904937343836331,
          0.10927844127610241,
          0.10950676866076538,
          0.10973434894565047,
          0.10996117549523443,
          0.1101872416854925,
          0.11041254090421763,
          0.11063706655134038,
          0.11086081203924854,
          0.11108377079310665,
          0.11130593625117556,
          0.11152730186513184,
          0.11174786110038716,
          0.11196760743640742,
          0.11218653436703178,
          0.11240463540079158,
          0.11262190406122909,
          0.11283833388721574,
          0.11305391843327058,
          0.1132686512698781,
          0.11348252598380594,
          0.1136955361784223,
          0.11390767547401293,
          0.11411893750809786,
          0.1143293159357477,
          0.11453880442989968,
          0.11474739668167307,
          0.11495508640068423,
          0.11516186731536139,
          0.11536773317325875,
          0.11557267774137003,
          0.11577669480644176,
          0.11597977817528576,
          0.11618192167509107,
          0.11638311915373582,
          0.11658336448009742,
          0.11678265154436317,
          0.11698097425833964,
          0.11717832655576167,
          0.11737470239260035,
          0.11757009574737053,
          0.11776450062143755,
          0.11795791103932314,
          0.11815032104901062,
          0.11834172472224914,
          0.11853211615485736,
          0.11872148946702589,
          0.11890983880361931,
          0.11909715833447691,
          0.11928344225471273,
          0.11946868478501464,
          0.11965288017194235,
          0.11983602268822463,
          0.12001810663305529,
          0.12019912633238837,
          0.1203790761392321,
          0.12055795043394195,
          0.12073574362451246,
          0.12091245014686813,
          0.12108806446515291,
          0.12126258107201882,
          0.12143599448891328,
          0.12160829926636513,
          0.12177948998426989,
          0.121949561252173,
          0.12211850770955261,
          0.12228632402610055,
          0.12245300490200235,
          0.12261854506821572,
          0.12278293928674773,
          0.12294618235093081,
          0.1231082690856971,
          0.12326919434785157,
          0.12342895302634375,
          0.12358754004253797,
          0.123744950350482,
          0.12390117893717452,
          0.12405622082283081,
          0.12421007106114716,
          0.1243627247395634,
          0.12451417697952437,
          0.1246644229367393,
          0.12481345780143993,
          0.124961276798637,
          0.12510787518837488,
          0.12525324826598483,
          0.12539739136233627,
          0.12554029984408677,
          0.12568196911392995,
          0.12582239461084183,
          0.12596157181032547,
          0.1260994962246537,
          0.12623616340311036,
          0.1263715689322291,
          0.1265057084360314,
          0.1266385775762616,
          0.126770172052621,
          0.1269004876029995,
          0.12702952000370565,
          0.12715726506969474,
          0.12728371865479488,
          0.12740887665193126,
          0.12753273499334827,
          0.12765528965082992,
          0.127776536635918,
          0.12789647200012838,
          0.12801509183516527,
          0.12813239227313342,
          0.12824836948674823,
          0.1283630196895438,
          0.1284763391360791,
          0.12858832412214147,
          0.1286989709849489,
          0.1288082761033491,
          0.12891623589801746,
          0.12902284683165208,
          0.1291281054091669,
          0.12923200817788275,
          0.12933455172771607,
          0.12943573269136535,
          0.12953554774449533,
          0.1296339936059193,
          0.12973106703777834,
          0.12982676484571937,
          0.12992108387906987,
          0.13001402103101098,
          0.1301055732387479,
          0.13019573748367827,
          0.13028451079155784,
          0.13037189023266416,
          0.13045787292195757,
          0.13054245601923997,
          0.1306256367293113,
          0.13070741230212332,
          0.1307877800329312,
          0.13086673726244263,
          0.13094428137696443,
          0.1310204098085468,
          0.13109512003512494,
          0.13116840958065848,
          0.13124027601526797,
          0.1313107169553695,
          0.13137973006380607,
          0.13144731304997717,
          0.1315134636699652,
          0.13157817972665986,
          0.13164145906987967,
          0.13170329959649105,
          0.13176369925052475,
          0.13182265602328988,
          0.13188016795348528,
          0.13193623312730798,
          0.1319908496785597,
          0.13204401578875016,
          0.13209572968719807,
          0.13214598965112936,
          0.1321947940057729,
          0.13224214112445343,
          0.132288029428682,
          0.1323324573882437,
          0.13237542352128254,
          0.132416926394384,
          0.1324569646226547,
          0.13249553686979926,
          0.13253264184819494,
          0.13256827831896292,
          0.13260244509203753,
          0.1326351410262324,
          0.13266636502930382,
          0.13269611605801176,
          0.132724393118178,
          0.13275119526474125,
          0.13277652160181,
          0.13280037128271238,
          0.13282274351004328,
          0.13284363753570885,
          0.13286305266096818,
          0.1328809882364722,
          0.13289744366229997,
          0.13291241838799198,
          0.132925911912581,
          0.1329379237846199,
          0.13294845360220686,
          0.13295750101300777,
          0.13296506571427597,
          0.13297114745286892,
          0.13297574602526255,
          0.13297886127756245,
          0.1329804931055126,
          0.132980641454501,
          0.13297930631956292,
          0.13297648774538104,
          0.13297218582628292,
          0.13296640070623594,
          0.132959132578839,
          0.132950381687312,
          0.13294014832448203,
          0.13292843283276726,
          0.13291523560415758,
          0.13290055708019305,
          0.132884397751939,
          0.13286675815995885,
          0.13284763889428386,
          0.13282704059438027,
          0.13280496394911365,
          0.13278140969671048,
          0.13275637862471715,
          0.1327298715699558,
          0.13270188941847794,
          0.13267243310551502,
          0.13264150361542623,
          0.13260910198164386,
          0.13257522928661555,
          0.13253988666174418,
          0.13250307528732477,
          0.13246479639247896,
          0.13242505125508633,
          0.13238384120171362,
          0.1323411676075406,
          0.132297031896284,
          0.13225143554011784,
          0.13220438005959215,
          0.13215586702354784,
          0.13210589804903017,
          0.13205447480119842,
          0.13200159899323358,
          0.13194727238624335,
          0.13189149678916415,
          0.13183427405866094,
          0.131775606099024,
          0.13171549486206363,
          0.13165394234700153,
          0.13159095060036033,
          0.13152652171584991,
          0.13146065783425173,
          0.1313933611432999,
          0.13132463387756046,
          0.1312544783183073,
          0.13118289679339648,
          0.13110989167713694,
          0.13103546539015967,
          0.13095962039928374,
          0.13088235921738017,
          0.13080368440323292,
          0.13072359856139806,
          0.1306421043420596,
          0.13055920444088384,
          0.13047490159887026,
          0.13038919860220094,
          0.13030209828208666,
          0.1302136035146115,
          0.13012371722057417,
          0.1300324423653274,
          0.12993978195861527,
          0.12984573905440752,
          0.12975031675073165,
          0.1296535181895032,
          0.12955534655635317,
          0.12945580508045332,
          0.12935489703433925,
          0.1292526257337309,
          0.1291489945373512,
          0.1290440068467422,
          0.12893766610607899,
          0.12882997580198133,
          0.12872093946332344,
          0.12861056066104093,
          0.1284988430079363,
          0.12838579015848145,
          0.12827140580861907,
          0.12815569369556065,
          0.12803865759758365,
          0.12792030133382537,
          0.12780062876407583,
          0.12767964378856747,
          0.127557350347764,
          0.12743375242214586,
          0.12730885403199507,
          0.12718265923717667,
          0.12705517213691953,
          0.12692639686959387,
          0.12679633761248799,
          0.12666499858158212,
          0.12653238403132083,
          0.12639849825438382,
          0.12626334558145375,
          0.12612693038098363,
          0.1259892570589609,
          0.1258503300586711,
          0.12571015386045822,
          0.1255687329814848,
          0.1254260719754887,
          0.1252821754325397,
          0.1251370479787926,
          0.12499069427624047,
          0.12484311902246427,
          0.12469432695038268,
          0.12454432282799834,
          0.12439311145814441,
          0.12424069767822747,
          0.1240870863599708,
          0.12393228240915415,
          0.12377629076535375,
          0.12361911640167896,
          0.12346076432450925,
          0.12330123957322776,
          0.12314054721995515,
          0.12297869236928032,
          0.12281568015799123,
          0.12265151575480292,
          0.12248620436008477,
          0.1223197512055868,
          0.12215216155416368,
          0.12198344069949761,
          0.12181359396582019,
          0.12164262670763325,
          0.12147054430942705,
          0.1212973521853991,
          0.12112305577916971,
          0.12094766056349826,
          0.12077117203999634,
          0.12059359573884165,
          0.12041493721848874,
          0.12023520206538056,
          0.12005439589365685,
          0.11987252434486362,
          0.11968959308765918,
          0.11950560781752152,
          0.11932057425645232,
          0.11913449815268197,
          0.11894738528037185,
          0.1187592414393173,
          0.11857007245464775,
          0.11837988417652802,
          0.11818868247985652,
          0.11799647326396469,
          0.11780326245231344,
          0.1176090559921909,
          0.11741385985440712,
          0.11721768003299023,
          0.1170205225448796,
          0.11682239342961985,
          0.11662329874905379,
          0.11642324458701364,
          0.11622223704901324,
          0.11602028226193767,
          0.11581738637373416,
          0.11561355555310045,
          0.11540879598917446,
          0.11520311389122133,
          0.11499651548832207,
          0.1147890070290594,
          0.11458059478120532,
          0.11437128503140591,
          0.11416108408486793,
          0.1139499982650428,
          0.11373803391331205,
          0.11352519738867056,
          0.11331149506741134,
          0.11309693334280775,
          0.11288151862479771,
          0.11266525733966519,
          0.11244815592972379,
          0.11223022085299768,
          0.11201145858290457,
          0.11179187560793613,
          0.11157147843134052,
          0.1113502735708024,
          0.11112826755812516,
          0.11090546693891036,
          0.11068187827223996,
          0.11045750813035547,
          0.11023236309833923,
          0.11000644977379505,
          0.10977977476652771,
          0.1095523446982244,
          0.10932416620213388,
          0.10909524592274812,
          0.10886559051548135,
          0.10863520664635191,
          0.10840410099166142,
          0.10817228023767671,
          0.10793975108030936,
          0.1077065202247978,
          0.10747259438538724,
          0.10723798028501197,
          0.10700268465497577,
          0.10676671423463485,
          0.1065300757710783,
          0.10629277601881187,
          0.10605482173943896,
          0.1058162197013448,
          0.1055769766793783,
          0.10533709945453684,
          0.10509659481364879,
          0.10485546954905905,
          0.10461373045831247,
          0.10437138434384026,
          0.10412843801264425,
          0.10388489827598356,
          0.10364077194906135,
          0.1033960658507116,
          0.10315078680308619,
          0.10290494163134346,
          0.10265853716333734,
          0.1024115802293054,
          0.10216407766156017,
          0.10191603629417824,
          0.1016674629626927,
          0.10141836450378373,
          0.10116874775497235,
          0.10091861955431229,
          0.10066798674008538,
          0.10041685615049478,
          0.10016523462336173,
          0.09991312899582046,
          0.09966054610401665,
          0.09940749278280375,
          0.0991539758654431,
          0.09890000218330199,
          0.09864557856555554,
          0.0983907118388865,
          0.0981354088271889,
          0.09787967635126955,
          0.09762352122855385,
          0.09736695027278919,
          0.09710997029375167,
          0.09685258809695334,
          0.09659481048334989,
          0.09633664424904924,
          0.09607809618502189,
          0.09581917307681259,
          0.0955598817042519,
          0.09530022884116934,
          0.09504022125510787,
          0.09477986570704029,
          0.09451916895108425,
          0.09425813773422181,
          0.09399677879601677,
          0.09373509886833636,
          0.0934731046750712,
          0.09321080293185917,
          0.09294820034580802,
          0.09268530361522169,
          0.09242211942932532,
          0.09215865446799419,
          0.0918949154014813,
          0.09163090889014892,
          0.09136664158419873,
          0.09110212012340618,
          0.09083735113685311,
          0.09057234124266496,
          0.0903070970477461,
          0.09004162514751984,
          0.08977593212566647,
          0.08951002455386613,
          0.08924390899153999,
          0.08897759198559486,
          0.08871108007016916,
          0.08844437976637938,
          0.0881774975820682,
          0.0879104400115549,
          0.08764321353538727,
          0.08737582462009331,
          0.08710827971793726,
          0.08684058526667403,
          0.08657274768930844,
          0.0863047733938528,
          0.0860366687730892,
          0.08576844020433026,
          0.08550009404918463,
          0.08523163665332094,
          0.08496307434623657,
          0.08469441344102484,
          0.08442566023414695,
          0.0841568210052026,
          0.08388790201670517,
          0.08361890951385566,
          0.0833498497243213,
          0.08308072885801275,
          0.08281155310686615,
          0.08254232864462384,
          0.08227306162661958,
          0.08200375818956314,
          0.08173442445132796,
          0.08146506651074083,
          0.08119569044737225,
          0.0809263023213288,
          0.08065690817304778,
          0
         ]
        }
       ],
       "layout": {
        "template": {
         "data": {
          "bar": [
           {
            "error_x": {
             "color": "#2a3f5f"
            },
            "error_y": {
             "color": "#2a3f5f"
            },
            "marker": {
             "line": {
              "color": "white",
              "width": 0.5
             },
             "pattern": {
              "fillmode": "overlay",
              "size": 10,
              "solidity": 0.2
             }
            },
            "type": "bar"
           }
          ],
          "barpolar": [
           {
            "marker": {
             "line": {
              "color": "white",
              "width": 0.5
             },
             "pattern": {
              "fillmode": "overlay",
              "size": 10,
              "solidity": 0.2
             }
            },
            "type": "barpolar"
           }
          ],
          "carpet": [
           {
            "aaxis": {
             "endlinecolor": "#2a3f5f",
             "gridcolor": "#C8D4E3",
             "linecolor": "#C8D4E3",
             "minorgridcolor": "#C8D4E3",
             "startlinecolor": "#2a3f5f"
            },
            "baxis": {
             "endlinecolor": "#2a3f5f",
             "gridcolor": "#C8D4E3",
             "linecolor": "#C8D4E3",
             "minorgridcolor": "#C8D4E3",
             "startlinecolor": "#2a3f5f"
            },
            "type": "carpet"
           }
          ],
          "choropleth": [
           {
            "colorbar": {
             "outlinewidth": 0,
             "ticks": ""
            },
            "type": "choropleth"
           }
          ],
          "contour": [
           {
            "colorbar": {
             "outlinewidth": 0,
             "ticks": ""
            },
            "colorscale": [
             [
              0,
              "#0d0887"
             ],
             [
              0.1111111111111111,
              "#46039f"
             ],
             [
              0.2222222222222222,
              "#7201a8"
             ],
             [
              0.3333333333333333,
              "#9c179e"
             ],
             [
              0.4444444444444444,
              "#bd3786"
             ],
             [
              0.5555555555555556,
              "#d8576b"
             ],
             [
              0.6666666666666666,
              "#ed7953"
             ],
             [
              0.7777777777777778,
              "#fb9f3a"
             ],
             [
              0.8888888888888888,
              "#fdca26"
             ],
             [
              1,
              "#f0f921"
             ]
            ],
            "type": "contour"
           }
          ],
          "contourcarpet": [
           {
            "colorbar": {
             "outlinewidth": 0,
             "ticks": ""
            },
            "type": "contourcarpet"
           }
          ],
          "heatmap": [
           {
            "colorbar": {
             "outlinewidth": 0,
             "ticks": ""
            },
            "colorscale": [
             [
              0,
              "#0d0887"
             ],
             [
              0.1111111111111111,
              "#46039f"
             ],
             [
              0.2222222222222222,
              "#7201a8"
             ],
             [
              0.3333333333333333,
              "#9c179e"
             ],
             [
              0.4444444444444444,
              "#bd3786"
             ],
             [
              0.5555555555555556,
              "#d8576b"
             ],
             [
              0.6666666666666666,
              "#ed7953"
             ],
             [
              0.7777777777777778,
              "#fb9f3a"
             ],
             [
              0.8888888888888888,
              "#fdca26"
             ],
             [
              1,
              "#f0f921"
             ]
            ],
            "type": "heatmap"
           }
          ],
          "heatmapgl": [
           {
            "colorbar": {
             "outlinewidth": 0,
             "ticks": ""
            },
            "colorscale": [
             [
              0,
              "#0d0887"
             ],
             [
              0.1111111111111111,
              "#46039f"
             ],
             [
              0.2222222222222222,
              "#7201a8"
             ],
             [
              0.3333333333333333,
              "#9c179e"
             ],
             [
              0.4444444444444444,
              "#bd3786"
             ],
             [
              0.5555555555555556,
              "#d8576b"
             ],
             [
              0.6666666666666666,
              "#ed7953"
             ],
             [
              0.7777777777777778,
              "#fb9f3a"
             ],
             [
              0.8888888888888888,
              "#fdca26"
             ],
             [
              1,
              "#f0f921"
             ]
            ],
            "type": "heatmapgl"
           }
          ],
          "histogram": [
           {
            "marker": {
             "pattern": {
              "fillmode": "overlay",
              "size": 10,
              "solidity": 0.2
             }
            },
            "type": "histogram"
           }
          ],
          "histogram2d": [
           {
            "colorbar": {
             "outlinewidth": 0,
             "ticks": ""
            },
            "colorscale": [
             [
              0,
              "#0d0887"
             ],
             [
              0.1111111111111111,
              "#46039f"
             ],
             [
              0.2222222222222222,
              "#7201a8"
             ],
             [
              0.3333333333333333,
              "#9c179e"
             ],
             [
              0.4444444444444444,
              "#bd3786"
             ],
             [
              0.5555555555555556,
              "#d8576b"
             ],
             [
              0.6666666666666666,
              "#ed7953"
             ],
             [
              0.7777777777777778,
              "#fb9f3a"
             ],
             [
              0.8888888888888888,
              "#fdca26"
             ],
             [
              1,
              "#f0f921"
             ]
            ],
            "type": "histogram2d"
           }
          ],
          "histogram2dcontour": [
           {
            "colorbar": {
             "outlinewidth": 0,
             "ticks": ""
            },
            "colorscale": [
             [
              0,
              "#0d0887"
             ],
             [
              0.1111111111111111,
              "#46039f"
             ],
             [
              0.2222222222222222,
              "#7201a8"
             ],
             [
              0.3333333333333333,
              "#9c179e"
             ],
             [
              0.4444444444444444,
              "#bd3786"
             ],
             [
              0.5555555555555556,
              "#d8576b"
             ],
             [
              0.6666666666666666,
              "#ed7953"
             ],
             [
              0.7777777777777778,
              "#fb9f3a"
             ],
             [
              0.8888888888888888,
              "#fdca26"
             ],
             [
              1,
              "#f0f921"
             ]
            ],
            "type": "histogram2dcontour"
           }
          ],
          "mesh3d": [
           {
            "colorbar": {
             "outlinewidth": 0,
             "ticks": ""
            },
            "type": "mesh3d"
           }
          ],
          "parcoords": [
           {
            "line": {
             "colorbar": {
              "outlinewidth": 0,
              "ticks": ""
             }
            },
            "type": "parcoords"
           }
          ],
          "pie": [
           {
            "automargin": true,
            "type": "pie"
           }
          ],
          "scatter": [
           {
            "fillpattern": {
             "fillmode": "overlay",
             "size": 10,
             "solidity": 0.2
            },
            "type": "scatter"
           }
          ],
          "scatter3d": [
           {
            "line": {
             "colorbar": {
              "outlinewidth": 0,
              "ticks": ""
             }
            },
            "marker": {
             "colorbar": {
              "outlinewidth": 0,
              "ticks": ""
             }
            },
            "type": "scatter3d"
           }
          ],
          "scattercarpet": [
           {
            "marker": {
             "colorbar": {
              "outlinewidth": 0,
              "ticks": ""
             }
            },
            "type": "scattercarpet"
           }
          ],
          "scattergeo": [
           {
            "marker": {
             "colorbar": {
              "outlinewidth": 0,
              "ticks": ""
             }
            },
            "type": "scattergeo"
           }
          ],
          "scattergl": [
           {
            "marker": {
             "colorbar": {
              "outlinewidth": 0,
              "ticks": ""
             }
            },
            "type": "scattergl"
           }
          ],
          "scattermapbox": [
           {
            "marker": {
             "colorbar": {
              "outlinewidth": 0,
              "ticks": ""
             }
            },
            "type": "scattermapbox"
           }
          ],
          "scatterpolar": [
           {
            "marker": {
             "colorbar": {
              "outlinewidth": 0,
              "ticks": ""
             }
            },
            "type": "scatterpolar"
           }
          ],
          "scatterpolargl": [
           {
            "marker": {
             "colorbar": {
              "outlinewidth": 0,
              "ticks": ""
             }
            },
            "type": "scatterpolargl"
           }
          ],
          "scatterternary": [
           {
            "marker": {
             "colorbar": {
              "outlinewidth": 0,
              "ticks": ""
             }
            },
            "type": "scatterternary"
           }
          ],
          "surface": [
           {
            "colorbar": {
             "outlinewidth": 0,
             "ticks": ""
            },
            "colorscale": [
             [
              0,
              "#0d0887"
             ],
             [
              0.1111111111111111,
              "#46039f"
             ],
             [
              0.2222222222222222,
              "#7201a8"
             ],
             [
              0.3333333333333333,
              "#9c179e"
             ],
             [
              0.4444444444444444,
              "#bd3786"
             ],
             [
              0.5555555555555556,
              "#d8576b"
             ],
             [
              0.6666666666666666,
              "#ed7953"
             ],
             [
              0.7777777777777778,
              "#fb9f3a"
             ],
             [
              0.8888888888888888,
              "#fdca26"
             ],
             [
              1,
              "#f0f921"
             ]
            ],
            "type": "surface"
           }
          ],
          "table": [
           {
            "cells": {
             "fill": {
              "color": "#EBF0F8"
             },
             "line": {
              "color": "white"
             }
            },
            "header": {
             "fill": {
              "color": "#C8D4E3"
             },
             "line": {
              "color": "white"
             }
            },
            "type": "table"
           }
          ]
         },
         "layout": {
          "annotationdefaults": {
           "arrowcolor": "#2a3f5f",
           "arrowhead": 0,
           "arrowwidth": 1
          },
          "autotypenumbers": "strict",
          "coloraxis": {
           "colorbar": {
            "outlinewidth": 0,
            "ticks": ""
           }
          },
          "colorscale": {
           "diverging": [
            [
             0,
             "#8e0152"
            ],
            [
             0.1,
             "#c51b7d"
            ],
            [
             0.2,
             "#de77ae"
            ],
            [
             0.3,
             "#f1b6da"
            ],
            [
             0.4,
             "#fde0ef"
            ],
            [
             0.5,
             "#f7f7f7"
            ],
            [
             0.6,
             "#e6f5d0"
            ],
            [
             0.7,
             "#b8e186"
            ],
            [
             0.8,
             "#7fbc41"
            ],
            [
             0.9,
             "#4d9221"
            ],
            [
             1,
             "#276419"
            ]
           ],
           "sequential": [
            [
             0,
             "#0d0887"
            ],
            [
             0.1111111111111111,
             "#46039f"
            ],
            [
             0.2222222222222222,
             "#7201a8"
            ],
            [
             0.3333333333333333,
             "#9c179e"
            ],
            [
             0.4444444444444444,
             "#bd3786"
            ],
            [
             0.5555555555555556,
             "#d8576b"
            ],
            [
             0.6666666666666666,
             "#ed7953"
            ],
            [
             0.7777777777777778,
             "#fb9f3a"
            ],
            [
             0.8888888888888888,
             "#fdca26"
            ],
            [
             1,
             "#f0f921"
            ]
           ],
           "sequentialminus": [
            [
             0,
             "#0d0887"
            ],
            [
             0.1111111111111111,
             "#46039f"
            ],
            [
             0.2222222222222222,
             "#7201a8"
            ],
            [
             0.3333333333333333,
             "#9c179e"
            ],
            [
             0.4444444444444444,
             "#bd3786"
            ],
            [
             0.5555555555555556,
             "#d8576b"
            ],
            [
             0.6666666666666666,
             "#ed7953"
            ],
            [
             0.7777777777777778,
             "#fb9f3a"
            ],
            [
             0.8888888888888888,
             "#fdca26"
            ],
            [
             1,
             "#f0f921"
            ]
           ]
          },
          "colorway": [
           "#636efa",
           "#EF553B",
           "#00cc96",
           "#ab63fa",
           "#FFA15A",
           "#19d3f3",
           "#FF6692",
           "#B6E880",
           "#FF97FF",
           "#FECB52"
          ],
          "font": {
           "color": "#2a3f5f"
          },
          "geo": {
           "bgcolor": "white",
           "lakecolor": "white",
           "landcolor": "white",
           "showlakes": true,
           "showland": true,
           "subunitcolor": "#C8D4E3"
          },
          "hoverlabel": {
           "align": "left"
          },
          "hovermode": "closest",
          "mapbox": {
           "style": "light"
          },
          "paper_bgcolor": "white",
          "plot_bgcolor": "white",
          "polar": {
           "angularaxis": {
            "gridcolor": "#EBF0F8",
            "linecolor": "#EBF0F8",
            "ticks": ""
           },
           "bgcolor": "white",
           "radialaxis": {
            "gridcolor": "#EBF0F8",
            "linecolor": "#EBF0F8",
            "ticks": ""
           }
          },
          "scene": {
           "xaxis": {
            "backgroundcolor": "white",
            "gridcolor": "#DFE8F3",
            "gridwidth": 2,
            "linecolor": "#EBF0F8",
            "showbackground": true,
            "ticks": "",
            "zerolinecolor": "#EBF0F8"
           },
           "yaxis": {
            "backgroundcolor": "white",
            "gridcolor": "#DFE8F3",
            "gridwidth": 2,
            "linecolor": "#EBF0F8",
            "showbackground": true,
            "ticks": "",
            "zerolinecolor": "#EBF0F8"
           },
           "zaxis": {
            "backgroundcolor": "white",
            "gridcolor": "#DFE8F3",
            "gridwidth": 2,
            "linecolor": "#EBF0F8",
            "showbackground": true,
            "ticks": "",
            "zerolinecolor": "#EBF0F8"
           }
          },
          "shapedefaults": {
           "line": {
            "color": "#2a3f5f"
           }
          },
          "ternary": {
           "aaxis": {
            "gridcolor": "#DFE8F3",
            "linecolor": "#A2B1C6",
            "ticks": ""
           },
           "baxis": {
            "gridcolor": "#DFE8F3",
            "linecolor": "#A2B1C6",
            "ticks": ""
           },
           "bgcolor": "white",
           "caxis": {
            "gridcolor": "#DFE8F3",
            "linecolor": "#A2B1C6",
            "ticks": ""
           }
          },
          "title": {
           "x": 0.05
          },
          "xaxis": {
           "automargin": true,
           "gridcolor": "#EBF0F8",
           "linecolor": "#EBF0F8",
           "ticks": "",
           "title": {
            "standoff": 15
           },
           "zerolinecolor": "#EBF0F8",
           "zerolinewidth": 2
          },
          "yaxis": {
           "automargin": true,
           "gridcolor": "#EBF0F8",
           "linecolor": "#EBF0F8",
           "ticks": "",
           "title": {
            "standoff": 15
           },
           "zerolinecolor": "#EBF0F8",
           "zerolinewidth": 2
          }
         }
        },
        "title": {
         "text": "Distribución Normal de Temperaturas en Caucasia"
        },
        "xaxis": {
         "title": {
          "text": "Temperatura (°C)"
         }
        },
        "yaxis": {
         "title": {
          "text": "Densidad de Probabilidad"
         }
        }
       }
      }
     },
     "metadata": {},
     "output_type": "display_data"
    }
   ],
   "source": [
    "\n",
    "import plotly.graph_objects as go\n",
    "\n",
    "# Valores de x para la curva\n",
    "x = np.linspace(mu - 4*sigma, mu + 4*sigma, 500)\n",
    "pdf = norm.pdf(x, loc=mu, scale=sigma)  # Densidad de probabilidad\n",
    "\n",
    "# Crear el gráfico\n",
    "fig = go.Figure()\n",
    "\n",
    "# Curva de la distribución normal\n",
    "fig.add_trace(go.Scatter(x=x, y=pdf, mode='lines', name='Distribución Normal'))\n",
    "\n",
    "# Sombrear el área bajo la curva entre 30 y 35\n",
    "x_fill = np.linspace(a, b, 500)\n",
    "pdf_fill = norm.pdf(x_fill, loc=mu, scale=sigma)\n",
    "fig.add_trace(go.Scatter(x=np.concatenate([[a], x_fill, [b]]),\n",
    "                         y=np.concatenate([[0], pdf_fill, [0]]),\n",
    "                         fill='toself',\n",
    "                         name='Área entre 30°C y 35°C',\n",
    "                         mode='lines',\n",
    "                         line=dict(width=0.5),\n",
    "                         fillcolor='rgba(0, 100, 200, 0.4)'))  # Color semitransparente\n",
    "\n",
    "# Configurar el diseño\n",
    "fig.update_layout(\n",
    "    title=\"Distribución Normal de Temperaturas en Caucasia\",\n",
    "    xaxis_title=\"Temperatura (°C)\",\n",
    "    yaxis_title=\"Densidad de Probabilidad\",\n",
    "    template=\"plotly_white\"\n",
    ")\n",
    "\n",
    "# Mostrar el gráfico\n",
    "fig.show()\n",
    "\n"
   ]
  },
  {
   "cell_type": "markdown",
   "id": "7536b30d",
   "metadata": {},
   "source": [
    "\n",
    "---\n",
    "\n",
    "### **Interpretación de Resultados:**\n",
    "- **Probabilidad**: El valor calculado representa la probabilidad de que una temperatura aleatoria en Caucasia esté entre $30^\\circ C$ y $35^\\circ C$, basado en los datos simulados.\n",
    "\n",
    "- **Gráfico**:\n",
    "  - La curva muestra la distribución normal de las temperaturas.\n",
    "  - El área sombreada entre $30^\\circ C$ y $35^\\circ C$ representa la probabilidad calculada.\n"
   ]
  },
  {
   "cell_type": "markdown",
   "id": "408bd346",
   "metadata": {},
   "source": [
    "\n",
    "# Enfoque ajustado a datos reales obtenidos del IDEAM para un análisis más preciso. "
   ]
  },
  {
   "cell_type": "code",
   "execution_count": 28,
   "id": "bb8150a7",
   "metadata": {},
   "outputs": [
    {
     "data": {
      "text/html": [
       "<div>\n",
       "<style scoped>\n",
       "    .dataframe tbody tr th:only-of-type {\n",
       "        vertical-align: middle;\n",
       "    }\n",
       "\n",
       "    .dataframe tbody tr th {\n",
       "        vertical-align: top;\n",
       "    }\n",
       "\n",
       "    .dataframe thead th {\n",
       "        text-align: right;\n",
       "    }\n",
       "</style>\n",
       "<table border=\"1\" class=\"dataframe\">\n",
       "  <thead>\n",
       "    <tr style=\"text-align: right;\">\n",
       "      <th></th>\n",
       "      <th>codigoestacion</th>\n",
       "      <th>codigosensor</th>\n",
       "      <th>fechaobservacion</th>\n",
       "      <th>valorobservado</th>\n",
       "      <th>nombreestacion</th>\n",
       "      <th>departamento</th>\n",
       "      <th>municipio</th>\n",
       "      <th>zonahidrografica</th>\n",
       "      <th>latitud</th>\n",
       "      <th>longitud</th>\n",
       "      <th>descripcionsensor</th>\n",
       "      <th>unidadmedida</th>\n",
       "    </tr>\n",
       "  </thead>\n",
       "  <tbody>\n",
       "    <tr>\n",
       "      <th>0</th>\n",
       "      <td>35185010</td>\n",
       "      <td>69</td>\n",
       "      <td>2010-01-12T17:01:00.000</td>\n",
       "      <td>34.3</td>\n",
       "      <td>LA PALOMERA - AUT</td>\n",
       "      <td>META</td>\n",
       "      <td>PUERTO LÓPEZ</td>\n",
       "      <td>META</td>\n",
       "      <td>4.260361</td>\n",
       "      <td>-72.564472</td>\n",
       "      <td>Temp Max Aire 2 m</td>\n",
       "      <td>°C</td>\n",
       "    </tr>\n",
       "    <tr>\n",
       "      <th>1</th>\n",
       "      <td>48015040</td>\n",
       "      <td>69</td>\n",
       "      <td>2011-04-11T04:00:00.000</td>\n",
       "      <td>23.3</td>\n",
       "      <td>PTO NARIÑO</td>\n",
       "      <td>AMAZONAS</td>\n",
       "      <td>PUERTO NARIÑO</td>\n",
       "      <td>AMAZONAS - DIRECTOS</td>\n",
       "      <td>-3.780000</td>\n",
       "      <td>-70.363000</td>\n",
       "      <td>Temp Max Aire 2 m</td>\n",
       "      <td>°C</td>\n",
       "    </tr>\n",
       "    <tr>\n",
       "      <th>2</th>\n",
       "      <td>35035100</td>\n",
       "      <td>69</td>\n",
       "      <td>2015-08-16T18:01:00.000</td>\n",
       "      <td>24.1</td>\n",
       "      <td>ICA VILLAVICENCIO  - AUT</td>\n",
       "      <td>META</td>\n",
       "      <td>VILLAVICENCIO</td>\n",
       "      <td>META</td>\n",
       "      <td>4.137389</td>\n",
       "      <td>-73.625000</td>\n",
       "      <td>Temp Max Aire 2 m</td>\n",
       "      <td>°C</td>\n",
       "    </tr>\n",
       "    <tr>\n",
       "      <th>3</th>\n",
       "      <td>26155250</td>\n",
       "      <td>69</td>\n",
       "      <td>2016-08-15T02:54:00.000</td>\n",
       "      <td>4.1</td>\n",
       "      <td>PARAMO CONEJERAS  - AUT</td>\n",
       "      <td>CALDAS</td>\n",
       "      <td>VILLAMARIA</td>\n",
       "      <td>CAUCA</td>\n",
       "      <td>4.829806</td>\n",
       "      <td>-75.375833</td>\n",
       "      <td>Temp Max Aire 2 m</td>\n",
       "      <td>°C</td>\n",
       "    </tr>\n",
       "    <tr>\n",
       "      <th>4</th>\n",
       "      <td>35035100</td>\n",
       "      <td>69</td>\n",
       "      <td>2017-11-02T14:54:00.000</td>\n",
       "      <td>33.4</td>\n",
       "      <td>ICA VILLAVICENCIO  - AUT</td>\n",
       "      <td>META</td>\n",
       "      <td>VILLAVICENCIO</td>\n",
       "      <td>META</td>\n",
       "      <td>4.137389</td>\n",
       "      <td>-73.625000</td>\n",
       "      <td>Temp Max Aire 2 m</td>\n",
       "      <td>°C</td>\n",
       "    </tr>\n",
       "  </tbody>\n",
       "</table>\n",
       "</div>"
      ],
      "text/plain": [
       "   codigoestacion  codigosensor         fechaobservacion  valorobservado  \\\n",
       "0        35185010            69  2010-01-12T17:01:00.000            34.3   \n",
       "1        48015040            69  2011-04-11T04:00:00.000            23.3   \n",
       "2        35035100            69  2015-08-16T18:01:00.000            24.1   \n",
       "3        26155250            69  2016-08-15T02:54:00.000             4.1   \n",
       "4        35035100            69  2017-11-02T14:54:00.000            33.4   \n",
       "\n",
       "             nombreestacion departamento      municipio     zonahidrografica  \\\n",
       "0         LA PALOMERA - AUT         META   PUERTO LÓPEZ                 META   \n",
       "1                PTO NARIÑO     AMAZONAS  PUERTO NARIÑO  AMAZONAS - DIRECTOS   \n",
       "2  ICA VILLAVICENCIO  - AUT         META  VILLAVICENCIO                 META   \n",
       "3   PARAMO CONEJERAS  - AUT       CALDAS     VILLAMARIA                CAUCA   \n",
       "4  ICA VILLAVICENCIO  - AUT         META  VILLAVICENCIO                 META   \n",
       "\n",
       "    latitud   longitud  descripcionsensor unidadmedida  \n",
       "0  4.260361 -72.564472  Temp Max Aire 2 m           °C  \n",
       "1 -3.780000 -70.363000  Temp Max Aire 2 m           °C  \n",
       "2  4.137389 -73.625000  Temp Max Aire 2 m           °C  \n",
       "3  4.829806 -75.375833  Temp Max Aire 2 m           °C  \n",
       "4  4.137389 -73.625000  Temp Max Aire 2 m           °C  "
      ]
     },
     "execution_count": 28,
     "metadata": {},
     "output_type": "execute_result"
    }
   ],
   "source": [
    "import pandas as pd\n",
    "\n",
    "# URL del archivo CSV\n",
    "url = \"https://www.datos.gov.co/resource/ccvq-rp9s.csv\"\n",
    "\n",
    "# Leer el archivo directamente desde la URL\n",
    "data = pd.read_csv(url)\n",
    "\n",
    "# Mostrar las primeras filas\n",
    "data.head()\n"
   ]
  },
  {
   "cell_type": "code",
   "execution_count": 29,
   "id": "94dddeed",
   "metadata": {},
   "outputs": [
    {
     "data": {
      "text/plain": [
       "(1000, 12)"
      ]
     },
     "execution_count": 29,
     "metadata": {},
     "output_type": "execute_result"
    }
   ],
   "source": [
    "data.shape "
   ]
  },
  {
   "cell_type": "markdown",
   "id": "9bf60134",
   "metadata": {},
   "source": [
    "[Video de apoyo hasta aquí](https://www.youtube.com/watch?v=7f0Vs9XSRys)"
   ]
  },
  {
   "cell_type": "markdown",
   "id": "bae86914",
   "metadata": {},
   "source": [
    "# 2. **Contexto aplicado:**  \n",
    "\n",
    "   - Importancia de la predicción climática en la Ingeniería agropecuaria.\n",
    "   - Descripción de los datos meteorológicos del IDEAM: precipitación, temperatura, humedad.\n"
   ]
  },
  {
   "cell_type": "markdown",
   "id": "3161ac39",
   "metadata": {},
   "source": [
    "\n",
    "### **Importancia de la predicción climática en la Ingeniería Agropecuaria**\n",
    "- **Rol de los datos climáticos en la agricultura**:\n",
    "  La ingeniería agropecuaria se enfrenta a desafíos importantes relacionados con la gestión eficiente de recursos como el agua y el suelo. El análisis de datos climáticos permite optimizar decisiones en:\n",
    "  - **Siembra y cosecha**: La predicción climática ayuda a determinar los mejores momentos para sembrar y cosechar, minimizando riesgos asociados a sequías o lluvias extremas.\n",
    "  - **Uso del agua**: Mediante la predicción de precipitaciones, se pueden planificar estrategias de riego y evitar sobrecostos en épocas húmedas.\n",
    "  - **Control de plagas y enfermedades**: Las condiciones de temperatura y humedad son determinantes para prever y controlar brotes de plagas.\n",
    "  - **Adaptación al cambio climático**: Analizar tendencias a largo plazo en variables climáticas permite diseñar estrategias agrícolas más resilientes.\n",
    "\n",
    "---\n"
   ]
  },
  {
   "cell_type": "markdown",
   "id": "96621cf7",
   "metadata": {},
   "source": [
    "\n",
    "### **Descripción de los datos meteorológicos del IDEAM**\n",
    "El IDEAM (Instituto de Hidrología, Meteorología y Estudios Ambientales de Colombia) recopila y distribuye datos meteorológicos clave para diferentes aplicaciones, incluyendo:\n",
    "- **Precipitación**:\n",
    "  - Cantidad de lluvia caída en un período determinado.\n",
    "  - Útil para modelar el riesgo de inundaciones y sequías.\n",
    "  - Se mide en milímetros (mm).\n",
    "  \n"
   ]
  },
  {
   "cell_type": "markdown",
   "id": "3e31abcb",
   "metadata": {},
   "source": [
    "- **Temperatura**:\n",
    "  - Datos de temperatura mínima, máxima y promedio.\n",
    "  - Importante para evaluar el estrés térmico en cultivos y ganado.\n",
    "  - Se mide en grados Celsius (°C).\n"
   ]
  },
  {
   "cell_type": "markdown",
   "id": "a0748b96",
   "metadata": {},
   "source": [
    "\n",
    "- **Humedad relativa**:\n",
    "  - Proporción de humedad en el aire en relación con la máxima posible a una temperatura dada.\n",
    "  - Indicador importante para la salud de cultivos y desarrollo de enfermedades.\n",
    "  - Se mide en porcentaje (%).\n",
    "\n",
    "---\n"
   ]
  },
  {
   "cell_type": "markdown",
   "id": "36521dee",
   "metadata": {},
   "source": [
    "\n",
    "#### **Uso de Python con datos meteorológicos**\n",
    "- **Integración de datos IDEAM**: Python permite descargar, analizar y visualizar datos climáticos. Las bibliotecas como `pandas` y `matplotlib` son ideales para explorar estos datos.\n",
    "- **Cálculo probabilístico aplicado**: Usando modelos de distribución de probabilidad, se pueden estimar probabilidades asociadas a eventos específicos, como precipitaciones extremas o temperaturas fuera de rangos óptimos.\n",
    "  \n"
   ]
  },
  {
   "cell_type": "markdown",
   "id": "4d5b9f6c",
   "metadata": {},
   "source": [
    "#### **Ejemplo práctico**:\n",
    "Un ejercicio podría ser:\n",
    "- Tomar un conjunto de datos históricos de temperaturas en Caucasia.\n",
    "- Ajustar una distribución normal a estos datos.\n",
    "- Calcular la probabilidad de que la temperatura supere un umbral crítico para un cultivo sensible al calor.\n",
    "\n",
    "¿Quieres que el ejemplo se desarrolle con código Python? ¡Puedo ayudarte a implementar un análisis completo!"
   ]
  },
  {
   "cell_type": "markdown",
   "id": "81c99370",
   "metadata": {},
   "source": [
    "Aquí tienes un ejemplo práctico en Python que cumple con los requisitos establecidos:\n",
    "\n",
    "### Código para el ejemplo\n"
   ]
  },
  {
   "cell_type": "code",
   "execution_count": 31,
   "id": "b15e47f5",
   "metadata": {},
   "outputs": [
    {
     "data": {
      "text/html": [
       "<div>\n",
       "<style scoped>\n",
       "    .dataframe tbody tr th:only-of-type {\n",
       "        vertical-align: middle;\n",
       "    }\n",
       "\n",
       "    .dataframe tbody tr th {\n",
       "        vertical-align: top;\n",
       "    }\n",
       "\n",
       "    .dataframe thead th {\n",
       "        text-align: right;\n",
       "    }\n",
       "</style>\n",
       "<table border=\"1\" class=\"dataframe\">\n",
       "  <thead>\n",
       "    <tr style=\"text-align: right;\">\n",
       "      <th></th>\n",
       "      <th>Temperatura</th>\n",
       "    </tr>\n",
       "  </thead>\n",
       "  <tbody>\n",
       "    <tr>\n",
       "      <th>count</th>\n",
       "      <td>365.000000</td>\n",
       "    </tr>\n",
       "    <tr>\n",
       "      <th>mean</th>\n",
       "      <td>30.019893</td>\n",
       "    </tr>\n",
       "    <tr>\n",
       "      <th>std</th>\n",
       "      <td>1.896102</td>\n",
       "    </tr>\n",
       "    <tr>\n",
       "      <th>min</th>\n",
       "      <td>23.517465</td>\n",
       "    </tr>\n",
       "    <tr>\n",
       "      <th>25%</th>\n",
       "      <td>28.693342</td>\n",
       "    </tr>\n",
       "    <tr>\n",
       "      <th>50%</th>\n",
       "      <td>30.116417</td>\n",
       "    </tr>\n",
       "    <tr>\n",
       "      <th>75%</th>\n",
       "      <td>31.251335</td>\n",
       "    </tr>\n",
       "    <tr>\n",
       "      <th>max</th>\n",
       "      <td>37.705463</td>\n",
       "    </tr>\n",
       "  </tbody>\n",
       "</table>\n",
       "</div>"
      ],
      "text/plain": [
       "       Temperatura\n",
       "count   365.000000\n",
       "mean     30.019893\n",
       "std       1.896102\n",
       "min      23.517465\n",
       "25%      28.693342\n",
       "50%      30.116417\n",
       "75%      31.251335\n",
       "max      37.705463"
      ]
     },
     "execution_count": 31,
     "metadata": {},
     "output_type": "execute_result"
    }
   ],
   "source": [
    "\n",
    "\n",
    "import numpy as np\n",
    "import pandas as pd\n",
    "import matplotlib.pyplot as plt\n",
    "from scipy.stats import norm\n",
    "\n",
    "# Generar datos artificiales de temperaturas históricas (en °C)\n",
    "np.random.seed(42)  # Asegurar reproducibilidad\n",
    "media_temperatura = 30  # Promedio histórico de temperatura en Caucasia\n",
    "desviacion_estandar = 2  # Variabilidad de las temperaturas\n",
    "n_datos = 365  # Datos de un año\n",
    "temperaturas = np.random.normal(media_temperatura, desviacion_estandar, n_datos)\n",
    "\n",
    "# Crear un DataFrame con los datos\n",
    "datos_temperatura = pd.DataFrame({'Temperatura': temperaturas})\n",
    "datos_temperatura.describe()\n"
   ]
  },
  {
   "cell_type": "code",
   "execution_count": 32,
   "id": "90cfc5be",
   "metadata": {},
   "outputs": [
    {
     "name": "stdout",
     "output_type": "stream",
     "text": [
      "Parámetros ajustados:\n",
      "Media (μ): 30.02 °C\n",
      "Desviación estándar (σ): 1.89 °C\n"
     ]
    }
   ],
   "source": [
    "\n",
    "# Ajustar la distribución normal\n",
    "mu, sigma = norm.fit(temperaturas)\n",
    "\n",
    "print(f\"Parámetros ajustados:\\nMedia (μ): {mu:.2f} °C\\nDesviación estándar (σ): {sigma:.2f} °C\")\n"
   ]
  },
  {
   "cell_type": "code",
   "execution_count": 33,
   "id": "4bc1fc03",
   "metadata": {},
   "outputs": [
    {
     "data": {
      "image/png": "[encoded data removed]",
      "text/plain": [
       "<Figure size 800x600 with 1 Axes>"
      ]
     },
     "metadata": {},
     "output_type": "display_data"
    },
    {
     "name": "stdout",
     "output_type": "stream",
     "text": [
      "La probabilidad de que la temperatura supere los 32 °C es de 0.1478 o 14.78%.\n"
     ]
    }
   ],
   "source": [
    "\n",
    "# Graficar histograma de datos y la distribución ajustada\n",
    "x = np.linspace(min(temperaturas), max(temperaturas), 1000)\n",
    "pdf = norm.pdf(x, mu, sigma)\n",
    "\n",
    "plt.figure(figsize=(8, 6))\n",
    "plt.hist(temperaturas, bins=20, density=True, alpha=0.6, color='skyblue', label='Datos')\n",
    "plt.plot(x, pdf, 'r-', label='Distribución Normal Ajustada')\n",
    "plt.title('Distribución de Temperaturas en Caucasia')\n",
    "plt.xlabel('Temperatura (°C)')\n",
    "plt.ylabel('Densidad de probabilidad')\n",
    "plt.legend()\n",
    "plt.grid()\n",
    "plt.show()\n",
    "\n",
    "# Calcular probabilidad de superar un umbral crítico\n",
    "umbral_critico = 32  # Umbral crítico en °C\n",
    "prob_superar_umbral = 1 - norm.cdf(umbral_critico, mu, sigma)\n",
    "\n",
    "print(f\"La probabilidad de que la temperatura supere los {umbral_critico} °C es de {prob_superar_umbral:.4f} o {prob_superar_umbral*100:.2f}%.\")\n",
    "\n"
   ]
  },
  {
   "cell_type": "markdown",
   "id": "9721ea8c",
   "metadata": {},
   "source": [
    "\n",
    "---\n",
    "\n",
    "### Descripción del Código\n",
    "1. **Generación de datos artificiales**: Se simulan temperaturas diarias basadas en una distribución normal con parámetros estimados de la región.\n",
    "2. **Ajuste de distribución normal**: Se utiliza `scipy.stats.norm` para ajustar los datos y determinar los parámetros $\\mu$ (media) y $\\sigma$ (desviación estándar).\n",
    "3. **Visualización**: Se crea un histograma de los datos junto con la curva de densidad ajustada para observar la adecuación.\n",
    "4. **Cálculo de probabilidades**: Usando la función de distribución acumulada complementaria (`1 - cdf`), se calcula la probabilidad de que la temperatura supere un umbral crítico.\n",
    "\n",
    "---\n",
    "\n",
    "### Salida Esperada\n",
    "- **Resumen estadístico**: Valores como promedio y desviación estándar de los datos.\n",
    "- **Gráfica**: Histograma con la curva de la distribución normal superpuesta.\n",
    "- **Probabilidad**: El resultado de la probabilidad de que la temperatura supere el umbral crítico, presentado tanto en formato decimal como porcentual.\n",
    "\n",
    "¿Quieres ajustar este ejemplo con datos reales del IDEAM? ¡Podemos hacerlo si tienes acceso al archivo CSV de datos históricos!"
   ]
  },
  {
   "cell_type": "markdown",
   "id": "5a8af037",
   "metadata": {},
   "source": [
    "[Video de apoyo a la lectura hasta aquí]()"
   ]
  },
  {
   "cell_type": "markdown",
   "id": "4e86a27e",
   "metadata": {},
   "source": [
    "3. **Implementación en Python:**\n",
    "   - Uso de bibliotecas como `numpy`, `scipy.stats`, y `matplotlib`.\n",
    "   - Ejemplo práctico: cálculo de la probabilidad de un evento de alta precipitación (>50 mm).\n",
    "\n",
    "---\n"
   ]
  },
  {
   "cell_type": "markdown",
   "id": "cd68dcc0",
   "metadata": {},
   "source": [
    "\n",
    "### **4. Actividades de aprendizaje**\n",
    "1. **Exploración de datos:**\n",
    "   - Los estudiantes cargarán y explorarán un conjunto de datos proporcionado por el IDEAM en formato CSV (temperatura y precipitación).\n",
    "   - Identificarán variables clave, como rangos de precipitación y temperaturas extremas.\n",
    "   - Uso de gráficos para visualizar la distribución de las variables (e.g., histogramas y curvas de densidad).\n",
    "   \n",
    "   Código base:\n"
   ]
  },
  {
   "cell_type": "code",
   "execution_count": 11,
   "id": "4ef70ce5",
   "metadata": {},
   "outputs": [
    {
     "name": "stderr",
     "output_type": "stream",
     "text": [
      "C:\\Users\\marco\\AppData\\Local\\Temp\\ipykernel_14880\\1271506673.py:6: DtypeWarning: Columns (0) have mixed types. Specify dtype option on import or set low_memory=False.\n",
      "  datos = pd.read_csv('C:/Users/marco/Documentos/docencia/ideam/precipitacion_caucasia/precipitaci_ideam_4.csv')\n"
     ]
    },
    {
     "data": {
      "image/png": "[encoded data removed]",
      "text/plain": [
       "<Figure size 640x480 with 1 Axes>"
      ]
     },
     "metadata": {},
     "output_type": "display_data"
    }
   ],
   "source": [
    "import pandas as pd\n",
    "import matplotlib.pyplot as plt\n",
    "\n",
    "# Cargar datos\n",
    "\n",
    "datos = pd.read_csv('C:/Users/marco/Documentos/docencia/ideam/precipitacion_caucasia/precipitaci_ideam_4.csv')\n",
    "plt.hist(datos['ValorObservado'], bins=5, density=True, alpha=0.6, color='g')\n",
    "plt.title('Distribución de Precipitación')\n",
    "plt.xlabel('Precipitación (mm)')\n",
    "plt.ylabel('Densidad')\n",
    "plt.show()\n",
    "\n"
   ]
  },
  {
   "cell_type": "markdown",
   "id": "514dba2a",
   "metadata": {},
   "source": [
    "2. **Cálculo de probabilidades:**\n",
    "   - Usar Python para integrar distribuciones conocidas (e.g., Normal o Exponencial) y calcular probabilidades de eventos como:\n",
    "     - La probabilidad de días con precipitación mayor a 50 mm.\n",
    "     - La probabilidad de temperaturas dentro de un rango óptimo para cultivos específicos.\n",
    "\n",
    "   Ejemplo:\n"
   ]
  },
  {
   "cell_type": "code",
   "execution_count": 22,
   "id": "ec01d23d",
   "metadata": {},
   "outputs": [
    {
     "name": "stdout",
     "output_type": "stream",
     "text": [
      "Probabilidad de precipitación > 10 mm: 0.00%\n"
     ]
    }
   ],
   "source": [
    "from scipy.stats import norm\n",
    "\n",
    "# Parámetros de la distribución\n",
    "variable_meteorologica = 'ValorObservado'\n",
    "media = datos[variable_meteorologica].mean()\n",
    "desviacion = datos[variable_meteorologica].std()\n",
    "valor_de_variable_meteorologica = 10\n",
    "# Cálculo de probabilidad: P(X > valor_de_variable_meteorologica) \n",
    "probabilidad = 1 - norm.cdf(valor_de_variable_meteorologica, loc=media, scale=desviacion)\n",
    "print(f\"Probabilidad de precipitación > {valor_de_variable_meteorologica} mm: {probabilidad:.2%}\")\n",
    "\n"
   ]
  },
  {
   "cell_type": "markdown",
   "id": "5a09a60c",
   "metadata": {},
   "source": [
    "\n",
    "---\n",
    "\n",
    "### **5. Tarea o actividades de ejercitación y fijación**\n",
    "1. **Ejercicios de aplicación:**\n",
    "   - Calcular la probabilidad de días con temperaturas entre 18°C y 25°C.\n",
    "   - Estimar el porcentaje de días con precipitación menor a 10 mm.\n",
    "2. **Desafíos:**\n",
    "   - Ajustar un modelo de distribución a los datos observados y justificar su elección.\n",
    "   - Crear un gráfico de probabilidad acumulada de precipitación.\n",
    "3. **Entrega:** Subir los análisis y gráficos a un repositorio de GitHub, acompañado de una explicación de los resultados obtenidos.\n",
    "\n",
    "---\n"
   ]
  },
  {
   "cell_type": "markdown",
   "id": "651190b3",
   "metadata": {},
   "source": [
    "\n",
    "### **6. Diseño de actividad de retroalimentación**\n",
    "**Actividad grupal: Presentación y discusión de resultados**\n",
    "1. Cada grupo presentará:\n",
    "   - Su modelo de distribución seleccionado.\n",
    "   - Los cálculos de probabilidad realizados y su interpretación en el contexto agropecuario.\n",
    "   - Gráficos generados para visualizar los datos y probabilidades.\n",
    "2. **Retroalimentación del docente y compañeros:**\n",
    "   - El docente evaluará la coherencia de los análisis y brindará comentarios para mejorar el entendimiento.\n",
    "   - Los estudiantes responderán preguntas de sus compañeros y justificarán su enfoque.\n",
    "3. **Cierre:**\n",
    "   - Se presentará una solución general al problema, usando los datos de toda la clase para construir un análisis colectivo.\n",
    "\n",
    "---\n"
   ]
  },
  {
   "cell_type": "markdown",
   "id": "119163ef",
   "metadata": {},
   "source": [
    "\n",
    "### **Recursos necesarios**\n",
    "- Jupyter Notebooks para la programación en Python.\n",
    "- Conjunto de datos del IDEAM en formato CSV.\n",
    "- Acceso a bibliotecas como `numpy`, `scipy`, `pandas`, y `matplotlib`.\n",
    "\n",
    "---\n",
    "\n",
    "¿Te gustaría ejemplos más detallados para los ejercicios o un conjunto de datos ficticio para practicar? 😊"
   ]
  },
  {
   "cell_type": "markdown",
   "id": "edf1ce8b",
   "metadata": {},
   "source": [
    "# Ensayo de automatización para obtener datos meteorológicos \n",
    "\n"
   ]
  },
  {
   "cell_type": "code",
   "execution_count": null,
   "id": "dd7f130a",
   "metadata": {},
   "outputs": [],
   "source": []
  },
  {
   "cell_type": "code",
   "execution_count": 8,
   "id": "6b62d8f7",
   "metadata": {},
   "outputs": [
    {
     "ename": "SSLError",
     "evalue": "HTTPSConnectionPool(host='www.ideam.gov.co', port=443): Max retries exceeded with url: /datos-meteorologicos?codigo=2502000077 (Caused by SSLError(SSLCertVerificationError(1, '[SSL: CERTIFICATE_VERIFY_FAILED] certificate verify failed: unable to get local issuer certificate (_ssl.c:1000)')))",
     "output_type": "error",
     "traceback": [
      "\u001b[1;31m---------------------------------------------------------------------------\u001b[0m",
      "\u001b[1;31mSSLCertVerificationError\u001b[0m                  Traceback (most recent call last)",
      "File \u001b[1;32m~\\AppData\\Local\\Packages\\PythonSoftwareFoundation.Python.3.12_qbz5n2kfra8p0\\LocalCache\\local-packages\\Python312\\site-packages\\urllib3\\connectionpool.py:466\u001b[0m, in \u001b[0;36mHTTPConnectionPool._make_request\u001b[1;34m(self, conn, method, url, body, headers, retries, timeout, chunked, response_conn, preload_content, decode_content, enforce_content_length)\u001b[0m\n\u001b[0;32m    465\u001b[0m \u001b[38;5;28;01mtry\u001b[39;00m:\n\u001b[1;32m--> 466\u001b[0m     \u001b[38;5;28;43mself\u001b[39;49m\u001b[38;5;241;43m.\u001b[39;49m\u001b[43m_validate_conn\u001b[49m\u001b[43m(\u001b[49m\u001b[43mconn\u001b[49m\u001b[43m)\u001b[49m\n\u001b[0;32m    467\u001b[0m \u001b[38;5;28;01mexcept\u001b[39;00m (SocketTimeout, BaseSSLError) \u001b[38;5;28;01mas\u001b[39;00m e:\n",
      "File \u001b[1;32m~\\AppData\\Local\\Packages\\PythonSoftwareFoundation.Python.3.12_qbz5n2kfra8p0\\LocalCache\\local-packages\\Python312\\site-packages\\urllib3\\connectionpool.py:1095\u001b[0m, in \u001b[0;36mHTTPSConnectionPool._validate_conn\u001b[1;34m(self, conn)\u001b[0m\n\u001b[0;32m   1094\u001b[0m \u001b[38;5;28;01mif\u001b[39;00m conn\u001b[38;5;241m.\u001b[39mis_closed:\n\u001b[1;32m-> 1095\u001b[0m     \u001b[43mconn\u001b[49m\u001b[38;5;241;43m.\u001b[39;49m\u001b[43mconnect\u001b[49m\u001b[43m(\u001b[49m\u001b[43m)\u001b[49m\n\u001b[0;32m   1097\u001b[0m \u001b[38;5;66;03m# TODO revise this, see https://github.com/urllib3/urllib3/issues/2791\u001b[39;00m\n",
      "File \u001b[1;32m~\\AppData\\Local\\Packages\\PythonSoftwareFoundation.Python.3.12_qbz5n2kfra8p0\\LocalCache\\local-packages\\Python312\\site-packages\\urllib3\\connection.py:730\u001b[0m, in \u001b[0;36mHTTPSConnection.connect\u001b[1;34m(self)\u001b[0m\n\u001b[0;32m    728\u001b[0m server_hostname_rm_dot \u001b[38;5;241m=\u001b[39m server_hostname\u001b[38;5;241m.\u001b[39mrstrip(\u001b[38;5;124m\"\u001b[39m\u001b[38;5;124m.\u001b[39m\u001b[38;5;124m\"\u001b[39m)\n\u001b[1;32m--> 730\u001b[0m sock_and_verified \u001b[38;5;241m=\u001b[39m \u001b[43m_ssl_wrap_socket_and_match_hostname\u001b[49m\u001b[43m(\u001b[49m\n\u001b[0;32m    731\u001b[0m \u001b[43m    \u001b[49m\u001b[43msock\u001b[49m\u001b[38;5;241;43m=\u001b[39;49m\u001b[43msock\u001b[49m\u001b[43m,\u001b[49m\n\u001b[0;32m    732\u001b[0m \u001b[43m    \u001b[49m\u001b[43mcert_reqs\u001b[49m\u001b[38;5;241;43m=\u001b[39;49m\u001b[38;5;28;43mself\u001b[39;49m\u001b[38;5;241;43m.\u001b[39;49m\u001b[43mcert_reqs\u001b[49m\u001b[43m,\u001b[49m\n\u001b[0;32m    733\u001b[0m \u001b[43m    \u001b[49m\u001b[43mssl_version\u001b[49m\u001b[38;5;241;43m=\u001b[39;49m\u001b[38;5;28;43mself\u001b[39;49m\u001b[38;5;241;43m.\u001b[39;49m\u001b[43mssl_version\u001b[49m\u001b[43m,\u001b[49m\n\u001b[0;32m    734\u001b[0m \u001b[43m    \u001b[49m\u001b[43mssl_minimum_version\u001b[49m\u001b[38;5;241;43m=\u001b[39;49m\u001b[38;5;28;43mself\u001b[39;49m\u001b[38;5;241;43m.\u001b[39;49m\u001b[43mssl_minimum_version\u001b[49m\u001b[43m,\u001b[49m\n\u001b[0;32m    735\u001b[0m \u001b[43m    \u001b[49m\u001b[43mssl_maximum_version\u001b[49m\u001b[38;5;241;43m=\u001b[39;49m\u001b[38;5;28;43mself\u001b[39;49m\u001b[38;5;241;43m.\u001b[39;49m\u001b[43mssl_maximum_version\u001b[49m\u001b[43m,\u001b[49m\n\u001b[0;32m    736\u001b[0m \u001b[43m    \u001b[49m\u001b[43mca_certs\u001b[49m\u001b[38;5;241;43m=\u001b[39;49m\u001b[38;5;28;43mself\u001b[39;49m\u001b[38;5;241;43m.\u001b[39;49m\u001b[43mca_certs\u001b[49m\u001b[43m,\u001b[49m\n\u001b[0;32m    737\u001b[0m \u001b[43m    \u001b[49m\u001b[43mca_cert_dir\u001b[49m\u001b[38;5;241;43m=\u001b[39;49m\u001b[38;5;28;43mself\u001b[39;49m\u001b[38;5;241;43m.\u001b[39;49m\u001b[43mca_cert_dir\u001b[49m\u001b[43m,\u001b[49m\n\u001b[0;32m    738\u001b[0m \u001b[43m    \u001b[49m\u001b[43mca_cert_data\u001b[49m\u001b[38;5;241;43m=\u001b[39;49m\u001b[38;5;28;43mself\u001b[39;49m\u001b[38;5;241;43m.\u001b[39;49m\u001b[43mca_cert_data\u001b[49m\u001b[43m,\u001b[49m\n\u001b[0;32m    739\u001b[0m \u001b[43m    \u001b[49m\u001b[43mcert_file\u001b[49m\u001b[38;5;241;43m=\u001b[39;49m\u001b[38;5;28;43mself\u001b[39;49m\u001b[38;5;241;43m.\u001b[39;49m\u001b[43mcert_file\u001b[49m\u001b[43m,\u001b[49m\n\u001b[0;32m    740\u001b[0m \u001b[43m    \u001b[49m\u001b[43mkey_file\u001b[49m\u001b[38;5;241;43m=\u001b[39;49m\u001b[38;5;28;43mself\u001b[39;49m\u001b[38;5;241;43m.\u001b[39;49m\u001b[43mkey_file\u001b[49m\u001b[43m,\u001b[49m\n\u001b[0;32m    741\u001b[0m \u001b[43m    \u001b[49m\u001b[43mkey_password\u001b[49m\u001b[38;5;241;43m=\u001b[39;49m\u001b[38;5;28;43mself\u001b[39;49m\u001b[38;5;241;43m.\u001b[39;49m\u001b[43mkey_password\u001b[49m\u001b[43m,\u001b[49m\n\u001b[0;32m    742\u001b[0m \u001b[43m    \u001b[49m\u001b[43mserver_hostname\u001b[49m\u001b[38;5;241;43m=\u001b[39;49m\u001b[43mserver_hostname_rm_dot\u001b[49m\u001b[43m,\u001b[49m\n\u001b[0;32m    743\u001b[0m \u001b[43m    \u001b[49m\u001b[43mssl_context\u001b[49m\u001b[38;5;241;43m=\u001b[39;49m\u001b[38;5;28;43mself\u001b[39;49m\u001b[38;5;241;43m.\u001b[39;49m\u001b[43mssl_context\u001b[49m\u001b[43m,\u001b[49m\n\u001b[0;32m    744\u001b[0m \u001b[43m    \u001b[49m\u001b[43mtls_in_tls\u001b[49m\u001b[38;5;241;43m=\u001b[39;49m\u001b[43mtls_in_tls\u001b[49m\u001b[43m,\u001b[49m\n\u001b[0;32m    745\u001b[0m \u001b[43m    \u001b[49m\u001b[43massert_hostname\u001b[49m\u001b[38;5;241;43m=\u001b[39;49m\u001b[38;5;28;43mself\u001b[39;49m\u001b[38;5;241;43m.\u001b[39;49m\u001b[43massert_hostname\u001b[49m\u001b[43m,\u001b[49m\n\u001b[0;32m    746\u001b[0m \u001b[43m    \u001b[49m\u001b[43massert_fingerprint\u001b[49m\u001b[38;5;241;43m=\u001b[39;49m\u001b[38;5;28;43mself\u001b[39;49m\u001b[38;5;241;43m.\u001b[39;49m\u001b[43massert_fingerprint\u001b[49m\u001b[43m,\u001b[49m\n\u001b[0;32m    747\u001b[0m \u001b[43m\u001b[49m\u001b[43m)\u001b[49m\n\u001b[0;32m    748\u001b[0m \u001b[38;5;28mself\u001b[39m\u001b[38;5;241m.\u001b[39msock \u001b[38;5;241m=\u001b[39m sock_and_verified\u001b[38;5;241m.\u001b[39msocket\n",
      "File \u001b[1;32m~\\AppData\\Local\\Packages\\PythonSoftwareFoundation.Python.3.12_qbz5n2kfra8p0\\LocalCache\\local-packages\\Python312\\site-packages\\urllib3\\connection.py:909\u001b[0m, in \u001b[0;36m_ssl_wrap_socket_and_match_hostname\u001b[1;34m(sock, cert_reqs, ssl_version, ssl_minimum_version, ssl_maximum_version, cert_file, key_file, key_password, ca_certs, ca_cert_dir, ca_cert_data, assert_hostname, assert_fingerprint, server_hostname, ssl_context, tls_in_tls)\u001b[0m\n\u001b[0;32m    907\u001b[0m         server_hostname \u001b[38;5;241m=\u001b[39m normalized\n\u001b[1;32m--> 909\u001b[0m ssl_sock \u001b[38;5;241m=\u001b[39m \u001b[43mssl_wrap_socket\u001b[49m\u001b[43m(\u001b[49m\n\u001b[0;32m    910\u001b[0m \u001b[43m    \u001b[49m\u001b[43msock\u001b[49m\u001b[38;5;241;43m=\u001b[39;49m\u001b[43msock\u001b[49m\u001b[43m,\u001b[49m\n\u001b[0;32m    911\u001b[0m \u001b[43m    \u001b[49m\u001b[43mkeyfile\u001b[49m\u001b[38;5;241;43m=\u001b[39;49m\u001b[43mkey_file\u001b[49m\u001b[43m,\u001b[49m\n\u001b[0;32m    912\u001b[0m \u001b[43m    \u001b[49m\u001b[43mcertfile\u001b[49m\u001b[38;5;241;43m=\u001b[39;49m\u001b[43mcert_file\u001b[49m\u001b[43m,\u001b[49m\n\u001b[0;32m    913\u001b[0m \u001b[43m    \u001b[49m\u001b[43mkey_password\u001b[49m\u001b[38;5;241;43m=\u001b[39;49m\u001b[43mkey_password\u001b[49m\u001b[43m,\u001b[49m\n\u001b[0;32m    914\u001b[0m \u001b[43m    \u001b[49m\u001b[43mca_certs\u001b[49m\u001b[38;5;241;43m=\u001b[39;49m\u001b[43mca_certs\u001b[49m\u001b[43m,\u001b[49m\n\u001b[0;32m    915\u001b[0m \u001b[43m    \u001b[49m\u001b[43mca_cert_dir\u001b[49m\u001b[38;5;241;43m=\u001b[39;49m\u001b[43mca_cert_dir\u001b[49m\u001b[43m,\u001b[49m\n\u001b[0;32m    916\u001b[0m \u001b[43m    \u001b[49m\u001b[43mca_cert_data\u001b[49m\u001b[38;5;241;43m=\u001b[39;49m\u001b[43mca_cert_data\u001b[49m\u001b[43m,\u001b[49m\n\u001b[0;32m    917\u001b[0m \u001b[43m    \u001b[49m\u001b[43mserver_hostname\u001b[49m\u001b[38;5;241;43m=\u001b[39;49m\u001b[43mserver_hostname\u001b[49m\u001b[43m,\u001b[49m\n\u001b[0;32m    918\u001b[0m \u001b[43m    \u001b[49m\u001b[43mssl_context\u001b[49m\u001b[38;5;241;43m=\u001b[39;49m\u001b[43mcontext\u001b[49m\u001b[43m,\u001b[49m\n\u001b[0;32m    919\u001b[0m \u001b[43m    \u001b[49m\u001b[43mtls_in_tls\u001b[49m\u001b[38;5;241;43m=\u001b[39;49m\u001b[43mtls_in_tls\u001b[49m\u001b[43m,\u001b[49m\n\u001b[0;32m    920\u001b[0m \u001b[43m\u001b[49m\u001b[43m)\u001b[49m\n\u001b[0;32m    922\u001b[0m \u001b[38;5;28;01mtry\u001b[39;00m:\n",
      "File \u001b[1;32m~\\AppData\\Local\\Packages\\PythonSoftwareFoundation.Python.3.12_qbz5n2kfra8p0\\LocalCache\\local-packages\\Python312\\site-packages\\urllib3\\util\\ssl_.py:469\u001b[0m, in \u001b[0;36mssl_wrap_socket\u001b[1;34m(sock, keyfile, certfile, cert_reqs, ca_certs, server_hostname, ssl_version, ciphers, ssl_context, ca_cert_dir, key_password, ca_cert_data, tls_in_tls)\u001b[0m\n\u001b[0;32m    467\u001b[0m context\u001b[38;5;241m.\u001b[39mset_alpn_protocols(ALPN_PROTOCOLS)\n\u001b[1;32m--> 469\u001b[0m ssl_sock \u001b[38;5;241m=\u001b[39m \u001b[43m_ssl_wrap_socket_impl\u001b[49m\u001b[43m(\u001b[49m\u001b[43msock\u001b[49m\u001b[43m,\u001b[49m\u001b[43m \u001b[49m\u001b[43mcontext\u001b[49m\u001b[43m,\u001b[49m\u001b[43m \u001b[49m\u001b[43mtls_in_tls\u001b[49m\u001b[43m,\u001b[49m\u001b[43m \u001b[49m\u001b[43mserver_hostname\u001b[49m\u001b[43m)\u001b[49m\n\u001b[0;32m    470\u001b[0m \u001b[38;5;28;01mreturn\u001b[39;00m ssl_sock\n",
      "File \u001b[1;32m~\\AppData\\Local\\Packages\\PythonSoftwareFoundation.Python.3.12_qbz5n2kfra8p0\\LocalCache\\local-packages\\Python312\\site-packages\\urllib3\\util\\ssl_.py:513\u001b[0m, in \u001b[0;36m_ssl_wrap_socket_impl\u001b[1;34m(sock, ssl_context, tls_in_tls, server_hostname)\u001b[0m\n\u001b[0;32m    511\u001b[0m     \u001b[38;5;28;01mreturn\u001b[39;00m SSLTransport(sock, ssl_context, server_hostname)\n\u001b[1;32m--> 513\u001b[0m \u001b[38;5;28;01mreturn\u001b[39;00m \u001b[43mssl_context\u001b[49m\u001b[38;5;241;43m.\u001b[39;49m\u001b[43mwrap_socket\u001b[49m\u001b[43m(\u001b[49m\u001b[43msock\u001b[49m\u001b[43m,\u001b[49m\u001b[43m \u001b[49m\u001b[43mserver_hostname\u001b[49m\u001b[38;5;241;43m=\u001b[39;49m\u001b[43mserver_hostname\u001b[49m\u001b[43m)\u001b[49m\n",
      "File \u001b[1;32mC:\\Program Files\\WindowsApps\\PythonSoftwareFoundation.Python.3.12_3.12.2032.0_x64__qbz5n2kfra8p0\\Lib\\ssl.py:455\u001b[0m, in \u001b[0;36mSSLContext.wrap_socket\u001b[1;34m(self, sock, server_side, do_handshake_on_connect, suppress_ragged_eofs, server_hostname, session)\u001b[0m\n\u001b[0;32m    449\u001b[0m \u001b[38;5;28;01mdef\u001b[39;00m \u001b[38;5;21mwrap_socket\u001b[39m(\u001b[38;5;28mself\u001b[39m, sock, server_side\u001b[38;5;241m=\u001b[39m\u001b[38;5;28;01mFalse\u001b[39;00m,\n\u001b[0;32m    450\u001b[0m                 do_handshake_on_connect\u001b[38;5;241m=\u001b[39m\u001b[38;5;28;01mTrue\u001b[39;00m,\n\u001b[0;32m    451\u001b[0m                 suppress_ragged_eofs\u001b[38;5;241m=\u001b[39m\u001b[38;5;28;01mTrue\u001b[39;00m,\n\u001b[0;32m    452\u001b[0m                 server_hostname\u001b[38;5;241m=\u001b[39m\u001b[38;5;28;01mNone\u001b[39;00m, session\u001b[38;5;241m=\u001b[39m\u001b[38;5;28;01mNone\u001b[39;00m):\n\u001b[0;32m    453\u001b[0m     \u001b[38;5;66;03m# SSLSocket class handles server_hostname encoding before it calls\u001b[39;00m\n\u001b[0;32m    454\u001b[0m     \u001b[38;5;66;03m# ctx._wrap_socket()\u001b[39;00m\n\u001b[1;32m--> 455\u001b[0m     \u001b[38;5;28;01mreturn\u001b[39;00m \u001b[38;5;28;43mself\u001b[39;49m\u001b[38;5;241;43m.\u001b[39;49m\u001b[43msslsocket_class\u001b[49m\u001b[38;5;241;43m.\u001b[39;49m\u001b[43m_create\u001b[49m\u001b[43m(\u001b[49m\n\u001b[0;32m    456\u001b[0m \u001b[43m        \u001b[49m\u001b[43msock\u001b[49m\u001b[38;5;241;43m=\u001b[39;49m\u001b[43msock\u001b[49m\u001b[43m,\u001b[49m\n\u001b[0;32m    457\u001b[0m \u001b[43m        \u001b[49m\u001b[43mserver_side\u001b[49m\u001b[38;5;241;43m=\u001b[39;49m\u001b[43mserver_side\u001b[49m\u001b[43m,\u001b[49m\n\u001b[0;32m    458\u001b[0m \u001b[43m        \u001b[49m\u001b[43mdo_handshake_on_connect\u001b[49m\u001b[38;5;241;43m=\u001b[39;49m\u001b[43mdo_handshake_on_connect\u001b[49m\u001b[43m,\u001b[49m\n\u001b[0;32m    459\u001b[0m \u001b[43m        \u001b[49m\u001b[43msuppress_ragged_eofs\u001b[49m\u001b[38;5;241;43m=\u001b[39;49m\u001b[43msuppress_ragged_eofs\u001b[49m\u001b[43m,\u001b[49m\n\u001b[0;32m    460\u001b[0m \u001b[43m        \u001b[49m\u001b[43mserver_hostname\u001b[49m\u001b[38;5;241;43m=\u001b[39;49m\u001b[43mserver_hostname\u001b[49m\u001b[43m,\u001b[49m\n\u001b[0;32m    461\u001b[0m \u001b[43m        \u001b[49m\u001b[43mcontext\u001b[49m\u001b[38;5;241;43m=\u001b[39;49m\u001b[38;5;28;43mself\u001b[39;49m\u001b[43m,\u001b[49m\n\u001b[0;32m    462\u001b[0m \u001b[43m        \u001b[49m\u001b[43msession\u001b[49m\u001b[38;5;241;43m=\u001b[39;49m\u001b[43msession\u001b[49m\n\u001b[0;32m    463\u001b[0m \u001b[43m    \u001b[49m\u001b[43m)\u001b[49m\n",
      "File \u001b[1;32mC:\\Program Files\\WindowsApps\\PythonSoftwareFoundation.Python.3.12_3.12.2032.0_x64__qbz5n2kfra8p0\\Lib\\ssl.py:1041\u001b[0m, in \u001b[0;36mSSLSocket._create\u001b[1;34m(cls, sock, server_side, do_handshake_on_connect, suppress_ragged_eofs, server_hostname, context, session)\u001b[0m\n\u001b[0;32m   1040\u001b[0m                 \u001b[38;5;28;01mraise\u001b[39;00m \u001b[38;5;167;01mValueError\u001b[39;00m(\u001b[38;5;124m\"\u001b[39m\u001b[38;5;124mdo_handshake_on_connect should not be specified for non-blocking sockets\u001b[39m\u001b[38;5;124m\"\u001b[39m)\n\u001b[1;32m-> 1041\u001b[0m             \u001b[38;5;28;43mself\u001b[39;49m\u001b[38;5;241;43m.\u001b[39;49m\u001b[43mdo_handshake\u001b[49m\u001b[43m(\u001b[49m\u001b[43m)\u001b[49m\n\u001b[0;32m   1042\u001b[0m \u001b[38;5;28;01mexcept\u001b[39;00m:\n",
      "File \u001b[1;32mC:\\Program Files\\WindowsApps\\PythonSoftwareFoundation.Python.3.12_3.12.2032.0_x64__qbz5n2kfra8p0\\Lib\\ssl.py:1319\u001b[0m, in \u001b[0;36mSSLSocket.do_handshake\u001b[1;34m(self, block)\u001b[0m\n\u001b[0;32m   1318\u001b[0m         \u001b[38;5;28mself\u001b[39m\u001b[38;5;241m.\u001b[39msettimeout(\u001b[38;5;28;01mNone\u001b[39;00m)\n\u001b[1;32m-> 1319\u001b[0m     \u001b[38;5;28;43mself\u001b[39;49m\u001b[38;5;241;43m.\u001b[39;49m\u001b[43m_sslobj\u001b[49m\u001b[38;5;241;43m.\u001b[39;49m\u001b[43mdo_handshake\u001b[49m\u001b[43m(\u001b[49m\u001b[43m)\u001b[49m\n\u001b[0;32m   1320\u001b[0m \u001b[38;5;28;01mfinally\u001b[39;00m:\n",
      "\u001b[1;31mSSLCertVerificationError\u001b[0m: [SSL: CERTIFICATE_VERIFY_FAILED] certificate verify failed: unable to get local issuer certificate (_ssl.c:1000)",
      "\nDuring handling of the above exception, another exception occurred:\n",
      "\u001b[1;31mSSLError\u001b[0m                                  Traceback (most recent call last)",
      "File \u001b[1;32m~\\AppData\\Local\\Packages\\PythonSoftwareFoundation.Python.3.12_qbz5n2kfra8p0\\LocalCache\\local-packages\\Python312\\site-packages\\urllib3\\connectionpool.py:789\u001b[0m, in \u001b[0;36mHTTPConnectionPool.urlopen\u001b[1;34m(self, method, url, body, headers, retries, redirect, assert_same_host, timeout, pool_timeout, release_conn, chunked, body_pos, preload_content, decode_content, **response_kw)\u001b[0m\n\u001b[0;32m    788\u001b[0m \u001b[38;5;66;03m# Make the request on the HTTPConnection object\u001b[39;00m\n\u001b[1;32m--> 789\u001b[0m response \u001b[38;5;241m=\u001b[39m \u001b[38;5;28;43mself\u001b[39;49m\u001b[38;5;241;43m.\u001b[39;49m\u001b[43m_make_request\u001b[49m\u001b[43m(\u001b[49m\n\u001b[0;32m    790\u001b[0m \u001b[43m    \u001b[49m\u001b[43mconn\u001b[49m\u001b[43m,\u001b[49m\n\u001b[0;32m    791\u001b[0m \u001b[43m    \u001b[49m\u001b[43mmethod\u001b[49m\u001b[43m,\u001b[49m\n\u001b[0;32m    792\u001b[0m \u001b[43m    \u001b[49m\u001b[43murl\u001b[49m\u001b[43m,\u001b[49m\n\u001b[0;32m    793\u001b[0m \u001b[43m    \u001b[49m\u001b[43mtimeout\u001b[49m\u001b[38;5;241;43m=\u001b[39;49m\u001b[43mtimeout_obj\u001b[49m\u001b[43m,\u001b[49m\n\u001b[0;32m    794\u001b[0m \u001b[43m    \u001b[49m\u001b[43mbody\u001b[49m\u001b[38;5;241;43m=\u001b[39;49m\u001b[43mbody\u001b[49m\u001b[43m,\u001b[49m\n\u001b[0;32m    795\u001b[0m \u001b[43m    \u001b[49m\u001b[43mheaders\u001b[49m\u001b[38;5;241;43m=\u001b[39;49m\u001b[43mheaders\u001b[49m\u001b[43m,\u001b[49m\n\u001b[0;32m    796\u001b[0m \u001b[43m    \u001b[49m\u001b[43mchunked\u001b[49m\u001b[38;5;241;43m=\u001b[39;49m\u001b[43mchunked\u001b[49m\u001b[43m,\u001b[49m\n\u001b[0;32m    797\u001b[0m \u001b[43m    \u001b[49m\u001b[43mretries\u001b[49m\u001b[38;5;241;43m=\u001b[39;49m\u001b[43mretries\u001b[49m\u001b[43m,\u001b[49m\n\u001b[0;32m    798\u001b[0m \u001b[43m    \u001b[49m\u001b[43mresponse_conn\u001b[49m\u001b[38;5;241;43m=\u001b[39;49m\u001b[43mresponse_conn\u001b[49m\u001b[43m,\u001b[49m\n\u001b[0;32m    799\u001b[0m \u001b[43m    \u001b[49m\u001b[43mpreload_content\u001b[49m\u001b[38;5;241;43m=\u001b[39;49m\u001b[43mpreload_content\u001b[49m\u001b[43m,\u001b[49m\n\u001b[0;32m    800\u001b[0m \u001b[43m    \u001b[49m\u001b[43mdecode_content\u001b[49m\u001b[38;5;241;43m=\u001b[39;49m\u001b[43mdecode_content\u001b[49m\u001b[43m,\u001b[49m\n\u001b[0;32m    801\u001b[0m \u001b[43m    \u001b[49m\u001b[38;5;241;43m*\u001b[39;49m\u001b[38;5;241;43m*\u001b[39;49m\u001b[43mresponse_kw\u001b[49m\u001b[43m,\u001b[49m\n\u001b[0;32m    802\u001b[0m \u001b[43m\u001b[49m\u001b[43m)\u001b[49m\n\u001b[0;32m    804\u001b[0m \u001b[38;5;66;03m# Everything went great!\u001b[39;00m\n",
      "File \u001b[1;32m~\\AppData\\Local\\Packages\\PythonSoftwareFoundation.Python.3.12_qbz5n2kfra8p0\\LocalCache\\local-packages\\Python312\\site-packages\\urllib3\\connectionpool.py:490\u001b[0m, in \u001b[0;36mHTTPConnectionPool._make_request\u001b[1;34m(self, conn, method, url, body, headers, retries, timeout, chunked, response_conn, preload_content, decode_content, enforce_content_length)\u001b[0m\n\u001b[0;32m    489\u001b[0m         new_e \u001b[38;5;241m=\u001b[39m _wrap_proxy_error(new_e, conn\u001b[38;5;241m.\u001b[39mproxy\u001b[38;5;241m.\u001b[39mscheme)\n\u001b[1;32m--> 490\u001b[0m     \u001b[38;5;28;01mraise\u001b[39;00m new_e\n\u001b[0;32m    492\u001b[0m \u001b[38;5;66;03m# conn.request() calls http.client.*.request, not the method in\u001b[39;00m\n\u001b[0;32m    493\u001b[0m \u001b[38;5;66;03m# urllib3.request. It also calls makefile (recv) on the socket.\u001b[39;00m\n",
      "\u001b[1;31mSSLError\u001b[0m: [SSL: CERTIFICATE_VERIFY_FAILED] certificate verify failed: unable to get local issuer certificate (_ssl.c:1000)",
      "\nThe above exception was the direct cause of the following exception:\n",
      "\u001b[1;31mMaxRetryError\u001b[0m                             Traceback (most recent call last)",
      "File \u001b[1;32m~\\AppData\\Local\\Packages\\PythonSoftwareFoundation.Python.3.12_qbz5n2kfra8p0\\LocalCache\\local-packages\\Python312\\site-packages\\requests\\adapters.py:667\u001b[0m, in \u001b[0;36mHTTPAdapter.send\u001b[1;34m(self, request, stream, timeout, verify, cert, proxies)\u001b[0m\n\u001b[0;32m    666\u001b[0m \u001b[38;5;28;01mtry\u001b[39;00m:\n\u001b[1;32m--> 667\u001b[0m     resp \u001b[38;5;241m=\u001b[39m \u001b[43mconn\u001b[49m\u001b[38;5;241;43m.\u001b[39;49m\u001b[43murlopen\u001b[49m\u001b[43m(\u001b[49m\n\u001b[0;32m    668\u001b[0m \u001b[43m        \u001b[49m\u001b[43mmethod\u001b[49m\u001b[38;5;241;43m=\u001b[39;49m\u001b[43mrequest\u001b[49m\u001b[38;5;241;43m.\u001b[39;49m\u001b[43mmethod\u001b[49m\u001b[43m,\u001b[49m\n\u001b[0;32m    669\u001b[0m \u001b[43m        \u001b[49m\u001b[43murl\u001b[49m\u001b[38;5;241;43m=\u001b[39;49m\u001b[43murl\u001b[49m\u001b[43m,\u001b[49m\n\u001b[0;32m    670\u001b[0m \u001b[43m        \u001b[49m\u001b[43mbody\u001b[49m\u001b[38;5;241;43m=\u001b[39;49m\u001b[43mrequest\u001b[49m\u001b[38;5;241;43m.\u001b[39;49m\u001b[43mbody\u001b[49m\u001b[43m,\u001b[49m\n\u001b[0;32m    671\u001b[0m \u001b[43m        \u001b[49m\u001b[43mheaders\u001b[49m\u001b[38;5;241;43m=\u001b[39;49m\u001b[43mrequest\u001b[49m\u001b[38;5;241;43m.\u001b[39;49m\u001b[43mheaders\u001b[49m\u001b[43m,\u001b[49m\n\u001b[0;32m    672\u001b[0m \u001b[43m        \u001b[49m\u001b[43mredirect\u001b[49m\u001b[38;5;241;43m=\u001b[39;49m\u001b[38;5;28;43;01mFalse\u001b[39;49;00m\u001b[43m,\u001b[49m\n\u001b[0;32m    673\u001b[0m \u001b[43m        \u001b[49m\u001b[43massert_same_host\u001b[49m\u001b[38;5;241;43m=\u001b[39;49m\u001b[38;5;28;43;01mFalse\u001b[39;49;00m\u001b[43m,\u001b[49m\n\u001b[0;32m    674\u001b[0m \u001b[43m        \u001b[49m\u001b[43mpreload_content\u001b[49m\u001b[38;5;241;43m=\u001b[39;49m\u001b[38;5;28;43;01mFalse\u001b[39;49;00m\u001b[43m,\u001b[49m\n\u001b[0;32m    675\u001b[0m \u001b[43m        \u001b[49m\u001b[43mdecode_content\u001b[49m\u001b[38;5;241;43m=\u001b[39;49m\u001b[38;5;28;43;01mFalse\u001b[39;49;00m\u001b[43m,\u001b[49m\n\u001b[0;32m    676\u001b[0m \u001b[43m        \u001b[49m\u001b[43mretries\u001b[49m\u001b[38;5;241;43m=\u001b[39;49m\u001b[38;5;28;43mself\u001b[39;49m\u001b[38;5;241;43m.\u001b[39;49m\u001b[43mmax_retries\u001b[49m\u001b[43m,\u001b[49m\n\u001b[0;32m    677\u001b[0m \u001b[43m        \u001b[49m\u001b[43mtimeout\u001b[49m\u001b[38;5;241;43m=\u001b[39;49m\u001b[43mtimeout\u001b[49m\u001b[43m,\u001b[49m\n\u001b[0;32m    678\u001b[0m \u001b[43m        \u001b[49m\u001b[43mchunked\u001b[49m\u001b[38;5;241;43m=\u001b[39;49m\u001b[43mchunked\u001b[49m\u001b[43m,\u001b[49m\n\u001b[0;32m    679\u001b[0m \u001b[43m    \u001b[49m\u001b[43m)\u001b[49m\n\u001b[0;32m    681\u001b[0m \u001b[38;5;28;01mexcept\u001b[39;00m (ProtocolError, \u001b[38;5;167;01mOSError\u001b[39;00m) \u001b[38;5;28;01mas\u001b[39;00m err:\n",
      "File \u001b[1;32m~\\AppData\\Local\\Packages\\PythonSoftwareFoundation.Python.3.12_qbz5n2kfra8p0\\LocalCache\\local-packages\\Python312\\site-packages\\urllib3\\connectionpool.py:843\u001b[0m, in \u001b[0;36mHTTPConnectionPool.urlopen\u001b[1;34m(self, method, url, body, headers, retries, redirect, assert_same_host, timeout, pool_timeout, release_conn, chunked, body_pos, preload_content, decode_content, **response_kw)\u001b[0m\n\u001b[0;32m    841\u001b[0m     new_e \u001b[38;5;241m=\u001b[39m ProtocolError(\u001b[38;5;124m\"\u001b[39m\u001b[38;5;124mConnection aborted.\u001b[39m\u001b[38;5;124m\"\u001b[39m, new_e)\n\u001b[1;32m--> 843\u001b[0m retries \u001b[38;5;241m=\u001b[39m \u001b[43mretries\u001b[49m\u001b[38;5;241;43m.\u001b[39;49m\u001b[43mincrement\u001b[49m\u001b[43m(\u001b[49m\n\u001b[0;32m    844\u001b[0m \u001b[43m    \u001b[49m\u001b[43mmethod\u001b[49m\u001b[43m,\u001b[49m\u001b[43m \u001b[49m\u001b[43murl\u001b[49m\u001b[43m,\u001b[49m\u001b[43m \u001b[49m\u001b[43merror\u001b[49m\u001b[38;5;241;43m=\u001b[39;49m\u001b[43mnew_e\u001b[49m\u001b[43m,\u001b[49m\u001b[43m \u001b[49m\u001b[43m_pool\u001b[49m\u001b[38;5;241;43m=\u001b[39;49m\u001b[38;5;28;43mself\u001b[39;49m\u001b[43m,\u001b[49m\u001b[43m \u001b[49m\u001b[43m_stacktrace\u001b[49m\u001b[38;5;241;43m=\u001b[39;49m\u001b[43msys\u001b[49m\u001b[38;5;241;43m.\u001b[39;49m\u001b[43mexc_info\u001b[49m\u001b[43m(\u001b[49m\u001b[43m)\u001b[49m\u001b[43m[\u001b[49m\u001b[38;5;241;43m2\u001b[39;49m\u001b[43m]\u001b[49m\n\u001b[0;32m    845\u001b[0m \u001b[43m\u001b[49m\u001b[43m)\u001b[49m\n\u001b[0;32m    846\u001b[0m retries\u001b[38;5;241m.\u001b[39msleep()\n",
      "File \u001b[1;32m~\\AppData\\Local\\Packages\\PythonSoftwareFoundation.Python.3.12_qbz5n2kfra8p0\\LocalCache\\local-packages\\Python312\\site-packages\\urllib3\\util\\retry.py:519\u001b[0m, in \u001b[0;36mRetry.increment\u001b[1;34m(self, method, url, response, error, _pool, _stacktrace)\u001b[0m\n\u001b[0;32m    518\u001b[0m     reason \u001b[38;5;241m=\u001b[39m error \u001b[38;5;129;01mor\u001b[39;00m ResponseError(cause)\n\u001b[1;32m--> 519\u001b[0m     \u001b[38;5;28;01mraise\u001b[39;00m MaxRetryError(_pool, url, reason) \u001b[38;5;28;01mfrom\u001b[39;00m \u001b[38;5;21;01mreason\u001b[39;00m  \u001b[38;5;66;03m# type: ignore[arg-type]\u001b[39;00m\n\u001b[0;32m    521\u001b[0m log\u001b[38;5;241m.\u001b[39mdebug(\u001b[38;5;124m\"\u001b[39m\u001b[38;5;124mIncremented Retry for (url=\u001b[39m\u001b[38;5;124m'\u001b[39m\u001b[38;5;132;01m%s\u001b[39;00m\u001b[38;5;124m'\u001b[39m\u001b[38;5;124m): \u001b[39m\u001b[38;5;132;01m%r\u001b[39;00m\u001b[38;5;124m\"\u001b[39m, url, new_retry)\n",
      "\u001b[1;31mMaxRetryError\u001b[0m: HTTPSConnectionPool(host='www.ideam.gov.co', port=443): Max retries exceeded with url: /datos-meteorologicos?codigo=2502000077 (Caused by SSLError(SSLCertVerificationError(1, '[SSL: CERTIFICATE_VERIFY_FAILED] certificate verify failed: unable to get local issuer certificate (_ssl.c:1000)')))",
      "\nDuring handling of the above exception, another exception occurred:\n",
      "\u001b[1;31mSSLError\u001b[0m                                  Traceback (most recent call last)",
      "Cell \u001b[1;32mIn[8], line 17\u001b[0m\n\u001b[0;32m     13\u001b[0m \u001b[38;5;66;03m# Realizar la solicitud HTTP\u001b[39;00m\n\u001b[0;32m     14\u001b[0m headers \u001b[38;5;241m=\u001b[39m {\n\u001b[0;32m     15\u001b[0m     \u001b[38;5;124m\"\u001b[39m\u001b[38;5;124mUser-Agent\u001b[39m\u001b[38;5;124m\"\u001b[39m: \u001b[38;5;124m\"\u001b[39m\u001b[38;5;124mMozilla/5.0 (Windows NT 10.0; Win64; x64) AppleWebKit/537.36 (KHTML, like Gecko) Chrome/115.0.0.0 Safari/537.36\u001b[39m\u001b[38;5;124m\"\u001b[39m\n\u001b[0;32m     16\u001b[0m }\n\u001b[1;32m---> 17\u001b[0m response \u001b[38;5;241m=\u001b[39m \u001b[43mrequests\u001b[49m\u001b[38;5;241;43m.\u001b[39;49m\u001b[43mget\u001b[49m\u001b[43m(\u001b[49m\u001b[43murl_estacion\u001b[49m\u001b[43m,\u001b[49m\u001b[43m \u001b[49m\u001b[43mheaders\u001b[49m\u001b[38;5;241;43m=\u001b[39;49m\u001b[43mheaders\u001b[49m\u001b[43m)\u001b[49m\n\u001b[0;32m     19\u001b[0m \u001b[38;5;66;03m# Verificar si la solicitud fue exitosa\u001b[39;00m\n\u001b[0;32m     20\u001b[0m \u001b[38;5;28;01mif\u001b[39;00m response\u001b[38;5;241m.\u001b[39mstatus_code \u001b[38;5;241m==\u001b[39m \u001b[38;5;241m200\u001b[39m:\n\u001b[0;32m     21\u001b[0m     \u001b[38;5;66;03m# Analizar el contenido HTML\u001b[39;00m\n",
      "File \u001b[1;32m~\\AppData\\Local\\Packages\\PythonSoftwareFoundation.Python.3.12_qbz5n2kfra8p0\\LocalCache\\local-packages\\Python312\\site-packages\\requests\\api.py:73\u001b[0m, in \u001b[0;36mget\u001b[1;34m(url, params, **kwargs)\u001b[0m\n\u001b[0;32m     62\u001b[0m \u001b[38;5;28;01mdef\u001b[39;00m \u001b[38;5;21mget\u001b[39m(url, params\u001b[38;5;241m=\u001b[39m\u001b[38;5;28;01mNone\u001b[39;00m, \u001b[38;5;241m*\u001b[39m\u001b[38;5;241m*\u001b[39mkwargs):\n\u001b[0;32m     63\u001b[0m \u001b[38;5;250m    \u001b[39m\u001b[38;5;124mr\u001b[39m\u001b[38;5;124;03m\"\"\"Sends a GET request.\u001b[39;00m\n\u001b[0;32m     64\u001b[0m \n\u001b[0;32m     65\u001b[0m \u001b[38;5;124;03m    :param url: URL for the new :class:`Request` object.\u001b[39;00m\n\u001b[1;32m   (...)\u001b[0m\n\u001b[0;32m     70\u001b[0m \u001b[38;5;124;03m    :rtype: requests.Response\u001b[39;00m\n\u001b[0;32m     71\u001b[0m \u001b[38;5;124;03m    \"\"\"\u001b[39;00m\n\u001b[1;32m---> 73\u001b[0m     \u001b[38;5;28;01mreturn\u001b[39;00m \u001b[43mrequest\u001b[49m\u001b[43m(\u001b[49m\u001b[38;5;124;43m\"\u001b[39;49m\u001b[38;5;124;43mget\u001b[39;49m\u001b[38;5;124;43m\"\u001b[39;49m\u001b[43m,\u001b[49m\u001b[43m \u001b[49m\u001b[43murl\u001b[49m\u001b[43m,\u001b[49m\u001b[43m \u001b[49m\u001b[43mparams\u001b[49m\u001b[38;5;241;43m=\u001b[39;49m\u001b[43mparams\u001b[49m\u001b[43m,\u001b[49m\u001b[43m \u001b[49m\u001b[38;5;241;43m*\u001b[39;49m\u001b[38;5;241;43m*\u001b[39;49m\u001b[43mkwargs\u001b[49m\u001b[43m)\u001b[49m\n",
      "File \u001b[1;32m~\\AppData\\Local\\Packages\\PythonSoftwareFoundation.Python.3.12_qbz5n2kfra8p0\\LocalCache\\local-packages\\Python312\\site-packages\\requests\\api.py:59\u001b[0m, in \u001b[0;36mrequest\u001b[1;34m(method, url, **kwargs)\u001b[0m\n\u001b[0;32m     55\u001b[0m \u001b[38;5;66;03m# By using the 'with' statement we are sure the session is closed, thus we\u001b[39;00m\n\u001b[0;32m     56\u001b[0m \u001b[38;5;66;03m# avoid leaving sockets open which can trigger a ResourceWarning in some\u001b[39;00m\n\u001b[0;32m     57\u001b[0m \u001b[38;5;66;03m# cases, and look like a memory leak in others.\u001b[39;00m\n\u001b[0;32m     58\u001b[0m \u001b[38;5;28;01mwith\u001b[39;00m sessions\u001b[38;5;241m.\u001b[39mSession() \u001b[38;5;28;01mas\u001b[39;00m session:\n\u001b[1;32m---> 59\u001b[0m     \u001b[38;5;28;01mreturn\u001b[39;00m \u001b[43msession\u001b[49m\u001b[38;5;241;43m.\u001b[39;49m\u001b[43mrequest\u001b[49m\u001b[43m(\u001b[49m\u001b[43mmethod\u001b[49m\u001b[38;5;241;43m=\u001b[39;49m\u001b[43mmethod\u001b[49m\u001b[43m,\u001b[49m\u001b[43m \u001b[49m\u001b[43murl\u001b[49m\u001b[38;5;241;43m=\u001b[39;49m\u001b[43murl\u001b[49m\u001b[43m,\u001b[49m\u001b[43m \u001b[49m\u001b[38;5;241;43m*\u001b[39;49m\u001b[38;5;241;43m*\u001b[39;49m\u001b[43mkwargs\u001b[49m\u001b[43m)\u001b[49m\n",
      "File \u001b[1;32m~\\AppData\\Local\\Packages\\PythonSoftwareFoundation.Python.3.12_qbz5n2kfra8p0\\LocalCache\\local-packages\\Python312\\site-packages\\requests\\sessions.py:589\u001b[0m, in \u001b[0;36mSession.request\u001b[1;34m(self, method, url, params, data, headers, cookies, files, auth, timeout, allow_redirects, proxies, hooks, stream, verify, cert, json)\u001b[0m\n\u001b[0;32m    584\u001b[0m send_kwargs \u001b[38;5;241m=\u001b[39m {\n\u001b[0;32m    585\u001b[0m     \u001b[38;5;124m\"\u001b[39m\u001b[38;5;124mtimeout\u001b[39m\u001b[38;5;124m\"\u001b[39m: timeout,\n\u001b[0;32m    586\u001b[0m     \u001b[38;5;124m\"\u001b[39m\u001b[38;5;124mallow_redirects\u001b[39m\u001b[38;5;124m\"\u001b[39m: allow_redirects,\n\u001b[0;32m    587\u001b[0m }\n\u001b[0;32m    588\u001b[0m send_kwargs\u001b[38;5;241m.\u001b[39mupdate(settings)\n\u001b[1;32m--> 589\u001b[0m resp \u001b[38;5;241m=\u001b[39m \u001b[38;5;28;43mself\u001b[39;49m\u001b[38;5;241;43m.\u001b[39;49m\u001b[43msend\u001b[49m\u001b[43m(\u001b[49m\u001b[43mprep\u001b[49m\u001b[43m,\u001b[49m\u001b[43m \u001b[49m\u001b[38;5;241;43m*\u001b[39;49m\u001b[38;5;241;43m*\u001b[39;49m\u001b[43msend_kwargs\u001b[49m\u001b[43m)\u001b[49m\n\u001b[0;32m    591\u001b[0m \u001b[38;5;28;01mreturn\u001b[39;00m resp\n",
      "File \u001b[1;32m~\\AppData\\Local\\Packages\\PythonSoftwareFoundation.Python.3.12_qbz5n2kfra8p0\\LocalCache\\local-packages\\Python312\\site-packages\\requests\\sessions.py:703\u001b[0m, in \u001b[0;36mSession.send\u001b[1;34m(self, request, **kwargs)\u001b[0m\n\u001b[0;32m    700\u001b[0m start \u001b[38;5;241m=\u001b[39m preferred_clock()\n\u001b[0;32m    702\u001b[0m \u001b[38;5;66;03m# Send the request\u001b[39;00m\n\u001b[1;32m--> 703\u001b[0m r \u001b[38;5;241m=\u001b[39m \u001b[43madapter\u001b[49m\u001b[38;5;241;43m.\u001b[39;49m\u001b[43msend\u001b[49m\u001b[43m(\u001b[49m\u001b[43mrequest\u001b[49m\u001b[43m,\u001b[49m\u001b[43m \u001b[49m\u001b[38;5;241;43m*\u001b[39;49m\u001b[38;5;241;43m*\u001b[39;49m\u001b[43mkwargs\u001b[49m\u001b[43m)\u001b[49m\n\u001b[0;32m    705\u001b[0m \u001b[38;5;66;03m# Total elapsed time of the request (approximately)\u001b[39;00m\n\u001b[0;32m    706\u001b[0m elapsed \u001b[38;5;241m=\u001b[39m preferred_clock() \u001b[38;5;241m-\u001b[39m start\n",
      "File \u001b[1;32m~\\AppData\\Local\\Packages\\PythonSoftwareFoundation.Python.3.12_qbz5n2kfra8p0\\LocalCache\\local-packages\\Python312\\site-packages\\requests\\adapters.py:698\u001b[0m, in \u001b[0;36mHTTPAdapter.send\u001b[1;34m(self, request, stream, timeout, verify, cert, proxies)\u001b[0m\n\u001b[0;32m    694\u001b[0m         \u001b[38;5;28;01mraise\u001b[39;00m ProxyError(e, request\u001b[38;5;241m=\u001b[39mrequest)\n\u001b[0;32m    696\u001b[0m     \u001b[38;5;28;01mif\u001b[39;00m \u001b[38;5;28misinstance\u001b[39m(e\u001b[38;5;241m.\u001b[39mreason, _SSLError):\n\u001b[0;32m    697\u001b[0m         \u001b[38;5;66;03m# This branch is for urllib3 v1.22 and later.\u001b[39;00m\n\u001b[1;32m--> 698\u001b[0m         \u001b[38;5;28;01mraise\u001b[39;00m SSLError(e, request\u001b[38;5;241m=\u001b[39mrequest)\n\u001b[0;32m    700\u001b[0m     \u001b[38;5;28;01mraise\u001b[39;00m \u001b[38;5;167;01mConnectionError\u001b[39;00m(e, request\u001b[38;5;241m=\u001b[39mrequest)\n\u001b[0;32m    702\u001b[0m \u001b[38;5;28;01mexcept\u001b[39;00m ClosedPoolError \u001b[38;5;28;01mas\u001b[39;00m e:\n",
      "\u001b[1;31mSSLError\u001b[0m: HTTPSConnectionPool(host='www.ideam.gov.co', port=443): Max retries exceeded with url: /datos-meteorologicos?codigo=2502000077 (Caused by SSLError(SSLCertVerificationError(1, '[SSL: CERTIFICATE_VERIFY_FAILED] certificate verify failed: unable to get local issuer certificate (_ssl.c:1000)')))"
     ]
    }
   ],
   "source": [
    "import requests\n",
    "from bs4 import BeautifulSoup\n",
    "\n",
    "# URL base del IDEAM (reemplaza con la URL específica del sitio)\n",
    "base_url = \"https://www.ideam.gov.co/\"\n",
    "\n",
    "# Código de estación meteorológica\n",
    "codigo_estacion = \"2502000077\"  # Reemplaza con el código de la estación\n",
    "\n",
    "# Endpoint o URL específica para buscar por estación\n",
    "url_estacion = f\"{base_url}datos-meteorologicos?codigo={codigo_estacion}\"\n",
    "\n",
    "# Realizar la solicitud HTTP\n",
    "headers = {\n",
    "    \"User-Agent\": \"Mozilla/5.0 (Windows NT 10.0; Win64; x64) AppleWebKit/537.36 (KHTML, like Gecko) Chrome/115.0.0.0 Safari/537.36\"\n",
    "}\n",
    "response = requests.get(url_estacion, headers=headers)\n",
    "\n",
    "# Verificar si la solicitud fue exitosa\n",
    "if response.status_code == 200:\n",
    "    # Analizar el contenido HTML\n",
    "    soup = BeautifulSoup(response.content, \"html.parser\")\n",
    "    \n",
    "    # Extraer datos (esto dependerá de cómo estén estructurados en el sitio)\n",
    "    datos_tabla = soup.find_all(\"table\")  # Buscar tablas de datos\n",
    "    \n",
    "    if datos_tabla:\n",
    "        print(\"Datos encontrados:\")\n",
    "        for tabla in datos_tabla:\n",
    "            print(tabla.get_text())\n",
    "    else:\n",
    "        print(\"No se encontraron datos en la página.\")\n",
    "else:\n",
    "    print(f\"Error al acceder a la página: {response.status_code}\")\n"
   ]
  },
  {
   "cell_type": "markdown",
   "id": "64ac8d32",
   "metadata": {},
   "source": [
    "# Ejemplo ilustrativo"
   ]
  },
  {
   "cell_type": "markdown",
   "id": "a3e5e6ab",
   "metadata": {},
   "source": [
    "# 10 ejercicios de entrenamiento o adquisición de habilidades obtenido a través de ChatGPT para una formación personalizada y centrada en la habilidad que se quiere lograr con la enseñanza del ejemplo anterior"
   ]
  },
  {
   "cell_type": "code",
   "execution_count": null,
   "id": "cc539357",
   "metadata": {},
   "outputs": [],
   "source": []
  },
  {
   "cell_type": "markdown",
   "id": "2f0141c3",
   "metadata": {},
   "source": [
    "## Tareas para realizar antes de la clase  \n",
    "\n",
    "1. Ver los videos respectivos []()\n",
    "2. Memorizar las definiciones []()\n",
    "3. Sintetizar o resumir la información en mapas conceptuales. []()\n",
    "4. Tareas para incentivar el uso de la calculadora Casio 991LA cw Para ingenieros, licenciados y administradores.  \n",
    "5. Leer los ejemplos resueltos y replicar la manera de hacerlos"
   ]
  },
  {
   "cell_type": "code",
   "execution_count": 1,
   "id": "83d849ab",
   "metadata": {},
   "outputs": [],
   "source": [
    "# Tarea 1 de lectura de ejemplos y completación de procedimientos\n",
    "# asignación de tarea para realizar antes de clase\n",
    "# Consiste en leer y completar un ejemplo de texto guía\n",
    "# Esta tarea es para realizar solo de manera manuscrita en su cuaderno de clase. \n",
    "# La otra opción de presentación es elaborada en cuadernos Jupyter (En este caso solo debe realizar la cuarta parte de los ejercicios asignados)\n",
    "# \n",
    "def asignador_de_tareas(nombre_tarea, ubicacion_tarea):\n",
    "    import pandas as pd\n",
    "    import numpy as np\n",
    "    import requests\n",
    "    np.random.seed(1213)  # establecer semilla aleatoria para hacer los resultados reproducibles\n",
    "\n",
    "    def asignar_tarea(nombre_tarea, grupo_estudiantes, nombre_texto_guia, pag_seccion, numero_ejemplos_seccion, numero_ejemplos_asignados):\n",
    "        students_path = \"/home/marco/Documentos/docencia/groups_list/\" + grupo_estudiantes + \".csv\"\n",
    "        examples = list(range(1, numero_ejemplos_de_la_seccion))  \n",
    "        students_data = pd.read_csv(students_path)\n",
    "        # Crear una lista para almacenar las asignaciones\n",
    "        assignments = []\n",
    "\n",
    "        # Asignar ejercicios aleatorios a cada estudiante\n",
    "        for index, student in students_data.iterrows():\n",
    "            # Seleccionar 5 ejercicios aleatorios sin repetición\n",
    "            random_exercises = np.sort(np.random.choice(examples, numero_de_ejemplos_asignados, \\\n",
    "                                                replace = False)+ 1)\n",
    "            assignments.append([students_data[\"Nombre\"][index], *random_exercises])  # Agregar asignación a la lista\n",
    "\n",
    "    # Crear un DataFrame con las asignaciones\n",
    "        columns = [\"Student\"] + [ \"Example\" + str(i+1) for i in range(numero_de_ejemplos_asignados)]\n",
    "        assignment_df = pd.DataFrame(assignments, columns=columns)\n",
    "\n",
    "    # Guardar el DataFrame en un archivo CSV\n",
    "        assignment_csv = nombre_tarea + \"_\" + nombre_texto_guia + \"_\"+ pagina_y_seccion + \".csv\"\n",
    "        assignment_df.to_csv(assignment_csv, index=False)\n",
    "\n",
    "        print(\"\"\"Tarea 1 de lectura de ejemplos y completación de procedimientos: \n",
    "     Si faltan los enunciados de los problemas, no se valora la tarea\n",
    "    Si faltan de la conclusión verbales, no se valora la tarea.\n",
    "    Esta tarea se valora solo si la presenta de manera manuscrita en su cuaderno de clase.  \n",
    "      \"\"\", assignment_csv)\n",
    "        return assignment_df"
   ]
  },
  {
   "cell_type": "markdown",
   "id": "740f3401",
   "metadata": {
    "slideshow": {
     "slide_type": "slide"
    }
   },
   "source": [
    "# Componente de manejo de calculadora Casio asociado al objetivo de aprendizaje de esta clase  \n",
    "\n",
    "## Pasos para lograr el objetivo de aprendizaje con la experimentación en la calculadora Casio 991LA cw  "
   ]
  },
  {
   "cell_type": "code",
   "execution_count": 2,
   "id": "0f1f0ab2",
   "metadata": {},
   "outputs": [
    {
     "ename": "NameError",
     "evalue": "name 'nombre_tarea' is not defined",
     "output_type": "error",
     "traceback": [
      "\u001b[1;31m---------------------------------------------------------------------------\u001b[0m",
      "\u001b[1;31mNameError\u001b[0m                                 Traceback (most recent call last)",
      "Cell \u001b[1;32mIn[2], line 1\u001b[0m\n\u001b[1;32m----> 1\u001b[0m asignador_de_tareas(\u001b[43mnombre_tarea\u001b[49m, ubicacion_tarea)\n",
      "\u001b[1;31mNameError\u001b[0m: name 'nombre_tarea' is not defined"
     ]
    }
   ],
   "source": [
    "asignador_de_tareas(nombre_tarea, ubicacion_tarea)\n",
    "\n"
   ]
  },
  {
   "cell_type": "code",
   "execution_count": null,
   "id": "0406f442",
   "metadata": {
    "slideshow": {
     "slide_type": "slide"
    }
   },
   "outputs": [
    {
     "name": "stdout",
     "output_type": "stream",
     "text": [
      "Tarea 3 Solución problemas describiendo y justificando verbalmente: \n",
      "      Si faltan los enunciados de los problemas, no se valora la tarea\n",
      "      Si faltan de la conclusión verbales, no se valora la tarea \n",
      "      Esta tarea se valora solo si la presenta de manera manuscrita en su cuaderno de clase  \n",
      "       tarea_Purcell_Página_202_Sección_3.8.csv\n"
     ]
    },
    {
     "data": {
      "text/html": [
       "<div>\n",
       "<style scoped>\n",
       "    .dataframe tbody tr th:only-of-type {\n",
       "        vertical-align: middle;\n",
       "    }\n",
       "\n",
       "    .dataframe tbody tr th {\n",
       "        vertical-align: top;\n",
       "    }\n",
       "\n",
       "    .dataframe thead th {\n",
       "        text-align: right;\n",
       "    }\n",
       "</style>\n",
       "<table border=\"1\" class=\"dataframe\">\n",
       "  <thead>\n",
       "    <tr style=\"text-align: right;\">\n",
       "      <th></th>\n",
       "      <th>Student</th>\n",
       "      <th>Exer1</th>\n",
       "      <th>Exer2</th>\n",
       "      <th>Exer3</th>\n",
       "      <th>Exer4</th>\n",
       "      <th>Exer5</th>\n",
       "      <th>Exer6</th>\n",
       "      <th>Exer7</th>\n",
       "      <th>Exer8</th>\n",
       "      <th>Exer9</th>\n",
       "      <th>Exer10</th>\n",
       "    </tr>\n",
       "  </thead>\n",
       "  <tbody>\n",
       "    <tr>\n",
       "      <th>0</th>\n",
       "      <td>AMARIS FERNANDEZ SEBASTIAN CAMILO</td>\n",
       "      <td>4</td>\n",
       "      <td>7</td>\n",
       "      <td>9</td>\n",
       "      <td>17</td>\n",
       "      <td>21</td>\n",
       "      <td>30</td>\n",
       "      <td>39</td>\n",
       "      <td>44</td>\n",
       "      <td>51</td>\n",
       "      <td>54</td>\n",
       "    </tr>\n",
       "    <tr>\n",
       "      <th>1</th>\n",
       "      <td>ARENAS HERAZO GABRIEL ENRIQUE</td>\n",
       "      <td>2</td>\n",
       "      <td>5</td>\n",
       "      <td>11</td>\n",
       "      <td>17</td>\n",
       "      <td>26</td>\n",
       "      <td>28</td>\n",
       "      <td>32</td>\n",
       "      <td>40</td>\n",
       "      <td>46</td>\n",
       "      <td>50</td>\n",
       "    </tr>\n",
       "    <tr>\n",
       "      <th>2</th>\n",
       "      <td>AYALA MENDOZA MARISOL YACIRA</td>\n",
       "      <td>10</td>\n",
       "      <td>18</td>\n",
       "      <td>21</td>\n",
       "      <td>37</td>\n",
       "      <td>39</td>\n",
       "      <td>45</td>\n",
       "      <td>46</td>\n",
       "      <td>47</td>\n",
       "      <td>51</td>\n",
       "      <td>52</td>\n",
       "    </tr>\n",
       "    <tr>\n",
       "      <th>3</th>\n",
       "      <td>BERTEL RODELO MICHELL SMIT</td>\n",
       "      <td>4</td>\n",
       "      <td>8</td>\n",
       "      <td>20</td>\n",
       "      <td>26</td>\n",
       "      <td>28</td>\n",
       "      <td>33</td>\n",
       "      <td>40</td>\n",
       "      <td>41</td>\n",
       "      <td>42</td>\n",
       "      <td>47</td>\n",
       "    </tr>\n",
       "    <tr>\n",
       "      <th>4</th>\n",
       "      <td>BULA VERGARA MARIA PAULA</td>\n",
       "      <td>12</td>\n",
       "      <td>13</td>\n",
       "      <td>20</td>\n",
       "      <td>23</td>\n",
       "      <td>25</td>\n",
       "      <td>27</td>\n",
       "      <td>29</td>\n",
       "      <td>30</td>\n",
       "      <td>34</td>\n",
       "      <td>48</td>\n",
       "    </tr>\n",
       "    <tr>\n",
       "      <th>5</th>\n",
       "      <td>CANTILLO ENSUCHO DANIEL</td>\n",
       "      <td>2</td>\n",
       "      <td>4</td>\n",
       "      <td>5</td>\n",
       "      <td>7</td>\n",
       "      <td>15</td>\n",
       "      <td>25</td>\n",
       "      <td>27</td>\n",
       "      <td>33</td>\n",
       "      <td>46</td>\n",
       "      <td>51</td>\n",
       "    </tr>\n",
       "    <tr>\n",
       "      <th>6</th>\n",
       "      <td>CERVANTES DURAN ANGELICA</td>\n",
       "      <td>2</td>\n",
       "      <td>4</td>\n",
       "      <td>5</td>\n",
       "      <td>14</td>\n",
       "      <td>17</td>\n",
       "      <td>19</td>\n",
       "      <td>22</td>\n",
       "      <td>24</td>\n",
       "      <td>34</td>\n",
       "      <td>52</td>\n",
       "    </tr>\n",
       "    <tr>\n",
       "      <th>7</th>\n",
       "      <td>GUERRA NORIEGA YONATHAN</td>\n",
       "      <td>3</td>\n",
       "      <td>20</td>\n",
       "      <td>24</td>\n",
       "      <td>26</td>\n",
       "      <td>28</td>\n",
       "      <td>35</td>\n",
       "      <td>39</td>\n",
       "      <td>48</td>\n",
       "      <td>49</td>\n",
       "      <td>53</td>\n",
       "    </tr>\n",
       "    <tr>\n",
       "      <th>8</th>\n",
       "      <td>HINCAPIE CASTRO JOHAN SEBASTIAN</td>\n",
       "      <td>10</td>\n",
       "      <td>17</td>\n",
       "      <td>27</td>\n",
       "      <td>28</td>\n",
       "      <td>29</td>\n",
       "      <td>32</td>\n",
       "      <td>36</td>\n",
       "      <td>44</td>\n",
       "      <td>48</td>\n",
       "      <td>54</td>\n",
       "    </tr>\n",
       "    <tr>\n",
       "      <th>9</th>\n",
       "      <td>HUMANEZ SANCHEZ CAMILO</td>\n",
       "      <td>3</td>\n",
       "      <td>16</td>\n",
       "      <td>19</td>\n",
       "      <td>24</td>\n",
       "      <td>33</td>\n",
       "      <td>41</td>\n",
       "      <td>43</td>\n",
       "      <td>44</td>\n",
       "      <td>47</td>\n",
       "      <td>49</td>\n",
       "    </tr>\n",
       "    <tr>\n",
       "      <th>10</th>\n",
       "      <td>IBAÑEZ MORENO FRANCISCO LUIS</td>\n",
       "      <td>3</td>\n",
       "      <td>8</td>\n",
       "      <td>13</td>\n",
       "      <td>16</td>\n",
       "      <td>21</td>\n",
       "      <td>27</td>\n",
       "      <td>28</td>\n",
       "      <td>31</td>\n",
       "      <td>42</td>\n",
       "      <td>43</td>\n",
       "    </tr>\n",
       "    <tr>\n",
       "      <th>11</th>\n",
       "      <td>MASS MIRANDA RIVALDO JOSE</td>\n",
       "      <td>2</td>\n",
       "      <td>3</td>\n",
       "      <td>12</td>\n",
       "      <td>13</td>\n",
       "      <td>23</td>\n",
       "      <td>24</td>\n",
       "      <td>31</td>\n",
       "      <td>35</td>\n",
       "      <td>46</td>\n",
       "      <td>52</td>\n",
       "    </tr>\n",
       "    <tr>\n",
       "      <th>12</th>\n",
       "      <td>MIRANDA MARTINEZ CARLOS ANDRES</td>\n",
       "      <td>10</td>\n",
       "      <td>12</td>\n",
       "      <td>21</td>\n",
       "      <td>24</td>\n",
       "      <td>25</td>\n",
       "      <td>26</td>\n",
       "      <td>27</td>\n",
       "      <td>29</td>\n",
       "      <td>39</td>\n",
       "      <td>50</td>\n",
       "    </tr>\n",
       "    <tr>\n",
       "      <th>13</th>\n",
       "      <td>MONTERROSA SOTO ABRIL</td>\n",
       "      <td>10</td>\n",
       "      <td>14</td>\n",
       "      <td>16</td>\n",
       "      <td>18</td>\n",
       "      <td>28</td>\n",
       "      <td>30</td>\n",
       "      <td>35</td>\n",
       "      <td>36</td>\n",
       "      <td>42</td>\n",
       "      <td>50</td>\n",
       "    </tr>\n",
       "    <tr>\n",
       "      <th>14</th>\n",
       "      <td>NORIEGA JIMENEZ GABRIELA</td>\n",
       "      <td>4</td>\n",
       "      <td>13</td>\n",
       "      <td>14</td>\n",
       "      <td>16</td>\n",
       "      <td>19</td>\n",
       "      <td>22</td>\n",
       "      <td>36</td>\n",
       "      <td>37</td>\n",
       "      <td>46</td>\n",
       "      <td>51</td>\n",
       "    </tr>\n",
       "    <tr>\n",
       "      <th>15</th>\n",
       "      <td>PEREZ REYES IVAN DARIO</td>\n",
       "      <td>17</td>\n",
       "      <td>19</td>\n",
       "      <td>23</td>\n",
       "      <td>26</td>\n",
       "      <td>30</td>\n",
       "      <td>33</td>\n",
       "      <td>34</td>\n",
       "      <td>40</td>\n",
       "      <td>46</td>\n",
       "      <td>53</td>\n",
       "    </tr>\n",
       "    <tr>\n",
       "      <th>16</th>\n",
       "      <td>PEREZ THERAN ERLINDA</td>\n",
       "      <td>3</td>\n",
       "      <td>6</td>\n",
       "      <td>19</td>\n",
       "      <td>21</td>\n",
       "      <td>25</td>\n",
       "      <td>30</td>\n",
       "      <td>32</td>\n",
       "      <td>39</td>\n",
       "      <td>42</td>\n",
       "      <td>45</td>\n",
       "    </tr>\n",
       "    <tr>\n",
       "      <th>17</th>\n",
       "      <td>PINEDA ROMERO YOSMERI</td>\n",
       "      <td>2</td>\n",
       "      <td>30</td>\n",
       "      <td>31</td>\n",
       "      <td>32</td>\n",
       "      <td>35</td>\n",
       "      <td>36</td>\n",
       "      <td>37</td>\n",
       "      <td>42</td>\n",
       "      <td>47</td>\n",
       "      <td>50</td>\n",
       "    </tr>\n",
       "    <tr>\n",
       "      <th>18</th>\n",
       "      <td>QUINONEZ CERVANTES MARIANA</td>\n",
       "      <td>5</td>\n",
       "      <td>6</td>\n",
       "      <td>8</td>\n",
       "      <td>13</td>\n",
       "      <td>15</td>\n",
       "      <td>32</td>\n",
       "      <td>33</td>\n",
       "      <td>42</td>\n",
       "      <td>46</td>\n",
       "      <td>49</td>\n",
       "    </tr>\n",
       "    <tr>\n",
       "      <th>19</th>\n",
       "      <td>RAMOS PEREZ YANINE</td>\n",
       "      <td>11</td>\n",
       "      <td>20</td>\n",
       "      <td>21</td>\n",
       "      <td>28</td>\n",
       "      <td>29</td>\n",
       "      <td>37</td>\n",
       "      <td>39</td>\n",
       "      <td>44</td>\n",
       "      <td>46</td>\n",
       "      <td>52</td>\n",
       "    </tr>\n",
       "    <tr>\n",
       "      <th>20</th>\n",
       "      <td>RIVAS HOYOS ESTEFANIA</td>\n",
       "      <td>7</td>\n",
       "      <td>10</td>\n",
       "      <td>12</td>\n",
       "      <td>14</td>\n",
       "      <td>17</td>\n",
       "      <td>25</td>\n",
       "      <td>28</td>\n",
       "      <td>30</td>\n",
       "      <td>37</td>\n",
       "      <td>48</td>\n",
       "    </tr>\n",
       "    <tr>\n",
       "      <th>21</th>\n",
       "      <td>ROSILLO TEJADA VANESA</td>\n",
       "      <td>12</td>\n",
       "      <td>22</td>\n",
       "      <td>23</td>\n",
       "      <td>27</td>\n",
       "      <td>28</td>\n",
       "      <td>30</td>\n",
       "      <td>34</td>\n",
       "      <td>36</td>\n",
       "      <td>40</td>\n",
       "      <td>44</td>\n",
       "    </tr>\n",
       "    <tr>\n",
       "      <th>22</th>\n",
       "      <td>SANCHEZ PADILLA SILVESTRE</td>\n",
       "      <td>4</td>\n",
       "      <td>7</td>\n",
       "      <td>15</td>\n",
       "      <td>22</td>\n",
       "      <td>32</td>\n",
       "      <td>34</td>\n",
       "      <td>38</td>\n",
       "      <td>43</td>\n",
       "      <td>48</td>\n",
       "      <td>53</td>\n",
       "    </tr>\n",
       "    <tr>\n",
       "      <th>23</th>\n",
       "      <td>SILVA ROYERO MAILY CRISTINA</td>\n",
       "      <td>4</td>\n",
       "      <td>5</td>\n",
       "      <td>12</td>\n",
       "      <td>13</td>\n",
       "      <td>20</td>\n",
       "      <td>25</td>\n",
       "      <td>30</td>\n",
       "      <td>35</td>\n",
       "      <td>42</td>\n",
       "      <td>54</td>\n",
       "    </tr>\n",
       "    <tr>\n",
       "      <th>24</th>\n",
       "      <td>USUGA GEORGE JHON ESTIVEN</td>\n",
       "      <td>5</td>\n",
       "      <td>7</td>\n",
       "      <td>8</td>\n",
       "      <td>10</td>\n",
       "      <td>22</td>\n",
       "      <td>37</td>\n",
       "      <td>39</td>\n",
       "      <td>42</td>\n",
       "      <td>44</td>\n",
       "      <td>51</td>\n",
       "    </tr>\n",
       "  </tbody>\n",
       "</table>\n",
       "</div>"
      ],
      "text/plain": [
       "                              Student  Exer1  Exer2  Exer3  Exer4  Exer5  \\\n",
       "0   AMARIS FERNANDEZ SEBASTIAN CAMILO      4      7      9     17     21   \n",
       "1       ARENAS HERAZO GABRIEL ENRIQUE      2      5     11     17     26   \n",
       "2        AYALA MENDOZA MARISOL YACIRA     10     18     21     37     39   \n",
       "3          BERTEL RODELO MICHELL SMIT      4      8     20     26     28   \n",
       "4            BULA VERGARA MARIA PAULA     12     13     20     23     25   \n",
       "5             CANTILLO ENSUCHO DANIEL      2      4      5      7     15   \n",
       "6            CERVANTES DURAN ANGELICA      2      4      5     14     17   \n",
       "7             GUERRA NORIEGA YONATHAN      3     20     24     26     28   \n",
       "8     HINCAPIE CASTRO JOHAN SEBASTIAN     10     17     27     28     29   \n",
       "9              HUMANEZ SANCHEZ CAMILO      3     16     19     24     33   \n",
       "10       IBAÑEZ MORENO FRANCISCO LUIS      3      8     13     16     21   \n",
       "11          MASS MIRANDA RIVALDO JOSE      2      3     12     13     23   \n",
       "12     MIRANDA MARTINEZ CARLOS ANDRES     10     12     21     24     25   \n",
       "13              MONTERROSA SOTO ABRIL     10     14     16     18     28   \n",
       "14           NORIEGA JIMENEZ GABRIELA      4     13     14     16     19   \n",
       "15             PEREZ REYES IVAN DARIO     17     19     23     26     30   \n",
       "16               PEREZ THERAN ERLINDA      3      6     19     21     25   \n",
       "17              PINEDA ROMERO YOSMERI      2     30     31     32     35   \n",
       "18         QUINONEZ CERVANTES MARIANA      5      6      8     13     15   \n",
       "19                 RAMOS PEREZ YANINE     11     20     21     28     29   \n",
       "20              RIVAS HOYOS ESTEFANIA      7     10     12     14     17   \n",
       "21              ROSILLO TEJADA VANESA     12     22     23     27     28   \n",
       "22          SANCHEZ PADILLA SILVESTRE      4      7     15     22     32   \n",
       "23        SILVA ROYERO MAILY CRISTINA      4      5     12     13     20   \n",
       "24          USUGA GEORGE JHON ESTIVEN      5      7      8     10     22   \n",
       "\n",
       "    Exer6  Exer7  Exer8  Exer9  Exer10  \n",
       "0      30     39     44     51      54  \n",
       "1      28     32     40     46      50  \n",
       "2      45     46     47     51      52  \n",
       "3      33     40     41     42      47  \n",
       "4      27     29     30     34      48  \n",
       "5      25     27     33     46      51  \n",
       "6      19     22     24     34      52  \n",
       "7      35     39     48     49      53  \n",
       "8      32     36     44     48      54  \n",
       "9      41     43     44     47      49  \n",
       "10     27     28     31     42      43  \n",
       "11     24     31     35     46      52  \n",
       "12     26     27     29     39      50  \n",
       "13     30     35     36     42      50  \n",
       "14     22     36     37     46      51  \n",
       "15     33     34     40     46      53  \n",
       "16     30     32     39     42      45  \n",
       "17     36     37     42     47      50  \n",
       "18     32     33     42     46      49  \n",
       "19     37     39     44     46      52  \n",
       "20     25     28     30     37      48  \n",
       "21     30     34     36     40      44  \n",
       "22     34     38     43     48      53  \n",
       "23     25     30     35     42      54  \n",
       "24     37     39     42     44      51  "
      ]
     },
     "execution_count": 5,
     "metadata": {},
     "output_type": "execute_result"
    }
   ],
   "source": [
    "asignador_de_tareas(nombre_tarea, ubicacion_tarea):\n",
    "\n",
    "\n",
    "\n"
   ]
  },
  {
   "cell_type": "markdown",
   "id": "8d41fe58",
   "metadata": {
    "slideshow": {
     "slide_type": "slide"
    }
   },
   "source": [
    "# Horario de clases del profesor Marco\n",
    "\n",
    "* Lunes 8-12: Cálculo Vectorial\n",
    "* Martes 8-12 M: Fundamentos de Aritmética. \n",
    "* Miércoles 8 a 12 M: Fundamentos de la Lógica\n",
    "* Jueves 2 a 6 PM: Desarrollo del pensamiento matemático en la infancia. \n",
    "* Viernes 8 - 12 M: Desarrollo del pensamiento matemático en la infancia. \n",
    "* Sábados 8-12 Asesorías y espacio para retroalimentación y apoyo al trabajo independiente. "
   ]
  },
  {
   "cell_type": "markdown",
   "id": "ae114e14",
   "metadata": {
    "slideshow": {
     "slide_type": "slide"
    }
   },
   "source": [
    "# Horarios de monitoría y asesoría  \n",
    "\n",
    "Coordinador de los cursos de la Facultad de Educación para regiones:    \n",
    "\n",
    "Andrés Vélez: regioneducacion.fedu@udea.edu.co  \n",
    "Coordinador Regiones  \n",
    "Facultad de Educación  \n",
    "Universidad de Antioquia  "
   ]
  },
  {
   "cell_type": "markdown",
   "id": "b1db4b6c",
   "metadata": {
    "slideshow": {
     "slide_type": "slide"
    }
   },
   "source": [
    "## Monitor Manuel San Juan Serrano\n",
    "\n",
    "Contactar escribiendo al correo: manuel.serrano1@udea.edu.co"
   ]
  },
  {
   "cell_type": "markdown",
   "id": "39559692",
   "metadata": {
    "slideshow": {
     "slide_type": "slide"
    }
   },
   "source": [
    "Martes y jueves de 8 - 12  \n",
    "Miércoles 10 - 12 y de 2 a 4 PM  \n",
    "Sábado: 8 - 12"
   ]
  },
  {
   "cell_type": "markdown",
   "id": "5a190057",
   "metadata": {},
   "source": [
    "## Monitoría virtual   \n",
    "\n",
    "Telefono del monitos en whatsApp: 3043936088  \n",
    "\n",
    "Juan David Cano Castrillón  \n",
    "Estudiante de Pregrado.  \n",
    "juan.canoc1@udea.edu.co  \n",
    "3043936088  \n"
   ]
  },
  {
   "cell_type": "markdown",
   "id": "10bce0d0",
   "metadata": {
    "slideshow": {
     "slide_type": "slide"
    }
   },
   "source": [
    "## Referentes "
   ]
  },
  {
   "cell_type": "markdown",
   "id": "1db3c468",
   "metadata": {
    "slideshow": {
     "slide_type": "slide"
    }
   },
   "source": [
    "* [Grajales Vanegas, L. M., Restrepo Estrada, C. E., Restrepo Ochoa, S. I., & Ruíz De Villalba, F. (2015). Matemáticas I para las ciencias económicas.](https://github.com/marco-canas/fundamentos_de_la_aritmetica/blob/main/referentes/2_grajales_logica/grajales_lina_matemticas.pdf)\n",
    "  \n",
    "* Duval, R. (2004). Semiosis y pensamiento humano: registros semióticos y aprendizajes intelectuales. Universidad del Valle.\n",
    "\n",
    "* [Aylwin, C. U. (2011). Lógica, conjuntos y números. Universidad de los Andes, Consejo de Publicaciones, Colección: Ciencias Básicas, Serie: Matemáticas.](https://github.com/marco-canas/fundamentos_logica/blob/main/referentes/2_uzcategui/uscategui.pdf)\n",
    "  \n",
    "* [Chollet, F. (2021). Deep learning with Python. Simon and Schuster.](https://github.com/marco-canas/didactica_ciencia_datos/blob/main/2_referentes/chollet/Fran%C3%A7ois%20Chollet%20-%20Deep%20Learning%20with%20Python-Manning%20(2018).pdf)  \n",
    "  \n",
    "* [Watson, S., Stewart, J., & Redlin, L. (2009). Precálculo. Matemáticas para el cálculo.](https://github.com/marco-canas/calculo/blob/main/referents/1_precalculo_stewart/stewart_precalculo.pdf)  \n",
    "\n",
    "* [Purcell, E. J., Varberg, D., & Rigdon, S. E. (2007). Cálculo diferencial e integral. Pearson Educación.](https://github.com/marco-canas/calculo/blob/main/referents/purcell/purcell_calculo.pdf)\n",
    "\n",
    "  \n",
    "\n",
    "* [stewart cálculo](https://udeaeduco-my.sharepoint.com/:b:/g/personal/marco_canas_udea_edu_co/EZgXZjAp8QxPqOAim2hs6LcBNPLGjSHf-xwYnUVYkwa04w?e=RZdTCy)  \n",
    "\n",
    "* [larson](https://udeaeduco-my.sharepoint.com/:b:/g/personal/marco_canas_udea_edu_co/ES71ChFeO9ZDhW3TwC5Ijk8BjxUK3Pdqz_fjHxTTFAfIAg?e=VDEjfu)\n",
    "\n",
    "\n",
    "\n",
    "* [Recomendación de la UNESCO sobre ciencia abierta](https://unesdoc.unesco.org/ark:/48223/pf0000379949_spa)\n",
    "\n",
    "* [chatGPT](https://openai.com/blog/chatgpt)  \n",
    "\n",
    "* [Géron, A. (2017). Hands-on machine learning with scikit-learn and tensorflow: Concepts. Tools, and Techniques to build intelligent systems.](https://github.com/marco-canas/didactica_ciencia_datos/blob/main/2_referentes/geron/Hands-On%20Machine%20Learning-3nd_Edition(2022).pdf)  \n",
    "\n",
    "* [McKinney, W. (2012). Python for data analysis: Data wrangling with Pandas, NumPy, and IPython. \" O'Reilly Media, Inc.\".](https://github.com/marco-canas/didactica_ciencia_datos/blob/main/2_referentes/mckinney/Wes_McKinney.pdf)  "
   ]
  },
  {
   "cell_type": "markdown",
   "id": "8e65d6f9",
   "metadata": {},
   "source": [
    "# Como estudiante, encuentro que...   \n",
    "\n",
    "F: Mis Fortalezas son:     \n",
    "O: Mis Oportunidades son:    \n",
    "D: Mis Debilidades son:    \n",
    "A: Lo que Amenazas mi aprendizaje es:  "
   ]
  },
  {
   "cell_type": "markdown",
   "id": "6b9e56a8",
   "metadata": {
    "slideshow": {
     "slide_type": "slide"
    }
   },
   "source": [
    "### [Evaluamos al profesor Marco Cañas Aquí](https://forms.office.com/Pages/ResponsePage.aspx?id=IefhmYRxjkmK_7KtTlPBwkanXIs1i1FEujpsZgO6dXpUREJPV1kxUk1JV1ozTFJIQVNIQjY5WEY3US4u)"
   ]
  },
  {
   "cell_type": "markdown",
   "id": "10f43536",
   "metadata": {
    "slideshow": {
     "slide_type": "slide"
    }
   },
   "source": [
    "### Continue su aprendizaje en la siguiente clase a través del siguiente [vínculo]()"
   ]
  },
  {
   "cell_type": "markdown",
   "id": "ba236f4d",
   "metadata": {},
   "source": [
    "### **Actividad de Clase: Expresar Ideas, Dudas y Emociones de Manera Respetuosa y Asertiva**\n"
   ]
  },
  {
   "cell_type": "markdown",
   "id": "33bcd185",
   "metadata": {},
   "source": [
    "\n",
    "**Objetivo:**  \n",
    "Desarrollar habilidades de comunicación efectiva en los estudiantes para que puedan expresar sus ideas, dudas y emociones de forma respetuosa y asertiva.\n"
   ]
  },
  {
   "cell_type": "markdown",
   "id": "f61da648",
   "metadata": {},
   "source": [
    "\n",
    "### **1. Introducción (5 minutos)** "
   ]
  },
  {
   "cell_type": "markdown",
   "id": "5bff3b48",
   "metadata": {},
   "source": [
    " \n",
    "- **Tema:** Introducir a los estudiantes al concepto de la comunicación asertiva, explicando cómo expresar pensamientos y emociones de manera clara y respetuosa sin agredir o ser pasivo.\n",
    "- **Dinámica:** Mostrar dos ejemplos contrastantes: uno de comunicación pasiva/agresiva y otro de comunicación asertiva. Preguntar a los estudiantes cuál creen que es más efectivo y por qué.\n"
   ]
  },
  {
   "cell_type": "markdown",
   "id": "fb5fcc8d",
   "metadata": {},
   "source": [
    "\n",
    "**Materiales:**  \n",
    "- Pizarra o diapositivas con ejemplos de frases pasivas, agresivas y asertivas.\n",
    "  \n"
   ]
  },
  {
   "cell_type": "markdown",
   "id": "8a6e8722",
   "metadata": {},
   "source": [
    "**Ejemplo:**  \n",
    "- **Pasivo:** “Bueno… no sé si es una buena idea, pero… tal vez podrías intentarlo.”\n",
    "- **Agresivo:** “¡Tu idea es terrible, no va a funcionar!”\n",
    "- **Asertivo:** “Creo que podríamos mejorar esa idea si consideramos otro enfoque.”\n",
    "\n",
    "---\n"
   ]
  },
  {
   "cell_type": "markdown",
   "id": "b5445d5e",
   "metadata": {},
   "source": [
    "\n",
    "### **2. Ejercicio en Parejas (10 minutos)**  \n",
    "- **Instrucciones:** Dividir a los estudiantes en parejas. Darles diferentes situaciones cotidianas en las que deben comunicarse (pedir ayuda, expresar desacuerdo, compartir una idea, etc.). Cada pareja debe crear una breve conversación donde practiquen la comunicación asertiva.\n",
    "  \n"
   ]
  },
  {
   "cell_type": "markdown",
   "id": "32dfbaf0",
   "metadata": {},
   "source": [
    "**Situaciones propuestas:**\n",
    "  - Expresar desacuerdo con un compañero sobre una tarea de grupo.\n",
    "  - Pedirle ayuda al profesor sobre un concepto difícil.\n",
    "  - Expresar frustración por un malentendido en clase.\n",
    "\n",
    "- **Reglas:** Cada estudiante debe asegurarse de usar lenguaje respetuoso y asertivo para expresar su posición y emociones. Al final, cada pareja debe compartir con la clase un ejemplo de lo que discutieron.\n",
    "\n",
    "---\n"
   ]
  },
  {
   "cell_type": "markdown",
   "id": "9bcd1b30",
   "metadata": {},
   "source": [
    "\n",
    "### **3. Retroalimentación y Discusión (5 minutos)**  \n",
    "- **Discusión:** Invitar a algunos estudiantes a compartir sus experiencias de la actividad. \n",
    "- **Preguntas:** ¿Cómo se sintieron al intentar ser asertivos? ¿Les resultó difícil? ¿Cómo fue recibido el mensaje?\n",
    "  \n",
    "**Consejo:** Resaltar la importancia de practicar la asertividad como una herramienta para mejorar la comunicación interpersonal y reducir conflictos.\n",
    "\n",
    "---\n"
   ]
  },
  {
   "cell_type": "markdown",
   "id": "512fe655",
   "metadata": {},
   "source": [
    "\n",
    "### **Cierre**  \n",
    "- Resumir las características de la comunicación asertiva: uso de \"yo\" en lugar de \"tú\" para evitar culpabilizar, tono de voz calmado, y respeto hacia el interlocutor.\n",
    "- **Tarea opcional:** Pedirles que practiquen la comunicación asertiva en sus conversaciones durante la semana y escriban una reflexión breve sobre cómo les fue.\n"
   ]
  },
  {
   "cell_type": "markdown",
   "id": "42b177d7",
   "metadata": {},
   "source": [
    "\n",
    "**Material adicional:**  \n",
    "- Video corto o recurso digital sobre la importancia de la comunicación asertiva."
   ]
  },
  {
   "cell_type": "markdown",
   "id": "53cc9115",
   "metadata": {
    "slideshow": {
     "slide_type": "slide"
    }
   },
   "source": [
    "## Agradecimientos  \n",
    "\n",
    "Doy gracias a Dios por la vida de mi Hijo Joseph Cañas Osorio y la madurez que ha alcanzado. Este hijo me enorgullece y me hace falta abrazarlo cada día. \n",
    "\n",
    "Y a mi esposa Yasmira Emperatriz Barboza Mogollón por su apoyo, orientación y acompañamiento. "
   ]
  },
  {
   "cell_type": "markdown",
   "id": "88f7dbda",
   "metadata": {},
   "source": []
  },
  {
   "cell_type": "code",
   "execution_count": 2,
   "id": "f9ac7539",
   "metadata": {},
   "outputs": [
    {
     "data": {
      "text/latex": [
       "$\\displaystyle k x^{6} \\left(0.6 - x\\right)^{8}$"
      ],
      "text/plain": [
       "k*x**6*(0.6 - x)**8"
      ]
     },
     "execution_count": 2,
     "metadata": {},
     "output_type": "execute_result"
    }
   ],
   "source": [
    "from sympy import * \n",
    "\n",
    "x, k = symbols('x, k')\n",
    "funcion = k*x**6*(0.6-x)**8\n",
    "funcion"
   ]
  },
  {
   "cell_type": "code",
   "execution_count": 4,
   "id": "d672dc54",
   "metadata": {},
   "outputs": [
    {
     "data": {
      "text/latex": [
       "$\\displaystyle 95802719.0924019$"
      ],
      "text/plain": [
       "95802719.0924019"
      ]
     },
     "execution_count": 4,
     "metadata": {},
     "output_type": "execute_result"
    }
   ],
   "source": [
    "solve(Eq(integrate(funcion, (x, 0, 0.6)), 1), k)[0]"
   ]
  }
 ],
 "metadata": {
  "celltoolbar": "Slideshow",
  "kernelspec": {
   "display_name": "Python 3",
   "language": "python",
   "name": "python3"
  },
  "language_info": {
   "codemirror_mode": {
    "name": "ipython",
    "version": 3
   },
   "file_extension": ".py",
   "mimetype": "text/x-python",
   "name": "python",
   "nbconvert_exporter": "python",
   "pygments_lexer": "ipython3",
   "version": "3.12.7"
  },
  "rise": {
   "enable_chalkboard": true,
   "theme": "sky",
   "transition": "zoom"
  }
 },
 "nbformat": 4,
 "nbformat_minor": 5
}
