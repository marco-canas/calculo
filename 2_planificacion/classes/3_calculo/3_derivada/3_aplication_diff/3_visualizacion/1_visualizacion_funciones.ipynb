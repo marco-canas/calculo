{
 "cells": [
  {
   "attachments": {},
   "cell_type": "markdown",
   "id": "dc06dec7",
   "metadata": {
    "slideshow": {
     "slide_type": "slide"
    }
   },
   "source": [
    "<table align=\"left\">\n",
    "  <td>\n",
    "    <a href=\"https://colab.research.google.com/github/marco-canas/calculo/blob/main/classes/3_differentiation/aplication_diff/3_visualizacion/1_visualizacion_funciones.ipynb\" target=\"_parent\"><img src=\"https://colab.research.google.com/assets/colab-badge.svg\" alt=\"Open In Colab\"/></a>\n",
    "  </td>\n",
    "</table>"
   ]
  },
  {
   "attachments": {},
   "cell_type": "markdown",
   "id": "e0c5b198",
   "metadata": {
    "slideshow": {
     "slide_type": "slide"
    }
   },
   "source": [
    "### [Video de apoyo a la lectura interactiva y experimental de este cuaderno]()"
   ]
  },
  {
   "attachments": {},
   "cell_type": "markdown",
   "id": "41e82203",
   "metadata": {
    "slideshow": {
     "slide_type": "slide"
    }
   },
   "source": [
    "## [programas de todos los cursos de la licenciatura en matemáticas y física](https://drive.google.com/drive/folders/1dNHbB0Vd00qWRchty1TIRNQVvi7IzI21)\n",
    "## [Vínculo al programa del curso contextualizado a la metodología de ula invertida:  ](https://github.com/marco-canas/fundamentos_de_la_aritmetica/blob/main/programa_fundamentos_aritmetica_aula_invertida.docx)\n",
    "\n",
    "* Todos los profesores debemos proponer objetivos de formación\n",
    "* Propuesta de evaluación \n",
    "* Y propuesta de metodología\n",
    "* Y propuesta de bibliografía. "
   ]
  },
  {
   "attachments": {},
   "cell_type": "markdown",
   "id": "d11ab06d",
   "metadata": {
    "slideshow": {
     "slide_type": "slide"
    }
   },
   "source": [
    "Un reconocimiento a mis estudiantes que han construido conmigo este saber pedagógico:\n",
    "\n",
    "<img src = 'https://github.com/marco-canas/fundamentos_de_las_matematicas/blob/main/images/photos/estudiantes_lic_math_2023-08-01.jpeg?raw=true'> \n",
    "\n"
   ]
  },
  {
   "attachments": {},
   "cell_type": "markdown",
   "id": "5e3936d8",
   "metadata": {
    "slideshow": {
     "slide_type": "slide"
    }
   },
   "source": [
    "# Llamar a lista o tomar asistencia con python o llamar el equipo para la tarea con video y cuaderno Jupyter sobre medición indirecta de grandes alturas con imágenes"
   ]
  },
  {
   "cell_type": "code",
   "execution_count": 5,
   "id": "a359c096",
   "metadata": {
    "slideshow": {
     "slide_type": "slide"
    }
   },
   "outputs": [
    {
     "name": "stdout",
     "output_type": "stream",
     "text": [
      "Llamando a ARIAS ARRIETA FREDY...\n",
      "Nota de seguimiento registrada para ARIAS ARRIETA FREDY: 5.0\n"
     ]
    }
   ],
   "source": [
    "import pandas as pd\n",
    "import random\n",
    "\n",
    "# Cargar la lista de estudiantes desde la URL\n",
    "url = 'https://raw.githubusercontent.com/marco-canas/groups_list/main/fund_aritmetica.csv'\n",
    "estudiantes = pd.read_csv(url)\n",
    "\n",
    "# Función para llamar a un estudiante aleatoriamente y registrar su nota de seguimiento\n",
    "def llamar_estudiante():\n",
    "    estudiante_aleatorio = random.choice(estudiantes['Nombre'])\n",
    "    print(f\"Llamando a {estudiante_aleatorio}...\")\n",
    "    \n",
    "    nota_seguimiento = float(input(\"Ingrese la nota de seguimiento para el estudiante (0-5): \"))\n",
    "    \n",
    "    # Validar que la nota esté en el rango correcto (0-5)\n",
    "    if nota_seguimiento < 0 or nota_seguimiento > 5:\n",
    "        print(\"La nota debe estar en el rango de 0 a 5.\")\n",
    "        return\n",
    "    \n",
    "    # Actualizar la nota de seguimiento en el DataFrame\n",
    "    index_estudiante = estudiantes[estudiantes['Nombre'] == estudiante_aleatorio].index\n",
    "    estudiantes.at[index_estudiante, 'Seguimiento'] = nota_seguimiento\n",
    "    \n",
    "    # Guardar el DataFrame actualizado en un archivo CSV\n",
    "    estudiantes.to_csv('calificaciones_fundamentos_aritmetica.csv', index=False)\n",
    "    \n",
    "    print(f\"Nota de seguimiento registrada para {estudiante_aleatorio}: {nota_seguimiento}\")\n",
    "    \n",
    "# Llamar a la función para realizar el proceso\n",
    "llamar_estudiante()\n"
   ]
  },
  {
   "attachments": {},
   "cell_type": "markdown",
   "id": "4f9d8cf9",
   "metadata": {
    "slideshow": {
     "slide_type": "slide"
    }
   },
   "source": [
    "# Modelo general de clase: [aula invertida](https://www3.gobiernodecanarias.org/medusa/ecoescuela/pedagotic/aprendizaje-invertido-flipped-classroom/)"
   ]
  },
  {
   "attachments": {},
   "cell_type": "markdown",
   "id": "ca46c23b",
   "metadata": {
    "slideshow": {
     "slide_type": "fragment"
    }
   },
   "source": [
    "## Definición y características de este [modelo](https://udearroba.udea.edu.co/blog/aprendizaje-invertido-otras-formas-de-ensenar-y-aprender/)  \n",
    "El aprendizaje invertido es un enfoque pedagógico que posibilita trascender del modelo tradicional de enseñanza. "
   ]
  },
  {
   "attachments": {},
   "cell_type": "markdown",
   "id": "760dd3a7",
   "metadata": {},
   "source": [
    "Dicho enfoque hace uso de entornos virtuales, en los cuales el docente dispone de una serie de recursos para abordar la enseñanza de los contenidos. "
   ]
  },
  {
   "attachments": {},
   "cell_type": "markdown",
   "id": "a8272cc0",
   "metadata": {},
   "source": [
    "Uno de los recursos más utilizados es la videoclase, pues permite que los estudiantes puedan escuchar y observar al docente mientras explica una temática, así como demostraciones y procedimientos específicos. "
   ]
  },
  {
   "attachments": {},
   "cell_type": "markdown",
   "id": "a14c85ff",
   "metadata": {},
   "source": [
    "Por tanto, este recurso resulta valioso para los estudiantes, quienes podrán revisarlo en el espacio temporal que deseen y las veces que lo consideren necesario para su aprendizaje. "
   ]
  },
  {
   "attachments": {},
   "cell_type": "markdown",
   "id": "85f6596d",
   "metadata": {},
   "source": [
    "Adicionalmente, es importante que los docentes dispongan las indicaciones o instrucciones -por fuera del aula- en relación con las actividades/prácticas/ejercicios que los estudiantes deben llevar a cabo. "
   ]
  },
  {
   "attachments": {},
   "cell_type": "markdown",
   "id": "e50a6bfd",
   "metadata": {},
   "source": [
    "Por ende, se espera que los estudiantes hagan la revisión de contenidos e indicaciones de manera previa al encuentro sincrónico."
   ]
  },
  {
   "attachments": {},
   "cell_type": "markdown",
   "id": "d2b0e776",
   "metadata": {
    "slideshow": {
     "slide_type": "slide"
    }
   },
   "source": [
    "## ¿Qué es?  \n",
    "\n",
    "Flipped Learning o aprendizaje invertido es un enfoque pedagógico en el que:  \n",
    "\n",
    "* la instrucción directa se realiza fuera del aula y \n",
    "* se utiliza el tiempo de clase para llevar a cabo actividades que impliquen el desarrollo de procesos cognitivos de mayor complejidad, en las que son necesarias la ayuda y la experiencia del docente."
   ]
  },
  {
   "attachments": {},
   "cell_type": "markdown",
   "id": "5fc4f731",
   "metadata": {
    "slideshow": {
     "slide_type": "slide"
    }
   },
   "source": [
    "## ¿Para qué sirve?  \n",
    "\n",
    "Mejora el proceso de enseñanza-aprendizaje realizando,   \n",
    "\n",
    "* fuera del aula, actividades de aprendizaje sencillas (observar, memorizar, resumir, etc.) y, \n",
    "* en el aula, actividades más complejas (razonar, examinar, priorizar, argumentar, proponer, etc.) que requieren la interacción entre iguales y la ayuda del docente como facilitador."
   ]
  },
  {
   "attachments": {},
   "cell_type": "markdown",
   "id": "b42472d6",
   "metadata": {
    "slideshow": {
     "slide_type": "slide"
    }
   },
   "source": [
    "<img src = 'https://github.com/marco-canas/7_didactica_ciencia_datos/blob/main/4_images/atributos_aprendizaje_invertido.png?raw=true'>"
   ]
  },
  {
   "attachments": {},
   "cell_type": "markdown",
   "id": "8cee33b3",
   "metadata": {
    "slideshow": {
     "slide_type": "slide"
    }
   },
   "source": [
    "# Proceso Flipped Learning"
   ]
  },
  {
   "attachments": {},
   "cell_type": "markdown",
   "id": "9c61b8b5",
   "metadata": {
    "slideshow": {
     "slide_type": "slide"
    }
   },
   "source": [
    "## Fuera del Aula"
   ]
  },
  {
   "attachments": {},
   "cell_type": "markdown",
   "id": "fe20721d",
   "metadata": {
    "slideshow": {
     "slide_type": "slide"
    }
   },
   "source": [
    "### Docente:"
   ]
  },
  {
   "attachments": {},
   "cell_type": "markdown",
   "id": "5b022dc9",
   "metadata": {
    "slideshow": {
     "slide_type": "slide"
    }
   },
   "source": [
    "* Diseña y planea el proceso de enseñanza-aprendizaje del aula, integrando estrategias, modelos de enseñanza y metodologías (aprendizaje basado en proyectos, aprendizaje cooperativo y colaborativo,…).  \n",
    "\n",
    "* Diseña y planea actividades que se realizarán fuera del aula (ver vídeos, cumplimentar cuestionarios,…).  \n",
    "\n",
    "* Selecciona e integra la tecnología en actividades de aprendizaje activo.  \n",
    "\n",
    "* Diseña actividades de evaluación que promuevan el aprendizaje del alumnado."
   ]
  },
  {
   "attachments": {},
   "cell_type": "markdown",
   "id": "467fb978",
   "metadata": {
    "slideshow": {
     "slide_type": "slide"
    }
   },
   "source": [
    "### Alumnado:"
   ]
  },
  {
   "attachments": {},
   "cell_type": "markdown",
   "id": "87d6d661",
   "metadata": {
    "slideshow": {
     "slide_type": "slide"
    }
   },
   "source": [
    "* Accede, cuantas veces necesite, a las actividades facilitadas por el profesorado.\n",
    "* Realiza las actividades propuestas."
   ]
  },
  {
   "attachments": {},
   "cell_type": "markdown",
   "id": "93cd48b6",
   "metadata": {
    "slideshow": {
     "slide_type": "slide"
    }
   },
   "source": [
    "## En el Aula"
   ]
  },
  {
   "attachments": {},
   "cell_type": "markdown",
   "id": "79ea8675",
   "metadata": {
    "slideshow": {
     "slide_type": "slide"
    }
   },
   "source": [
    "### Docente:"
   ]
  },
  {
   "attachments": {},
   "cell_type": "markdown",
   "id": "d4d6f829",
   "metadata": {
    "slideshow": {
     "slide_type": "slide"
    }
   },
   "source": [
    "* Guía y facilita los procesos de aprendizaje, atendiendo a la diversidad.\n",
    "* Retroalimenta el desempeño de los equipos/grupos y del alumnado individualmente.\n",
    "* Genera espacios para la coevaluación y autoevaluación."
   ]
  },
  {
   "attachments": {},
   "cell_type": "markdown",
   "id": "7178794c",
   "metadata": {
    "slideshow": {
     "slide_type": "slide"
    }
   },
   "source": [
    "### Alumnado:"
   ]
  },
  {
   "attachments": {},
   "cell_type": "markdown",
   "id": "88d1c0f7",
   "metadata": {
    "slideshow": {
     "slide_type": "slide"
    }
   },
   "source": [
    "* Realiza las actividades (debates, exposiciones orales, informes, diario de aprendizaje, cuaderno de trabajo cooperativo,…).\n",
    "* Recibe retroalimentación inmediata del profesorado y de sus compañeros y compañeras.\n",
    "* Accede, si fuera necesario, a las actividades previas facilitadas por el profesorado."
   ]
  },
  {
   "attachments": {},
   "cell_type": "markdown",
   "id": "7dbfc4b9",
   "metadata": {
    "slideshow": {
     "slide_type": "slide"
    }
   },
   "source": [
    "## Ventajas de Flipped Learning  \n",
    "\n",
    "1. Incrementa el compromiso del alumnado porque éste se hace corresponsable de su aprendizaje y participa en él de forma activa mediante actividades de cooperación y colaboración en clase.  \n",
    "\n",
    "2. Permite que el alumnado aprenda a su propio ritmo, ya que tiene la posibilidad de acceder al material facilitado por el profesorado en cualquier momento y en cualquier lugar, todas las veces que necesite."
   ]
  },
  {
   "attachments": {},
   "cell_type": "markdown",
   "id": "8d97dc80",
   "metadata": {
    "slideshow": {
     "slide_type": "slide"
    }
   },
   "source": [
    "## Fomento de la lectura literaria asociada a Ingeniería agropecuaria y licenciatura en Matemáticas\n",
    "\n"
   ]
  },
  {
   "attachments": {},
   "cell_type": "markdown",
   "id": "bff96119",
   "metadata": {
    "slideshow": {
     "slide_type": "slide"
    }
   },
   "source": [
    "### Introducción"
   ]
  },
  {
   "attachments": {},
   "cell_type": "markdown",
   "id": "c2ca8f2e",
   "metadata": {
    "slideshow": {
     "slide_type": "slide"
    }
   },
   "source": [
    "Como estoy plenamente convencido de que forma parte intrínseca de nuestra naturaleza sentirnos satisfechos cuando damos y recibimos algo de manera compasiva o solidaria, hay dos preguntas que me han preocupado durante la mayor parte de mi vida. "
   ]
  },
  {
   "attachments": {},
   "cell_type": "markdown",
   "id": "4e4614ff",
   "metadata": {
    "slideshow": {
     "slide_type": "slide"
    }
   },
   "source": [
    "¿Qué ocurre que nos desconecta de nuestra naturaleza solidaria y nos lleva a comportarnos de manera violenta y abusiva?"
   ]
  },
  {
   "attachments": {},
   "cell_type": "markdown",
   "id": "86dee509",
   "metadata": {
    "slideshow": {
     "slide_type": "slide"
    }
   },
   "source": [
    " Y a la inversa, ¿por qué algunas personas son consecuentes con esta actitud solidaria incluso en las circunstancias más adversas?"
   ]
  },
  {
   "attachments": {},
   "cell_type": "markdown",
   "id": "b39679b3",
   "metadata": {
    "slideshow": {
     "slide_type": "slide"
    }
   },
   "source": [
    "# Los juicios moralistas"
   ]
  },
  {
   "attachments": {},
   "cell_type": "markdown",
   "id": "d4e8cd6b",
   "metadata": {
    "slideshow": {
     "slide_type": "slide"
    }
   },
   "source": [
    "Un tipo de comunicación que aliena de la vida es aquél en el que empleamos juicios moralistas que presuponen una actitud errónea o malvada por parte de aquellas personas que no actúan de acuerdo con nuestros valores. "
   ]
  },
  {
   "attachments": {},
   "cell_type": "markdown",
   "id": "c1ea3dcc",
   "metadata": {
    "slideshow": {
     "slide_type": "slide"
    }
   },
   "source": [
    "Estos juicios se reflejan en comentarios como: «Tu problema es que eres muy egoísta», «Es una perezosa», «Están llenos de prejuicios», «Esto es inapropiado». "
   ]
  },
  {
   "attachments": {},
   "cell_type": "markdown",
   "id": "b9895eef",
   "metadata": {},
   "source": [
    "Echar la culpa a alguien, insultarlo, rebajarlo, ponerle etiquetas, criticarlo, establecer comparaciones\n",
    "y emitir diagnósticos son distintas maneras de formular juicios.\n"
   ]
  },
  {
   "attachments": {},
   "cell_type": "markdown",
   "id": "777cfe78",
   "metadata": {},
   "source": [
    "El poeta sufí Rumi escribió en cierta ocasión: \n",
    "\n",
    "«Más allá de las ideas de actuar bien y actuar mal, se extiende un campo. Allí nos encontraremos»."
   ]
  },
  {
   "attachments": {},
   "cell_type": "markdown",
   "id": "1c785551",
   "metadata": {},
   "source": [
    "Sin embargo, la comunicación que nos aliena de la vida nos atrapa en un mundo de ideas preconcebidas con\n",
    "respecto a lo que está bien y lo que está mal, un mundo hecho de juicios. "
   ]
  },
  {
   "attachments": {},
   "cell_type": "markdown",
   "id": "9b963998",
   "metadata": {},
   "source": [
    "Emplea un lenguaje en\n",
    "el que abundan las palabras que establecen clasificaciones y dicotomías con respecto a las personas y a sus formas de actuar.\n"
   ]
  },
  {
   "attachments": {},
   "cell_type": "markdown",
   "id": "df877532",
   "metadata": {},
   "source": [
    "Cuando utilizamos este lenguaje juzgamos a los demás y su comportamiento y nos\n",
    "centramos en quién es bueno, malo, normal, anormal, responsable, irresponsable,\n",
    "inteligente, ignorante, etcétera.\n",
    "Ciertas formas de comunicación nos alienan de nuestro estado natural de compasión o solidaridad."
   ]
  },
  {
   "attachments": {},
   "cell_type": "markdown",
   "id": "5fc493ad",
   "metadata": {
    "slideshow": {
     "slide_type": "slide"
    }
   },
   "source": [
    "En el mundo de los juicios\n",
    "nuestra preocupación se\n",
    "centra en quién “es” qué."
   ]
  },
  {
   "attachments": {},
   "cell_type": "markdown",
   "id": "23d1cf0a",
   "metadata": {
    "slideshow": {
     "slide_type": "slide"
    }
   },
   "source": [
    "Mucho antes de llegar a la edad adulta, aprendí a comunicarme con los demás de una manera impersonal en la que no necesitaba revelar lo que me estaba pasando internamente. "
   ]
  },
  {
   "attachments": {},
   "cell_type": "markdown",
   "id": "fe92600c",
   "metadata": {
    "slideshow": {
     "slide_type": "slide"
    }
   },
   "source": [
    "Cada vez que me encontraba con personas o hechos que no me gustaban o no comprendía, mi reacción consistía en dictaminar que los equivocados eran ellos. "
   ]
  },
  {
   "attachments": {},
   "cell_type": "markdown",
   "id": "02abdd5f",
   "metadata": {
    "slideshow": {
     "slide_type": "slide"
    }
   },
   "source": [
    "Cuando mis maestros me encomendaban una tarea que yo no tenía ganas de hacer, se convertían a mis ojos en unos «pesados» o unos «imbéciles». "
   ]
  },
  {
   "attachments": {},
   "cell_type": "markdown",
   "id": "9fc2f7f6",
   "metadata": {
    "slideshow": {
     "slide_type": "slide"
    }
   },
   "source": [
    "Cuando estaba manejando y alguien me pasaba por delante, yo reaccionaba llamándolo «idiota». "
   ]
  },
  {
   "attachments": {},
   "cell_type": "markdown",
   "id": "c4231c7a",
   "metadata": {
    "slideshow": {
     "slide_type": "slide"
    }
   },
   "source": [
    "Siempre que empleamos este lenguaje, pensamos y nos comunicamos desde la perspectiva de\n",
    "que algo falla en los demás porque se comportan de una determinada manera o, a veces, de que algo falla en nosotros porque no comprendemos o no responde\u0002mos como nos gustaría. "
   ]
  },
  {
   "attachments": {},
   "cell_type": "markdown",
   "id": "16ce4f69",
   "metadata": {
    "slideshow": {
     "slide_type": "slide"
    }
   },
   "source": [
    "Centramos nuestra atención en clasificar, analizar y determinar niveles de error más que en lo que necesitamos (nosotros y los demás) y no conseguimos. "
   ]
  },
  {
   "attachments": {},
   "cell_type": "markdown",
   "id": "9715eef7",
   "metadata": {
    "slideshow": {
     "slide_type": "slide"
    }
   },
   "source": [
    "En consecuencia, si mi pareja quiere más cariño del que yo le ofrezco, es una persona «dependiente y desvalida». Pero si yo quiero más cariño que el que ella me da, es «distante e insensible». Si mi compañero de trabajo se preocupa más que yo por los detalles, es «quisquilloso y compulsivo». "
   ]
  },
  {
   "attachments": {},
   "cell_type": "markdown",
   "id": "611ca7d1",
   "metadata": {},
   "source": [
    "En cambio,si soy yo quien se preocupa más por los detalles, él es «descuidado y desorganizado».\n",
    "Creo que este tipo de análisis de otros seres humanos no es más que una trágica expresión de nuestros propios valores y necesidades. "
   ]
  },
  {
   "attachments": {},
   "cell_type": "markdown",
   "id": "324825b1",
   "metadata": {},
   "source": [
    "Trágica porque, cuando expresamos nuestros valores y necesidades de esta manera, lo único que conseguimos es potenciar una actitud defensiva y de resistencia en las mismas personas cuya conducta nos molesta. "
   ]
  },
  {
   "attachments": {},
   "cell_type": "markdown",
   "id": "d83f9a67",
   "metadata": {},
   "source": [
    "Y si aceptan actuar en consonancia con nuestra\n",
    "escala de valores porque coinciden en nuestro análisis de su ineptitud, es probable que sólo lo hagan por miedo, culpa o vergüenza.\n"
   ]
  },
  {
   "attachments": {},
   "cell_type": "markdown",
   "id": "bc35f547",
   "metadata": {},
   "source": [
    "Sin embargo, cuando los demás acceden a actuar de acuerdo con nuestros valores y necesidades, no porque lo deseen de corazón, sino porque tienen miedo o se sienten culpables o avergonzados, el precio que nos toca pagar es realmente muy alto. "
   ]
  },
  {
   "attachments": {},
   "cell_type": "markdown",
   "id": "c3cbd1bd",
   "metadata": {},
   "source": [
    "Tarde o temprano vendrán las consecuencias bajo la forma de una falta de buena voluntad por parte de aquellos que responden a nuestros deseos por coerción externa o interna. "
   ]
  },
  {
   "attachments": {},
   "cell_type": "markdown",
   "id": "392580c8",
   "metadata": {},
   "source": [
    "Por otro lado, cuando alguien hace algo por miedo, culpa o vergüenza, también paga un precio de tipo emocional, ya que abrigará un resentimiento contra nosotros al quedar rebajada su autoestima. "
   ]
  },
  {
   "attachments": {},
   "cell_type": "markdown",
   "id": "3f46db65",
   "metadata": {},
   "source": [
    "Además, cada\n",
    "vez que otras personas nos asocien con cualquiera de estos sentimientos, disminuirá la probabilidad de que en el futuro respondan de una manera solidaria a nuestras necesidades y nuestros valores"
   ]
  },
  {
   "attachments": {},
   "cell_type": "markdown",
   "id": "96775931",
   "metadata": {
    "slideshow": {
     "slide_type": "slide"
    }
   },
   "source": [
    "## Título de la clase: Uso de la derivada para la graficación de funciones y la interpretación de dichos gráficos\n",
    "\n",
    "Página "
   ]
  },
  {
   "attachments": {},
   "cell_type": "markdown",
   "id": "1d38dd4e",
   "metadata": {
    "slideshow": {
     "slide_type": "slide"
    }
   },
   "source": [
    "### Objetivo de aprendizaje (Enunciar, de manera corta sencilla y clara para todos los asistentes)\n",
    "\n",
    "1. Desarrollo de capacidades de comunicación científica\n",
    "2. Desarrollo del pensamiento computacional\n",
    "3. Promoción de políticas de ciencia libre.  "
   ]
  },
  {
   "attachments": {},
   "cell_type": "markdown",
   "id": "540f0ec1",
   "metadata": {
    "slideshow": {
     "slide_type": "slide"
    }
   },
   "source": [
    "## Cuestionario para realizar labores de memorización, observación y síntesis de la información (Además de diagnóstico)\n",
    "\n",
    "1. ¿?\n",
    "2. ¿?\n",
    "3. ¿?\n",
    "4. ¿?\n",
    "5. ¿?"
   ]
  },
  {
   "attachments": {},
   "cell_type": "markdown",
   "id": "ca7261b1",
   "metadata": {
    "slideshow": {
     "slide_type": "slide"
    }
   },
   "source": [
    "## Establecimiento de prerrequisitos conceptuales para alcanzar el objetivo de aprendizaje trazado.   \n",
    "\n",
    "(Elabore una lista de preguntas al rededor de los conceptos que consideres necesarios para empezar la clase).  \n",
    "\n",
    "1. \n",
    "2. \n",
    "3. "
   ]
  },
  {
   "attachments": {},
   "cell_type": "markdown",
   "id": "2298e976",
   "metadata": {
    "slideshow": {
     "slide_type": "slide"
    }
   },
   "source": [
    "# Para el diseño de la clase tenga en cuenta algunos problemas de aprendizaje"
   ]
  },
  {
   "cell_type": "markdown",
   "id": "523d3acf",
   "metadata": {
    "slideshow": {
     "slide_type": "slide"
    }
   },
   "source": []
  },
  {
   "cell_type": "code",
   "execution_count": null,
   "id": "9ef5df94",
   "metadata": {},
   "outputs": [],
   "source": []
  },
  {
   "attachments": {},
   "cell_type": "markdown",
   "id": "a40a4704",
   "metadata": {
    "slideshow": {
     "slide_type": "slide"
    }
   },
   "source": [
    "# Secuencia conceptual introductoria a la clase"
   ]
  },
  {
   "attachments": {},
   "cell_type": "markdown",
   "id": "12cb2994",
   "metadata": {
    "slideshow": {
     "slide_type": "slide"
    }
   },
   "source": [
    "## Realizar la gráfica de \n",
    "\n",
    "$$ f(x) = \\frac{2x}{1+x^{2}} $$\n",
    "\n",
    "Hacer todos los cálculos y por último interpretar la gráfica.\n",
    "\n"
   ]
  },
  {
   "cell_type": "markdown",
   "id": "3c3d12e1",
   "metadata": {},
   "source": [
    "## Solución\n",
    "\n",
    "Pasos para realizar el gráfico de una función\n",
    "\n",
    "Para graficar una función racional y comprender los conceptos de límites y derivadas, puedes seguir estos pasos:\n",
    "\n",
    "Supongamos que tienes una función racional \\(f(x)\\) que deseas graficar. Por ejemplo, considera la función  \n"
   ]
  },
  {
   "cell_type": "markdown",
   "id": "3c05d58b",
   "metadata": {},
   "source": [
    "\n",
    "$$ f(x) = \\frac{2x}{1 + x^{2}}. $$\n",
    "\n",
    "### Paso 1: Encontrar el dominio de la función  \n",
    "\n",
    "Antes de graficar la función, es importante encontrar el dominio, es decir, los valores de \\(x\\) para los cuales la función está definida. Como el denominador de $f$ nunca se anulla,, entonces el dominio de esta funciión es todo el conjunto de los números reales. \n"
   ]
  },
  {
   "cell_type": "markdown",
   "id": "56195fa0",
   "metadata": {},
   "source": [
    "\n",
    "Paso 2: Calcular los límites\n",
    "Los límites son fundamentales para comprender el comportamiento de la función en puntos críticos. Calcular los límites en estos puntos es importante. En el ejemplo, el límite cuando \\(x\\) se acerca a 1 sería:\n",
    "\n",
    "\n",
    "$$ \\lim_{{x \\to 1}} \\frac{x^2 - 1}{x - 1} $$\n",
    "\n",
    "\n",
    "Puedes calcular este límite para determinar si hay una asíntota en \\(x = 1\\).\n",
    "\n",
    "Paso 3: Encontrar las asíntotas\n",
    "Las asíntotas son líneas horizontales, verticales u oblicuas que la función se acerca a medida que \\(x\\) se acerca a ciertos valores. En el ejemplo, podrías encontrar tanto la asíntota vertical en \\(x = 1\\) como la asíntota horizontal si existe. Para ello, calcula los límites apropiados.\n",
    "\n",
    "Paso 4: Calcular la derivada\n",
    "La derivada de la función te dará información sobre las pendientes de la función en diferentes puntos y te ayudará a identificar máximos, mínimos y puntos de inflexión. Calcula la derivada de \\(f(x)\\):\n",
    "\n",
    "\\[\n",
    "f'(x) = \\frac{d}{dx} \\left(\\frac{x^2 - 1}{x - 1}\\right)\n",
    "\\]\n",
    "\n",
    "Paso 5: Encontrar puntos críticos y puntos de inflexión\n",
    "Resuelve \\(f'(x) = 0\\) para encontrar los puntos críticos. Luego, calcula la segunda derivada \\(f''(x)\\) y determina si estos puntos son máximos, mínimos o puntos de inflexión.\n",
    "\n",
    "Paso 6: Graficar la función\n",
    "Utiliza un software de gráficos como Python con la biblioteca Matplotlib o herramientas en línea como Desmos o GeoGebra para graficar la función \\(f(x)\\). Asegúrate de incluir las asíntotas, los puntos críticos y cualquier punto de inflexión en el gráfico.\n",
    "\n",
    "Paso 7: Interpretar la gráfica\n",
    "Examina la gráfica y utiliza los conceptos de límites y derivadas para analizar su comportamiento en diferentes regiones, identificar máximos, mínimos y puntos de inflexión, y comprender cómo se acerca a las asíntotas.\n",
    "\n",
    "Este proceso te ayudará a visualizar y comprender mejor una función racional, así como los conceptos de límites y derivadas en acción.\n"
   ]
  },
  {
   "cell_type": "markdown",
   "id": "6d71f457",
   "metadata": {},
   "source": [
    "# Hacer la representación tabular de la función $f$"
   ]
  },
  {
   "cell_type": "code",
   "execution_count": null,
   "id": "780c4eda",
   "metadata": {},
   "outputs": [],
   "source": []
  },
  {
   "cell_type": "code",
   "execution_count": 13,
   "id": "b1871bd5",
   "metadata": {},
   "outputs": [
    {
     "data": {
      "image/png": "[encoded data removed]",
      "text/plain": [
       "<Figure size 640x480 with 1 Axes>"
      ]
     },
     "metadata": {},
     "output_type": "display_data"
    }
   ],
   "source": [
    "import numpy as np\n",
    "import matplotlib.pyplot as plt \n",
    "\n",
    "dominio = np.arange(-10, 10+1, 0.01)\n",
    "dominio \n",
    "def f(x):\n",
    "    return 2*x/(1+x**2)\n",
    "rango = f(dominio)\n",
    "\n",
    "plt.scatter(dominio, rango, color = 'red')\n",
    "plt.plot(dominio, rango, color = 'green')\n",
    "\n",
    "plt.grid() "
   ]
  },
  {
   "cell_type": "code",
   "execution_count": 14,
   "id": "eff7dd6a",
   "metadata": {},
   "outputs": [
    {
     "name": "stdout",
     "output_type": "stream",
     "text": [
      "Union(Interval.open(-2, 2), Interval.open(2, oo))\n"
     ]
    }
   ],
   "source": [
    "from sympy import symbols, solve_univariate_inequality, Interval, S\n",
    "\n",
    "# Definir las variables simbólicas\n",
    "x = symbols('x')\n",
    "\n",
    "# Definir la inecuación racional, por ejemplo: (x^2 - 4) / (x - 2) > 0\n",
    "inecuacion = ((x**2 - 4) / (x - 2)) > 0\n",
    "\n",
    "# Resolver la inecuación\n",
    "solucion = solve_univariate_inequality(inecuacion, x, relational=False)\n",
    "\n",
    "# Mostrar la solución\n",
    "print(solucion)\n"
   ]
  },
  {
   "cell_type": "code",
   "execution_count": null,
   "id": "8945dcf8",
   "metadata": {},
   "outputs": [],
   "source": []
  },
  {
   "attachments": {},
   "cell_type": "markdown",
   "id": "1ccfb67e",
   "metadata": {
    "slideshow": {
     "slide_type": "slide"
    }
   },
   "source": [
    "# Visualizaciones tabulares y gráficas"
   ]
  },
  {
   "attachments": {},
   "cell_type": "markdown",
   "id": "0631fb05",
   "metadata": {
    "slideshow": {
     "slide_type": "slide"
    }
   },
   "source": [
    "## Visualización gráfica con plotly"
   ]
  },
  {
   "cell_type": "code",
   "execution_count": 16,
   "id": "e38dfdb2",
   "metadata": {},
   "outputs": [
    {
     "data": {
      "text/html": [
       "<div>\n",
       "<style scoped>\n",
       "    .dataframe tbody tr th:only-of-type {\n",
       "        vertical-align: middle;\n",
       "    }\n",
       "\n",
       "    .dataframe tbody tr th {\n",
       "        vertical-align: top;\n",
       "    }\n",
       "\n",
       "    .dataframe thead th {\n",
       "        text-align: right;\n",
       "    }\n",
       "</style>\n",
       "<table border=\"1\" class=\"dataframe\">\n",
       "  <thead>\n",
       "    <tr style=\"text-align: right;\">\n",
       "      <th></th>\n",
       "      <th>Unnamed: 0</th>\n",
       "      <th>fecha</th>\n",
       "      <th>nombre_completo</th>\n",
       "      <th>estado</th>\n",
       "      <th>precipitacion</th>\n",
       "      <th>temperatura</th>\n",
       "    </tr>\n",
       "  </thead>\n",
       "  <tbody>\n",
       "    <tr>\n",
       "      <th>0</th>\n",
       "      <td>0</td>\n",
       "      <td>2023-09-27 00:00:00</td>\n",
       "      <td>ITM Medellín</td>\n",
       "      <td>Habilitada</td>\n",
       "      <td>0.0</td>\n",
       "      <td>20.44444</td>\n",
       "    </tr>\n",
       "    <tr>\n",
       "      <th>1</th>\n",
       "      <td>1</td>\n",
       "      <td>2023-09-27 00:01:00</td>\n",
       "      <td>ITM Medellín</td>\n",
       "      <td>Habilitada</td>\n",
       "      <td>0.0</td>\n",
       "      <td>20.44444</td>\n",
       "    </tr>\n",
       "    <tr>\n",
       "      <th>2</th>\n",
       "      <td>2</td>\n",
       "      <td>2023-09-27 00:02:00</td>\n",
       "      <td>ITM Medellín</td>\n",
       "      <td>Habilitada</td>\n",
       "      <td>0.0</td>\n",
       "      <td>20.44444</td>\n",
       "    </tr>\n",
       "    <tr>\n",
       "      <th>3</th>\n",
       "      <td>3</td>\n",
       "      <td>2023-09-27 00:03:00</td>\n",
       "      <td>ITM Medellín</td>\n",
       "      <td>Habilitada</td>\n",
       "      <td>0.0</td>\n",
       "      <td>20.44444</td>\n",
       "    </tr>\n",
       "    <tr>\n",
       "      <th>4</th>\n",
       "      <td>4</td>\n",
       "      <td>2023-09-27 00:04:01</td>\n",
       "      <td>ITM Medellín</td>\n",
       "      <td>Habilitada</td>\n",
       "      <td>0.0</td>\n",
       "      <td>20.44444</td>\n",
       "    </tr>\n",
       "    <tr>\n",
       "      <th>...</th>\n",
       "      <td>...</td>\n",
       "      <td>...</td>\n",
       "      <td>...</td>\n",
       "      <td>...</td>\n",
       "      <td>...</td>\n",
       "      <td>...</td>\n",
       "    </tr>\n",
       "    <tr>\n",
       "      <th>1436</th>\n",
       "      <td>1436</td>\n",
       "      <td>2023-09-27 23:56:01</td>\n",
       "      <td>ITM Medellín</td>\n",
       "      <td>Habilitada</td>\n",
       "      <td>0.0</td>\n",
       "      <td>20.77778</td>\n",
       "    </tr>\n",
       "    <tr>\n",
       "      <th>1437</th>\n",
       "      <td>1437</td>\n",
       "      <td>2023-09-27 23:57:00</td>\n",
       "      <td>ITM Medellín</td>\n",
       "      <td>Habilitada</td>\n",
       "      <td>0.0</td>\n",
       "      <td>20.77778</td>\n",
       "    </tr>\n",
       "    <tr>\n",
       "      <th>1438</th>\n",
       "      <td>1438</td>\n",
       "      <td>2023-09-27 23:58:00</td>\n",
       "      <td>ITM Medellín</td>\n",
       "      <td>Habilitada</td>\n",
       "      <td>0.0</td>\n",
       "      <td>20.77778</td>\n",
       "    </tr>\n",
       "    <tr>\n",
       "      <th>1439</th>\n",
       "      <td>1439</td>\n",
       "      <td>2023-09-27 23:59:00</td>\n",
       "      <td>ITM Medellín</td>\n",
       "      <td>Habilitada</td>\n",
       "      <td>0.0</td>\n",
       "      <td>20.72222</td>\n",
       "    </tr>\n",
       "    <tr>\n",
       "      <th>1440</th>\n",
       "      <td>1440</td>\n",
       "      <td>2023-09-28 00:00:00</td>\n",
       "      <td>ITM Medellín</td>\n",
       "      <td>Habilitada</td>\n",
       "      <td>0.0</td>\n",
       "      <td>20.72222</td>\n",
       "    </tr>\n",
       "  </tbody>\n",
       "</table>\n",
       "<p>1441 rows × 6 columns</p>\n",
       "</div>"
      ],
      "text/plain": [
       "      Unnamed: 0                fecha nombre_completo      estado  \\\n",
       "0              0  2023-09-27 00:00:00    ITM Medellín  Habilitada   \n",
       "1              1  2023-09-27 00:01:00    ITM Medellín  Habilitada   \n",
       "2              2  2023-09-27 00:02:00    ITM Medellín  Habilitada   \n",
       "3              3  2023-09-27 00:03:00    ITM Medellín  Habilitada   \n",
       "4              4  2023-09-27 00:04:01    ITM Medellín  Habilitada   \n",
       "...          ...                  ...             ...         ...   \n",
       "1436        1436  2023-09-27 23:56:01    ITM Medellín  Habilitada   \n",
       "1437        1437  2023-09-27 23:57:00    ITM Medellín  Habilitada   \n",
       "1438        1438  2023-09-27 23:58:00    ITM Medellín  Habilitada   \n",
       "1439        1439  2023-09-27 23:59:00    ITM Medellín  Habilitada   \n",
       "1440        1440  2023-09-28 00:00:00    ITM Medellín  Habilitada   \n",
       "\n",
       "      precipitacion  temperatura  \n",
       "0               0.0     20.44444  \n",
       "1               0.0     20.44444  \n",
       "2               0.0     20.44444  \n",
       "3               0.0     20.44444  \n",
       "4               0.0     20.44444  \n",
       "...             ...          ...  \n",
       "1436            0.0     20.77778  \n",
       "1437            0.0     20.77778  \n",
       "1438            0.0     20.77778  \n",
       "1439            0.0     20.72222  \n",
       "1440            0.0     20.72222  \n",
       "\n",
       "[1441 rows x 6 columns]"
      ]
     },
     "execution_count": 16,
     "metadata": {},
     "output_type": "execute_result"
    }
   ],
   "source": [
    "import pandas as pd \n",
    "\n",
    "tabla_datos_precipitacion = pd.read_csv('marco_2023-09-28_17_19_44.csv')\n",
    "\n",
    "tabla_datos_precipitacion"
   ]
  },
  {
   "cell_type": "code",
   "execution_count": 18,
   "id": "d1bff0f9",
   "metadata": {
    "slideshow": {
     "slide_type": "slide"
    }
   },
   "outputs": [
    {
     "data": {
      "text/html": [
       "<div>\n",
       "<style scoped>\n",
       "    .dataframe tbody tr th:only-of-type {\n",
       "        vertical-align: middle;\n",
       "    }\n",
       "\n",
       "    .dataframe tbody tr th {\n",
       "        vertical-align: top;\n",
       "    }\n",
       "\n",
       "    .dataframe thead th {\n",
       "        text-align: right;\n",
       "    }\n",
       "</style>\n",
       "<table border=\"1\" class=\"dataframe\">\n",
       "  <thead>\n",
       "    <tr style=\"text-align: right;\">\n",
       "      <th></th>\n",
       "      <th>fechas</th>\n",
       "      <th>temperatura en medellín</th>\n",
       "    </tr>\n",
       "  </thead>\n",
       "  <tbody>\n",
       "    <tr>\n",
       "      <th>0</th>\n",
       "      <td>2023-09-27 00:00:00</td>\n",
       "      <td>20.44444</td>\n",
       "    </tr>\n",
       "    <tr>\n",
       "      <th>1</th>\n",
       "      <td>2023-09-27 00:01:00</td>\n",
       "      <td>20.44444</td>\n",
       "    </tr>\n",
       "    <tr>\n",
       "      <th>2</th>\n",
       "      <td>2023-09-27 00:02:00</td>\n",
       "      <td>20.44444</td>\n",
       "    </tr>\n",
       "    <tr>\n",
       "      <th>3</th>\n",
       "      <td>2023-09-27 00:03:00</td>\n",
       "      <td>20.44444</td>\n",
       "    </tr>\n",
       "    <tr>\n",
       "      <th>4</th>\n",
       "      <td>2023-09-27 00:04:01</td>\n",
       "      <td>20.44444</td>\n",
       "    </tr>\n",
       "    <tr>\n",
       "      <th>...</th>\n",
       "      <td>...</td>\n",
       "      <td>...</td>\n",
       "    </tr>\n",
       "    <tr>\n",
       "      <th>1436</th>\n",
       "      <td>2023-09-27 23:56:01</td>\n",
       "      <td>20.77778</td>\n",
       "    </tr>\n",
       "    <tr>\n",
       "      <th>1437</th>\n",
       "      <td>2023-09-27 23:57:00</td>\n",
       "      <td>20.77778</td>\n",
       "    </tr>\n",
       "    <tr>\n",
       "      <th>1438</th>\n",
       "      <td>2023-09-27 23:58:00</td>\n",
       "      <td>20.77778</td>\n",
       "    </tr>\n",
       "    <tr>\n",
       "      <th>1439</th>\n",
       "      <td>2023-09-27 23:59:00</td>\n",
       "      <td>20.72222</td>\n",
       "    </tr>\n",
       "    <tr>\n",
       "      <th>1440</th>\n",
       "      <td>2023-09-28 00:00:00</td>\n",
       "      <td>20.72222</td>\n",
       "    </tr>\n",
       "  </tbody>\n",
       "</table>\n",
       "<p>1441 rows × 2 columns</p>\n",
       "</div>"
      ],
      "text/plain": [
       "                   fechas  temperatura en medellín\n",
       "0     2023-09-27 00:00:00                 20.44444\n",
       "1     2023-09-27 00:01:00                 20.44444\n",
       "2     2023-09-27 00:02:00                 20.44444\n",
       "3     2023-09-27 00:03:00                 20.44444\n",
       "4     2023-09-27 00:04:01                 20.44444\n",
       "...                   ...                      ...\n",
       "1436  2023-09-27 23:56:01                 20.77778\n",
       "1437  2023-09-27 23:57:00                 20.77778\n",
       "1438  2023-09-27 23:58:00                 20.77778\n",
       "1439  2023-09-27 23:59:00                 20.72222\n",
       "1440  2023-09-28 00:00:00                 20.72222\n",
       "\n",
       "[1441 rows x 2 columns]"
      ]
     },
     "execution_count": 18,
     "metadata": {},
     "output_type": "execute_result"
    }
   ],
   "source": [
    "import numpy as np \n",
    "import pandas as pd \n",
    " \n",
    "\n",
    "tabla = pd.DataFrame({'fechas':tabla_datos_precipitacion.fecha, 'temperatura en medellín':tabla_datos_precipitacion.temperatura})\n",
    "tabla "
   ]
  },
  {
   "cell_type": "code",
   "execution_count": 19,
   "id": "6009af5a",
   "metadata": {
    "slideshow": {
     "slide_type": "slide"
    }
   },
   "outputs": [
    {
     "data": {
      "application/vnd.plotly.v1+json": {
       "config": {
        "plotlyServerURL": "https://plot.ly"
       },
       "data": [
        {
         "hovertemplate": "fechas=%{x}<br>temperatura en medellín=%{y}<extra></extra>",
         "legendgroup": "",
         "marker": {
          "color": "#636efa",
          "symbol": "circle"
         },
         "mode": "markers",
         "name": "",
         "showlegend": false,
         "type": "scattergl",
         "x": [
          "2023-09-27 00:00:00",
          "2023-09-27 00:01:00",
          "2023-09-27 00:02:00",
          "2023-09-27 00:03:00",
          "2023-09-27 00:04:01",
          "2023-09-27 00:05:00",
          "2023-09-27 00:06:00",
          "2023-09-27 00:07:00",
          "2023-09-27 00:08:10",
          "2023-09-27 00:09:01",
          "2023-09-27 00:10:00",
          "2023-09-27 00:11:01",
          "2023-09-27 00:12:00",
          "2023-09-27 00:13:00",
          "2023-09-27 00:14:00",
          "2023-09-27 00:15:00",
          "2023-09-27 00:16:00",
          "2023-09-27 00:17:00",
          "2023-09-27 00:18:01",
          "2023-09-27 00:19:00",
          "2023-09-27 00:20:00",
          "2023-09-27 00:21:00",
          "2023-09-27 00:22:00",
          "2023-09-27 00:23:00",
          "2023-09-27 00:24:00",
          "2023-09-27 00:25:00",
          "2023-09-27 00:26:00",
          "2023-09-27 00:27:01",
          "2023-09-27 00:28:00",
          "2023-09-27 00:29:00",
          "2023-09-27 00:30:00",
          "2023-09-27 00:31:00",
          "2023-09-27 00:32:10",
          "2023-09-27 00:33:00",
          "2023-09-27 00:34:00",
          "2023-09-27 00:35:00",
          "2023-09-27 00:36:00",
          "2023-09-27 00:37:00",
          "2023-09-27 00:38:00",
          "2023-09-27 00:39:01",
          "2023-09-27 00:40:00",
          "2023-09-27 00:41:00",
          "2023-09-27 00:42:01",
          "2023-09-27 00:43:00",
          "2023-09-27 00:44:00",
          "2023-09-27 00:45:00",
          "2023-09-27 00:46:00",
          "2023-09-27 00:47:00",
          "2023-09-27 00:48:01",
          "2023-09-27 00:49:00",
          "2023-09-27 00:50:00",
          "2023-09-27 00:51:01",
          "2023-09-27 00:52:00",
          "2023-09-27 00:53:00",
          "2023-09-27 00:54:00",
          "2023-09-27 00:55:00",
          "2023-09-27 00:56:00",
          "2023-09-27 00:57:01",
          "2023-09-27 00:58:00",
          "2023-09-27 00:59:00",
          "2023-09-27 01:00:00",
          "2023-09-27 01:01:00",
          "2023-09-27 01:02:00",
          "2023-09-27 01:03:00",
          "2023-09-27 01:04:01",
          "2023-09-27 01:05:00",
          "2023-09-27 01:06:01",
          "2023-09-27 01:07:00",
          "2023-09-27 01:08:00",
          "2023-09-27 01:09:00",
          "2023-09-27 01:10:00",
          "2023-09-27 01:11:00",
          "2023-09-27 01:12:00",
          "2023-09-27 01:13:01",
          "2023-09-27 01:14:00",
          "2023-09-27 01:15:00",
          "2023-09-27 01:16:00",
          "2023-09-27 01:17:00",
          "2023-09-27 01:18:00",
          "2023-09-27 01:19:00",
          "2023-09-27 01:20:00",
          "2023-09-27 01:21:00",
          "2023-09-27 01:22:01",
          "2023-09-27 01:23:00",
          "2023-09-27 01:24:00",
          "2023-09-27 01:25:00",
          "2023-09-27 01:26:00",
          "2023-09-27 01:27:10",
          "2023-09-27 01:28:01",
          "2023-09-27 01:29:00",
          "2023-09-27 01:30:10",
          "2023-09-27 01:31:00",
          "2023-09-27 01:32:00",
          "2023-09-27 01:33:01",
          "2023-09-27 01:34:00",
          "2023-09-27 01:35:00",
          "2023-09-27 01:36:00",
          "2023-09-27 01:37:00",
          "2023-09-27 01:38:00",
          "2023-09-27 01:39:00",
          "2023-09-27 01:40:00",
          "2023-09-27 01:41:00",
          "2023-09-27 01:42:01",
          "2023-09-27 01:43:00",
          "2023-09-27 01:44:00",
          "2023-09-27 01:45:00",
          "2023-09-27 01:46:00",
          "2023-09-27 01:47:00",
          "2023-09-27 01:48:00",
          "2023-09-27 01:49:01",
          "2023-09-27 01:50:00",
          "2023-09-27 01:51:01",
          "2023-09-27 01:52:00",
          "2023-09-27 01:53:00",
          "2023-09-27 01:54:00",
          "2023-09-27 01:55:00",
          "2023-09-27 01:56:00",
          "2023-09-27 01:57:00",
          "2023-09-27 01:58:00",
          "2023-09-27 01:59:00",
          "2023-09-27 02:00:00",
          "2023-09-27 02:01:00",
          "2023-09-27 02:02:00",
          "2023-09-27 02:03:00",
          "2023-09-27 02:04:00",
          "2023-09-27 02:05:00",
          "2023-09-27 02:06:01",
          "2023-09-27 02:07:00",
          "2023-09-27 02:08:00",
          "2023-09-27 02:09:00",
          "2023-09-27 02:10:00",
          "2023-09-27 02:11:00",
          "2023-09-27 02:12:00",
          "2023-09-27 02:13:01",
          "2023-09-27 02:14:00",
          "2023-09-27 02:15:00",
          "2023-09-27 02:16:01",
          "2023-09-27 02:17:00",
          "2023-09-27 02:18:00",
          "2023-09-27 02:19:00",
          "2023-09-27 02:20:00",
          "2023-09-27 02:21:00",
          "2023-09-27 02:22:01",
          "2023-09-27 02:23:00",
          "2023-09-27 02:24:00",
          "2023-09-27 02:25:00",
          "2023-09-27 02:26:00",
          "2023-09-27 02:27:00",
          "2023-09-27 02:28:00",
          "2023-09-27 02:29:01",
          "2023-09-27 02:30:00",
          "2023-09-27 02:31:01",
          "2023-09-27 02:32:00",
          "2023-09-27 02:33:00",
          "2023-09-27 02:34:00",
          "2023-09-27 02:35:00",
          "2023-09-27 02:36:00",
          "2023-09-27 02:37:00",
          "2023-09-27 02:38:01",
          "2023-09-27 02:39:00",
          "2023-09-27 02:40:00",
          "2023-09-27 02:41:00",
          "2023-09-27 02:42:00",
          "2023-09-27 02:43:00",
          "2023-09-27 02:44:00",
          "2023-09-27 02:45:00",
          "2023-09-27 02:46:00",
          "2023-09-27 02:47:01",
          "2023-09-27 02:48:00",
          "2023-09-27 02:49:00",
          "2023-09-27 02:50:00",
          "2023-09-27 02:51:00",
          "2023-09-27 02:52:00",
          "2023-09-27 02:53:00",
          "2023-09-27 02:54:01",
          "2023-09-27 02:55:00",
          "2023-09-27 02:56:01",
          "2023-09-27 02:57:00",
          "2023-09-27 02:58:00",
          "2023-09-27 02:59:00",
          "2023-09-27 03:00:00",
          "2023-09-27 03:01:00",
          "2023-09-27 03:02:00",
          "2023-09-27 03:03:01",
          "2023-09-27 03:04:00",
          "2023-09-27 03:05:00",
          "2023-09-27 03:06:00",
          "2023-09-27 03:07:00",
          "2023-09-27 03:08:00",
          "2023-09-27 03:09:00",
          "2023-09-27 03:10:00",
          "2023-09-27 03:11:00",
          "2023-09-27 03:12:01",
          "2023-09-27 03:13:00",
          "2023-09-27 03:14:00",
          "2023-09-27 03:15:00",
          "2023-09-27 03:16:00",
          "2023-09-27 03:17:00",
          "2023-09-27 03:18:00",
          "2023-09-27 03:19:01",
          "2023-09-27 03:20:00",
          "2023-09-27 03:21:01",
          "2023-09-27 03:22:00",
          "2023-09-27 03:23:00",
          "2023-09-27 03:24:00",
          "2023-09-27 03:25:00",
          "2023-09-27 03:26:00",
          "2023-09-27 03:27:00",
          "2023-09-27 03:28:01",
          "2023-09-27 03:29:00",
          "2023-09-27 03:30:00",
          "2023-09-27 03:31:00",
          "2023-09-27 03:32:00",
          "2023-09-27 03:33:11",
          "2023-09-27 03:34:00",
          "2023-09-27 03:35:10",
          "2023-09-27 03:36:00",
          "2023-09-27 03:37:00",
          "2023-09-27 03:38:00",
          "2023-09-27 03:39:01",
          "2023-09-27 03:40:00",
          "2023-09-27 03:41:01",
          "2023-09-27 03:42:00",
          "2023-09-27 03:43:00",
          "2023-09-27 03:44:00",
          "2023-09-27 03:45:00",
          "2023-09-27 03:46:00",
          "2023-09-27 03:47:00",
          "2023-09-27 03:48:01",
          "2023-09-27 03:49:00",
          "2023-09-27 03:50:00",
          "2023-09-27 03:51:00",
          "2023-09-27 03:52:00",
          "2023-09-27 03:53:00",
          "2023-09-27 03:54:01",
          "2023-09-27 03:55:00",
          "2023-09-27 03:56:00",
          "2023-09-27 03:57:01",
          "2023-09-27 03:58:00",
          "2023-09-27 03:59:00",
          "2023-09-27 04:00:00",
          "2023-09-27 04:01:00",
          "2023-09-27 04:02:00",
          "2023-09-27 04:03:01",
          "2023-09-27 04:04:00",
          "2023-09-27 04:05:00",
          "2023-09-27 04:06:00",
          "2023-09-27 04:07:00",
          "2023-09-27 04:08:00",
          "2023-09-27 04:09:00",
          "2023-09-27 04:10:00",
          "2023-09-27 04:11:00",
          "2023-09-27 04:12:01",
          "2023-09-27 04:13:00",
          "2023-09-27 04:14:00",
          "2023-09-27 04:15:00",
          "2023-09-27 04:16:00",
          "2023-09-27 04:17:00",
          "2023-09-27 04:18:00",
          "2023-09-27 04:19:01",
          "2023-09-27 04:20:00",
          "2023-09-27 04:21:01",
          "2023-09-27 04:22:00",
          "2023-09-27 04:23:00",
          "2023-09-27 04:24:00",
          "2023-09-27 04:25:00",
          "2023-09-27 04:26:00",
          "2023-09-27 04:27:00",
          "2023-09-27 04:28:01",
          "2023-09-27 04:29:00",
          "2023-09-27 04:30:00",
          "2023-09-27 04:31:00",
          "2023-09-27 04:32:00",
          "2023-09-27 04:33:00",
          "2023-09-27 04:34:00",
          "2023-09-27 04:35:11",
          "2023-09-27 04:36:01",
          "2023-09-27 04:37:00",
          "2023-09-27 04:38:00",
          "2023-09-27 04:39:00",
          "2023-09-27 04:40:00",
          "2023-09-27 04:41:00",
          "2023-09-27 04:42:00",
          "2023-09-27 04:43:01",
          "2023-09-27 04:44:00",
          "2023-09-27 04:45:00",
          "2023-09-27 04:46:00",
          "2023-09-27 04:47:00",
          "2023-09-27 04:48:11",
          "2023-09-27 04:49:00",
          "2023-09-27 04:50:00",
          "2023-09-27 04:51:01",
          "2023-09-27 04:52:00",
          "2023-09-27 04:53:00",
          "2023-09-27 04:54:00",
          "2023-09-27 04:55:00",
          "2023-09-27 04:56:00",
          "2023-09-27 04:57:00",
          "2023-09-27 04:58:01",
          "2023-09-27 04:59:00",
          "2023-09-27 05:00:00",
          "2023-09-27 05:01:00",
          "2023-09-27 05:02:00",
          "2023-09-27 05:03:00",
          "2023-09-27 05:04:01",
          "2023-09-27 05:05:00",
          "2023-09-27 05:06:00",
          "2023-09-27 05:07:00",
          "2023-09-27 05:08:00",
          "2023-09-27 05:09:00",
          "2023-09-27 05:10:00",
          "2023-09-27 05:11:00",
          "2023-09-27 05:12:00",
          "2023-09-27 05:13:01",
          "2023-09-27 05:14:10",
          "2023-09-27 05:15:00",
          "2023-09-27 05:16:00",
          "2023-09-27 05:17:00",
          "2023-09-27 05:18:00",
          "2023-09-27 05:19:01",
          "2023-09-27 05:20:00",
          "2023-09-27 05:21:01",
          "2023-09-27 05:22:00",
          "2023-09-27 05:23:00",
          "2023-09-27 05:24:00",
          "2023-09-27 05:25:00",
          "2023-09-27 05:26:00",
          "2023-09-27 05:27:00",
          "2023-09-27 05:28:01",
          "2023-09-27 05:29:00",
          "2023-09-27 05:30:00",
          "2023-09-27 05:31:00",
          "2023-09-27 05:32:00",
          "2023-09-27 05:33:00",
          "2023-09-27 05:34:00",
          "2023-09-27 05:35:00",
          "2023-09-27 05:36:00",
          "2023-09-27 05:37:00",
          "2023-09-27 05:38:01",
          "2023-09-27 05:39:00",
          "2023-09-27 05:40:00",
          "2023-09-27 05:41:00",
          "2023-09-27 05:42:00",
          "2023-09-27 05:43:00",
          "2023-09-27 05:44:00",
          "2023-09-27 05:45:00",
          "2023-09-27 05:46:00",
          "2023-09-27 05:47:01",
          "2023-09-27 05:48:00",
          "2023-09-27 05:49:00",
          "2023-09-27 05:50:00",
          "2023-09-27 05:51:00",
          "2023-09-27 05:52:00",
          "2023-09-27 05:53:00",
          "2023-09-27 05:54:01",
          "2023-09-27 05:55:00",
          "2023-09-27 05:56:01",
          "2023-09-27 05:57:00",
          "2023-09-27 05:58:00",
          "2023-09-27 05:59:00",
          "2023-09-27 06:00:00",
          "2023-09-27 06:01:00",
          "2023-09-27 06:02:00",
          "2023-09-27 06:03:01",
          "2023-09-27 06:04:00",
          "2023-09-27 06:05:00",
          "2023-09-27 06:06:00",
          "2023-09-27 06:07:00",
          "2023-09-27 06:08:00",
          "2023-09-27 06:09:00",
          "2023-09-27 06:10:00",
          "2023-09-27 06:11:00",
          "2023-09-27 06:12:01",
          "2023-09-27 06:13:00",
          "2023-09-27 06:14:00",
          "2023-09-27 06:15:00",
          "2023-09-27 06:16:00",
          "2023-09-27 06:17:00",
          "2023-09-27 06:18:00",
          "2023-09-27 06:19:01",
          "2023-09-27 06:20:00",
          "2023-09-27 06:21:01",
          "2023-09-27 06:22:00",
          "2023-09-27 06:23:00",
          "2023-09-27 06:24:00",
          "2023-09-27 06:25:00",
          "2023-09-27 06:26:00",
          "2023-09-27 06:27:00",
          "2023-09-27 06:28:01",
          "2023-09-27 06:29:00",
          "2023-09-27 06:30:00",
          "2023-09-27 06:31:00",
          "2023-09-27 06:32:00",
          "2023-09-27 06:33:00",
          "2023-09-27 06:34:00",
          "2023-09-27 06:35:00",
          "2023-09-27 06:36:00",
          "2023-09-27 06:37:01",
          "2023-09-27 06:38:00",
          "2023-09-27 06:39:00",
          "2023-09-27 06:40:00",
          "2023-09-27 06:41:00",
          "2023-09-27 06:42:00",
          "2023-09-27 06:43:00",
          "2023-09-27 06:44:01",
          "2023-09-27 06:45:00",
          "2023-09-27 06:46:01",
          "2023-09-27 06:47:00",
          "2023-09-27 06:48:00",
          "2023-09-27 06:49:00",
          "2023-09-27 06:50:00",
          "2023-09-27 06:51:00",
          "2023-09-27 06:52:00",
          "2023-09-27 06:53:01",
          "2023-09-27 06:54:00",
          "2023-09-27 06:55:00",
          "2023-09-27 06:56:00",
          "2023-09-27 06:57:00",
          "2023-09-27 06:58:00",
          "2023-09-27 06:59:00",
          "2023-09-27 07:00:00",
          "2023-09-27 07:01:00",
          "2023-09-27 07:02:01",
          "2023-09-27 07:03:00",
          "2023-09-27 07:04:00",
          "2023-09-27 07:05:00",
          "2023-09-27 07:06:00",
          "2023-09-27 07:07:00",
          "2023-09-27 07:08:00",
          "2023-09-27 07:09:01",
          "2023-09-27 07:10:00",
          "2023-09-27 07:11:01",
          "2023-09-27 07:12:00",
          "2023-09-27 07:13:00",
          "2023-09-27 07:14:00",
          "2023-09-27 07:15:00",
          "2023-09-27 07:16:00",
          "2023-09-27 07:17:00",
          "2023-09-27 07:18:00",
          "2023-09-27 07:19:00",
          "2023-09-27 07:20:00",
          "2023-09-27 07:21:00",
          "2023-09-27 07:22:00",
          "2023-09-27 07:23:00",
          "2023-09-27 07:24:01",
          "2023-09-27 07:25:00",
          "2023-09-27 07:26:00",
          "2023-09-27 07:27:00",
          "2023-09-27 07:28:00",
          "2023-09-27 07:29:00",
          "2023-09-27 07:30:00",
          "2023-09-27 07:31:00",
          "2023-09-27 07:32:01",
          "2023-09-27 07:33:00",
          "2023-09-27 07:34:00",
          "2023-09-27 07:35:00",
          "2023-09-27 07:36:00",
          "2023-09-27 07:37:00",
          "2023-09-27 07:38:00",
          "2023-09-27 07:39:01",
          "2023-09-27 07:40:00",
          "2023-09-27 07:41:01",
          "2023-09-27 07:42:00",
          "2023-09-27 07:43:00",
          "2023-09-27 07:44:00",
          "2023-09-27 07:45:11",
          "2023-09-27 07:46:00",
          "2023-09-27 07:47:01",
          "2023-09-27 07:48:00",
          "2023-09-27 07:49:00",
          "2023-09-27 07:50:00",
          "2023-09-27 07:51:00",
          "2023-09-27 07:52:00",
          "2023-09-27 07:53:12",
          "2023-09-27 07:54:00",
          "2023-09-27 07:55:00",
          "2023-09-27 07:56:00",
          "2023-09-27 07:57:00",
          "2023-09-27 07:58:00",
          "2023-09-27 07:59:01",
          "2023-09-27 08:00:00",
          "2023-09-27 08:01:11",
          "2023-09-27 08:02:00",
          "2023-09-27 08:03:00",
          "2023-09-27 08:04:00",
          "2023-09-27 08:05:00",
          "2023-09-27 08:06:00",
          "2023-09-27 08:07:01",
          "2023-09-27 08:08:00",
          "2023-09-27 08:09:00",
          "2023-09-27 08:10:00",
          "2023-09-27 08:11:00",
          "2023-09-27 08:12:00",
          "2023-09-27 08:13:00",
          "2023-09-27 08:14:01",
          "2023-09-27 08:15:00",
          "2023-09-27 08:16:01",
          "2023-09-27 08:17:00",
          "2023-09-27 08:18:00",
          "2023-09-27 08:19:00",
          "2023-09-27 08:20:00",
          "2023-09-27 08:21:00",
          "2023-09-27 08:22:00",
          "2023-09-27 08:23:01",
          "2023-09-27 08:24:00",
          "2023-09-27 08:25:00",
          "2023-09-27 08:26:00",
          "2023-09-27 08:27:00",
          "2023-09-27 08:28:00",
          "2023-09-27 08:29:00",
          "2023-09-27 08:30:00",
          "2023-09-27 08:31:00",
          "2023-09-27 08:32:01",
          "2023-09-27 08:33:00",
          "2023-09-27 08:34:00",
          "2023-09-27 08:35:00",
          "2023-09-27 08:36:00",
          "2023-09-27 08:37:00",
          "2023-09-27 08:38:00",
          "2023-09-27 08:39:01",
          "2023-09-27 08:40:00",
          "2023-09-27 08:41:00",
          "2023-09-27 08:42:00",
          "2023-09-27 08:43:00",
          "2023-09-27 08:44:00",
          "2023-09-27 08:45:00",
          "2023-09-27 08:46:00",
          "2023-09-27 08:47:01",
          "2023-09-27 08:48:00",
          "2023-09-27 08:49:00",
          "2023-09-27 08:50:00",
          "2023-09-27 08:51:00",
          "2023-09-27 08:52:00",
          "2023-09-27 08:53:00",
          "2023-09-27 08:54:01",
          "2023-09-27 08:55:00",
          "2023-09-27 08:56:01",
          "2023-09-27 08:57:00",
          "2023-09-27 08:58:00",
          "2023-09-27 08:59:00",
          "2023-09-27 09:00:00",
          "2023-09-27 09:01:00",
          "2023-09-27 09:02:00",
          "2023-09-27 09:03:01",
          "2023-09-27 09:04:00",
          "2023-09-27 09:05:00",
          "2023-09-27 09:06:00",
          "2023-09-27 09:07:00",
          "2023-09-27 09:08:00",
          "2023-09-27 09:09:00",
          "2023-09-27 09:10:00",
          "2023-09-27 09:11:00",
          "2023-09-27 09:12:01",
          "2023-09-27 09:13:00",
          "2023-09-27 09:14:00",
          "2023-09-27 09:15:00",
          "2023-09-27 09:16:00",
          "2023-09-27 09:17:00",
          "2023-09-27 09:18:00",
          "2023-09-27 09:19:01",
          "2023-09-27 09:20:00",
          "2023-09-27 09:21:00",
          "2023-09-27 09:22:00",
          "2023-09-27 09:23:00",
          "2023-09-27 09:24:00",
          "2023-09-27 09:25:00",
          "2023-09-27 09:26:00",
          "2023-09-27 09:27:01",
          "2023-09-27 09:28:00",
          "2023-09-27 09:29:00",
          "2023-09-27 09:30:00",
          "2023-09-27 09:31:00",
          "2023-09-27 09:32:00",
          "2023-09-27 09:33:01",
          "2023-09-27 09:34:10",
          "2023-09-27 09:35:00",
          "2023-09-27 09:36:00",
          "2023-09-27 09:37:00",
          "2023-09-27 09:38:01",
          "2023-09-27 09:39:00",
          "2023-09-27 09:40:00",
          "2023-09-27 09:41:00",
          "2023-09-27 09:42:00",
          "2023-09-27 09:43:00",
          "2023-09-27 09:44:00",
          "2023-09-27 09:45:00",
          "2023-09-27 09:46:01",
          "2023-09-27 09:47:00",
          "2023-09-27 09:48:00",
          "2023-09-27 09:49:00",
          "2023-09-27 09:50:00",
          "2023-09-27 09:51:00",
          "2023-09-27 09:52:00",
          "2023-09-27 09:53:01",
          "2023-09-27 09:54:00",
          "2023-09-27 09:55:00",
          "2023-09-27 09:56:00",
          "2023-09-27 09:57:00",
          "2023-09-27 09:58:00",
          "2023-09-27 09:59:00",
          "2023-09-27 10:00:00",
          "2023-09-27 10:01:00",
          "2023-09-27 10:02:01",
          "2023-09-27 10:03:00",
          "2023-09-27 10:04:00",
          "2023-09-27 10:05:00",
          "2023-09-27 10:06:00",
          "2023-09-27 10:07:00",
          "2023-09-27 10:08:00",
          "2023-09-27 10:09:01",
          "2023-09-27 10:10:00",
          "2023-09-27 10:11:01",
          "2023-09-27 10:12:00",
          "2023-09-27 10:13:00",
          "2023-09-27 10:14:00",
          "2023-09-27 10:15:00",
          "2023-09-27 10:16:10",
          "2023-09-27 10:17:01",
          "2023-09-27 10:18:00",
          "2023-09-27 10:19:00",
          "2023-09-27 10:20:00",
          "2023-09-27 10:21:00",
          "2023-09-27 10:22:00",
          "2023-09-27 10:23:00",
          "2023-09-27 10:24:01",
          "2023-09-27 10:25:00",
          "2023-09-27 10:26:01",
          "2023-09-27 10:27:00",
          "2023-09-27 10:28:00",
          "2023-09-27 10:29:00",
          "2023-09-27 10:30:00",
          "2023-09-27 10:31:00",
          "2023-09-27 10:32:01",
          "2023-09-27 10:33:00",
          "2023-09-27 10:34:00",
          "2023-09-27 10:35:00",
          "2023-09-27 10:36:00",
          "2023-09-27 10:37:00",
          "2023-09-27 10:38:00",
          "2023-09-27 10:39:00",
          "2023-09-27 10:40:00",
          "2023-09-27 10:41:01",
          "2023-09-27 10:42:01",
          "2023-09-27 10:43:00",
          "2023-09-27 10:44:00",
          "2023-09-27 10:45:00",
          "2023-09-27 10:46:00",
          "2023-09-27 10:47:00",
          "2023-09-27 10:48:01",
          "2023-09-27 10:49:00",
          "2023-09-27 10:50:00",
          "2023-09-27 10:51:00",
          "2023-09-27 10:52:00",
          "2023-09-27 10:53:00",
          "2023-09-27 10:54:00",
          "2023-09-27 10:55:00",
          "2023-09-27 10:56:00",
          "2023-09-27 10:57:01",
          "2023-09-27 10:58:00",
          "2023-09-27 10:59:00",
          "2023-09-27 11:00:00",
          "2023-09-27 11:01:00",
          "2023-09-27 11:02:00",
          "2023-09-27 11:03:00",
          "2023-09-27 11:04:01",
          "2023-09-27 11:05:00",
          "2023-09-27 11:06:01",
          "2023-09-27 11:07:10",
          "2023-09-27 11:08:00",
          "2023-09-27 11:09:00",
          "2023-09-27 11:10:00",
          "2023-09-27 11:11:01",
          "2023-09-27 11:12:00",
          "2023-09-27 11:13:00",
          "2023-09-27 11:14:00",
          "2023-09-27 11:15:00",
          "2023-09-27 11:16:00",
          "2023-09-27 11:17:00",
          "2023-09-27 11:18:01",
          "2023-09-27 11:19:00",
          "2023-09-27 11:20:00",
          "2023-09-27 11:21:00",
          "2023-09-27 11:22:00",
          "2023-09-27 11:23:00",
          "2023-09-27 11:24:00",
          "2023-09-27 11:25:00",
          "2023-09-27 11:26:00",
          "2023-09-27 11:27:01",
          "2023-09-27 11:28:00",
          "2023-09-27 11:29:00",
          "2023-09-27 11:30:00",
          "2023-09-27 11:31:00",
          "2023-09-27 11:32:00",
          "2023-09-27 11:33:01",
          "2023-09-27 11:34:00",
          "2023-09-27 11:35:00",
          "2023-09-27 11:36:01",
          "2023-09-27 11:37:00",
          "2023-09-27 11:38:00",
          "2023-09-27 11:39:00",
          "2023-09-27 11:40:00",
          "2023-09-27 11:41:00",
          "2023-09-27 11:42:01",
          "2023-09-27 11:43:00",
          "2023-09-27 11:44:00",
          "2023-09-27 11:45:10",
          "2023-09-27 11:46:00",
          "2023-09-27 11:47:00",
          "2023-09-27 11:48:01",
          "2023-09-27 11:49:00",
          "2023-09-27 11:50:00",
          "2023-09-27 11:51:00",
          "2023-09-27 11:52:00",
          "2023-09-27 11:53:00",
          "2023-09-27 11:54:00",
          "2023-09-27 11:55:00",
          "2023-09-27 11:56:00",
          "2023-09-27 11:57:01",
          "2023-09-27 11:58:00",
          "2023-09-27 11:59:00",
          "2023-09-27 12:00:00",
          "2023-09-27 12:01:00",
          "2023-09-27 12:02:00",
          "2023-09-27 12:03:00",
          "2023-09-27 12:04:01",
          "2023-09-27 12:05:00",
          "2023-09-27 12:06:01",
          "2023-09-27 12:07:00",
          "2023-09-27 12:08:00",
          "2023-09-27 12:09:00",
          "2023-09-27 12:10:00",
          "2023-09-27 12:11:00",
          "2023-09-27 12:12:01",
          "2023-09-27 12:13:00",
          "2023-09-27 12:14:00",
          "2023-09-27 12:15:00",
          "2023-09-27 12:16:00",
          "2023-09-27 12:17:10",
          "2023-09-27 12:18:01",
          "2023-09-27 12:19:00",
          "2023-09-27 12:20:00",
          "2023-09-27 12:21:00",
          "2023-09-27 12:22:00",
          "2023-09-27 12:23:00",
          "2023-09-27 12:24:00",
          "2023-09-27 12:25:00",
          "2023-09-27 12:26:00",
          "2023-09-27 12:27:01",
          "2023-09-27 12:28:00",
          "2023-09-27 12:29:00",
          "2023-09-27 12:30:00",
          "2023-09-27 12:31:00",
          "2023-09-27 12:32:00",
          "2023-09-27 12:33:00",
          "2023-09-27 12:34:01",
          "2023-09-27 12:35:00",
          "2023-09-27 12:36:01",
          "2023-09-27 12:37:00",
          "2023-09-27 12:38:00",
          "2023-09-27 12:39:00",
          "2023-09-27 12:40:00",
          "2023-09-27 12:41:00",
          "2023-09-27 12:42:00",
          "2023-09-27 12:43:01",
          "2023-09-27 12:44:00",
          "2023-09-27 12:45:00",
          "2023-09-27 12:46:00",
          "2023-09-27 12:47:00",
          "2023-09-27 12:48:00",
          "2023-09-27 12:49:00",
          "2023-09-27 12:50:00",
          "2023-09-27 12:51:00",
          "2023-09-27 12:52:01",
          "2023-09-27 12:53:00",
          "2023-09-27 12:54:00",
          "2023-09-27 12:55:00",
          "2023-09-27 12:56:00",
          "2023-09-27 12:57:00",
          "2023-09-27 12:58:00",
          "2023-09-27 12:59:01",
          "2023-09-27 13:00:00",
          "2023-09-27 13:01:00",
          "2023-09-27 13:02:10",
          "2023-09-27 13:03:01",
          "2023-09-27 13:04:00",
          "2023-09-27 13:05:00",
          "2023-09-27 13:06:00",
          "2023-09-27 13:07:00",
          "2023-09-27 13:08:00",
          "2023-09-27 13:09:00",
          "2023-09-27 13:10:00",
          "2023-09-27 13:11:00",
          "2023-09-27 13:12:01",
          "2023-09-27 13:13:00",
          "2023-09-27 13:14:00",
          "2023-09-27 13:15:00",
          "2023-09-27 13:16:00",
          "2023-09-27 13:17:00",
          "2023-09-27 13:18:00",
          "2023-09-27 13:19:01",
          "2023-09-27 13:20:00",
          "2023-09-27 13:21:01",
          "2023-09-27 13:22:00",
          "2023-09-27 13:23:00",
          "2023-09-27 13:24:00",
          "2023-09-27 13:25:00",
          "2023-09-27 13:26:00",
          "2023-09-27 13:27:00",
          "2023-09-27 13:28:01",
          "2023-09-27 13:29:00",
          "2023-09-27 13:30:00",
          "2023-09-27 13:31:00",
          "2023-09-27 13:32:00",
          "2023-09-27 13:33:00",
          "2023-09-27 13:34:00",
          "2023-09-27 13:35:00",
          "2023-09-27 13:36:00",
          "2023-09-27 13:37:01",
          "2023-09-27 13:38:00",
          "2023-09-27 13:39:00",
          "2023-09-27 13:40:10",
          "2023-09-27 13:41:00",
          "2023-09-27 13:42:00",
          "2023-09-27 13:43:01",
          "2023-09-27 13:44:00",
          "2023-09-27 13:45:00",
          "2023-09-27 13:46:00",
          "2023-09-27 13:47:00",
          "2023-09-27 13:48:00",
          "2023-09-27 13:49:01",
          "2023-09-27 13:50:00",
          "2023-09-27 13:51:01",
          "2023-09-27 13:52:00",
          "2023-09-27 13:53:00",
          "2023-09-27 13:54:00",
          "2023-09-27 13:55:00",
          "2023-09-27 13:56:00",
          "2023-09-27 13:57:00",
          "2023-09-27 13:58:01",
          "2023-09-27 13:59:00",
          "2023-09-27 14:00:00",
          "2023-09-27 14:01:00",
          "2023-09-27 14:02:00",
          "2023-09-27 14:03:00",
          "2023-09-27 14:04:00",
          "2023-09-27 14:05:00",
          "2023-09-27 14:06:00",
          "2023-09-27 14:07:01",
          "2023-09-27 14:08:00",
          "2023-09-27 14:09:00",
          "2023-09-27 14:10:00",
          "2023-09-27 14:11:00",
          "2023-09-27 14:12:00",
          "2023-09-27 14:13:00",
          "2023-09-27 14:14:01",
          "2023-09-27 14:15:00",
          "2023-09-27 14:16:01",
          "2023-09-27 14:17:00",
          "2023-09-27 14:18:00",
          "2023-09-27 14:19:00",
          "2023-09-27 14:20:00",
          "2023-09-27 14:21:00",
          "2023-09-27 14:22:00",
          "2023-09-27 14:23:01",
          "2023-09-27 14:24:00",
          "2023-09-27 14:25:00",
          "2023-09-27 14:26:00",
          "2023-09-27 14:27:00",
          "2023-09-27 14:28:00",
          "2023-09-27 14:29:00",
          "2023-09-27 14:30:00",
          "2023-09-27 14:31:00",
          "2023-09-27 14:32:01",
          "2023-09-27 14:33:00",
          "2023-09-27 14:34:00",
          "2023-09-27 14:35:00",
          "2023-09-27 14:36:00",
          "2023-09-27 14:37:00",
          "2023-09-27 14:38:11",
          "2023-09-27 14:39:00",
          "2023-09-27 14:40:00",
          "2023-09-27 14:41:00",
          "2023-09-27 14:42:00",
          "2023-09-27 14:43:00",
          "2023-09-27 14:44:01",
          "2023-09-27 14:45:10",
          "2023-09-27 14:46:00",
          "2023-09-27 14:47:00",
          "2023-09-27 14:48:00",
          "2023-09-27 14:49:01",
          "2023-09-27 14:50:00",
          "2023-09-27 14:51:01",
          "2023-09-27 14:52:00",
          "2023-09-27 14:53:00",
          "2023-09-27 14:54:00",
          "2023-09-27 14:55:00",
          "2023-09-27 14:56:00",
          "2023-09-27 14:57:00",
          "2023-09-27 14:58:01",
          "2023-09-27 14:59:00",
          "2023-09-27 15:00:00",
          "2023-09-27 15:01:00",
          "2023-09-27 15:02:00",
          "2023-09-27 15:03:00",
          "2023-09-27 15:04:00",
          "2023-09-27 15:05:00",
          "2023-09-27 15:06:00",
          "2023-09-27 15:07:01",
          "2023-09-27 15:08:00",
          "2023-09-27 15:09:00",
          "2023-09-27 15:10:00",
          "2023-09-27 15:11:00",
          "2023-09-27 15:12:00",
          "2023-09-27 15:13:00",
          "2023-09-27 15:14:01",
          "2023-09-27 15:15:00",
          "2023-09-27 15:16:01",
          "2023-09-27 15:17:00",
          "2023-09-27 15:18:00",
          "2023-09-27 15:19:00",
          "2023-09-27 15:20:11",
          "2023-09-27 15:21:00",
          "2023-09-27 15:22:01",
          "2023-09-27 15:23:00",
          "2023-09-27 15:24:00",
          "2023-09-27 15:25:00",
          "2023-09-27 15:26:00",
          "2023-09-27 15:27:00",
          "2023-09-27 15:28:01",
          "2023-09-27 15:29:00",
          "2023-09-27 15:30:00",
          "2023-09-27 15:31:00",
          "2023-09-27 15:32:00",
          "2023-09-27 15:33:00",
          "2023-09-27 15:34:00",
          "2023-09-27 15:35:00",
          "2023-09-27 15:36:00",
          "2023-09-27 15:37:01",
          "2023-09-27 15:38:00",
          "2023-09-27 15:39:00",
          "2023-09-27 15:40:00",
          "2023-09-27 15:41:00",
          "2023-09-27 15:42:00",
          "2023-09-27 15:43:01",
          "2023-09-27 15:44:00",
          "2023-09-27 15:45:00",
          "2023-09-27 15:46:00",
          "2023-09-27 15:47:00",
          "2023-09-27 15:48:00",
          "2023-09-27 15:49:00",
          "2023-09-27 15:50:00",
          "2023-09-27 15:51:00",
          "2023-09-27 15:52:01",
          "2023-09-27 15:53:00",
          "2023-09-27 15:54:00",
          "2023-09-27 15:55:00",
          "2023-09-27 15:56:00",
          "2023-09-27 15:57:00",
          "2023-09-27 15:58:00",
          "2023-09-27 15:59:01",
          "2023-09-27 16:00:00",
          "2023-09-27 16:01:01",
          "2023-09-27 16:02:00",
          "2023-09-27 16:03:00",
          "2023-09-27 16:04:00",
          "2023-09-27 16:05:00",
          "2023-09-27 16:06:00",
          "2023-09-27 16:07:00",
          "2023-09-27 16:08:01",
          "2023-09-27 16:09:00",
          "2023-09-27 16:10:00",
          "2023-09-27 16:11:00",
          "2023-09-27 16:12:00",
          "2023-09-27 16:13:00",
          "2023-09-27 16:14:01",
          "2023-09-27 16:15:00",
          "2023-09-27 16:16:00",
          "2023-09-27 16:17:00",
          "2023-09-27 16:18:00",
          "2023-09-27 16:19:00",
          "2023-09-27 16:20:00",
          "2023-09-27 16:21:00",
          "2023-09-27 16:22:00",
          "2023-09-27 16:23:01",
          "2023-09-27 16:24:00",
          "2023-09-27 16:25:00",
          "2023-09-27 16:26:00",
          "2023-09-27 16:27:00",
          "2023-09-27 16:28:00",
          "2023-09-27 16:29:00",
          "2023-09-27 16:30:00",
          "2023-09-27 16:31:00",
          "2023-09-27 16:32:01",
          "2023-09-27 16:33:00",
          "2023-09-27 16:34:00",
          "2023-09-27 16:35:00",
          "2023-09-27 16:36:00",
          "2023-09-27 16:37:00",
          "2023-09-27 16:38:00",
          "2023-09-27 16:39:01",
          "2023-09-27 16:40:00",
          "2023-09-27 16:41:01",
          "2023-09-27 16:42:00",
          "2023-09-27 16:43:00",
          "2023-09-27 16:44:00",
          "2023-09-27 16:45:00",
          "2023-09-27 16:46:00",
          "2023-09-27 16:47:01",
          "2023-09-27 16:48:00",
          "2023-09-27 16:49:00",
          "2023-09-27 16:50:00",
          "2023-09-27 16:51:00",
          "2023-09-27 16:52:00",
          "2023-09-27 16:53:00",
          "2023-09-27 16:54:01",
          "2023-09-27 16:55:00",
          "2023-09-27 16:56:00",
          "2023-09-27 16:57:00",
          "2023-09-27 16:58:00",
          "2023-09-27 16:59:00",
          "2023-09-27 17:00:00",
          "2023-09-27 17:01:00",
          "2023-09-27 17:02:01",
          "2023-09-27 17:03:00",
          "2023-09-27 17:04:00",
          "2023-09-27 17:05:10",
          "2023-09-27 17:06:00",
          "2023-09-27 17:07:00",
          "2023-09-27 17:08:01",
          "2023-09-27 17:09:00",
          "2023-09-27 17:10:00",
          "2023-09-27 17:11:00",
          "2023-09-27 17:12:00",
          "2023-09-27 17:13:00",
          "2023-09-27 17:14:01",
          "2023-09-27 17:15:00",
          "2023-09-27 17:16:01",
          "2023-09-27 17:17:00",
          "2023-09-27 17:18:00",
          "2023-09-27 17:19:00",
          "2023-09-27 17:20:00",
          "2023-09-27 17:21:00",
          "2023-09-27 17:22:00",
          "2023-09-27 17:23:01",
          "2023-09-27 17:24:00",
          "2023-09-27 17:25:00",
          "2023-09-27 17:26:00",
          "2023-09-27 17:27:00",
          "2023-09-27 17:28:00",
          "2023-09-27 17:29:00",
          "2023-09-27 17:30:00",
          "2023-09-27 17:31:00",
          "2023-09-27 17:32:01",
          "2023-09-27 17:33:00",
          "2023-09-27 17:34:00",
          "2023-09-27 17:35:00",
          "2023-09-27 17:36:00",
          "2023-09-27 17:37:00",
          "2023-09-27 17:38:00",
          "2023-09-27 17:39:01",
          "2023-09-27 17:40:00",
          "2023-09-27 17:41:01",
          "2023-09-27 17:42:00",
          "2023-09-27 17:43:00",
          "2023-09-27 17:44:00",
          "2023-09-27 17:45:00",
          "2023-09-27 17:46:00",
          "2023-09-27 17:47:01",
          "2023-09-27 17:48:10",
          "2023-09-27 17:49:00",
          "2023-09-27 17:50:00",
          "2023-09-27 17:51:00",
          "2023-09-27 17:52:00",
          "2023-09-27 17:53:01",
          "2023-09-27 17:54:00",
          "2023-09-27 17:55:00",
          "2023-09-27 17:56:00",
          "2023-09-27 17:57:00",
          "2023-09-27 17:58:00",
          "2023-09-27 17:59:00",
          "2023-09-27 18:00:00",
          "2023-09-27 18:01:01",
          "2023-09-27 18:02:00",
          "2023-09-27 18:03:00",
          "2023-09-27 18:04:00",
          "2023-09-27 18:05:00",
          "2023-09-27 18:06:00",
          "2023-09-27 18:07:11",
          "2023-09-27 18:08:00",
          "2023-09-27 18:09:00",
          "2023-09-27 18:10:00",
          "2023-09-27 18:11:00",
          "2023-09-27 18:12:00",
          "2023-09-27 18:13:00",
          "2023-09-27 18:14:01",
          "2023-09-27 18:15:00",
          "2023-09-27 18:16:01",
          "2023-09-27 18:17:00",
          "2023-09-27 18:18:10",
          "2023-09-27 18:19:01",
          "2023-09-27 18:20:00",
          "2023-09-27 18:21:01",
          "2023-09-27 18:22:00",
          "2023-09-27 18:23:00",
          "2023-09-27 18:24:00",
          "2023-09-27 18:25:00",
          "2023-09-27 18:26:00",
          "2023-09-27 18:27:00",
          "2023-09-27 18:28:01",
          "2023-09-27 18:29:00",
          "2023-09-27 18:30:00",
          "2023-09-27 18:31:01",
          "2023-09-27 18:32:00",
          "2023-09-27 18:33:00",
          "2023-09-27 18:34:00",
          "2023-09-27 18:35:00",
          "2023-09-27 18:36:00",
          "2023-09-27 18:37:00",
          "2023-09-27 18:38:01",
          "2023-09-27 18:39:00",
          "2023-09-27 18:40:00",
          "2023-09-27 18:41:00",
          "2023-09-27 18:42:00",
          "2023-09-27 18:43:00",
          "2023-09-27 18:44:00",
          "2023-09-27 18:45:00",
          "2023-09-27 18:46:00",
          "2023-09-27 18:47:01",
          "2023-09-27 18:48:00",
          "2023-09-27 18:49:00",
          "2023-09-27 18:50:00",
          "2023-09-27 18:51:00",
          "2023-09-27 18:52:00",
          "2023-09-27 18:53:00",
          "2023-09-27 18:54:01",
          "2023-09-27 18:55:00",
          "2023-09-27 18:56:12",
          "2023-09-27 18:57:00",
          "2023-09-27 18:58:00",
          "2023-09-27 18:59:00",
          "2023-09-27 19:00:00",
          "2023-09-27 19:01:00",
          "2023-09-27 19:02:01",
          "2023-09-27 19:03:00",
          "2023-09-27 19:04:00",
          "2023-09-27 19:05:00",
          "2023-09-27 19:06:00",
          "2023-09-27 19:07:00",
          "2023-09-27 19:08:00",
          "2023-09-27 19:09:00",
          "2023-09-27 19:10:00",
          "2023-09-27 19:11:00",
          "2023-09-27 19:12:01",
          "2023-09-27 19:13:00",
          "2023-09-27 19:14:00",
          "2023-09-27 19:15:00",
          "2023-09-27 19:16:00",
          "2023-09-27 19:17:00",
          "2023-09-27 19:18:01",
          "2023-09-27 19:19:00",
          "2023-09-27 19:20:00",
          "2023-09-27 19:21:01",
          "2023-09-27 19:22:00",
          "2023-09-27 19:23:00",
          "2023-09-27 19:24:00",
          "2023-09-27 19:25:00",
          "2023-09-27 19:26:00",
          "2023-09-27 19:27:01",
          "2023-09-27 19:28:01",
          "2023-09-27 19:29:00",
          "2023-09-27 19:30:00",
          "2023-09-27 19:31:00",
          "2023-09-27 19:32:00",
          "2023-09-27 19:33:00",
          "2023-09-27 19:34:00",
          "2023-09-27 19:35:00",
          "2023-09-27 19:36:00",
          "2023-09-27 19:37:01",
          "2023-09-27 19:38:00",
          "2023-09-27 19:39:00",
          "2023-09-27 19:40:00",
          "2023-09-27 19:41:00",
          "2023-09-27 19:42:11",
          "2023-09-27 19:43:00",
          "2023-09-27 19:44:00",
          "2023-09-27 19:45:00",
          "2023-09-27 19:46:00",
          "2023-09-27 19:47:00",
          "2023-09-27 19:48:00",
          "2023-09-27 19:49:01",
          "2023-09-27 19:50:00",
          "2023-09-27 19:51:01",
          "2023-09-27 19:52:00",
          "2023-09-27 19:53:00",
          "2023-09-27 19:54:00",
          "2023-09-27 19:55:00",
          "2023-09-27 19:56:00",
          "2023-09-27 19:57:00",
          "2023-09-27 19:58:01",
          "2023-09-27 19:59:00",
          "2023-09-27 20:00:00",
          "2023-09-27 20:01:00",
          "2023-09-27 20:02:00",
          "2023-09-27 20:03:00",
          "2023-09-27 20:04:00",
          "2023-09-27 20:05:00",
          "2023-09-27 20:06:00",
          "2023-09-27 20:07:01",
          "2023-09-27 20:08:00",
          "2023-09-27 20:09:00",
          "2023-09-27 20:10:00",
          "2023-09-27 20:11:00",
          "2023-09-27 20:12:00",
          "2023-09-27 20:13:00",
          "2023-09-27 20:14:01",
          "2023-09-27 20:15:00",
          "2023-09-27 20:16:01",
          "2023-09-27 20:17:00",
          "2023-09-27 20:18:00",
          "2023-09-27 20:19:00",
          "2023-09-27 20:20:00",
          "2023-09-27 20:21:00",
          "2023-09-27 20:22:00",
          "2023-09-27 20:23:01",
          "2023-09-27 20:24:00",
          "2023-09-27 20:25:00",
          "2023-09-27 20:26:00",
          "2023-09-27 20:27:00",
          "2023-09-27 20:28:00",
          "2023-09-27 20:29:00",
          "2023-09-27 20:30:00",
          "2023-09-27 20:31:00",
          "2023-09-27 20:32:00",
          "2023-09-27 20:33:01",
          "2023-09-27 20:34:00",
          "2023-09-27 20:35:00",
          "2023-09-27 20:36:00",
          "2023-09-27 20:37:00",
          "2023-09-27 20:38:00",
          "2023-09-27 20:39:00",
          "2023-09-27 20:40:00",
          "2023-09-27 20:41:00",
          "2023-09-27 20:42:01",
          "2023-09-27 20:43:00",
          "2023-09-27 20:44:00",
          "2023-09-27 20:45:00",
          "2023-09-27 20:46:00",
          "2023-09-27 20:47:00",
          "2023-09-27 20:48:00",
          "2023-09-27 20:49:01",
          "2023-09-27 20:50:00",
          "2023-09-27 20:51:01",
          "2023-09-27 20:52:00",
          "2023-09-27 20:53:00",
          "2023-09-27 20:54:00",
          "2023-09-27 20:55:11",
          "2023-09-27 20:56:01",
          "2023-09-27 20:57:00",
          "2023-09-27 20:58:00",
          "2023-09-27 20:59:00",
          "2023-09-27 21:00:00",
          "2023-09-27 21:01:00",
          "2023-09-27 21:02:00",
          "2023-09-27 21:03:00",
          "2023-09-27 21:04:01",
          "2023-09-27 21:05:00",
          "2023-09-27 21:06:00",
          "2023-09-27 21:07:00",
          "2023-09-27 21:08:00",
          "2023-09-27 21:09:00",
          "2023-09-27 21:10:00",
          "2023-09-27 21:11:00",
          "2023-09-27 21:12:00",
          "2023-09-27 21:13:00",
          "2023-09-27 21:14:00",
          "2023-09-27 21:15:00",
          "2023-09-27 21:16:00",
          "2023-09-27 21:17:00",
          "2023-09-27 21:18:00",
          "2023-09-27 21:19:01",
          "2023-09-27 21:20:00",
          "2023-09-27 21:21:00",
          "2023-09-27 21:22:01",
          "2023-09-27 21:23:00",
          "2023-09-27 21:24:00",
          "2023-09-27 21:25:00",
          "2023-09-27 21:26:00",
          "2023-09-27 21:27:00",
          "2023-09-27 21:28:00",
          "2023-09-27 21:29:01",
          "2023-09-27 21:30:00",
          "2023-09-27 21:31:01",
          "2023-09-27 21:32:00",
          "2023-09-27 21:33:00",
          "2023-09-27 21:34:00",
          "2023-09-27 21:35:00",
          "2023-09-27 21:36:00",
          "2023-09-27 21:37:00",
          "2023-09-27 21:38:01",
          "2023-09-27 21:39:00",
          "2023-09-27 21:40:00",
          "2023-09-27 21:41:00",
          "2023-09-27 21:42:00",
          "2023-09-27 21:43:00",
          "2023-09-27 21:44:00",
          "2023-09-27 21:45:12",
          "2023-09-27 21:46:00",
          "2023-09-27 21:47:00",
          "2023-09-27 21:48:00",
          "2023-09-27 21:49:00",
          "2023-09-27 21:50:00",
          "2023-09-27 21:51:00",
          "2023-09-27 21:52:01",
          "2023-09-27 21:53:00",
          "2023-09-27 21:54:00",
          "2023-09-27 21:55:00",
          "2023-09-27 21:56:00",
          "2023-09-27 21:57:00",
          "2023-09-27 21:58:00",
          "2023-09-27 21:59:01",
          "2023-09-27 22:00:00",
          "2023-09-27 22:01:01",
          "2023-09-27 22:02:00",
          "2023-09-27 22:03:00",
          "2023-09-27 22:04:00",
          "2023-09-27 22:05:00",
          "2023-09-27 22:06:00",
          "2023-09-27 22:07:00",
          "2023-09-27 22:08:01",
          "2023-09-27 22:09:00",
          "2023-09-27 22:10:00",
          "2023-09-27 22:11:01",
          "2023-09-27 22:12:00",
          "2023-09-27 22:13:00",
          "2023-09-27 22:14:00",
          "2023-09-27 22:15:00",
          "2023-09-27 22:16:00",
          "2023-09-27 22:17:00",
          "2023-09-27 22:18:01",
          "2023-09-27 22:19:00",
          "2023-09-27 22:20:00",
          "2023-09-27 22:21:00",
          "2023-09-27 22:22:00",
          "2023-09-27 22:23:00",
          "2023-09-27 22:24:00",
          "2023-09-27 22:25:00",
          "2023-09-27 22:26:00",
          "2023-09-27 22:27:01",
          "2023-09-27 22:28:00",
          "2023-09-27 22:29:00",
          "2023-09-27 22:30:00",
          "2023-09-27 22:31:10",
          "2023-09-27 22:32:00",
          "2023-09-27 22:33:01",
          "2023-09-27 22:34:00",
          "2023-09-27 22:35:00",
          "2023-09-27 22:36:00",
          "2023-09-27 22:37:00",
          "2023-09-27 22:38:00",
          "2023-09-27 22:39:00",
          "2023-09-27 22:40:00",
          "2023-09-27 22:41:00",
          "2023-09-27 22:42:01",
          "2023-09-27 22:43:00",
          "2023-09-27 22:44:00",
          "2023-09-27 22:45:00",
          "2023-09-27 22:46:00",
          "2023-09-27 22:47:00",
          "2023-09-27 22:48:00",
          "2023-09-27 22:49:01",
          "2023-09-27 22:50:00",
          "2023-09-27 22:51:01",
          "2023-09-27 22:52:00",
          "2023-09-27 22:53:00",
          "2023-09-27 22:54:00",
          "2023-09-27 22:55:00",
          "2023-09-27 22:56:00",
          "2023-09-27 22:57:00",
          "2023-09-27 22:58:01",
          "2023-09-27 22:59:10",
          "2023-09-27 23:00:00",
          "2023-09-27 23:01:00",
          "2023-09-27 23:02:00",
          "2023-09-27 23:03:01",
          "2023-09-27 23:04:00",
          "2023-09-27 23:05:00",
          "2023-09-27 23:06:00",
          "2023-09-27 23:07:00",
          "2023-09-27 23:08:00",
          "2023-09-27 23:09:00",
          "2023-09-27 23:10:00",
          "2023-09-27 23:11:00",
          "2023-09-27 23:12:01",
          "2023-09-27 23:13:00",
          "2023-09-27 23:14:00",
          "2023-09-27 23:15:00",
          "2023-09-27 23:16:00",
          "2023-09-27 23:17:00",
          "2023-09-27 23:18:00",
          "2023-09-27 23:19:01",
          "2023-09-27 23:20:10",
          "2023-09-27 23:21:00",
          "2023-09-27 23:22:00",
          "2023-09-27 23:23:00",
          "2023-09-27 23:24:00",
          "2023-09-27 23:25:00",
          "2023-09-27 23:26:00",
          "2023-09-27 23:27:01",
          "2023-09-27 23:28:00",
          "2023-09-27 23:29:00",
          "2023-09-27 23:30:00",
          "2023-09-27 23:31:00",
          "2023-09-27 23:32:00",
          "2023-09-27 23:33:01",
          "2023-09-27 23:34:00",
          "2023-09-27 23:35:00",
          "2023-09-27 23:36:00",
          "2023-09-27 23:37:00",
          "2023-09-27 23:38:10",
          "2023-09-27 23:39:01",
          "2023-09-27 23:40:00",
          "2023-09-27 23:41:01",
          "2023-09-27 23:42:00",
          "2023-09-27 23:43:00",
          "2023-09-27 23:44:00",
          "2023-09-27 23:45:10",
          "2023-09-27 23:46:00",
          "2023-09-27 23:47:01",
          "2023-09-27 23:48:01",
          "2023-09-27 23:49:00",
          "2023-09-27 23:50:00",
          "2023-09-27 23:51:00",
          "2023-09-27 23:52:00",
          "2023-09-27 23:53:00",
          "2023-09-27 23:54:01",
          "2023-09-27 23:55:00",
          "2023-09-27 23:56:01",
          "2023-09-27 23:57:00",
          "2023-09-27 23:58:00",
          "2023-09-27 23:59:00",
          "2023-09-28 00:00:00"
         ],
         "xaxis": "x",
         "y": [
          20.44444,
          20.44444,
          20.44444,
          20.44444,
          20.44444,
          20.44444,
          20.38889,
          20.38889,
          20.38889,
          20.38889,
          20.38889,
          20.38889,
          20.33333,
          20.33333,
          20.33333,
          20.33333,
          20.33333,
          20.33333,
          20.33333,
          20.33333,
          20.27778,
          20.27778,
          20.27778,
          20.22222,
          20.22222,
          20.22222,
          20.27778,
          20.27778,
          20.27778,
          20.27778,
          20.27778,
          20.33333,
          20.33333,
          20.38889,
          20.38889,
          20.38889,
          20.38889,
          20.44444,
          20.44444,
          20.44444,
          20.44444,
          20.44444,
          20.44444,
          20.44444,
          20.44444,
          20.44444,
          20.38889,
          20.44444,
          20.38889,
          20.38889,
          20.38889,
          20.38889,
          20.33333,
          20.33333,
          20.33333,
          20.27778,
          20.27778,
          20.27778,
          20.22222,
          20.22222,
          20.22222,
          20.22222,
          20.22222,
          20.22222,
          20.22222,
          20.22222,
          20.22222,
          20.22222,
          20.22222,
          20.22222,
          20.22222,
          20.22222,
          20.22222,
          20.22222,
          20.22222,
          20.27778,
          20.27778,
          20.22222,
          20.22222,
          20.22222,
          20.22222,
          20.22222,
          20.27778,
          20.27778,
          20.27778,
          20.27778,
          20.33333,
          20.33333,
          20.33333,
          20.33333,
          20.33333,
          20.33333,
          20.33333,
          20.33333,
          20.33333,
          20.33333,
          20.33333,
          20.33333,
          20.38889,
          20.38889,
          20.38889,
          20.33333,
          20.33333,
          20.27778,
          20.27778,
          20.27778,
          20.27778,
          20.27778,
          20.27778,
          20.27778,
          20.27778,
          20.27778,
          20.27778,
          20.27778,
          20.27778,
          20.27778,
          20.27778,
          20.27778,
          20.33333,
          20.33333,
          20.33333,
          20.33333,
          20.38889,
          20.38889,
          20.38889,
          20.38889,
          20.38889,
          20.38889,
          20.44444,
          20.44444,
          20.44444,
          20.44444,
          20.44444,
          20.44444,
          20.44444,
          20.44444,
          20.44444,
          20.44444,
          20.44444,
          20.44444,
          20.44444,
          20.44444,
          20.44444,
          20.5,
          20.5,
          20.5,
          20.5,
          20.44444,
          20.44444,
          20.44444,
          20.44444,
          20.44444,
          20.44444,
          20.38889,
          20.38889,
          20.38889,
          20.38889,
          20.38889,
          20.38889,
          20.38889,
          20.33333,
          20.33333,
          20.38889,
          20.33333,
          20.33333,
          20.33333,
          20.33333,
          20.33333,
          20.27778,
          20.27778,
          20.27778,
          20.22222,
          20.22222,
          20.16667,
          20.16667,
          20.16667,
          20.16667,
          20.11111,
          20.11111,
          20.11111,
          20.11111,
          20.11111,
          20.11111,
          20.05556,
          20.05556,
          20.05556,
          20.05556,
          20.05556,
          20.05556,
          20.05556,
          20.05556,
          20.05556,
          20.05556,
          20.05556,
          20.05556,
          20.05556,
          20.05556,
          20.05556,
          20.05556,
          20.05556,
          20.05556,
          20,
          20,
          19.94444,
          19.94444,
          20,
          20,
          20,
          20,
          20,
          20,
          20.05556,
          20.05556,
          20.05556,
          20.05556,
          20.11111,
          20.11111,
          20.16667,
          20.16667,
          20.16667,
          20.16667,
          20.22222,
          20.22222,
          20.22222,
          20.22222,
          20.22222,
          20.27778,
          20.27778,
          20.27778,
          20.27778,
          20.27778,
          20.27778,
          20.27778,
          20.27778,
          20.27778,
          20.27778,
          20.27778,
          20.27778,
          20.27778,
          20.22222,
          20.22222,
          20.22222,
          20.22222,
          20.22222,
          20.22222,
          20.22222,
          20.22222,
          20.22222,
          20.16667,
          20.22222,
          20.22222,
          20.16667,
          20.22222,
          20.22222,
          20.22222,
          20.22222,
          20.22222,
          20.22222,
          20.22222,
          20.22222,
          20.22222,
          20.22222,
          20.27778,
          20.27778,
          20.27778,
          20.27778,
          20.27778,
          20.33333,
          20.33333,
          20.33333,
          20.33333,
          20.33333,
          20.33333,
          20.33333,
          20.27778,
          20.27778,
          20.22222,
          20.22222,
          20.22222,
          20.22222,
          20.22222,
          20.22222,
          20.22222,
          20.16667,
          20.16667,
          20.16667,
          20.16667,
          20.16667,
          20.11111,
          20.16667,
          20.16667,
          20.16667,
          20.16667,
          20.16667,
          20.11111,
          20.11111,
          20.11111,
          20.05556,
          20.05556,
          20,
          20,
          20,
          20,
          20,
          20,
          20,
          20,
          20,
          20,
          20,
          20,
          20,
          20.05556,
          20.05556,
          20.05556,
          20.05556,
          20.05556,
          20.05556,
          20.11111,
          20.11111,
          20.11111,
          20.11111,
          20.11111,
          20.11111,
          20.05556,
          20.05556,
          20.11111,
          20.05556,
          20.05556,
          20.05556,
          20.05556,
          20.05556,
          20.05556,
          20,
          20,
          20,
          19.94444,
          19.94444,
          19.94444,
          19.88889,
          19.88889,
          19.88889,
          19.83333,
          19.83333,
          19.83333,
          19.83333,
          19.77778,
          19.77778,
          19.77778,
          19.77778,
          19.72222,
          19.72222,
          19.72222,
          19.72222,
          19.66667,
          19.66667,
          19.66667,
          19.66667,
          19.66667,
          19.66667,
          19.66667,
          19.66667,
          19.66667,
          19.66667,
          19.66667,
          19.66667,
          19.72222,
          19.72222,
          19.72222,
          19.66667,
          19.66667,
          19.66667,
          19.66667,
          19.72222,
          19.72222,
          19.72222,
          19.72222,
          19.72222,
          19.72222,
          19.72222,
          19.77778,
          19.77778,
          19.77778,
          19.72222,
          19.77778,
          19.77778,
          19.77778,
          19.83333,
          19.83333,
          19.83333,
          19.83333,
          19.77778,
          19.77778,
          19.72222,
          19.77778,
          19.77778,
          19.77778,
          19.72222,
          19.72222,
          19.72222,
          19.77778,
          19.72222,
          19.77778,
          19.77778,
          19.77778,
          19.77778,
          19.83333,
          19.83333,
          19.83333,
          19.83333,
          19.88889,
          19.88889,
          19.94444,
          19.94444,
          20,
          20,
          20.05556,
          20.05556,
          20.11111,
          20.16667,
          20.16667,
          20.22222,
          20.22222,
          20.22222,
          20.27778,
          20.27778,
          20.33333,
          20.33333,
          20.38889,
          20.38889,
          20.44444,
          20.44444,
          20.5,
          20.5,
          20.5,
          20.5,
          20.5,
          20.55556,
          20.55556,
          20.55556,
          20.55556,
          20.61111,
          20.61111,
          20.66667,
          20.66667,
          20.72222,
          20.77778,
          20.77778,
          20.77778,
          20.83333,
          20.88889,
          20.88889,
          20.94444,
          20.94444,
          20.94444,
          20.94444,
          20.94444,
          21,
          21,
          21,
          21.05556,
          21.05556,
          21.05556,
          21.05556,
          21,
          20.94444,
          20.88889,
          20.88889,
          20.83333,
          20.77778,
          20.72222,
          20.66667,
          20.61111,
          20.66667,
          20.66667,
          20.66667,
          20.72222,
          20.72222,
          20.77778,
          20.83333,
          20.88889,
          20.94444,
          21,
          21.05556,
          21.11111,
          21.16667,
          21.27778,
          21.33333,
          21.44444,
          21.55556,
          21.61111,
          21.72222,
          21.83333,
          21.94444,
          22,
          22.05556,
          22.11111,
          22.11111,
          22.16667,
          22.16667,
          22.16667,
          22.22222,
          22.22222,
          22.33333,
          22.38889,
          22.44444,
          22.5,
          22.5,
          22.5,
          22.5,
          22.5,
          22.44444,
          22.44444,
          22.38889,
          22.38889,
          22.38889,
          22.38889,
          22.38889,
          22.44444,
          22.44444,
          22.5,
          22.55556,
          22.61111,
          22.61111,
          22.66667,
          22.66667,
          22.72222,
          22.77778,
          22.83333,
          22.88889,
          22.94444,
          23.05556,
          23.11111,
          23.05556,
          23.05556,
          23,
          22.94444,
          22.94444,
          22.88889,
          22.88889,
          22.83333,
          22.83333,
          22.83333,
          22.88889,
          22.88889,
          22.94444,
          23,
          23.05556,
          23.16667,
          23.22222,
          23.27778,
          23.33333,
          23.33333,
          23.44444,
          23.44444,
          23.33333,
          23.33333,
          23.27778,
          23.22222,
          23.27778,
          23.33333,
          23.38889,
          23.44444,
          23.5,
          23.5,
          23.44444,
          23.38889,
          23.33333,
          23.27778,
          23.27778,
          23.22222,
          23.16667,
          23.16667,
          23.11111,
          23.05556,
          23.05556,
          23,
          23,
          23,
          23.05556,
          23.05556,
          23.11111,
          23.16667,
          23.22222,
          23.27778,
          23.38889,
          23.5,
          23.55556,
          23.66667,
          23.83333,
          23.94444,
          24,
          24.16667,
          24.27778,
          24.27778,
          24.27778,
          24.33333,
          24.33333,
          24.33333,
          24.33333,
          24.33333,
          24.38889,
          24.38889,
          24.38889,
          24.33333,
          24.33333,
          24.27778,
          24.27778,
          24.27778,
          24.27778,
          24.27778,
          24.33333,
          24.33333,
          24.22222,
          24.11111,
          24.11111,
          24.05556,
          24.05556,
          24.11111,
          24.16667,
          24.27778,
          24.33333,
          24.5,
          24.55556,
          24.61111,
          24.55556,
          24.44444,
          24.33333,
          24.33333,
          24.38889,
          24.44444,
          24.44444,
          24.44444,
          24.44444,
          24.5,
          24.44444,
          24.33333,
          24.27778,
          24.27778,
          24.22222,
          24.16667,
          24.16667,
          24.16667,
          24.11111,
          24.11111,
          24.05556,
          24,
          24,
          24,
          24.05556,
          24.16667,
          24.27778,
          24.33333,
          24.44444,
          24.5,
          24.5,
          24.44444,
          24.38889,
          24.38889,
          24.33333,
          24.38889,
          24.38889,
          24.38889,
          24.38889,
          24.44444,
          24.5,
          24.5,
          24.5,
          24.55556,
          24.61111,
          24.66667,
          24.72222,
          24.77778,
          24.83333,
          24.88889,
          24.94444,
          24.83333,
          24.77778,
          24.83333,
          24.83333,
          24.83333,
          24.83333,
          24.88889,
          24.88889,
          24.88889,
          24.83333,
          24.77778,
          24.77778,
          24.83333,
          24.83333,
          24.77778,
          24.72222,
          24.66667,
          24.66667,
          24.72222,
          24.77778,
          24.77778,
          24.72222,
          24.66667,
          24.66667,
          24.66667,
          24.66667,
          24.61111,
          24.61111,
          24.61111,
          24.55556,
          24.55556,
          24.55556,
          24.55556,
          24.61111,
          24.55556,
          24.55556,
          24.55556,
          24.55556,
          24.55556,
          24.55556,
          24.55556,
          24.61111,
          24.72222,
          24.83333,
          24.94444,
          25.05556,
          25.16667,
          25.22222,
          25.33333,
          25.44444,
          25.5,
          25.5,
          25.5,
          25.44444,
          25.38889,
          25.27778,
          25.27778,
          25.22222,
          25.16667,
          25.05556,
          24.94444,
          24.88889,
          24.88889,
          24.88889,
          24.88889,
          24.88889,
          24.88889,
          24.88889,
          24.94444,
          25,
          25.05556,
          25.11111,
          25.16667,
          25.22222,
          25.33333,
          25.44444,
          25.5,
          25.61111,
          25.72222,
          25.77778,
          25.83333,
          25.88889,
          25.88889,
          25.83333,
          25.77778,
          25.72222,
          25.77778,
          25.83333,
          25.88889,
          25.94444,
          25.94444,
          25.94444,
          25.88889,
          25.88889,
          25.88889,
          25.94444,
          26,
          26,
          25.94444,
          25.94444,
          25.94444,
          25.94444,
          26,
          26.05556,
          26.11111,
          26.11111,
          26.05556,
          26,
          25.88889,
          25.83333,
          25.77778,
          25.72222,
          25.66667,
          25.61111,
          25.61111,
          25.61111,
          25.72222,
          25.83333,
          25.88889,
          25.94444,
          26,
          26,
          26.05556,
          26.11111,
          26.16667,
          26.27778,
          26.27778,
          26.33333,
          26.33333,
          26.38889,
          26.44444,
          26.5,
          26.55556,
          26.61111,
          26.61111,
          26.66667,
          26.66667,
          26.66667,
          26.66667,
          26.72222,
          26.77778,
          26.88889,
          27,
          27.16667,
          27.27778,
          27.33333,
          27.44444,
          27.5,
          27.61111,
          27.72222,
          27.88889,
          28.05556,
          28.22222,
          28.22222,
          28.11111,
          28,
          27.94444,
          27.88889,
          27.83333,
          27.66667,
          27.44444,
          27.27778,
          27.16667,
          27,
          26.83333,
          26.77778,
          26.72222,
          26.61111,
          26.5,
          26.38889,
          26.33333,
          26.33333,
          26.33333,
          26.33333,
          26.38889,
          26.44444,
          26.5,
          26.5,
          26.5,
          26.55556,
          26.55556,
          26.61111,
          26.66667,
          26.66667,
          26.72222,
          26.77778,
          26.94444,
          27.05556,
          27.05556,
          27.05556,
          27.05556,
          27,
          27,
          27.05556,
          27.05556,
          27.11111,
          27.16667,
          27.22222,
          27.33333,
          27.38889,
          27.33333,
          27.38889,
          27.33333,
          27.38889,
          27.55556,
          27.72222,
          27.88889,
          28.05556,
          28.22222,
          28.33333,
          28.38889,
          28.27778,
          28.11111,
          27.88889,
          27.66667,
          27.55556,
          27.44444,
          27.33333,
          27.22222,
          27.11111,
          27,
          26.94444,
          26.88889,
          26.83333,
          26.83333,
          26.83333,
          26.83333,
          26.88889,
          27,
          27.05556,
          27.05556,
          27.11111,
          27.22222,
          27.22222,
          27.11111,
          27,
          26.94444,
          26.88889,
          26.88889,
          26.83333,
          26.83333,
          26.83333,
          26.77778,
          26.77778,
          26.83333,
          26.83333,
          26.88889,
          26.94444,
          26.88889,
          26.83333,
          26.83333,
          26.83333,
          26.83333,
          26.83333,
          26.88889,
          26.94444,
          26.94444,
          26.94444,
          27,
          27,
          27,
          26.94444,
          26.94444,
          26.88889,
          26.83333,
          26.83333,
          26.77778,
          26.77778,
          26.77778,
          26.83333,
          26.83333,
          26.83333,
          26.77778,
          26.77778,
          26.77778,
          26.83333,
          26.88889,
          26.88889,
          26.94444,
          26.94444,
          27,
          27,
          27,
          27,
          27,
          27,
          27,
          27.05556,
          27.05556,
          27.11111,
          27.11111,
          27.16667,
          27.16667,
          27.16667,
          27.16667,
          27.16667,
          27.22222,
          27.27778,
          27.22222,
          27.22222,
          27.22222,
          27.22222,
          27.16667,
          27.16667,
          27.16667,
          27.11111,
          27.11111,
          27.05556,
          27.11111,
          27.11111,
          27.16667,
          27.22222,
          27.27778,
          27.33333,
          27.38889,
          27.38889,
          27.44444,
          27.5,
          27.5,
          27.5,
          27.44444,
          27.44444,
          27.44444,
          27.5,
          27.55556,
          27.61111,
          27.66667,
          27.66667,
          27.72222,
          27.77778,
          27.77778,
          27.83333,
          27.83333,
          27.83333,
          27.83333,
          27.83333,
          27.77778,
          27.72222,
          27.66667,
          27.66667,
          27.66667,
          27.61111,
          27.61111,
          27.55556,
          27.55556,
          27.61111,
          27.61111,
          27.61111,
          27.61111,
          27.61111,
          27.55556,
          27.55556,
          27.55556,
          27.55556,
          27.55556,
          27.55556,
          27.61111,
          27.66667,
          27.66667,
          27.66667,
          27.66667,
          27.66667,
          27.66667,
          27.61111,
          27.61111,
          27.5,
          27.44444,
          27.44444,
          27.33333,
          27.27778,
          27.22222,
          27.16667,
          27.11111,
          27.11111,
          27.05556,
          27,
          26.94444,
          26.88889,
          26.83333,
          26.77778,
          26.77778,
          26.72222,
          26.66667,
          26.66667,
          26.61111,
          26.61111,
          26.55556,
          26.55556,
          26.5,
          26.5,
          26.44444,
          26.38889,
          26.33333,
          26.33333,
          26.22222,
          26.16667,
          26.05556,
          25.94444,
          25.83333,
          25.77778,
          25.72222,
          25.72222,
          25.66667,
          25.61111,
          25.61111,
          25.61111,
          25.61111,
          25.55556,
          25.55556,
          25.5,
          25.5,
          25.44444,
          25.44444,
          25.44444,
          25.38889,
          25.38889,
          25.38889,
          25.38889,
          25.38889,
          25.38889,
          25.33333,
          25.33333,
          25.33333,
          25.27778,
          25.22222,
          25.22222,
          25.16667,
          25.16667,
          25.11111,
          25.11111,
          25.11111,
          25.11111,
          25.05556,
          25.05556,
          25,
          24.94444,
          24.94444,
          24.94444,
          24.88889,
          24.88889,
          24.88889,
          24.88889,
          24.83333,
          24.83333,
          24.77778,
          24.77778,
          24.77778,
          24.72222,
          24.66667,
          24.61111,
          24.55556,
          24.55556,
          24.55556,
          24.5,
          24.5,
          24.5,
          24.44444,
          24.44444,
          24.38889,
          24.38889,
          24.33333,
          24.27778,
          24.27778,
          24.22222,
          24.22222,
          24.22222,
          24.22222,
          24.16667,
          24.16667,
          24.16667,
          24.11111,
          24.11111,
          24.05556,
          24.05556,
          24,
          23.94444,
          23.88889,
          23.77778,
          23.72222,
          23.66667,
          23.55556,
          23.55556,
          23.5,
          23.44444,
          23.38889,
          23.33333,
          23.27778,
          23.22222,
          23.11111,
          23.11111,
          23.05556,
          23,
          22.94444,
          22.94444,
          22.88889,
          22.88889,
          22.83333,
          22.83333,
          22.77778,
          22.72222,
          22.72222,
          22.72222,
          22.66667,
          22.66667,
          22.61111,
          22.61111,
          22.55556,
          22.55556,
          22.55556,
          22.55556,
          22.55556,
          22.55556,
          22.55556,
          22.5,
          22.5,
          22.5,
          22.5,
          22.55556,
          22.55556,
          22.55556,
          22.55556,
          22.55556,
          22.55556,
          22.61111,
          22.61111,
          22.61111,
          22.61111,
          22.61111,
          22.55556,
          22.55556,
          22.55556,
          22.55556,
          22.5,
          22.5,
          22.5,
          22.5,
          22.44444,
          22.44444,
          22.44444,
          22.44444,
          22.44444,
          22.44444,
          22.44444,
          22.44444,
          22.44444,
          22.44444,
          22.44444,
          22.44444,
          22.44444,
          22.38889,
          22.38889,
          22.38889,
          22.33333,
          22.33333,
          22.33333,
          22.27778,
          22.27778,
          22.27778,
          22.27778,
          22.27778,
          22.22222,
          22.22222,
          22.22222,
          22.22222,
          22.16667,
          22.16667,
          22.16667,
          22.16667,
          22.16667,
          22.11111,
          22.11111,
          22.05556,
          22.05556,
          22.05556,
          22,
          22,
          21.94444,
          22,
          21.94444,
          21.94444,
          21.94444,
          21.94444,
          21.94444,
          21.94444,
          21.88889,
          21.88889,
          21.88889,
          21.83333,
          21.83333,
          21.83333,
          21.83333,
          21.83333,
          21.83333,
          21.83333,
          21.83333,
          21.83333,
          21.83333,
          21.83333,
          21.83333,
          21.83333,
          21.83333,
          21.77778,
          21.77778,
          21.72222,
          21.72222,
          21.72222,
          21.66667,
          21.66667,
          21.66667,
          21.66667,
          21.61111,
          21.61111,
          21.61111,
          21.61111,
          21.61111,
          21.66667,
          21.66667,
          21.66667,
          21.66667,
          21.66667,
          21.66667,
          21.66667,
          21.72222,
          21.72222,
          21.72222,
          21.72222,
          21.72222,
          21.72222,
          21.72222,
          21.66667,
          21.66667,
          21.66667,
          21.66667,
          21.66667,
          21.66667,
          21.66667,
          21.66667,
          21.61111,
          21.61111,
          21.55556,
          21.55556,
          21.55556,
          21.5,
          21.5,
          21.5,
          21.5,
          21.44444,
          21.44444,
          21.44444,
          21.44444,
          21.44444,
          21.44444,
          21.44444,
          21.44444,
          21.44444,
          21.44444,
          21.44444,
          21.44444,
          21.44444,
          21.44444,
          21.44444,
          21.44444,
          21.44444,
          21.44444,
          21.44444,
          21.5,
          21.44444,
          21.44444,
          21.44444,
          21.44444,
          21.44444,
          21.44444,
          21.44444,
          21.44444,
          21.5,
          21.5,
          21.5,
          21.5,
          21.55556,
          21.55556,
          21.55556,
          21.55556,
          21.55556,
          21.61111,
          21.61111,
          21.61111,
          21.61111,
          21.61111,
          21.66667,
          21.66667,
          21.61111,
          21.61111,
          21.61111,
          21.61111,
          21.61111,
          21.61111,
          21.61111,
          21.61111,
          21.55556,
          21.61111,
          21.55556,
          21.55556,
          21.55556,
          21.55556,
          21.55556,
          21.55556,
          21.55556,
          21.55556,
          21.55556,
          21.55556,
          21.55556,
          21.55556,
          21.55556,
          21.55556,
          21.55556,
          21.55556,
          21.55556,
          21.55556,
          21.5,
          21.44444,
          21.38889,
          21.38889,
          21.38889,
          21.38889,
          21.38889,
          21.38889,
          21.38889,
          21.33333,
          21.33333,
          21.27778,
          21.22222,
          21.22222,
          21.27778,
          21.22222,
          21.22222,
          21.22222,
          21.22222,
          21.16667,
          21.16667,
          21.16667,
          21.16667,
          21.11111,
          21.05556,
          21,
          21,
          21,
          20.94444,
          20.94444,
          20.94444,
          20.88889,
          20.88889,
          20.88889,
          20.83333,
          20.83333,
          20.83333,
          20.83333,
          20.83333,
          20.83333,
          20.77778,
          20.77778,
          20.77778,
          20.77778,
          20.77778,
          20.72222,
          20.72222
         ],
         "yaxis": "y"
        }
       ],
       "layout": {
        "legend": {
         "tracegroupgap": 0
        },
        "template": {
         "data": {
          "bar": [
           {
            "error_x": {
             "color": "#2a3f5f"
            },
            "error_y": {
             "color": "#2a3f5f"
            },
            "marker": {
             "line": {
              "color": "#E5ECF6",
              "width": 0.5
             },
             "pattern": {
              "fillmode": "overlay",
              "size": 10,
              "solidity": 0.2
             }
            },
            "type": "bar"
           }
          ],
          "barpolar": [
           {
            "marker": {
             "line": {
              "color": "#E5ECF6",
              "width": 0.5
             },
             "pattern": {
              "fillmode": "overlay",
              "size": 10,
              "solidity": 0.2
             }
            },
            "type": "barpolar"
           }
          ],
          "carpet": [
           {
            "aaxis": {
             "endlinecolor": "#2a3f5f",
             "gridcolor": "white",
             "linecolor": "white",
             "minorgridcolor": "white",
             "startlinecolor": "#2a3f5f"
            },
            "baxis": {
             "endlinecolor": "#2a3f5f",
             "gridcolor": "white",
             "linecolor": "white",
             "minorgridcolor": "white",
             "startlinecolor": "#2a3f5f"
            },
            "type": "carpet"
           }
          ],
          "choropleth": [
           {
            "colorbar": {
             "outlinewidth": 0,
             "ticks": ""
            },
            "type": "choropleth"
           }
          ],
          "contour": [
           {
            "colorbar": {
             "outlinewidth": 0,
             "ticks": ""
            },
            "colorscale": [
             [
              0,
              "#0d0887"
             ],
             [
              0.1111111111111111,
              "#46039f"
             ],
             [
              0.2222222222222222,
              "#7201a8"
             ],
             [
              0.3333333333333333,
              "#9c179e"
             ],
             [
              0.4444444444444444,
              "#bd3786"
             ],
             [
              0.5555555555555556,
              "#d8576b"
             ],
             [
              0.6666666666666666,
              "#ed7953"
             ],
             [
              0.7777777777777778,
              "#fb9f3a"
             ],
             [
              0.8888888888888888,
              "#fdca26"
             ],
             [
              1,
              "#f0f921"
             ]
            ],
            "type": "contour"
           }
          ],
          "contourcarpet": [
           {
            "colorbar": {
             "outlinewidth": 0,
             "ticks": ""
            },
            "type": "contourcarpet"
           }
          ],
          "heatmap": [
           {
            "colorbar": {
             "outlinewidth": 0,
             "ticks": ""
            },
            "colorscale": [
             [
              0,
              "#0d0887"
             ],
             [
              0.1111111111111111,
              "#46039f"
             ],
             [
              0.2222222222222222,
              "#7201a8"
             ],
             [
              0.3333333333333333,
              "#9c179e"
             ],
             [
              0.4444444444444444,
              "#bd3786"
             ],
             [
              0.5555555555555556,
              "#d8576b"
             ],
             [
              0.6666666666666666,
              "#ed7953"
             ],
             [
              0.7777777777777778,
              "#fb9f3a"
             ],
             [
              0.8888888888888888,
              "#fdca26"
             ],
             [
              1,
              "#f0f921"
             ]
            ],
            "type": "heatmap"
           }
          ],
          "heatmapgl": [
           {
            "colorbar": {
             "outlinewidth": 0,
             "ticks": ""
            },
            "colorscale": [
             [
              0,
              "#0d0887"
             ],
             [
              0.1111111111111111,
              "#46039f"
             ],
             [
              0.2222222222222222,
              "#7201a8"
             ],
             [
              0.3333333333333333,
              "#9c179e"
             ],
             [
              0.4444444444444444,
              "#bd3786"
             ],
             [
              0.5555555555555556,
              "#d8576b"
             ],
             [
              0.6666666666666666,
              "#ed7953"
             ],
             [
              0.7777777777777778,
              "#fb9f3a"
             ],
             [
              0.8888888888888888,
              "#fdca26"
             ],
             [
              1,
              "#f0f921"
             ]
            ],
            "type": "heatmapgl"
           }
          ],
          "histogram": [
           {
            "marker": {
             "pattern": {
              "fillmode": "overlay",
              "size": 10,
              "solidity": 0.2
             }
            },
            "type": "histogram"
           }
          ],
          "histogram2d": [
           {
            "colorbar": {
             "outlinewidth": 0,
             "ticks": ""
            },
            "colorscale": [
             [
              0,
              "#0d0887"
             ],
             [
              0.1111111111111111,
              "#46039f"
             ],
             [
              0.2222222222222222,
              "#7201a8"
             ],
             [
              0.3333333333333333,
              "#9c179e"
             ],
             [
              0.4444444444444444,
              "#bd3786"
             ],
             [
              0.5555555555555556,
              "#d8576b"
             ],
             [
              0.6666666666666666,
              "#ed7953"
             ],
             [
              0.7777777777777778,
              "#fb9f3a"
             ],
             [
              0.8888888888888888,
              "#fdca26"
             ],
             [
              1,
              "#f0f921"
             ]
            ],
            "type": "histogram2d"
           }
          ],
          "histogram2dcontour": [
           {
            "colorbar": {
             "outlinewidth": 0,
             "ticks": ""
            },
            "colorscale": [
             [
              0,
              "#0d0887"
             ],
             [
              0.1111111111111111,
              "#46039f"
             ],
             [
              0.2222222222222222,
              "#7201a8"
             ],
             [
              0.3333333333333333,
              "#9c179e"
             ],
             [
              0.4444444444444444,
              "#bd3786"
             ],
             [
              0.5555555555555556,
              "#d8576b"
             ],
             [
              0.6666666666666666,
              "#ed7953"
             ],
             [
              0.7777777777777778,
              "#fb9f3a"
             ],
             [
              0.8888888888888888,
              "#fdca26"
             ],
             [
              1,
              "#f0f921"
             ]
            ],
            "type": "histogram2dcontour"
           }
          ],
          "mesh3d": [
           {
            "colorbar": {
             "outlinewidth": 0,
             "ticks": ""
            },
            "type": "mesh3d"
           }
          ],
          "parcoords": [
           {
            "line": {
             "colorbar": {
              "outlinewidth": 0,
              "ticks": ""
             }
            },
            "type": "parcoords"
           }
          ],
          "pie": [
           {
            "automargin": true,
            "type": "pie"
           }
          ],
          "scatter": [
           {
            "fillpattern": {
             "fillmode": "overlay",
             "size": 10,
             "solidity": 0.2
            },
            "type": "scatter"
           }
          ],
          "scatter3d": [
           {
            "line": {
             "colorbar": {
              "outlinewidth": 0,
              "ticks": ""
             }
            },
            "marker": {
             "colorbar": {
              "outlinewidth": 0,
              "ticks": ""
             }
            },
            "type": "scatter3d"
           }
          ],
          "scattercarpet": [
           {
            "marker": {
             "colorbar": {
              "outlinewidth": 0,
              "ticks": ""
             }
            },
            "type": "scattercarpet"
           }
          ],
          "scattergeo": [
           {
            "marker": {
             "colorbar": {
              "outlinewidth": 0,
              "ticks": ""
             }
            },
            "type": "scattergeo"
           }
          ],
          "scattergl": [
           {
            "marker": {
             "colorbar": {
              "outlinewidth": 0,
              "ticks": ""
             }
            },
            "type": "scattergl"
           }
          ],
          "scattermapbox": [
           {
            "marker": {
             "colorbar": {
              "outlinewidth": 0,
              "ticks": ""
             }
            },
            "type": "scattermapbox"
           }
          ],
          "scatterpolar": [
           {
            "marker": {
             "colorbar": {
              "outlinewidth": 0,
              "ticks": ""
             }
            },
            "type": "scatterpolar"
           }
          ],
          "scatterpolargl": [
           {
            "marker": {
             "colorbar": {
              "outlinewidth": 0,
              "ticks": ""
             }
            },
            "type": "scatterpolargl"
           }
          ],
          "scatterternary": [
           {
            "marker": {
             "colorbar": {
              "outlinewidth": 0,
              "ticks": ""
             }
            },
            "type": "scatterternary"
           }
          ],
          "surface": [
           {
            "colorbar": {
             "outlinewidth": 0,
             "ticks": ""
            },
            "colorscale": [
             [
              0,
              "#0d0887"
             ],
             [
              0.1111111111111111,
              "#46039f"
             ],
             [
              0.2222222222222222,
              "#7201a8"
             ],
             [
              0.3333333333333333,
              "#9c179e"
             ],
             [
              0.4444444444444444,
              "#bd3786"
             ],
             [
              0.5555555555555556,
              "#d8576b"
             ],
             [
              0.6666666666666666,
              "#ed7953"
             ],
             [
              0.7777777777777778,
              "#fb9f3a"
             ],
             [
              0.8888888888888888,
              "#fdca26"
             ],
             [
              1,
              "#f0f921"
             ]
            ],
            "type": "surface"
           }
          ],
          "table": [
           {
            "cells": {
             "fill": {
              "color": "#EBF0F8"
             },
             "line": {
              "color": "white"
             }
            },
            "header": {
             "fill": {
              "color": "#C8D4E3"
             },
             "line": {
              "color": "white"
             }
            },
            "type": "table"
           }
          ]
         },
         "layout": {
          "annotationdefaults": {
           "arrowcolor": "#2a3f5f",
           "arrowhead": 0,
           "arrowwidth": 1
          },
          "autotypenumbers": "strict",
          "coloraxis": {
           "colorbar": {
            "outlinewidth": 0,
            "ticks": ""
           }
          },
          "colorscale": {
           "diverging": [
            [
             0,
             "#8e0152"
            ],
            [
             0.1,
             "#c51b7d"
            ],
            [
             0.2,
             "#de77ae"
            ],
            [
             0.3,
             "#f1b6da"
            ],
            [
             0.4,
             "#fde0ef"
            ],
            [
             0.5,
             "#f7f7f7"
            ],
            [
             0.6,
             "#e6f5d0"
            ],
            [
             0.7,
             "#b8e186"
            ],
            [
             0.8,
             "#7fbc41"
            ],
            [
             0.9,
             "#4d9221"
            ],
            [
             1,
             "#276419"
            ]
           ],
           "sequential": [
            [
             0,
             "#0d0887"
            ],
            [
             0.1111111111111111,
             "#46039f"
            ],
            [
             0.2222222222222222,
             "#7201a8"
            ],
            [
             0.3333333333333333,
             "#9c179e"
            ],
            [
             0.4444444444444444,
             "#bd3786"
            ],
            [
             0.5555555555555556,
             "#d8576b"
            ],
            [
             0.6666666666666666,
             "#ed7953"
            ],
            [
             0.7777777777777778,
             "#fb9f3a"
            ],
            [
             0.8888888888888888,
             "#fdca26"
            ],
            [
             1,
             "#f0f921"
            ]
           ],
           "sequentialminus": [
            [
             0,
             "#0d0887"
            ],
            [
             0.1111111111111111,
             "#46039f"
            ],
            [
             0.2222222222222222,
             "#7201a8"
            ],
            [
             0.3333333333333333,
             "#9c179e"
            ],
            [
             0.4444444444444444,
             "#bd3786"
            ],
            [
             0.5555555555555556,
             "#d8576b"
            ],
            [
             0.6666666666666666,
             "#ed7953"
            ],
            [
             0.7777777777777778,
             "#fb9f3a"
            ],
            [
             0.8888888888888888,
             "#fdca26"
            ],
            [
             1,
             "#f0f921"
            ]
           ]
          },
          "colorway": [
           "#636efa",
           "#EF553B",
           "#00cc96",
           "#ab63fa",
           "#FFA15A",
           "#19d3f3",
           "#FF6692",
           "#B6E880",
           "#FF97FF",
           "#FECB52"
          ],
          "font": {
           "color": "#2a3f5f"
          },
          "geo": {
           "bgcolor": "white",
           "lakecolor": "white",
           "landcolor": "#E5ECF6",
           "showlakes": true,
           "showland": true,
           "subunitcolor": "white"
          },
          "hoverlabel": {
           "align": "left"
          },
          "hovermode": "closest",
          "mapbox": {
           "style": "light"
          },
          "paper_bgcolor": "white",
          "plot_bgcolor": "#E5ECF6",
          "polar": {
           "angularaxis": {
            "gridcolor": "white",
            "linecolor": "white",
            "ticks": ""
           },
           "bgcolor": "#E5ECF6",
           "radialaxis": {
            "gridcolor": "white",
            "linecolor": "white",
            "ticks": ""
           }
          },
          "scene": {
           "xaxis": {
            "backgroundcolor": "#E5ECF6",
            "gridcolor": "white",
            "gridwidth": 2,
            "linecolor": "white",
            "showbackground": true,
            "ticks": "",
            "zerolinecolor": "white"
           },
           "yaxis": {
            "backgroundcolor": "#E5ECF6",
            "gridcolor": "white",
            "gridwidth": 2,
            "linecolor": "white",
            "showbackground": true,
            "ticks": "",
            "zerolinecolor": "white"
           },
           "zaxis": {
            "backgroundcolor": "#E5ECF6",
            "gridcolor": "white",
            "gridwidth": 2,
            "linecolor": "white",
            "showbackground": true,
            "ticks": "",
            "zerolinecolor": "white"
           }
          },
          "shapedefaults": {
           "line": {
            "color": "#2a3f5f"
           }
          },
          "ternary": {
           "aaxis": {
            "gridcolor": "white",
            "linecolor": "white",
            "ticks": ""
           },
           "baxis": {
            "gridcolor": "white",
            "linecolor": "white",
            "ticks": ""
           },
           "bgcolor": "#E5ECF6",
           "caxis": {
            "gridcolor": "white",
            "linecolor": "white",
            "ticks": ""
           }
          },
          "title": {
           "x": 0.05
          },
          "xaxis": {
           "automargin": true,
           "gridcolor": "white",
           "linecolor": "white",
           "ticks": "",
           "title": {
            "standoff": 15
           },
           "zerolinecolor": "white",
           "zerolinewidth": 2
          },
          "yaxis": {
           "automargin": true,
           "gridcolor": "white",
           "linecolor": "white",
           "ticks": "",
           "title": {
            "standoff": 15
           },
           "zerolinecolor": "white",
           "zerolinewidth": 2
          }
         }
        },
        "title": {
         "text": "Relación entre $x$ y $y$"
        },
        "xaxis": {
         "anchor": "y",
         "domain": [
          0,
          1
         ],
         "title": {
          "text": "fechas"
         }
        },
        "yaxis": {
         "anchor": "x",
         "domain": [
          0,
          1
         ],
         "title": {
          "text": "temperatura en medellín"
         }
        }
       }
      }
     },
     "metadata": {},
     "output_type": "display_data"
    }
   ],
   "source": [
    "import pandas as pd \n",
    "import plotly.express as px\n",
    "#fig = px.line(tabla,x = tabla.keys()[0], y = tabla.keys()[1], title=r'Relación entre $x$ y $y$')\n",
    "\n",
    "fig = px.scatter(tabla,x = tabla.keys()[0], y = tabla.keys()[1], title=r'Relación entre $x$ y $y$')\n",
    "\n",
    "fig.show()\n",
    "\n",
    "fig.write_html('relacion_entre_x_e_y.html', auto_open=True)"
   ]
  },
  {
   "attachments": {},
   "cell_type": "markdown",
   "id": "bf8d11a1",
   "metadata": {
    "slideshow": {
     "slide_type": "slide"
    }
   },
   "source": [
    "## Mapa conceptual de la clase elaborado en CMapTools"
   ]
  },
  {
   "attachments": {},
   "cell_type": "markdown",
   "id": "aac04d00",
   "metadata": {
    "slideshow": {
     "slide_type": "slide"
    }
   },
   "source": [
    "<img src = ''>"
   ]
  },
  {
   "attachments": {},
   "cell_type": "markdown",
   "id": "740f3401",
   "metadata": {
    "slideshow": {
     "slide_type": "slide"
    }
   },
   "source": [
    "# Componente de manejo de calculadora Casio asociado al objetivo de aprendizaje de esta clase"
   ]
  },
  {
   "attachments": {},
   "cell_type": "markdown",
   "id": "8eecb2d9",
   "metadata": {
    "slideshow": {
     "slide_type": "slide"
    }
   },
   "source": [
    "## Descripción de la calculadora Casio  \n",
    "\n"
   ]
  },
  {
   "cell_type": "code",
   "execution_count": null,
   "id": "3cd72835",
   "metadata": {
    "slideshow": {
     "slide_type": "slide"
    }
   },
   "outputs": [],
   "source": []
  },
  {
   "cell_type": "code",
   "execution_count": null,
   "id": "d8a111c4",
   "metadata": {
    "slideshow": {
     "slide_type": "slide"
    }
   },
   "outputs": [],
   "source": []
  },
  {
   "attachments": {},
   "cell_type": "markdown",
   "id": "8a6f7ef9",
   "metadata": {
    "slideshow": {
     "slide_type": "slide"
    }
   },
   "source": [
    "## Tareas para realizar antes de la clase"
   ]
  },
  {
   "attachments": {},
   "cell_type": "markdown",
   "id": "90cae469",
   "metadata": {
    "slideshow": {
     "slide_type": "slide"
    }
   },
   "source": [
    "1. Ver los videos respectivos []()\n",
    "2. Memorizar las definiciones []()\n",
    "3. Sintetizar o resumir la información en mapas conceptuales. []()\n",
    "4. Tareas para incentivar el uso de la calculadora Casio Para ingenieros y licenciados. "
   ]
  },
  {
   "attachments": {},
   "cell_type": "markdown",
   "id": "fccb447c",
   "metadata": {
    "slideshow": {
     "slide_type": "slide"
    }
   },
   "source": [
    "# Tareas para realizar en clase"
   ]
  },
  {
   "attachments": {},
   "cell_type": "markdown",
   "id": "e5c48edf",
   "metadata": {
    "slideshow": {
     "slide_type": "slide"
    }
   },
   "source": [
    "* Modelación matemática \n",
    "* Trabajo en equipos"
   ]
  },
  {
   "attachments": {},
   "cell_type": "markdown",
   "id": "8b6b0112",
   "metadata": {
    "slideshow": {
     "slide_type": "slide"
    }
   },
   "source": [
    "# Tareas para realizar después de la realización de la clase"
   ]
  },
  {
   "attachments": {},
   "cell_type": "markdown",
   "id": "947460e3",
   "metadata": {
    "slideshow": {
     "slide_type": "slide"
    }
   },
   "source": [
    "* Actividades de memorización: \n",
    "  - escucha reiterada de grabaciones de formulas y resultados científicos. \n",
    "  - relectura de notas. \n",
    "  - ejercicios de mayor complejidad.\n",
    "\n",
    "\n",
    "### No olvide asignar las tareas a los estudiantes a través de Google Colab y compartiendole el cuaderno de asignación a su correo institucional con fecha de entrega. [Google Colab](https://colab.research.google.com/?hl=es)   \n",
    "  "
   ]
  },
  {
   "attachments": {},
   "cell_type": "markdown",
   "id": "d34defb9",
   "metadata": {
    "slideshow": {
     "slide_type": "slide"
    }
   },
   "source": [
    "## Asignación individual de tareas semanales "
   ]
  },
  {
   "cell_type": "code",
   "execution_count": 4,
   "id": "0406f442",
   "metadata": {
    "slideshow": {
     "slide_type": "slide"
    }
   },
   "outputs": [
    {
     "name": "stdout",
     "output_type": "stream",
     "text": [
      "Asignaciones guardadas en tarea_seccion_01_purcell.csv\n"
     ]
    },
    {
     "data": {
      "text/html": [
       "<div>\n",
       "<style scoped>\n",
       "    .dataframe tbody tr th:only-of-type {\n",
       "        vertical-align: middle;\n",
       "    }\n",
       "\n",
       "    .dataframe tbody tr th {\n",
       "        vertical-align: top;\n",
       "    }\n",
       "\n",
       "    .dataframe thead th {\n",
       "        text-align: right;\n",
       "    }\n",
       "</style>\n",
       "<table border=\"1\" class=\"dataframe\">\n",
       "  <thead>\n",
       "    <tr style=\"text-align: right;\">\n",
       "      <th></th>\n",
       "      <th>Student</th>\n",
       "      <th>Exercise 1</th>\n",
       "      <th>Exercise 2</th>\n",
       "      <th>Exercise 3</th>\n",
       "      <th>Exercise 4</th>\n",
       "      <th>Exercise 5</th>\n",
       "    </tr>\n",
       "  </thead>\n",
       "  <tbody>\n",
       "    <tr>\n",
       "      <th>0</th>\n",
       "      <td>AGUDELO MORENO RENATO DIRNEY</td>\n",
       "      <td>25</td>\n",
       "      <td>65</td>\n",
       "      <td>16</td>\n",
       "      <td>33</td>\n",
       "      <td>53</td>\n",
       "    </tr>\n",
       "    <tr>\n",
       "      <th>1</th>\n",
       "      <td>AMARIS FERNANDEZ SEBASTIAN CAMILO</td>\n",
       "      <td>3</td>\n",
       "      <td>2</td>\n",
       "      <td>47</td>\n",
       "      <td>81</td>\n",
       "      <td>45</td>\n",
       "    </tr>\n",
       "    <tr>\n",
       "      <th>2</th>\n",
       "      <td>ARENAS HERAZO GABRIEL ENRIQUE</td>\n",
       "      <td>28</td>\n",
       "      <td>70</td>\n",
       "      <td>55</td>\n",
       "      <td>63</td>\n",
       "      <td>58</td>\n",
       "    </tr>\n",
       "    <tr>\n",
       "      <th>3</th>\n",
       "      <td>AYALA MENDOZA MARISOL YACIRA</td>\n",
       "      <td>40</td>\n",
       "      <td>48</td>\n",
       "      <td>27</td>\n",
       "      <td>35</td>\n",
       "      <td>65</td>\n",
       "    </tr>\n",
       "    <tr>\n",
       "      <th>4</th>\n",
       "      <td>BERTEL RODELO MICHELL SMIT</td>\n",
       "      <td>24</td>\n",
       "      <td>7</td>\n",
       "      <td>2</td>\n",
       "      <td>69</td>\n",
       "      <td>52</td>\n",
       "    </tr>\n",
       "    <tr>\n",
       "      <th>5</th>\n",
       "      <td>BULA VERGARA MARIA PAULA</td>\n",
       "      <td>71</td>\n",
       "      <td>82</td>\n",
       "      <td>28</td>\n",
       "      <td>50</td>\n",
       "      <td>52</td>\n",
       "    </tr>\n",
       "    <tr>\n",
       "      <th>6</th>\n",
       "      <td>CANTILLO ENSUCHO DANIEL</td>\n",
       "      <td>14</td>\n",
       "      <td>1</td>\n",
       "      <td>10</td>\n",
       "      <td>72</td>\n",
       "      <td>2</td>\n",
       "    </tr>\n",
       "    <tr>\n",
       "      <th>7</th>\n",
       "      <td>CERVANTES DURAN ANGELICA</td>\n",
       "      <td>46</td>\n",
       "      <td>31</td>\n",
       "      <td>48</td>\n",
       "      <td>83</td>\n",
       "      <td>80</td>\n",
       "    </tr>\n",
       "    <tr>\n",
       "      <th>8</th>\n",
       "      <td>GALLEGO TEJADA JUAN ESTEBAN</td>\n",
       "      <td>80</td>\n",
       "      <td>38</td>\n",
       "      <td>57</td>\n",
       "      <td>74</td>\n",
       "      <td>67</td>\n",
       "    </tr>\n",
       "    <tr>\n",
       "      <th>9</th>\n",
       "      <td>GUERRA NORIEGA YONATHAN</td>\n",
       "      <td>46</td>\n",
       "      <td>81</td>\n",
       "      <td>43</td>\n",
       "      <td>37</td>\n",
       "      <td>48</td>\n",
       "    </tr>\n",
       "    <tr>\n",
       "      <th>10</th>\n",
       "      <td>HINCAPIE CASTRO JOHAN SEBASTIAN</td>\n",
       "      <td>16</td>\n",
       "      <td>69</td>\n",
       "      <td>39</td>\n",
       "      <td>32</td>\n",
       "      <td>28</td>\n",
       "    </tr>\n",
       "    <tr>\n",
       "      <th>11</th>\n",
       "      <td>HUMANEZ SANCHEZ CAMILO</td>\n",
       "      <td>33</td>\n",
       "      <td>43</td>\n",
       "      <td>41</td>\n",
       "      <td>5</td>\n",
       "      <td>66</td>\n",
       "    </tr>\n",
       "    <tr>\n",
       "      <th>12</th>\n",
       "      <td>IBA�EZ MORENO FRANCISCO LUIS</td>\n",
       "      <td>48</td>\n",
       "      <td>65</td>\n",
       "      <td>36</td>\n",
       "      <td>47</td>\n",
       "      <td>33</td>\n",
       "    </tr>\n",
       "    <tr>\n",
       "      <th>13</th>\n",
       "      <td>LONDONO CUADRADO CRISTIAN ALBERTO</td>\n",
       "      <td>15</td>\n",
       "      <td>53</td>\n",
       "      <td>52</td>\n",
       "      <td>60</td>\n",
       "      <td>37</td>\n",
       "    </tr>\n",
       "    <tr>\n",
       "      <th>14</th>\n",
       "      <td>LOZANO HOLGUIN LIZETH JOHANA</td>\n",
       "      <td>83</td>\n",
       "      <td>37</td>\n",
       "      <td>24</td>\n",
       "      <td>61</td>\n",
       "      <td>59</td>\n",
       "    </tr>\n",
       "    <tr>\n",
       "      <th>15</th>\n",
       "      <td>MASS MIRANDA RIVALDO JOSE</td>\n",
       "      <td>46</td>\n",
       "      <td>12</td>\n",
       "      <td>69</td>\n",
       "      <td>71</td>\n",
       "      <td>53</td>\n",
       "    </tr>\n",
       "    <tr>\n",
       "      <th>16</th>\n",
       "      <td>MIRANDA MARTINEZ CARLOS ANDRES</td>\n",
       "      <td>33</td>\n",
       "      <td>82</td>\n",
       "      <td>65</td>\n",
       "      <td>63</td>\n",
       "      <td>68</td>\n",
       "    </tr>\n",
       "    <tr>\n",
       "      <th>17</th>\n",
       "      <td>MONTERROSA SOTO ABRIL</td>\n",
       "      <td>83</td>\n",
       "      <td>9</td>\n",
       "      <td>67</td>\n",
       "      <td>27</td>\n",
       "      <td>30</td>\n",
       "    </tr>\n",
       "    <tr>\n",
       "      <th>18</th>\n",
       "      <td>NORIEGA JIMENEZ GABRIELA</td>\n",
       "      <td>81</td>\n",
       "      <td>58</td>\n",
       "      <td>36</td>\n",
       "      <td>31</td>\n",
       "      <td>39</td>\n",
       "    </tr>\n",
       "    <tr>\n",
       "      <th>19</th>\n",
       "      <td>PEREZ REYES IVAN DARIO</td>\n",
       "      <td>36</td>\n",
       "      <td>65</td>\n",
       "      <td>32</td>\n",
       "      <td>13</td>\n",
       "      <td>46</td>\n",
       "    </tr>\n",
       "    <tr>\n",
       "      <th>20</th>\n",
       "      <td>PEREZ THERAN ERLINDA</td>\n",
       "      <td>81</td>\n",
       "      <td>30</td>\n",
       "      <td>72</td>\n",
       "      <td>64</td>\n",
       "      <td>56</td>\n",
       "    </tr>\n",
       "    <tr>\n",
       "      <th>21</th>\n",
       "      <td>PINEDA ROMERO YOSMERI</td>\n",
       "      <td>64</td>\n",
       "      <td>67</td>\n",
       "      <td>54</td>\n",
       "      <td>48</td>\n",
       "      <td>50</td>\n",
       "    </tr>\n",
       "    <tr>\n",
       "      <th>22</th>\n",
       "      <td>QUINONEZ CERVANTES MARIANA</td>\n",
       "      <td>23</td>\n",
       "      <td>49</td>\n",
       "      <td>60</td>\n",
       "      <td>12</td>\n",
       "      <td>73</td>\n",
       "    </tr>\n",
       "    <tr>\n",
       "      <th>23</th>\n",
       "      <td>QUIROZ DURAN JUAN MANUEL</td>\n",
       "      <td>75</td>\n",
       "      <td>79</td>\n",
       "      <td>66</td>\n",
       "      <td>29</td>\n",
       "      <td>56</td>\n",
       "    </tr>\n",
       "    <tr>\n",
       "      <th>24</th>\n",
       "      <td>RAMOS PEREZ YANINE</td>\n",
       "      <td>64</td>\n",
       "      <td>5</td>\n",
       "      <td>75</td>\n",
       "      <td>27</td>\n",
       "      <td>1</td>\n",
       "    </tr>\n",
       "    <tr>\n",
       "      <th>25</th>\n",
       "      <td>RIVAS HOYOS ESTEFANIA</td>\n",
       "      <td>24</td>\n",
       "      <td>35</td>\n",
       "      <td>79</td>\n",
       "      <td>33</td>\n",
       "      <td>7</td>\n",
       "    </tr>\n",
       "    <tr>\n",
       "      <th>26</th>\n",
       "      <td>ROSILLO TEJADA VANESA</td>\n",
       "      <td>3</td>\n",
       "      <td>74</td>\n",
       "      <td>47</td>\n",
       "      <td>13</td>\n",
       "      <td>79</td>\n",
       "    </tr>\n",
       "    <tr>\n",
       "      <th>27</th>\n",
       "      <td>SANCHEZ PADILLA SILVESTRE</td>\n",
       "      <td>20</td>\n",
       "      <td>50</td>\n",
       "      <td>52</td>\n",
       "      <td>48</td>\n",
       "      <td>1</td>\n",
       "    </tr>\n",
       "    <tr>\n",
       "      <th>28</th>\n",
       "      <td>SILVA ROYERO MAILY CRISTINA</td>\n",
       "      <td>59</td>\n",
       "      <td>56</td>\n",
       "      <td>70</td>\n",
       "      <td>4</td>\n",
       "      <td>62</td>\n",
       "    </tr>\n",
       "    <tr>\n",
       "      <th>29</th>\n",
       "      <td>USUGA GEORGE JHON ESTIVEN</td>\n",
       "      <td>18</td>\n",
       "      <td>49</td>\n",
       "      <td>70</td>\n",
       "      <td>8</td>\n",
       "      <td>78</td>\n",
       "    </tr>\n",
       "    <tr>\n",
       "      <th>30</th>\n",
       "      <td>JUAN FELIPE HERNANDEZ ARDILA</td>\n",
       "      <td>67</td>\n",
       "      <td>45</td>\n",
       "      <td>15</td>\n",
       "      <td>6</td>\n",
       "      <td>33</td>\n",
       "    </tr>\n",
       "  </tbody>\n",
       "</table>\n",
       "</div>"
      ],
      "text/plain": [
       "                              Student  Exercise 1  Exercise 2  Exercise 3  \\\n",
       "0        AGUDELO MORENO RENATO DIRNEY          25          65          16   \n",
       "1   AMARIS FERNANDEZ SEBASTIAN CAMILO           3           2          47   \n",
       "2       ARENAS HERAZO GABRIEL ENRIQUE          28          70          55   \n",
       "3        AYALA MENDOZA MARISOL YACIRA          40          48          27   \n",
       "4          BERTEL RODELO MICHELL SMIT          24           7           2   \n",
       "5            BULA VERGARA MARIA PAULA          71          82          28   \n",
       "6             CANTILLO ENSUCHO DANIEL          14           1          10   \n",
       "7            CERVANTES DURAN ANGELICA          46          31          48   \n",
       "8         GALLEGO TEJADA JUAN ESTEBAN          80          38          57   \n",
       "9             GUERRA NORIEGA YONATHAN          46          81          43   \n",
       "10    HINCAPIE CASTRO JOHAN SEBASTIAN          16          69          39   \n",
       "11             HUMANEZ SANCHEZ CAMILO          33          43          41   \n",
       "12       IBA�EZ MORENO FRANCISCO LUIS          48          65          36   \n",
       "13  LONDONO CUADRADO CRISTIAN ALBERTO          15          53          52   \n",
       "14       LOZANO HOLGUIN LIZETH JOHANA          83          37          24   \n",
       "15          MASS MIRANDA RIVALDO JOSE          46          12          69   \n",
       "16     MIRANDA MARTINEZ CARLOS ANDRES          33          82          65   \n",
       "17              MONTERROSA SOTO ABRIL          83           9          67   \n",
       "18           NORIEGA JIMENEZ GABRIELA          81          58          36   \n",
       "19             PEREZ REYES IVAN DARIO          36          65          32   \n",
       "20               PEREZ THERAN ERLINDA          81          30          72   \n",
       "21              PINEDA ROMERO YOSMERI          64          67          54   \n",
       "22         QUINONEZ CERVANTES MARIANA          23          49          60   \n",
       "23           QUIROZ DURAN JUAN MANUEL          75          79          66   \n",
       "24                 RAMOS PEREZ YANINE          64           5          75   \n",
       "25              RIVAS HOYOS ESTEFANIA          24          35          79   \n",
       "26              ROSILLO TEJADA VANESA           3          74          47   \n",
       "27          SANCHEZ PADILLA SILVESTRE          20          50          52   \n",
       "28        SILVA ROYERO MAILY CRISTINA          59          56          70   \n",
       "29          USUGA GEORGE JHON ESTIVEN          18          49          70   \n",
       "30       JUAN FELIPE HERNANDEZ ARDILA          67          45          15   \n",
       "\n",
       "    Exercise 4  Exercise 5  \n",
       "0           33          53  \n",
       "1           81          45  \n",
       "2           63          58  \n",
       "3           35          65  \n",
       "4           69          52  \n",
       "5           50          52  \n",
       "6           72           2  \n",
       "7           83          80  \n",
       "8           74          67  \n",
       "9           37          48  \n",
       "10          32          28  \n",
       "11           5          66  \n",
       "12          47          33  \n",
       "13          60          37  \n",
       "14          61          59  \n",
       "15          71          53  \n",
       "16          63          68  \n",
       "17          27          30  \n",
       "18          31          39  \n",
       "19          13          46  \n",
       "20          64          56  \n",
       "21          48          50  \n",
       "22          12          73  \n",
       "23          29          56  \n",
       "24          27           1  \n",
       "25          33           7  \n",
       "26          13          79  \n",
       "27          48           1  \n",
       "28           4          62  \n",
       "29           8          78  \n",
       "30           6          33  "
      ]
     },
     "execution_count": 4,
     "metadata": {},
     "output_type": "execute_result"
    }
   ],
   "source": [
    "# asignación de tres ejercicio del taller para quiz\n",
    "\n",
    "import pandas as pd\n",
    "import numpy as np\n",
    "import random\n",
    "import requests\n",
    "\n",
    "# Descargar la lista de estudiantes y ejercicios\n",
    "students_url = \"https://raw.githubusercontent.com/marco-canas/groups_list/main/calculo_diferencial.csv\"\n",
    "exercises = list(range(1, 84))  # Lista de ejercicios del 1 al 83\n",
    "\n",
    "# Cargar la lista de estudiantes\n",
    "students_data = pd.read_csv(students_url)\n",
    "\n",
    "# Crear una lista para almacenar las asignaciones\n",
    "assignments = []\n",
    "\n",
    "# Asignar ejercicios aleatorios a cada estudiante\n",
    "for index, student in students_data.iterrows():\n",
    "    random_exercises = random.sample(exercises, 5)  # Seleccionar 5 ejercicios aleatorios sin repetición\n",
    "    assignments.append([students_data[\"Nombre\"][index], *random_exercises])  # Agregar asignación a la lista\n",
    "\n",
    "# Crear un DataFrame con las asignaciones\n",
    "columns = [\"Student\", \"Exercise 1\", \"Exercise 2\", \"Exercise 3\", \"Exercise 4\", \"Exercise 5\"]\n",
    "assignment_df = pd.DataFrame(assignments, columns=columns)\n",
    "\n",
    "# Guardar el DataFrame en un archivo CSV\n",
    "assignment_csv = \"tarea_seccion_01_purcell.csv\"\n",
    "assignment_df.to_csv(assignment_csv, index=False)\n",
    "\n",
    "print(\"Asignaciones guardadas en\", assignment_csv)\n",
    "assignment_df"
   ]
  },
  {
   "attachments": {},
   "cell_type": "markdown",
   "id": "8d41fe58",
   "metadata": {
    "slideshow": {
     "slide_type": "slide"
    }
   },
   "source": [
    "# Horario de clases del profesor Marco\n",
    "\n",
    "* Martes y jueves de 10 a 12: Fundamentos de las matemáticas\n",
    "* Martes y jueves de 2 a 4 PM: Fundamentos de la aritmética\n",
    "\n",
    "* Didáctica de la aritmética: Miércoles de 8 - 12\n",
    "\n"
   ]
  },
  {
   "attachments": {},
   "cell_type": "markdown",
   "id": "ae114e14",
   "metadata": {
    "slideshow": {
     "slide_type": "slide"
    }
   },
   "source": [
    "# Horarios de monitoría y asesoría"
   ]
  },
  {
   "attachments": {},
   "cell_type": "markdown",
   "id": "b1db4b6c",
   "metadata": {
    "slideshow": {
     "slide_type": "slide"
    }
   },
   "source": [
    "## Monitor Manuel"
   ]
  },
  {
   "attachments": {},
   "cell_type": "markdown",
   "id": "39559692",
   "metadata": {
    "slideshow": {
     "slide_type": "slide"
    }
   },
   "source": [
    "Martes y jueves de 8 - 12  \n",
    "Miércoles 10 - 12 y de 2 a 4 PM  \n",
    "Sábado: 8 - 12"
   ]
  },
  {
   "attachments": {},
   "cell_type": "markdown",
   "id": "4537ef79",
   "metadata": {
    "slideshow": {
     "slide_type": "slide"
    }
   },
   "source": [
    "## Monitor Giovanny Reales"
   ]
  },
  {
   "attachments": {},
   "cell_type": "markdown",
   "id": "a54d2914",
   "metadata": {
    "slideshow": {
     "slide_type": "slide"
    }
   },
   "source": [
    "* Lunes a viernes de 6pm a 8pm\n",
    "* Miércoles de 1 pm a 8pm"
   ]
  },
  {
   "attachments": {},
   "cell_type": "markdown",
   "id": "935a5567",
   "metadata": {
    "slideshow": {
     "slide_type": "slide"
    }
   },
   "source": [
    "## Dificultades de aprendizaje detectados durante la clase"
   ]
  },
  {
   "attachments": {},
   "cell_type": "markdown",
   "id": "3bd7500d",
   "metadata": {
    "slideshow": {
     "slide_type": "slide"
    }
   },
   "source": []
  },
  {
   "attachments": {},
   "cell_type": "markdown",
   "id": "fb9402bb",
   "metadata": {
    "slideshow": {
     "slide_type": "slide"
    }
   },
   "source": [
    "## Estrategias propuestas para la solución de las dificultades de aprendizaje detectadas"
   ]
  },
  {
   "attachments": {},
   "cell_type": "markdown",
   "id": "d437294b",
   "metadata": {
    "slideshow": {
     "slide_type": "slide"
    }
   },
   "source": []
  },
  {
   "attachments": {},
   "cell_type": "markdown",
   "id": "d11570a2",
   "metadata": {
    "slideshow": {
     "slide_type": "slide"
    }
   },
   "source": []
  },
  {
   "attachments": {},
   "cell_type": "markdown",
   "id": "319f2ffa",
   "metadata": {
    "slideshow": {
     "slide_type": "slide"
    }
   },
   "source": [
    "## Grabaciones en audio para fomentar la capacidad de memorizar enunciados de teoremas y resultados científicos y la capacidad de parafrasear estos resultados. Y así desarrollar memoria muscular para los comandos comunes. \n",
    "Se dispondrá de un lugar en Vocaroo para albergar archivos de audio de fomento a la memorización, enunciación y parafraseo de los resultados científicos, propiedades, reglas, etc. \n",
    "\n",
    "[Vocaroo](https://vocaroo.com/)\n",
    "\n"
   ]
  },
  {
   "attachments": {},
   "cell_type": "markdown",
   "id": "564fa59d",
   "metadata": {
    "slideshow": {
     "slide_type": "slide"
    }
   },
   "source": [
    "### Comparta sus cuadernos y videos, evidencias de su aprendizaje [aquí](https://forms.office.com/Pages/ResponsePage.aspx?id=IefhmYRxjkmK_7KtTlPBwkanXIs1i1FEujpsZgO6dXpUMEMwTEZVMzEwVVBPTElWNVg5OVEyWUhMUy4u)"
   ]
  },
  {
   "attachments": {},
   "cell_type": "markdown",
   "id": "1a1a3e41",
   "metadata": {
    "slideshow": {
     "slide_type": "slide"
    }
   },
   "source": []
  },
  {
   "attachments": {},
   "cell_type": "markdown",
   "id": "44be6d93",
   "metadata": {
    "slideshow": {
     "slide_type": "slide"
    }
   },
   "source": [
    "# Vocabulary "
   ]
  },
  {
   "attachments": {},
   "cell_type": "markdown",
   "id": "35e2484a",
   "metadata": {
    "slideshow": {
     "slide_type": "slide"
    }
   },
   "source": [
    "1. \n",
    "2.  \n",
    "3.  \n",
    "4.  \n",
    "5.  "
   ]
  },
  {
   "attachments": {},
   "cell_type": "markdown",
   "id": "ee46cb9a",
   "metadata": {
    "slideshow": {
     "slide_type": "slide"
    }
   },
   "source": [
    "## Mapa conceptual que vincula los conceptos asoaciados al objetivo de aprendizaje"
   ]
  },
  {
   "attachments": {},
   "cell_type": "markdown",
   "id": "a6b7a17d",
   "metadata": {
    "slideshow": {
     "slide_type": "slide"
    }
   },
   "source": []
  },
  {
   "attachments": {},
   "cell_type": "markdown",
   "id": "0266e3c5",
   "metadata": {
    "slideshow": {
     "slide_type": "slide"
    }
   },
   "source": [
    "## Quiz de 20 minutos para ejercitación y adquisición de habilidades "
   ]
  },
  {
   "cell_type": "code",
   "execution_count": 3,
   "id": "3a1b127f",
   "metadata": {
    "slideshow": {
     "slide_type": "slide"
    }
   },
   "outputs": [
    {
     "name": "stdout",
     "output_type": "stream",
     "text": [
      "Asignaciones guardadas en tarea_seccion_01_purcell.csv\n"
     ]
    },
    {
     "data": {
      "text/html": [
       "<div>\n",
       "<style scoped>\n",
       "    .dataframe tbody tr th:only-of-type {\n",
       "        vertical-align: middle;\n",
       "    }\n",
       "\n",
       "    .dataframe tbody tr th {\n",
       "        vertical-align: top;\n",
       "    }\n",
       "\n",
       "    .dataframe thead th {\n",
       "        text-align: right;\n",
       "    }\n",
       "</style>\n",
       "<table border=\"1\" class=\"dataframe\">\n",
       "  <thead>\n",
       "    <tr style=\"text-align: right;\">\n",
       "      <th></th>\n",
       "      <th>Student</th>\n",
       "      <th>Exercise 1</th>\n",
       "      <th>Exercise 2</th>\n",
       "      <th>Exercise 3</th>\n",
       "    </tr>\n",
       "  </thead>\n",
       "  <tbody>\n",
       "    <tr>\n",
       "      <th>0</th>\n",
       "      <td>AGUDELO MORENO RENATO DIRNEY</td>\n",
       "      <td>83</td>\n",
       "      <td>40</td>\n",
       "      <td>33</td>\n",
       "    </tr>\n",
       "    <tr>\n",
       "      <th>1</th>\n",
       "      <td>AMARIS FERNANDEZ SEBASTIAN CAMILO</td>\n",
       "      <td>31</td>\n",
       "      <td>10</td>\n",
       "      <td>46</td>\n",
       "    </tr>\n",
       "    <tr>\n",
       "      <th>2</th>\n",
       "      <td>ARENAS HERAZO GABRIEL ENRIQUE</td>\n",
       "      <td>8</td>\n",
       "      <td>75</td>\n",
       "      <td>23</td>\n",
       "    </tr>\n",
       "    <tr>\n",
       "      <th>3</th>\n",
       "      <td>AYALA MENDOZA MARISOL YACIRA</td>\n",
       "      <td>10</td>\n",
       "      <td>5</td>\n",
       "      <td>62</td>\n",
       "    </tr>\n",
       "    <tr>\n",
       "      <th>4</th>\n",
       "      <td>BERTEL RODELO MICHELL SMIT</td>\n",
       "      <td>63</td>\n",
       "      <td>43</td>\n",
       "      <td>22</td>\n",
       "    </tr>\n",
       "    <tr>\n",
       "      <th>5</th>\n",
       "      <td>BULA VERGARA MARIA PAULA</td>\n",
       "      <td>41</td>\n",
       "      <td>13</td>\n",
       "      <td>63</td>\n",
       "    </tr>\n",
       "    <tr>\n",
       "      <th>6</th>\n",
       "      <td>CANTILLO ENSUCHO DANIEL</td>\n",
       "      <td>9</td>\n",
       "      <td>40</td>\n",
       "      <td>70</td>\n",
       "    </tr>\n",
       "    <tr>\n",
       "      <th>7</th>\n",
       "      <td>CERVANTES DURAN ANGELICA</td>\n",
       "      <td>1</td>\n",
       "      <td>47</td>\n",
       "      <td>35</td>\n",
       "    </tr>\n",
       "    <tr>\n",
       "      <th>8</th>\n",
       "      <td>GALLEGO TEJADA JUAN ESTEBAN</td>\n",
       "      <td>8</td>\n",
       "      <td>18</td>\n",
       "      <td>30</td>\n",
       "    </tr>\n",
       "    <tr>\n",
       "      <th>9</th>\n",
       "      <td>GUERRA NORIEGA YONATHAN</td>\n",
       "      <td>3</td>\n",
       "      <td>72</td>\n",
       "      <td>31</td>\n",
       "    </tr>\n",
       "    <tr>\n",
       "      <th>10</th>\n",
       "      <td>HINCAPIE CASTRO JOHAN SEBASTIAN</td>\n",
       "      <td>8</td>\n",
       "      <td>13</td>\n",
       "      <td>56</td>\n",
       "    </tr>\n",
       "    <tr>\n",
       "      <th>11</th>\n",
       "      <td>HUMANEZ SANCHEZ CAMILO</td>\n",
       "      <td>31</td>\n",
       "      <td>8</td>\n",
       "      <td>74</td>\n",
       "    </tr>\n",
       "    <tr>\n",
       "      <th>12</th>\n",
       "      <td>IBA�EZ MORENO FRANCISCO LUIS</td>\n",
       "      <td>6</td>\n",
       "      <td>82</td>\n",
       "      <td>78</td>\n",
       "    </tr>\n",
       "    <tr>\n",
       "      <th>13</th>\n",
       "      <td>LONDONO CUADRADO CRISTIAN ALBERTO</td>\n",
       "      <td>80</td>\n",
       "      <td>45</td>\n",
       "      <td>8</td>\n",
       "    </tr>\n",
       "    <tr>\n",
       "      <th>14</th>\n",
       "      <td>LOZANO HOLGUIN LIZETH JOHANA</td>\n",
       "      <td>25</td>\n",
       "      <td>69</td>\n",
       "      <td>18</td>\n",
       "    </tr>\n",
       "    <tr>\n",
       "      <th>15</th>\n",
       "      <td>MASS MIRANDA RIVALDO JOSE</td>\n",
       "      <td>72</td>\n",
       "      <td>52</td>\n",
       "      <td>23</td>\n",
       "    </tr>\n",
       "    <tr>\n",
       "      <th>16</th>\n",
       "      <td>MIRANDA MARTINEZ CARLOS ANDRES</td>\n",
       "      <td>78</td>\n",
       "      <td>48</td>\n",
       "      <td>82</td>\n",
       "    </tr>\n",
       "    <tr>\n",
       "      <th>17</th>\n",
       "      <td>MONTERROSA SOTO ABRIL</td>\n",
       "      <td>27</td>\n",
       "      <td>21</td>\n",
       "      <td>58</td>\n",
       "    </tr>\n",
       "    <tr>\n",
       "      <th>18</th>\n",
       "      <td>NORIEGA JIMENEZ GABRIELA</td>\n",
       "      <td>61</td>\n",
       "      <td>20</td>\n",
       "      <td>8</td>\n",
       "    </tr>\n",
       "    <tr>\n",
       "      <th>19</th>\n",
       "      <td>PEREZ REYES IVAN DARIO</td>\n",
       "      <td>31</td>\n",
       "      <td>70</td>\n",
       "      <td>4</td>\n",
       "    </tr>\n",
       "    <tr>\n",
       "      <th>20</th>\n",
       "      <td>PEREZ THERAN ERLINDA</td>\n",
       "      <td>74</td>\n",
       "      <td>83</td>\n",
       "      <td>12</td>\n",
       "    </tr>\n",
       "    <tr>\n",
       "      <th>21</th>\n",
       "      <td>PINEDA ROMERO YOSMERI</td>\n",
       "      <td>64</td>\n",
       "      <td>40</td>\n",
       "      <td>83</td>\n",
       "    </tr>\n",
       "    <tr>\n",
       "      <th>22</th>\n",
       "      <td>QUINONEZ CERVANTES MARIANA</td>\n",
       "      <td>36</td>\n",
       "      <td>23</td>\n",
       "      <td>19</td>\n",
       "    </tr>\n",
       "    <tr>\n",
       "      <th>23</th>\n",
       "      <td>QUIROZ DURAN JUAN MANUEL</td>\n",
       "      <td>25</td>\n",
       "      <td>65</td>\n",
       "      <td>7</td>\n",
       "    </tr>\n",
       "    <tr>\n",
       "      <th>24</th>\n",
       "      <td>RAMOS PEREZ YANINE</td>\n",
       "      <td>17</td>\n",
       "      <td>54</td>\n",
       "      <td>56</td>\n",
       "    </tr>\n",
       "    <tr>\n",
       "      <th>25</th>\n",
       "      <td>RIVAS HOYOS ESTEFANIA</td>\n",
       "      <td>7</td>\n",
       "      <td>63</td>\n",
       "      <td>24</td>\n",
       "    </tr>\n",
       "    <tr>\n",
       "      <th>26</th>\n",
       "      <td>ROSILLO TEJADA VANESA</td>\n",
       "      <td>4</td>\n",
       "      <td>75</td>\n",
       "      <td>82</td>\n",
       "    </tr>\n",
       "    <tr>\n",
       "      <th>27</th>\n",
       "      <td>SANCHEZ PADILLA SILVESTRE</td>\n",
       "      <td>19</td>\n",
       "      <td>21</td>\n",
       "      <td>7</td>\n",
       "    </tr>\n",
       "    <tr>\n",
       "      <th>28</th>\n",
       "      <td>SILVA ROYERO MAILY CRISTINA</td>\n",
       "      <td>82</td>\n",
       "      <td>63</td>\n",
       "      <td>61</td>\n",
       "    </tr>\n",
       "    <tr>\n",
       "      <th>29</th>\n",
       "      <td>USUGA GEORGE JHON ESTIVEN</td>\n",
       "      <td>9</td>\n",
       "      <td>27</td>\n",
       "      <td>58</td>\n",
       "    </tr>\n",
       "    <tr>\n",
       "      <th>30</th>\n",
       "      <td>JUAN FELIPE HERNANDEZ ARDILA</td>\n",
       "      <td>29</td>\n",
       "      <td>44</td>\n",
       "      <td>14</td>\n",
       "    </tr>\n",
       "  </tbody>\n",
       "</table>\n",
       "</div>"
      ],
      "text/plain": [
       "                              Student  Exercise 1  Exercise 2  Exercise 3\n",
       "0        AGUDELO MORENO RENATO DIRNEY          83          40          33\n",
       "1   AMARIS FERNANDEZ SEBASTIAN CAMILO          31          10          46\n",
       "2       ARENAS HERAZO GABRIEL ENRIQUE           8          75          23\n",
       "3        AYALA MENDOZA MARISOL YACIRA          10           5          62\n",
       "4          BERTEL RODELO MICHELL SMIT          63          43          22\n",
       "5            BULA VERGARA MARIA PAULA          41          13          63\n",
       "6             CANTILLO ENSUCHO DANIEL           9          40          70\n",
       "7            CERVANTES DURAN ANGELICA           1          47          35\n",
       "8         GALLEGO TEJADA JUAN ESTEBAN           8          18          30\n",
       "9             GUERRA NORIEGA YONATHAN           3          72          31\n",
       "10    HINCAPIE CASTRO JOHAN SEBASTIAN           8          13          56\n",
       "11             HUMANEZ SANCHEZ CAMILO          31           8          74\n",
       "12       IBA�EZ MORENO FRANCISCO LUIS           6          82          78\n",
       "13  LONDONO CUADRADO CRISTIAN ALBERTO          80          45           8\n",
       "14       LOZANO HOLGUIN LIZETH JOHANA          25          69          18\n",
       "15          MASS MIRANDA RIVALDO JOSE          72          52          23\n",
       "16     MIRANDA MARTINEZ CARLOS ANDRES          78          48          82\n",
       "17              MONTERROSA SOTO ABRIL          27          21          58\n",
       "18           NORIEGA JIMENEZ GABRIELA          61          20           8\n",
       "19             PEREZ REYES IVAN DARIO          31          70           4\n",
       "20               PEREZ THERAN ERLINDA          74          83          12\n",
       "21              PINEDA ROMERO YOSMERI          64          40          83\n",
       "22         QUINONEZ CERVANTES MARIANA          36          23          19\n",
       "23           QUIROZ DURAN JUAN MANUEL          25          65           7\n",
       "24                 RAMOS PEREZ YANINE          17          54          56\n",
       "25              RIVAS HOYOS ESTEFANIA           7          63          24\n",
       "26              ROSILLO TEJADA VANESA           4          75          82\n",
       "27          SANCHEZ PADILLA SILVESTRE          19          21           7\n",
       "28        SILVA ROYERO MAILY CRISTINA          82          63          61\n",
       "29          USUGA GEORGE JHON ESTIVEN           9          27          58\n",
       "30       JUAN FELIPE HERNANDEZ ARDILA          29          44          14"
      ]
     },
     "execution_count": 3,
     "metadata": {},
     "output_type": "execute_result"
    }
   ],
   "source": [
    "# asignación de tres ejercicio del taller para quiz\n",
    "\n",
    "import pandas as pd\n",
    "import numpy as np\n",
    "import random\n",
    "import requests\n",
    "\n",
    "# Descargar la lista de estudiantes y ejercicios\n",
    "students_url = \"https://raw.githubusercontent.com/marco-canas/groups_list/main/calculo_diferencial.csv\"\n",
    "exercises = list(range(1, 84))  # Lista de ejercicios del 1 al 83\n",
    "\n",
    "# Cargar la lista de estudiantes\n",
    "students_data = pd.read_csv(students_url)\n",
    "\n",
    "# Crear una lista para almacenar las asignaciones\n",
    "assignments = []\n",
    "\n",
    "# Asignar ejercicios aleatorios a cada estudiante\n",
    "for index, student in students_data.iterrows():\n",
    "    random_exercises = random.sample(exercises, 3)  # Seleccionar 5 ejercicios aleatorios sin repetición\n",
    "    assignments.append([students_data[\"Nombre\"][index], *random_exercises])  # Agregar asignación a la lista\n",
    "\n",
    "# Crear un DataFrame con las asignaciones\n",
    "columns = [\"Student\", \"Exercise 1\", \"Exercise 2\", \"Exercise 3\"]\n",
    "assignment_df = pd.DataFrame(assignments, columns=columns)\n",
    "\n",
    "# Guardar el DataFrame en un archivo CSV\n",
    "assignment_csv = \"tarea_seccion_01_purcell.csv\"\n",
    "assignment_df.to_csv(assignment_csv, index=False)\n",
    "\n",
    "print(\"Asignaciones guardadas en\", assignment_csv)\n",
    "assignment_df"
   ]
  },
  {
   "cell_type": "markdown",
   "id": "72b0df44",
   "metadata": {},
   "source": [
    "# La DOFA del Grupo y el profesor Marco\n"
   ]
  },
  {
   "cell_type": "markdown",
   "id": "360b5519",
   "metadata": {},
   "source": [
    "* D:\n",
    "* O:\n",
    "* F:\n",
    "* A: "
   ]
  },
  {
   "cell_type": "markdown",
   "id": "80a5ea9d",
   "metadata": {},
   "source": [
    "# ¿Cómo te sentiste en este clase?\n",
    "\n",
    "Este es un servicio de enseñanza y aprendizaje. Dios te bendiga. "
   ]
  },
  {
   "attachments": {},
   "cell_type": "markdown",
   "id": "10bce0d0",
   "metadata": {
    "slideshow": {
     "slide_type": "slide"
    }
   },
   "source": [
    "## Referentes "
   ]
  },
  {
   "attachments": {},
   "cell_type": "markdown",
   "id": "1db3c468",
   "metadata": {
    "slideshow": {
     "slide_type": "slide"
    }
   },
   "source": [
    "* [stewart precálculo](https://udeaeduco-my.sharepoint.com/:b:/g/personal/marco_canas_udea_edu_co/ERHIq62I6qFNrmxy6LZb8ZMBci7kUsyNME1nIh9yCBMJ_w?e=0zMSla)  \n",
    "\n",
    "* [stewart cálculo](https://udeaeduco-my.sharepoint.com/:b:/g/personal/marco_canas_udea_edu_co/EZgXZjAp8QxPqOAim2hs6LcBNPLGjSHf-xwYnUVYkwa04w?e=RZdTCy)  \n",
    "\n",
    "* [larson](https://udeaeduco-my.sharepoint.com/:b:/g/personal/marco_canas_udea_edu_co/ES71ChFeO9ZDhW3TwC5Ijk8BjxUK3Pdqz_fjHxTTFAfIAg?e=VDEjfu)\n",
    "\n",
    "* [uzcategui](https://udeaeduco-my.sharepoint.com/:b:/g/personal/marco_canas_udea_edu_co/ETDikm-lVl1Or8XoEo9oyh0BEti9Zs8le-f0D-dBdtZmbA?e=bBsoyQ)\n",
    "\n",
    "* [Cálculo de Purcell](https://udeaeduco-my.sharepoint.com/:b:/g/personal/marco_canas_udea_edu_co/ES60UB4h-QFFqqRQUFmkpWcBIgoLBJeqTfZjNajWNWSeJA?e=9NxjKJ)\n",
    "\n",
    "* [Recomendación de la UNESCO sobre ciencia abierta](https://unesdoc.unesco.org/ark:/48223/pf0000379949_spa)\n",
    "\n",
    "* [Fórmulas más comunes en latex](https://wiki.geogebra.org/es/C%C3%B3digo_LaTeX_para_las_f%C3%B3rmulas_m%C3%A1s_comunes) \n",
    "\n",
    "* [chatGPT](https://openai.com/blog/chatgpt)  \n",
    "\n",
    "* Géron, A. (2017). Hands-on machine learning with scikit-learn and tensorflow: Concepts. Tools, and Techniques to build intelligent systems.[Geron, Aurelien. Hands on Machine Learning](https://udeaeduco-my.sharepoint.com/:b:/g/personal/marco_canas_udea_edu_co/Ecet27yjQzZIlT1Y_Bc2erkBUhbeYuIe6HG8i1FYZRlZww?e=dlvZ4v)  \n",
    "\n",
    "* McKinney, W. (2012). Python for data analysis: Data wrangling with Pandas, NumPy, and IPython. \" O'Reilly Media, Inc.\".[Wes Mackinney. ](https://udeaeduco-my.sharepoint.com/:b:/g/personal/marco_canas_udea_edu_co/EVbi5JIeBl9ErbiUnZfGe8YBhNTnZ8sxTK5hjIOPK4UpGw?e=fFclah)"
   ]
  },
  {
   "attachments": {},
   "cell_type": "markdown",
   "id": "6b9e56a8",
   "metadata": {
    "slideshow": {
     "slide_type": "slide"
    }
   },
   "source": [
    "### [Evaluamos al profesor Marco Cañas Aquí](https://forms.office.com/Pages/ResponsePage.aspx?id=IefhmYRxjkmK_7KtTlPBwkanXIs1i1FEujpsZgO6dXpUREJPV1kxUk1JV1ozTFJIQVNIQjY5WEY3US4u)"
   ]
  },
  {
   "attachments": {},
   "cell_type": "markdown",
   "id": "071afa04",
   "metadata": {
    "slideshow": {
     "slide_type": "slide"
    }
   },
   "source": [
    "## [Evaluación luego de alcanzar estos objetivos de aprendizaje]()"
   ]
  },
  {
   "attachments": {},
   "cell_type": "markdown",
   "id": "10f43536",
   "metadata": {
    "slideshow": {
     "slide_type": "slide"
    }
   },
   "source": [
    "### Continue su aprendizaje en la siguiente clase a través del siguiente [vínculo]()"
   ]
  },
  {
   "attachments": {},
   "cell_type": "markdown",
   "id": "af751e30",
   "metadata": {
    "slideshow": {
     "slide_type": "slide"
    }
   },
   "source": [
    "# Conjeturas pedagógicas fruto de la aplicación del modelo de aprendizaje invertido y del enfoque hacia la ciencia de datos con python\n",
    "\n",
    "1. Todo cálculo o resultado debe ser interpretado en una línea markdown del cuaderno Jupyter, inmediatamente después de la enunciación del resultado y después de la presentación de una tabla o gráfico bidimensional, de tal menera que el estudiante explicite la comprensión verbal del resultado y las inferencias o estrategias que este resultado le sugieren.  \n",
    "\n",
    "2. Debo colocar las conjeturas pedagógicas, que el uso en el aula de [ChatGPT](https://openai.com/blog/chatgpt/) traiga para la enseñanza y el aprendizaje de las matemáticas. \n",
    "\n",
    "3. Promover ciencia abierta en clase de matemáticas puede ser pidiendo a los estudiantes, tomar nota en clase pero en cuadernos Jupyter y entregar siempre al final de cada clase su cuaderno con todas las notas y experimentaciones de clase replicadas. "
   ]
  },
  {
   "attachments": {},
   "cell_type": "markdown",
   "id": "53cc9115",
   "metadata": {
    "slideshow": {
     "slide_type": "slide"
    }
   },
   "source": [
    "## Agradecimientos  \n",
    "\n",
    "Doy gracias a Dios por la vida de mi Hijo Joseph Cañas Osorio y la madurez que ha alcanzado.\n",
    "\n",
    "Y a mi esposa Yasmira por su apoyo, orientación y acompañamiento. "
   ]
  },
  {
   "cell_type": "code",
   "execution_count": null,
   "id": "62b356f5",
   "metadata": {},
   "outputs": [],
   "source": []
  }
 ],
 "metadata": {
  "celltoolbar": "Slideshow",
  "kernelspec": {
   "display_name": "Python 3 (ipykernel)",
   "language": "python",
   "name": "python3"
  },
  "language_info": {
   "codemirror_mode": {
    "name": "ipython",
    "version": 3
   },
   "file_extension": ".py",
   "mimetype": "text/x-python",
   "name": "python",
   "nbconvert_exporter": "python",
   "pygments_lexer": "ipython3",
   "version": "3.10.12"
  },
  "rise": {
   "enable_chalkboard": true,
   "theme": "sky",
   "transition": "zoom"
  }
 },
 "nbformat": 4,
 "nbformat_minor": 5
}
