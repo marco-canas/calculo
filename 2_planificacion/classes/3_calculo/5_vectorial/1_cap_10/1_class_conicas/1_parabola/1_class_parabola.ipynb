{
 "cells": [
  {
   "cell_type": "markdown",
   "id": "dc06dec7",
   "metadata": {
    "slideshow": {
     "slide_type": "slide"
    }
   },
   "source": [
    "<table align=\"left\">\n",
    "  <td>\n",
    "    <a href=\"https://colab.research.google.com/github/ageron/handson-ml3/blob/main/tools_numpy.ipynb\" target=\"_parent\"><img src=\"https://colab.research.google.com/assets/colab-badge.svg\" alt=\"Open In Colab\"/></a>\n",
    "  </td>\n",
    "  <td>\n",
    "    <a target=\"_blank\" href=\"https://kaggle.com/kernels/welcome?src=https://github.com/ageron/handson-ml3/blob/main/tools_numpy.ipynb\"><img src=\"https://kaggle.com/static/images/open-in-kaggle.svg\" /></a>\n",
    "  </td>\n",
    "</table>"
   ]
  },
  {
   "cell_type": "markdown",
   "id": "e0c5b198",
   "metadata": {
    "slideshow": {
     "slide_type": "slide"
    }
   },
   "source": [
    "### [Video de apoyo a la lectura interactiva y experimental de este cuaderno]()"
   ]
  },
  {
   "cell_type": "markdown",
   "id": "41e82203",
   "metadata": {
    "slideshow": {
     "slide_type": "slide"
    }
   },
   "source": [
    "### [Vínculo al programa del curso:  ]()\n",
    "\n",
    "Código del curso de Cálculo Vectorial: 5009344  "
   ]
  },
  {
   "cell_type": "markdown",
   "id": "d11ab06d",
   "metadata": {
    "slideshow": {
     "slide_type": "slide"
    }
   },
   "source": [
    "Un reconocimiento a mis estudiantes que han construido conmigo este saber pedagógico:\n",
    "\n",
    "<img src = ''> \n",
    "\n"
   ]
  },
  {
   "cell_type": "code",
   "execution_count": null,
   "id": "7604880f",
   "metadata": {
    "slideshow": {
     "slide_type": "slide"
    }
   },
   "outputs": [],
   "source": [
    "import pandas as pd\n",
    "import numpy as np\n",
    "\n",
    "# Cargar la lista de estudiantes desde el archivo CSV\n",
    "path = 'C:/Users/marco/Documentos/docencia/groups_list/vectorial.xlsx'\n",
    "vectorial_df = pd.read_excel(path)\n",
    "vectorial_df.head()"
   ]
  },
  {
   "cell_type": "code",
   "execution_count": null,
   "id": "68d815a0",
   "metadata": {},
   "outputs": [],
   "source": [
    "# Convertir la columna 'Nombre' a una lista de Python\n",
    "lista_estudiantes = vectorial_df['Nombre'].tolist()\n",
    "\n",
    "# Función para llamar a un estudiante aleatoriamente y registrar su nota de seguimiento\n",
    "def asistencia():\n",
    "    global lista_estudiantes\n",
    "    if lista_estudiantes:\n",
    "        estudiante_aleatorio = np.random.choice(lista_estudiantes)\n",
    "        print(f\"Llamando a {estudiante_aleatorio}...\")\n",
    "        asistencia = input(f\"¿Asistió {estudiante_aleatorio}? (s/n): \").strip().lower()\n",
    "        \n",
    "        # Validación de entrada\n",
    "        if asistencia == 'n':\n",
    "            # Obtener el índice del estudiante en el DataFrame\n",
    "            indice = vectorial_df[vectorial_df['Nombre'] == estudiante_aleatorio].index[0]\n",
    "            # Incrementar su valor en la columna 'Parcial'\n",
    "            vectorial_df.at[indice, 'Asistencia'] += 4\n",
    "            print(f\"Actualizado: {estudiante_aleatorio} ahora tiene {vectorial_df.at[indice, 'Asistencia']} en la columna 'Parcial'.\")\n",
    "        \n",
    "        elif asistencia != 's':\n",
    "            print(\"Entrada inválida. Por favor, introduce 's' para sí o 'n' para no.\")\n",
    "            return  # Volver a preguntar para el mismo estudiante si la entrada es inválida\n",
    "        \n",
    "        # Remover al estudiante de la lista para no llamarlo de nuevo\n",
    "        lista_estudiantes.remove(estudiante_aleatorio)\n",
    "    else:\n",
    "        print(\"Se han llamado a todos los estudiantes del grupo completo.\")\n",
    "\n",
    "# Función para guardar cambios al final de la sesión\n",
    "def guardar_cambios():\n",
    "    vectorial_df.to_csv(path, index=False)\n",
    "    print(\"Cambios guardados en el archivo CSV.\")\n",
    "\n",
    "# Ejemplo de uso\n",
    "while lista_estudiantes:\n",
    "    asistencia()\n",
    "\n",
    "# Guardar los cambios una vez que todos los estudiantes hayan sido llamados\n",
    "guardar_cambios()\n",
    "\n"
   ]
  },
  {
   "cell_type": "markdown",
   "id": "d7598d0a-d9b7-4ae0-b029-a0ed6ed1130b",
   "metadata": {},
   "source": [
    "\n",
    "# Principios de mi labor docente"
   ]
  },
  {
   "cell_type": "markdown",
   "id": "4f9d8cf9",
   "metadata": {
    "slideshow": {
     "slide_type": "slide"
    }
   },
   "source": [
    "## Modelo general de clase: [aula invertida](https://www3.gobiernodecanarias.org/medusa/ecoescuela/pedagotic/aprendizaje-invertido-flipped-classroom/)"
   ]
  },
  {
   "cell_type": "markdown",
   "id": "eb6ed03a",
   "metadata": {},
   "source": [
    "<img src = 'https://resources.maneuveringthemiddle.com/wp-content/uploads/2020/07/04212706/1-5.png' width = 200>  \n",
    "\n"
   ]
  },
  {
   "cell_type": "markdown",
   "id": "34319cce-a71b-4f64-aab8-b53e521efa40",
   "metadata": {},
   "source": [
    "# Metodología de enseñanza basada en problemas (ABP)\n"
   ]
  },
  {
   "cell_type": "markdown",
   "id": "c4f73d81",
   "metadata": {},
   "source": [
    "\n",
    "<img src = 'https://www.unir.net/wp-content/uploads/2020/07/aprendizaje-problemas2-1-1-1-1.jpeg' width = 200>"
   ]
  },
  {
   "cell_type": "markdown",
   "id": "841a985c-bd9b-4dd3-8e4c-893983980af2",
   "metadata": {},
   "source": [
    "# Desarrollo del pensamiento computacional con Lenguaje R y con archivos R Markdown orientado a la formación en ciencia de datos \n",
    "\n"
   ]
  },
  {
   "cell_type": "markdown",
   "id": "3d0eba94",
   "metadata": {},
   "source": [
    "\n",
    "<img src = 'https://i.ytimg.com/vi/mcG_wcR4e6M/maxresdefault.jpg' width = 200>"
   ]
  },
  {
   "cell_type": "markdown",
   "id": "65aa0404-f7ae-495e-864c-1aec01b4255e",
   "metadata": {},
   "source": [
    "# Principio de fomento a la ciencia abierta, enseñar en el acceso a los datos públicos y el uso de software de código abierto  \n"
   ]
  },
  {
   "cell_type": "markdown",
   "id": "18ae9b87",
   "metadata": {},
   "source": [
    "\n",
    "<img src = 'https://unesdoc.unesco.org/in/rest/Thumb/image?id=p%3A%3Ausmarcdef_0000379949_spa&author=UNESCO&title=Recomendaci%C3%B3n+de+la+UNESCO+sobre+la+Ciencia+Abierta&year=2021&publisher=UNESCO&TypeOfDocument=UnescoPhysicalDocument&mat=PGD&ct=true&size=512&isPhysical=1' width = 200>"
   ]
  },
  {
   "cell_type": "markdown",
   "id": "d9559f85",
   "metadata": {},
   "source": [
    "El enfoque STEAMS en educación preescolar, primaria y secundaria es una extensión del enfoque STEM (Ciencia, Tecnología, Ingeniería y Matemáticas) y su variante STEAM, que incorpora el Arte. "
   ]
  },
  {
   "cell_type": "markdown",
   "id": "72e1cfd2",
   "metadata": {},
   "source": [
    "El acrónimo STEAMS incluye:\n"
   ]
  },
  {
   "cell_type": "markdown",
   "id": "03182fd1",
   "metadata": {},
   "source": [
    "\n",
    "1. **Science (Ciencia):** Fomenta la curiosidad por el mundo natural y el desarrollo de habilidades científicas, como la observación, experimentación y análisis.\n"
   ]
  },
  {
   "cell_type": "markdown",
   "id": "1306d0fa",
   "metadata": {},
   "source": [
    "\n",
    "2. **Technology (Tecnología):** Integra herramientas tecnológicas para potenciar el aprendizaje y la resolución de problemas, promoviendo la alfabetización digital desde edades tempranas.\n"
   ]
  },
  {
   "cell_type": "markdown",
   "id": "3b1a53e8",
   "metadata": {},
   "source": [
    "\n",
    "3. **Engineering (Ingeniería):** Introduce el pensamiento lógico y la resolución de problemas estructurados, fomentando habilidades como el diseño y la construcción de soluciones.\n"
   ]
  },
  {
   "cell_type": "markdown",
   "id": "0196de87",
   "metadata": {},
   "source": [
    "\n",
    "4. **Arts (Arte):** Añade creatividad y pensamiento crítico, permitiendo a los estudiantes expresarse y explorar el aprendizaje a través de formas artísticas (plásticas, música, teatro).\n"
   ]
  },
  {
   "cell_type": "markdown",
   "id": "8bcc485a",
   "metadata": {},
   "source": [
    "\n",
    "5. **Mathematics (Matemáticas):** Refuerza las habilidades numéricas y el razonamiento lógico, fundamentales en la resolución de problemas y comprensión de conceptos abstractos.\n"
   ]
  },
  {
   "cell_type": "markdown",
   "id": "907935f4",
   "metadata": {},
   "source": [
    "\n",
    "6. **Social Sciences (Ciencias Sociales):** Incorpora la comprensión del entorno social, político, cultural y económico, promoviendo el desarrollo de la conciencia crítica sobre el mundo y su historia, además de habilidades de empatía y ciudadanía.\n"
   ]
  },
  {
   "cell_type": "markdown",
   "id": "39967d63",
   "metadata": {},
   "source": [
    "\n",
    "El enfoque STEAMS pretende desarrollar un aprendizaje **interdisciplinario** que integre estas áreas para fomentar un pensamiento más holístico y práctico. "
   ]
  },
  {
   "cell_type": "markdown",
   "id": "5145f077",
   "metadata": {},
   "source": [
    "Se busca que los estudiantes no solo aprendan conocimientos técnicos, sino también cómo aplicarlos creativa y críticamente en situaciones reales, promoviendo habilidades como el trabajo en equipo, la comunicación y la innovación. "
   ]
  },
  {
   "cell_type": "markdown",
   "id": "9d556584",
   "metadata": {},
   "source": [
    "En educación preescolar, primaria, secundaria y superior, se adapta a las diferentes etapas de desarrollo cognitivo y emocional de los estudiantes, promoviendo el aprendizaje activo y contextualizado.  \n"
   ]
  },
  {
   "cell_type": "markdown",
   "id": "0130ec1b",
   "metadata": {},
   "source": [
    "\n",
    "<img src = 'https://www.campuseducacion.com/blog/wp-content/uploads/2023/03/foto01-1.jpg' width = 200>"
   ]
  },
  {
   "cell_type": "markdown",
   "id": "9d15c10d-2c02-4158-9419-b1ed79b4c1ee",
   "metadata": {},
   "source": [
    "# Qué estamos haciendo por la internalización en esta clase y este curso  \n"
   ]
  },
  {
   "cell_type": "markdown",
   "id": "6e4feef2",
   "metadata": {},
   "source": [
    "Estas son mis acciones como docente de matemáticas en la Universidad de Antioquia con miras a la **internacionalización** de mi práctica docente y el desarrollo de competencias internacionales para mis estudiantes, ls cuales he estructurado con el siguiente enfoque:\n"
   ]
  },
  {
   "cell_type": "markdown",
   "id": "964d9de7-53ee-4255-9bcd-d8e6454f2993",
   "metadata": {},
   "source": [
    "### 1. **Visión Global en la Formación Académica**\n"
   ]
  },
  {
   "cell_type": "markdown",
   "id": "d9bdd3e2",
   "metadata": {},
   "source": [
    "   - **Competencias Internacionales**: Asegúrate de que el contenido de tus cursos fomente habilidades que sean reconocidas globalmente. "
   ]
  },
  {
   "cell_type": "markdown",
   "id": "785fc0ef",
   "metadata": {},
   "source": [
    "Al educar a los estudiantes en **Python, LaTeX, Markdown y Jupyter Notebooks** y en la **introducción a la ciencia de datos y técnicas de Machine Learning**, estás proporcionando competencias altamente demandadas en los sectores tecnológicos y académicos a nivel internacional.\n"
   ]
  },
  {
   "cell_type": "markdown",
   "id": "39b55206",
   "metadata": {},
   "source": [
    "   - **Relevancia de los Contenidos**: Destaca cómo los temas que enseñas, como el **desarrollo del pensamiento computacional** y la **ciencia de datos**, están alineados con las necesidades globales actuales en diversas industrias, desde la tecnología hasta las ciencias naturales y sociales.\n"
   ]
  },
  {
   "cell_type": "markdown",
   "id": "a054599e",
   "metadata": {},
   "source": [
    "   - **Referencias a Estándares Internacionales**: Puedes vincular tu enseñanza a estándares internacionales de competencias en programación y ciencia de datos (por ejemplo, frameworks del **IEEE, ACM**, y estándares de la **data science** o la **computación en la nube**)."
   ]
  },
  {
   "cell_type": "markdown",
   "id": "0f1d110c-3142-48fe-9e7d-5fbd9e8bb931",
   "metadata": {},
   "source": [
    "### 2. **Innovación Pedagógica con Enfoque Internacional**\n"
   ]
  },
  {
   "cell_type": "markdown",
   "id": "fae6ae34",
   "metadata": {},
   "source": [
    "   - **Aula Invertida y ABP**: Presenta cómo tu enfoque de **aula invertida** y **aprendizaje basado en problemas (ABP)** permite a los estudiantes trabajar de manera autónoma y colaborativa, lo que los prepara para escenarios laborales internacionales que requieren autoaprendizaje y habilidades de resolución de problemas en equipo.\n"
   ]
  },
  {
   "cell_type": "markdown",
   "id": "c83062d9",
   "metadata": {},
   "source": [
    "   - **Uso de Jupyter Notebooks**: El uso de **Jupyter Notebooks** en tus clases no solo facilita la **integración de código, matemáticas y texto**, sino que también es una plataforma utilizada globalmente en ambientes académicos y profesionales, lo que hace a tus estudiantes más competitivos internacionalmente."
   ]
  },
  {
   "cell_type": "markdown",
   "id": "960d52b7-03cd-4eb3-965e-5cdfeb7d9f8e",
   "metadata": {},
   "source": [
    "### 3. **Tecnología y Herramientas de Uso Global**\n"
   ]
  },
  {
   "cell_type": "markdown",
   "id": "4be7269f",
   "metadata": {},
   "source": [
    "   - **Lenguaje Python**: Python es uno de los lenguajes de programación más usados a nivel mundial, tanto en la academia como en la industria. Al formar a tus estudiantes en Python para ciencia de datos y machine learning, los preparas para operar en entornos tecnológicos globales.\n"
   ]
  },
  {
   "cell_type": "markdown",
   "id": "102655af",
   "metadata": {},
   "source": [
    "   - **Herramientas de Ciencia Abierta**: Resalta cómo herramientas como **GitHub**, **Google Colab** y otras plataformas de código abierto están alineadas con el movimiento de **ciencia abierta**, el cual es internacionalmente reconocido y permite que los estudiantes colaboren y compartan proyectos a nivel global."
   ]
  },
  {
   "cell_type": "markdown",
   "id": "3b2ffa32-7a6f-4545-ba7b-c6a69f51109f",
   "metadata": {},
   "source": [
    "### 4. **Investigación y Publicaciones Internacionales**\n"
   ]
  },
  {
   "cell_type": "markdown",
   "id": "bdbf52a5",
   "metadata": {},
   "source": [
    "   - **Promoción de la Investigación**: Detalla cómo promueves que tus estudiantes participen en proyectos de **investigación aplicada**, con posibilidad de publicación en revistas internacionales. Esto contribuye a la reputación internacional de la Universidad de Antioquia.\n"
   ]
  },
  {
   "cell_type": "markdown",
   "id": "ea01fcbc",
   "metadata": {},
   "source": [
    "   - **Colaboraciones Internacionales**: Si has colaborado con investigadores de otras instituciones o universidades en el extranjero, menciona estos proyectos y cómo han enriquecido tu enseñanza y proporcionado a los estudiantes una visión más globalizada."
   ]
  },
  {
   "cell_type": "markdown",
   "id": "5d1e396e-aece-4bf7-9421-32fa7809eaf4",
   "metadata": {},
   "source": [
    "## 5. **Uso del Inglés para la Internacionalización**\n"
   ]
  },
  {
   "cell_type": "markdown",
   "id": "29cabf26",
   "metadata": {},
   "source": [
    "   - **Comunicación Científica en Inglés**: "
   ]
  },
  {
   "cell_type": "markdown",
   "id": "8ec53ff3",
   "metadata": {},
   "source": [
    "Fomentar el aprendizaje del inglés como lengua científica es clave para que tus estudiantes puedan acceder a publicaciones internacionales, conferencias, y material académico que no está disponible en español. "
   ]
  },
  {
   "cell_type": "markdown",
   "id": "6347dd43",
   "metadata": {},
   "source": [
    "Esto es esencial para que adquieran competencias que les permitan desempeñarse en cualquier contexto internacional.\n"
   ]
  },
  {
   "cell_type": "markdown",
   "id": "b831224f",
   "metadata": {},
   "source": [
    "   - **Material Bilingüe**: Al generar material educativo en Python, LaTeX y Markdown, considera ofrecer algunos de estos recursos en inglés, para que los estudiantes se familiaricen con el vocabulario técnico y científico internacional."
   ]
  },
  {
   "cell_type": "markdown",
   "id": "c6a8c3b0-426a-4692-a384-3065aea81c9a",
   "metadata": {},
   "source": [
    "### 6. **Certificaciones y Estándares Internacionales**\n"
   ]
  },
  {
   "cell_type": "markdown",
   "id": "b1f41da5",
   "metadata": {},
   "source": [
    "   - **Participación en Certificaciones Internacionales**: Impulsa que los estudiantes busquen certificaciones internacionales en Python o ciencia de datos (como las ofrecidas por **Coursera, edX,** o **Google**). "
   ]
  },
  {
   "cell_type": "markdown",
   "id": "4dde3f5e",
   "metadata": {},
   "source": [
    "Estas certificaciones no solo validan sus competencias, sino que también incrementan el reconocimiento de la Universidad de Antioquia en el contexto internacional.\n"
   ]
  },
  {
   "cell_type": "markdown",
   "id": "7cc66317",
   "metadata": {},
   "source": [
    "   - **Alineación con Acreditaciones Internacionales**: Vincula tu trabajo docente con los estándares de acreditación y certificación que garantizan que la universidad siga siendo reconocida internacionalmente. "
   ]
  },
  {
   "cell_type": "markdown",
   "id": "50a0cf51",
   "metadata": {},
   "source": [
    "Puedes vincularte con organizaciones internacionales que promuevan la excelencia en la educación y tecnología, como **ABET** para la acreditación en ingeniería y ciencias computacionales."
   ]
  },
  {
   "cell_type": "markdown",
   "id": "65d3d9e1-ea84-43e0-8197-a2a9c9e21594",
   "metadata": {},
   "source": [
    "### 7. **Proyectos Abiertos y Ciencia Reproducible**\n"
   ]
  },
  {
   "cell_type": "markdown",
   "id": "f03f7b20",
   "metadata": {},
   "source": [
    "   - **GitHub y Open Science**: La utilización de **GitHub** para almacenar los proyectos y materiales de enseñanza en repositorios públicos permite que otros investigadores y educadores internacionales puedan revisar y replicar tu trabajo. Esto contribuye a la creación de una red de colaboración científica abierta.\n"
   ]
  },
  {
   "cell_type": "markdown",
   "id": "25a72a32",
   "metadata": {},
   "source": [
    "   - **Transparencia y Reproducibilidad**: La ciencia de datos y machine learning están profundamente ligados a la reproducibilidad. Asegura que tus estudiantes desarrollen prácticas de transparencia y documentación en la investigación, que son pilares en la comunidad científica global.\n"
   ]
  },
  {
   "cell_type": "markdown",
   "id": "215cb551",
   "metadata": {},
   "source": [
    "\n",
    "### 8. **Participación en Redes y Conferencias Internacionales**\n",
    "   - **Presentación en Conferencias Internacionales**: Destaca cómo tu participación en conferencias internacionales (como la **ASCOLFA** o eventos sobre educación en matemáticas) contribuye al prestigio de la universidad y permite que tus prácticas sean evaluadas y reconocidas a nivel global.\n"
   ]
  },
  {
   "cell_type": "markdown",
   "id": "cdf46e29",
   "metadata": {},
   "source": [
    "   - **Promoción de Estudiantes en Eventos Internacionales**: Impulsa la participación de tus estudiantes en competiciones internacionales de programación o hackathons, como los organizados por **Google**, **ACM** o **Kaggle**. Esto no solo desarrolla sus habilidades, sino que también visibiliza el talento de la Universidad de Antioquia a nivel global.\n",
    "\n",
    "---"
   ]
  },
  {
   "cell_type": "markdown",
   "id": "77da458b",
   "metadata": {},
   "source": [
    "### **Metodología de Enseñanza: Aprendizaje Basado en Problemas y Proyectos (ABPP)**\n"
   ]
  },
  {
   "cell_type": "markdown",
   "id": "c943d273",
   "metadata": {},
   "source": [
    "\n",
    "El **Aprendizaje Basado en Problemas y Proyectos (ABPP)** es una metodología educativa que integra los enfoques del **Aprendizaje Basado en Problemas (ABP)** y el **Aprendizaje Basado en Proyectos (PBL, por sus siglas en inglés)**. "
   ]
  },
  {
   "cell_type": "markdown",
   "id": "c85333b6",
   "metadata": {},
   "source": [
    "Es especialmente útil para la formación de futuros docentes, ingenieros y administradores, ya que combina el desarrollo de habilidades prácticas con el pensamiento crítico y reflexivo. "
   ]
  },
  {
   "cell_type": "markdown",
   "id": "9f59962f",
   "metadata": {},
   "source": [
    "A continuación, se presenta una descripción adaptada a la enseñanza de las matemáticas en educación infantil, Licenciatura en Matemáticas, Ingeniería Agropecuaria y Administración de Empresas:\n",
    "\n",
    "---\n"
   ]
  },
  {
   "cell_type": "markdown",
   "id": "0eeba3f5",
   "metadata": {},
   "source": [
    "\n",
    "### **1. Fundamentos del ABPP**\n"
   ]
  },
  {
   "cell_type": "markdown",
   "id": "388691be",
   "metadata": {},
   "source": [
    "El ABPP se basa en:\n",
    "- **Resolución de Problemas Reales:** Los estudiantes analizan y resuelven problemas auténticos relacionados con su área de formación, fomentando la aplicación práctica del conocimiento.\n"
   ]
  },
  {
   "cell_type": "markdown",
   "id": "f913709e",
   "metadata": {},
   "source": [
    "- **Proyectos como Herramientas Integradoras:** Los proyectos permiten desarrollar habilidades interdisciplinarias y ofrecer soluciones concretas a los problemas planteados.\n"
   ]
  },
  {
   "cell_type": "markdown",
   "id": "d9dbed72",
   "metadata": {},
   "source": [
    "- **Aprendizaje Activo:** Los estudiantes son responsables de su aprendizaje y participan activamente en el proceso de investigación, diseño y solución.\n",
    "\n",
    "---\n"
   ]
  },
  {
   "cell_type": "markdown",
   "id": "3728d010",
   "metadata": {},
   "source": [
    "\n",
    "### **2. Aplicación del ABPP en Áreas Específicas**\n"
   ]
  },
  {
   "cell_type": "markdown",
   "id": "51585a0d",
   "metadata": {},
   "source": [
    "\n",
    "#### **Educación Infantil (Licenciatura en Educación Infantil)**\n",
    "- **Enfoque:** Desarrollo del pensamiento matemático en la infancia desde contextos lúdicos, familiares y culturales.\n"
   ]
  },
  {
   "cell_type": "markdown",
   "id": "d88036d0",
   "metadata": {},
   "source": [
    "- **Problemas típicos:** \n",
    "  - ¿Cómo enseñar los números naturales mediante actividades prácticas y juegos?\n",
    "  - ¿Qué estrategias pueden emplearse para abordar el concepto de cantidad en edades tempranas?\n",
    "- **Proyectos:** Diseño de secuencias didácticas que usen Python, Jupyter Notebooks y materiales manipulativos para enseñar matemáticas de forma interactiva.\n"
   ]
  },
  {
   "cell_type": "markdown",
   "id": "375f99c5",
   "metadata": {},
   "source": [
    "- **Competencias desarrolladas:** \n",
    "  - Uso de herramientas tecnológicas para diseñar actividades educativas.\n",
    "  - Comprensión del desarrollo cognitivo infantil y su relación con las matemáticas.\n"
   ]
  },
  {
   "cell_type": "markdown",
   "id": "481f614a",
   "metadata": {},
   "source": [
    "\n",
    "#### **Licenciatura en Matemáticas**\n",
    "- **Enfoque:** Resolución de problemas matemáticos aplicados y profundización teórica en áreas como análisis matemático y modelado.\n",
    "- **Problemas típicos:**\n",
    "  - ¿Cómo se pueden resolver ecuaciones diferenciales aplicadas a modelos físicos o económicos?\n",
    "  - ¿Cómo modelar fenómenos naturales mediante funciones matemáticas?\n"
   ]
  },
  {
   "cell_type": "markdown",
   "id": "3a23234b",
   "metadata": {},
   "source": [
    "- **Proyectos:** \n",
    "  - Desarrollo de software educativo para explorar conceptos matemáticos.\n",
    "  - Aplicación de modelado matemático para resolver problemas reales en otras disciplinas.\n"
   ]
  },
  {
   "cell_type": "markdown",
   "id": "e3a412b5",
   "metadata": {},
   "source": [
    "- **Competencias desarrolladas:**\n",
    "  - Dominio de la matemática teórica y aplicada.\n",
    "  - Uso de tecnología para la enseñanza y la investigación.\n"
   ]
  },
  {
   "cell_type": "markdown",
   "id": "83ab236f",
   "metadata": {},
   "source": [
    "\n",
    "#### **Ingeniería Agropecuaria**\n",
    "- **Enfoque:** Modelado matemático y análisis de datos para mejorar la producción agrícola y la gestión de recursos.\n",
    "- **Problemas típicos:**\n",
    "  - ¿Cómo modelar el crecimiento de cultivos considerando variables climáticas?\n",
    "  - ¿Cómo optimizar el uso del agua en sistemas de riego mediante análisis matemático?\n"
   ]
  },
  {
   "cell_type": "markdown",
   "id": "ac2846bf",
   "metadata": {},
   "source": [
    "- **Proyectos:** \n",
    "  - Desarrollo de modelos predictivos con Python y bibliotecas de aprendizaje automático.\n",
    "  - Implementación de proyectos que combinen matemáticas y ciencias de datos para resolver problemas agrícolas.\n",
    "- **Competencias desarrolladas:**\n",
    "  - Integración de matemáticas con tecnologías avanzadas.\n",
    "  - Resolución de problemas agropecuarios mediante análisis y modelado.\n"
   ]
  },
  {
   "cell_type": "markdown",
   "id": "c4519bb3",
   "metadata": {},
   "source": [
    "\n",
    "#### **Administración de Empresas**\n",
    "- **Enfoque:** Uso de las matemáticas y la ciencia de datos para la toma de decisiones estratégicas.\n",
    "- **Problemas típicos:**\n",
    "  - ¿Cómo identificar patrones de comportamiento del consumidor usando series de tiempo?\n",
    "  - ¿Qué estrategias matemáticas pueden optimizar la asignación de recursos en una empresa?\n"
   ]
  },
  {
   "cell_type": "markdown",
   "id": "a1152604",
   "metadata": {},
   "source": [
    "- **Proyectos:** \n",
    "  - Implementación de modelos de análisis financiero y simulaciones.\n",
    "  - Desarrollo de dashboards interactivos para la gestión de datos empresariales.\n",
    "- **Competencias desarrolladas:**\n",
    "  - Habilidad para interpretar datos matemáticos en contextos de negocio.\n",
    "  - Capacidad para diseñar soluciones basadas en datos.\n",
    "\n",
    "---\n"
   ]
  },
  {
   "cell_type": "markdown",
   "id": "19be58d4",
   "metadata": {},
   "source": [
    "\n",
    "### **3. Beneficios del ABPP**\n",
    "- **Desarrollo de competencias clave:**\n",
    "  - Pensamiento crítico y creativo.\n",
    "  - Trabajo colaborativo.\n",
    "  - Comunicación efectiva.\n",
    "  - Uso de herramientas tecnológicas avanzadas.\n",
    "- **Adaptación al contexto laboral:** Los estudiantes aprenden a enfrentar desafíos del mundo real y a diseñar soluciones prácticas y aplicables.\n",
    "- **Flexibilidad e interdisciplinariedad:** La metodología se adapta a diversas áreas, fomentando el aprendizaje integrado.\n",
    "\n",
    "---\n"
   ]
  },
  {
   "cell_type": "markdown",
   "id": "e36034c3",
   "metadata": {},
   "source": [
    "\n",
    "### **4. Ejemplo General de Implementación**\n",
    "1. **Identificación del problema:** Se plantea un desafío concreto, como modelar el crecimiento poblacional de una comunidad rural (Ingeniería Agropecuaria) o diseñar una estrategia para enseñar fracciones a niños de 8 años (Educación Infantil).\n",
    "2. **Formación de equipos:** Los estudiantes trabajan en grupos, distribuyendo roles y tareas.\n",
    "3. **Investigación y diseño:** Los estudiantes investigan el problema, proponen soluciones y diseñan un proyecto.\n",
    "4. **Implementación:** Se desarrolla el proyecto, como una herramienta tecnológica o una propuesta pedagógica.\n",
    "5. **Evaluación:** Los estudiantes presentan sus resultados en un informe o una exposición, recibiendo retroalimentación de sus compañeros y docentes.\n",
    "\n",
    "---\n"
   ]
  },
  {
   "cell_type": "markdown",
   "id": "8ee46797",
   "metadata": {},
   "source": [
    "\n",
    "El ABPP es una metodología versátil que conecta el conocimiento teórico con la práctica, preparando a los estudiantes para los retos de sus profesiones en la enseñanza de la matemática, la ingeniería y la administración."
   ]
  },
  {
   "cell_type": "markdown",
   "id": "8d97dc80",
   "metadata": {
    "slideshow": {
     "slide_type": "slide"
    }
   },
   "source": [
    "## Fomento de la lectura literaria asociada a Ingeniería agropecuaria y licenciatura en Matemáticas\n",
    "\n",
    "[Aprender a obtener el sí sin ceder]()"
   ]
  },
  {
   "cell_type": "markdown",
   "id": "96775931",
   "metadata": {
    "slideshow": {
     "slide_type": "slide"
    }
   },
   "source": [
    "## Título de la clase: La parábola para Ingeniería Agropecuaria   \n",
    "\n",
    "[]()"
   ]
  },
  {
   "cell_type": "markdown",
   "id": "10e55ccf",
   "metadata": {},
   "source": [
    "# Estructura general para todas las clases\n",
    "\n",
    "Dame, por favor, un diseño de clase, con los enfoques didácticos de enseñanza: \" STEAMS y de Aprendizaje Basado en Problemas y Proyectos (ABPP)\" sobre: \"La parábola como sección cónica y sus aplicaciones a las ciencias agrarias\", siguiendo la estructura:   \n",
    "\n",
    "1. Título de la clase \n",
    "2. Objetivos de aprendizaje  e indicadores del logro de estos objetivos. \n",
    "3. Mapa conceptual jerarquico en Graphviz de python con nodos y edges de diferentes formas, colores y rellenos y que se renderize este mapa en la ubicación: `\"C:\\Users\\marco\\Documentos\\docencia\\calculo\\classes\\3_calculo\\5_calculo_vectorial\\1_cap_10\\1_class_conicas\\images\"`\n",
    "4. Contenido de la clase adaptado a lo que este curso de calculo vectorial y de varias variables le puede aportar a que los estudiantes puedan alcanzar su perfil de Ingenieros Agropecuarios de la Facultad de Ciencias Agrarias de la Universidad de Antioquia - Campus Caucasia.\n",
    "     *  Definición de la sección cónica de la parábola como lugar geométrico de puntos que equidistan de un punto fijo (foco) y de una recta fija (directriz).\n",
    "     *  ¿Cómo cambia la forma de la parábola al variar la distancia focal $f$?\n",
    "     *  Ejemplos de aplicaciones de la parábola en la agricultura: uso de parábolas para la riego, comunicaciones y otras. \n",
    "5. Elementos Epistemológicos e históricos para esta clase.\n",
    "6. Actividades de aprendizaje\n",
    "7. Tarea o actividades de ejercitación y fijación.\n",
    "8. Evaluación que incluya 5 proyectos, un quiz y un parcial. \n",
    "9.  Diseño de actividad de retroalimentación.   \n",
    "\n",
    "Pero  que este diseño sea para que el estudiante pueda aprender experimentando en cuadernos Jupyter con funciones de usuario y animaciones y visualizaciones en python. En particular usa Numpy, Pandas, Matplotlib.pyplot, Seaborn, Plotly, Scikit-learn, Scipy, ipywidgets, matplotlib.animation y SymPy y Jupyter notebook."
   ]
  },
  {
   "cell_type": "markdown",
   "id": "c988e184",
   "metadata": {},
   "source": [
    "\n",
    "### **1. Título de la clase**  \n",
    "\"**Parábolas en la Ingeniería Agropecuaria: Modelando Fenómenos Naturales y Tecnológicos**\"\n",
    "\n",
    "---\n"
   ]
  },
  {
   "cell_type": "markdown",
   "id": "f9e0902f",
   "metadata": {},
   "source": [
    "\n",
    "### **2. Objetivos de Aprendizaje e Indicadores**  \n"
   ]
  },
  {
   "cell_type": "markdown",
   "id": "e34bae88",
   "metadata": {},
   "source": [
    "| **Objetivos** | **Indicadores de Logro** |\n",
    "|---------------|--------------------------|\n",
    "| 1. Comprender la parábola como sección cónica y su relación con fenómenos agropecuarios | - Derivan ecuaciones canónicas desde definiciones geométricas<br>- Simulan variaciones paramétricas en Jupyter |\n",
    "| 2. Analizar el efecto de la distancia focal en sistemas agrícolas | - Crean visualizaciones interactivas con `ipywidgets`<br>- Relacionan parámetros matemáticos con variables físicas |\n",
    "| 3. Aplicar modelos parabólicos en diseño de sistemas de riego y comunicaciones | - Desarrollan prototipos computacionales con `scipy`<br>- Optimizan parámetros usando `sympy` |\n",
    "\n",
    "---\n"
   ]
  },
  {
   "cell_type": "markdown",
   "id": "224be1f8",
   "metadata": {},
   "source": [
    "\n",
    "### **3. Mapa Conceptual en Graphviz**  \n"
   ]
  },
  {
   "cell_type": "code",
   "execution_count": 1,
   "id": "1181306a",
   "metadata": {},
   "outputs": [
    {
     "data": {
      "text/plain": [
       "'C:\\\\Users\\\\marco\\\\Documentos\\\\docencia\\\\calculo\\\\classes\\\\3_calculo\\\\5_calculo_vectorial\\\\1_cap_10\\\\1_class_conicas\\\\images\\\\mapa_parabola\\\\Digraph.gv.png'"
      ]
     },
     "execution_count": 1,
     "metadata": {},
     "output_type": "execute_result"
    }
   ],
   "source": [
    "from graphviz import Digraph\n",
    "\n",
    "dot = Digraph(comment='Mapa Parábola', \n",
    "              format='png',\n",
    "              engine='dot',  # Cambiamos a 'dot' para mejor jerarquización\n",
    "              graph_attr={\n",
    "                  'rankdir': 'TB',\n",
    "                  'nodesep': '1.0',  # Espacio entre nodos\n",
    "                  'ranksep': '0.5'   # Espacio entre niveles\n",
    "              },\n",
    "              node_attr={\n",
    "                  'style': 'filled',\n",
    "                  'fontname': 'Helvetica',\n",
    "                  'width': '1.5',     # Ancho mínimo de nodos\n",
    "                  'height': '0.8'     # Altura mínima de nodos\n",
    "              })\n",
    "\n",
    "# Nodos principales con agrupación jerárquica\n",
    "with dot.subgraph(name='cluster_main') as main:\n",
    "    main.attr(style='rounded', color='lightgrey')\n",
    "    \n",
    "    # Nivel 1\n",
    "    main.node('A', 'Secciones Cónicas', shape='ellipse', color='#4B0082', fillcolor='#E6E6FA')\n",
    "    \n",
    "    # Nivel 2\n",
    "    main.node('B', 'Parábola', shape='doubleoctagon', color='#8B0000', fillcolor='#FFB6C1')\n",
    "    \n",
    "    # Nivel 3\n",
    "    main.node('C', 'Aplicaciones Agropecuarias', shape='component', color='#006400', fillcolor='#90EE90')\n",
    "\n",
    "# Subnodos parábola con agrupación horizontal\n",
    "with dot.subgraph(name='cluster_sub') as sub:\n",
    "    sub.attr(rank='same', style='dashed')\n",
    "    sub.node('D', 'Ecuación Canónica:\\n$y^2 = 4px$', shape='note', color='#8B4513', fillcolor='#F5DEB3')\n",
    "    sub.node('E', 'Propiedades Focales', shape='tab', color='#4B0082', fillcolor='#E0B0FF')\n",
    "    sub.node('F', 'Optimización con Cálculo', shape='folder', color='#2F4F4F', fillcolor='#AFEEEE')\n",
    "\n",
    "# Conexiones principales\n",
    "dot.edges(['AB', 'BC'])\n",
    "dot.edge('B', 'D', style='dashed')\n",
    "dot.edge('B', 'E', style='dashed')\n",
    "dot.edge('B', 'F', style='dashed')\n",
    "dot.edge('C', 'F', label=' Relación ', style='dashed', color='#808080')\n",
    "\n",
    "# Ordenamiento jerárquico explícito\n",
    "dot.edge('A', 'B', minlen='2')  # Fuerza distancia vertical\n",
    "dot.edge('B', 'C', minlen='2')\n",
    "\n",
    "# Conexiones invisibles para alinear subnodos\n",
    "dot.edge('D', 'E', style='invis')\n",
    "dot.edge('E', 'F', style='invis')\n",
    "\n",
    "# Renderizar y guardar\n",
    "dot.render(directory=r'C:/Users/marco/Documentos/docencia/calculo/classes/3_calculo/5_calculo_vectorial/1_cap_10/1_class_conicas/images/mapa_parabola', \n",
    "          view=True,\n",
    "          cleanup=True)  # Limpia archivos temporales\n"
   ]
  },
  {
   "cell_type": "markdown",
   "id": "da041290",
   "metadata": {},
   "source": [
    "\n",
    "---\n",
    "\n",
    "### **4. Contenido Adaptado a Ingeniería Agropecuaria**  \n",
    "**a. Definición Geométrica**  \n"
   ]
  },
  {
   "cell_type": "code",
   "execution_count": null,
   "id": "48740d44",
   "metadata": {},
   "outputs": [
    {
     "data": {
      "application/vnd.jupyter.widget-view+json": {
       "model_id": "e3604e1cd5f14cf2a9eb5b549ef5d744",
       "version_major": 2,
       "version_minor": 0
      },
      "text/plain": [
       "interactive(children=(IntSlider(value=2, description='foco', max=5, min=1), Output()), _dom_classes=('widget-i…"
      ]
     },
     "metadata": {},
     "output_type": "display_data"
    },
    {
     "data": {
      "text/plain": [
       "<function __main__.plot_parabola(foco=2)>"
      ]
     },
     "execution_count": 5,
     "metadata": {},
     "output_type": "execute_result"
    }
   ],
   "source": [
    "# En Jupyter: Visualización interactiva\n",
    "import matplotlib.pyplot as plt\n",
    "import numpy as np\n",
    "from ipywidgets import interact\n",
    "\n",
    "def plot_parabola(foco=2):\n",
    "    x = np.linspace(0, 20, 400)\n",
    "    y = np.sqrt(4*foco*x)\n",
    "    plt.figure(figsize=(8,6))\n",
    "    plt.plot(x, y, 'g-', label='Parábola')\n",
    "    plt.scatter([foco], [0], c='red', label='Foco')\n",
    "    plt.axvline(-foco, color='blue', label='Directriz') # recta directriz \n",
    "    plt.axhline(y = 0)\n",
    "    plt.title(f'Parábola: $y^2 = {4*foco}x$')\n",
    "    plt.legend()\n",
    "    plt.grid(True)\n",
    "    plt.axis([-8, 20, -1, 15]) # Fijar el rectángulo de visualización \n",
    "    plt.show()\n",
    "\n",
    "interact(plot_parabola, foco=(1, 5))\n",
    "\n"
   ]
  },
  {
   "cell_type": "markdown",
   "id": "74d22cc2",
   "metadata": {},
   "source": [
    "\n",
    "**b. Variación de la Distancia Focal**  \n"
   ]
  },
  {
   "cell_type": "code",
   "execution_count": 8,
   "id": "d04a5318",
   "metadata": {},
   "outputs": [
    {
     "data": {
      "image/png": "[encoded data removed]",
      "text/plain": [
       "<Figure size 640x480 with 1 Axes>"
      ]
     },
     "metadata": {},
     "output_type": "display_data"
    }
   ],
   "source": [
    "\n",
    "# Análisis con pandas y visualización\n",
    "import numpy as np \n",
    "import pandas as pd\n",
    "import matplotlib.pyplot as plt \n",
    "import seaborn as sns \n",
    "\n",
    "focos = np.arange(1, 6)\n",
    "datos = pd.DataFrame({\n",
    "    'Foco': focos,\n",
    "    'Apertura': 1/(4*focos),\n",
    "    'Curvatura': np.sqrt(focos)\n",
    "})\n",
    "\n",
    "sns.lineplot(data=datos, x='Foco', y='Curvatura', marker='o')\n",
    "plt.title('Relación Foco-Curvatura en Parábolas')\n",
    "plt.grid()\n",
    "\n",
    "plt.show() \n",
    "\n"
   ]
  },
  {
   "cell_type": "markdown",
   "id": "c186ccc4",
   "metadata": {},
   "source": [
    "\n",
    "**c. Aplicaciones Agrícolas**  \n",
    "- **Riego Parabólico**: Simulación de trayectorias de agua con `scipy.integrate`\n",
    "- **Antenas para Comunicaciones Rurales**: Optimización de parámetros con `sympy`\n",
    "\n",
    "---\n"
   ]
  },
  {
   "cell_type": "markdown",
   "id": "433bc68c",
   "metadata": {},
   "source": [
    "\n",
    "### **5. Elementos Epistemológicos**  \n",
    "- **Histórico**: Estudio de Apolonio de Perga (200 a.C.) y su aplicación por Galileo en trayectorias parabólicas\n",
    "- **Agropecuario**: Uso moderno en sistemas de riego por aspersión y diseño de invernaderos\n",
    "\n",
    "---\n"
   ]
  },
  {
   "cell_type": "markdown",
   "id": "bf7adb68",
   "metadata": {},
   "source": [
    "\n",
    "### **6. Actividades de Aprendizaje ABPP**  \n",
    "**Proyecto 1**:  \n"
   ]
  },
  {
   "cell_type": "markdown",
   "id": "88b4cc1c",
   "metadata": {},
   "source": [
    "**Descripción del Proyecto:**  \n",
    "**Título:** \"Modelado Computacional de Parábolas para Optimización de Sistemas de Riego en Ingeniería Agropecuaria\"  \n"
   ]
  },
  {
   "cell_type": "markdown",
   "id": "8680f7bc",
   "metadata": {},
   "source": [
    "\n",
    "**Objetivo:**  \n",
    "Desarrollar un sistema computacional en Python que modele trayectorias parabólicas para optimizar el diseño de sistemas de riego agrícola, integrando conceptos de cálculo vectorial y análisis numérico.  \n"
   ]
  },
  {
   "cell_type": "markdown",
   "id": "1e3dc1be",
   "metadata": {},
   "source": [
    "\n",
    "**Componentes Clave:**  \n",
    "1. **Mapa Conceptual Interactivo**: Generación automática de diagramas de relaciones entre conceptos matemáticos y aplicaciones agrícolas.  \n",
    "2. **Simulación Física**: Modelado de trayectorias de agua mediante ecuaciones parabólicas.  \n",
    "3. **Optimización**: Ajuste de parámetros (ángulo, presión) para maximizar la eficiencia hídrica.  \n"
   ]
  },
  {
   "cell_type": "markdown",
   "id": "0e731106",
   "metadata": {},
   "source": [
    "\n",
    "**Herramientas Utilizadas:**  \n"
   ]
  },
  {
   "cell_type": "code",
   "execution_count": 11,
   "id": "52440a8e",
   "metadata": {},
   "outputs": [],
   "source": [
    "# Bibliotecas principales\n",
    "import numpy as np\n",
    "import matplotlib.pyplot as plt\n",
    "from scipy.optimize import minimize\n",
    "from matplotlib.animation import FuncAnimation\n",
    "import plotly.graph_objects as go\n",
    "\n"
   ]
  },
  {
   "cell_type": "markdown",
   "id": "8697f99d",
   "metadata": {},
   "source": [
    "\n",
    "#### **2. Simulación de Trayectorias Parabólicas**  \n"
   ]
  },
  {
   "cell_type": "code",
   "execution_count": 12,
   "id": "58896e11",
   "metadata": {},
   "outputs": [
    {
     "data": {
      "image/png": "[encoded data removed]",
      "text/plain": [
       "<Figure size 1000x600 with 1 Axes>"
      ]
     },
     "metadata": {},
     "output_type": "display_data"
    }
   ],
   "source": [
    "# Generar imagen de trayectorias\n",
    "def plot_trayectorias():\n",
    "    angles = np.deg2rad([30, 45, 60])\n",
    "    v0 = 20  # m/s\n",
    "    \n",
    "    plt.figure(figsize=(10, 6))\n",
    "    for theta in angles:\n",
    "        t = np.linspace(0, 2*v0*np.sin(theta)/9.81, 100)\n",
    "        x = v0 * np.cos(theta) * t\n",
    "        y = v0 * np.sin(theta) * t - 0.5*9.81*t**2\n",
    "        plt.plot(x, y, label=f'{np.rad2deg(theta):.0f}°')\n",
    "    \n",
    "    plt.title('Trayectorias Parabólicas de Riego')\n",
    "    plt.xlabel('Distancia (m)')\n",
    "    plt.ylabel('Altura (m)')\n",
    "    plt.legend()\n",
    "    plt.grid(True)\n",
    "    plt.savefig('trayectorias_riego.png', dpi=300)\n",
    "    plt.show()\n",
    "\n",
    "plot_trayectorias()\n",
    "\n"
   ]
  },
  {
   "cell_type": "markdown",
   "id": "f4deecca",
   "metadata": {},
   "source": [
    "\n",
    "---\n",
    "\n",
    "### **3. Optimización de Parámetros con Scipy**  \n"
   ]
  },
  {
   "cell_type": "code",
   "execution_count": 13,
   "id": "ba106ab7",
   "metadata": {},
   "outputs": [
    {
     "data": {
      "image/png": "[encoded data removed]",
      "text/plain": [
       "<Figure size 800x500 with 1 Axes>"
      ]
     },
     "metadata": {},
     "output_type": "display_data"
    }
   ],
   "source": [
    "# Generar gráfica de optimización\n",
    "def optimizacion_riego():\n",
    "    def perdida_agua(params):\n",
    "        p, theta = params\n",
    "        return (4*p*np.tan(theta) - 15)**2  # Función objetivo\n",
    "    \n",
    "    resultados = []\n",
    "    for p_inicial in [1, 2, 3]:\n",
    "        res = minimize(perdida_agua, [p_inicial, np.pi/4])\n",
    "        resultados.append(res.x)\n",
    "    \n",
    "    plt.figure(figsize=(8, 5))\n",
    "    plt.plot([r[0] for r in resultados], [r[1] for r in resultados], 'o-')\n",
    "    plt.title('Optimización de Parámetros de Riego')\n",
    "    plt.xlabel('Distancia Focal (p)')\n",
    "    plt.ylabel('Ángulo (rad)')\n",
    "    plt.grid(True)\n",
    "    plt.savefig('optimizacion.png', dpi=300)\n",
    "    plt.show()\n",
    "\n",
    "optimizacion_riego()\n",
    "\n"
   ]
  },
  {
   "cell_type": "markdown",
   "id": "0abcae84",
   "metadata": {},
   "source": [
    "\n",
    "---\n"
   ]
  },
  {
   "cell_type": "markdown",
   "id": "9dd759a7",
   "metadata": {},
   "source": [
    "\n",
    "### **4. Modelado 3D de Terreno con Parábolas**  \n"
   ]
  },
  {
   "cell_type": "code",
   "execution_count": 1,
   "id": "cbfcb504",
   "metadata": {},
   "outputs": [
    {
     "data": {
      "application/vnd.plotly.v1+json": {
       "config": {
        "plotlyServerURL": "https://plot.ly"
       },
       "data": [
        {
         "colorscale": [
          [
           0,
           "rgb(161, 105, 40)"
          ],
          [
           0.16666666666666666,
           "rgb(189, 146, 90)"
          ],
          [
           0.3333333333333333,
           "rgb(214, 189, 141)"
          ],
          [
           0.5,
           "rgb(237, 234, 194)"
          ],
          [
           0.6666666666666666,
           "rgb(181, 200, 184)"
          ],
          [
           0.8333333333333334,
           "rgb(121, 167, 172)"
          ],
          [
           1,
           "rgb(40, 135, 161)"
          ]
         ],
         "type": "surface",
         "z": {
          "bdata": "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",
          "dtype": "f8",
          "shape": "50, 50"
         }
        }
       ],
       "layout": {
        "scene": {
         "xaxis": {
          "title": {
           "text": "Eje X (m)"
          }
         },
         "yaxis": {
          "title": {
           "text": "Eje Y (m)"
          }
         },
         "zaxis": {
          "title": {
           "text": "Altura (m)"
          }
         }
        },
        "template": {
         "data": {
          "bar": [
           {
            "error_x": {
             "color": "#2a3f5f"
            },
            "error_y": {
             "color": "#2a3f5f"
            },
            "marker": {
             "line": {
              "color": "#E5ECF6",
              "width": 0.5
             },
             "pattern": {
              "fillmode": "overlay",
              "size": 10,
              "solidity": 0.2
             }
            },
            "type": "bar"
           }
          ],
          "barpolar": [
           {
            "marker": {
             "line": {
              "color": "#E5ECF6",
              "width": 0.5
             },
             "pattern": {
              "fillmode": "overlay",
              "size": 10,
              "solidity": 0.2
             }
            },
            "type": "barpolar"
           }
          ],
          "carpet": [
           {
            "aaxis": {
             "endlinecolor": "#2a3f5f",
             "gridcolor": "white",
             "linecolor": "white",
             "minorgridcolor": "white",
             "startlinecolor": "#2a3f5f"
            },
            "baxis": {
             "endlinecolor": "#2a3f5f",
             "gridcolor": "white",
             "linecolor": "white",
             "minorgridcolor": "white",
             "startlinecolor": "#2a3f5f"
            },
            "type": "carpet"
           }
          ],
          "choropleth": [
           {
            "colorbar": {
             "outlinewidth": 0,
             "ticks": ""
            },
            "type": "choropleth"
           }
          ],
          "contour": [
           {
            "colorbar": {
             "outlinewidth": 0,
             "ticks": ""
            },
            "colorscale": [
             [
              0,
              "#0d0887"
             ],
             [
              0.1111111111111111,
              "#46039f"
             ],
             [
              0.2222222222222222,
              "#7201a8"
             ],
             [
              0.3333333333333333,
              "#9c179e"
             ],
             [
              0.4444444444444444,
              "#bd3786"
             ],
             [
              0.5555555555555556,
              "#d8576b"
             ],
             [
              0.6666666666666666,
              "#ed7953"
             ],
             [
              0.7777777777777778,
              "#fb9f3a"
             ],
             [
              0.8888888888888888,
              "#fdca26"
             ],
             [
              1,
              "#f0f921"
             ]
            ],
            "type": "contour"
           }
          ],
          "contourcarpet": [
           {
            "colorbar": {
             "outlinewidth": 0,
             "ticks": ""
            },
            "type": "contourcarpet"
           }
          ],
          "heatmap": [
           {
            "colorbar": {
             "outlinewidth": 0,
             "ticks": ""
            },
            "colorscale": [
             [
              0,
              "#0d0887"
             ],
             [
              0.1111111111111111,
              "#46039f"
             ],
             [
              0.2222222222222222,
              "#7201a8"
             ],
             [
              0.3333333333333333,
              "#9c179e"
             ],
             [
              0.4444444444444444,
              "#bd3786"
             ],
             [
              0.5555555555555556,
              "#d8576b"
             ],
             [
              0.6666666666666666,
              "#ed7953"
             ],
             [
              0.7777777777777778,
              "#fb9f3a"
             ],
             [
              0.8888888888888888,
              "#fdca26"
             ],
             [
              1,
              "#f0f921"
             ]
            ],
            "type": "heatmap"
           }
          ],
          "histogram": [
           {
            "marker": {
             "pattern": {
              "fillmode": "overlay",
              "size": 10,
              "solidity": 0.2
             }
            },
            "type": "histogram"
           }
          ],
          "histogram2d": [
           {
            "colorbar": {
             "outlinewidth": 0,
             "ticks": ""
            },
            "colorscale": [
             [
              0,
              "#0d0887"
             ],
             [
              0.1111111111111111,
              "#46039f"
             ],
             [
              0.2222222222222222,
              "#7201a8"
             ],
             [
              0.3333333333333333,
              "#9c179e"
             ],
             [
              0.4444444444444444,
              "#bd3786"
             ],
             [
              0.5555555555555556,
              "#d8576b"
             ],
             [
              0.6666666666666666,
              "#ed7953"
             ],
             [
              0.7777777777777778,
              "#fb9f3a"
             ],
             [
              0.8888888888888888,
              "#fdca26"
             ],
             [
              1,
              "#f0f921"
             ]
            ],
            "type": "histogram2d"
           }
          ],
          "histogram2dcontour": [
           {
            "colorbar": {
             "outlinewidth": 0,
             "ticks": ""
            },
            "colorscale": [
             [
              0,
              "#0d0887"
             ],
             [
              0.1111111111111111,
              "#46039f"
             ],
             [
              0.2222222222222222,
              "#7201a8"
             ],
             [
              0.3333333333333333,
              "#9c179e"
             ],
             [
              0.4444444444444444,
              "#bd3786"
             ],
             [
              0.5555555555555556,
              "#d8576b"
             ],
             [
              0.6666666666666666,
              "#ed7953"
             ],
             [
              0.7777777777777778,
              "#fb9f3a"
             ],
             [
              0.8888888888888888,
              "#fdca26"
             ],
             [
              1,
              "#f0f921"
             ]
            ],
            "type": "histogram2dcontour"
           }
          ],
          "mesh3d": [
           {
            "colorbar": {
             "outlinewidth": 0,
             "ticks": ""
            },
            "type": "mesh3d"
           }
          ],
          "parcoords": [
           {
            "line": {
             "colorbar": {
              "outlinewidth": 0,
              "ticks": ""
             }
            },
            "type": "parcoords"
           }
          ],
          "pie": [
           {
            "automargin": true,
            "type": "pie"
           }
          ],
          "scatter": [
           {
            "fillpattern": {
             "fillmode": "overlay",
             "size": 10,
             "solidity": 0.2
            },
            "type": "scatter"
           }
          ],
          "scatter3d": [
           {
            "line": {
             "colorbar": {
              "outlinewidth": 0,
              "ticks": ""
             }
            },
            "marker": {
             "colorbar": {
              "outlinewidth": 0,
              "ticks": ""
             }
            },
            "type": "scatter3d"
           }
          ],
          "scattercarpet": [
           {
            "marker": {
             "colorbar": {
              "outlinewidth": 0,
              "ticks": ""
             }
            },
            "type": "scattercarpet"
           }
          ],
          "scattergeo": [
           {
            "marker": {
             "colorbar": {
              "outlinewidth": 0,
              "ticks": ""
             }
            },
            "type": "scattergeo"
           }
          ],
          "scattergl": [
           {
            "marker": {
             "colorbar": {
              "outlinewidth": 0,
              "ticks": ""
             }
            },
            "type": "scattergl"
           }
          ],
          "scattermap": [
           {
            "marker": {
             "colorbar": {
              "outlinewidth": 0,
              "ticks": ""
             }
            },
            "type": "scattermap"
           }
          ],
          "scattermapbox": [
           {
            "marker": {
             "colorbar": {
              "outlinewidth": 0,
              "ticks": ""
             }
            },
            "type": "scattermapbox"
           }
          ],
          "scatterpolar": [
           {
            "marker": {
             "colorbar": {
              "outlinewidth": 0,
              "ticks": ""
             }
            },
            "type": "scatterpolar"
           }
          ],
          "scatterpolargl": [
           {
            "marker": {
             "colorbar": {
              "outlinewidth": 0,
              "ticks": ""
             }
            },
            "type": "scatterpolargl"
           }
          ],
          "scatterternary": [
           {
            "marker": {
             "colorbar": {
              "outlinewidth": 0,
              "ticks": ""
             }
            },
            "type": "scatterternary"
           }
          ],
          "surface": [
           {
            "colorbar": {
             "outlinewidth": 0,
             "ticks": ""
            },
            "colorscale": [
             [
              0,
              "#0d0887"
             ],
             [
              0.1111111111111111,
              "#46039f"
             ],
             [
              0.2222222222222222,
              "#7201a8"
             ],
             [
              0.3333333333333333,
              "#9c179e"
             ],
             [
              0.4444444444444444,
              "#bd3786"
             ],
             [
              0.5555555555555556,
              "#d8576b"
             ],
             [
              0.6666666666666666,
              "#ed7953"
             ],
             [
              0.7777777777777778,
              "#fb9f3a"
             ],
             [
              0.8888888888888888,
              "#fdca26"
             ],
             [
              1,
              "#f0f921"
             ]
            ],
            "type": "surface"
           }
          ],
          "table": [
           {
            "cells": {
             "fill": {
              "color": "#EBF0F8"
             },
             "line": {
              "color": "white"
             }
            },
            "header": {
             "fill": {
              "color": "#C8D4E3"
             },
             "line": {
              "color": "white"
             }
            },
            "type": "table"
           }
          ]
         },
         "layout": {
          "annotationdefaults": {
           "arrowcolor": "#2a3f5f",
           "arrowhead": 0,
           "arrowwidth": 1
          },
          "autotypenumbers": "strict",
          "coloraxis": {
           "colorbar": {
            "outlinewidth": 0,
            "ticks": ""
           }
          },
          "colorscale": {
           "diverging": [
            [
             0,
             "#8e0152"
            ],
            [
             0.1,
             "#c51b7d"
            ],
            [
             0.2,
             "#de77ae"
            ],
            [
             0.3,
             "#f1b6da"
            ],
            [
             0.4,
             "#fde0ef"
            ],
            [
             0.5,
             "#f7f7f7"
            ],
            [
             0.6,
             "#e6f5d0"
            ],
            [
             0.7,
             "#b8e186"
            ],
            [
             0.8,
             "#7fbc41"
            ],
            [
             0.9,
             "#4d9221"
            ],
            [
             1,
             "#276419"
            ]
           ],
           "sequential": [
            [
             0,
             "#0d0887"
            ],
            [
             0.1111111111111111,
             "#46039f"
            ],
            [
             0.2222222222222222,
             "#7201a8"
            ],
            [
             0.3333333333333333,
             "#9c179e"
            ],
            [
             0.4444444444444444,
             "#bd3786"
            ],
            [
             0.5555555555555556,
             "#d8576b"
            ],
            [
             0.6666666666666666,
             "#ed7953"
            ],
            [
             0.7777777777777778,
             "#fb9f3a"
            ],
            [
             0.8888888888888888,
             "#fdca26"
            ],
            [
             1,
             "#f0f921"
            ]
           ],
           "sequentialminus": [
            [
             0,
             "#0d0887"
            ],
            [
             0.1111111111111111,
             "#46039f"
            ],
            [
             0.2222222222222222,
             "#7201a8"
            ],
            [
             0.3333333333333333,
             "#9c179e"
            ],
            [
             0.4444444444444444,
             "#bd3786"
            ],
            [
             0.5555555555555556,
             "#d8576b"
            ],
            [
             0.6666666666666666,
             "#ed7953"
            ],
            [
             0.7777777777777778,
             "#fb9f3a"
            ],
            [
             0.8888888888888888,
             "#fdca26"
            ],
            [
             1,
             "#f0f921"
            ]
           ]
          },
          "colorway": [
           "#636efa",
           "#EF553B",
           "#00cc96",
           "#ab63fa",
           "#FFA15A",
           "#19d3f3",
           "#FF6692",
           "#B6E880",
           "#FF97FF",
           "#FECB52"
          ],
          "font": {
           "color": "#2a3f5f"
          },
          "geo": {
           "bgcolor": "white",
           "lakecolor": "white",
           "landcolor": "#E5ECF6",
           "showlakes": true,
           "showland": true,
           "subunitcolor": "white"
          },
          "hoverlabel": {
           "align": "left"
          },
          "hovermode": "closest",
          "mapbox": {
           "style": "light"
          },
          "paper_bgcolor": "white",
          "plot_bgcolor": "#E5ECF6",
          "polar": {
           "angularaxis": {
            "gridcolor": "white",
            "linecolor": "white",
            "ticks": ""
           },
           "bgcolor": "#E5ECF6",
           "radialaxis": {
            "gridcolor": "white",
            "linecolor": "white",
            "ticks": ""
           }
          },
          "scene": {
           "xaxis": {
            "backgroundcolor": "#E5ECF6",
            "gridcolor": "white",
            "gridwidth": 2,
            "linecolor": "white",
            "showbackground": true,
            "ticks": "",
            "zerolinecolor": "white"
           },
           "yaxis": {
            "backgroundcolor": "#E5ECF6",
            "gridcolor": "white",
            "gridwidth": 2,
            "linecolor": "white",
            "showbackground": true,
            "ticks": "",
            "zerolinecolor": "white"
           },
           "zaxis": {
            "backgroundcolor": "#E5ECF6",
            "gridcolor": "white",
            "gridwidth": 2,
            "linecolor": "white",
            "showbackground": true,
            "ticks": "",
            "zerolinecolor": "white"
           }
          },
          "shapedefaults": {
           "line": {
            "color": "#2a3f5f"
           }
          },
          "ternary": {
           "aaxis": {
            "gridcolor": "white",
            "linecolor": "white",
            "ticks": ""
           },
           "baxis": {
            "gridcolor": "white",
            "linecolor": "white",
            "ticks": ""
           },
           "bgcolor": "#E5ECF6",
           "caxis": {
            "gridcolor": "white",
            "linecolor": "white",
            "ticks": ""
           }
          },
          "title": {
           "x": 0.05
          },
          "xaxis": {
           "automargin": true,
           "gridcolor": "white",
           "linecolor": "white",
           "ticks": "",
           "title": {
            "standoff": 15
           },
           "zerolinecolor": "white",
           "zerolinewidth": 2
          },
          "yaxis": {
           "automargin": true,
           "gridcolor": "white",
           "linecolor": "white",
           "ticks": "",
           "title": {
            "standoff": 15
           },
           "zerolinecolor": "white",
           "zerolinewidth": 2
          }
         }
        },
        "title": {
         "text": "Modelado 3D de Terreno para Riego"
        }
       }
      }
     },
     "metadata": {},
     "output_type": "display_data"
    }
   ],
   "source": [
    "# Generar modelo 3D interactivo\n",
    "\n",
    "import numpy as np \n",
    "import plotly.graph_objects as go \n",
    "\n",
    "def terreno_3d():\n",
    "    x = np.linspace(-5, 5, 50)\n",
    "    y = np.linspace(-5, 5, 50)\n",
    "    X, Y = np.meshgrid(x, y)\n",
    "    Z = X**2 + Y**2  # Superficie parabólica\n",
    "    \n",
    "    fig = go.Figure(data=[go.Surface(z=Z, colorscale='Earth')])\n",
    "    fig.update_layout(\n",
    "        title='Modelado 3D de Terreno para Riego',\n",
    "        scene=dict(\n",
    "            xaxis_title='Eje X (m)',\n",
    "            yaxis_title='Eje Y (m)',\n",
    "            zaxis_title='Altura (m)'\n",
    "        )\n",
    "    )\n",
    "    fig.write_image(\"terreno_3d.png\")\n",
    "    fig.show()\n",
    "\n",
    "terreno_3d()\n",
    "\n"
   ]
  },
  {
   "cell_type": "markdown",
   "id": "57afe97f",
   "metadata": {},
   "source": [
    "\n",
    "---\n",
    "\n",
    "**Notas Importantes:**  \n",
    "1. Ejecuta los scripts en tu entorno local para generar las imágenes.  \n",
    "2. Asegúrate de tener instaladas todas las dependencias:  \n",
    "```bash\n",
    "pip install numpy matplotlib scipy plotly graphviz\n",
    "```  \n",
    "3. Los gráficos generados se guardarán en el directorio actual como:  \n",
    "   - `trayectorias_riego.png`  \n",
    "   - `optimizacion.png`  \n",
    "   - `terreno_3d.png`  \n",
    "\n",
    "Este proyecto integra conceptos matemáticos con aplicaciones prácticas en agricultura, desarrollando competencias clave en modelado computacional para ingenieros agropecuarios."
   ]
  },
  {
   "cell_type": "markdown",
   "id": "9c7ef292",
   "metadata": {},
   "source": [
    "\n",
    "---\n",
    "\n",
    "### **7. Tareas**  \n",
    "**Ejercicio**:  \n"
   ]
  },
  {
   "cell_type": "code",
   "execution_count": 6,
   "id": "ecdd5baa",
   "metadata": {},
   "outputs": [
    {
     "ename": "FileNotFoundError",
     "evalue": "[Errno 2] No such file or directory: 'datos_riego.csv'",
     "output_type": "error",
     "traceback": [
      "\u001b[1;31m---------------------------------------------------------------------------\u001b[0m",
      "\u001b[1;31mFileNotFoundError\u001b[0m                         Traceback (most recent call last)",
      "Cell \u001b[1;32mIn[6], line 3\u001b[0m\n\u001b[0;32m      1\u001b[0m \u001b[38;5;66;03m# Análisis de datos reales con pandas\u001b[39;00m\n\u001b[0;32m      2\u001b[0m \u001b[38;5;28;01mimport\u001b[39;00m\u001b[38;5;250m \u001b[39m\u001b[38;5;21;01mpandas\u001b[39;00m\u001b[38;5;250m \u001b[39m\u001b[38;5;28;01mas\u001b[39;00m\u001b[38;5;250m \u001b[39m\u001b[38;5;21;01mpd\u001b[39;00m \n\u001b[1;32m----> 3\u001b[0m datos_riego \u001b[38;5;241m=\u001b[39m \u001b[43mpd\u001b[49m\u001b[38;5;241;43m.\u001b[39;49m\u001b[43mread_csv\u001b[49m\u001b[43m(\u001b[49m\u001b[38;5;124;43m'\u001b[39;49m\u001b[38;5;124;43mdatos_riego.csv\u001b[39;49m\u001b[38;5;124;43m'\u001b[39;49m\u001b[43m)\u001b[49m\n\u001b[0;32m      4\u001b[0m sns\u001b[38;5;241m.\u001b[39mregplot(x\u001b[38;5;241m=\u001b[39m\u001b[38;5;124m'\u001b[39m\u001b[38;5;124mpresion\u001b[39m\u001b[38;5;124m'\u001b[39m, y\u001b[38;5;241m=\u001b[39m\u001b[38;5;124m'\u001b[39m\u001b[38;5;124malcance\u001b[39m\u001b[38;5;124m'\u001b[39m, data\u001b[38;5;241m=\u001b[39mdatos_riego, order\u001b[38;5;241m=\u001b[39m\u001b[38;5;241m2\u001b[39m)\n\u001b[0;32m      5\u001b[0m plt\u001b[38;5;241m.\u001b[39mtitle(\u001b[38;5;124m'\u001b[39m\u001b[38;5;124mModelo Parabólico de Alcance de Riego\u001b[39m\u001b[38;5;124m'\u001b[39m)\n",
      "File \u001b[1;32mc:\\Users\\marco\\Documentos\\docencia\\calculo\\.venv\\Lib\\site-packages\\pandas\\io\\parsers\\readers.py:1026\u001b[0m, in \u001b[0;36mread_csv\u001b[1;34m(filepath_or_buffer, sep, delimiter, header, names, index_col, usecols, dtype, engine, converters, true_values, false_values, skipinitialspace, skiprows, skipfooter, nrows, na_values, keep_default_na, na_filter, verbose, skip_blank_lines, parse_dates, infer_datetime_format, keep_date_col, date_parser, date_format, dayfirst, cache_dates, iterator, chunksize, compression, thousands, decimal, lineterminator, quotechar, quoting, doublequote, escapechar, comment, encoding, encoding_errors, dialect, on_bad_lines, delim_whitespace, low_memory, memory_map, float_precision, storage_options, dtype_backend)\u001b[0m\n\u001b[0;32m   1013\u001b[0m kwds_defaults \u001b[38;5;241m=\u001b[39m _refine_defaults_read(\n\u001b[0;32m   1014\u001b[0m     dialect,\n\u001b[0;32m   1015\u001b[0m     delimiter,\n\u001b[1;32m   (...)\u001b[0m\n\u001b[0;32m   1022\u001b[0m     dtype_backend\u001b[38;5;241m=\u001b[39mdtype_backend,\n\u001b[0;32m   1023\u001b[0m )\n\u001b[0;32m   1024\u001b[0m kwds\u001b[38;5;241m.\u001b[39mupdate(kwds_defaults)\n\u001b[1;32m-> 1026\u001b[0m \u001b[38;5;28;01mreturn\u001b[39;00m \u001b[43m_read\u001b[49m\u001b[43m(\u001b[49m\u001b[43mfilepath_or_buffer\u001b[49m\u001b[43m,\u001b[49m\u001b[43m \u001b[49m\u001b[43mkwds\u001b[49m\u001b[43m)\u001b[49m\n",
      "File \u001b[1;32mc:\\Users\\marco\\Documentos\\docencia\\calculo\\.venv\\Lib\\site-packages\\pandas\\io\\parsers\\readers.py:620\u001b[0m, in \u001b[0;36m_read\u001b[1;34m(filepath_or_buffer, kwds)\u001b[0m\n\u001b[0;32m    617\u001b[0m _validate_names(kwds\u001b[38;5;241m.\u001b[39mget(\u001b[38;5;124m\"\u001b[39m\u001b[38;5;124mnames\u001b[39m\u001b[38;5;124m\"\u001b[39m, \u001b[38;5;28;01mNone\u001b[39;00m))\n\u001b[0;32m    619\u001b[0m \u001b[38;5;66;03m# Create the parser.\u001b[39;00m\n\u001b[1;32m--> 620\u001b[0m parser \u001b[38;5;241m=\u001b[39m \u001b[43mTextFileReader\u001b[49m\u001b[43m(\u001b[49m\u001b[43mfilepath_or_buffer\u001b[49m\u001b[43m,\u001b[49m\u001b[43m \u001b[49m\u001b[38;5;241;43m*\u001b[39;49m\u001b[38;5;241;43m*\u001b[39;49m\u001b[43mkwds\u001b[49m\u001b[43m)\u001b[49m\n\u001b[0;32m    622\u001b[0m \u001b[38;5;28;01mif\u001b[39;00m chunksize \u001b[38;5;129;01mor\u001b[39;00m iterator:\n\u001b[0;32m    623\u001b[0m     \u001b[38;5;28;01mreturn\u001b[39;00m parser\n",
      "File \u001b[1;32mc:\\Users\\marco\\Documentos\\docencia\\calculo\\.venv\\Lib\\site-packages\\pandas\\io\\parsers\\readers.py:1620\u001b[0m, in \u001b[0;36mTextFileReader.__init__\u001b[1;34m(self, f, engine, **kwds)\u001b[0m\n\u001b[0;32m   1617\u001b[0m     \u001b[38;5;28mself\u001b[39m\u001b[38;5;241m.\u001b[39moptions[\u001b[38;5;124m\"\u001b[39m\u001b[38;5;124mhas_index_names\u001b[39m\u001b[38;5;124m\"\u001b[39m] \u001b[38;5;241m=\u001b[39m kwds[\u001b[38;5;124m\"\u001b[39m\u001b[38;5;124mhas_index_names\u001b[39m\u001b[38;5;124m\"\u001b[39m]\n\u001b[0;32m   1619\u001b[0m \u001b[38;5;28mself\u001b[39m\u001b[38;5;241m.\u001b[39mhandles: IOHandles \u001b[38;5;241m|\u001b[39m \u001b[38;5;28;01mNone\u001b[39;00m \u001b[38;5;241m=\u001b[39m \u001b[38;5;28;01mNone\u001b[39;00m\n\u001b[1;32m-> 1620\u001b[0m \u001b[38;5;28mself\u001b[39m\u001b[38;5;241m.\u001b[39m_engine \u001b[38;5;241m=\u001b[39m \u001b[38;5;28;43mself\u001b[39;49m\u001b[38;5;241;43m.\u001b[39;49m\u001b[43m_make_engine\u001b[49m\u001b[43m(\u001b[49m\u001b[43mf\u001b[49m\u001b[43m,\u001b[49m\u001b[43m \u001b[49m\u001b[38;5;28;43mself\u001b[39;49m\u001b[38;5;241;43m.\u001b[39;49m\u001b[43mengine\u001b[49m\u001b[43m)\u001b[49m\n",
      "File \u001b[1;32mc:\\Users\\marco\\Documentos\\docencia\\calculo\\.venv\\Lib\\site-packages\\pandas\\io\\parsers\\readers.py:1880\u001b[0m, in \u001b[0;36mTextFileReader._make_engine\u001b[1;34m(self, f, engine)\u001b[0m\n\u001b[0;32m   1878\u001b[0m     \u001b[38;5;28;01mif\u001b[39;00m \u001b[38;5;124m\"\u001b[39m\u001b[38;5;124mb\u001b[39m\u001b[38;5;124m\"\u001b[39m \u001b[38;5;129;01mnot\u001b[39;00m \u001b[38;5;129;01min\u001b[39;00m mode:\n\u001b[0;32m   1879\u001b[0m         mode \u001b[38;5;241m+\u001b[39m\u001b[38;5;241m=\u001b[39m \u001b[38;5;124m\"\u001b[39m\u001b[38;5;124mb\u001b[39m\u001b[38;5;124m\"\u001b[39m\n\u001b[1;32m-> 1880\u001b[0m \u001b[38;5;28mself\u001b[39m\u001b[38;5;241m.\u001b[39mhandles \u001b[38;5;241m=\u001b[39m \u001b[43mget_handle\u001b[49m\u001b[43m(\u001b[49m\n\u001b[0;32m   1881\u001b[0m \u001b[43m    \u001b[49m\u001b[43mf\u001b[49m\u001b[43m,\u001b[49m\n\u001b[0;32m   1882\u001b[0m \u001b[43m    \u001b[49m\u001b[43mmode\u001b[49m\u001b[43m,\u001b[49m\n\u001b[0;32m   1883\u001b[0m \u001b[43m    \u001b[49m\u001b[43mencoding\u001b[49m\u001b[38;5;241;43m=\u001b[39;49m\u001b[38;5;28;43mself\u001b[39;49m\u001b[38;5;241;43m.\u001b[39;49m\u001b[43moptions\u001b[49m\u001b[38;5;241;43m.\u001b[39;49m\u001b[43mget\u001b[49m\u001b[43m(\u001b[49m\u001b[38;5;124;43m\"\u001b[39;49m\u001b[38;5;124;43mencoding\u001b[39;49m\u001b[38;5;124;43m\"\u001b[39;49m\u001b[43m,\u001b[49m\u001b[43m \u001b[49m\u001b[38;5;28;43;01mNone\u001b[39;49;00m\u001b[43m)\u001b[49m\u001b[43m,\u001b[49m\n\u001b[0;32m   1884\u001b[0m \u001b[43m    \u001b[49m\u001b[43mcompression\u001b[49m\u001b[38;5;241;43m=\u001b[39;49m\u001b[38;5;28;43mself\u001b[39;49m\u001b[38;5;241;43m.\u001b[39;49m\u001b[43moptions\u001b[49m\u001b[38;5;241;43m.\u001b[39;49m\u001b[43mget\u001b[49m\u001b[43m(\u001b[49m\u001b[38;5;124;43m\"\u001b[39;49m\u001b[38;5;124;43mcompression\u001b[39;49m\u001b[38;5;124;43m\"\u001b[39;49m\u001b[43m,\u001b[49m\u001b[43m \u001b[49m\u001b[38;5;28;43;01mNone\u001b[39;49;00m\u001b[43m)\u001b[49m\u001b[43m,\u001b[49m\n\u001b[0;32m   1885\u001b[0m \u001b[43m    \u001b[49m\u001b[43mmemory_map\u001b[49m\u001b[38;5;241;43m=\u001b[39;49m\u001b[38;5;28;43mself\u001b[39;49m\u001b[38;5;241;43m.\u001b[39;49m\u001b[43moptions\u001b[49m\u001b[38;5;241;43m.\u001b[39;49m\u001b[43mget\u001b[49m\u001b[43m(\u001b[49m\u001b[38;5;124;43m\"\u001b[39;49m\u001b[38;5;124;43mmemory_map\u001b[39;49m\u001b[38;5;124;43m\"\u001b[39;49m\u001b[43m,\u001b[49m\u001b[43m \u001b[49m\u001b[38;5;28;43;01mFalse\u001b[39;49;00m\u001b[43m)\u001b[49m\u001b[43m,\u001b[49m\n\u001b[0;32m   1886\u001b[0m \u001b[43m    \u001b[49m\u001b[43mis_text\u001b[49m\u001b[38;5;241;43m=\u001b[39;49m\u001b[43mis_text\u001b[49m\u001b[43m,\u001b[49m\n\u001b[0;32m   1887\u001b[0m \u001b[43m    \u001b[49m\u001b[43merrors\u001b[49m\u001b[38;5;241;43m=\u001b[39;49m\u001b[38;5;28;43mself\u001b[39;49m\u001b[38;5;241;43m.\u001b[39;49m\u001b[43moptions\u001b[49m\u001b[38;5;241;43m.\u001b[39;49m\u001b[43mget\u001b[49m\u001b[43m(\u001b[49m\u001b[38;5;124;43m\"\u001b[39;49m\u001b[38;5;124;43mencoding_errors\u001b[39;49m\u001b[38;5;124;43m\"\u001b[39;49m\u001b[43m,\u001b[49m\u001b[43m \u001b[49m\u001b[38;5;124;43m\"\u001b[39;49m\u001b[38;5;124;43mstrict\u001b[39;49m\u001b[38;5;124;43m\"\u001b[39;49m\u001b[43m)\u001b[49m\u001b[43m,\u001b[49m\n\u001b[0;32m   1888\u001b[0m \u001b[43m    \u001b[49m\u001b[43mstorage_options\u001b[49m\u001b[38;5;241;43m=\u001b[39;49m\u001b[38;5;28;43mself\u001b[39;49m\u001b[38;5;241;43m.\u001b[39;49m\u001b[43moptions\u001b[49m\u001b[38;5;241;43m.\u001b[39;49m\u001b[43mget\u001b[49m\u001b[43m(\u001b[49m\u001b[38;5;124;43m\"\u001b[39;49m\u001b[38;5;124;43mstorage_options\u001b[39;49m\u001b[38;5;124;43m\"\u001b[39;49m\u001b[43m,\u001b[49m\u001b[43m \u001b[49m\u001b[38;5;28;43;01mNone\u001b[39;49;00m\u001b[43m)\u001b[49m\u001b[43m,\u001b[49m\n\u001b[0;32m   1889\u001b[0m \u001b[43m\u001b[49m\u001b[43m)\u001b[49m\n\u001b[0;32m   1890\u001b[0m \u001b[38;5;28;01massert\u001b[39;00m \u001b[38;5;28mself\u001b[39m\u001b[38;5;241m.\u001b[39mhandles \u001b[38;5;129;01mis\u001b[39;00m \u001b[38;5;129;01mnot\u001b[39;00m \u001b[38;5;28;01mNone\u001b[39;00m\n\u001b[0;32m   1891\u001b[0m f \u001b[38;5;241m=\u001b[39m \u001b[38;5;28mself\u001b[39m\u001b[38;5;241m.\u001b[39mhandles\u001b[38;5;241m.\u001b[39mhandle\n",
      "File \u001b[1;32mc:\\Users\\marco\\Documentos\\docencia\\calculo\\.venv\\Lib\\site-packages\\pandas\\io\\common.py:873\u001b[0m, in \u001b[0;36mget_handle\u001b[1;34m(path_or_buf, mode, encoding, compression, memory_map, is_text, errors, storage_options)\u001b[0m\n\u001b[0;32m    868\u001b[0m \u001b[38;5;28;01melif\u001b[39;00m \u001b[38;5;28misinstance\u001b[39m(handle, \u001b[38;5;28mstr\u001b[39m):\n\u001b[0;32m    869\u001b[0m     \u001b[38;5;66;03m# Check whether the filename is to be opened in binary mode.\u001b[39;00m\n\u001b[0;32m    870\u001b[0m     \u001b[38;5;66;03m# Binary mode does not support 'encoding' and 'newline'.\u001b[39;00m\n\u001b[0;32m    871\u001b[0m     \u001b[38;5;28;01mif\u001b[39;00m ioargs\u001b[38;5;241m.\u001b[39mencoding \u001b[38;5;129;01mand\u001b[39;00m \u001b[38;5;124m\"\u001b[39m\u001b[38;5;124mb\u001b[39m\u001b[38;5;124m\"\u001b[39m \u001b[38;5;129;01mnot\u001b[39;00m \u001b[38;5;129;01min\u001b[39;00m ioargs\u001b[38;5;241m.\u001b[39mmode:\n\u001b[0;32m    872\u001b[0m         \u001b[38;5;66;03m# Encoding\u001b[39;00m\n\u001b[1;32m--> 873\u001b[0m         handle \u001b[38;5;241m=\u001b[39m \u001b[38;5;28;43mopen\u001b[39;49m\u001b[43m(\u001b[49m\n\u001b[0;32m    874\u001b[0m \u001b[43m            \u001b[49m\u001b[43mhandle\u001b[49m\u001b[43m,\u001b[49m\n\u001b[0;32m    875\u001b[0m \u001b[43m            \u001b[49m\u001b[43mioargs\u001b[49m\u001b[38;5;241;43m.\u001b[39;49m\u001b[43mmode\u001b[49m\u001b[43m,\u001b[49m\n\u001b[0;32m    876\u001b[0m \u001b[43m            \u001b[49m\u001b[43mencoding\u001b[49m\u001b[38;5;241;43m=\u001b[39;49m\u001b[43mioargs\u001b[49m\u001b[38;5;241;43m.\u001b[39;49m\u001b[43mencoding\u001b[49m\u001b[43m,\u001b[49m\n\u001b[0;32m    877\u001b[0m \u001b[43m            \u001b[49m\u001b[43merrors\u001b[49m\u001b[38;5;241;43m=\u001b[39;49m\u001b[43merrors\u001b[49m\u001b[43m,\u001b[49m\n\u001b[0;32m    878\u001b[0m \u001b[43m            \u001b[49m\u001b[43mnewline\u001b[49m\u001b[38;5;241;43m=\u001b[39;49m\u001b[38;5;124;43m\"\u001b[39;49m\u001b[38;5;124;43m\"\u001b[39;49m\u001b[43m,\u001b[49m\n\u001b[0;32m    879\u001b[0m \u001b[43m        \u001b[49m\u001b[43m)\u001b[49m\n\u001b[0;32m    880\u001b[0m     \u001b[38;5;28;01melse\u001b[39;00m:\n\u001b[0;32m    881\u001b[0m         \u001b[38;5;66;03m# Binary mode\u001b[39;00m\n\u001b[0;32m    882\u001b[0m         handle \u001b[38;5;241m=\u001b[39m \u001b[38;5;28mopen\u001b[39m(handle, ioargs\u001b[38;5;241m.\u001b[39mmode)\n",
      "\u001b[1;31mFileNotFoundError\u001b[0m: [Errno 2] No such file or directory: 'datos_riego.csv'"
     ]
    }
   ],
   "source": [
    "# Análisis de datos reales con pandas\n",
    "import pandas as pd \n",
    "datos_riego = pd.read_csv('datos_riego.csv')\n",
    "sns.regplot(x='presion', y='alcance', data=datos_riego, order=2)\n",
    "plt.title('Modelo Parabólico de Alcance de Riego')\n",
    "\n"
   ]
  },
  {
   "cell_type": "markdown",
   "id": "62651821",
   "metadata": {},
   "source": [
    "\n",
    "---\n",
    "\n",
    "### **8. Evaluación**  \n",
    "| **Componente** | **Herramientas Usadas** | **Evaluación** |\n",
    "|----------------|-------------------------|----------------|\n",
    "| Proyecto 1: Optimización de Riego | `scipy`, `matplotlib` | Rúbrica de eficiencia hídrica |\n",
    "| Quiz: Teoría Parabólica | Jupyter Widgets | Automatizado con `nbgrader` |\n",
    "| Parcial: Modelado Integral | `sympy`, `plotly` | Presentación 3D interactiva |\n",
    "\n",
    "---\n",
    "\n",
    "### **9. Retroalimentación**  \n",
    "**Actividad en Jupyter**:  \n"
   ]
  },
  {
   "cell_type": "code",
   "execution_count": 4,
   "id": "c84626eb",
   "metadata": {},
   "outputs": [
    {
     "data": {
      "application/vnd.jupyter.widget-view+json": {
       "model_id": "c25f21d83c3a4ff0a0b93447daad7a5d",
       "version_major": 2,
       "version_minor": 0
      },
      "text/plain": [
       "RadioButtons(options=('Abre la parábola', 'Cierra la parábola'), value='Abre la parábola')"
      ]
     },
     "metadata": {},
     "output_type": "display_data"
    },
    {
     "data": {
      "application/vnd.jupyter.widget-view+json": {
       "model_id": "1ad471e9636c43e4bbb018823c1b6490",
       "version_major": 2,
       "version_minor": 0
      },
      "text/plain": [
       "Output()"
      ]
     },
     "metadata": {},
     "output_type": "display_data"
    }
   ],
   "source": [
    "# Widget interactivo de autoevaluación\n",
    "from ipywidgets import RadioButtons, Output\n",
    "\n",
    "preguntas = {\n",
    "    \"¿Cómo afecta aumentar p en y²=4px?\": ['Abre la parábola', 'Cierra la parábola'],\n",
    "    \"Aplicación clave en agricultura\": ['Riego parabólico', 'Cosecha circular']\n",
    "}\n",
    "\n",
    "def verificar_respuestas(change):\n",
    "    with output:\n",
    "        print(\"Respuestas correctas:\\n1. Abre la parábola\\n2. Riego parabólico\")\n",
    "\n",
    "radio = RadioButtons(options=preguntas[\"¿Cómo afecta aumentar p en y²=4px?\"])\n",
    "output = Output()\n",
    "radio.observe(verificar_respuestas, names='value')\n",
    "display(radio, output)\n",
    "\n"
   ]
  },
  {
   "cell_type": "markdown",
   "id": "952744b0",
   "metadata": {},
   "source": [
    "\n",
    "---\n",
    "\n",
    "### **Recursos Tecnológicos**  \n"
   ]
  },
  {
   "cell_type": "markdown",
   "id": "8dac1f2a",
   "metadata": {},
   "source": [
    "- **Plantillas de Código**: Notebooks Jupyter preconfigurados con celdas interactivas\n",
    "- **Dataset Público**: [FAO Water Reports](https://www.fao.org/aquastat) para análisis reales\n",
    "- **Visualización 3D**: `plotly.graph_objects` para modelado de superficies parabólicas en terrenos agrícolas\n"
   ]
  },
  {
   "cell_type": "markdown",
   "id": "1eff269d",
   "metadata": {},
   "source": [
    "\n",
    "Este diseño integra cálculo multivariable con aplicaciones prácticas en ingeniería agrícola, utilizando herramientas modernas de análisis numérico y visualización científica."
   ]
  },
  {
   "cell_type": "code",
   "execution_count": 2,
   "id": "9b184101",
   "metadata": {},
   "outputs": [],
   "source": [
    "def save_fig(nombre_archivo_imagen):\n",
    "    ubicacion_para_imagenes = r\"C:/Users/marco/Documentos/docencia/calculo/classes/3_calculo/6_analisis_numerico/1_ceros_funciones/images\"\n",
    "    imagen_path = os.path.join(ubicacion_para_imagenes, nombre_archivo_imagen)\n",
    "    plt.savefig(imagen_path, bbox_inches='tight')"
   ]
  },
  {
   "cell_type": "markdown",
   "id": "a8a30026",
   "metadata": {},
   "source": [
    "# Implementación de esta estructura de clase  \n",
    "\n"
   ]
  },
  {
   "cell_type": "markdown",
   "id": "385be177",
   "metadata": {},
   "source": [
    "Aquí tienes un diseño de clase integrando los enfoques STEAMS y ABPP, con implementación práctica en Python:\n",
    "\n",
    "---\n",
    "\n",
    "### **1. Título de la clase**  \n",
    "\"**Parábolas en la Ingeniería Agropecuaria: Modelando Fenómenos Naturales y Tecnológicos**\"\n",
    "\n",
    "---\n",
    "\n",
    "### **2. Objetivos de Aprendizaje e Indicadores**  \n",
    "| **Objetivos** | **Indicadores de Logro** |\n",
    "|---------------|--------------------------|\n",
    "| 1. Comprender la parábola como sección cónica y su relación con fenómenos agropecuarios | - Derivan ecuaciones canónicas desde definiciones geométricas<br>- Simulan variaciones paramétricas en Jupyter |\n",
    "| 2. Analizar el efecto de la distancia focal en sistemas agrícolas | - Crean visualizaciones interactivas con `ipywidgets`<br>- Relacionan parámetros matemáticos con variables físicas |\n",
    "| 3. Aplicar modelos parabólicos en diseño de sistemas de riego y comunicaciones | - Desarrollan prototipos computacionales con `scipy`<br>- Optimizan parámetros usando `sympy` |\n",
    "\n",
    "---\n",
    "\n",
    "### **3. Mapa Conceptual en Graphviz**  \n",
    "```python\n",
    "from graphviz import Digraph\n",
    "\n",
    "dot = Digraph(comment='Mapa Parábola', \n",
    "              format='png',\n",
    "              engine='neato',\n",
    "              graph_attr={'rankdir':'TB'},\n",
    "              node_attr={'style':'filled', 'fontname':'Helvetica'})\n",
    "\n",
    "# Nodos principales\n",
    "dot.node('A', 'Secciones Cónicas', shape='ellipse', color='#4B0082', fillcolor='#E6E6FA')\n",
    "dot.node('B', 'Parábola', shape='doubleoctagon', color='#8B0000', fillcolor='#FFB6C1')\n",
    "dot.node('C', 'Aplicaciones Agropecuarias', shape='component', color='#006400', fillcolor='#90EE90')\n",
    "\n",
    "# Subnodos parábola\n",
    "dot.node('D', 'Ecuación Canónica:\\n$y^2 = 4px$', shape='note', color='#8B4513', fillcolor='#F5DEB3')\n",
    "dot.node('E', 'Propiedades Focales', shape='tab', color='#4B0082', fillcolor='#E0B0FF')\n",
    "dot.node('F', 'Optimización con Cálculo', shape='folder', color='#2F4F4F', fillcolor='#AFEEEE')\n",
    "\n",
    "# Conexiones\n",
    "dot.edges(['AB', 'BC', 'BD', 'BE', 'BF', 'CF'])\n",
    "dot.edge('C', 'F', label='Relación', style='dashed')\n",
    "\n",
    "# Renderizar y guardar\n",
    "dot.render(directory=r'C:\\Users\\marco\\Documentos\\docencia\\calculo\\classes\\3_calculo\\5_calculo_vectorial\\1_cap_10\\1_class_conicas\\images\\mapa_parabola', \n",
    "          view=True)\n",
    "```\n",
    "\n",
    "---\n",
    "\n",
    "### **4. Contenido Adaptado a Ingeniería Agropecuaria**  \n",
    "**a. Definición Geométrica**  \n",
    "```python\n",
    "# En Jupyter: Visualización interactiva\n",
    "import matplotlib.pyplot as plt\n",
    "import numpy as np\n",
    "from ipywidgets import interact\n",
    "\n",
    "def plot_parabola(foco=2):\n",
    "    x = np.linspace(-10, 10, 400)\n",
    "    y = np.sqrt(4*foco*x)\n",
    "    plt.figure(figsize=(8,6))\n",
    "    plt.plot(x, y, 'g-', label='Parábola')\n",
    "    plt.scatter([foco], [0], c='red', label='Foco')\n",
    "    plt.axvline(-foco, color='blue', label='Directriz')\n",
    "    plt.title(f'Parábola: $y^2 = {4*foco}x$')\n",
    "    plt.legend()\n",
    "    plt.grid(True)\n",
    "    plt.show()\n",
    "\n",
    "interact(plot_parabola, foco=(1, 5))\n",
    "```\n",
    "\n",
    "**b. Variación de la Distancia Focal**  \n",
    "```python\n",
    "# Análisis con pandas y visualización\n",
    "import pandas as pd\n",
    "\n",
    "focos = np.arange(1, 6)\n",
    "datos = pd.DataFrame({\n",
    "    'Foco': focos,\n",
    "    'Apertura': 1/(4*focos),\n",
    "    'Curvatura': np.sqrt(focos)\n",
    "})\n",
    "\n",
    "sns.lineplot(data=datos, x='Foco', y='Curvatura', marker='o')\n",
    "plt.title('Relación Foco-Curvatura en Parábolas')\n",
    "```\n",
    "\n",
    "**c. Aplicaciones Agrícolas**  \n",
    "- **Riego Parabólico**: Simulación de trayectorias de agua con `scipy.integrate`\n",
    "- **Antenas para Comunicaciones Rurales**: Optimización de parámetros con `sympy`\n",
    "\n",
    "---\n",
    "\n",
    "### **5. Elementos Epistemológicos**  \n",
    "- **Histórico**: Estudio de Apolonio de Perga (200 a.C.) y su aplicación por Galileo en trayectorias parabólicas\n",
    "- **Agropecuario**: Uso moderno en sistemas de riego por aspersión y diseño de invernaderos\n",
    "\n",
    "---\n",
    "\n",
    "### **6. Actividades de Aprendizaje ABPP**  \n",
    "**Proyecto 1**:  \n",
    "```python\n",
    "# Modelado de sistema de riego\n",
    "from scipy.optimize import minimize\n",
    "\n",
    "def perdida_agua(params):\n",
    "    p, angulo = params\n",
    "    return (4*p*np.tan(angulo) - 15)**2  # Función a minimizar\n",
    "\n",
    "resultado = minimize(perdida_agua, [2, np.pi/4))\n",
    "print(f\"Parámetros óptimos: p={resultado.x[0]:.2f}, ángulo={np.degrees(resultado.x[1]):.2f}°\")\n",
    "```\n",
    "\n",
    "---\n",
    "\n",
    "### **7. Tareas**  \n",
    "**Ejercicio**:  \n",
    "```python\n",
    "# Análisis de datos reales con pandas\n",
    "datos_riego = pd.read_csv('datos_riego.csv')\n",
    "sns.regplot(x='presion', y='alcance', data=datos_riego, order=2)\n",
    "plt.title('Modelo Parabólico de Alcance de Riego')\n",
    "```\n",
    "\n",
    "---\n",
    "\n",
    "### **8. Evaluación**  \n",
    "| **Componente** | **Herramientas Usadas** | **Evaluación** |\n",
    "|----------------|-------------------------|----------------|\n",
    "| Proyecto 1: Optimización de Riego | `scipy`, `matplotlib` | Rúbrica de eficiencia hídrica |\n",
    "| Quiz: Teoría Parabólica | Jupyter Widgets | Automatizado con `nbgrader` |\n",
    "| Parcial: Modelado Integral | `sympy`, `plotly` | Presentación 3D interactiva |\n",
    "\n",
    "---\n",
    "\n",
    "### **9. Retroalimentación**  \n",
    "**Actividad en Jupyter**:  \n",
    "```python\n",
    "# Widget interactivo de autoevaluación\n",
    "from ipywidgets import RadioButtons, Output\n",
    "\n",
    "preguntas = {\n",
    "    \"¿Cómo afecta aumentar p en y²=4px?\": ['Abre la parábola', 'Cierra la parábola'],\n",
    "    \"Aplicación clave en agricultura\": ['Riego parabólico', 'Cosecha circular']\n",
    "}\n",
    "\n",
    "def verificar_respuestas(change):\n",
    "    with output:\n",
    "        print(\"Respuestas correctas:\\n1. Abre la parábola\\n2. Riego parabólico\")\n",
    "\n",
    "radio = RadioButtons(options=preguntas[\"¿Cómo afecta aumentar p en y²=4px?\"])\n",
    "output = Output()\n",
    "radio.observe(verificar_respuestas, names='value')\n",
    "display(radio, output)\n",
    "```\n",
    "\n",
    "---\n",
    "\n",
    "### **Recursos Tecnológicos**  \n",
    "- **Plantillas de Código**: Notebooks Jupyter preconfigurados con celdas interactivas\n",
    "- **Dataset Público**: [FAO Water Reports](https://www.fao.org/aquastat) para análisis reales\n",
    "- **Visualización 3D**: `plotly.graph_objects` para modelado de superficies parabólicas en terrenos agrícolas\n",
    "\n",
    "Este diseño integra cálculo multivariable con aplicaciones prácticas en ingeniería agrícola, utilizando herramientas modernas de análisis numérico y visualización científica."
   ]
  },
  {
   "cell_type": "markdown",
   "id": "239427f7",
   "metadata": {},
   "source": [
    "# ARTÍCULO 1. Definir el calendario académico para los diferentes programas de pregrado de los campus\n",
    "regionalizados, correspondiente al primer periodo académico del año 2025, así:\n",
    "* Oferta 28 de enero de 2025\n",
    "* Matrícula 30 de enero de 2025\n",
    "* Ajustes 03 al 10 de febrero de 2025\n",
    "* Inicio de clases 10 de febrero de 2025\n",
    "* Límite evaluación del 40% 06 de abril de 2025\n",
    "* Terminación de clases 08 de junio de 2025\n",
    "* Exámenes finales 09 al 15 de junio de 2025\n",
    "* Habilitación y validación 16 al 22 de junio de 2025\n",
    "* Terminación oficial 23 de junio de 2025"
   ]
  },
  {
   "cell_type": "code",
   "execution_count": null,
   "id": "ec048afb",
   "metadata": {},
   "outputs": [],
   "source": []
  },
  {
   "cell_type": "code",
   "execution_count": null,
   "id": "c804f8d3",
   "metadata": {},
   "outputs": [],
   "source": []
  },
  {
   "cell_type": "code",
   "execution_count": null,
   "id": "cc539357",
   "metadata": {},
   "outputs": [],
   "source": []
  },
  {
   "cell_type": "markdown",
   "id": "740f3401",
   "metadata": {
    "slideshow": {
     "slide_type": "slide"
    }
   },
   "source": [
    "# Componente de manejo de calculadora Casio asociado al objetivo de aprendizaje de esta clase  \n",
    "\n",
    "## Pasos para lograr el objetivo de aprendizaje con la experimentación en la calculadora Casio 991LA cw  "
   ]
  },
  {
   "cell_type": "markdown",
   "id": "8ba64aed",
   "metadata": {},
   "source": [
    "# Cursos que orienta el profesor Marco Julio Cañas Campillo en 2025  \n",
    "\n",
    "1. Práctica Pedagógica V para Licenciatura en Educación Infantil\n",
    "2. Fundamentos de Lógica para Licenciatura en Matemáticas \n",
    "3. Análisis Numérico para Licenciatura en Matemáticas. \n",
    "4. Cálculo Vectorial para Ingeniería Agropecuaria"
   ]
  },
  {
   "cell_type": "markdown",
   "id": "8d41fe58",
   "metadata": {
    "slideshow": {
     "slide_type": "slide"
    }
   },
   "source": [
    "# Horario de clases del profesor Marco\n",
    "\n",
    "* Lunes 8-12: Cálculo Vectorial\n",
    "* Martes 8-12 M: Fundamentos de Aritmética. \n",
    "* Miércoles 8 a 12 M: Fundamentos de la Lógica\n",
    "* Jueves 2 a 6 PM: Desarrollo del pensamiento matemático en la infancia. \n",
    "* Viernes 8 - 12 M: Desarrollo del pensamiento matemático en la infancia. \n",
    "* Sábados 8-12 Asesorías y espacio para retroalimentación y apoyo al trabajo independiente. "
   ]
  },
  {
   "cell_type": "markdown",
   "id": "ae114e14",
   "metadata": {
    "slideshow": {
     "slide_type": "slide"
    }
   },
   "source": [
    "# Horarios de monitoría y asesoría  \n",
    "\n",
    "Coordinador de los cursos de la Facultad de Educación para regiones:    \n",
    "\n",
    "Andrés Vélez: regioneducacion.fedu@udea.edu.co  \n",
    "Coordinador Regiones  \n",
    "Facultad de Educación  \n",
    "Universidad de Antioquia  "
   ]
  },
  {
   "cell_type": "markdown",
   "id": "b1db4b6c",
   "metadata": {
    "slideshow": {
     "slide_type": "slide"
    }
   },
   "source": [
    "## Monitores presenciales   \n",
    "\n",
    "* Manuel San Juan Serrano:  Contactar escribiendo al correo: manuel.serrano1@udea.edu.co\n",
    "* Yeifry Sebastián Uribe: Contactar escribiendo al correo: yeifry.uribe@udea.edu.co"
   ]
  },
  {
   "cell_type": "markdown",
   "id": "39559692",
   "metadata": {
    "slideshow": {
     "slide_type": "slide"
    }
   },
   "source": [
    "Martes y jueves de 8 - 12  \n",
    "Miércoles 10 - 12 y de 2 a 4 PM  \n",
    "Sábado: 8 - 12"
   ]
  },
  {
   "cell_type": "markdown",
   "id": "10bce0d0",
   "metadata": {
    "slideshow": {
     "slide_type": "slide"
    }
   },
   "source": [
    "## Referentes "
   ]
  },
  {
   "cell_type": "markdown",
   "id": "1db3c468",
   "metadata": {
    "slideshow": {
     "slide_type": "slide"
    }
   },
   "source": [
    "* [CALCULO I DE UNA VARIABLE Ron Larson-Bruce Edwards. Mc Graw Hill. 9º Edición](https://www.academia.edu/42139251/CALCULO_I_DE_UNA_VARIABLE_Ron_Larson_Bruce_Edwards_Mc_Graw_Hill_9o_Edici%C3%B3n)   \n",
    "  \n",
    "\n",
    "* [Grajales Vanegas, L. M., Restrepo Estrada, C. E., Restrepo Ochoa, S. I., & Ruíz De Villalba, F. (2015). Matemáticas I para las ciencias económicas.](https://bibliotecadigital.udea.edu.co/handle/10495/3010)\n",
    "  \n",
    "* R. Duval y Semiosis y pensamiento humano, 2.ª ed. Cali, Colombia: Programa Editorial Universidad del Valle, 2017. [En línea]. Disponible en: https://programaeditorial.univalle.edu.co/gpd-semiosis-y-pensamiento-humano-9789587655278-63324cdb0f6b3.html\n",
    "\n",
    "* [Aylwin, C. U. (2011). Lógica, conjuntos y números. Universidad de los Andes, Consejo de Publicaciones, Colección: Ciencias Básicas, Serie: Matemáticas.](chrome-extension://efaidnbmnnnibpcajpcglclefindmkaj/https://www.u-cursos.cl/ciencias/2011/1/MC110/1/material_docente/bajar?id_material=574722)\n",
    "  \n",
    "* [Chollet, F. (2021). Deep learning with Python. Simon and Schuster.](chrome-extension://efaidnbmnnnibpcajpcglclefindmkaj/https://tanthiamhuat.wordpress.com/wp-content/uploads/2018/03/deeplearningwithpython.pdf)  \n",
    "  \n",
    "* [Watson, S., Stewart, J., & Redlin, L. (2009). Precálculo. Matemáticas para el cálculo.](https://github.com/marco-canas/calculo/blob/main/referents/1_precalculo_stewart/stewart_precalculo.pdf)  \n",
    "\n",
    "* [Purcell, E. J., Varberg, D., & Rigdon, S. E. (2007). Cálculo diferencial e integral. Pearson Educación.](https://github.com/marco-canas/calculo/blob/main/referents/purcell/purcell_calculo.pdf)\n",
    "\n",
    "  \n",
    "\n",
    "* [stewart cálculo](https://udeaeduco-my.sharepoint.com/:b:/g/personal/marco_canas_udea_edu_co/EZgXZjAp8QxPqOAim2hs6LcBNPLGjSHf-xwYnUVYkwa04w?e=RZdTCy)  \n",
    "\n",
    "\n",
    "\n",
    "\n",
    "\n",
    "* [Recomendación de la UNESCO sobre ciencia abierta](https://unesdoc.unesco.org/ark:/48223/pf0000379949_spa)\n",
    "\n",
    "* [chatGPT](https://openai.com/blog/chatgpt)  \n",
    "\n",
    "* [Géron, A. (2017). Hands-on machine learning with scikit-learn and tensorflow: Concepts. Tools, and Techniques to build intelligent systems.](chrome-extension://efaidnbmnnnibpcajpcglclefindmkaj/http://14.139.161.31/OddSem-0822-1122/Hands-On_Machine_Learning_with_Scikit-Learn-Keras-and-TensorFlow-2nd-Edition-Aurelien-Geron.pdf)   \n"
   ]
  },
  {
   "cell_type": "markdown",
   "id": "df925560",
   "metadata": {},
   "source": [
    "\n",
    "* [McKinney, W. (2012). Python for data analysis: Data wrangling with Pandas, NumPy, and IPython. \" O'Reilly Media, Inc.\".](https://wesmckinney.com/book/) "
   ]
  },
  {
   "cell_type": "markdown",
   "id": "8e65d6f9",
   "metadata": {},
   "source": [
    "# Como estudiante, encuentro que...   \n",
    "\n",
    "F: Mis Fortalezas son:     \n",
    "O: Mis Oportunidades son:    \n",
    "D: Mis Debilidades son:    \n",
    "A: Lo que Amenazas mi aprendizaje es:  "
   ]
  },
  {
   "cell_type": "markdown",
   "id": "6b9e56a8",
   "metadata": {
    "slideshow": {
     "slide_type": "slide"
    }
   },
   "source": [
    "### [Evaluamos al profesor Marco Cañas Aquí](https://forms.office.com/Pages/ResponsePage.aspx?id=IefhmYRxjkmK_7KtTlPBwkanXIs1i1FEujpsZgO6dXpUREJPV1kxUk1JV1ozTFJIQVNIQjY5WEY3US4u)"
   ]
  },
  {
   "cell_type": "markdown",
   "id": "10f43536",
   "metadata": {
    "slideshow": {
     "slide_type": "slide"
    }
   },
   "source": [
    "### Continue su aprendizaje en la siguiente clase a través del siguiente [vínculo]()"
   ]
  },
  {
   "cell_type": "markdown",
   "id": "53cc9115",
   "metadata": {
    "slideshow": {
     "slide_type": "slide"
    }
   },
   "source": [
    "## Agradecimientos  \n",
    "\n",
    "Doy gracias a Dios por la vida de mi Hijo Joseph Cañas Osorio y la madurez que ha alcanzado. Este hijo me enorgullece y me hace falta abrazarlo cada día. \n",
    "\n",
    "Y a mi esposa Yasmira Emperatriz Barboza Mogollón por su apoyo, orientación y acompañamiento. "
   ]
  },
  {
   "cell_type": "markdown",
   "id": "b6ba1c23",
   "metadata": {},
   "source": [
    "# Apéndice sobre calendarios y coordinaciones \n",
    "\n",
    "A continuación le envío el horario de la asignatura Cálculo Vectorial  \n",
    "\n",
    "Días:  \n",
    "Lunes - Hora: 7:00 a 12:00M  \n",
    "Fechas:  \n",
    "Febrero: 10-17-24                                          \n",
    " Marzo: 3-10-17-31                                                  \n",
    "Abril:7-21-28                                                   \n",
    "Mayo:5-12-19  \n",
    "\n",
    "Agradezco su apoyo, y si presenta alguna dificultad puede contactarme.  \n",
    "\n",
    "Cordialmente,  \n",
    "Juan Felipe Rivera Hernández  \n",
    "Contacto: 3106314300  "
   ]
  },
  {
   "cell_type": "markdown",
   "id": "0e66cd7c",
   "metadata": {},
   "source": [
    "# Clase de análisis numérico los Martes de 8 a 12 del medio día. "
   ]
  },
  {
   "cell_type": "markdown",
   "id": "c5ff61b1",
   "metadata": {},
   "source": []
  }
 ],
 "metadata": {
  "celltoolbar": "Slideshow",
  "kernelspec": {
   "display_name": ".venv",
   "language": "python",
   "name": "python3"
  },
  "language_info": {
   "codemirror_mode": {
    "name": "ipython",
    "version": 3
   },
   "file_extension": ".py",
   "mimetype": "text/x-python",
   "name": "python",
   "nbconvert_exporter": "python",
   "pygments_lexer": "ipython3",
   "version": "3.12.6"
  },
  "rise": {
   "enable_chalkboard": true,
   "theme": "sky",
   "transition": "zoom"
  }
 },
 "nbformat": 4,
 "nbformat_minor": 5
}
